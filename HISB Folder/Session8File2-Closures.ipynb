{
 "cells": [
  {
   "cell_type": "markdown",
   "id": "024e5c0e",
   "metadata": {},
   "source": [
    "# Function Copy"
   ]
  },
  {
   "cell_type": "code",
   "execution_count": 1,
   "id": "752d1d80",
   "metadata": {},
   "outputs": [],
   "source": [
    "def welcome():\n",
    "    print(\"Welcome to my channel\")"
   ]
  },
  {
   "cell_type": "code",
   "execution_count": 2,
   "id": "fdf24f77",
   "metadata": {},
   "outputs": [
    {
     "name": "stdout",
     "output_type": "stream",
     "text": [
      "Welcome to my channel\n"
     ]
    }
   ],
   "source": [
    "welcome()"
   ]
  },
  {
   "cell_type": "code",
   "execution_count": 3,
   "id": "7deee270",
   "metadata": {},
   "outputs": [
    {
     "name": "stdout",
     "output_type": "stream",
     "text": [
      "Welcome to my channel\n"
     ]
    }
   ],
   "source": [
    "well = welcome()"
   ]
  },
  {
   "cell_type": "code",
   "execution_count": 4,
   "id": "a06c0928",
   "metadata": {},
   "outputs": [
    {
     "name": "stdout",
     "output_type": "stream",
     "text": [
      "None\n"
     ]
    }
   ],
   "source": [
    "print(well)"
   ]
  },
  {
   "cell_type": "code",
   "execution_count": 5,
   "id": "422b9975",
   "metadata": {},
   "outputs": [],
   "source": [
    "def welcome():\n",
    "    return \"Welcome to my channel\""
   ]
  },
  {
   "cell_type": "code",
   "execution_count": 6,
   "id": "0ce84b85",
   "metadata": {},
   "outputs": [],
   "source": [
    "well =welcome()"
   ]
  },
  {
   "cell_type": "code",
   "execution_count": 7,
   "id": "7d396307",
   "metadata": {},
   "outputs": [
    {
     "name": "stdout",
     "output_type": "stream",
     "text": [
      "Welcome to my channel\n"
     ]
    }
   ],
   "source": [
    "print(well)"
   ]
  },
  {
   "cell_type": "code",
   "execution_count": 8,
   "id": "0365e2dc",
   "metadata": {},
   "outputs": [
    {
     "data": {
      "text/plain": [
       "'Welcome to my channel'"
      ]
     },
     "execution_count": 8,
     "metadata": {},
     "output_type": "execute_result"
    }
   ],
   "source": [
    "well"
   ]
  },
  {
   "cell_type": "code",
   "execution_count": 9,
   "id": "b4b08a46",
   "metadata": {},
   "outputs": [
    {
     "data": {
      "text/plain": [
       "str"
      ]
     },
     "execution_count": 9,
     "metadata": {},
     "output_type": "execute_result"
    }
   ],
   "source": [
    "type(well)"
   ]
  },
  {
   "cell_type": "code",
   "execution_count": 10,
   "id": "f0ce02e0",
   "metadata": {},
   "outputs": [],
   "source": [
    "del welcome"
   ]
  },
  {
   "cell_type": "code",
   "execution_count": 11,
   "id": "9b489194",
   "metadata": {},
   "outputs": [
    {
     "ename": "NameError",
     "evalue": "name 'welcome' is not defined",
     "output_type": "error",
     "traceback": [
      "\u001b[1;31m---------------------------------------------------------------------------\u001b[0m",
      "\u001b[1;31mNameError\u001b[0m                                 Traceback (most recent call last)",
      "\u001b[1;32m<ipython-input-11-a401d7101853>\u001b[0m in \u001b[0;36m<module>\u001b[1;34m\u001b[0m\n\u001b[1;32m----> 1\u001b[1;33m \u001b[0mwelcome\u001b[0m\u001b[1;33m(\u001b[0m\u001b[1;33m)\u001b[0m\u001b[1;33m\u001b[0m\u001b[1;33m\u001b[0m\u001b[0m\n\u001b[0m",
      "\u001b[1;31mNameError\u001b[0m: name 'welcome' is not defined"
     ]
    }
   ],
   "source": [
    "welcome()"
   ]
  },
  {
   "cell_type": "code",
   "execution_count": 12,
   "id": "286bfb3a",
   "metadata": {},
   "outputs": [
    {
     "data": {
      "text/plain": [
       "'Welcome to my channel'"
      ]
     },
     "execution_count": 12,
     "metadata": {},
     "output_type": "execute_result"
    }
   ],
   "source": [
    "well"
   ]
  },
  {
   "cell_type": "markdown",
   "id": "c9b1c2cd",
   "metadata": {},
   "source": [
    "# Closures\n",
    "- function inside a function is called a closure function"
   ]
  },
  {
   "cell_type": "code",
   "execution_count": 17,
   "id": "addb3244",
   "metadata": {},
   "outputs": [],
   "source": [
    "def grandparent(msg):\n",
    "    print(\"I am grandparent\")\n",
    "    def parent():\n",
    "        \n",
    "        def child():\n",
    "            \n",
    "            print(\"Welcome to child\")\n",
    "            print(msg)                 \n",
    "        \n",
    "        return child()\n",
    "    return parent()\n",
    "    "
   ]
  },
  {
   "cell_type": "code",
   "execution_count": 18,
   "id": "fa825326",
   "metadata": {},
   "outputs": [
    {
     "name": "stdout",
     "output_type": "stream",
     "text": [
      "Welcome to child\n",
      "Hello Everyone\n"
     ]
    }
   ],
   "source": [
    "grandparent(\"Hello Everyone\")"
   ]
  },
  {
   "cell_type": "code",
   "execution_count": 25,
   "id": "17c85173",
   "metadata": {},
   "outputs": [],
   "source": [
    "def parent(func):    \n",
    "    def child():\n",
    "        print(\"Welcome\")\n",
    "        print(func(\"China\"))\n",
    "        print(\"Please come in\")\n",
    "    return child()"
   ]
  },
  {
   "cell_type": "code",
   "execution_count": 29,
   "id": "8c433645",
   "metadata": {},
   "outputs": [
    {
     "name": "stdout",
     "output_type": "stream",
     "text": [
      "Welcome\n",
      "CHINA\n",
      "Please come in\n"
     ]
    }
   ],
   "source": [
    "\n",
    "# parent(print)\n",
    "parent(case_change)"
   ]
  },
  {
   "cell_type": "code",
   "execution_count": 27,
   "id": "7d8a632f",
   "metadata": {},
   "outputs": [],
   "source": [
    "def case_change(char):\n",
    "    return char.upper()"
   ]
  },
  {
   "cell_type": "code",
   "execution_count": 32,
   "id": "5acef86e",
   "metadata": {},
   "outputs": [],
   "source": [
    "def city_name():\n",
    "    print(\"This is Karachi\")"
   ]
  },
  {
   "cell_type": "code",
   "execution_count": 33,
   "id": "801e506c",
   "metadata": {},
   "outputs": [],
   "source": [
    "def parent(func):    \n",
    "    def child():\n",
    "        print(\"Welcome\")\n",
    "        func()\n",
    "        print(\"Please come in\")\n",
    "    return child()"
   ]
  },
  {
   "cell_type": "code",
   "execution_count": 34,
   "id": "5aa1b4d7",
   "metadata": {},
   "outputs": [
    {
     "name": "stdout",
     "output_type": "stream",
     "text": [
      "Welcome\n",
      "This is Karachi\n",
      "Please come in\n"
     ]
    }
   ],
   "source": [
    "parent(city_name)"
   ]
  },
  {
   "cell_type": "markdown",
   "id": "84be8eed",
   "metadata": {},
   "source": [
    "# Decorators"
   ]
  },
  {
   "cell_type": "code",
   "execution_count": 36,
   "id": "274c3ecd",
   "metadata": {},
   "outputs": [],
   "source": [
    "def profile_fetcher(func):#profilebuilder\n",
    "    \n",
    "    name = \"nasir\"\n",
    "    clas = \"Navy\"\n",
    "    \n",
    "    profile=func(n=name, c=clas)\n",
    "    \n",
    "    print(profile)"
   ]
  },
  {
   "cell_type": "code",
   "execution_count": 42,
   "id": "a9225009",
   "metadata": {},
   "outputs": [
    {
     "name": "stdout",
     "output_type": "stream",
     "text": [
      "{'a': 10, 'b': 20}\n"
     ]
    }
   ],
   "source": [
    "def xyz(**arg):\n",
    "    print(arg)\n",
    "xyz(a=10,b=20)"
   ]
  },
  {
   "cell_type": "code",
   "execution_count": 44,
   "id": "98b7f71f",
   "metadata": {},
   "outputs": [
    {
     "name": "stdout",
     "output_type": "stream",
     "text": [
      "{'n': 'nasir', 'c': 'Navy'}\n"
     ]
    }
   ],
   "source": [
    "@profile_fetcher\n",
    "def profile_builder(**details):\n",
    "    \n",
    "#     profile ={}\n",
    "    \n",
    "#     for k,v in details.items():\n",
    "#         profile[k] = v\n",
    "    \n",
    "    return details     "
   ]
  },
  {
   "cell_type": "code",
   "execution_count": 45,
   "id": "bd544008",
   "metadata": {},
   "outputs": [],
   "source": [
    "def mydeco(func):\n",
    "    name = input(\"Enter a name\")\n",
    "    invite = func(name)\n",
    "    print(invite)"
   ]
  },
  {
   "cell_type": "code",
   "execution_count": 46,
   "id": "ca67bfea",
   "metadata": {},
   "outputs": [
    {
     "name": "stdout",
     "output_type": "stream",
     "text": [
      "Enter a nameNasir\n",
      "welcome Nasir\n"
     ]
    }
   ],
   "source": [
    "@mydeco\n",
    "def greetings(guest_name):\n",
    "    return f\"welcome {guest_name}\""
   ]
  },
  {
   "cell_type": "markdown",
   "id": "e3c25ef8",
   "metadata": {},
   "source": [
    "# Iterators"
   ]
  },
  {
   "cell_type": "code",
   "execution_count": 47,
   "id": "9df64fef",
   "metadata": {},
   "outputs": [
    {
     "name": "stdout",
     "output_type": "stream",
     "text": [
      "22\n",
      "33\n",
      "44\n",
      "55\n",
      "66\n"
     ]
    }
   ],
   "source": [
    "lst = [22,33,44,55,66]\n",
    "#  list is a collection of elements\n",
    "# since we can iterate every element of the list that why we call list as iterable\n",
    "for a in lst:\n",
    "    print(a)\n",
    "# for loop is an iterator "
   ]
  },
  {
   "cell_type": "code",
   "execution_count": 60,
   "id": "6f2f04f2",
   "metadata": {},
   "outputs": [
    {
     "data": {
      "text/plain": [
       "tuple_iterator"
      ]
     },
     "execution_count": 60,
     "metadata": {},
     "output_type": "execute_result"
    }
   ],
   "source": [
    "#We can create an iterator by using \"iter()\"\n",
    "tple = (1,2,3,4,5,6)\n",
    "my_iterator = iter(tple)\n",
    "type(my_iterator)"
   ]
  },
  {
   "cell_type": "code",
   "execution_count": 57,
   "id": "b70b823a",
   "metadata": {},
   "outputs": [
    {
     "ename": "StopIteration",
     "evalue": "",
     "output_type": "error",
     "traceback": [
      "\u001b[1;31m---------------------------------------------------------------------------\u001b[0m",
      "\u001b[1;31mStopIteration\u001b[0m                             Traceback (most recent call last)",
      "\u001b[1;32m<ipython-input-57-26be35a80dc3>\u001b[0m in \u001b[0;36m<module>\u001b[1;34m\u001b[0m\n\u001b[1;32m----> 1\u001b[1;33m \u001b[0mnext\u001b[0m\u001b[1;33m(\u001b[0m\u001b[0mmy_iterator\u001b[0m\u001b[1;33m)\u001b[0m\u001b[1;33m\u001b[0m\u001b[1;33m\u001b[0m\u001b[0m\n\u001b[0m",
      "\u001b[1;31mStopIteration\u001b[0m: "
     ]
    }
   ],
   "source": [
    "next(my_iterator)"
   ]
  },
  {
   "cell_type": "code",
   "execution_count": 67,
   "id": "9676a72d",
   "metadata": {},
   "outputs": [
    {
     "name": "stdout",
     "output_type": "stream",
     "text": [
      "iterable is empty now\n"
     ]
    }
   ],
   "source": [
    "try:\n",
    "    print(next(my_iterator))\n",
    "except StopIteration: \n",
    "    print(\"iterable is empty now\")"
   ]
  },
  {
   "cell_type": "markdown",
   "id": "9e02876f",
   "metadata": {},
   "source": [
    "# Generator\n",
    "we will create a iterator using generator technique"
   ]
  },
  {
   "cell_type": "code",
   "execution_count": null,
   "id": "42c654e6",
   "metadata": {},
   "outputs": [],
   "source": [
    "def square_numbers(nums):\n",
    "    result = []\n",
    "    \n",
    "    for i in nums:\n",
    "        if i%2==0:\n",
    "            result.append(i*i)\n",
    "    return result\n",
    "\n",
    "my_nums = square_numbers([a for a in range(1000000000000000000)])\n",
    "\n",
    "print(my_nums)"
   ]
  },
  {
   "cell_type": "code",
   "execution_count": 68,
   "id": "d5039080",
   "metadata": {},
   "outputs": [
    {
     "name": "stdout",
     "output_type": "stream",
     "text": [
      "<generator object square_numbers at 0x000002AD05D4C648>\n"
     ]
    }
   ],
   "source": [
    "def square_numbers(nums):\n",
    "    for i in nums:\n",
    "        yield (i**2)\n",
    "my_nums = square_numbers([1,2,3,4,5])\n",
    "print(my_nums)"
   ]
  },
  {
   "cell_type": "code",
   "execution_count": 69,
   "id": "de44a4ee",
   "metadata": {},
   "outputs": [],
   "source": [
    "result=[]"
   ]
  },
  {
   "cell_type": "code",
   "execution_count": 75,
   "id": "e54287aa",
   "metadata": {},
   "outputs": [
    {
     "name": "stdout",
     "output_type": "stream",
     "text": [
      "Stop\n"
     ]
    }
   ],
   "source": [
    "try:\n",
    "    result.append(next(my_nums))\n",
    "except:\n",
    "    print(\"Stop\")"
   ]
  },
  {
   "cell_type": "code",
   "execution_count": 76,
   "id": "5b9c04b2",
   "metadata": {},
   "outputs": [
    {
     "data": {
      "text/plain": [
       "[1, 4, 9, 16, 25]"
      ]
     },
     "execution_count": 76,
     "metadata": {},
     "output_type": "execute_result"
    }
   ],
   "source": [
    "result"
   ]
  },
  {
   "cell_type": "code",
   "execution_count": 77,
   "id": "75c27c61",
   "metadata": {},
   "outputs": [
    {
     "name": "stdout",
     "output_type": "stream",
     "text": [
      "<generator object square_numbers at 0x000002AD05D4CF48>\n"
     ]
    }
   ],
   "source": [
    "def square_numbers(nums):\n",
    "    for i in nums:\n",
    "        yield (i**2)\n",
    "my_nums = square_numbers([1,2,3,4,5])\n",
    "print(my_nums)"
   ]
  },
  {
   "cell_type": "code",
   "execution_count": 78,
   "id": "daab0d88",
   "metadata": {},
   "outputs": [
    {
     "name": "stdout",
     "output_type": "stream",
     "text": [
      "1\n",
      "4\n",
      "9\n",
      "16\n",
      "25\n"
     ]
    }
   ],
   "source": [
    "for i in my_nums:\n",
    "    print(i)"
   ]
  },
  {
   "cell_type": "code",
   "execution_count": 92,
   "id": "b3263176",
   "metadata": {},
   "outputs": [
    {
     "name": "stdout",
     "output_type": "stream",
     "text": [
      "<generator object square_numbers at 0x000002AD05D4C948>\n"
     ]
    }
   ],
   "source": [
    "def square_numbers(nums):\n",
    "    for i in nums:        \n",
    "        yield (i**2)\n",
    "        \n",
    "my_nums = square_numbers([1,2,3,4,5])\n",
    "print(my_nums)"
   ]
  },
  {
   "cell_type": "code",
   "execution_count": 93,
   "id": "7672cbda",
   "metadata": {},
   "outputs": [
    {
     "data": {
      "text/plain": [
       "1"
      ]
     },
     "execution_count": 93,
     "metadata": {},
     "output_type": "execute_result"
    }
   ],
   "source": [
    "next(my_nums) "
   ]
  },
  {
   "cell_type": "code",
   "execution_count": 94,
   "id": "cd70574b",
   "metadata": {},
   "outputs": [
    {
     "name": "stdout",
     "output_type": "stream",
     "text": [
      "4\n",
      "9\n",
      "16\n",
      "25\n"
     ]
    }
   ],
   "source": [
    "for number in my_nums:\n",
    "    print(number)"
   ]
  },
  {
   "cell_type": "code",
   "execution_count": null,
   "id": "1c3c0e47",
   "metadata": {},
   "outputs": [],
   "source": []
  }
 ],
 "metadata": {
  "kernelspec": {
   "display_name": "Python 3",
   "language": "python",
   "name": "python3"
  },
  "language_info": {
   "codemirror_mode": {
    "name": "ipython",
    "version": 3
   },
   "file_extension": ".py",
   "mimetype": "text/x-python",
   "name": "python",
   "nbconvert_exporter": "python",
   "pygments_lexer": "ipython3",
   "version": "3.7.4"
  }
 },
 "nbformat": 4,
 "nbformat_minor": 5
}
