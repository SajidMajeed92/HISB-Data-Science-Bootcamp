{
 "cells": [
  {
   "cell_type": "code",
   "execution_count": 7,
   "metadata": {},
   "outputs": [],
   "source": [
    "import pandas as pd\n",
    "import numpy as np\n",
    "import matplotlib.pyplot as plt\n",
    "import seaborn as sns"
   ]
  },
  {
   "cell_type": "code",
   "execution_count": 8,
   "metadata": {},
   "outputs": [],
   "source": [
    "car=pd.read_csv('car_data.csv')"
   ]
  },
  {
   "cell_type": "code",
   "execution_count": 9,
   "metadata": {},
   "outputs": [
    {
     "data": {
      "text/html": [
       "<div>\n",
       "<style scoped>\n",
       "    .dataframe tbody tr th:only-of-type {\n",
       "        vertical-align: middle;\n",
       "    }\n",
       "\n",
       "    .dataframe tbody tr th {\n",
       "        vertical-align: top;\n",
       "    }\n",
       "\n",
       "    .dataframe thead th {\n",
       "        text-align: right;\n",
       "    }\n",
       "</style>\n",
       "<table border=\"1\" class=\"dataframe\">\n",
       "  <thead>\n",
       "    <tr style=\"text-align: right;\">\n",
       "      <th></th>\n",
       "      <th>name</th>\n",
       "      <th>company</th>\n",
       "      <th>year</th>\n",
       "      <th>Price</th>\n",
       "      <th>kms_driven</th>\n",
       "      <th>fuel_type</th>\n",
       "    </tr>\n",
       "  </thead>\n",
       "  <tbody>\n",
       "    <tr>\n",
       "      <td>0</td>\n",
       "      <td>Hyundai Santro Xing XO eRLX Euro III</td>\n",
       "      <td>Hyundai</td>\n",
       "      <td>2007</td>\n",
       "      <td>80,000</td>\n",
       "      <td>45,000 kms</td>\n",
       "      <td>Petrol</td>\n",
       "    </tr>\n",
       "    <tr>\n",
       "      <td>1</td>\n",
       "      <td>Mahindra Jeep CL550 MDI</td>\n",
       "      <td>Mahindra</td>\n",
       "      <td>2006</td>\n",
       "      <td>4,25,000</td>\n",
       "      <td>40 kms</td>\n",
       "      <td>Diesel</td>\n",
       "    </tr>\n",
       "    <tr>\n",
       "      <td>2</td>\n",
       "      <td>Maruti Suzuki Alto 800 Vxi</td>\n",
       "      <td>Maruti</td>\n",
       "      <td>2018</td>\n",
       "      <td>Ask For Price</td>\n",
       "      <td>22,000 kms</td>\n",
       "      <td>Petrol</td>\n",
       "    </tr>\n",
       "    <tr>\n",
       "      <td>3</td>\n",
       "      <td>Hyundai Grand i10 Magna 1.2 Kappa VTVT</td>\n",
       "      <td>Hyundai</td>\n",
       "      <td>2014</td>\n",
       "      <td>3,25,000</td>\n",
       "      <td>28,000 kms</td>\n",
       "      <td>Petrol</td>\n",
       "    </tr>\n",
       "    <tr>\n",
       "      <td>4</td>\n",
       "      <td>Ford EcoSport Titanium 1.5L TDCi</td>\n",
       "      <td>Ford</td>\n",
       "      <td>2014</td>\n",
       "      <td>5,75,000</td>\n",
       "      <td>36,000 kms</td>\n",
       "      <td>Diesel</td>\n",
       "    </tr>\n",
       "  </tbody>\n",
       "</table>\n",
       "</div>"
      ],
      "text/plain": [
       "                                     name   company  year          Price  \\\n",
       "0    Hyundai Santro Xing XO eRLX Euro III   Hyundai  2007         80,000   \n",
       "1                 Mahindra Jeep CL550 MDI  Mahindra  2006       4,25,000   \n",
       "2              Maruti Suzuki Alto 800 Vxi    Maruti  2018  Ask For Price   \n",
       "3  Hyundai Grand i10 Magna 1.2 Kappa VTVT   Hyundai  2014       3,25,000   \n",
       "4        Ford EcoSport Titanium 1.5L TDCi      Ford  2014       5,75,000   \n",
       "\n",
       "   kms_driven fuel_type  \n",
       "0  45,000 kms    Petrol  \n",
       "1      40 kms    Diesel  \n",
       "2  22,000 kms    Petrol  \n",
       "3  28,000 kms    Petrol  \n",
       "4  36,000 kms    Diesel  "
      ]
     },
     "execution_count": 9,
     "metadata": {},
     "output_type": "execute_result"
    }
   ],
   "source": [
    "car.head()"
   ]
  },
  {
   "cell_type": "code",
   "execution_count": 10,
   "metadata": {},
   "outputs": [
    {
     "data": {
      "text/plain": [
       "(892, 6)"
      ]
     },
     "execution_count": 10,
     "metadata": {},
     "output_type": "execute_result"
    }
   ],
   "source": [
    "car.shape"
   ]
  },
  {
   "cell_type": "code",
   "execution_count": 11,
   "metadata": {},
   "outputs": [
    {
     "name": "stdout",
     "output_type": "stream",
     "text": [
      "<class 'pandas.core.frame.DataFrame'>\n",
      "RangeIndex: 892 entries, 0 to 891\n",
      "Data columns (total 6 columns):\n",
      "name          892 non-null object\n",
      "company       892 non-null object\n",
      "year          892 non-null object\n",
      "Price         892 non-null object\n",
      "kms_driven    840 non-null object\n",
      "fuel_type     837 non-null object\n",
      "dtypes: object(6)\n",
      "memory usage: 41.9+ KB\n"
     ]
    }
   ],
   "source": [
    "car.info()"
   ]
  },
  {
   "cell_type": "markdown",
   "metadata": {},
   "source": [
    "##### Creating backup copy"
   ]
  },
  {
   "cell_type": "code",
   "execution_count": 12,
   "metadata": {},
   "outputs": [],
   "source": [
    "backup=car.copy()"
   ]
  },
  {
   "cell_type": "markdown",
   "metadata": {},
   "source": [
    "## Quality\n",
    "\n",
    "- names are pretty inconsistent\n",
    "- names have company names attached to it\n",
    "- some names are spam like 'Maruti Ertiga showroom condition with' and 'Well mentained Tata Sumo'\n",
    "- company: many of the names are not of any company like 'Used', 'URJENT', and so on.\n",
    "- year has many non-year values\n",
    "- year is in object. Change to integer\n",
    "- Price has Ask for Price\n",
    "- Price has commas in its prices and is in object\n",
    "- kms_driven has object values with kms at last.\n",
    "- It has nan values and two rows have 'Petrol' in them\n",
    "- fuel_type has nan values"
   ]
  },
  {
   "cell_type": "markdown",
   "metadata": {},
   "source": [
    "## Cleaning Data "
   ]
  },
  {
   "cell_type": "markdown",
   "metadata": {},
   "source": [
    "#### year has many non-year values"
   ]
  },
  {
   "cell_type": "code",
   "execution_count": 13,
   "metadata": {},
   "outputs": [],
   "source": [
    "car=car[car['year'].str.isnumeric()]"
   ]
  },
  {
   "cell_type": "markdown",
   "metadata": {},
   "source": [
    "#### year is in object. Change to integer"
   ]
  },
  {
   "cell_type": "code",
   "execution_count": 14,
   "metadata": {},
   "outputs": [],
   "source": [
    "car['year']=car['year'].astype(int)"
   ]
  },
  {
   "cell_type": "markdown",
   "metadata": {},
   "source": [
    "#### Price has Ask for Price"
   ]
  },
  {
   "cell_type": "code",
   "execution_count": 15,
   "metadata": {},
   "outputs": [],
   "source": [
    "car=car[car['Price']!='Ask For Price']"
   ]
  },
  {
   "cell_type": "markdown",
   "metadata": {},
   "source": [
    "#### Price has commas in its prices and is in object"
   ]
  },
  {
   "cell_type": "code",
   "execution_count": 16,
   "metadata": {},
   "outputs": [],
   "source": [
    "car['Price']=car['Price'].str.replace(',','').astype(int)"
   ]
  },
  {
   "cell_type": "markdown",
   "metadata": {},
   "source": [
    "####  kms_driven has object values with kms at last."
   ]
  },
  {
   "cell_type": "code",
   "execution_count": 17,
   "metadata": {},
   "outputs": [],
   "source": [
    "car['kms_driven']=car['kms_driven'].str.split().str.get(0).str.replace(',','')"
   ]
  },
  {
   "cell_type": "markdown",
   "metadata": {},
   "source": [
    "#### It has nan values and two rows have 'Petrol' in them"
   ]
  },
  {
   "cell_type": "code",
   "execution_count": 18,
   "metadata": {},
   "outputs": [],
   "source": [
    "car=car[car['kms_driven'].str.isnumeric()]"
   ]
  },
  {
   "cell_type": "code",
   "execution_count": 19,
   "metadata": {},
   "outputs": [],
   "source": [
    "car['kms_driven']=car['kms_driven'].astype(int)"
   ]
  },
  {
   "cell_type": "markdown",
   "metadata": {},
   "source": [
    "#### fuel_type has nan values"
   ]
  },
  {
   "cell_type": "code",
   "execution_count": 20,
   "metadata": {},
   "outputs": [],
   "source": [
    "car=car[~car['fuel_type'].isna()]"
   ]
  },
  {
   "cell_type": "code",
   "execution_count": 21,
   "metadata": {},
   "outputs": [
    {
     "data": {
      "text/plain": [
       "(816, 6)"
      ]
     },
     "execution_count": 21,
     "metadata": {},
     "output_type": "execute_result"
    }
   ],
   "source": [
    "car.shape"
   ]
  },
  {
   "cell_type": "markdown",
   "metadata": {},
   "source": [
    "### name and company had spammed data...but with the previous cleaning, those rows got removed."
   ]
  },
  {
   "cell_type": "markdown",
   "metadata": {},
   "source": [
    "#### Company does not need any cleaning now. Changing car names. Keeping only the first three words"
   ]
  },
  {
   "cell_type": "code",
   "execution_count": 22,
   "metadata": {},
   "outputs": [],
   "source": [
    "car['name']=car['name'].str.split().str.slice(start=0,stop=3).str.join(' ')"
   ]
  },
  {
   "cell_type": "markdown",
   "metadata": {},
   "source": [
    "#### Resetting the index of the final cleaned data"
   ]
  },
  {
   "cell_type": "code",
   "execution_count": 23,
   "metadata": {},
   "outputs": [],
   "source": [
    "car=car.reset_index(drop=True)"
   ]
  },
  {
   "cell_type": "markdown",
   "metadata": {},
   "source": [
    "## Cleaned Data"
   ]
  },
  {
   "cell_type": "code",
   "execution_count": 59,
   "metadata": {},
   "outputs": [],
   "source": [
    "# car"
   ]
  },
  {
   "cell_type": "code",
   "execution_count": 60,
   "metadata": {},
   "outputs": [],
   "source": [
    "# car.to_csv('Cleaned_Car_data.csv')"
   ]
  },
  {
   "cell_type": "code",
   "execution_count": 61,
   "metadata": {},
   "outputs": [],
   "source": [
    "# car.info()"
   ]
  },
  {
   "cell_type": "code",
   "execution_count": 62,
   "metadata": {},
   "outputs": [],
   "source": [
    "# car.describe()"
   ]
  },
  {
   "cell_type": "code",
   "execution_count": 28,
   "metadata": {},
   "outputs": [
    {
     "name": "stdout",
     "output_type": "stream",
     "text": [
      "<class 'pandas.core.frame.DataFrame'>\n",
      "Int64Index: 815 entries, 0 to 815\n",
      "Data columns (total 6 columns):\n",
      "name          815 non-null object\n",
      "company       815 non-null object\n",
      "year          815 non-null int32\n",
      "Price         815 non-null int32\n",
      "kms_driven    815 non-null int32\n",
      "fuel_type     815 non-null object\n",
      "dtypes: int32(3), object(3)\n",
      "memory usage: 35.0+ KB\n"
     ]
    }
   ],
   "source": [
    "car=car[car['Price']<5000000]\n",
    "car.info()"
   ]
  },
  {
   "cell_type": "code",
   "execution_count": 63,
   "metadata": {},
   "outputs": [],
   "source": [
    "# car.describe()"
   ]
  },
  {
   "cell_type": "markdown",
   "metadata": {},
   "source": [
    "### Checking relationship of Company with Price"
   ]
  },
  {
   "cell_type": "code",
   "execution_count": 64,
   "metadata": {},
   "outputs": [],
   "source": [
    "# car['company'].unique()"
   ]
  },
  {
   "cell_type": "code",
   "execution_count": 65,
   "metadata": {},
   "outputs": [],
   "source": [
    "# import seaborn as sns"
   ]
  },
  {
   "cell_type": "code",
   "execution_count": 66,
   "metadata": {
    "scrolled": true
   },
   "outputs": [],
   "source": [
    "# plt.subplots(figsize=(15,7))\n",
    "# ax=sns.boxplot(x='company',y='Price',data=car)\n",
    "# ax.set_xticklabels(ax.get_xticklabels(),rotation=40,ha='right')\n",
    "# plt.show()"
   ]
  },
  {
   "cell_type": "markdown",
   "metadata": {},
   "source": [
    "### Checking relationship of Year with Price"
   ]
  },
  {
   "cell_type": "code",
   "execution_count": 67,
   "metadata": {},
   "outputs": [],
   "source": [
    "# plt.subplots(figsize=(20,10))\n",
    "# ax=sns.swarmplot(x='year',y='Price',data=car)\n",
    "# ax.set_xticklabels(ax.get_xticklabels(),rotation=40,ha='right')\n",
    "# plt.show()"
   ]
  },
  {
   "cell_type": "markdown",
   "metadata": {},
   "source": [
    "### Checking relationship of kms_driven with Price"
   ]
  },
  {
   "cell_type": "code",
   "execution_count": 68,
   "metadata": {},
   "outputs": [],
   "source": [
    "# sns.relplot(x='kms_driven',y='Price',data=car,height=7,aspect=1.5)"
   ]
  },
  {
   "cell_type": "markdown",
   "metadata": {},
   "source": [
    "### Checking relationship of Fuel Type with Price"
   ]
  },
  {
   "cell_type": "code",
   "execution_count": 69,
   "metadata": {},
   "outputs": [],
   "source": [
    "# plt.subplots(figsize=(14,7))\n",
    "# sns.boxplot(x='fuel_type',y='Price',data=car)"
   ]
  },
  {
   "cell_type": "markdown",
   "metadata": {},
   "source": [
    "### Relationship of Price with FuelType, Year and Company mixed"
   ]
  },
  {
   "cell_type": "code",
   "execution_count": 70,
   "metadata": {
    "scrolled": true
   },
   "outputs": [],
   "source": [
    "# ax=sns.relplot(x='company',y='Price',data=car,hue='fuel_type',size='year',height=7,aspect=2)\n",
    "# ax.set_xticklabels(rotation=40,ha='right')"
   ]
  },
  {
   "cell_type": "markdown",
   "metadata": {},
   "source": [
    "### Extracting Training Data"
   ]
  },
  {
   "cell_type": "code",
   "execution_count": 43,
   "metadata": {},
   "outputs": [],
   "source": [
    "#Input Data\n",
    "X=car[['name','company','year','kms_driven','fuel_type']]\n",
    "\n",
    "# outputlabels\n",
    "y=car['Price']"
   ]
  },
  {
   "cell_type": "code",
   "execution_count": 142,
   "metadata": {},
   "outputs": [
    {
     "data": {
      "text/html": [
       "<div>\n",
       "<style scoped>\n",
       "    .dataframe tbody tr th:only-of-type {\n",
       "        vertical-align: middle;\n",
       "    }\n",
       "\n",
       "    .dataframe tbody tr th {\n",
       "        vertical-align: top;\n",
       "    }\n",
       "\n",
       "    .dataframe thead th {\n",
       "        text-align: right;\n",
       "    }\n",
       "</style>\n",
       "<table border=\"1\" class=\"dataframe\">\n",
       "  <thead>\n",
       "    <tr style=\"text-align: right;\">\n",
       "      <th></th>\n",
       "      <th>name</th>\n",
       "      <th>company</th>\n",
       "      <th>year</th>\n",
       "      <th>kms_driven</th>\n",
       "      <th>fuel_type</th>\n",
       "    </tr>\n",
       "  </thead>\n",
       "  <tbody>\n",
       "    <tr>\n",
       "      <td>0</td>\n",
       "      <td>Hyundai Santro Xing</td>\n",
       "      <td>Hyundai</td>\n",
       "      <td>2007</td>\n",
       "      <td>45000</td>\n",
       "      <td>Petrol</td>\n",
       "    </tr>\n",
       "    <tr>\n",
       "      <td>1</td>\n",
       "      <td>Mahindra Jeep CL550</td>\n",
       "      <td>Mahindra</td>\n",
       "      <td>2006</td>\n",
       "      <td>40</td>\n",
       "      <td>Diesel</td>\n",
       "    </tr>\n",
       "    <tr>\n",
       "      <td>2</td>\n",
       "      <td>Hyundai Grand i10</td>\n",
       "      <td>Hyundai</td>\n",
       "      <td>2014</td>\n",
       "      <td>28000</td>\n",
       "      <td>Petrol</td>\n",
       "    </tr>\n",
       "    <tr>\n",
       "      <td>3</td>\n",
       "      <td>Ford EcoSport Titanium</td>\n",
       "      <td>Ford</td>\n",
       "      <td>2014</td>\n",
       "      <td>36000</td>\n",
       "      <td>Diesel</td>\n",
       "    </tr>\n",
       "    <tr>\n",
       "      <td>4</td>\n",
       "      <td>Ford Figo</td>\n",
       "      <td>Ford</td>\n",
       "      <td>2012</td>\n",
       "      <td>41000</td>\n",
       "      <td>Diesel</td>\n",
       "    </tr>\n",
       "    <tr>\n",
       "      <td>...</td>\n",
       "      <td>...</td>\n",
       "      <td>...</td>\n",
       "      <td>...</td>\n",
       "      <td>...</td>\n",
       "      <td>...</td>\n",
       "    </tr>\n",
       "    <tr>\n",
       "      <td>811</td>\n",
       "      <td>Maruti Suzuki Ritz</td>\n",
       "      <td>Maruti</td>\n",
       "      <td>2011</td>\n",
       "      <td>50000</td>\n",
       "      <td>Petrol</td>\n",
       "    </tr>\n",
       "    <tr>\n",
       "      <td>812</td>\n",
       "      <td>Tata Indica V2</td>\n",
       "      <td>Tata</td>\n",
       "      <td>2009</td>\n",
       "      <td>30000</td>\n",
       "      <td>Diesel</td>\n",
       "    </tr>\n",
       "    <tr>\n",
       "      <td>813</td>\n",
       "      <td>Toyota Corolla Altis</td>\n",
       "      <td>Toyota</td>\n",
       "      <td>2009</td>\n",
       "      <td>132000</td>\n",
       "      <td>Petrol</td>\n",
       "    </tr>\n",
       "    <tr>\n",
       "      <td>814</td>\n",
       "      <td>Tata Zest XM</td>\n",
       "      <td>Tata</td>\n",
       "      <td>2018</td>\n",
       "      <td>27000</td>\n",
       "      <td>Diesel</td>\n",
       "    </tr>\n",
       "    <tr>\n",
       "      <td>815</td>\n",
       "      <td>Mahindra Quanto C8</td>\n",
       "      <td>Mahindra</td>\n",
       "      <td>2013</td>\n",
       "      <td>40000</td>\n",
       "      <td>Diesel</td>\n",
       "    </tr>\n",
       "  </tbody>\n",
       "</table>\n",
       "<p>815 rows × 5 columns</p>\n",
       "</div>"
      ],
      "text/plain": [
       "                       name   company  year  kms_driven fuel_type\n",
       "0       Hyundai Santro Xing   Hyundai  2007       45000    Petrol\n",
       "1       Mahindra Jeep CL550  Mahindra  2006          40    Diesel\n",
       "2         Hyundai Grand i10   Hyundai  2014       28000    Petrol\n",
       "3    Ford EcoSport Titanium      Ford  2014       36000    Diesel\n",
       "4                 Ford Figo      Ford  2012       41000    Diesel\n",
       "..                      ...       ...   ...         ...       ...\n",
       "811      Maruti Suzuki Ritz    Maruti  2011       50000    Petrol\n",
       "812          Tata Indica V2      Tata  2009       30000    Diesel\n",
       "813    Toyota Corolla Altis    Toyota  2009      132000    Petrol\n",
       "814            Tata Zest XM      Tata  2018       27000    Diesel\n",
       "815      Mahindra Quanto C8  Mahindra  2013       40000    Diesel\n",
       "\n",
       "[815 rows x 5 columns]"
      ]
     },
     "execution_count": 142,
     "metadata": {},
     "output_type": "execute_result"
    }
   ],
   "source": [
    "X"
   ]
  },
  {
   "cell_type": "markdown",
   "metadata": {},
   "source": [
    "### Applying Train Test Split"
   ]
  },
  {
   "cell_type": "code",
   "execution_count": 127,
   "metadata": {},
   "outputs": [],
   "source": [
    "from sklearn.model_selection import train_test_split\n",
    "X_train,X_test,y_train,y_test = train_test_split(X,y,test_size=0.2,random_state=0)"
   ]
  },
  {
   "cell_type": "code",
   "execution_count": 128,
   "metadata": {},
   "outputs": [],
   "source": [
    "from sklearn.linear_model import LinearRegression"
   ]
  },
  {
   "cell_type": "code",
   "execution_count": 115,
   "metadata": {},
   "outputs": [],
   "source": [
    "from sklearn.preprocessing import OneHotEncoder\n",
    "from sklearn.compose import make_column_transformer\n",
    "from sklearn.pipeline import make_pipeline\n",
    "from sklearn.metrics import r2_score"
   ]
  },
  {
   "cell_type": "markdown",
   "metadata": {},
   "source": [
    "#### Creating an OneHotEncoder object to contain all the possible categories"
   ]
  },
  {
   "cell_type": "code",
   "execution_count": 116,
   "metadata": {},
   "outputs": [
    {
     "data": {
      "text/plain": [
       "OneHotEncoder(categorical_features=None, categories=None, drop=None,\n",
       "              dtype=<class 'numpy.float64'>, handle_unknown='error',\n",
       "              n_values=None, sparse=True)"
      ]
     },
     "execution_count": 116,
     "metadata": {},
     "output_type": "execute_result"
    }
   ],
   "source": [
    "ohe=OneHotEncoder()\n",
    "ohe.fit(X[['name','company','fuel_type']])"
   ]
  },
  {
   "cell_type": "markdown",
   "metadata": {},
   "source": [
    "#### Creating a column transformer to transform categorical columns"
   ]
  },
  {
   "cell_type": "code",
   "execution_count": 117,
   "metadata": {},
   "outputs": [],
   "source": [
    "column_trans = make_column_transformer((OneHotEncoder(categories=ohe.categories_),['name','company','fuel_type']),\n",
    "                                    remainder='passthrough')"
   ]
  },
  {
   "cell_type": "markdown",
   "metadata": {},
   "source": [
    "#### Linear Regression Model"
   ]
  },
  {
   "cell_type": "code",
   "execution_count": 118,
   "metadata": {},
   "outputs": [],
   "source": [
    "lr = LinearRegression()"
   ]
  },
  {
   "cell_type": "markdown",
   "metadata": {},
   "source": [
    "#### Making a pipeline"
   ]
  },
  {
   "cell_type": "code",
   "execution_count": 119,
   "metadata": {},
   "outputs": [],
   "source": [
    "pipe=make_pipeline(column_trans,lr)"
   ]
  },
  {
   "cell_type": "markdown",
   "metadata": {},
   "source": [
    "#### Fitting the  model"
   ]
  },
  {
   "cell_type": "code",
   "execution_count": 129,
   "metadata": {
    "scrolled": true
   },
   "outputs": [
    {
     "data": {
      "text/plain": [
       "Pipeline(memory=None,\n",
       "         steps=[('columntransformer',\n",
       "                 ColumnTransformer(n_jobs=None, remainder='passthrough',\n",
       "                                   sparse_threshold=0.3,\n",
       "                                   transformer_weights=None,\n",
       "                                   transformers=[('onehotencoder',\n",
       "                                                  OneHotEncoder(categorical_features=None,\n",
       "                                                                categories=[array(['Audi A3 Cabriolet', 'Audi A4 1.8', 'Audi A4 2.0', 'Audi A6 2.0',\n",
       "       'Audi A8', 'Audi Q3 2.0', 'Audi Q5 2.0', 'Audi Q7', 'BMW 3 Series',\n",
       "       'B...\n",
       "       'Renault', 'Skoda', 'Tata', 'Toyota', 'Volkswagen', 'Volvo'],\n",
       "      dtype=object),\n",
       "                                                                            array(['Diesel', 'LPG', 'Petrol'], dtype=object)],\n",
       "                                                                drop=None,\n",
       "                                                                dtype=<class 'numpy.float64'>,\n",
       "                                                                handle_unknown='error',\n",
       "                                                                n_values=None,\n",
       "                                                                sparse=True),\n",
       "                                                  ['name', 'company',\n",
       "                                                   'fuel_type'])],\n",
       "                                   verbose=False)),\n",
       "                ('linearregression',\n",
       "                 LinearRegression(copy_X=True, fit_intercept=True, n_jobs=None,\n",
       "                                  normalize=False))],\n",
       "         verbose=False)"
      ]
     },
     "execution_count": 129,
     "metadata": {},
     "output_type": "execute_result"
    }
   ],
   "source": [
    "pipe.fit(X_train,y_train)"
   ]
  },
  {
   "cell_type": "code",
   "execution_count": 130,
   "metadata": {},
   "outputs": [],
   "source": [
    "y_pred=pipe.predict(X_train)"
   ]
  },
  {
   "cell_type": "code",
   "execution_count": 144,
   "metadata": {},
   "outputs": [],
   "source": [
    "# predictions = pd.DataFrame({'OriginalPrice':y_train, \"PredictedPrice\":y_pred})\n",
    "# predictions"
   ]
  },
  {
   "cell_type": "markdown",
   "metadata": {},
   "source": [
    "#### Checking R2 Score"
   ]
  },
  {
   "cell_type": "code",
   "execution_count": 132,
   "metadata": {},
   "outputs": [
    {
     "data": {
      "text/plain": [
       "0.9495088638294161"
      ]
     },
     "execution_count": 132,
     "metadata": {},
     "output_type": "execute_result"
    }
   ],
   "source": [
    "r2_score(y_train,y_pred)"
   ]
  },
  {
   "cell_type": "code",
   "execution_count": 133,
   "metadata": {},
   "outputs": [
    {
     "data": {
      "text/plain": [
       "51592.64794201214"
      ]
     },
     "execution_count": 133,
     "metadata": {},
     "output_type": "execute_result"
    }
   ],
   "source": [
    "from sklearn.metrics import mean_absolute_error as mae\n",
    "mae(y_train,y_pred)"
   ]
  },
  {
   "cell_type": "code",
   "execution_count": 134,
   "metadata": {},
   "outputs": [],
   "source": [
    "y_pred=pipe.predict(X_test)"
   ]
  },
  {
   "cell_type": "code",
   "execution_count": 135,
   "metadata": {},
   "outputs": [
    {
     "data": {
      "text/plain": [
       "0.7852425416626871"
      ]
     },
     "execution_count": 135,
     "metadata": {},
     "output_type": "execute_result"
    }
   ],
   "source": [
    "r2_score(y_test,y_pred)"
   ]
  },
  {
   "cell_type": "markdown",
   "metadata": {},
   "source": [
    "#### Finding the model with a random state of TrainTestSplit where the model was found to give almost 0.92 as r2_score"
   ]
  },
  {
   "cell_type": "code",
   "execution_count": null,
   "metadata": {},
   "outputs": [],
   "source": [
    "# import numpy as np\n",
    "# from sklearn.model_selection import train_test_split\n",
    "# X, y = np.arange(10).reshape((5, 2)), range(5)\n",
    "\n"
   ]
  },
  {
   "cell_type": "code",
   "execution_count": 136,
   "metadata": {},
   "outputs": [],
   "source": [
    "scores=[]\n",
    "for i in range(1000):\n",
    "    X_train,X_test,y_train,y_test=train_test_split(X,y,test_size=0.1,random_state=i)\n",
    "    lr=LinearRegression()\n",
    "    pipe=make_pipeline(column_trans,lr)\n",
    "    pipe.fit(X_train,y_train)\n",
    "    y_pred=pipe.predict(X_train)\n",
    "    scores.append(r2_score(y_train,y_pred))"
   ]
  },
  {
   "cell_type": "code",
   "execution_count": 138,
   "metadata": {},
   "outputs": [
    {
     "data": {
      "text/plain": [
       "82"
      ]
     },
     "execution_count": 138,
     "metadata": {},
     "output_type": "execute_result"
    }
   ],
   "source": [
    "np.argmax(scores)"
   ]
  },
  {
   "cell_type": "code",
   "execution_count": 110,
   "metadata": {},
   "outputs": [
    {
     "data": {
      "text/plain": [
       "[0.8107876476922015,\n",
       " 0.6020757204911074,\n",
       " 0.6967422693355267,\n",
       " 0.5091412715075501,\n",
       " 0.8781865811842144,\n",
       " 0.7555493285427632,\n",
       " 0.4383035497698007,\n",
       " 0.6341057022544676,\n",
       " 0.5961569577815619,\n",
       " 0.7320690267555192,\n",
       " 0.8062571702322994,\n",
       " 0.7638302518239102,\n",
       " 0.49222604693770833,\n",
       " 0.759784271508228,\n",
       " 0.7802596497203038,\n",
       " 0.6877806664133794,\n",
       " 0.6468588564534293,\n",
       " 0.713286382832689,\n",
       " 0.7371386983057657,\n",
       " 0.7772264946839792,\n",
       " 0.7966538631668838,\n",
       " 0.40314843120089716,\n",
       " 0.7791459077788757,\n",
       " 0.7761889243388952,\n",
       " 0.5784383508725308,\n",
       " 0.5045064756963189,\n",
       " 0.7348601183895116,\n",
       " 0.8323903561075285,\n",
       " 0.8284980083679604,\n",
       " 0.6118997874453952,\n",
       " 0.6234117653356174,\n",
       " 0.8541309991276522,\n",
       " 0.7151400599630224,\n",
       " 0.7899294266878376,\n",
       " 0.8211262799997555,\n",
       " 0.795966414830019,\n",
       " 0.4918785304989568,\n",
       " 0.7101800877883424,\n",
       " 0.6930636113004505,\n",
       " 0.8415165460916281,\n",
       " 0.524196065161776,\n",
       " 0.6872413724558286,\n",
       " 0.5823578769387638,\n",
       " 0.7033651452002854,\n",
       " 0.8186008447416571,\n",
       " 0.734602263273873,\n",
       " 0.5905773847457441,\n",
       " 0.5225429378797193,\n",
       " 0.8807680744011364,\n",
       " 0.8577949440753716,\n",
       " 0.5357005575331112,\n",
       " 0.5929879970061405,\n",
       " 0.8583565053266621,\n",
       " 0.8402502263212964,\n",
       " 0.6332288832369387,\n",
       " 0.7413590613474927,\n",
       " 0.8725380983940783,\n",
       " 0.7576528406858729,\n",
       " 0.7586765180355125,\n",
       " 0.4465045260656225,\n",
       " 0.5920245905237296,\n",
       " 0.5044011730613699,\n",
       " 0.5624557287394782,\n",
       " 0.7923968167837001,\n",
       " 0.7325906494593308,\n",
       " 0.6723287393421888,\n",
       " 0.41022448613590723,\n",
       " 0.7448279556421861,\n",
       " 0.8575815865619824,\n",
       " 0.699830265526953,\n",
       " 0.792952996211153,\n",
       " 0.8109523893043038,\n",
       " 0.6629303757112149,\n",
       " 0.7228890335228527,\n",
       " 0.5750268304684516,\n",
       " 0.8306011384665222,\n",
       " 0.6776381774028715,\n",
       " 0.7403095342764385,\n",
       " 0.713948335839679,\n",
       " 0.8663964353339328,\n",
       " 0.5022143941575598,\n",
       " 0.480162132904867,\n",
       " 0.653443347321236,\n",
       " 0.8842403587639971,\n",
       " 0.9016439376786559,\n",
       " 0.6643615470439364,\n",
       " 0.8310285488109381,\n",
       " 0.7337448623187264,\n",
       " 0.8437235235728134,\n",
       " 0.6759490255882632,\n",
       " 0.7482629033785336,\n",
       " 0.5013286481327415,\n",
       " 0.7198130240976084,\n",
       " 0.6043717995579512,\n",
       " 0.6802329387263568,\n",
       " 0.6292881158070371,\n",
       " 0.6724692378884932,\n",
       " 0.8366724586023819,\n",
       " 0.7479939566273002,\n",
       " 0.679801260033468,\n",
       " 0.7978473400975988,\n",
       " 0.798442791111492,\n",
       " 0.7468784007379755,\n",
       " 0.744443542672631,\n",
       " 0.6422692212086714,\n",
       " 0.7809534492915012,\n",
       " 0.5925854325416391,\n",
       " 0.469593404999025,\n",
       " 0.7319551353439782,\n",
       " 0.8797517550459649,\n",
       " 0.8654721721247359,\n",
       " 0.6832619966026782,\n",
       " 0.6377977581079005,\n",
       " 0.8264356106568467,\n",
       " 0.5985630748486344,\n",
       " 0.5818919273255998,\n",
       " 0.6460448359361715,\n",
       " 0.6104389788959146,\n",
       " 0.5182077728014349,\n",
       " 0.8490928930015903,\n",
       " 0.8631526320919906,\n",
       " 0.615142346945343,\n",
       " 0.8139206474687488,\n",
       " 0.7061869962813125,\n",
       " 0.8637392920715693,\n",
       " 0.7342730555670025,\n",
       " 0.7822592067666303,\n",
       " 0.8481014205906359,\n",
       " 0.5254690253237201,\n",
       " 0.7620162500242968,\n",
       " 0.567986971340825,\n",
       " 0.6850987870436992,\n",
       " 0.6971836986679846,\n",
       " 0.7494607351364471,\n",
       " 0.8809719274858978,\n",
       " 0.8621858375451427,\n",
       " 0.5474340688278201,\n",
       " 0.7839280962757605,\n",
       " 0.63911873000453,\n",
       " 0.7793174993033047,\n",
       " 0.7613714603406501,\n",
       " 0.5711871856491677,\n",
       " 0.8093522900043952,\n",
       " 0.3260161906721851,\n",
       " 0.8141159419385704,\n",
       " 0.7921115494750433,\n",
       " 0.8326799462167779,\n",
       " 0.6903321500955237,\n",
       " 0.6863460931181519,\n",
       " 0.6246487754925171,\n",
       " 0.6567253361319545,\n",
       " 0.8446105439085707,\n",
       " 0.6901583495772885,\n",
       " 0.5631929961362505,\n",
       " 0.7028533108630262,\n",
       " 0.7153997263744982,\n",
       " 0.42035717170424713,\n",
       " 0.8864051046587272,\n",
       " 0.6732673386628513,\n",
       " 0.7791798813066446,\n",
       " 0.6608398804941191,\n",
       " 0.6256411405832525,\n",
       " 0.7424954429417041,\n",
       " 0.5736029694485298,\n",
       " 0.7238316709085764,\n",
       " 0.7608132452352101,\n",
       " 0.8029973039514915,\n",
       " 0.7437319822856456,\n",
       " 0.5414664145975427,\n",
       " 0.7221539918862021,\n",
       " 0.8098594508530816,\n",
       " 0.9008028511131445,\n",
       " 0.8782261247215855,\n",
       " 0.8004882725118552,\n",
       " 0.7175496839546198,\n",
       " 0.5698629878391711,\n",
       " 0.821965635199053,\n",
       " 0.723125870510875,\n",
       " 0.7232593868701355,\n",
       " 0.7754813571748441,\n",
       " 0.7559589840066618,\n",
       " 0.7334553341511918,\n",
       " 0.6447490768195154,\n",
       " 0.6973272889721056,\n",
       " 0.6283670174954038,\n",
       " 0.8003946259558437,\n",
       " 0.6464773945116099,\n",
       " 0.776600119814869,\n",
       " 0.7773872800743017,\n",
       " 0.6402518011510953,\n",
       " 0.8477093356945845,\n",
       " 0.7304450291824447,\n",
       " 0.8412880294725924,\n",
       " 0.7314741949377737,\n",
       " 0.7983847017688138,\n",
       " 0.47653631845540134,\n",
       " 0.07733397520910079,\n",
       " 0.8420436403751672,\n",
       " 0.7041507683664281,\n",
       " 0.8225853505458011,\n",
       " 0.6768986820782241,\n",
       " 0.7045949796394907,\n",
       " 0.6112567268750203,\n",
       " 0.8171761813637605,\n",
       " 0.6811768195229089,\n",
       " 0.7702024560293722,\n",
       " 0.7871093159239929,\n",
       " 0.620403291120575,\n",
       " 0.7386126834547904,\n",
       " 0.6249305703404358,\n",
       " 0.5664471788326488,\n",
       " 0.7580385068120723,\n",
       " 0.6008961213545969,\n",
       " 0.7848189875571406,\n",
       " 0.6862654118377207,\n",
       " 0.7005152264710404,\n",
       " 0.6644203447128862,\n",
       " 0.6385820926877931,\n",
       " 0.8024561707981621,\n",
       " 0.872297383756523,\n",
       " 0.6709543127113244,\n",
       " 0.7902092219085806,\n",
       " 0.4851023056621433,\n",
       " 0.53981947225016,\n",
       " 0.5949133427704958,\n",
       " 0.805847196885147,\n",
       " 0.660062248197692,\n",
       " 0.7074042204201951,\n",
       " 0.7342554987744798,\n",
       " 0.5049661720125036,\n",
       " 0.7720409263827807,\n",
       " 0.5916510242153277,\n",
       " 0.6078736390937711,\n",
       " 0.6868948180069749,\n",
       " 0.8104481701693766,\n",
       " 0.8749921407742336,\n",
       " 0.8452938279696562,\n",
       " 0.6812381739349538,\n",
       " 0.5119123317718868,\n",
       " 0.5657710795676352,\n",
       " 0.8452084972387484,\n",
       " 0.3272027217727803,\n",
       " 0.688034054815515,\n",
       " 0.796073133056654,\n",
       " 0.6518914253895409,\n",
       " 0.8118448418179781,\n",
       " 0.8271364682240789,\n",
       " 0.8882945728734976,\n",
       " 0.7359396157840187,\n",
       " 0.16614340904679126,\n",
       " 0.4469288168830493,\n",
       " 0.531810382778755,\n",
       " 0.536212803406876,\n",
       " 0.8227649096970062,\n",
       " 0.7132015163109395,\n",
       " 0.8758049559625782,\n",
       " 0.6706793280310495,\n",
       " 0.6889167831188591,\n",
       " 0.5714771752357606,\n",
       " 0.49266789854085,\n",
       " 0.8645074936371923,\n",
       " 0.6955886102532823,\n",
       " 0.842691632938083,\n",
       " 0.8158358396096859,\n",
       " 0.5483074542235311,\n",
       " 0.5059114671660359,\n",
       " 0.7221804189352853,\n",
       " 0.7419449640400053,\n",
       " 0.8578976134730777,\n",
       " 0.4341482969596576,\n",
       " 0.6263305908130866,\n",
       " 0.607277951892425,\n",
       " 0.7937854972434297,\n",
       " 0.6848739170768687,\n",
       " 0.7555242176210997,\n",
       " 0.693157317688153,\n",
       " 0.7927798245734395,\n",
       " 0.6783698970675799,\n",
       " 0.7994419390269272,\n",
       " 0.847690262570724,\n",
       " 0.5887438104691083,\n",
       " 0.819477325493134,\n",
       " 0.7080816077077456,\n",
       " 0.762606207978646,\n",
       " 0.7682379227445832,\n",
       " 0.6567064045405231,\n",
       " 0.7324417632324915,\n",
       " 0.5987669094965059,\n",
       " 0.7170557038614123,\n",
       " 0.6688192696061939,\n",
       " 0.6066519202128391,\n",
       " 0.6504772815962595,\n",
       " 0.8870917863448066,\n",
       " 0.7768337512307864,\n",
       " 0.8681968846153257,\n",
       " 0.7007527970792837,\n",
       " 0.7206172853142165,\n",
       " 0.7992930513574391,\n",
       " 0.6407613999150754,\n",
       " 0.850288190966092,\n",
       " 0.9056062317141345,\n",
       " 0.8263208075540884,\n",
       " 0.885939129639431,\n",
       " 0.6891044741105894,\n",
       " 0.811049183214074,\n",
       " 0.6157965496339717,\n",
       " 0.8345875017396814,\n",
       " 0.7312436769493653,\n",
       " 0.7163793344341383,\n",
       " 0.8015566262500777,\n",
       " 0.7930497635400333,\n",
       " 0.7798848551722333,\n",
       " 0.3645884124641946,\n",
       " 0.42756144280089436,\n",
       " 0.4158570052345919,\n",
       " 0.7550318046358975,\n",
       " 0.5498173756907774,\n",
       " 0.6109020304106134,\n",
       " 0.5677866101059159,\n",
       " 0.6533520192508914,\n",
       " 0.5551268543566403,\n",
       " 0.9120663494245944,\n",
       " 0.547437848889549,\n",
       " 0.5837133418155871,\n",
       " 0.6633792482977141,\n",
       " 0.6911238535183508,\n",
       " 0.7330163808873282,\n",
       " 0.6686137994569671,\n",
       " 0.7015611130374686,\n",
       " 0.6839261525890661,\n",
       " 0.6410705415177932,\n",
       " 0.695111684429948,\n",
       " 0.7514958363399716,\n",
       " 0.6571873857196678,\n",
       " 0.8265961076606058,\n",
       " 0.6400238501373545,\n",
       " 0.6196781127593425,\n",
       " 0.8478616173787723,\n",
       " 0.8452611801574986,\n",
       " 0.523533730973023,\n",
       " 0.788158044174887,\n",
       " 0.7797908526139207,\n",
       " 0.8482369330082006,\n",
       " 0.765974824944011,\n",
       " 0.7249497785327825,\n",
       " 0.7478327704421761,\n",
       " 0.641714251009821,\n",
       " 0.6007297797933817,\n",
       " 0.4921231680384547,\n",
       " 0.6617119840159551,\n",
       " 0.728272285734362,\n",
       " 0.881983020188546,\n",
       " 0.8833902898266076,\n",
       " 0.4796992814321702,\n",
       " 0.6722616456998309,\n",
       " 0.7566300593230366,\n",
       " 0.8393718153542246,\n",
       " 0.717955243623536,\n",
       " 0.7609761082781793,\n",
       " 0.7874787167605203,\n",
       " 0.68597551490016,\n",
       " 0.6456699303345221,\n",
       " 0.48445668973691525,\n",
       " 0.7561987308761731,\n",
       " 0.844660062777298,\n",
       " 0.737052241123271,\n",
       " 0.9133658228322611,\n",
       " 0.42687928979435996,\n",
       " 0.7694532193435097,\n",
       " 0.8350222601537372,\n",
       " 0.7386822036123051,\n",
       " 0.5216389867984526,\n",
       " 0.47839560551898863,\n",
       " 0.7879586467892745,\n",
       " 0.42974167953410414,\n",
       " 0.7911718169037606,\n",
       " 0.7417718007851776,\n",
       " 0.6069656389871656,\n",
       " 0.8916415658931286,\n",
       " 0.8164112442054255,\n",
       " 0.5558010645301898,\n",
       " 0.8301699851652682,\n",
       " 0.8450882736951305,\n",
       " 0.8562429400169163,\n",
       " 0.6845462009541071,\n",
       " 0.7495373949049016,\n",
       " 0.7739851281802339,\n",
       " 0.7089156817395178,\n",
       " 0.5190910078175046,\n",
       " 0.5632953226936117,\n",
       " 0.8034053496636429,\n",
       " 0.7649756458501902,\n",
       " 0.8560591770287574,\n",
       " 0.6210831721774028,\n",
       " 0.6292631779603021,\n",
       " 0.8033655047359408,\n",
       " 0.67896013926864,\n",
       " 0.63757535393333,\n",
       " 0.5384426933539781,\n",
       " 0.8459064910084336,\n",
       " 0.714567991915347,\n",
       " 0.7262951666431585,\n",
       " 0.6997657439839572,\n",
       " 0.38829447146815355,\n",
       " 0.7938115319351539,\n",
       " 0.4821676737800582,\n",
       " 0.6432797459859925,\n",
       " 0.8103398126463873,\n",
       " 0.8249079804481314,\n",
       " 0.6682248520388565,\n",
       " 0.8492491955477429,\n",
       " 0.6845740737416912,\n",
       " 0.7483852344584834,\n",
       " 0.7176975991408707,\n",
       " 0.8014670459367854,\n",
       " 0.7352462327283731,\n",
       " 0.725411578256566,\n",
       " 0.7893896866854175,\n",
       " 0.7551042710411285,\n",
       " 0.7877710669597948,\n",
       " 0.725049420345575,\n",
       " 0.7009086464539813,\n",
       " 0.6929166111119238,\n",
       " 0.6192041309534673,\n",
       " 0.7047356240927043,\n",
       " 0.5853004321056172,\n",
       " 0.44895635486698815,\n",
       " 0.7927239598174727,\n",
       " 0.7516164384709471,\n",
       " 0.821044470853506,\n",
       " 0.7792875178659506,\n",
       " 0.8704171146650121,\n",
       " 0.7536621776266331,\n",
       " 0.8392805467510773,\n",
       " 0.4789596855460283,\n",
       " 0.8465977341662496,\n",
       " 0.5081921115124064,\n",
       " 0.7145137251699183,\n",
       " 0.6236074153771529,\n",
       " 0.8090363334482633,\n",
       " 0.9036819265279931,\n",
       " 0.8119348169387297,\n",
       " 0.8612191521816535,\n",
       " 0.8574238125143787,\n",
       " 0.7810397166268161,\n",
       " 0.7560857427303058,\n",
       " 0.7182903482820923,\n",
       " 0.6921618542942498,\n",
       " 0.8046324948886279,\n",
       " 0.6879404738297032,\n",
       " 0.6088118018758394,\n",
       " 0.5889617839331037,\n",
       " 0.8062430122374782,\n",
       " 0.7176493384759246,\n",
       " 0.735183625193868,\n",
       " 0.6669350676049152,\n",
       " 0.39264206620868136,\n",
       " 0.48284336661625404,\n",
       " 0.7619404333413975,\n",
       " 0.7460663647075378,\n",
       " 0.7911555482887622,\n",
       " 0.5962964067940342,\n",
       " 0.7133115874806586,\n",
       " 0.8665846840440377,\n",
       " 0.43088375523290523,\n",
       " 0.7409844587556329,\n",
       " 0.4951470592347643,\n",
       " 0.7031112980019398,\n",
       " 0.7039158208595965,\n",
       " 0.7396802260463352,\n",
       " 0.7395894863281189,\n",
       " 0.42230481791592467,\n",
       " 0.2356326182258336,\n",
       " 0.6167254584890118,\n",
       " 0.7172954671711916,\n",
       " 0.7342037635027112,\n",
       " 0.5476517861469559,\n",
       " 0.8760325457820375,\n",
       " 0.8177650855751016,\n",
       " 0.567275664869778,\n",
       " 0.7758416697489927,\n",
       " 0.7784478306503189,\n",
       " 0.8507228383017188,\n",
       " 0.7844509577090508,\n",
       " 0.841514301171149,\n",
       " 0.7306966301937166,\n",
       " 0.7185081516686237,\n",
       " 0.5593229986054782,\n",
       " 0.8185165937617991,\n",
       " 0.6313584011355691,\n",
       " 0.593567787869268,\n",
       " 0.7822621987396116,\n",
       " 0.7810449353010314,\n",
       " 0.5646221752956241,\n",
       " 0.777628722818301,\n",
       " 0.6699961716761476,\n",
       " 0.7938820278354075,\n",
       " 0.6668198029675418,\n",
       " 0.7686628546923828,\n",
       " 0.8711371854330381,\n",
       " 0.8468353652588667,\n",
       " 0.6123736042136707,\n",
       " 0.8545834322791237,\n",
       " 0.740166870134079,\n",
       " 0.7032457894253856,\n",
       " 0.7611270178919267,\n",
       " 0.6289315127180355,\n",
       " 0.909206489223276,\n",
       " 0.7428947771787907,\n",
       " 0.7438084318794992,\n",
       " 0.742885308956361,\n",
       " 0.9131117514881323,\n",
       " 0.649031446772388,\n",
       " 0.7852500097157131,\n",
       " 0.7164363086560078,\n",
       " 0.8991906016055417,\n",
       " 0.7752142894482202,\n",
       " 0.7744183757959975,\n",
       " 0.6917056263219855,\n",
       " 0.7544483237263055,\n",
       " 0.7955522583077652,\n",
       " 0.8108558260115069,\n",
       " 0.6912447143468596,\n",
       " 0.5810444293953263,\n",
       " 0.7766521872823225,\n",
       " 0.5300127587831194,\n",
       " 0.8310764570920669,\n",
       " 0.7822148820323674,\n",
       " 0.8393775067172865,\n",
       " 0.5494185996422387,\n",
       " 0.6895443179469504,\n",
       " 0.5601502206714761,\n",
       " 0.5998839601536576,\n",
       " 0.8453007565185175,\n",
       " 0.6364769762115119,\n",
       " 0.7295427034198025,\n",
       " 0.6728533982977478,\n",
       " 0.7686531896713793,\n",
       " 0.697225664703141,\n",
       " 0.7399086887724452,\n",
       " 0.7781725235376007,\n",
       " 0.6994463910711983,\n",
       " 0.8465507637391452,\n",
       " 0.7011443958569674,\n",
       " 0.7923451954545803,\n",
       " 0.5230209594209017,\n",
       " 0.7954722551064117,\n",
       " 0.577701537359565,\n",
       " 0.6601529166505269,\n",
       " 0.47370266938802885,\n",
       " 0.6333200303540931,\n",
       " 0.8327576731809602,\n",
       " 0.7704646508783508,\n",
       " 0.8577067175517253,\n",
       " 0.652783840905294,\n",
       " 0.8259298821861472,\n",
       " 0.6913766977669227,\n",
       " 0.6731154924705379,\n",
       " 0.8391710806619118,\n",
       " 0.7726422855073488,\n",
       " 0.6530077247122836,\n",
       " 0.5016323435140843,\n",
       " 0.7710970247950836,\n",
       " 0.3624616524996389,\n",
       " 0.6171712064535781,\n",
       " 0.7587888082581848,\n",
       " 0.8321826447625678,\n",
       " 0.6938047178321214,\n",
       " 0.7832121007168806,\n",
       " 0.701802193615862,\n",
       " 0.706640950287253,\n",
       " 0.6126621161285015,\n",
       " 0.7722929396986823,\n",
       " 0.8122662438532284,\n",
       " 0.8470787295224944,\n",
       " 0.8099629286267775,\n",
       " 0.7632029798804503,\n",
       " 0.639928991920955,\n",
       " 0.5473606611893047,\n",
       " 0.583004934460736,\n",
       " 0.6032248778347378,\n",
       " 0.8543727395246068,\n",
       " 0.41992601855114686,\n",
       " 0.8433576613225964,\n",
       " 0.4143195402091775,\n",
       " 0.5263291501806852,\n",
       " 0.8193557347685445,\n",
       " 0.8058541535958079,\n",
       " 0.791711145601773,\n",
       " 0.8437060523474826,\n",
       " 0.8082798463184204,\n",
       " 0.8122640961303413,\n",
       " 0.844084065302287,\n",
       " 0.8602282655098469,\n",
       " 0.7237107721995204,\n",
       " 0.3048529005810259,\n",
       " 0.6222302895258129,\n",
       " 0.3896638684580733,\n",
       " 0.7654590033366657,\n",
       " 0.49885425923734217,\n",
       " 0.46866693605517706,\n",
       " 0.6648766813093414,\n",
       " 0.7192951842987012,\n",
       " 0.7856448860401213,\n",
       " 0.5341420096335521,\n",
       " 0.7929264628675236,\n",
       " 0.45571823548824975,\n",
       " 0.6986115193752276,\n",
       " 0.8643753966654129,\n",
       " 0.6481091742326048,\n",
       " 0.45881019819486923,\n",
       " 0.5799141835476552,\n",
       " 0.5563023875170988,\n",
       " 0.6624430916423886,\n",
       " 0.8436587878664132,\n",
       " 0.788132188501562,\n",
       " 0.6583325637434354,\n",
       " 0.7642170684478219,\n",
       " 0.6599946992667296,\n",
       " 0.5385012514811367,\n",
       " 0.7128259559134956,\n",
       " 0.6668089231446923,\n",
       " 0.578116338778198,\n",
       " 0.780068040788198,\n",
       " 0.813016393101556,\n",
       " 0.7211152954103648,\n",
       " 0.39177368914169486,\n",
       " 0.651716116731251,\n",
       " 0.6456271680538016,\n",
       " 0.6304685276038765,\n",
       " 0.6244419706417224,\n",
       " 0.6176564987377751,\n",
       " 0.7318056256620304,\n",
       " 0.6557400509831524,\n",
       " 0.2658810004688512,\n",
       " 0.7402027402419556,\n",
       " 0.8426969981556228,\n",
       " 0.8052354744365231,\n",
       " 0.8616852663433519,\n",
       " 0.7989243536199974,\n",
       " 0.7220183945000025,\n",
       " 0.7390206852698815,\n",
       " 0.6289833056147758,\n",
       " 0.790999201363275,\n",
       " 0.4159071301036631,\n",
       " 0.7490035072346695,\n",
       " 0.770975280640718,\n",
       " 0.7736130645376529,\n",
       " 0.8038433718733774,\n",
       " 0.8638699545904351,\n",
       " 0.620231636259468,\n",
       " 0.4093072173877649,\n",
       " 0.9023956860975215,\n",
       " 0.790532424234359,\n",
       " 0.7630152893616879,\n",
       " 0.920088412025344,\n",
       " 0.6547185173287567,\n",
       " 0.5271181007807854,\n",
       " 0.7765611775375438,\n",
       " 0.7887713477486026,\n",
       " 0.38938190532391703,\n",
       " 0.8802047777029065,\n",
       " 0.5453829069319892,\n",
       " 0.6627710641483588,\n",
       " 0.7663622131824577,\n",
       " 0.6406050430953001,\n",
       " 0.842615581548884,\n",
       " 0.7800283099129027,\n",
       " 0.774646006728462,\n",
       " 0.834624789035112,\n",
       " 0.8146941647366153,\n",
       " 0.6593021674200131,\n",
       " 0.6301826068490918,\n",
       " 0.7209013339656105,\n",
       " 0.7371955082653174,\n",
       " 0.6937212457000854,\n",
       " 0.6315257160147127,\n",
       " 0.5873543099089409,\n",
       " 0.8454700288885351,\n",
       " 0.7004254663557954,\n",
       " 0.750134489158072,\n",
       " 0.56941981988033,\n",
       " 0.7315978638338263,\n",
       " 0.6797327472010379,\n",
       " 0.5767630475659363,\n",
       " 0.6172734933835256,\n",
       " 0.8433566836899049,\n",
       " 0.6838139123697411,\n",
       " 0.6851342685078019,\n",
       " 0.797973874601178,\n",
       " 0.6802023460693247,\n",
       " 0.8170995190739052,\n",
       " 0.7090269464650943,\n",
       " 0.6913834301600755,\n",
       " 0.7241105907017831,\n",
       " 0.7668663844080396,\n",
       " 0.7629045081318271,\n",
       " 0.6158359146656008,\n",
       " 0.7803484021751088,\n",
       " 0.7400331059443309,\n",
       " 0.48658049794954916,\n",
       " 0.6969397074731196,\n",
       " 0.5538113994150609,\n",
       " 0.7464542243206639,\n",
       " 0.6959321414591582,\n",
       " 0.66961397739888,\n",
       " 0.7452457758053126,\n",
       " 0.7016877592881958,\n",
       " 0.5875664707787667,\n",
       " 0.35860601434614126,\n",
       " 0.6308561337823706,\n",
       " 0.8341153976273347,\n",
       " 0.8439383573014168,\n",
       " 0.88085152637701,\n",
       " 0.5890046679033216,\n",
       " 0.7671740685720674,\n",
       " 0.8369725638308456,\n",
       " 0.4242592460870732,\n",
       " 0.6051218207339002,\n",
       " 0.6547321952965857,\n",
       " 0.5125175998382647,\n",
       " 0.7684674924681296,\n",
       " 0.7662604973996787,\n",
       " 0.86433951755631,\n",
       " 0.6986313195117528,\n",
       " 0.5676312258386922,\n",
       " 0.6317751573181001,\n",
       " 0.7578707912488063,\n",
       " 0.6051382081081891,\n",
       " 0.8702001202464675,\n",
       " 0.6704992026061187,\n",
       " 0.719525834765429,\n",
       " 0.812590368451992,\n",
       " 0.6964636040218246,\n",
       " 0.5665017820781557,\n",
       " 0.4024819735205749,\n",
       " 0.7134991968856057,\n",
       " 0.6498354163351863,\n",
       " 0.5986228615911104,\n",
       " 0.5665109694666163,\n",
       " 0.7632119802115749,\n",
       " 0.7175422992410136,\n",
       " 0.7758934079211164,\n",
       " 0.8430463687112099,\n",
       " 0.6274596783296857,\n",
       " 0.6148446145459313,\n",
       " 0.8012574363639193,\n",
       " 0.5182434170272421,\n",
       " 0.5075510187463798,\n",
       " 0.47185749107301644,\n",
       " 0.5382251965571636,\n",
       " 0.7000819997005375,\n",
       " 0.7309266105399597,\n",
       " 0.8207513871117424,\n",
       " 0.8250981982850516,\n",
       " 0.5515377302373698,\n",
       " 0.7821235531958506,\n",
       " 0.8197738534031505,\n",
       " 0.5350290987604136,\n",
       " 0.5658218410899473,\n",
       " 0.7494577839305753,\n",
       " 0.7892626078834051,\n",
       " 0.7971670528609504,\n",
       " 0.5965821064201591,\n",
       " 0.6894746538093669,\n",
       " 0.6170586486943531,\n",
       " 0.7150433331510441,\n",
       " 0.6902366814669595,\n",
       " 0.4450982282762611,\n",
       " 0.8328041140640529,\n",
       " 0.6461439430419916,\n",
       " 0.6678571509387004,\n",
       " 0.8257216729575706,\n",
       " 0.7663397165433203,\n",
       " 0.5576976645970726,\n",
       " 0.6729540852451934,\n",
       " 0.5856680870951567,\n",
       " 0.5818583010204185,\n",
       " 0.8256393075250639,\n",
       " 0.602195848671457,\n",
       " 0.7822669198280138,\n",
       " 0.7869573927553359,\n",
       " 0.7371151925753474,\n",
       " 0.8506224769716562,\n",
       " 0.7486850617775135,\n",
       " 0.792339959955735,\n",
       " 0.6776256923049411,\n",
       " 0.6670087080682656,\n",
       " 0.6591181212295394,\n",
       " 0.5659305441468833,\n",
       " 0.8369474266682131,\n",
       " 0.7622065039677562,\n",
       " 0.8180377532759805,\n",
       " 0.8108111941732032,\n",
       " 0.6901465796766283,\n",
       " 0.8785069153632471,\n",
       " 0.8440522275686668,\n",
       " 0.49391985284880846,\n",
       " 0.5206835547787247,\n",
       " 0.6437676301578378,\n",
       " 0.7073789195753712,\n",
       " 0.4533473765376589,\n",
       " 0.746974803288409,\n",
       " 0.6345766840522351,\n",
       " 0.8353151745437988,\n",
       " 0.702879763017179,\n",
       " 0.6462200479094917,\n",
       " 0.8573270630523138,\n",
       " 0.44802936835947094,\n",
       " 0.7167938005292296,\n",
       " 0.509717352382858,\n",
       " 0.622694443962735,\n",
       " 0.7266891815417108,\n",
       " 0.701503806176198,\n",
       " 0.8318723811791571,\n",
       " 0.5984498185765126,\n",
       " 0.8454266856952788,\n",
       " 0.8569552860747115,\n",
       " 0.7709771492790952,\n",
       " 0.5908386195294559,\n",
       " 0.693720835306731,\n",
       " 0.6917769844021,\n",
       " 0.793100114825741,\n",
       " 0.6786229950174663,\n",
       " 0.4196768198598563,\n",
       " 0.7263043391715012,\n",
       " 0.6254881858285509,\n",
       " 0.7785950573302187,\n",
       " 0.5375188187361897,\n",
       " 0.6304981351971035,\n",
       " 0.46062125835959367,\n",
       " 0.7991627841354085,\n",
       " 0.8843235510147672,\n",
       " 0.5373043533708874,\n",
       " 0.791304718096493,\n",
       " 0.6436733110407387,\n",
       " 0.6788668792760812,\n",
       " 0.6386449246123238,\n",
       " 0.6703988604205706,\n",
       " 0.6958299146097788,\n",
       " 0.7283242986264693,\n",
       " 0.8660136438328447,\n",
       " 0.8096837534448447,\n",
       " 0.8403109208743423,\n",
       " 0.6764912773560998,\n",
       " 0.7526518845119126,\n",
       " 0.6401614879325721,\n",
       " 0.759157070705144,\n",
       " 0.8204069993684313,\n",
       " 0.715731846700888,\n",
       " 0.7903478027414106,\n",
       " 0.812897255981309,\n",
       " 0.7264949594940135,\n",
       " 0.6995007736331131,\n",
       " 0.7139179554336198,\n",
       " 0.7554264826216368,\n",
       " 0.5422804004005649,\n",
       " 0.4346715654722332,\n",
       " 0.7729118014491336,\n",
       " 0.5360055630642429,\n",
       " 0.6730190511307679,\n",
       " 0.850215326162721,\n",
       " 0.6626577855534592,\n",
       " 0.7026969336014897,\n",
       " 0.6468829200955126,\n",
       " 0.3147985191327862,\n",
       " 0.6206661685215792,\n",
       " 0.7012846677837832,\n",
       " 0.6169611595732569,\n",
       " 0.7126100251802068,\n",
       " 0.6216813903664059,\n",
       " 0.5922829729055161,\n",
       " 0.7831394137476683,\n",
       " 0.7995533347065703,\n",
       " 0.8627095619263399,\n",
       " 0.814188954795225,\n",
       " 0.7542259709045541,\n",
       " 0.7192868957831586,\n",
       " 0.7685741625604281,\n",
       " 0.7207046437640322,\n",
       " 0.8309774944729467,\n",
       " 0.7377036756905434,\n",
       " 0.6031039946339203,\n",
       " 0.8808872680145937,\n",
       " 0.7638946269858116,\n",
       " 0.6049529236672194,\n",
       " 0.44212879784428616,\n",
       " 0.6041860027622914,\n",
       " 0.8209859312455154,\n",
       " 0.7311749430515786,\n",
       " 0.806375335526049,\n",
       " 0.7391120199401375,\n",
       " 0.5293206922724079,\n",
       " 0.7046619060470563,\n",
       " 0.7142796316039527,\n",
       " 0.7600015303971984,\n",
       " 0.7411872443287071,\n",
       " 0.6595295379391074,\n",
       " 0.801401095830441,\n",
       " 0.6679636362245116,\n",
       " 0.9027033969807949,\n",
       " 0.7253468106891425,\n",
       " 0.49556171946960015,\n",
       " 0.8927350376163314,\n",
       " 0.8066220359704918,\n",
       " 0.8104839460514489,\n",
       " 0.8851716363250299,\n",
       " 0.6804649807417853,\n",
       " 0.7597468648100932,\n",
       " 0.7922130278255255,\n",
       " 0.8543617541784962,\n",
       " 0.7110488286702845,\n",
       " 0.7092359722624123,\n",
       " 0.5975416486954794,\n",
       " 0.6236043792980959,\n",
       " 0.8424167321955692,\n",
       " 0.4723039875455699,\n",
       " 0.4786261391477795,\n",
       " 0.7340969860778773,\n",
       " 0.4465658983439591,\n",
       " 0.5807465575424102,\n",
       " 0.8131765066624809,\n",
       " 0.8120003248166551,\n",
       " 0.7781570666791714,\n",
       " 0.8322743237926078,\n",
       " 0.8864707869674421,\n",
       " 0.8203490839767732,\n",
       " 0.7320374489352104,\n",
       " 0.697495435832604,\n",
       " 0.5990402072412481,\n",
       " 0.5843845682752269,\n",
       " 0.8113699360406739,\n",
       " 0.7213273580489103,\n",
       " 0.7963793229479982,\n",
       " 0.7303182528960399,\n",
       " 0.6602767793458173,\n",
       " 0.7931463405898728,\n",
       " 0.7699132817226733,\n",
       " 0.8408041476158085,\n",
       " 0.5891278760999136,\n",
       " 0.8472495727070668,\n",
       " 0.6847976935977225,\n",
       " 0.754159334404618,\n",
       " 0.7202223982546619,\n",
       " 0.893525435219074,\n",
       " 0.7159546213529089,\n",
       " 0.393048942695848,\n",
       " 0.7755500068587919,\n",
       " 0.6183330533432755,\n",
       " 0.8318525335466667,\n",
       " 0.6201883361818086,\n",
       " 0.7060408120750966,\n",
       " 0.7998277773898663,\n",
       " 0.7198072202652717,\n",
       " 0.7988207678757566,\n",
       " 0.6343596199462955,\n",
       " 0.7488893520481703,\n",
       " 0.7783969708505359,\n",
       " 0.8763442768007046,\n",
       " 0.7546833949227159,\n",
       " 0.7635763028049057,\n",
       " 0.7411567432409101,\n",
       " 0.5380478174729584,\n",
       " 0.7736171307876324,\n",
       " 0.486748689104918,\n",
       " 0.8358742182863133,\n",
       " 0.8893682867082772,\n",
       " 0.8234805779207998,\n",
       " 0.893362895061033,\n",
       " 0.6899864125178511,\n",
       " 0.3237778076997164,\n",
       " 0.6400000665876326,\n",
       " 0.7485567207193465,\n",
       " 0.37902931907120163,\n",
       " 0.8047655772860169,\n",
       " 0.7310335673699349,\n",
       " 0.6726020972058889,\n",
       " 0.7821555692535715,\n",
       " 0.7116566020681527,\n",
       " 0.29427132719057125,\n",
       " 0.6672331082530116,\n",
       " 0.8658954358348259,\n",
       " 0.7616870835710612,\n",
       " 0.7285350045339278,\n",
       " 0.6660288207351156,\n",
       " 0.5925237188751902,\n",
       " 0.8773513751321083,\n",
       " 0.6749822724757679,\n",
       " 0.703938391217825,\n",
       " 0.7627456237676113,\n",
       " 0.8284898802011255,\n",
       " 0.7494276693509953,\n",
       " 0.6730087729995708,\n",
       " 0.6661740666794238,\n",
       " 0.7552569427100454,\n",
       " 0.48543095176375195,\n",
       " 0.7611783132877479,\n",
       " 0.7470120189565401,\n",
       " 0.8369519541087685,\n",
       " 0.7868845357002138]"
      ]
     },
     "execution_count": 110,
     "metadata": {},
     "output_type": "execute_result"
    }
   ],
   "source": [
    "scores"
   ]
  },
  {
   "cell_type": "code",
   "execution_count": 139,
   "metadata": {},
   "outputs": [
    {
     "data": {
      "text/plain": [
       "0.9579677974741165"
      ]
     },
     "execution_count": 139,
     "metadata": {},
     "output_type": "execute_result"
    }
   ],
   "source": [
    "scores[np.argmax(scores)]"
   ]
  },
  {
   "cell_type": "code",
   "execution_count": 147,
   "metadata": {},
   "outputs": [],
   "source": [
    "# name,company,fuel_type,year,km_driven = input('Enter Car details')\n",
    "# pipe.predict()\n",
    "record = pd.DataFrame(columns=X_test.columns,data=np.array(['Maruti Suzuki Swift','Maruti',2019,100,'Petrol']).reshape(1,5))"
   ]
  },
  {
   "cell_type": "code",
   "execution_count": 148,
   "metadata": {},
   "outputs": [
    {
     "data": {
      "text/plain": [
       "array([400707.28215338])"
      ]
     },
     "execution_count": 148,
     "metadata": {},
     "output_type": "execute_result"
    }
   ],
   "source": [
    "pipe.predict(record)"
   ]
  },
  {
   "cell_type": "markdown",
   "metadata": {},
   "source": [
    "#### The best model is found at a certain random state "
   ]
  },
  {
   "cell_type": "code",
   "execution_count": 66,
   "metadata": {},
   "outputs": [
    {
     "data": {
      "text/plain": [
       "0.6406050430953001"
      ]
     },
     "execution_count": 66,
     "metadata": {},
     "output_type": "execute_result"
    }
   ],
   "source": [
    "X_train,X_test,y_train,y_test=train_test_split(X,y,test_size=0.1,random_state=665)\n",
    "lr=LinearRegression()\n",
    "pipe=make_pipeline(column_trans,lr)\n",
    "pipe.fit(X_train,y_train)\n",
    "y_pred=pipe.predict(X_test)\n",
    "r2_score(y_test,y_pred)"
   ]
  },
  {
   "cell_type": "code",
   "execution_count": null,
   "metadata": {},
   "outputs": [],
   "source": [
    "import pickle"
   ]
  },
  {
   "cell_type": "code",
   "execution_count": null,
   "metadata": {},
   "outputs": [],
   "source": [
    "pickle.dump(pipe,open('LinearRegressionModel.pkl','wb'))"
   ]
  },
  {
   "cell_type": "code",
   "execution_count": 68,
   "metadata": {},
   "outputs": [
    {
     "data": {
      "text/plain": [
       "array([416197.88186479])"
      ]
     },
     "execution_count": 68,
     "metadata": {},
     "output_type": "execute_result"
    }
   ],
   "source": [
    "pipe.predict(pd.DataFrame(columns=['name','company','year','kms_driven','fuel_type'],data=np.array(['Maruti Suzuki Swift','Maruti',2019,100,'Petrol']).reshape(1,5)))"
   ]
  },
  {
   "cell_type": "code",
   "execution_count": 140,
   "metadata": {},
   "outputs": [
    {
     "data": {
      "text/plain": [
       "array([400707.28215338])"
      ]
     },
     "execution_count": 140,
     "metadata": {},
     "output_type": "execute_result"
    }
   ],
   "source": [
    "pipe.predict(pd.DataFrame(columns=['name','company','year','kms_driven','fuel_type'],data=np.array(['Maruti Suzuki Swift','Maruti',2019,100,'Petrol']).reshape(1,5)))"
   ]
  },
  {
   "cell_type": "code",
   "execution_count": 71,
   "metadata": {},
   "outputs": [
    {
     "data": {
      "text/plain": [
       "array([310277.67791338])"
      ]
     },
     "execution_count": 71,
     "metadata": {},
     "output_type": "execute_result"
    }
   ],
   "source": [
    "pipe.predict(pd.DataFrame(columns=['name','company','year','kms_driven','fuel_type'],data=np.array(['Toyota Corolla Altis','Toyota',2009,132000,'Petrol']).reshape(1,5)))"
   ]
  },
  {
   "cell_type": "code",
   "execution_count": null,
   "metadata": {},
   "outputs": [],
   "source": [
    "Toyota Corolla Altis\tToyota\t2009\t132000\tPetrol"
   ]
  },
  {
   "cell_type": "code",
   "execution_count": null,
   "metadata": {},
   "outputs": [],
   "source": []
  },
  {
   "cell_type": "code",
   "execution_count": 143,
   "metadata": {},
   "outputs": [
    {
     "data": {
      "text/plain": [
       "array([126539.83468379])"
      ]
     },
     "execution_count": 143,
     "metadata": {},
     "output_type": "execute_result"
    }
   ],
   "source": [
    "pipe.predict(pd.DataFrame(columns=['name','company','year','kms_driven','fuel_type'],data=np.array([\"Tata Indica V2\",\"Tata\",2009,30000,'Diesel']).reshape(1,5)))"
   ]
  },
  {
   "cell_type": "code",
   "execution_count": null,
   "metadata": {
    "scrolled": true
   },
   "outputs": [],
   "source": [
    "pipe.steps[0][1].transformers[0][1].categories[0]"
   ]
  },
  {
   "cell_type": "code",
   "execution_count": null,
   "metadata": {},
   "outputs": [],
   "source": []
  },
  {
   "cell_type": "code",
   "execution_count": null,
   "metadata": {},
   "outputs": [],
   "source": []
  },
  {
   "cell_type": "code",
   "execution_count": null,
   "metadata": {},
   "outputs": [],
   "source": []
  },
  {
   "cell_type": "code",
   "execution_count": null,
   "metadata": {},
   "outputs": [],
   "source": []
  }
 ],
 "metadata": {
  "kernelspec": {
   "display_name": "Python 3",
   "language": "python",
   "name": "python3"
  },
  "language_info": {
   "codemirror_mode": {
    "name": "ipython",
    "version": 3
   },
   "file_extension": ".py",
   "mimetype": "text/x-python",
   "name": "python",
   "nbconvert_exporter": "python",
   "pygments_lexer": "ipython3",
   "version": "3.7.4"
  }
 },
 "nbformat": 4,
 "nbformat_minor": 2
}
