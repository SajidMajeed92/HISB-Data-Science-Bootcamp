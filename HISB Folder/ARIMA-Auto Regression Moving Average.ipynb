{
 "cells": [
  {
   "cell_type": "code",
   "execution_count": 1,
   "id": "877500dd",
   "metadata": {},
   "outputs": [],
   "source": [
    "import numpy as np\n",
    "import matplotlib.pyplot as plt\n",
    "import statsmodels.api as sms\n",
    "import pandas as pd\n",
    "\n",
    "%matplotlib inline"
   ]
  },
  {
   "cell_type": "code",
   "execution_count": 2,
   "id": "7e0ccdf5",
   "metadata": {},
   "outputs": [
    {
     "data": {
      "text/html": [
       "<div>\n",
       "<style scoped>\n",
       "    .dataframe tbody tr th:only-of-type {\n",
       "        vertical-align: middle;\n",
       "    }\n",
       "\n",
       "    .dataframe tbody tr th {\n",
       "        vertical-align: top;\n",
       "    }\n",
       "\n",
       "    .dataframe thead th {\n",
       "        text-align: right;\n",
       "    }\n",
       "</style>\n",
       "<table border=\"1\" class=\"dataframe\">\n",
       "  <thead>\n",
       "    <tr style=\"text-align: right;\">\n",
       "      <th></th>\n",
       "      <th>Month</th>\n",
       "      <th>Passengers</th>\n",
       "    </tr>\n",
       "  </thead>\n",
       "  <tbody>\n",
       "    <tr>\n",
       "      <th>0</th>\n",
       "      <td>1949-01</td>\n",
       "      <td>112</td>\n",
       "    </tr>\n",
       "    <tr>\n",
       "      <th>1</th>\n",
       "      <td>1949-02</td>\n",
       "      <td>118</td>\n",
       "    </tr>\n",
       "    <tr>\n",
       "      <th>2</th>\n",
       "      <td>1949-03</td>\n",
       "      <td>132</td>\n",
       "    </tr>\n",
       "    <tr>\n",
       "      <th>3</th>\n",
       "      <td>1949-04</td>\n",
       "      <td>129</td>\n",
       "    </tr>\n",
       "    <tr>\n",
       "      <th>4</th>\n",
       "      <td>1949-05</td>\n",
       "      <td>121</td>\n",
       "    </tr>\n",
       "  </tbody>\n",
       "</table>\n",
       "</div>"
      ],
      "text/plain": [
       "     Month  Passengers\n",
       "0  1949-01         112\n",
       "1  1949-02         118\n",
       "2  1949-03         132\n",
       "3  1949-04         129\n",
       "4  1949-05         121"
      ]
     },
     "execution_count": 2,
     "metadata": {},
     "output_type": "execute_result"
    }
   ],
   "source": [
    "df_airline=pd.read_csv('airpassengers.csv')\n",
    "df_airline.head()"
   ]
  },
  {
   "cell_type": "code",
   "execution_count": 3,
   "id": "c3a67690",
   "metadata": {},
   "outputs": [
    {
     "data": {
      "text/plain": [
       "(144, 2)"
      ]
     },
     "execution_count": 3,
     "metadata": {},
     "output_type": "execute_result"
    }
   ],
   "source": [
    "df_airline.shape"
   ]
  },
  {
   "cell_type": "code",
   "execution_count": 4,
   "id": "83ef9436",
   "metadata": {},
   "outputs": [
    {
     "name": "stdout",
     "output_type": "stream",
     "text": [
      "<class 'pandas.core.frame.DataFrame'>\n",
      "RangeIndex: 144 entries, 0 to 143\n",
      "Data columns (total 2 columns):\n",
      " #   Column      Non-Null Count  Dtype \n",
      "---  ------      --------------  ----- \n",
      " 0   Month       144 non-null    object\n",
      " 1   Passengers  144 non-null    int64 \n",
      "dtypes: int64(1), object(1)\n",
      "memory usage: 2.4+ KB\n"
     ]
    }
   ],
   "source": [
    "df_airline.info()"
   ]
  },
  {
   "cell_type": "code",
   "execution_count": 5,
   "id": "40bad940",
   "metadata": {},
   "outputs": [
    {
     "data": {
      "text/plain": [
       "Month         0\n",
       "Passengers    0\n",
       "dtype: int64"
      ]
     },
     "execution_count": 5,
     "metadata": {},
     "output_type": "execute_result"
    }
   ],
   "source": [
    "df_airline.isnull().sum()"
   ]
  },
  {
   "cell_type": "code",
   "execution_count": 6,
   "id": "098fcbe0",
   "metadata": {},
   "outputs": [],
   "source": [
    "df_airline['Month']=pd.to_datetime(df_airline['Month'])"
   ]
  },
  {
   "cell_type": "code",
   "execution_count": 7,
   "id": "2ac39706",
   "metadata": {},
   "outputs": [
    {
     "name": "stdout",
     "output_type": "stream",
     "text": [
      "<class 'pandas.core.frame.DataFrame'>\n",
      "RangeIndex: 144 entries, 0 to 143\n",
      "Data columns (total 2 columns):\n",
      " #   Column      Non-Null Count  Dtype         \n",
      "---  ------      --------------  -----         \n",
      " 0   Month       144 non-null    datetime64[ns]\n",
      " 1   Passengers  144 non-null    int64         \n",
      "dtypes: datetime64[ns](1), int64(1)\n",
      "memory usage: 2.4 KB\n"
     ]
    }
   ],
   "source": [
    "df_airline.info()"
   ]
  },
  {
   "cell_type": "code",
   "execution_count": 8,
   "id": "65ddca5e",
   "metadata": {},
   "outputs": [
    {
     "data": {
      "text/html": [
       "<div>\n",
       "<style scoped>\n",
       "    .dataframe tbody tr th:only-of-type {\n",
       "        vertical-align: middle;\n",
       "    }\n",
       "\n",
       "    .dataframe tbody tr th {\n",
       "        vertical-align: top;\n",
       "    }\n",
       "\n",
       "    .dataframe thead th {\n",
       "        text-align: right;\n",
       "    }\n",
       "</style>\n",
       "<table border=\"1\" class=\"dataframe\">\n",
       "  <thead>\n",
       "    <tr style=\"text-align: right;\">\n",
       "      <th></th>\n",
       "      <th>Month</th>\n",
       "      <th>Passengers</th>\n",
       "    </tr>\n",
       "  </thead>\n",
       "  <tbody>\n",
       "    <tr>\n",
       "      <th>0</th>\n",
       "      <td>1949-01-01</td>\n",
       "      <td>112</td>\n",
       "    </tr>\n",
       "    <tr>\n",
       "      <th>1</th>\n",
       "      <td>1949-02-01</td>\n",
       "      <td>118</td>\n",
       "    </tr>\n",
       "    <tr>\n",
       "      <th>2</th>\n",
       "      <td>1949-03-01</td>\n",
       "      <td>132</td>\n",
       "    </tr>\n",
       "    <tr>\n",
       "      <th>3</th>\n",
       "      <td>1949-04-01</td>\n",
       "      <td>129</td>\n",
       "    </tr>\n",
       "    <tr>\n",
       "      <th>4</th>\n",
       "      <td>1949-05-01</td>\n",
       "      <td>121</td>\n",
       "    </tr>\n",
       "  </tbody>\n",
       "</table>\n",
       "</div>"
      ],
      "text/plain": [
       "       Month  Passengers\n",
       "0 1949-01-01         112\n",
       "1 1949-02-01         118\n",
       "2 1949-03-01         132\n",
       "3 1949-04-01         129\n",
       "4 1949-05-01         121"
      ]
     },
     "execution_count": 8,
     "metadata": {},
     "output_type": "execute_result"
    }
   ],
   "source": [
    "df_airline.head()"
   ]
  },
  {
   "cell_type": "code",
   "execution_count": 9,
   "id": "1511c9a2",
   "metadata": {},
   "outputs": [],
   "source": [
    "df_airline.set_index('Month',inplace=True)"
   ]
  },
  {
   "cell_type": "code",
   "execution_count": 10,
   "id": "d3e10533",
   "metadata": {},
   "outputs": [
    {
     "data": {
      "text/html": [
       "<div>\n",
       "<style scoped>\n",
       "    .dataframe tbody tr th:only-of-type {\n",
       "        vertical-align: middle;\n",
       "    }\n",
       "\n",
       "    .dataframe tbody tr th {\n",
       "        vertical-align: top;\n",
       "    }\n",
       "\n",
       "    .dataframe thead th {\n",
       "        text-align: right;\n",
       "    }\n",
       "</style>\n",
       "<table border=\"1\" class=\"dataframe\">\n",
       "  <thead>\n",
       "    <tr style=\"text-align: right;\">\n",
       "      <th></th>\n",
       "      <th>Passengers</th>\n",
       "    </tr>\n",
       "    <tr>\n",
       "      <th>Month</th>\n",
       "      <th></th>\n",
       "    </tr>\n",
       "  </thead>\n",
       "  <tbody>\n",
       "    <tr>\n",
       "      <th>1949-01-01</th>\n",
       "      <td>112</td>\n",
       "    </tr>\n",
       "    <tr>\n",
       "      <th>1949-02-01</th>\n",
       "      <td>118</td>\n",
       "    </tr>\n",
       "    <tr>\n",
       "      <th>1949-03-01</th>\n",
       "      <td>132</td>\n",
       "    </tr>\n",
       "    <tr>\n",
       "      <th>1949-04-01</th>\n",
       "      <td>129</td>\n",
       "    </tr>\n",
       "    <tr>\n",
       "      <th>1949-05-01</th>\n",
       "      <td>121</td>\n",
       "    </tr>\n",
       "  </tbody>\n",
       "</table>\n",
       "</div>"
      ],
      "text/plain": [
       "            Passengers\n",
       "Month                 \n",
       "1949-01-01         112\n",
       "1949-02-01         118\n",
       "1949-03-01         132\n",
       "1949-04-01         129\n",
       "1949-05-01         121"
      ]
     },
     "execution_count": 10,
     "metadata": {},
     "output_type": "execute_result"
    }
   ],
   "source": [
    "df_airline.head()"
   ]
  },
  {
   "cell_type": "code",
   "execution_count": 11,
   "id": "225ae5e2",
   "metadata": {},
   "outputs": [
    {
     "data": {
      "text/plain": [
       "<AxesSubplot:xlabel='Month'>"
      ]
     },
     "execution_count": 11,
     "metadata": {},
     "output_type": "execute_result"
    },
    {
     "data": {
      "image/png": "[encoded data removed]",
      "text/plain": [
       "<Figure size 640x480 with 1 Axes>"
      ]
     },
     "metadata": {},
     "output_type": "display_data"
    }
   ],
   "source": [
    "df_airline.plot()"
   ]
  },
  {
   "cell_type": "markdown",
   "id": "860d0e2b",
   "metadata": {},
   "source": [
    "### Step1 : Stationarity of data\n",
    "\n",
    "Dicky Fuller Test "
   ]
  },
  {
   "cell_type": "code",
   "execution_count": 12,
   "id": "b390fba7",
   "metadata": {},
   "outputs": [],
   "source": [
    "from statsmodels.tsa.stattools import adfuller\n",
    "\n",
    "# it returns p-value >> Hypothesis Testing\n",
    "# ho >>> Null \n",
    "# h1 >>> Alternate"
   ]
  },
  {
   "cell_type": "code",
   "execution_count": 13,
   "id": "0948a4c4",
   "metadata": {},
   "outputs": [],
   "source": [
    "def adf_test(series):\n",
    "    result=adfuller(series)\n",
    "    print('ADF Statistics: {}'.format(result[0]))\n",
    "    print('p- value: {}'.format(result[1]))\n",
    "    if result[1] <= 0.05:\n",
    "        print(\"strong evidence against the null hypothesis, reject the null hypothesis. Data has no unit root and is stationary\")\n",
    "    else:\n",
    "        print(\"weak evidence against null hypothesis, time series has a unit root, indicating it is non-stationary \")"
   ]
  },
  {
   "cell_type": "markdown",
   "id": "eb83a97f",
   "metadata": {},
   "source": [
    "# if p >= .05   (Ho) True    ( non stationary)\n",
    "#   else : fails Ha               (Stationary)"
   ]
  },
  {
   "cell_type": "code",
   "execution_count": 14,
   "id": "321bdb26",
   "metadata": {},
   "outputs": [
    {
     "name": "stdout",
     "output_type": "stream",
     "text": [
      "ADF Statistics: 0.8153688792060433\n",
      "p- value: 0.9918802434376409\n",
      "weak evidence against null hypothesis, time series has a unit root, indicating it is non-stationary \n"
     ]
    }
   ],
   "source": [
    "adf_test(df_airline['Passengers'])"
   ]
  },
  {
   "cell_type": "code",
   "execution_count": 15,
   "id": "88fbba36",
   "metadata": {},
   "outputs": [],
   "source": [
    "## Use Techniques Differencing\n",
    "df_airline['Passengers First Difference']=df_airline['Passengers']-df_airline['Passengers'].shift(1)"
   ]
  },
  {
   "cell_type": "code",
   "execution_count": 23,
   "id": "275b7e6b",
   "metadata": {},
   "outputs": [
    {
     "data": {
      "text/html": [
       "<div>\n",
       "<style scoped>\n",
       "    .dataframe tbody tr th:only-of-type {\n",
       "        vertical-align: middle;\n",
       "    }\n",
       "\n",
       "    .dataframe tbody tr th {\n",
       "        vertical-align: top;\n",
       "    }\n",
       "\n",
       "    .dataframe thead th {\n",
       "        text-align: right;\n",
       "    }\n",
       "</style>\n",
       "<table border=\"1\" class=\"dataframe\">\n",
       "  <thead>\n",
       "    <tr style=\"text-align: right;\">\n",
       "      <th></th>\n",
       "      <th>Passengers</th>\n",
       "      <th>Passengers First Difference</th>\n",
       "    </tr>\n",
       "    <tr>\n",
       "      <th>Month</th>\n",
       "      <th></th>\n",
       "      <th></th>\n",
       "    </tr>\n",
       "  </thead>\n",
       "  <tbody>\n",
       "    <tr>\n",
       "      <th>1949-01-01</th>\n",
       "      <td>112</td>\n",
       "      <td>NaN</td>\n",
       "    </tr>\n",
       "    <tr>\n",
       "      <th>1949-02-01</th>\n",
       "      <td>118</td>\n",
       "      <td>6.0</td>\n",
       "    </tr>\n",
       "    <tr>\n",
       "      <th>1949-03-01</th>\n",
       "      <td>132</td>\n",
       "      <td>14.0</td>\n",
       "    </tr>\n",
       "    <tr>\n",
       "      <th>1949-04-01</th>\n",
       "      <td>129</td>\n",
       "      <td>-3.0</td>\n",
       "    </tr>\n",
       "    <tr>\n",
       "      <th>1949-05-01</th>\n",
       "      <td>121</td>\n",
       "      <td>-8.0</td>\n",
       "    </tr>\n",
       "    <tr>\n",
       "      <th>...</th>\n",
       "      <td>...</td>\n",
       "      <td>...</td>\n",
       "    </tr>\n",
       "    <tr>\n",
       "      <th>1960-08-01</th>\n",
       "      <td>606</td>\n",
       "      <td>-16.0</td>\n",
       "    </tr>\n",
       "    <tr>\n",
       "      <th>1960-09-01</th>\n",
       "      <td>508</td>\n",
       "      <td>-98.0</td>\n",
       "    </tr>\n",
       "    <tr>\n",
       "      <th>1960-10-01</th>\n",
       "      <td>461</td>\n",
       "      <td>-47.0</td>\n",
       "    </tr>\n",
       "    <tr>\n",
       "      <th>1960-11-01</th>\n",
       "      <td>390</td>\n",
       "      <td>-71.0</td>\n",
       "    </tr>\n",
       "    <tr>\n",
       "      <th>1960-12-01</th>\n",
       "      <td>432</td>\n",
       "      <td>42.0</td>\n",
       "    </tr>\n",
       "  </tbody>\n",
       "</table>\n",
       "<p>144 rows × 2 columns</p>\n",
       "</div>"
      ],
      "text/plain": [
       "            Passengers  Passengers First Difference\n",
       "Month                                              \n",
       "1949-01-01         112                          NaN\n",
       "1949-02-01         118                          6.0\n",
       "1949-03-01         132                         14.0\n",
       "1949-04-01         129                         -3.0\n",
       "1949-05-01         121                         -8.0\n",
       "...                ...                          ...\n",
       "1960-08-01         606                        -16.0\n",
       "1960-09-01         508                        -98.0\n",
       "1960-10-01         461                        -47.0\n",
       "1960-11-01         390                        -71.0\n",
       "1960-12-01         432                         42.0\n",
       "\n",
       "[144 rows x 2 columns]"
      ]
     },
     "execution_count": 23,
     "metadata": {},
     "output_type": "execute_result"
    }
   ],
   "source": [
    "df_airline"
   ]
  },
  {
   "cell_type": "code",
   "execution_count": 24,
   "id": "070a8956",
   "metadata": {},
   "outputs": [
    {
     "data": {
      "text/html": [
       "<div>\n",
       "<style scoped>\n",
       "    .dataframe tbody tr th:only-of-type {\n",
       "        vertical-align: middle;\n",
       "    }\n",
       "\n",
       "    .dataframe tbody tr th {\n",
       "        vertical-align: top;\n",
       "    }\n",
       "\n",
       "    .dataframe thead th {\n",
       "        text-align: right;\n",
       "    }\n",
       "</style>\n",
       "<table border=\"1\" class=\"dataframe\">\n",
       "  <thead>\n",
       "    <tr style=\"text-align: right;\">\n",
       "      <th></th>\n",
       "      <th>Passengers</th>\n",
       "      <th>Passengers First Difference</th>\n",
       "    </tr>\n",
       "    <tr>\n",
       "      <th>Month</th>\n",
       "      <th></th>\n",
       "      <th></th>\n",
       "    </tr>\n",
       "  </thead>\n",
       "  <tbody>\n",
       "    <tr>\n",
       "      <th>1949-01-01</th>\n",
       "      <td>112</td>\n",
       "      <td>NaN</td>\n",
       "    </tr>\n",
       "    <tr>\n",
       "      <th>1949-02-01</th>\n",
       "      <td>118</td>\n",
       "      <td>6.0</td>\n",
       "    </tr>\n",
       "    <tr>\n",
       "      <th>1949-03-01</th>\n",
       "      <td>132</td>\n",
       "      <td>14.0</td>\n",
       "    </tr>\n",
       "    <tr>\n",
       "      <th>1949-04-01</th>\n",
       "      <td>129</td>\n",
       "      <td>-3.0</td>\n",
       "    </tr>\n",
       "    <tr>\n",
       "      <th>1949-05-01</th>\n",
       "      <td>121</td>\n",
       "      <td>-8.0</td>\n",
       "    </tr>\n",
       "  </tbody>\n",
       "</table>\n",
       "</div>"
      ],
      "text/plain": [
       "            Passengers  Passengers First Difference\n",
       "Month                                              \n",
       "1949-01-01         112                          NaN\n",
       "1949-02-01         118                          6.0\n",
       "1949-03-01         132                         14.0\n",
       "1949-04-01         129                         -3.0\n",
       "1949-05-01         121                         -8.0"
      ]
     },
     "execution_count": 24,
     "metadata": {},
     "output_type": "execute_result"
    }
   ],
   "source": [
    "df_airline.head()"
   ]
  },
  {
   "cell_type": "code",
   "execution_count": 18,
   "id": "8104a37e",
   "metadata": {},
   "outputs": [
    {
     "name": "stdout",
     "output_type": "stream",
     "text": [
      "ADF Statistics: -2.8292668241699954\n",
      "p- value: 0.05421329028382609\n",
      "weak evidence against null hypothesis, time series has a unit root, indicating it is non-stationary \n"
     ]
    }
   ],
   "source": [
    "adf_test(df_airline['Passengers First Difference'].dropna())"
   ]
  },
  {
   "cell_type": "code",
   "execution_count": 19,
   "id": "783b5678",
   "metadata": {},
   "outputs": [
    {
     "ename": "KeyError",
     "evalue": "'Passengers Second Difference'",
     "output_type": "error",
     "traceback": [
      "\u001b[1;31m---------------------------------------------------------------------------\u001b[0m",
      "\u001b[1;31mKeyError\u001b[0m                                  Traceback (most recent call last)",
      "\u001b[1;32me:\\python\\.venv\\lib\\site-packages\\pandas\\core\\indexes\\base.py\u001b[0m in \u001b[0;36mget_loc\u001b[1;34m(self, key, method, tolerance)\u001b[0m\n\u001b[0;32m   3360\u001b[0m             \u001b[1;32mtry\u001b[0m\u001b[1;33m:\u001b[0m\u001b[1;33m\u001b[0m\u001b[1;33m\u001b[0m\u001b[0m\n\u001b[1;32m-> 3361\u001b[1;33m                 \u001b[1;32mreturn\u001b[0m \u001b[0mself\u001b[0m\u001b[1;33m.\u001b[0m\u001b[0m_engine\u001b[0m\u001b[1;33m.\u001b[0m\u001b[0mget_loc\u001b[0m\u001b[1;33m(\u001b[0m\u001b[0mcasted_key\u001b[0m\u001b[1;33m)\u001b[0m\u001b[1;33m\u001b[0m\u001b[1;33m\u001b[0m\u001b[0m\n\u001b[0m\u001b[0;32m   3362\u001b[0m             \u001b[1;32mexcept\u001b[0m \u001b[0mKeyError\u001b[0m \u001b[1;32mas\u001b[0m \u001b[0merr\u001b[0m\u001b[1;33m:\u001b[0m\u001b[1;33m\u001b[0m\u001b[1;33m\u001b[0m\u001b[0m\n",
      "\u001b[1;32me:\\python\\.venv\\lib\\site-packages\\pandas\\_libs\\index.pyx\u001b[0m in \u001b[0;36mpandas._libs.index.IndexEngine.get_loc\u001b[1;34m()\u001b[0m\n",
      "\u001b[1;32me:\\python\\.venv\\lib\\site-packages\\pandas\\_libs\\index.pyx\u001b[0m in \u001b[0;36mpandas._libs.index.IndexEngine.get_loc\u001b[1;34m()\u001b[0m\n",
      "\u001b[1;32mpandas\\_libs\\hashtable_class_helper.pxi\u001b[0m in \u001b[0;36mpandas._libs.hashtable.PyObjectHashTable.get_item\u001b[1;34m()\u001b[0m\n",
      "\u001b[1;32mpandas\\_libs\\hashtable_class_helper.pxi\u001b[0m in \u001b[0;36mpandas._libs.hashtable.PyObjectHashTable.get_item\u001b[1;34m()\u001b[0m\n",
      "\u001b[1;31mKeyError\u001b[0m: 'Passengers Second Difference'",
      "\nThe above exception was the direct cause of the following exception:\n",
      "\u001b[1;31mKeyError\u001b[0m                                  Traceback (most recent call last)",
      "\u001b[1;32m~\\AppData\\Local\\Temp\\ipykernel_14568\\1704504363.py\u001b[0m in \u001b[0;36m<module>\u001b[1;34m\u001b[0m\n\u001b[0;32m      1\u001b[0m \u001b[1;31m## Use Techniques Differencing\u001b[0m\u001b[1;33m\u001b[0m\u001b[1;33m\u001b[0m\u001b[1;33m\u001b[0m\u001b[0m\n\u001b[1;32m----> 2\u001b[1;33m \u001b[0mdf_airline\u001b[0m\u001b[1;33m[\u001b[0m\u001b[1;34m'Passengers Second Difference'\u001b[0m\u001b[1;33m]\u001b[0m\u001b[1;33m=\u001b[0m\u001b[0mdf_airline\u001b[0m\u001b[1;33m[\u001b[0m\u001b[1;34m'Passengers First Difference'\u001b[0m\u001b[1;33m]\u001b[0m\u001b[1;33m-\u001b[0m\u001b[0mdf_airline\u001b[0m\u001b[1;33m[\u001b[0m\u001b[1;34m'Passengers Second Difference'\u001b[0m\u001b[1;33m]\u001b[0m\u001b[1;33m.\u001b[0m\u001b[0mshift\u001b[0m\u001b[1;33m(\u001b[0m\u001b[1;36m1\u001b[0m\u001b[1;33m)\u001b[0m\u001b[1;33m\u001b[0m\u001b[1;33m\u001b[0m\u001b[0m\n\u001b[0m",
      "\u001b[1;32me:\\python\\.venv\\lib\\site-packages\\pandas\\core\\frame.py\u001b[0m in \u001b[0;36m__getitem__\u001b[1;34m(self, key)\u001b[0m\n\u001b[0;32m   3456\u001b[0m             \u001b[1;32mif\u001b[0m \u001b[0mself\u001b[0m\u001b[1;33m.\u001b[0m\u001b[0mcolumns\u001b[0m\u001b[1;33m.\u001b[0m\u001b[0mnlevels\u001b[0m \u001b[1;33m>\u001b[0m \u001b[1;36m1\u001b[0m\u001b[1;33m:\u001b[0m\u001b[1;33m\u001b[0m\u001b[1;33m\u001b[0m\u001b[0m\n\u001b[0;32m   3457\u001b[0m                 \u001b[1;32mreturn\u001b[0m \u001b[0mself\u001b[0m\u001b[1;33m.\u001b[0m\u001b[0m_getitem_multilevel\u001b[0m\u001b[1;33m(\u001b[0m\u001b[0mkey\u001b[0m\u001b[1;33m)\u001b[0m\u001b[1;33m\u001b[0m\u001b[1;33m\u001b[0m\u001b[0m\n\u001b[1;32m-> 3458\u001b[1;33m             \u001b[0mindexer\u001b[0m \u001b[1;33m=\u001b[0m \u001b[0mself\u001b[0m\u001b[1;33m.\u001b[0m\u001b[0mcolumns\u001b[0m\u001b[1;33m.\u001b[0m\u001b[0mget_loc\u001b[0m\u001b[1;33m(\u001b[0m\u001b[0mkey\u001b[0m\u001b[1;33m)\u001b[0m\u001b[1;33m\u001b[0m\u001b[1;33m\u001b[0m\u001b[0m\n\u001b[0m\u001b[0;32m   3459\u001b[0m             \u001b[1;32mif\u001b[0m \u001b[0mis_integer\u001b[0m\u001b[1;33m(\u001b[0m\u001b[0mindexer\u001b[0m\u001b[1;33m)\u001b[0m\u001b[1;33m:\u001b[0m\u001b[1;33m\u001b[0m\u001b[1;33m\u001b[0m\u001b[0m\n\u001b[0;32m   3460\u001b[0m                 \u001b[0mindexer\u001b[0m \u001b[1;33m=\u001b[0m \u001b[1;33m[\u001b[0m\u001b[0mindexer\u001b[0m\u001b[1;33m]\u001b[0m\u001b[1;33m\u001b[0m\u001b[1;33m\u001b[0m\u001b[0m\n",
      "\u001b[1;32me:\\python\\.venv\\lib\\site-packages\\pandas\\core\\indexes\\base.py\u001b[0m in \u001b[0;36mget_loc\u001b[1;34m(self, key, method, tolerance)\u001b[0m\n\u001b[0;32m   3361\u001b[0m                 \u001b[1;32mreturn\u001b[0m \u001b[0mself\u001b[0m\u001b[1;33m.\u001b[0m\u001b[0m_engine\u001b[0m\u001b[1;33m.\u001b[0m\u001b[0mget_loc\u001b[0m\u001b[1;33m(\u001b[0m\u001b[0mcasted_key\u001b[0m\u001b[1;33m)\u001b[0m\u001b[1;33m\u001b[0m\u001b[1;33m\u001b[0m\u001b[0m\n\u001b[0;32m   3362\u001b[0m             \u001b[1;32mexcept\u001b[0m \u001b[0mKeyError\u001b[0m \u001b[1;32mas\u001b[0m \u001b[0merr\u001b[0m\u001b[1;33m:\u001b[0m\u001b[1;33m\u001b[0m\u001b[1;33m\u001b[0m\u001b[0m\n\u001b[1;32m-> 3363\u001b[1;33m                 \u001b[1;32mraise\u001b[0m \u001b[0mKeyError\u001b[0m\u001b[1;33m(\u001b[0m\u001b[0mkey\u001b[0m\u001b[1;33m)\u001b[0m \u001b[1;32mfrom\u001b[0m \u001b[0merr\u001b[0m\u001b[1;33m\u001b[0m\u001b[1;33m\u001b[0m\u001b[0m\n\u001b[0m\u001b[0;32m   3364\u001b[0m \u001b[1;33m\u001b[0m\u001b[0m\n\u001b[0;32m   3365\u001b[0m         \u001b[1;32mif\u001b[0m \u001b[0mis_scalar\u001b[0m\u001b[1;33m(\u001b[0m\u001b[0mkey\u001b[0m\u001b[1;33m)\u001b[0m \u001b[1;32mand\u001b[0m \u001b[0misna\u001b[0m\u001b[1;33m(\u001b[0m\u001b[0mkey\u001b[0m\u001b[1;33m)\u001b[0m \u001b[1;32mand\u001b[0m \u001b[1;32mnot\u001b[0m \u001b[0mself\u001b[0m\u001b[1;33m.\u001b[0m\u001b[0mhasnans\u001b[0m\u001b[1;33m:\u001b[0m\u001b[1;33m\u001b[0m\u001b[1;33m\u001b[0m\u001b[0m\n",
      "\u001b[1;31mKeyError\u001b[0m: 'Passengers Second Difference'"
     ]
    }
   ],
   "source": [
    "## Use Techniques Differencing\n",
    "df_airline['Passengers Second Difference']=df_airline['Passengers First Difference']-df_airline['Passengers Second Difference'].shift(1)"
   ]
  },
  {
   "cell_type": "code",
   "execution_count": 20,
   "id": "f63e1485",
   "metadata": {},
   "outputs": [
    {
     "data": {
      "text/html": [
       "<div>\n",
       "<style scoped>\n",
       "    .dataframe tbody tr th:only-of-type {\n",
       "        vertical-align: middle;\n",
       "    }\n",
       "\n",
       "    .dataframe tbody tr th {\n",
       "        vertical-align: top;\n",
       "    }\n",
       "\n",
       "    .dataframe thead th {\n",
       "        text-align: right;\n",
       "    }\n",
       "</style>\n",
       "<table border=\"1\" class=\"dataframe\">\n",
       "  <thead>\n",
       "    <tr style=\"text-align: right;\">\n",
       "      <th></th>\n",
       "      <th>Passengers</th>\n",
       "      <th>Passengers First Difference</th>\n",
       "    </tr>\n",
       "    <tr>\n",
       "      <th>Month</th>\n",
       "      <th></th>\n",
       "      <th></th>\n",
       "    </tr>\n",
       "  </thead>\n",
       "  <tbody>\n",
       "    <tr>\n",
       "      <th>1949-01-01</th>\n",
       "      <td>112</td>\n",
       "      <td>NaN</td>\n",
       "    </tr>\n",
       "    <tr>\n",
       "      <th>1949-02-01</th>\n",
       "      <td>118</td>\n",
       "      <td>6.0</td>\n",
       "    </tr>\n",
       "    <tr>\n",
       "      <th>1949-03-01</th>\n",
       "      <td>132</td>\n",
       "      <td>14.0</td>\n",
       "    </tr>\n",
       "    <tr>\n",
       "      <th>1949-04-01</th>\n",
       "      <td>129</td>\n",
       "      <td>-3.0</td>\n",
       "    </tr>\n",
       "    <tr>\n",
       "      <th>1949-05-01</th>\n",
       "      <td>121</td>\n",
       "      <td>-8.0</td>\n",
       "    </tr>\n",
       "    <tr>\n",
       "      <th>...</th>\n",
       "      <td>...</td>\n",
       "      <td>...</td>\n",
       "    </tr>\n",
       "    <tr>\n",
       "      <th>1960-08-01</th>\n",
       "      <td>606</td>\n",
       "      <td>-16.0</td>\n",
       "    </tr>\n",
       "    <tr>\n",
       "      <th>1960-09-01</th>\n",
       "      <td>508</td>\n",
       "      <td>-98.0</td>\n",
       "    </tr>\n",
       "    <tr>\n",
       "      <th>1960-10-01</th>\n",
       "      <td>461</td>\n",
       "      <td>-47.0</td>\n",
       "    </tr>\n",
       "    <tr>\n",
       "      <th>1960-11-01</th>\n",
       "      <td>390</td>\n",
       "      <td>-71.0</td>\n",
       "    </tr>\n",
       "    <tr>\n",
       "      <th>1960-12-01</th>\n",
       "      <td>432</td>\n",
       "      <td>42.0</td>\n",
       "    </tr>\n",
       "  </tbody>\n",
       "</table>\n",
       "<p>144 rows × 2 columns</p>\n",
       "</div>"
      ],
      "text/plain": [
       "            Passengers  Passengers First Difference\n",
       "Month                                              \n",
       "1949-01-01         112                          NaN\n",
       "1949-02-01         118                          6.0\n",
       "1949-03-01         132                         14.0\n",
       "1949-04-01         129                         -3.0\n",
       "1949-05-01         121                         -8.0\n",
       "...                ...                          ...\n",
       "1960-08-01         606                        -16.0\n",
       "1960-09-01         508                        -98.0\n",
       "1960-10-01         461                        -47.0\n",
       "1960-11-01         390                        -71.0\n",
       "1960-12-01         432                         42.0\n",
       "\n",
       "[144 rows x 2 columns]"
      ]
     },
     "execution_count": 20,
     "metadata": {},
     "output_type": "execute_result"
    }
   ],
   "source": [
    "df_airline"
   ]
  },
  {
   "cell_type": "code",
   "execution_count": 21,
   "id": "0327c38a",
   "metadata": {},
   "outputs": [
    {
     "ename": "KeyError",
     "evalue": "'Passengers Second Difference'",
     "output_type": "error",
     "traceback": [
      "\u001b[1;31m---------------------------------------------------------------------------\u001b[0m",
      "\u001b[1;31mKeyError\u001b[0m                                  Traceback (most recent call last)",
      "\u001b[1;32me:\\python\\.venv\\lib\\site-packages\\pandas\\core\\indexes\\base.py\u001b[0m in \u001b[0;36mget_loc\u001b[1;34m(self, key, method, tolerance)\u001b[0m\n\u001b[0;32m   3360\u001b[0m             \u001b[1;32mtry\u001b[0m\u001b[1;33m:\u001b[0m\u001b[1;33m\u001b[0m\u001b[1;33m\u001b[0m\u001b[0m\n\u001b[1;32m-> 3361\u001b[1;33m                 \u001b[1;32mreturn\u001b[0m \u001b[0mself\u001b[0m\u001b[1;33m.\u001b[0m\u001b[0m_engine\u001b[0m\u001b[1;33m.\u001b[0m\u001b[0mget_loc\u001b[0m\u001b[1;33m(\u001b[0m\u001b[0mcasted_key\u001b[0m\u001b[1;33m)\u001b[0m\u001b[1;33m\u001b[0m\u001b[1;33m\u001b[0m\u001b[0m\n\u001b[0m\u001b[0;32m   3362\u001b[0m             \u001b[1;32mexcept\u001b[0m \u001b[0mKeyError\u001b[0m \u001b[1;32mas\u001b[0m \u001b[0merr\u001b[0m\u001b[1;33m:\u001b[0m\u001b[1;33m\u001b[0m\u001b[1;33m\u001b[0m\u001b[0m\n",
      "\u001b[1;32me:\\python\\.venv\\lib\\site-packages\\pandas\\_libs\\index.pyx\u001b[0m in \u001b[0;36mpandas._libs.index.IndexEngine.get_loc\u001b[1;34m()\u001b[0m\n",
      "\u001b[1;32me:\\python\\.venv\\lib\\site-packages\\pandas\\_libs\\index.pyx\u001b[0m in \u001b[0;36mpandas._libs.index.IndexEngine.get_loc\u001b[1;34m()\u001b[0m\n",
      "\u001b[1;32mpandas\\_libs\\hashtable_class_helper.pxi\u001b[0m in \u001b[0;36mpandas._libs.hashtable.PyObjectHashTable.get_item\u001b[1;34m()\u001b[0m\n",
      "\u001b[1;32mpandas\\_libs\\hashtable_class_helper.pxi\u001b[0m in \u001b[0;36mpandas._libs.hashtable.PyObjectHashTable.get_item\u001b[1;34m()\u001b[0m\n",
      "\u001b[1;31mKeyError\u001b[0m: 'Passengers Second Difference'",
      "\nThe above exception was the direct cause of the following exception:\n",
      "\u001b[1;31mKeyError\u001b[0m                                  Traceback (most recent call last)",
      "\u001b[1;32m~\\AppData\\Local\\Temp\\ipykernel_14568\\3204593523.py\u001b[0m in \u001b[0;36m<module>\u001b[1;34m\u001b[0m\n\u001b[1;32m----> 1\u001b[1;33m \u001b[0madf_test\u001b[0m\u001b[1;33m(\u001b[0m\u001b[0mdf_airline\u001b[0m\u001b[1;33m[\u001b[0m\u001b[1;34m'Passengers Second Difference'\u001b[0m\u001b[1;33m]\u001b[0m\u001b[1;33m.\u001b[0m\u001b[0mdropna\u001b[0m\u001b[1;33m(\u001b[0m\u001b[1;33m)\u001b[0m\u001b[1;33m)\u001b[0m\u001b[1;33m\u001b[0m\u001b[1;33m\u001b[0m\u001b[0m\n\u001b[0m",
      "\u001b[1;32me:\\python\\.venv\\lib\\site-packages\\pandas\\core\\frame.py\u001b[0m in \u001b[0;36m__getitem__\u001b[1;34m(self, key)\u001b[0m\n\u001b[0;32m   3456\u001b[0m             \u001b[1;32mif\u001b[0m \u001b[0mself\u001b[0m\u001b[1;33m.\u001b[0m\u001b[0mcolumns\u001b[0m\u001b[1;33m.\u001b[0m\u001b[0mnlevels\u001b[0m \u001b[1;33m>\u001b[0m \u001b[1;36m1\u001b[0m\u001b[1;33m:\u001b[0m\u001b[1;33m\u001b[0m\u001b[1;33m\u001b[0m\u001b[0m\n\u001b[0;32m   3457\u001b[0m                 \u001b[1;32mreturn\u001b[0m \u001b[0mself\u001b[0m\u001b[1;33m.\u001b[0m\u001b[0m_getitem_multilevel\u001b[0m\u001b[1;33m(\u001b[0m\u001b[0mkey\u001b[0m\u001b[1;33m)\u001b[0m\u001b[1;33m\u001b[0m\u001b[1;33m\u001b[0m\u001b[0m\n\u001b[1;32m-> 3458\u001b[1;33m             \u001b[0mindexer\u001b[0m \u001b[1;33m=\u001b[0m \u001b[0mself\u001b[0m\u001b[1;33m.\u001b[0m\u001b[0mcolumns\u001b[0m\u001b[1;33m.\u001b[0m\u001b[0mget_loc\u001b[0m\u001b[1;33m(\u001b[0m\u001b[0mkey\u001b[0m\u001b[1;33m)\u001b[0m\u001b[1;33m\u001b[0m\u001b[1;33m\u001b[0m\u001b[0m\n\u001b[0m\u001b[0;32m   3459\u001b[0m             \u001b[1;32mif\u001b[0m \u001b[0mis_integer\u001b[0m\u001b[1;33m(\u001b[0m\u001b[0mindexer\u001b[0m\u001b[1;33m)\u001b[0m\u001b[1;33m:\u001b[0m\u001b[1;33m\u001b[0m\u001b[1;33m\u001b[0m\u001b[0m\n\u001b[0;32m   3460\u001b[0m                 \u001b[0mindexer\u001b[0m \u001b[1;33m=\u001b[0m \u001b[1;33m[\u001b[0m\u001b[0mindexer\u001b[0m\u001b[1;33m]\u001b[0m\u001b[1;33m\u001b[0m\u001b[1;33m\u001b[0m\u001b[0m\n",
      "\u001b[1;32me:\\python\\.venv\\lib\\site-packages\\pandas\\core\\indexes\\base.py\u001b[0m in \u001b[0;36mget_loc\u001b[1;34m(self, key, method, tolerance)\u001b[0m\n\u001b[0;32m   3361\u001b[0m                 \u001b[1;32mreturn\u001b[0m \u001b[0mself\u001b[0m\u001b[1;33m.\u001b[0m\u001b[0m_engine\u001b[0m\u001b[1;33m.\u001b[0m\u001b[0mget_loc\u001b[0m\u001b[1;33m(\u001b[0m\u001b[0mcasted_key\u001b[0m\u001b[1;33m)\u001b[0m\u001b[1;33m\u001b[0m\u001b[1;33m\u001b[0m\u001b[0m\n\u001b[0;32m   3362\u001b[0m             \u001b[1;32mexcept\u001b[0m \u001b[0mKeyError\u001b[0m \u001b[1;32mas\u001b[0m \u001b[0merr\u001b[0m\u001b[1;33m:\u001b[0m\u001b[1;33m\u001b[0m\u001b[1;33m\u001b[0m\u001b[0m\n\u001b[1;32m-> 3363\u001b[1;33m                 \u001b[1;32mraise\u001b[0m \u001b[0mKeyError\u001b[0m\u001b[1;33m(\u001b[0m\u001b[0mkey\u001b[0m\u001b[1;33m)\u001b[0m \u001b[1;32mfrom\u001b[0m \u001b[0merr\u001b[0m\u001b[1;33m\u001b[0m\u001b[1;33m\u001b[0m\u001b[0m\n\u001b[0m\u001b[0;32m   3364\u001b[0m \u001b[1;33m\u001b[0m\u001b[0m\n\u001b[0;32m   3365\u001b[0m         \u001b[1;32mif\u001b[0m \u001b[0mis_scalar\u001b[0m\u001b[1;33m(\u001b[0m\u001b[0mkey\u001b[0m\u001b[1;33m)\u001b[0m \u001b[1;32mand\u001b[0m \u001b[0misna\u001b[0m\u001b[1;33m(\u001b[0m\u001b[0mkey\u001b[0m\u001b[1;33m)\u001b[0m \u001b[1;32mand\u001b[0m \u001b[1;32mnot\u001b[0m \u001b[0mself\u001b[0m\u001b[1;33m.\u001b[0m\u001b[0mhasnans\u001b[0m\u001b[1;33m:\u001b[0m\u001b[1;33m\u001b[0m\u001b[1;33m\u001b[0m\u001b[0m\n",
      "\u001b[1;31mKeyError\u001b[0m: 'Passengers Second Difference'"
     ]
    }
   ],
   "source": [
    "adf_test(df_airline['Passengers Second Difference'].dropna())"
   ]
  },
  {
   "cell_type": "code",
   "execution_count": 22,
   "id": "a4ae5440",
   "metadata": {},
   "outputs": [
    {
     "data": {
      "text/html": [
       "<div>\n",
       "<style scoped>\n",
       "    .dataframe tbody tr th:only-of-type {\n",
       "        vertical-align: middle;\n",
       "    }\n",
       "\n",
       "    .dataframe tbody tr th {\n",
       "        vertical-align: top;\n",
       "    }\n",
       "\n",
       "    .dataframe thead th {\n",
       "        text-align: right;\n",
       "    }\n",
       "</style>\n",
       "<table border=\"1\" class=\"dataframe\">\n",
       "  <thead>\n",
       "    <tr style=\"text-align: right;\">\n",
       "      <th></th>\n",
       "      <th>Passengers</th>\n",
       "      <th>Passengers First Difference</th>\n",
       "    </tr>\n",
       "    <tr>\n",
       "      <th>Month</th>\n",
       "      <th></th>\n",
       "      <th></th>\n",
       "    </tr>\n",
       "  </thead>\n",
       "  <tbody>\n",
       "    <tr>\n",
       "      <th>1949-01-01</th>\n",
       "      <td>112</td>\n",
       "      <td>NaN</td>\n",
       "    </tr>\n",
       "    <tr>\n",
       "      <th>1949-02-01</th>\n",
       "      <td>118</td>\n",
       "      <td>6.0</td>\n",
       "    </tr>\n",
       "    <tr>\n",
       "      <th>1949-03-01</th>\n",
       "      <td>132</td>\n",
       "      <td>14.0</td>\n",
       "    </tr>\n",
       "    <tr>\n",
       "      <th>1949-04-01</th>\n",
       "      <td>129</td>\n",
       "      <td>-3.0</td>\n",
       "    </tr>\n",
       "    <tr>\n",
       "      <th>1949-05-01</th>\n",
       "      <td>121</td>\n",
       "      <td>-8.0</td>\n",
       "    </tr>\n",
       "    <tr>\n",
       "      <th>...</th>\n",
       "      <td>...</td>\n",
       "      <td>...</td>\n",
       "    </tr>\n",
       "    <tr>\n",
       "      <th>1960-08-01</th>\n",
       "      <td>606</td>\n",
       "      <td>-16.0</td>\n",
       "    </tr>\n",
       "    <tr>\n",
       "      <th>1960-09-01</th>\n",
       "      <td>508</td>\n",
       "      <td>-98.0</td>\n",
       "    </tr>\n",
       "    <tr>\n",
       "      <th>1960-10-01</th>\n",
       "      <td>461</td>\n",
       "      <td>-47.0</td>\n",
       "    </tr>\n",
       "    <tr>\n",
       "      <th>1960-11-01</th>\n",
       "      <td>390</td>\n",
       "      <td>-71.0</td>\n",
       "    </tr>\n",
       "    <tr>\n",
       "      <th>1960-12-01</th>\n",
       "      <td>432</td>\n",
       "      <td>42.0</td>\n",
       "    </tr>\n",
       "  </tbody>\n",
       "</table>\n",
       "<p>144 rows × 2 columns</p>\n",
       "</div>"
      ],
      "text/plain": [
       "            Passengers  Passengers First Difference\n",
       "Month                                              \n",
       "1949-01-01         112                          NaN\n",
       "1949-02-01         118                          6.0\n",
       "1949-03-01         132                         14.0\n",
       "1949-04-01         129                         -3.0\n",
       "1949-05-01         121                         -8.0\n",
       "...                ...                          ...\n",
       "1960-08-01         606                        -16.0\n",
       "1960-09-01         508                        -98.0\n",
       "1960-10-01         461                        -47.0\n",
       "1960-11-01         390                        -71.0\n",
       "1960-12-01         432                         42.0\n",
       "\n",
       "[144 rows x 2 columns]"
      ]
     },
     "execution_count": 22,
     "metadata": {},
     "output_type": "execute_result"
    }
   ],
   "source": [
    "df_airline"
   ]
  },
  {
   "cell_type": "code",
   "execution_count": 59,
   "id": "b5c42cc0",
   "metadata": {},
   "outputs": [
    {
     "data": {
      "text/html": [
       "<div>\n",
       "<style scoped>\n",
       "    .dataframe tbody tr th:only-of-type {\n",
       "        vertical-align: middle;\n",
       "    }\n",
       "\n",
       "    .dataframe tbody tr th {\n",
       "        vertical-align: top;\n",
       "    }\n",
       "\n",
       "    .dataframe thead th {\n",
       "        text-align: right;\n",
       "    }\n",
       "</style>\n",
       "<table border=\"1\" class=\"dataframe\">\n",
       "  <thead>\n",
       "    <tr style=\"text-align: right;\">\n",
       "      <th></th>\n",
       "      <th>Passengers</th>\n",
       "      <th>Passengers First Difference</th>\n",
       "      <th>Passengers Second Difference</th>\n",
       "      <th>Passengers 12 Difference</th>\n",
       "    </tr>\n",
       "    <tr>\n",
       "      <th>Month</th>\n",
       "      <th></th>\n",
       "      <th></th>\n",
       "      <th></th>\n",
       "      <th></th>\n",
       "    </tr>\n",
       "  </thead>\n",
       "  <tbody>\n",
       "    <tr>\n",
       "      <td>1949-01-01</td>\n",
       "      <td>112</td>\n",
       "      <td>NaN</td>\n",
       "      <td>NaN</td>\n",
       "      <td>NaN</td>\n",
       "    </tr>\n",
       "    <tr>\n",
       "      <td>1949-02-01</td>\n",
       "      <td>118</td>\n",
       "      <td>6.0</td>\n",
       "      <td>NaN</td>\n",
       "      <td>NaN</td>\n",
       "    </tr>\n",
       "    <tr>\n",
       "      <td>1949-03-01</td>\n",
       "      <td>132</td>\n",
       "      <td>14.0</td>\n",
       "      <td>8.0</td>\n",
       "      <td>NaN</td>\n",
       "    </tr>\n",
       "    <tr>\n",
       "      <td>1949-04-01</td>\n",
       "      <td>129</td>\n",
       "      <td>-3.0</td>\n",
       "      <td>-17.0</td>\n",
       "      <td>NaN</td>\n",
       "    </tr>\n",
       "    <tr>\n",
       "      <td>1949-05-01</td>\n",
       "      <td>121</td>\n",
       "      <td>-8.0</td>\n",
       "      <td>-5.0</td>\n",
       "      <td>NaN</td>\n",
       "    </tr>\n",
       "    <tr>\n",
       "      <td>...</td>\n",
       "      <td>...</td>\n",
       "      <td>...</td>\n",
       "      <td>...</td>\n",
       "      <td>...</td>\n",
       "    </tr>\n",
       "    <tr>\n",
       "      <td>1960-08-01</td>\n",
       "      <td>606</td>\n",
       "      <td>-16.0</td>\n",
       "      <td>-103.0</td>\n",
       "      <td>47.0</td>\n",
       "    </tr>\n",
       "    <tr>\n",
       "      <td>1960-09-01</td>\n",
       "      <td>508</td>\n",
       "      <td>-98.0</td>\n",
       "      <td>-82.0</td>\n",
       "      <td>45.0</td>\n",
       "    </tr>\n",
       "    <tr>\n",
       "      <td>1960-10-01</td>\n",
       "      <td>461</td>\n",
       "      <td>-47.0</td>\n",
       "      <td>51.0</td>\n",
       "      <td>54.0</td>\n",
       "    </tr>\n",
       "    <tr>\n",
       "      <td>1960-11-01</td>\n",
       "      <td>390</td>\n",
       "      <td>-71.0</td>\n",
       "      <td>-24.0</td>\n",
       "      <td>28.0</td>\n",
       "    </tr>\n",
       "    <tr>\n",
       "      <td>1960-12-01</td>\n",
       "      <td>432</td>\n",
       "      <td>42.0</td>\n",
       "      <td>113.0</td>\n",
       "      <td>27.0</td>\n",
       "    </tr>\n",
       "  </tbody>\n",
       "</table>\n",
       "<p>144 rows × 4 columns</p>\n",
       "</div>"
      ],
      "text/plain": [
       "            Passengers  Passengers First Difference  \\\n",
       "Month                                                 \n",
       "1949-01-01         112                          NaN   \n",
       "1949-02-01         118                          6.0   \n",
       "1949-03-01         132                         14.0   \n",
       "1949-04-01         129                         -3.0   \n",
       "1949-05-01         121                         -8.0   \n",
       "...                ...                          ...   \n",
       "1960-08-01         606                        -16.0   \n",
       "1960-09-01         508                        -98.0   \n",
       "1960-10-01         461                        -47.0   \n",
       "1960-11-01         390                        -71.0   \n",
       "1960-12-01         432                         42.0   \n",
       "\n",
       "            Passengers Second Difference  Passengers 12 Difference  \n",
       "Month                                                               \n",
       "1949-01-01                           NaN                       NaN  \n",
       "1949-02-01                           NaN                       NaN  \n",
       "1949-03-01                           8.0                       NaN  \n",
       "1949-04-01                         -17.0                       NaN  \n",
       "1949-05-01                          -5.0                       NaN  \n",
       "...                                  ...                       ...  \n",
       "1960-08-01                        -103.0                      47.0  \n",
       "1960-09-01                         -82.0                      45.0  \n",
       "1960-10-01                          51.0                      54.0  \n",
       "1960-11-01                         -24.0                      28.0  \n",
       "1960-12-01                         113.0                      27.0  \n",
       "\n",
       "[144 rows x 4 columns]"
      ]
     },
     "execution_count": 59,
     "metadata": {},
     "output_type": "execute_result"
    }
   ],
   "source": [
    "df_airline"
   ]
  },
  {
   "cell_type": "code",
   "execution_count": 56,
   "id": "26955078",
   "metadata": {},
   "outputs": [
    {
     "data": {
      "text/plain": [
       "[<matplotlib.lines.Line2D at 0x13f129c67c8>]"
      ]
     },
     "execution_count": 56,
     "metadata": {},
     "output_type": "execute_result"
    },
    {
     "data": {
      "image/png": "[encoded data removed]",
      "text/plain": [
       "<Figure size 1440x576 with 1 Axes>"
      ]
     },
     "metadata": {
      "needs_background": "light"
     },
     "output_type": "display_data"
    }
   ],
   "source": [
    "plt.figure(figsize=(20,8))\n",
    "plt.plot(df_airline['Passengers Second Difference'].dropna())\n",
    "plt.plot(df_airline['Passengers'])"
   ]
  },
  {
   "cell_type": "code",
   "execution_count": 58,
   "id": "e643b38f",
   "metadata": {},
   "outputs": [],
   "source": [
    "### 12 months \n",
    "## Use Techniques Differencing\n",
    "df_airline['Passengers 12 Difference']=df_airline['Passengers']-df_airline['Passengers'].shift(12)"
   ]
  },
  {
   "cell_type": "code",
   "execution_count": 60,
   "id": "aa25329f",
   "metadata": {},
   "outputs": [
    {
     "name": "stdout",
     "output_type": "stream",
     "text": [
      "ADF Statistics: -3.3830207264924805\n",
      "p- value: 0.011551493085514982\n",
      "strong evidence against the null hypothesis, reject the null hypothesis. Data has no unit root and is stationary\n"
     ]
    }
   ],
   "source": [
    "adf_test(df_airline['Passengers 12 Difference'].dropna())"
   ]
  },
  {
   "cell_type": "code",
   "execution_count": 61,
   "id": "32f99d24",
   "metadata": {},
   "outputs": [
    {
     "data": {
      "text/plain": [
       "[<matplotlib.lines.Line2D at 0x13f126c7608>]"
      ]
     },
     "execution_count": 61,
     "metadata": {},
     "output_type": "execute_result"
    },
    {
     "data": {
      "image/png": "[encoded data removed]",
      "text/plain": [
       "<Figure size 1440x576 with 1 Axes>"
      ]
     },
     "metadata": {
      "needs_background": "light"
     },
     "output_type": "display_data"
    }
   ],
   "source": [
    "plt.figure(figsize=(20,8))\n",
    "plt.plot(df_airline['Passengers'])\n",
    "plt.plot(df_airline['Passengers 12 Difference'].dropna())"
   ]
  },
  {
   "cell_type": "code",
   "execution_count": 62,
   "id": "12991c53",
   "metadata": {},
   "outputs": [],
   "source": [
    "from statsmodels.graphics.tsaplots import plot_acf,plot_pacf"
   ]
  },
  {
   "cell_type": "code",
   "execution_count": 63,
   "id": "acd11589",
   "metadata": {},
   "outputs": [
    {
     "data": {
      "image/png": "[encoded data removed]",
      "text/plain": [
       "<Figure size 432x288 with 1 Axes>"
      ]
     },
     "metadata": {
      "needs_background": "light"
     },
     "output_type": "display_data"
    }
   ],
   "source": [
    "acf = plot_acf(df_airline[\"Passengers Second Difference\"].dropna())"
   ]
  },
  {
   "cell_type": "code",
   "execution_count": 64,
   "id": "d745fb87",
   "metadata": {},
   "outputs": [
    {
     "data": {
      "image/png": "[encoded data removed]",
      "text/plain": [
       "<Figure size 432x288 with 1 Axes>"
      ]
     },
     "metadata": {
      "needs_background": "light"
     },
     "output_type": "display_data"
    },
    {
     "data": {
      "image/png": "[encoded data removed]",
      "text/plain": [
       "<Figure size 432x288 with 1 Axes>"
      ]
     },
     "metadata": {
      "needs_background": "light"
     },
     "output_type": "display_data"
    }
   ],
   "source": [
    "acf12 = plot_acf(df_airline[\"Passengers 12 Difference\"].dropna())\n",
    "pacf12 = plot_pacf(df_airline[\"Passengers 12 Difference\"].dropna())"
   ]
  },
  {
   "cell_type": "code",
   "execution_count": null,
   "id": "cad7440a",
   "metadata": {},
   "outputs": [],
   "source": [
    "result = plot_pacf(df_airline[\"Passengers Second Difference\"].dropna())"
   ]
  },
  {
   "cell_type": "code",
   "execution_count": null,
   "id": "5cdb46cd",
   "metadata": {},
   "outputs": [],
   "source": [
    "# pacf12 = plot_pacf(df_airline[\"Passengers 12 Difference\"].dropna())"
   ]
  },
  {
   "cell_type": "code",
   "execution_count": 65,
   "id": "7792756d",
   "metadata": {},
   "outputs": [
    {
     "data": {
      "text/html": [
       "<div>\n",
       "<style scoped>\n",
       "    .dataframe tbody tr th:only-of-type {\n",
       "        vertical-align: middle;\n",
       "    }\n",
       "\n",
       "    .dataframe tbody tr th {\n",
       "        vertical-align: top;\n",
       "    }\n",
       "\n",
       "    .dataframe thead th {\n",
       "        text-align: right;\n",
       "    }\n",
       "</style>\n",
       "<table border=\"1\" class=\"dataframe\">\n",
       "  <thead>\n",
       "    <tr style=\"text-align: right;\">\n",
       "      <th></th>\n",
       "      <th>Passengers</th>\n",
       "      <th>Passengers First Difference</th>\n",
       "      <th>Passengers Second Difference</th>\n",
       "      <th>Passengers 12 Difference</th>\n",
       "    </tr>\n",
       "    <tr>\n",
       "      <th>Month</th>\n",
       "      <th></th>\n",
       "      <th></th>\n",
       "      <th></th>\n",
       "      <th></th>\n",
       "    </tr>\n",
       "  </thead>\n",
       "  <tbody>\n",
       "    <tr>\n",
       "      <td>1949-01-01</td>\n",
       "      <td>112</td>\n",
       "      <td>NaN</td>\n",
       "      <td>NaN</td>\n",
       "      <td>NaN</td>\n",
       "    </tr>\n",
       "    <tr>\n",
       "      <td>1949-02-01</td>\n",
       "      <td>118</td>\n",
       "      <td>6.0</td>\n",
       "      <td>NaN</td>\n",
       "      <td>NaN</td>\n",
       "    </tr>\n",
       "    <tr>\n",
       "      <td>1949-03-01</td>\n",
       "      <td>132</td>\n",
       "      <td>14.0</td>\n",
       "      <td>8.0</td>\n",
       "      <td>NaN</td>\n",
       "    </tr>\n",
       "    <tr>\n",
       "      <td>1949-04-01</td>\n",
       "      <td>129</td>\n",
       "      <td>-3.0</td>\n",
       "      <td>-17.0</td>\n",
       "      <td>NaN</td>\n",
       "    </tr>\n",
       "    <tr>\n",
       "      <td>1949-05-01</td>\n",
       "      <td>121</td>\n",
       "      <td>-8.0</td>\n",
       "      <td>-5.0</td>\n",
       "      <td>NaN</td>\n",
       "    </tr>\n",
       "    <tr>\n",
       "      <td>...</td>\n",
       "      <td>...</td>\n",
       "      <td>...</td>\n",
       "      <td>...</td>\n",
       "      <td>...</td>\n",
       "    </tr>\n",
       "    <tr>\n",
       "      <td>1960-08-01</td>\n",
       "      <td>606</td>\n",
       "      <td>-16.0</td>\n",
       "      <td>-103.0</td>\n",
       "      <td>47.0</td>\n",
       "    </tr>\n",
       "    <tr>\n",
       "      <td>1960-09-01</td>\n",
       "      <td>508</td>\n",
       "      <td>-98.0</td>\n",
       "      <td>-82.0</td>\n",
       "      <td>45.0</td>\n",
       "    </tr>\n",
       "    <tr>\n",
       "      <td>1960-10-01</td>\n",
       "      <td>461</td>\n",
       "      <td>-47.0</td>\n",
       "      <td>51.0</td>\n",
       "      <td>54.0</td>\n",
       "    </tr>\n",
       "    <tr>\n",
       "      <td>1960-11-01</td>\n",
       "      <td>390</td>\n",
       "      <td>-71.0</td>\n",
       "      <td>-24.0</td>\n",
       "      <td>28.0</td>\n",
       "    </tr>\n",
       "    <tr>\n",
       "      <td>1960-12-01</td>\n",
       "      <td>432</td>\n",
       "      <td>42.0</td>\n",
       "      <td>113.0</td>\n",
       "      <td>27.0</td>\n",
       "    </tr>\n",
       "  </tbody>\n",
       "</table>\n",
       "<p>144 rows × 4 columns</p>\n",
       "</div>"
      ],
      "text/plain": [
       "            Passengers  Passengers First Difference  \\\n",
       "Month                                                 \n",
       "1949-01-01         112                          NaN   \n",
       "1949-02-01         118                          6.0   \n",
       "1949-03-01         132                         14.0   \n",
       "1949-04-01         129                         -3.0   \n",
       "1949-05-01         121                         -8.0   \n",
       "...                ...                          ...   \n",
       "1960-08-01         606                        -16.0   \n",
       "1960-09-01         508                        -98.0   \n",
       "1960-10-01         461                        -47.0   \n",
       "1960-11-01         390                        -71.0   \n",
       "1960-12-01         432                         42.0   \n",
       "\n",
       "            Passengers Second Difference  Passengers 12 Difference  \n",
       "Month                                                               \n",
       "1949-01-01                           NaN                       NaN  \n",
       "1949-02-01                           NaN                       NaN  \n",
       "1949-03-01                           8.0                       NaN  \n",
       "1949-04-01                         -17.0                       NaN  \n",
       "1949-05-01                          -5.0                       NaN  \n",
       "...                                  ...                       ...  \n",
       "1960-08-01                        -103.0                      47.0  \n",
       "1960-09-01                         -82.0                      45.0  \n",
       "1960-10-01                          51.0                      54.0  \n",
       "1960-11-01                         -24.0                      28.0  \n",
       "1960-12-01                         113.0                      27.0  \n",
       "\n",
       "[144 rows x 4 columns]"
      ]
     },
     "execution_count": 65,
     "metadata": {},
     "output_type": "execute_result"
    }
   ],
   "source": [
    "### split train and test data\n",
    "df_airline"
   ]
  },
  {
   "cell_type": "code",
   "execution_count": 67,
   "id": "43ed21c4",
   "metadata": {},
   "outputs": [],
   "source": [
    "from datetime import datetime,timedelta\n",
    "train_dataset_end= datetime(1955,12,1)\n",
    "test_dataset_end= datetime(1960,12,31)"
   ]
  },
  {
   "cell_type": "code",
   "execution_count": 66,
   "id": "2e2ef721",
   "metadata": {},
   "outputs": [],
   "source": [
    "train_data=df_airline.iloc[:100]\n",
    "test_data=df_airline.iloc[100:]\n"
   ]
  },
  {
   "cell_type": "code",
   "execution_count": 73,
   "id": "7347ad5a",
   "metadata": {},
   "outputs": [
    {
     "data": {
      "text/plain": [
       "Timestamp('1960-12-01 00:00:00')"
      ]
     },
     "execution_count": 73,
     "metadata": {},
     "output_type": "execute_result"
    }
   ],
   "source": [
    "test_data.index[-1]"
   ]
  },
  {
   "cell_type": "code",
   "execution_count": null,
   "id": "017ff981",
   "metadata": {},
   "outputs": [],
   "source": [
    "##prediction\n",
    "pred_start_date=test_data.index[0]\n",
    "pred_end_date=test_data.index[-1]"
   ]
  },
  {
   "cell_type": "code",
   "execution_count": null,
   "id": "c606912f",
   "metadata": {},
   "outputs": [],
   "source": [
    "test_data"
   ]
  },
  {
   "cell_type": "code",
   "execution_count": 74,
   "id": "ecaac418",
   "metadata": {},
   "outputs": [],
   "source": [
    "## create a ARIMA model\n",
    "from statsmodels.tsa.arima_model import ARIMA"
   ]
  },
  {
   "cell_type": "code",
   "execution_count": 75,
   "id": "15e7173d",
   "metadata": {},
   "outputs": [
    {
     "data": {
      "text/html": [
       "<div>\n",
       "<style scoped>\n",
       "    .dataframe tbody tr th:only-of-type {\n",
       "        vertical-align: middle;\n",
       "    }\n",
       "\n",
       "    .dataframe tbody tr th {\n",
       "        vertical-align: top;\n",
       "    }\n",
       "\n",
       "    .dataframe thead th {\n",
       "        text-align: right;\n",
       "    }\n",
       "</style>\n",
       "<table border=\"1\" class=\"dataframe\">\n",
       "  <thead>\n",
       "    <tr style=\"text-align: right;\">\n",
       "      <th></th>\n",
       "      <th>Passengers</th>\n",
       "      <th>Passengers First Difference</th>\n",
       "      <th>Passengers Second Difference</th>\n",
       "      <th>Passengers 12 Difference</th>\n",
       "    </tr>\n",
       "    <tr>\n",
       "      <th>Month</th>\n",
       "      <th></th>\n",
       "      <th></th>\n",
       "      <th></th>\n",
       "      <th></th>\n",
       "    </tr>\n",
       "  </thead>\n",
       "  <tbody>\n",
       "    <tr>\n",
       "      <td>1949-01-01</td>\n",
       "      <td>112</td>\n",
       "      <td>NaN</td>\n",
       "      <td>NaN</td>\n",
       "      <td>NaN</td>\n",
       "    </tr>\n",
       "    <tr>\n",
       "      <td>1949-02-01</td>\n",
       "      <td>118</td>\n",
       "      <td>6.0</td>\n",
       "      <td>NaN</td>\n",
       "      <td>NaN</td>\n",
       "    </tr>\n",
       "    <tr>\n",
       "      <td>1949-03-01</td>\n",
       "      <td>132</td>\n",
       "      <td>14.0</td>\n",
       "      <td>8.0</td>\n",
       "      <td>NaN</td>\n",
       "    </tr>\n",
       "    <tr>\n",
       "      <td>1949-04-01</td>\n",
       "      <td>129</td>\n",
       "      <td>-3.0</td>\n",
       "      <td>-17.0</td>\n",
       "      <td>NaN</td>\n",
       "    </tr>\n",
       "    <tr>\n",
       "      <td>1949-05-01</td>\n",
       "      <td>121</td>\n",
       "      <td>-8.0</td>\n",
       "      <td>-5.0</td>\n",
       "      <td>NaN</td>\n",
       "    </tr>\n",
       "    <tr>\n",
       "      <td>...</td>\n",
       "      <td>...</td>\n",
       "      <td>...</td>\n",
       "      <td>...</td>\n",
       "      <td>...</td>\n",
       "    </tr>\n",
       "    <tr>\n",
       "      <td>1956-12-01</td>\n",
       "      <td>306</td>\n",
       "      <td>35.0</td>\n",
       "      <td>70.0</td>\n",
       "      <td>28.0</td>\n",
       "    </tr>\n",
       "    <tr>\n",
       "      <td>1957-01-01</td>\n",
       "      <td>315</td>\n",
       "      <td>9.0</td>\n",
       "      <td>-26.0</td>\n",
       "      <td>31.0</td>\n",
       "    </tr>\n",
       "    <tr>\n",
       "      <td>1957-02-01</td>\n",
       "      <td>301</td>\n",
       "      <td>-14.0</td>\n",
       "      <td>-23.0</td>\n",
       "      <td>24.0</td>\n",
       "    </tr>\n",
       "    <tr>\n",
       "      <td>1957-03-01</td>\n",
       "      <td>356</td>\n",
       "      <td>55.0</td>\n",
       "      <td>69.0</td>\n",
       "      <td>39.0</td>\n",
       "    </tr>\n",
       "    <tr>\n",
       "      <td>1957-04-01</td>\n",
       "      <td>348</td>\n",
       "      <td>-8.0</td>\n",
       "      <td>-63.0</td>\n",
       "      <td>35.0</td>\n",
       "    </tr>\n",
       "  </tbody>\n",
       "</table>\n",
       "<p>100 rows × 4 columns</p>\n",
       "</div>"
      ],
      "text/plain": [
       "            Passengers  Passengers First Difference  \\\n",
       "Month                                                 \n",
       "1949-01-01         112                          NaN   \n",
       "1949-02-01         118                          6.0   \n",
       "1949-03-01         132                         14.0   \n",
       "1949-04-01         129                         -3.0   \n",
       "1949-05-01         121                         -8.0   \n",
       "...                ...                          ...   \n",
       "1956-12-01         306                         35.0   \n",
       "1957-01-01         315                          9.0   \n",
       "1957-02-01         301                        -14.0   \n",
       "1957-03-01         356                         55.0   \n",
       "1957-04-01         348                         -8.0   \n",
       "\n",
       "            Passengers Second Difference  Passengers 12 Difference  \n",
       "Month                                                               \n",
       "1949-01-01                           NaN                       NaN  \n",
       "1949-02-01                           NaN                       NaN  \n",
       "1949-03-01                           8.0                       NaN  \n",
       "1949-04-01                         -17.0                       NaN  \n",
       "1949-05-01                          -5.0                       NaN  \n",
       "...                                  ...                       ...  \n",
       "1956-12-01                          70.0                      28.0  \n",
       "1957-01-01                         -26.0                      31.0  \n",
       "1957-02-01                         -23.0                      24.0  \n",
       "1957-03-01                          69.0                      39.0  \n",
       "1957-04-01                         -63.0                      35.0  \n",
       "\n",
       "[100 rows x 4 columns]"
      ]
     },
     "execution_count": 75,
     "metadata": {},
     "output_type": "execute_result"
    }
   ],
   "source": [
    "train_data"
   ]
  },
  {
   "cell_type": "code",
   "execution_count": 76,
   "id": "1cb346ac",
   "metadata": {},
   "outputs": [
    {
     "name": "stderr",
     "output_type": "stream",
     "text": [
      "C:\\Users\\Nasir Hussain\\Anaconda3\\lib\\site-packages\\statsmodels\\tsa\\base\\tsa_model.py:165: ValueWarning: No frequency information was provided, so inferred frequency MS will be used.\n",
      "  % freq, ValueWarning)\n",
      "C:\\Users\\Nasir Hussain\\Anaconda3\\lib\\site-packages\\statsmodels\\tsa\\base\\tsa_model.py:165: ValueWarning: No frequency information was provided, so inferred frequency MS will be used.\n",
      "  % freq, ValueWarning)\n"
     ]
    }
   ],
   "source": [
    "model_ARIMA=ARIMA(train_data['Passengers'],order=(5,2,7))"
   ]
  },
  {
   "cell_type": "code",
   "execution_count": 77,
   "id": "f04b269e",
   "metadata": {},
   "outputs": [
    {
     "name": "stderr",
     "output_type": "stream",
     "text": [
      "C:\\Users\\Nasir Hussain\\Anaconda3\\lib\\site-packages\\statsmodels\\base\\model.py:512: ConvergenceWarning: Maximum Likelihood optimization failed to converge. Check mle_retvals\n",
      "  \"Check mle_retvals\", ConvergenceWarning)\n"
     ]
    }
   ],
   "source": [
    "model_Arima_fit=model_ARIMA.fit()"
   ]
  },
  {
   "cell_type": "code",
   "execution_count": 78,
   "id": "98e7efff",
   "metadata": {},
   "outputs": [
    {
     "data": {
      "text/html": [
       "<table class=\"simpletable\">\n",
       "<caption>ARIMA Model Results</caption>\n",
       "<tr>\n",
       "  <th>Dep. Variable:</th>   <td>D2.Passengers</td>  <th>  No. Observations:  </th>    <td>98</td>   \n",
       "</tr>\n",
       "<tr>\n",
       "  <th>Model:</th>          <td>ARIMA(5, 2, 7)</td>  <th>  Log Likelihood     </th> <td>-418.765</td>\n",
       "</tr>\n",
       "<tr>\n",
       "  <th>Method:</th>             <td>css-mle</td>     <th>  S.D. of innovations</th>  <td>15.614</td> \n",
       "</tr>\n",
       "<tr>\n",
       "  <th>Date:</th>          <td>Sat, 09 Sep 2023</td> <th>  AIC                </th>  <td>865.530</td>\n",
       "</tr>\n",
       "<tr>\n",
       "  <th>Time:</th>              <td>16:32:38</td>     <th>  BIC                </th>  <td>901.720</td>\n",
       "</tr>\n",
       "<tr>\n",
       "  <th>Sample:</th>           <td>03-01-1949</td>    <th>  HQIC               </th>  <td>880.168</td>\n",
       "</tr>\n",
       "<tr>\n",
       "  <th></th>                 <td>- 04-01-1957</td>   <th>                     </th>     <td> </td>   \n",
       "</tr>\n",
       "</table>\n",
       "<table class=\"simpletable\">\n",
       "<tr>\n",
       "           <td></td>              <th>coef</th>     <th>std err</th>      <th>z</th>      <th>P>|z|</th>  <th>[0.025</th>    <th>0.975]</th>  \n",
       "</tr>\n",
       "<tr>\n",
       "  <th>const</th>               <td>    0.0176</td> <td>    0.014</td> <td>    1.246</td> <td> 0.216</td> <td>   -0.010</td> <td>    0.045</td>\n",
       "</tr>\n",
       "<tr>\n",
       "  <th>ar.L1.D2.Passengers</th> <td>    0.6165</td> <td>    0.118</td> <td>    5.208</td> <td> 0.000</td> <td>    0.385</td> <td>    0.849</td>\n",
       "</tr>\n",
       "<tr>\n",
       "  <th>ar.L2.D2.Passengers</th> <td>   -1.0145</td> <td>    0.040</td> <td>  -25.362</td> <td> 0.000</td> <td>   -1.093</td> <td>   -0.936</td>\n",
       "</tr>\n",
       "<tr>\n",
       "  <th>ar.L3.D2.Passengers</th> <td>    0.6008</td> <td>    0.131</td> <td>    4.583</td> <td> 0.000</td> <td>    0.344</td> <td>    0.858</td>\n",
       "</tr>\n",
       "<tr>\n",
       "  <th>ar.L4.D2.Passengers</th> <td>   -0.9489</td> <td>    0.052</td> <td>  -18.201</td> <td> 0.000</td> <td>   -1.051</td> <td>   -0.847</td>\n",
       "</tr>\n",
       "<tr>\n",
       "  <th>ar.L5.D2.Passengers</th> <td>    0.5830</td> <td>    0.120</td> <td>    4.838</td> <td> 0.000</td> <td>    0.347</td> <td>    0.819</td>\n",
       "</tr>\n",
       "<tr>\n",
       "  <th>ma.L1.D2.Passengers</th> <td>   -1.5436</td> <td>    0.139</td> <td>  -11.083</td> <td> 0.000</td> <td>   -1.817</td> <td>   -1.271</td>\n",
       "</tr>\n",
       "<tr>\n",
       "  <th>ma.L2.D2.Passengers</th> <td>    1.2843</td> <td>    0.256</td> <td>    5.024</td> <td> 0.000</td> <td>    0.783</td> <td>    1.785</td>\n",
       "</tr>\n",
       "<tr>\n",
       "  <th>ma.L3.D2.Passengers</th> <td>   -1.3544</td> <td>    0.291</td> <td>   -4.658</td> <td> 0.000</td> <td>   -1.924</td> <td>   -0.785</td>\n",
       "</tr>\n",
       "<tr>\n",
       "  <th>ma.L4.D2.Passengers</th> <td>    1.0240</td> <td>    0.348</td> <td>    2.942</td> <td> 0.004</td> <td>    0.342</td> <td>    1.706</td>\n",
       "</tr>\n",
       "<tr>\n",
       "  <th>ma.L5.D2.Passengers</th> <td>   -0.8508</td> <td>    0.348</td> <td>   -2.448</td> <td> 0.016</td> <td>   -1.532</td> <td>   -0.170</td>\n",
       "</tr>\n",
       "<tr>\n",
       "  <th>ma.L6.D2.Passengers</th> <td>   -0.0639</td> <td>    0.300</td> <td>   -0.213</td> <td> 0.832</td> <td>   -0.651</td> <td>    0.524</td>\n",
       "</tr>\n",
       "<tr>\n",
       "  <th>ma.L7.D2.Passengers</th> <td>    0.5134</td> <td>    0.142</td> <td>    3.603</td> <td> 0.001</td> <td>    0.234</td> <td>    0.793</td>\n",
       "</tr>\n",
       "</table>\n",
       "<table class=\"simpletable\">\n",
       "<caption>Roots</caption>\n",
       "<tr>\n",
       "    <td></td>   <th>            Real</th>  <th>         Imaginary</th> <th>         Modulus</th>  <th>        Frequency</th>\n",
       "</tr>\n",
       "<tr>\n",
       "  <th>AR.1</th> <td>          -0.5010</td> <td>          -0.8846j</td> <td>           1.0167</td> <td>          -0.3320</td>\n",
       "</tr>\n",
       "<tr>\n",
       "  <th>AR.2</th> <td>          -0.5010</td> <td>          +0.8846j</td> <td>           1.0167</td> <td>           0.3320</td>\n",
       "</tr>\n",
       "<tr>\n",
       "  <th>AR.3</th> <td>           0.4937</td> <td>          -0.8756j</td> <td>           1.0052</td> <td>          -0.1683</td>\n",
       "</tr>\n",
       "<tr>\n",
       "  <th>AR.4</th> <td>           0.4937</td> <td>          +0.8756j</td> <td>           1.0052</td> <td>           0.1683</td>\n",
       "</tr>\n",
       "<tr>\n",
       "  <th>AR.5</th> <td>           1.6424</td> <td>          -0.0000j</td> <td>           1.6424</td> <td>          -0.0000</td>\n",
       "</tr>\n",
       "<tr>\n",
       "  <th>MA.1</th> <td>           1.0007</td> <td>          -0.0440j</td> <td>           1.0017</td> <td>          -0.0070</td>\n",
       "</tr>\n",
       "<tr>\n",
       "  <th>MA.2</th> <td>           1.0007</td> <td>          +0.0440j</td> <td>           1.0017</td> <td>           0.0070</td>\n",
       "</tr>\n",
       "<tr>\n",
       "  <th>MA.3</th> <td>           0.4578</td> <td>          -0.8891j</td> <td>           1.0000</td> <td>          -0.1743</td>\n",
       "</tr>\n",
       "<tr>\n",
       "  <th>MA.4</th> <td>           0.4578</td> <td>          +0.8891j</td> <td>           1.0000</td> <td>           0.1743</td>\n",
       "</tr>\n",
       "<tr>\n",
       "  <th>MA.5</th> <td>          -0.4257</td> <td>          -0.9049j</td> <td>           1.0000</td> <td>          -0.3200</td>\n",
       "</tr>\n",
       "<tr>\n",
       "  <th>MA.6</th> <td>          -0.4257</td> <td>          +0.9049j</td> <td>           1.0000</td> <td>           0.3200</td>\n",
       "</tr>\n",
       "<tr>\n",
       "  <th>MA.7</th> <td>          -1.9410</td> <td>          -0.0000j</td> <td>           1.9410</td> <td>          -0.5000</td>\n",
       "</tr>\n",
       "</table>"
      ],
      "text/plain": [
       "<class 'statsmodels.iolib.summary.Summary'>\n",
       "\"\"\"\n",
       "                             ARIMA Model Results                              \n",
       "==============================================================================\n",
       "Dep. Variable:          D2.Passengers   No. Observations:                   98\n",
       "Model:                 ARIMA(5, 2, 7)   Log Likelihood                -418.765\n",
       "Method:                       css-mle   S.D. of innovations             15.614\n",
       "Date:                Sat, 09 Sep 2023   AIC                            865.530\n",
       "Time:                        16:32:38   BIC                            901.720\n",
       "Sample:                    03-01-1949   HQIC                           880.168\n",
       "                         - 04-01-1957                                         \n",
       "=======================================================================================\n",
       "                          coef    std err          z      P>|z|      [0.025      0.975]\n",
       "---------------------------------------------------------------------------------------\n",
       "const                   0.0176      0.014      1.246      0.216      -0.010       0.045\n",
       "ar.L1.D2.Passengers     0.6165      0.118      5.208      0.000       0.385       0.849\n",
       "ar.L2.D2.Passengers    -1.0145      0.040    -25.362      0.000      -1.093      -0.936\n",
       "ar.L3.D2.Passengers     0.6008      0.131      4.583      0.000       0.344       0.858\n",
       "ar.L4.D2.Passengers    -0.9489      0.052    -18.201      0.000      -1.051      -0.847\n",
       "ar.L5.D2.Passengers     0.5830      0.120      4.838      0.000       0.347       0.819\n",
       "ma.L1.D2.Passengers    -1.5436      0.139    -11.083      0.000      -1.817      -1.271\n",
       "ma.L2.D2.Passengers     1.2843      0.256      5.024      0.000       0.783       1.785\n",
       "ma.L3.D2.Passengers    -1.3544      0.291     -4.658      0.000      -1.924      -0.785\n",
       "ma.L4.D2.Passengers     1.0240      0.348      2.942      0.004       0.342       1.706\n",
       "ma.L5.D2.Passengers    -0.8508      0.348     -2.448      0.016      -1.532      -0.170\n",
       "ma.L6.D2.Passengers    -0.0639      0.300     -0.213      0.832      -0.651       0.524\n",
       "ma.L7.D2.Passengers     0.5134      0.142      3.603      0.001       0.234       0.793\n",
       "                                    Roots                                    \n",
       "=============================================================================\n",
       "                  Real          Imaginary           Modulus         Frequency\n",
       "-----------------------------------------------------------------------------\n",
       "AR.1           -0.5010           -0.8846j            1.0167           -0.3320\n",
       "AR.2           -0.5010           +0.8846j            1.0167            0.3320\n",
       "AR.3            0.4937           -0.8756j            1.0052           -0.1683\n",
       "AR.4            0.4937           +0.8756j            1.0052            0.1683\n",
       "AR.5            1.6424           -0.0000j            1.6424           -0.0000\n",
       "MA.1            1.0007           -0.0440j            1.0017           -0.0070\n",
       "MA.2            1.0007           +0.0440j            1.0017            0.0070\n",
       "MA.3            0.4578           -0.8891j            1.0000           -0.1743\n",
       "MA.4            0.4578           +0.8891j            1.0000            0.1743\n",
       "MA.5           -0.4257           -0.9049j            1.0000           -0.3200\n",
       "MA.6           -0.4257           +0.9049j            1.0000            0.3200\n",
       "MA.7           -1.9410           -0.0000j            1.9410           -0.5000\n",
       "-----------------------------------------------------------------------------\n",
       "\"\"\""
      ]
     },
     "execution_count": 78,
     "metadata": {},
     "output_type": "execute_result"
    }
   ],
   "source": [
    "model_Arima_fit.summary()"
   ]
  },
  {
   "cell_type": "code",
   "execution_count": 79,
   "id": "6b54fc1a",
   "metadata": {},
   "outputs": [
    {
     "name": "stdout",
     "output_type": "stream",
     "text": [
      "1957-05-01 00:00:00\n",
      "1960-12-01 00:00:00\n"
     ]
    }
   ],
   "source": [
    "##prediction\n",
    "pred_start_date=test_data.index[0]\n",
    "pred_end_date=test_data.index[-1]\n",
    "print(pred_start_date)\n",
    "print(pred_end_date)"
   ]
  },
  {
   "cell_type": "code",
   "execution_count": 80,
   "id": "43bb5463",
   "metadata": {},
   "outputs": [
    {
     "data": {
      "text/plain": [
       "1957-05-01   -10.926507\n",
       "1957-06-01    50.847034\n",
       "1957-07-01   -18.731995\n",
       "1957-08-01   -15.304900\n",
       "1957-09-01     6.085927\n",
       "1957-10-01   -27.819178\n",
       "1957-11-01    13.327143\n",
       "1957-12-01    43.717831\n",
       "1958-01-01   -17.956936\n",
       "1958-02-01   -17.447467\n",
       "1958-03-01     4.881409\n",
       "1958-04-01   -23.774280\n",
       "1958-05-01    12.454346\n",
       "1958-06-01    40.837656\n",
       "1958-07-01   -16.523129\n",
       "1958-08-01   -18.706521\n",
       "1958-09-01     4.106498\n",
       "1958-10-01   -19.889103\n",
       "1958-11-01    11.839742\n",
       "1958-12-01    38.082431\n",
       "1959-01-01   -15.262785\n",
       "1959-02-01   -19.642150\n",
       "1959-03-01     3.443907\n",
       "1959-04-01   -16.335045\n",
       "1959-05-01    11.338805\n",
       "1959-06-01    35.392641\n",
       "1959-07-01   -14.194379\n",
       "1959-08-01   -20.314521\n",
       "1959-09-01     2.876756\n",
       "1959-10-01   -13.100353\n",
       "1959-11-01    10.922591\n",
       "1959-12-01    32.774707\n",
       "1960-01-01   -13.296590\n",
       "1960-02-01   -20.755384\n",
       "1960-03-01     2.402016\n",
       "1960-04-01   -10.164844\n",
       "1960-05-01    10.571058\n",
       "1960-06-01    30.236530\n",
       "1960-07-01   -12.547719\n",
       "1960-08-01   -20.992335\n",
       "1960-09-01     2.016191\n",
       "1960-10-01    -7.508820\n",
       "1960-11-01    10.267328\n",
       "1960-12-01    27.784460\n",
       "Freq: MS, dtype: float64"
      ]
     },
     "execution_count": 80,
     "metadata": {},
     "output_type": "execute_result"
    }
   ],
   "source": [
    "pred=model_Arima_fit.predict(start=pred_start_date,end=pred_end_date)\n",
    "pred"
   ]
  },
  {
   "cell_type": "code",
   "execution_count": 82,
   "id": "1aeab4b7",
   "metadata": {},
   "outputs": [],
   "source": [
    "residuals=test_data['Passengers']-pred"
   ]
  },
  {
   "cell_type": "code",
   "execution_count": 84,
   "id": "b45e75c6",
   "metadata": {},
   "outputs": [
    {
     "data": {
      "text/plain": [
       "1957-05-01   -10.926507\n",
       "1957-06-01    50.847034\n",
       "1957-07-01   -18.731995\n",
       "1957-08-01   -15.304900\n",
       "1957-09-01     6.085927\n",
       "1957-10-01   -27.819178\n",
       "1957-11-01    13.327143\n",
       "1957-12-01    43.717831\n",
       "1958-01-01   -17.956936\n",
       "1958-02-01   -17.447467\n",
       "1958-03-01     4.881409\n",
       "1958-04-01   -23.774280\n",
       "1958-05-01    12.454346\n",
       "1958-06-01    40.837656\n",
       "1958-07-01   -16.523129\n",
       "1958-08-01   -18.706521\n",
       "1958-09-01     4.106498\n",
       "1958-10-01   -19.889103\n",
       "1958-11-01    11.839742\n",
       "1958-12-01    38.082431\n",
       "1959-01-01   -15.262785\n",
       "1959-02-01   -19.642150\n",
       "1959-03-01     3.443907\n",
       "1959-04-01   -16.335045\n",
       "1959-05-01    11.338805\n",
       "1959-06-01    35.392641\n",
       "1959-07-01   -14.194379\n",
       "1959-08-01   -20.314521\n",
       "1959-09-01     2.876756\n",
       "1959-10-01   -13.100353\n",
       "1959-11-01    10.922591\n",
       "1959-12-01    32.774707\n",
       "1960-01-01   -13.296590\n",
       "1960-02-01   -20.755384\n",
       "1960-03-01     2.402016\n",
       "1960-04-01   -10.164844\n",
       "1960-05-01    10.571058\n",
       "1960-06-01    30.236530\n",
       "1960-07-01   -12.547719\n",
       "1960-08-01   -20.992335\n",
       "1960-09-01     2.016191\n",
       "1960-10-01    -7.508820\n",
       "1960-11-01    10.267328\n",
       "1960-12-01    27.784460\n",
       "Freq: MS, dtype: float64"
      ]
     },
     "execution_count": 84,
     "metadata": {},
     "output_type": "execute_result"
    }
   ],
   "source": [
    "pred"
   ]
  },
  {
   "cell_type": "code",
   "execution_count": 83,
   "id": "fa9c40d0",
   "metadata": {},
   "outputs": [
    {
     "data": {
      "text/plain": [
       "Month\n",
       "1957-05-01    365.926507\n",
       "1957-06-01    371.152966\n",
       "1957-07-01    483.731995\n",
       "1957-08-01    482.304900\n",
       "1957-09-01    397.914073\n",
       "1957-10-01    374.819178\n",
       "1957-11-01    291.672857\n",
       "1957-12-01    292.282169\n",
       "1958-01-01    357.956936\n",
       "1958-02-01    335.447467\n",
       "1958-03-01    357.118591\n",
       "1958-04-01    371.774280\n",
       "1958-05-01    350.545654\n",
       "1958-06-01    394.162344\n",
       "1958-07-01    507.523129\n",
       "1958-08-01    523.706521\n",
       "1958-09-01    399.893502\n",
       "1958-10-01    378.889103\n",
       "1958-11-01    298.160258\n",
       "1958-12-01    298.917569\n",
       "1959-01-01    375.262785\n",
       "1959-02-01    361.642150\n",
       "1959-03-01    402.556093\n",
       "1959-04-01    412.335045\n",
       "1959-05-01    408.661195\n",
       "1959-06-01    436.607359\n",
       "1959-07-01    562.194379\n",
       "1959-08-01    579.314521\n",
       "1959-09-01    460.123244\n",
       "1959-10-01    420.100353\n",
       "1959-11-01    351.077409\n",
       "1959-12-01    372.225293\n",
       "1960-01-01    430.296590\n",
       "1960-02-01    411.755384\n",
       "1960-03-01    416.597984\n",
       "1960-04-01    471.164844\n",
       "1960-05-01    461.428942\n",
       "1960-06-01    504.763470\n",
       "1960-07-01    634.547719\n",
       "1960-08-01    626.992335\n",
       "1960-09-01    505.983809\n",
       "1960-10-01    468.508820\n",
       "1960-11-01    379.732672\n",
       "1960-12-01    404.215540\n",
       "dtype: float64"
      ]
     },
     "execution_count": 83,
     "metadata": {},
     "output_type": "execute_result"
    }
   ],
   "source": [
    "residuals"
   ]
  },
  {
   "cell_type": "code",
   "execution_count": 85,
   "id": "8a921fe8",
   "metadata": {},
   "outputs": [
    {
     "data": {
      "text/plain": [
       "<matplotlib.axes._subplots.AxesSubplot at 0x13f10c995c8>"
      ]
     },
     "execution_count": 85,
     "metadata": {},
     "output_type": "execute_result"
    },
    {
     "data": {
      "image/png": "[encoded data removed]",
      "text/plain": [
       "<Figure size 432x288 with 1 Axes>"
      ]
     },
     "metadata": {
      "needs_background": "light"
     },
     "output_type": "display_data"
    }
   ],
   "source": [
    "model_Arima_fit.resid.plot(kind='kde')"
   ]
  },
  {
   "cell_type": "code",
   "execution_count": 86,
   "id": "8f4cfa8a",
   "metadata": {},
   "outputs": [
    {
     "name": "stderr",
     "output_type": "stream",
     "text": [
      "C:\\Users\\Nasir Hussain\\Anaconda3\\lib\\site-packages\\ipykernel_launcher.py:1: SettingWithCopyWarning: \n",
      "A value is trying to be set on a copy of a slice from a DataFrame.\n",
      "Try using .loc[row_indexer,col_indexer] = value instead\n",
      "\n",
      "See the caveats in the documentation: http://pandas.pydata.org/pandas-docs/stable/user_guide/indexing.html#returning-a-view-versus-a-copy\n",
      "  \"\"\"Entry point for launching an IPython kernel.\n"
     ]
    }
   ],
   "source": [
    "test_data['Predicted_ARIMA']=pred"
   ]
  },
  {
   "cell_type": "code",
   "execution_count": 88,
   "id": "a6a6b50e",
   "metadata": {},
   "outputs": [
    {
     "data": {
      "text/plain": [
       "<matplotlib.axes._subplots.AxesSubplot at 0x13f10d0ebc8>"
      ]
     },
     "execution_count": 88,
     "metadata": {},
     "output_type": "execute_result"
    },
    {
     "data": {
      "image/png": "[encoded data removed]",
      "text/plain": [
       "<Figure size 432x288 with 1 Axes>"
      ]
     },
     "metadata": {
      "needs_background": "light"
     },
     "output_type": "display_data"
    }
   ],
   "source": [
    "test_data[['Passengers','Predicted_ARIMA']].plot()"
   ]
  },
  {
   "cell_type": "code",
   "execution_count": 89,
   "id": "45e3cc11",
   "metadata": {},
   "outputs": [
    {
     "data": {
      "image/png": "[encoded data removed]",
      "text/plain": [
       "<Figure size 432x288 with 1 Axes>"
      ]
     },
     "metadata": {
      "needs_background": "light"
     },
     "output_type": "display_data"
    },
    {
     "data": {
      "image/png": "[encoded data removed]",
      "text/plain": [
       "<Figure size 432x288 with 1 Axes>"
      ]
     },
     "metadata": {
      "needs_background": "light"
     },
     "output_type": "display_data"
    }
   ],
   "source": [
    "acf12 = plot_acf(df_airline[\"Passengers 12 Difference\"].dropna())\n",
    "pacf12 = plot_pacf(df_airline[\"Passengers 12 Difference\"].dropna())"
   ]
  },
  {
   "cell_type": "code",
   "execution_count": 91,
   "id": "06cd1111",
   "metadata": {},
   "outputs": [],
   "source": [
    "## create a SARIMA model\n",
    "from statsmodels.tsa.statespace.sarimax import SARIMAX"
   ]
  },
  {
   "cell_type": "code",
   "execution_count": 93,
   "id": "7fee2088",
   "metadata": {},
   "outputs": [
    {
     "name": "stderr",
     "output_type": "stream",
     "text": [
      "C:\\Users\\Nasir Hussain\\Anaconda3\\lib\\site-packages\\statsmodels\\tsa\\base\\tsa_model.py:165: ValueWarning: No frequency information was provided, so inferred frequency MS will be used.\n",
      "  % freq, ValueWarning)\n"
     ]
    }
   ],
   "source": [
    "model_SARIMA=SARIMAX(train_data['Passengers'],order=(3,0,5),seasonal_order=(0,1,0,12))"
   ]
  },
  {
   "cell_type": "code",
   "execution_count": 94,
   "id": "19c57ce0",
   "metadata": {},
   "outputs": [
    {
     "name": "stderr",
     "output_type": "stream",
     "text": [
      "C:\\Users\\Nasir Hussain\\Anaconda3\\lib\\site-packages\\statsmodels\\base\\model.py:512: ConvergenceWarning: Maximum Likelihood optimization failed to converge. Check mle_retvals\n",
      "  \"Check mle_retvals\", ConvergenceWarning)\n"
     ]
    }
   ],
   "source": [
    "model_SARIMA_fit=model_SARIMA.fit()"
   ]
  },
  {
   "cell_type": "code",
   "execution_count": 95,
   "id": "db6403f1",
   "metadata": {},
   "outputs": [
    {
     "data": {
      "text/html": [
       "<table class=\"simpletable\">\n",
       "<caption>Statespace Model Results</caption>\n",
       "<tr>\n",
       "  <th>Dep. Variable:</th>             <td>Passengers</td>           <th>  No. Observations:  </th>    <td>100</td>  \n",
       "</tr>\n",
       "<tr>\n",
       "  <th>Model:</th>           <td>SARIMAX(3, 0, 5)x(0, 1, 0, 12)</td> <th>  Log Likelihood     </th> <td>-321.797</td>\n",
       "</tr>\n",
       "<tr>\n",
       "  <th>Date:</th>                   <td>Sat, 09 Sep 2023</td>        <th>  AIC                </th>  <td>661.594</td>\n",
       "</tr>\n",
       "<tr>\n",
       "  <th>Time:</th>                       <td>16:35:42</td>            <th>  BIC                </th>  <td>683.890</td>\n",
       "</tr>\n",
       "<tr>\n",
       "  <th>Sample:</th>                    <td>01-01-1949</td>           <th>  HQIC               </th>  <td>670.576</td>\n",
       "</tr>\n",
       "<tr>\n",
       "  <th></th>                          <td>- 04-01-1957</td>          <th>                     </th>     <td> </td>   \n",
       "</tr>\n",
       "<tr>\n",
       "  <th>Covariance Type:</th>               <td>opg</td>              <th>                     </th>     <td> </td>   \n",
       "</tr>\n",
       "</table>\n",
       "<table class=\"simpletable\">\n",
       "<tr>\n",
       "     <td></td>       <th>coef</th>     <th>std err</th>      <th>z</th>      <th>P>|z|</th>  <th>[0.025</th>    <th>0.975]</th>  \n",
       "</tr>\n",
       "<tr>\n",
       "  <th>ar.L1</th>  <td>   -0.1320</td> <td>    0.203</td> <td>   -0.649</td> <td> 0.516</td> <td>   -0.530</td> <td>    0.266</td>\n",
       "</tr>\n",
       "<tr>\n",
       "  <th>ar.L2</th>  <td>    0.1382</td> <td>    0.208</td> <td>    0.663</td> <td> 0.507</td> <td>   -0.270</td> <td>    0.546</td>\n",
       "</tr>\n",
       "<tr>\n",
       "  <th>ar.L3</th>  <td>    0.9610</td> <td>    0.202</td> <td>    4.765</td> <td> 0.000</td> <td>    0.566</td> <td>    1.356</td>\n",
       "</tr>\n",
       "<tr>\n",
       "  <th>ma.L1</th>  <td>    0.8566</td> <td>    0.209</td> <td>    4.107</td> <td> 0.000</td> <td>    0.448</td> <td>    1.265</td>\n",
       "</tr>\n",
       "<tr>\n",
       "  <th>ma.L2</th>  <td>    0.7627</td> <td>    0.260</td> <td>    2.938</td> <td> 0.003</td> <td>    0.254</td> <td>    1.272</td>\n",
       "</tr>\n",
       "<tr>\n",
       "  <th>ma.L3</th>  <td>   -0.4458</td> <td>    0.163</td> <td>   -2.735</td> <td> 0.006</td> <td>   -0.765</td> <td>   -0.126</td>\n",
       "</tr>\n",
       "<tr>\n",
       "  <th>ma.L4</th>  <td>   -0.2661</td> <td>    0.151</td> <td>   -1.760</td> <td> 0.078</td> <td>   -0.563</td> <td>    0.030</td>\n",
       "</tr>\n",
       "<tr>\n",
       "  <th>ma.L5</th>  <td>   -0.2975</td> <td>    0.130</td> <td>   -2.291</td> <td> 0.022</td> <td>   -0.552</td> <td>   -0.043</td>\n",
       "</tr>\n",
       "<tr>\n",
       "  <th>sigma2</th> <td>   83.6641</td> <td>   13.614</td> <td>    6.145</td> <td> 0.000</td> <td>   56.980</td> <td>  110.348</td>\n",
       "</tr>\n",
       "</table>\n",
       "<table class=\"simpletable\">\n",
       "<tr>\n",
       "  <th>Ljung-Box (Q):</th>          <td>28.80</td> <th>  Jarque-Bera (JB):  </th> <td>2.71</td>\n",
       "</tr>\n",
       "<tr>\n",
       "  <th>Prob(Q):</th>                <td>0.91</td>  <th>  Prob(JB):          </th> <td>0.26</td>\n",
       "</tr>\n",
       "<tr>\n",
       "  <th>Heteroskedasticity (H):</th> <td>1.42</td>  <th>  Skew:              </th> <td>0.43</td>\n",
       "</tr>\n",
       "<tr>\n",
       "  <th>Prob(H) (two-sided):</th>    <td>0.35</td>  <th>  Kurtosis:          </th> <td>2.92</td>\n",
       "</tr>\n",
       "</table><br/><br/>Warnings:<br/>[1] Covariance matrix calculated using the outer product of gradients (complex-step)."
      ],
      "text/plain": [
       "<class 'statsmodels.iolib.summary.Summary'>\n",
       "\"\"\"\n",
       "                                 Statespace Model Results                                 \n",
       "==========================================================================================\n",
       "Dep. Variable:                         Passengers   No. Observations:                  100\n",
       "Model:             SARIMAX(3, 0, 5)x(0, 1, 0, 12)   Log Likelihood                -321.797\n",
       "Date:                            Sat, 09 Sep 2023   AIC                            661.594\n",
       "Time:                                    16:35:42   BIC                            683.890\n",
       "Sample:                                01-01-1949   HQIC                           670.576\n",
       "                                     - 04-01-1957                                         \n",
       "Covariance Type:                              opg                                         \n",
       "==============================================================================\n",
       "                 coef    std err          z      P>|z|      [0.025      0.975]\n",
       "------------------------------------------------------------------------------\n",
       "ar.L1         -0.1320      0.203     -0.649      0.516      -0.530       0.266\n",
       "ar.L2          0.1382      0.208      0.663      0.507      -0.270       0.546\n",
       "ar.L3          0.9610      0.202      4.765      0.000       0.566       1.356\n",
       "ma.L1          0.8566      0.209      4.107      0.000       0.448       1.265\n",
       "ma.L2          0.7627      0.260      2.938      0.003       0.254       1.272\n",
       "ma.L3         -0.4458      0.163     -2.735      0.006      -0.765      -0.126\n",
       "ma.L4         -0.2661      0.151     -1.760      0.078      -0.563       0.030\n",
       "ma.L5         -0.2975      0.130     -2.291      0.022      -0.552      -0.043\n",
       "sigma2        83.6641     13.614      6.145      0.000      56.980     110.348\n",
       "===================================================================================\n",
       "Ljung-Box (Q):                       28.80   Jarque-Bera (JB):                 2.71\n",
       "Prob(Q):                              0.91   Prob(JB):                         0.26\n",
       "Heteroskedasticity (H):               1.42   Skew:                             0.43\n",
       "Prob(H) (two-sided):                  0.35   Kurtosis:                         2.92\n",
       "===================================================================================\n",
       "\n",
       "Warnings:\n",
       "[1] Covariance matrix calculated using the outer product of gradients (complex-step).\n",
       "\"\"\""
      ]
     },
     "execution_count": 95,
     "metadata": {},
     "output_type": "execute_result"
    }
   ],
   "source": [
    "model_SARIMA_fit.summary()"
   ]
  },
  {
   "cell_type": "code",
   "execution_count": null,
   "id": "b0e45b30",
   "metadata": {},
   "outputs": [],
   "source": [
    "test_data.tail()"
   ]
  },
  {
   "cell_type": "code",
   "execution_count": 96,
   "id": "d4068d19",
   "metadata": {},
   "outputs": [
    {
     "name": "stdout",
     "output_type": "stream",
     "text": [
      "1957-05-01 00:00:00\n",
      "1960-12-01 00:00:00\n"
     ]
    }
   ],
   "source": [
    "##prediction\n",
    "pred_start_date=test_data.index[0]\n",
    "pred_end_date=test_data.index[-1]\n",
    "print(pred_start_date)\n",
    "print(pred_end_date)"
   ]
  },
  {
   "cell_type": "code",
   "execution_count": 97,
   "id": "d39b375b",
   "metadata": {},
   "outputs": [],
   "source": [
    "pred_Sarima=model_SARIMA_fit.predict(start=datetime(1956,5,1),end=datetime(1960,12,1))\n",
    "residuals=test_data['Passengers']-pred_Sarima"
   ]
  },
  {
   "cell_type": "code",
   "execution_count": 98,
   "id": "b57af503",
   "metadata": {},
   "outputs": [
    {
     "data": {
      "text/plain": [
       "<matplotlib.axes._subplots.AxesSubplot at 0x13f10eb4248>"
      ]
     },
     "execution_count": 98,
     "metadata": {},
     "output_type": "execute_result"
    },
    {
     "data": {
      "image/png": "[encoded data removed]",
      "text/plain": [
       "<Figure size 432x288 with 1 Axes>"
      ]
     },
     "metadata": {
      "needs_background": "light"
     },
     "output_type": "display_data"
    }
   ],
   "source": [
    "model_SARIMA_fit.resid.plot()"
   ]
  },
  {
   "cell_type": "code",
   "execution_count": null,
   "id": "52063f05",
   "metadata": {},
   "outputs": [],
   "source": [
    "model_SARIMA_fit.resid.plot(kind='kde')"
   ]
  },
  {
   "cell_type": "code",
   "execution_count": 99,
   "id": "f6799ec6",
   "metadata": {},
   "outputs": [
    {
     "name": "stderr",
     "output_type": "stream",
     "text": [
      "C:\\Users\\Nasir Hussain\\Anaconda3\\lib\\site-packages\\ipykernel_launcher.py:1: SettingWithCopyWarning: \n",
      "A value is trying to be set on a copy of a slice from a DataFrame.\n",
      "Try using .loc[row_indexer,col_indexer] = value instead\n",
      "\n",
      "See the caveats in the documentation: http://pandas.pydata.org/pandas-docs/stable/user_guide/indexing.html#returning-a-view-versus-a-copy\n",
      "  \"\"\"Entry point for launching an IPython kernel.\n"
     ]
    }
   ],
   "source": [
    "test_data['Predicted_SARIMA']=pred_Sarima"
   ]
  },
  {
   "cell_type": "code",
   "execution_count": null,
   "id": "b79fdec6",
   "metadata": {},
   "outputs": [],
   "source": [
    "test_data"
   ]
  },
  {
   "cell_type": "code",
   "execution_count": 101,
   "id": "ee280e88",
   "metadata": {},
   "outputs": [
    {
     "data": {
      "text/plain": [
       "<matplotlib.axes._subplots.AxesSubplot at 0x13f10cddb48>"
      ]
     },
     "execution_count": 101,
     "metadata": {},
     "output_type": "execute_result"
    },
    {
     "data": {
      "image/png": "[encoded data removed]",
      "text/plain": [
       "<Figure size 432x288 with 1 Axes>"
      ]
     },
     "metadata": {
      "needs_background": "light"
     },
     "output_type": "display_data"
    }
   ],
   "source": [
    "test_data[['Passengers','Predicted_SARIMA','Predicted_ARIMA']].plot()"
   ]
  },
  {
   "cell_type": "code",
   "execution_count": null,
   "id": "d805fbff",
   "metadata": {},
   "outputs": [],
   "source": []
  }
 ],
 "metadata": {
  "kernelspec": {
   "display_name": "Python 3",
   "language": "python",
   "name": "python3"
  },
  "language_info": {
   "codemirror_mode": {
    "name": "ipython",
    "version": 3
   },
   "file_extension": ".py",
   "mimetype": "text/x-python",
   "name": "python",
   "nbconvert_exporter": "python",
   "pygments_lexer": "ipython3",
   "version": "3.7.2"
  }
 },
 "nbformat": 4,
 "nbformat_minor": 5
}
