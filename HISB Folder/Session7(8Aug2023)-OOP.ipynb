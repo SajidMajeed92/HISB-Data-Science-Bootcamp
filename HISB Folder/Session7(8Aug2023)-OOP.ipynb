{
 "cells": [
  {
   "cell_type": "code",
   "execution_count": null,
   "id": "7a72ecb7",
   "metadata": {},
   "outputs": [],
   "source": [
    "class Laptop():\n",
    "    # Attributes /Characteristics /Prperties\n",
    "    color  = \"Blue\"\n",
    "    ram = \"20Gb\"\n",
    "    storage = \"1Tb\"\n",
    "    make = \"Lenovo\"\n",
    "    model = \"ideapad330s\"\n",
    "    processor = 'corei5'\n",
    "    generation = \"8th\"\n",
    "    \n",
    "    # behaviour/ functionalities /methods\n",
    "    def switch_on(self):\n",
    "        print(\"Laptop is swithched on\") \n",
    "    def shutdown(self):\n",
    "        print(\"Laptop is shutting down\")\n",
    "    def runapp(self):\n",
    "        print(\"MS Word is running on my laptop\")"
   ]
  },
  {
   "cell_type": "code",
   "execution_count": null,
   "id": "ea84c38b",
   "metadata": {},
   "outputs": [],
   "source": [
    "nabeel_laptop = Laptop()"
   ]
  },
  {
   "cell_type": "code",
   "execution_count": null,
   "id": "025c8ee7",
   "metadata": {},
   "outputs": [],
   "source": [
    "nabeel_laptop.ram"
   ]
  },
  {
   "cell_type": "code",
   "execution_count": null,
   "id": "6fcfc808",
   "metadata": {},
   "outputs": [],
   "source": [
    "nabeel_laptop.shutdown()"
   ]
  },
  {
   "cell_type": "code",
   "execution_count": null,
   "id": "d0e8c97c",
   "metadata": {},
   "outputs": [],
   "source": [
    "rafay_laptop = Laptop()"
   ]
  },
  {
   "cell_type": "code",
   "execution_count": null,
   "id": "9ea3263d",
   "metadata": {},
   "outputs": [],
   "source": [
    "rafay_laptop.make"
   ]
  },
  {
   "cell_type": "code",
   "execution_count": null,
   "id": "5ead5d5f",
   "metadata": {},
   "outputs": [],
   "source": [
    "rafay_laptop.runapp()"
   ]
  },
  {
   "cell_type": "code",
   "execution_count": null,
   "id": "03b02514",
   "metadata": {},
   "outputs": [],
   "source": [
    "nabeel_laptop.ram  = \"56Gb\""
   ]
  },
  {
   "cell_type": "code",
   "execution_count": null,
   "id": "c4b8a0af",
   "metadata": {},
   "outputs": [],
   "source": [
    "rafay_laptop.processor = \"Corei7\""
   ]
  },
  {
   "cell_type": "code",
   "execution_count": null,
   "id": "54283607",
   "metadata": {},
   "outputs": [],
   "source": [
    "nabeel_laptop.ram"
   ]
  },
  {
   "cell_type": "code",
   "execution_count": null,
   "id": "e9241d1d",
   "metadata": {},
   "outputs": [],
   "source": [
    "rafay_laptop.processor"
   ]
  },
  {
   "cell_type": "code",
   "execution_count": null,
   "id": "7569c57c",
   "metadata": {},
   "outputs": [],
   "source": [
    "class Laptop():\n",
    "    # constructor /initializer\n",
    "    def __init__(self,color,ram,storage,processor,model,make,generation):\n",
    "        self.color = color\n",
    "        self.ram = ram\n",
    "        self.storage = storage\n",
    "        self.processor = processor\n",
    "        self.model = model\n",
    "        self.make = make\n",
    "        self.generation = generation\n",
    "    def specification(self):\n",
    "        print(f'''\n",
    "                Ram: {self.ram}\n",
    "                Storage: {self.storage}\n",
    "                Processor: {self.processor}\n",
    "                Model: {self.model}\n",
    "                Make: {self.make}\n",
    "                Generation: {self.generation}\n",
    "                Color: {self.color}\n",
    "                \n",
    "        ''') "
   ]
  },
  {
   "cell_type": "code",
   "execution_count": null,
   "id": "488981b7",
   "metadata": {},
   "outputs": [],
   "source": [
    "lpt1 = Laptop()"
   ]
  },
  {
   "cell_type": "code",
   "execution_count": null,
   "id": "23d6d6e5",
   "metadata": {},
   "outputs": [],
   "source": [
    "lpt1 = Laptop(\"Silver\",'8Gb','1Tb','Corei7', 'Omen','HP','11th')"
   ]
  },
  {
   "cell_type": "code",
   "execution_count": null,
   "id": "9b409221",
   "metadata": {},
   "outputs": [],
   "source": [
    "lpt1.color"
   ]
  },
  {
   "cell_type": "code",
   "execution_count": null,
   "id": "ba203559",
   "metadata": {},
   "outputs": [],
   "source": [
    "lpt1.ram"
   ]
  },
  {
   "cell_type": "code",
   "execution_count": null,
   "id": "ab6a6f0a",
   "metadata": {},
   "outputs": [],
   "source": [
    "lpt1.generation"
   ]
  },
  {
   "cell_type": "code",
   "execution_count": null,
   "id": "19074c74",
   "metadata": {},
   "outputs": [],
   "source": [
    "lpt1.processor"
   ]
  },
  {
   "cell_type": "code",
   "execution_count": null,
   "id": "0f83435e",
   "metadata": {},
   "outputs": [],
   "source": [
    "lpt1.specification()"
   ]
  },
  {
   "cell_type": "code",
   "execution_count": null,
   "id": "5b2d51bc",
   "metadata": {},
   "outputs": [],
   "source": [
    "lpt2 = Laptop(\"Black\",'4Gb','1Tb','Corei5', 'IdeaPad','Lenovo','7th')"
   ]
  },
  {
   "cell_type": "code",
   "execution_count": null,
   "id": "81ff0a31",
   "metadata": {},
   "outputs": [],
   "source": [
    "lpt2.color"
   ]
  },
  {
   "cell_type": "code",
   "execution_count": null,
   "id": "dba3ee83",
   "metadata": {},
   "outputs": [],
   "source": [
    "lpt1.color"
   ]
  },
  {
   "cell_type": "code",
   "execution_count": null,
   "id": "1d3e5f0c",
   "metadata": {},
   "outputs": [],
   "source": [
    "#Laptop.specification(lpt1)\n",
    "\n",
    "lpt1.specification()"
   ]
  },
  {
   "cell_type": "code",
   "execution_count": null,
   "id": "ec21e340",
   "metadata": {},
   "outputs": [],
   "source": [
    "Laptop.specification(lpt2)"
   ]
  },
  {
   "cell_type": "markdown",
   "id": "e37cc4fc",
   "metadata": {},
   "source": [
    "# Pillar of OOP\n",
    "    - Inheritance\n",
    "    - Polymorphism\n",
    "    - Encapsulation\n",
    "    - Abstraction"
   ]
  },
  {
   "cell_type": "markdown",
   "id": "5b9af4f0",
   "metadata": {},
   "source": [
    "# Encapsulation\n",
    "      - data binding with methods "
   ]
  },
  {
   "cell_type": "code",
   "execution_count": null,
   "id": "d82d66e4",
   "metadata": {},
   "outputs": [],
   "source": [
    "lpt1.ram = '50000GB'"
   ]
  },
  {
   "cell_type": "code",
   "execution_count": null,
   "id": "8b155a62",
   "metadata": {},
   "outputs": [],
   "source": [
    "class Laptop():\n",
    "    # constructor /initializer\n",
    "    def __init__(self,color,ram,storage,processor,model,make,generation):\n",
    "        self.color = color\n",
    "        self.ram = ram\n",
    "        self.storage = storage\n",
    "        self.processor = processor\n",
    "        self.model = model\n",
    "        self.make = make\n",
    "        self.generation = generation\n",
    "    def specification(self):\n",
    "        print(f'''\n",
    "                Ram: {self.ram}\n",
    "                Storage: {self.storage}\n",
    "                Processor: {self.processor}\n",
    "                Model: {self.model}\n",
    "                Make: {self.make}\n",
    "                Generation: {self.generation}\n",
    "                Color: {self.color}\n",
    "    \n",
    "                \n",
    "        ''')\n",
    "    def get_color(self):\n",
    "        print(f\"The color of laptop is {self.color}\")\n",
    "        \n",
    "    def set_color(self, newcolor):\n",
    "        colors = ['black', 'silver', 'white','blue']\n",
    "        if newcolor.lower() in colors:\n",
    "            self.color = newcolor\n",
    "        else:\n",
    "            print(\"Color not available\")\n",
    "        "
   ]
  },
  {
   "cell_type": "code",
   "execution_count": null,
   "id": "0fb31445",
   "metadata": {},
   "outputs": [],
   "source": [
    "lpt2 = Laptop(\"Black\",'4Gb','1Tb','Corei5', 'IdeaPad','Lenovo','7th')"
   ]
  },
  {
   "cell_type": "code",
   "execution_count": null,
   "id": "7408b988",
   "metadata": {},
   "outputs": [],
   "source": [
    "lpt2.get_color()"
   ]
  },
  {
   "cell_type": "code",
   "execution_count": null,
   "id": "3a9e0ccc",
   "metadata": {},
   "outputs": [],
   "source": [
    "lpt2.set_color()"
   ]
  },
  {
   "cell_type": "code",
   "execution_count": null,
   "id": "05b9586a",
   "metadata": {},
   "outputs": [],
   "source": [
    "lpt2.set_color(\"orange\")"
   ]
  },
  {
   "cell_type": "code",
   "execution_count": null,
   "id": "eac0798f",
   "metadata": {},
   "outputs": [],
   "source": [
    "lpt2.set_color(\"white\")"
   ]
  },
  {
   "cell_type": "code",
   "execution_count": null,
   "id": "4c7ce84f",
   "metadata": {},
   "outputs": [],
   "source": [
    "lpt2.get_color()"
   ]
  },
  {
   "cell_type": "code",
   "execution_count": null,
   "id": "f9b9251a",
   "metadata": {},
   "outputs": [],
   "source": [
    "from laptop import abc"
   ]
  },
  {
   "cell_type": "code",
   "execution_count": null,
   "id": "0ed5643e",
   "metadata": {},
   "outputs": [],
   "source": [
    "abc()"
   ]
  },
  {
   "cell_type": "code",
   "execution_count": null,
   "id": "6a08ed2e",
   "metadata": {},
   "outputs": [],
   "source": [
    "from laptop import OurLaptop"
   ]
  },
  {
   "cell_type": "code",
   "execution_count": null,
   "id": "29d789f2",
   "metadata": {},
   "outputs": [],
   "source": [
    "laptop1 = OurLaptop(\"Black\",'4Gb','1Tb','Corei5', 'IdeaPad','Lenov','7th')"
   ]
  },
  {
   "cell_type": "code",
   "execution_count": null,
   "id": "1a869ff1",
   "metadata": {},
   "outputs": [],
   "source": [
    "laptop1.set_color('Red')"
   ]
  },
  {
   "cell_type": "markdown",
   "id": "ee338a44",
   "metadata": {},
   "source": [
    "# Inheritance "
   ]
  },
  {
   "cell_type": "code",
   "execution_count": 31,
   "id": "49758019",
   "metadata": {},
   "outputs": [],
   "source": [
    "class Car():\n",
    "    def __init__(self, model, make, capcity):\n",
    "        self.model = model\n",
    "        self.make =make\n",
    "        self.capacity = capcity\n",
    "        self.odometer_reading = 0\n",
    "    def fuel_tank(self):\n",
    "        print(f\"{self.make} car is being filled with fuel\")\n",
    "        \n",
    "    def get_mileage(self):\n",
    "        print(f\"{self.make} car has travelled {self.odometer_reading}km\")\n",
    "    def set_mileage(self,newReading):\n",
    "        if newReading > self.odometer_reading:\n",
    "            self.odometer_reading =newReading\n",
    "        else:\n",
    "            print(\"Car meter can not not be reversed\")\n",
    "    def describe_car(self):\n",
    "        print(self.make, self.model,self.capacity,self.odometer_reading)"
   ]
  },
  {
   "cell_type": "code",
   "execution_count": 32,
   "id": "7bcd0991",
   "metadata": {},
   "outputs": [],
   "source": [
    "car1 = Car('2023', 'Honda', 6)"
   ]
  },
  {
   "cell_type": "code",
   "execution_count": 33,
   "id": "ad5dfeaa",
   "metadata": {},
   "outputs": [
    {
     "name": "stdout",
     "output_type": "stream",
     "text": [
      "Honda car has travelled 0km\n"
     ]
    }
   ],
   "source": [
    "car1.get_mileage()"
   ]
  },
  {
   "cell_type": "code",
   "execution_count": 34,
   "id": "05ba20dd",
   "metadata": {},
   "outputs": [],
   "source": [
    "car1.set_mileage(100)"
   ]
  },
  {
   "cell_type": "code",
   "execution_count": 35,
   "id": "90f2e344",
   "metadata": {},
   "outputs": [
    {
     "name": "stdout",
     "output_type": "stream",
     "text": [
      "Honda car has travelled 100km\n"
     ]
    }
   ],
   "source": [
    "car1.get_mileage()"
   ]
  },
  {
   "cell_type": "code",
   "execution_count": 44,
   "id": "c35b7fa0",
   "metadata": {},
   "outputs": [],
   "source": [
    "class ElectricCar(Car):\n",
    "    \n",
    "    \n",
    "    def fuel_tank(self):\n",
    "        print(\"Electric Car has no fuek tank\")"
   ]
  },
  {
   "cell_type": "code",
   "execution_count": 45,
   "id": "dcb8f6c9",
   "metadata": {},
   "outputs": [],
   "source": [
    "ec1 = ElectricCar('2023','Tesla', 4)"
   ]
  },
  {
   "cell_type": "code",
   "execution_count": 46,
   "id": "2e2508c8",
   "metadata": {},
   "outputs": [
    {
     "name": "stdout",
     "output_type": "stream",
     "text": [
      "Tesla 2023 4 0\n"
     ]
    }
   ],
   "source": [
    "ec1.describe_car()"
   ]
  },
  {
   "cell_type": "code",
   "execution_count": 47,
   "id": "70615169",
   "metadata": {},
   "outputs": [
    {
     "name": "stdout",
     "output_type": "stream",
     "text": [
      "Tesla car has travelled 0km\n"
     ]
    }
   ],
   "source": [
    "ec1.get_mileage()"
   ]
  },
  {
   "cell_type": "code",
   "execution_count": 48,
   "id": "a2e0d54b",
   "metadata": {},
   "outputs": [],
   "source": [
    "ec1.set_mileage(100)"
   ]
  },
  {
   "cell_type": "code",
   "execution_count": 49,
   "id": "e19b3965",
   "metadata": {},
   "outputs": [
    {
     "name": "stdout",
     "output_type": "stream",
     "text": [
      "Tesla car has travelled 100km\n"
     ]
    }
   ],
   "source": [
    "ec1.get_mileage()"
   ]
  },
  {
   "cell_type": "code",
   "execution_count": 50,
   "id": "24280884",
   "metadata": {},
   "outputs": [
    {
     "name": "stdout",
     "output_type": "stream",
     "text": [
      "Electric Car has no fuek tank\n"
     ]
    }
   ],
   "source": [
    "ec1.fuel_tank()"
   ]
  },
  {
   "cell_type": "markdown",
   "id": "d4a758a5",
   "metadata": {},
   "source": [
    "# Instance(Object) as Attribute"
   ]
  },
  {
   "cell_type": "code",
   "execution_count": 62,
   "id": "c444d52d",
   "metadata": {},
   "outputs": [],
   "source": [
    "class Battery():\n",
    "    def __init__(self,manuf,cells, amp,backup):\n",
    "        self.manuf = manuf\n",
    "        self.cells=cells\n",
    "        self.amp =amp\n",
    "        self.backup = backup\n",
    "    def status(self):\n",
    "        print(\"Battert status id good\")"
   ]
  },
  {
   "cell_type": "code",
   "execution_count": 65,
   "id": "eb03a5ff",
   "metadata": {},
   "outputs": [],
   "source": [
    "class ElectricCar(Car):\n",
    "    def __init__(self,model, make, capacity, wheels, max_speed,b_manuf, b_cells,b_amp,b_backup ):\n",
    "        super().__init__(model, make, capacity)        \n",
    "        self.wheels = wheels\n",
    "        self.max_speed = max_speed\n",
    "        self.battery = Battery(b_manuf, b_cells,b_amp,b_backup)\n",
    "        \n",
    "    def fuel_tank(self):\n",
    "        print(\"Electric Car has no fuek tank\"),"
   ]
  },
  {
   "cell_type": "code",
   "execution_count": 66,
   "id": "48beca90",
   "metadata": {},
   "outputs": [],
   "source": [
    "myEC = ElectricCar(2021,'Tesla',4,4,100,'osaka',27,'200amp','8hours')"
   ]
  },
  {
   "cell_type": "code",
   "execution_count": 67,
   "id": "df50321a",
   "metadata": {},
   "outputs": [
    {
     "data": {
      "text/plain": [
       "2021"
      ]
     },
     "execution_count": 67,
     "metadata": {},
     "output_type": "execute_result"
    }
   ],
   "source": [
    "myEC.model"
   ]
  },
  {
   "cell_type": "code",
   "execution_count": 68,
   "id": "a9c21fa3",
   "metadata": {},
   "outputs": [
    {
     "data": {
      "text/plain": [
       "'Tesla'"
      ]
     },
     "execution_count": 68,
     "metadata": {},
     "output_type": "execute_result"
    }
   ],
   "source": [
    "myEC.make"
   ]
  },
  {
   "cell_type": "code",
   "execution_count": 70,
   "id": "932f32b0",
   "metadata": {},
   "outputs": [
    {
     "data": {
      "text/plain": [
       "'8hours'"
      ]
     },
     "execution_count": 70,
     "metadata": {},
     "output_type": "execute_result"
    }
   ],
   "source": [
    "myEC.battery.backup"
   ]
  },
  {
   "cell_type": "code",
   "execution_count": null,
   "id": "f6635ac6",
   "metadata": {},
   "outputs": [],
   "source": []
  }
 ],
 "metadata": {
  "kernelspec": {
   "display_name": "Python 3",
   "language": "python",
   "name": "python3"
  },
  "language_info": {
   "codemirror_mode": {
    "name": "ipython",
    "version": 3
   },
   "file_extension": ".py",
   "mimetype": "text/x-python",
   "name": "python",
   "nbconvert_exporter": "python",
   "pygments_lexer": "ipython3",
   "version": "3.7.4"
  }
 },
 "nbformat": 4,
 "nbformat_minor": 5
}
