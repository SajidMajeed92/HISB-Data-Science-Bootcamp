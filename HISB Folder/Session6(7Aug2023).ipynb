{
 "cells": [
  {
   "cell_type": "markdown",
   "id": "6722adba",
   "metadata": {},
   "source": [
    "# Functions\n",
    "       - python functions   {print, input, len, round, type, del int,..}\n",
    "       - class functions   \n",
    "       - user defined functions\n",
    "       - userdefined class function"
   ]
  },
  {
   "cell_type": "code",
   "execution_count": 4,
   "id": "4589a335",
   "metadata": {},
   "outputs": [],
   "source": [
    "# function definiton\n",
    "def greet():\n",
    "    print(\"Welcome\") \n",
    "    \n",
    "# parameter-less"
   ]
  },
  {
   "cell_type": "code",
   "execution_count": 5,
   "id": "d447a365",
   "metadata": {},
   "outputs": [
    {
     "name": "stdout",
     "output_type": "stream",
     "text": [
      "Welcome\n"
     ]
    }
   ],
   "source": [
    "# function call\n",
    "greet()"
   ]
  },
  {
   "cell_type": "code",
   "execution_count": 6,
   "id": "e0f9ad38",
   "metadata": {},
   "outputs": [
    {
     "name": "stdout",
     "output_type": "stream",
     "text": [
      "Welcome\n"
     ]
    }
   ],
   "source": [
    "greet()"
   ]
  },
  {
   "cell_type": "code",
   "execution_count": 7,
   "id": "befb4797",
   "metadata": {},
   "outputs": [
    {
     "name": "stdout",
     "output_type": "stream",
     "text": [
      "Welcome\n"
     ]
    }
   ],
   "source": [
    "greet()"
   ]
  },
  {
   "cell_type": "code",
   "execution_count": 9,
   "id": "5fc3cc38",
   "metadata": {},
   "outputs": [
    {
     "ename": "TypeError",
     "evalue": "greet() takes 0 positional arguments but 1 was given",
     "output_type": "error",
     "traceback": [
      "\u001b[1;31m---------------------------------------------------------------------------\u001b[0m",
      "\u001b[1;31mTypeError\u001b[0m                                 Traceback (most recent call last)",
      "\u001b[1;32m<ipython-input-9-6c32cb38d3e6>\u001b[0m in \u001b[0;36m<module>\u001b[1;34m\u001b[0m\n\u001b[1;32m----> 1\u001b[1;33m \u001b[0mgreet\u001b[0m\u001b[1;33m(\u001b[0m\u001b[1;34m\"Hasan\"\u001b[0m\u001b[1;33m)\u001b[0m\u001b[1;33m\u001b[0m\u001b[1;33m\u001b[0m\u001b[0m\n\u001b[0m",
      "\u001b[1;31mTypeError\u001b[0m: greet() takes 0 positional arguments but 1 was given"
     ]
    }
   ],
   "source": [
    "greet(\"Hasan\")"
   ]
  },
  {
   "cell_type": "code",
   "execution_count": 15,
   "id": "9fdd97ef",
   "metadata": {},
   "outputs": [],
   "source": [
    "def greet_user(name):# parameter\n",
    "    print(f\"Welcome {name}\")\n",
    "#     print(\"Welcome\", name)"
   ]
  },
  {
   "cell_type": "code",
   "execution_count": 17,
   "id": "8cdd9494",
   "metadata": {},
   "outputs": [
    {
     "name": "stdout",
     "output_type": "stream",
     "text": [
      "Welcome Mr Kamran Khan!\n"
     ]
    }
   ],
   "source": [
    "greet_user('Mr Kamran Khan!')# argument"
   ]
  },
  {
   "cell_type": "code",
   "execution_count": 18,
   "id": "2e8b1e6d",
   "metadata": {},
   "outputs": [
    {
     "name": "stdout",
     "output_type": "stream",
     "text": [
      "Welcome Nasir\n"
     ]
    }
   ],
   "source": [
    "greet_user(\"Nasir\")"
   ]
  },
  {
   "cell_type": "code",
   "execution_count": 32,
   "id": "cf756c6a",
   "metadata": {},
   "outputs": [
    {
     "data": {
      "text/plain": [
       "['I am a text for counting', 'I am a text for counting', '']"
      ]
     },
     "execution_count": 32,
     "metadata": {},
     "output_type": "execute_result"
    }
   ],
   "source": [
    "\"I am a text for counting.I am a text for counting.\".split(\".\")"
   ]
  },
  {
   "cell_type": "code",
   "execution_count": 35,
   "id": "90c8e363",
   "metadata": {},
   "outputs": [],
   "source": [
    "# write a function that tells how many characters, \n",
    "# words and sentences are there in a given paragraph\n",
    "def text_counts(txt):\n",
    "    chars_count = len(txt)\n",
    "    words_count =len(txt.split())\n",
    "    sents_count = len(txt.split('.'))-1\n",
    "    print(f\"\"\"\n",
    "       words : {words_count}\n",
    "       sentence: {sents_count}\n",
    "       char:   : {chars_count}\n",
    "    \"\"\")"
   ]
  },
  {
   "cell_type": "code",
   "execution_count": 36,
   "id": "ced4ff9e",
   "metadata": {},
   "outputs": [
    {
     "name": "stdout",
     "output_type": "stream",
     "text": [
      "\n",
      "       words : 12\n",
      "       sentence: 2\n",
      "       char:   : 51\n",
      "    \n"
     ]
    }
   ],
   "source": [
    "\n",
    "text_counts(\"I am a text for counting. I am a text for counting.\")"
   ]
  },
  {
   "cell_type": "code",
   "execution_count": 37,
   "id": "4b734099",
   "metadata": {},
   "outputs": [
    {
     "name": "stdout",
     "output_type": "stream",
     "text": [
      "\n",
      "       words : 12\n",
      "       sentence: 1\n",
      "       char:   : 51\n",
      "    \n"
     ]
    }
   ],
   "source": [
    "text_counts(\"Am i a text for counting? I am a text for counting.\")"
   ]
  },
  {
   "cell_type": "markdown",
   "id": "489ed68c",
   "metadata": {},
   "source": [
    "## Write a function that takes numbers input and ask for operation like add sub mul div  "
   ]
  },
  {
   "cell_type": "code",
   "execution_count": 50,
   "id": "4a91c677",
   "metadata": {},
   "outputs": [],
   "source": [
    "def calc (num1,num2,opr):    \n",
    "    if opr == '+':\n",
    "        print(num1+num2)\n",
    "    elif opr == '-':\n",
    "        print(num1-num2)\n",
    "    elif opr == '*':\n",
    "        print(num1*num2)\n",
    "    elif (opr == '/'):\n",
    "        if num2!=0:\n",
    "            print(num1/num2)\n",
    "        else:\n",
    "            print(\"Divide by Zeero not allowed\")\n",
    "    else:\n",
    "        print(\"Operation not supported\")"
   ]
  },
  {
   "cell_type": "code",
   "execution_count": 51,
   "id": "9e7cc8af",
   "metadata": {},
   "outputs": [
    {
     "name": "stdout",
     "output_type": "stream",
     "text": [
      "9\n"
     ]
    }
   ],
   "source": [
    "calc(4,5,'+')"
   ]
  },
  {
   "cell_type": "code",
   "execution_count": 52,
   "id": "47b4e5e5",
   "metadata": {},
   "outputs": [
    {
     "name": "stdout",
     "output_type": "stream",
     "text": [
      "48\n"
     ]
    }
   ],
   "source": [
    "calc(6,8,\"*\")"
   ]
  },
  {
   "cell_type": "code",
   "execution_count": 53,
   "id": "8e26c44c",
   "metadata": {},
   "outputs": [
    {
     "name": "stdout",
     "output_type": "stream",
     "text": [
      "Divide by Zeero not allowed\n"
     ]
    }
   ],
   "source": [
    "calc(6,0,\"/\")"
   ]
  },
  {
   "cell_type": "code",
   "execution_count": 54,
   "id": "b9aab93b",
   "metadata": {},
   "outputs": [
    {
     "name": "stdout",
     "output_type": "stream",
     "text": [
      "Operation not supported\n"
     ]
    }
   ],
   "source": [
    "calc(6,0,\"%\")"
   ]
  },
  {
   "cell_type": "markdown",
   "id": "543a2c2b",
   "metadata": {},
   "source": [
    "# Return "
   ]
  },
  {
   "cell_type": "code",
   "execution_count": 88,
   "id": "ed5b6889",
   "metadata": {},
   "outputs": [],
   "source": [
    "def discount_calc(bill_amt):\n",
    "    if bill_amt > 30000:\n",
    "        discount = bill_amt*.30\n",
    "    elif bill_amt > 25000:\n",
    "        discount = bill_amt*.25        \n",
    "    elif bill_amt > 20000:\n",
    "        discount = bill_amt*.20\n",
    "    elif bill_amt > 15000:\n",
    "        discount = bill_amt*.15\n",
    "    elif bill_amt > 10000:\n",
    "        discount = bill_amt*.10        \n",
    "    else:\n",
    "        discount = bill_amt*0\n",
    "    return discount    "
   ]
  },
  {
   "cell_type": "code",
   "execution_count": 96,
   "id": "dcc5e615",
   "metadata": {},
   "outputs": [],
   "source": [
    "store_items = {\"rice\":3000 ,\"oil\":500,\"water\":100, \"choclate\":100, \"fairnlovely\":200,\n",
    "              \"mobile\":5000 ,\"ghee\":5000,\"milk\":250, \"biscuit\":1000, \"pulses\":400,\n",
    "              \"soap\":300, \"bottle\":15000,\"surf\":1100, \"tea\":1600, \"phnyle\":200}\n",
    "def store():  \n",
    "    amt = 0\n",
    "    cart = []\n",
    "    while True:\n",
    "        order = input(\"Enter order item or q to quit: \").lower()\n",
    "        if order != \"q\":\n",
    "            if order in store_items.keys():\n",
    "                if (amt+store_items[order]) < 50000:                \n",
    "                    amt+=store_items[order]                \n",
    "                    cart.append(order) \n",
    "                    print(cart)\n",
    "                    print(amt)\n",
    "                else:\n",
    "                    print(cart)\n",
    "                    print(amt)\n",
    "                    print(\"Your bill amt exceed the limit\")\n",
    "                    \n",
    "                    return cart, amt, discount_calc(amt)  \n",
    "            else:\n",
    "                print(f\"{order} not in our store\")\n",
    "                print(cart)\n",
    "                print(amt)\n",
    "                continue       \n",
    "        else:\n",
    "            break\n",
    "    return cart, amt,discount_calc(amt)  "
   ]
  },
  {
   "cell_type": "code",
   "execution_count": 97,
   "id": "c3b2e025",
   "metadata": {},
   "outputs": [
    {
     "name": "stdout",
     "output_type": "stream",
     "text": [
      "Enter order item or q to quit: bottle\n",
      "['bottle']\n",
      "15000\n",
      "Enter order item or q to quit: ghee\n",
      "['bottle', 'ghee']\n",
      "20000\n",
      "Enter order item or q to quit: rice\n",
      "['bottle', 'ghee', 'rice']\n",
      "23000\n",
      "Enter order item or q to quit: bottle\n",
      "['bottle', 'ghee', 'rice', 'bottle']\n",
      "38000\n",
      "Enter order item or q to quit: ghee\n",
      "['bottle', 'ghee', 'rice', 'bottle', 'ghee']\n",
      "43000\n",
      "Enter order item or q to quit: rice\n",
      "['bottle', 'ghee', 'rice', 'bottle', 'ghee', 'rice']\n",
      "46000\n",
      "Enter order item or q to quit: bottle\n",
      "['bottle', 'ghee', 'rice', 'bottle', 'ghee', 'rice']\n",
      "46000\n",
      "Your bill amt exceed the limit\n"
     ]
    }
   ],
   "source": [
    "cart, amt, discount = store()\n"
   ]
  },
  {
   "cell_type": "code",
   "execution_count": 99,
   "id": "dda275b0",
   "metadata": {},
   "outputs": [
    {
     "name": "stdout",
     "output_type": "stream",
     "text": [
      "Enter order item or q to quit: bottle\n",
      "['bottle']\n",
      "15000\n",
      "Enter order item or q to quit: mobile\n",
      "['bottle', 'mobile']\n",
      "20000\n",
      "Enter order item or q to quit: ghee\n",
      "['bottle', 'mobile', 'ghee']\n",
      "25000\n",
      "Enter order item or q to quit: rice\n",
      "['bottle', 'mobile', 'ghee', 'rice']\n",
      "28000\n",
      "Enter order item or q to quit: bottle\n",
      "['bottle', 'mobile', 'ghee', 'rice', 'bottle']\n",
      "43000\n",
      "Enter order item or q to quit: mobile\n",
      "['bottle', 'mobile', 'ghee', 'rice', 'bottle', 'mobile']\n",
      "48000\n",
      "Enter order item or q to quit: ghee\n",
      "['bottle', 'mobile', 'ghee', 'rice', 'bottle', 'mobile']\n",
      "48000\n",
      "Your bill amt exceed the limit\n",
      "\n",
      "            ABC General Store \n",
      "            ___________________\n",
      "    Cart: ['bottle', 'mobile', 'ghee', 'rice', 'bottle', 'mobile']\n",
      "    Amount: 48000\n",
      "    Discount: 14400.0\n",
      "    \n",
      "    Total_Bill : 33600.0\n",
      "\n",
      "\n",
      "      Thanks for shopping!\n",
      "\n",
      "\n"
     ]
    }
   ],
   "source": [
    "cart, amt, dis = store()\n",
    "print(f'''\n",
    "            ABC General Store \n",
    "            ___________________\n",
    "    Cart: {cart}\n",
    "    Amount: {amt}\n",
    "    Discount: {dis}\n",
    "    \n",
    "    Total_Bill : { amt-dis}\n",
    "\n",
    "\n",
    "      Thanks for shopping!\n",
    "\n",
    "''')"
   ]
  },
  {
   "cell_type": "markdown",
   "id": "167dc1db",
   "metadata": {},
   "source": [
    "# More on functions....\n",
    "     - default values\n",
    "     - position arguments\n",
    "     - keyword arguments \n",
    "     "
   ]
  },
  {
   "cell_type": "code",
   "execution_count": 100,
   "id": "9abcce82",
   "metadata": {},
   "outputs": [],
   "source": [
    "# position parameters\n",
    "def full_name(firstname, middlename, lastname):\n",
    "    fullname = firstname + middlename + lastname\n",
    "    return fullname"
   ]
  },
  {
   "cell_type": "code",
   "execution_count": 101,
   "id": "c25937c0",
   "metadata": {},
   "outputs": [
    {
     "data": {
      "text/plain": [
       "'SyedMuhammadRaza'"
      ]
     },
     "execution_count": 101,
     "metadata": {},
     "output_type": "execute_result"
    }
   ],
   "source": [
    "full_name(\"Syed\", \"Muhammad\", \"Raza\")\n",
    "# position arguments"
   ]
  },
  {
   "cell_type": "code",
   "execution_count": 102,
   "id": "37db0653",
   "metadata": {},
   "outputs": [
    {
     "data": {
      "text/plain": [
       "'RazaMuhammadSyed'"
      ]
     },
     "execution_count": 102,
     "metadata": {},
     "output_type": "execute_result"
    }
   ],
   "source": [
    "full_name(\"Raza\", \"Muhammad\", \"Syed\")"
   ]
  },
  {
   "cell_type": "code",
   "execution_count": 103,
   "id": "f754bb97",
   "metadata": {},
   "outputs": [],
   "source": [
    "# positional parameters\n",
    "def full_name(firstname, middlename, lastname):\n",
    "    fullname = firstname + middlename + lastname\n",
    "    return fullname"
   ]
  },
  {
   "cell_type": "code",
   "execution_count": 104,
   "id": "194d2c6f",
   "metadata": {},
   "outputs": [
    {
     "data": {
      "text/plain": [
       "'SyesNasirHussain'"
      ]
     },
     "execution_count": 104,
     "metadata": {},
     "output_type": "execute_result"
    }
   ],
   "source": [
    "full_name(lastname=\"Hussain\", middlename=\"Nasir\", firstname=\"Syes\")"
   ]
  },
  {
   "cell_type": "code",
   "execution_count": 108,
   "id": "6e27dc16",
   "metadata": {},
   "outputs": [],
   "source": [
    "# default argument\n",
    "def full_name(firstname, lastname, middlename=\"\"):\n",
    "    fullname = firstname + middlename + lastname\n",
    "    return fullname"
   ]
  },
  {
   "cell_type": "code",
   "execution_count": 109,
   "id": "e7971bc1",
   "metadata": {},
   "outputs": [
    {
     "data": {
      "text/plain": [
       "'NasirHussain'"
      ]
     },
     "execution_count": 109,
     "metadata": {},
     "output_type": "execute_result"
    }
   ],
   "source": [
    "full_name('Nasir', 'Hussain')\n"
   ]
  },
  {
   "cell_type": "code",
   "execution_count": 110,
   "id": "43d96eb3",
   "metadata": {},
   "outputs": [
    {
     "data": {
      "text/plain": [
       "'NasirHussainhello'"
      ]
     },
     "execution_count": 110,
     "metadata": {},
     "output_type": "execute_result"
    }
   ],
   "source": [
    "full_name(\"Nasir\", middlename=\"Hussain\", lastname=\"hello\")"
   ]
  },
  {
   "cell_type": "code",
   "execution_count": 111,
   "id": "adcd2f6c",
   "metadata": {},
   "outputs": [
    {
     "ename": "SyntaxError",
     "evalue": "positional argument follows keyword argument (<ipython-input-111-b14efa24940c>, line 1)",
     "output_type": "error",
     "traceback": [
      "\u001b[1;36m  File \u001b[1;32m\"<ipython-input-111-b14efa24940c>\"\u001b[1;36m, line \u001b[1;32m1\u001b[0m\n\u001b[1;33m    full_name(firstname=\"Nasir\", middlename=\"Hussain\", \"Hello\")\u001b[0m\n\u001b[1;37m                                                      ^\u001b[0m\n\u001b[1;31mSyntaxError\u001b[0m\u001b[1;31m:\u001b[0m positional argument follows keyword argument\n"
     ]
    }
   ],
   "source": [
    "full_name(firstname=\"Nasir\", middlename=\"Hussain\", \"Hello\")"
   ]
  },
  {
   "cell_type": "markdown",
   "id": "2ad50db5",
   "metadata": {},
   "source": [
    "# Arbitrarty arguments"
   ]
  },
  {
   "cell_type": "code",
   "execution_count": 115,
   "id": "49c5d03d",
   "metadata": {},
   "outputs": [],
   "source": [
    "def summing(n1,n2,n3=0):\n",
    "    s = n1 + n2+ n3\n",
    "    return s"
   ]
  },
  {
   "cell_type": "code",
   "execution_count": 116,
   "id": "7ed63f19",
   "metadata": {},
   "outputs": [
    {
     "data": {
      "text/plain": [
       "6"
      ]
     },
     "execution_count": 116,
     "metadata": {},
     "output_type": "execute_result"
    }
   ],
   "source": [
    "summing(1,2,3)"
   ]
  },
  {
   "cell_type": "code",
   "execution_count": 117,
   "id": "dc2e17f2",
   "metadata": {},
   "outputs": [
    {
     "data": {
      "text/plain": [
       "9"
      ]
     },
     "execution_count": 117,
     "metadata": {},
     "output_type": "execute_result"
    }
   ],
   "source": [
    "summing(4,5)"
   ]
  },
  {
   "cell_type": "code",
   "execution_count": 122,
   "id": "8bf7c47c",
   "metadata": {},
   "outputs": [],
   "source": [
    "def summing(*n):\n",
    "    s = sum(n)\n",
    "    return s"
   ]
  },
  {
   "cell_type": "code",
   "execution_count": 123,
   "id": "cd1189cb",
   "metadata": {},
   "outputs": [
    {
     "data": {
      "text/plain": [
       "8"
      ]
     },
     "execution_count": 123,
     "metadata": {},
     "output_type": "execute_result"
    }
   ],
   "source": [
    "summing(3,5)"
   ]
  },
  {
   "cell_type": "code",
   "execution_count": 124,
   "id": "d453925b",
   "metadata": {},
   "outputs": [
    {
     "data": {
      "text/plain": [
       "45"
      ]
     },
     "execution_count": 124,
     "metadata": {},
     "output_type": "execute_result"
    }
   ],
   "source": [
    "summing(1,2,3,4,5,6,7,8,9)"
   ]
  },
  {
   "cell_type": "code",
   "execution_count": 127,
   "id": "8e4b1d79",
   "metadata": {},
   "outputs": [],
   "source": [
    "def invite_guest(*gst):\n",
    "    for g in gst:\n",
    "        print(f\"Mr {g} you are invited!\")  "
   ]
  },
  {
   "cell_type": "code",
   "execution_count": 128,
   "id": "1d110511",
   "metadata": {},
   "outputs": [
    {
     "name": "stdout",
     "output_type": "stream",
     "text": [
      "Mr nasir you are invited!\n",
      "Mr waseem you are invited!\n",
      "Mr usman you are invited!\n",
      "Mr kashif you are invited!\n"
     ]
    }
   ],
   "source": [
    "invite_guest('nasir', \"waseem\", \"usman\", 'kashif')"
   ]
  },
  {
   "cell_type": "code",
   "execution_count": 137,
   "id": "0f65ae8e",
   "metadata": {},
   "outputs": [],
   "source": [
    "import mymath"
   ]
  },
  {
   "cell_type": "code",
   "execution_count": 138,
   "id": "e1af2f89",
   "metadata": {},
   "outputs": [
    {
     "data": {
      "text/plain": [
       "135"
      ]
     },
     "execution_count": 138,
     "metadata": {},
     "output_type": "execute_result"
    }
   ],
   "source": [
    "mymath.calc(45,3,\"*\")"
   ]
  },
  {
   "cell_type": "markdown",
   "id": "f03ec41f",
   "metadata": {},
   "source": [
    "# Exceptions :Exception Handlings/Error"
   ]
  },
  {
   "cell_type": "code",
   "execution_count": 139,
   "id": "9034377b",
   "metadata": {},
   "outputs": [
    {
     "name": "stdout",
     "output_type": "stream",
     "text": [
      "Enter a numberapple\n"
     ]
    },
    {
     "ename": "ValueError",
     "evalue": "invalid literal for int() with base 10: 'apple'",
     "output_type": "error",
     "traceback": [
      "\u001b[1;31m---------------------------------------------------------------------------\u001b[0m",
      "\u001b[1;31mValueError\u001b[0m                                Traceback (most recent call last)",
      "\u001b[1;32m<ipython-input-139-c442e8c9d0b1>\u001b[0m in \u001b[0;36m<module>\u001b[1;34m\u001b[0m\n\u001b[1;32m----> 1\u001b[1;33m \u001b[0mnum\u001b[0m \u001b[1;33m=\u001b[0m \u001b[0mint\u001b[0m\u001b[1;33m(\u001b[0m\u001b[0minput\u001b[0m\u001b[1;33m(\u001b[0m\u001b[1;34m\"Enter a number\"\u001b[0m\u001b[1;33m)\u001b[0m\u001b[1;33m)\u001b[0m\u001b[1;33m\u001b[0m\u001b[1;33m\u001b[0m\u001b[0m\n\u001b[0m",
      "\u001b[1;31mValueError\u001b[0m: invalid literal for int() with base 10: 'apple'"
     ]
    }
   ],
   "source": [
    "num = int(input(\"Enter a number\"))"
   ]
  },
  {
   "cell_type": "code",
   "execution_count": 140,
   "id": "6a01d03c",
   "metadata": {},
   "outputs": [
    {
     "ename": "ZeroDivisionError",
     "evalue": "division by zero",
     "output_type": "error",
     "traceback": [
      "\u001b[1;31m---------------------------------------------------------------------------\u001b[0m",
      "\u001b[1;31mZeroDivisionError\u001b[0m                         Traceback (most recent call last)",
      "\u001b[1;32m<ipython-input-140-e574edb36883>\u001b[0m in \u001b[0;36m<module>\u001b[1;34m\u001b[0m\n\u001b[1;32m----> 1\u001b[1;33m \u001b[1;36m10\u001b[0m\u001b[1;33m/\u001b[0m\u001b[1;36m0\u001b[0m\u001b[1;33m\u001b[0m\u001b[1;33m\u001b[0m\u001b[0m\n\u001b[0m",
      "\u001b[1;31mZeroDivisionError\u001b[0m: division by zero"
     ]
    }
   ],
   "source": [
    "10/0"
   ]
  },
  {
   "cell_type": "code",
   "execution_count": 150,
   "id": "233e1681",
   "metadata": {},
   "outputs": [
    {
     "name": "stdout",
     "output_type": "stream",
     "text": [
      "Enter a number3\n",
      "Enter a number3\n",
      "1.0\n"
     ]
    }
   ],
   "source": [
    "num1 = int(input(\"Enter a number\"))\n",
    "num2 = int(input(\"Enter a number\"))\n",
    "try:\n",
    "    ans = num1 / num2 \n",
    "\n",
    "except ZeroDivisionError:\n",
    "    print(\"You can not divide a number by 0\")\n",
    "    \n",
    "else:\n",
    "    print(ans)"
   ]
  },
  {
   "cell_type": "code",
   "execution_count": 156,
   "id": "3d4b84f2",
   "metadata": {},
   "outputs": [
    {
     "name": "stdout",
     "output_type": "stream",
     "text": [
      "Enter a number4\n",
      "Enter a number5\n",
      "0.8\n"
     ]
    }
   ],
   "source": [
    "try:\n",
    "    num1 = int(input(\"Enter a number\"))\n",
    "    num2 = int(input(\"Enter a number\"))\n",
    "    ans = num1 / num2 \n",
    "\n",
    "except ZeroDivisionError:\n",
    "    print(\"You can not divide a number by 0\")\n",
    "except ValueError:\n",
    "    print(\"You can only enter digits\")\n",
    "    \n",
    "else:\n",
    "    print(ans)"
   ]
  },
  {
   "cell_type": "code",
   "execution_count": 159,
   "id": "08014bc9",
   "metadata": {},
   "outputs": [
    {
     "name": "stdout",
     "output_type": "stream",
     "text": [
      "Enter a number5\n",
      "Enter a number0\n",
      "Koi na koi exception pakri gae hy\n"
     ]
    }
   ],
   "source": [
    "try:\n",
    "    num1 = int(input(\"Enter a number\"))\n",
    "    num2 = int(input(\"Enter a number\"))\n",
    "    ans = num1 / num2 \n",
    "\n",
    "except: \n",
    "    print(\"Koi na koi exception pakri gae hy\")\n",
    "else:\n",
    "    print(ans)"
   ]
  },
  {
   "cell_type": "code",
   "execution_count": 2,
   "id": "d98d54d0",
   "metadata": {},
   "outputs": [
    {
     "name": "stdout",
     "output_type": "stream",
     "text": [
      "Enter a numberty\n",
      "invalid literal for int() with base 10: 'ty'\n"
     ]
    }
   ],
   "source": [
    "try:\n",
    "    num1 = int(input(\"Enter a number\"))\n",
    "    num2 = int(input(\"Enter a number\"))\n",
    "    ans = num1 / num2 \n",
    "\n",
    "except Exception as e: \n",
    "    print(e)\n",
    "else:\n",
    "    print(ans)"
   ]
  },
  {
   "cell_type": "code",
   "execution_count": 18,
   "id": "36929f04",
   "metadata": {},
   "outputs": [
    {
     "name": "stdout",
     "output_type": "stream",
     "text": [
      "Enter your age: 11\n",
      "Children and old age not allowed\n"
     ]
    }
   ],
   "source": [
    "age  = int(input(\"Enter your age: \"))\n",
    "\n",
    "try: \n",
    "    if age <15 or age >100:\n",
    "        raise Exception (\"Age restriction Error\")\n",
    "except Exception as e:\n",
    "    print(\"Children and old age not allowed\")\n",
    "else:\n",
    "    print(\"You are admitted\")"
   ]
  },
  {
   "cell_type": "code",
   "execution_count": 7,
   "id": "d3f07fc0",
   "metadata": {},
   "outputs": [],
   "source": [
    "class Student():\n",
    "    def __init__(self,name,age):\n",
    "        if age > 80 or age <16:\n",
    "            raise Exception(\"Age can not be greater then 80 and less then 16\")\n",
    "        self.name = name\n",
    "        self.age = age"
   ]
  },
  {
   "cell_type": "code",
   "execution_count": 8,
   "id": "241fac89",
   "metadata": {},
   "outputs": [
    {
     "name": "stdout",
     "output_type": "stream",
     "text": [
      "Enter students age: 15\n"
     ]
    },
    {
     "ename": "Exception",
     "evalue": "Age can not be greater then 80 and less then 16",
     "output_type": "error",
     "traceback": [
      "\u001b[1;31m---------------------------------------------------------------------------\u001b[0m",
      "\u001b[1;31mException\u001b[0m                                 Traceback (most recent call last)",
      "\u001b[1;32m<ipython-input-8-c00829a8e381>\u001b[0m in \u001b[0;36m<module>\u001b[1;34m\u001b[0m\n\u001b[0;32m      1\u001b[0m \u001b[0mage\u001b[0m \u001b[1;33m=\u001b[0m \u001b[0mint\u001b[0m\u001b[1;33m(\u001b[0m\u001b[0minput\u001b[0m\u001b[1;33m(\u001b[0m\u001b[1;34m\"Enter students age: \"\u001b[0m\u001b[1;33m)\u001b[0m\u001b[1;33m)\u001b[0m\u001b[1;33m\u001b[0m\u001b[1;33m\u001b[0m\u001b[0m\n\u001b[1;32m----> 2\u001b[1;33m \u001b[0mst\u001b[0m \u001b[1;33m=\u001b[0m \u001b[0mStudent\u001b[0m\u001b[1;33m(\u001b[0m\u001b[1;34m\"Nasir\"\u001b[0m\u001b[1;33m,\u001b[0m\u001b[0mage\u001b[0m\u001b[1;33m)\u001b[0m\u001b[1;33m\u001b[0m\u001b[1;33m\u001b[0m\u001b[0m\n\u001b[0m\u001b[0;32m      3\u001b[0m \u001b[0mprint\u001b[0m\u001b[1;33m(\u001b[0m\u001b[0mst\u001b[0m\u001b[1;33m.\u001b[0m\u001b[0mage\u001b[0m\u001b[1;33m)\u001b[0m\u001b[1;33m\u001b[0m\u001b[1;33m\u001b[0m\u001b[0m\n",
      "\u001b[1;32m<ipython-input-7-b067c15d8f3e>\u001b[0m in \u001b[0;36m__init__\u001b[1;34m(self, name, age)\u001b[0m\n\u001b[0;32m      2\u001b[0m     \u001b[1;32mdef\u001b[0m \u001b[0m__init__\u001b[0m\u001b[1;33m(\u001b[0m\u001b[0mself\u001b[0m\u001b[1;33m,\u001b[0m\u001b[0mname\u001b[0m\u001b[1;33m,\u001b[0m\u001b[0mage\u001b[0m\u001b[1;33m)\u001b[0m\u001b[1;33m:\u001b[0m\u001b[1;33m\u001b[0m\u001b[1;33m\u001b[0m\u001b[0m\n\u001b[0;32m      3\u001b[0m         \u001b[1;32mif\u001b[0m \u001b[0mage\u001b[0m \u001b[1;33m>\u001b[0m \u001b[1;36m80\u001b[0m \u001b[1;32mor\u001b[0m \u001b[0mage\u001b[0m \u001b[1;33m<\u001b[0m\u001b[1;36m16\u001b[0m\u001b[1;33m:\u001b[0m\u001b[1;33m\u001b[0m\u001b[1;33m\u001b[0m\u001b[0m\n\u001b[1;32m----> 4\u001b[1;33m             \u001b[1;32mraise\u001b[0m \u001b[0mException\u001b[0m\u001b[1;33m(\u001b[0m\u001b[1;34m\"Age can not be greater then 80 and less then 16\"\u001b[0m\u001b[1;33m)\u001b[0m\u001b[1;33m\u001b[0m\u001b[1;33m\u001b[0m\u001b[0m\n\u001b[0m\u001b[0;32m      5\u001b[0m         \u001b[0mself\u001b[0m\u001b[1;33m.\u001b[0m\u001b[0mname\u001b[0m \u001b[1;33m=\u001b[0m \u001b[0mname\u001b[0m\u001b[1;33m\u001b[0m\u001b[1;33m\u001b[0m\u001b[0m\n\u001b[0;32m      6\u001b[0m         \u001b[0mself\u001b[0m\u001b[1;33m.\u001b[0m\u001b[0mage\u001b[0m \u001b[1;33m=\u001b[0m \u001b[0mage\u001b[0m\u001b[1;33m\u001b[0m\u001b[1;33m\u001b[0m\u001b[0m\n",
      "\u001b[1;31mException\u001b[0m: Age can not be greater then 80 and less then 16"
     ]
    }
   ],
   "source": [
    "age = int(input(\"Enter students age: \"))\n",
    "st = Student(\"Nasir\",age)\n",
    "print(st.age)\n"
   ]
  },
  {
   "cell_type": "markdown",
   "id": "abadd3b4",
   "metadata": {},
   "source": [
    "# File I/O"
   ]
  },
  {
   "cell_type": "code",
   "execution_count": null,
   "id": "2ebf8227",
   "metadata": {},
   "outputs": [],
   "source": []
  }
 ],
 "metadata": {
  "kernelspec": {
   "display_name": "Python 3",
   "language": "python",
   "name": "python3"
  },
  "language_info": {
   "codemirror_mode": {
    "name": "ipython",
    "version": 3
   },
   "file_extension": ".py",
   "mimetype": "text/x-python",
   "name": "python",
   "nbconvert_exporter": "python",
   "pygments_lexer": "ipython3",
   "version": "3.7.4"
  }
 },
 "nbformat": 4,
 "nbformat_minor": 5
}
