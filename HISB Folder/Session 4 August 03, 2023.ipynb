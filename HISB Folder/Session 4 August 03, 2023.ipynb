{
 "cells": [
  {
   "cell_type": "markdown",
   "metadata": {},
   "source": [
    "# Control Flow\n",
    "-if statement\n",
    "if else\n",
    "elif"
   ]
  },
  {
   "cell_type": "code",
   "execution_count": 11,
   "metadata": {},
   "outputs": [
    {
     "name": "stdout",
     "output_type": "stream",
     "text": [
      "Enter a number:4\n",
      "Enter another number:8\n",
      "num1 is not greater than num2\n"
     ]
    }
   ],
   "source": [
    "#to check greater of two numbers\n",
    "num1= int(input(\"Enter a number:\"))\n",
    "num2=int(input(\"Enter another number:\"))\n",
    "\n",
    "if num1>num2:\n",
    "    print(\"num1 is greater than num2\")\n",
    "    \n",
    "else: \n",
    "    print(\"num1 is not greater than num2\")"
   ]
  },
  {
   "cell_type": "code",
   "execution_count": 12,
   "metadata": {},
   "outputs": [
    {
     "name": "stdout",
     "output_type": "stream",
     "text": [
      "Enter a number:86\n",
      "num1 is an even num\n"
     ]
    }
   ],
   "source": [
    "#to check whether a number is even or odd\n",
    "num= int(input(\"Enter a number:\"))\n",
    "if num%2==0:\n",
    "    print(\"num is an even num\")\n",
    "else:\n",
    "    print(\"num is an odd num\")"
   ]
  },
  {
   "cell_type": "code",
   "execution_count": 8,
   "metadata": {},
   "outputs": [
    {
     "name": "stdout",
     "output_type": "stream",
     "text": [
      "Enter a number:35537658698\n",
      "Last digit of a number is 8\n"
     ]
    }
   ],
   "source": [
    "#print last digit of a number entered\n",
    "#num= int(input(\"Enter a number:\"))\n",
    "#method 1 convert to string and then do slicing\n",
    "#num=str(num)\n",
    "# int(num[-1])\n",
    "\n",
    "#method 2\n",
    "#int(input(\"Enter a number:\")[-1])\n",
    "\n",
    "#method 3\n",
    "num= int(input(\"Enter a number:\"))\n",
    "print('Last digit of a number is', (num%10))"
   ]
  },
  {
   "cell_type": "code",
   "execution_count": 9,
   "metadata": {},
   "outputs": [
    {
     "ename": "SyntaxError",
     "evalue": "invalid syntax (<ipython-input-9-d75fd1f8b3fd>, line 5)",
     "output_type": "error",
     "traceback": [
      "\u001b[1;36m  File \u001b[1;32m\"<ipython-input-9-d75fd1f8b3fd>\"\u001b[1;36m, line \u001b[1;32m5\u001b[0m\n\u001b[1;33m    else\u001b[0m\n\u001b[1;37m        ^\u001b[0m\n\u001b[1;31mSyntaxError\u001b[0m\u001b[1;31m:\u001b[0m invalid syntax\n"
     ]
    }
   ],
   "source": [
    "name= input('Enter your name:')\n",
    "\n",
    "if len(name)>10:\n",
    "    print('Name is too big')\n",
    "else:\n",
    "    print('okay')\n"
   ]
  },
  {
   "cell_type": "code",
   "execution_count": 10,
   "metadata": {},
   "outputs": [
    {
     "ename": "SyntaxError",
     "evalue": "invalid syntax (<ipython-input-10-1839fd575b44>, line 1)",
     "output_type": "error",
     "traceback": [
      "\u001b[1;36m  File \u001b[1;32m\"<ipython-input-10-1839fd575b44>\"\u001b[1;36m, line \u001b[1;32m1\u001b[0m\n\u001b[1;33m    \"Too big\" if len(input(\"Enter you name:\")) >10\u001b[0m\n\u001b[1;37m                                                   ^\u001b[0m\n\u001b[1;31mSyntaxError\u001b[0m\u001b[1;31m:\u001b[0m invalid syntax\n"
     ]
    }
   ],
   "source": [
    "\"Too big\" if len(input(\"Enter you name:\")) >10 else \"okay\" "
   ]
  },
  {
   "cell_type": "code",
   "execution_count": 16,
   "metadata": {},
   "outputs": [
    {
     "name": "stdout",
     "output_type": "stream",
     "text": [
      "ENter your guess number 1-105\n",
      "You guessed 5 Ybut luck number was 4. Try again!\n"
     ]
    }
   ],
   "source": [
    "import random\n",
    "guess= int(input(\"Enter your guess number 1-10\"))\n",
    "num=random.randint(1,10)\n",
    "if guess ==num:\n",
    "    print(f\"You guessed {guess} You win!\")\n",
    "else:\n",
    "    print(f\"You guessed {guess} but luck number was {num}. Try again!\")"
   ]
  },
  {
   "cell_type": "code",
   "execution_count": 22,
   "metadata": {},
   "outputs": [
    {
     "name": "stdout",
     "output_type": "stream",
     "text": [
      "Enter name:hira\n",
      "my name is hira\n"
     ]
    }
   ],
   "source": [
    "name=input(\"Enter name:\")\n",
    "print(f'my name is {name}')"
   ]
  },
  {
   "cell_type": "code",
   "execution_count": 36,
   "metadata": {},
   "outputs": [
    {
     "name": "stdout",
     "output_type": "stream",
     "text": [
      "Enter your budget:450\n",
      "buy 12 eggs if budget is less than 200 and buy 1 Kg meat oif budget is greater than 1000\n"
     ]
    }
   ],
   "source": [
    "# buy 12 eggs if price < 200\n",
    "#else buy 1kg meat if price >1000\n",
    "\n",
    "budget=int(input(\"Enter your budget:\"))\n",
    "if budget>1000:\n",
    "    print(\"buy 1kg meat\")\n",
    "if budget<200:\n",
    "    print('buy 12 eggs')\n",
    "else:\n",
    "    print(\"buy 12 eggs if budget is less than 200 and buy 1 Kg meat oif budget is greater than 1000\")\n",
    "        "
   ]
  },
  {
   "cell_type": "code",
   "execution_count": 39,
   "metadata": {},
   "outputs": [
    {
     "name": "stdout",
     "output_type": "stream",
     "text": [
      "Enter your height:4.5\n",
      "short height\n"
     ]
    }
   ],
   "source": [
    "height= float(input('Enter your height:'))\n",
    "#long >6\n",
    "#average >5\n",
    "#short<5\n",
    "\n",
    "if height>6:\n",
    "    print(\"tall height\")\n",
    "elif height>5:\n",
    "    print(\"average height\")\n",
    "else:\n",
    "    print(\"short height\")"
   ]
  },
  {
   "cell_type": "code",
   "execution_count": 47,
   "metadata": {},
   "outputs": [
    {
     "name": "stdout",
     "output_type": "stream",
     "text": [
      "Enter your years of service:18\n",
      "Enter your salary:2000000\n",
      "your salary was 2000000.0\n",
      "your bonus is 300000.0\n",
      "your new salary is 2300000.0\n"
     ]
    }
   ],
   "source": [
    "service=float(input (\"Enter your years of service:\"))\n",
    "salary=float(input(\"Enter your salary:\"))\n",
    "if service>15:\n",
    "    bonus=salary*15/100\n",
    "elif service>10:   \n",
    "    bonus=salary*10/100\n",
    "elif service>5:\n",
    "     bonus=salary*5/100\n",
    "else:         \n",
    "    bonus=salary*0/100\n",
    "newsalary=salary+bonus    \n",
    "print(f\"your salary was {salary}\") \n",
    "print(f\"your bonus is {bonus}\")\n",
    "print(f\"your new salary is {newsalary}\")"
   ]
  },
  {
   "cell_type": "code",
   "execution_count": 2,
   "metadata": {},
   "outputs": [
    {
     "name": "stdout",
     "output_type": "stream",
     "text": [
      "enter unit_consumed:445\n",
      "you have consumed 445 units and you bill is Rs. 4675\n"
     ]
    }
   ],
   "source": [
    "unit_consumed= int(input(\"enter unit_consumed:\"))\n",
    "if unit_consumed<=100:\n",
    "    bill=unit_consumed*5\n",
    "elif unit_consumed<=300:\n",
    "     bill=100*5+(unit_consumed-100)*10\n",
    "else:\n",
    "    bill=100*5+200*10+(unit_consumed -300)*15\n",
    "print(f\"you have consumed {unit_consumed} units and you bill is Rs. {bill}\")\n"
   ]
  },
  {
   "cell_type": "code",
   "execution_count": 15,
   "metadata": {},
   "outputs": [
    {
     "name": "stdout",
     "output_type": "stream",
     "text": [
      "enter comma seperated marks in eng, gk, pst, urdu, maths, stats: 58,35,68,75,80,96\n"
     ]
    }
   ],
   "source": [
    "#eng, gk, pst, urdu, maths, stats\n",
    "eng, gk, pst, urdu, maths, stats=input(\"enter comma seperated marks in eng, gk, pst, urdu, maths, stats: \").split(',')"
   ]
  },
  {
   "cell_type": "code",
   "execution_count": 16,
   "metadata": {},
   "outputs": [
    {
     "data": {
      "text/plain": [
       "'80'"
      ]
     },
     "execution_count": 16,
     "metadata": {},
     "output_type": "execute_result"
    }
   ],
   "source": [
    "maths"
   ]
  },
  {
   "cell_type": "code",
   "execution_count": 17,
   "metadata": {},
   "outputs": [
    {
     "data": {
      "text/plain": [
       "412"
      ]
     },
     "execution_count": 17,
     "metadata": {},
     "output_type": "execute_result"
    }
   ],
   "source": [
    "total=int(eng)+int(gk)+int(pst)+int(urdu)+int(maths)+int(stats)\n",
    "total"
   ]
  },
  {
   "cell_type": "code",
   "execution_count": 25,
   "metadata": {},
   "outputs": [
    {
     "name": "stdout",
     "output_type": "stream",
     "text": [
      "Your grade is C\n"
     ]
    }
   ],
   "source": [
    "percentage=total*100/600\n",
    "if percentage>=90:\n",
    "    grade='A+'\n",
    "elif percentage>=80:\n",
    "    grade='A'\n",
    "elif percentage>=70:\n",
    "    grade='B'\n",
    "elif percentage>60:\n",
    "    grade='C'\n",
    "elif percentage>=50:\n",
    "    grade='D'\n",
    "else: \n",
    "    grade='U' \n",
    "print(f'Your grade is {grade}')"
   ]
  },
  {
   "cell_type": "code",
   "execution_count": 40,
   "metadata": {},
   "outputs": [
    {
     "name": "stdout",
     "output_type": "stream",
     "text": [
      "Enter your name:z\n",
      "Enter your roll no96\n",
      "Enter year of passing2005\n",
      "marks in English:76\n",
      "marks in GK:87\n",
      "marks in Maths:87\n",
      "marks in Urdu:78\n",
      "marks in Stats:88\n",
      "marks in PST:76\n",
      "\n",
      "\n",
      "            ABC Institute Karachi\n",
      "        -----------------------------\n",
      "    name: z\n",
      "    roll no.:96\n",
      "    year:2005\n",
      "  \n",
      " eng       gk      maths      urdu       stats       pst    \n",
      "76     87    87    78     88     76 \n",
      "\n",
      "\n",
      "Status:Pass\n",
      "Percentage=82.0%\n",
      "Grade: A\n",
      "\n"
     ]
    }
   ],
   "source": [
    "name=input(\"Enter your name:\")\n",
    "roll_no= input(\"Enter your roll no\")\n",
    "year=input('Enter year of passing')          \n",
    "eng= int(input(\"marks in English:\"))\n",
    "gk= int(input(\"marks in GK:\"))\n",
    "maths= int(input(\"marks in Maths:\"))\n",
    "urdu=int(input(\"marks in Urdu:\"))\n",
    "stats=int(input(\"marks in Stats:\"))\n",
    "pst= int(input(\"marks in PST:\"))\n",
    "\n",
    "total=int(eng)+int(gk)+int(pst)+int(urdu)+int(maths)+int(stats)\n",
    "percentage=total*100/600\n",
    "if percentage>=90:\n",
    "    grade='A+'\n",
    "elif percentage>=80:\n",
    "    grade='A'\n",
    "elif percentage>=70:\n",
    "    grade='B'\n",
    "elif percentage>60:\n",
    "    grade='C'\n",
    "elif percentage>=50:\n",
    "    grade='D'\n",
    "else: \n",
    "    grade='U' \n",
    "\n",
    "if eng>=50:\n",
    "    \n",
    "    if gk>=50:\n",
    "        \n",
    "        if maths>=50:\n",
    "            \n",
    "            if urdu>=50:\n",
    "                if stats>=50:\n",
    "                    if pst>=50:\n",
    "                            status=\"Pass\"\n",
    "                    else:\n",
    "                           status=\"Fail\"\n",
    "                else: \n",
    "                    status=\"Fail\"\n",
    "            else: \n",
    "                status=\"Fail\"\n",
    "        else:\n",
    "            status=\"Fail\"\n",
    "    else:\n",
    "        status=\"Fail\"\n",
    "else:\n",
    "    status=\"Fail\"\n",
    "\n",
    "\n",
    "print(f\"\"\"\n",
    "\n",
    "            ABC Institute Karachi\n",
    "        -----------------------------\n",
    "    name: {name}\n",
    "    roll no.:{roll_no}\n",
    "    year:{year}\n",
    "\n",
    " eng  gk  maths   urdu    stats       pst    \n",
    " {eng}     {gk}    {maths}    {urdu}     {stats}     {pst} \n",
    "\n",
    "\n",
    "Status:{status}\n",
    "Percentage={percentage}%\n",
    "Grade: {grade}\n",
    "\"\"\")"
   ]
  },
  {
   "cell_type": "markdown",
   "metadata": {},
   "source": [
    "# Loops in Python\n",
    "-for loop\n",
    "-while loop"
   ]
  },
  {
   "cell_type": "code",
   "execution_count": 53,
   "metadata": {},
   "outputs": [
    {
     "data": {
      "text/plain": [
       "range(0, 10)"
      ]
     },
     "execution_count": 53,
     "metadata": {},
     "output_type": "execute_result"
    }
   ],
   "source": [
    "range(10) #iterater object "
   ]
  },
  {
   "cell_type": "code",
   "execution_count": 57,
   "metadata": {},
   "outputs": [
    {
     "name": "stdout",
     "output_type": "stream",
     "text": [
      "1 Hira\n",
      "2 Hira\n",
      "3 Hira\n",
      "4 Hira\n",
      "5 Hira\n",
      "6 Hira\n",
      "7 Hira\n",
      "8 Hira\n",
      "9 Hira\n"
     ]
    }
   ],
   "source": [
    "for a in range(1,10):\n",
    "    print(a, \"Hira\")"
   ]
  },
  {
   "cell_type": "code",
   "execution_count": 58,
   "metadata": {},
   "outputs": [
    {
     "name": "stdout",
     "output_type": "stream",
     "text": [
      "1 Hira\n",
      "3 Hira\n",
      "5 Hira\n",
      "7 Hira\n",
      "9 Hira\n"
     ]
    }
   ],
   "source": [
    "for a in range(1,10,2):\n",
    "    print(a, \"Hira\")"
   ]
  },
  {
   "cell_type": "code",
   "execution_count": 59,
   "metadata": {},
   "outputs": [
    {
     "name": "stdout",
     "output_type": "stream",
     "text": [
      "10 Hira\n",
      "8 Hira\n",
      "6 Hira\n",
      "4 Hira\n",
      "2 Hira\n"
     ]
    }
   ],
   "source": [
    "for a in range(10,1, -2):\n",
    "    print(a, \"Hira\")"
   ]
  },
  {
   "cell_type": "code",
   "execution_count": 62,
   "metadata": {},
   "outputs": [
    {
     "name": "stdout",
     "output_type": "stream",
     "text": [
      "1 Hira\n",
      "2 Hira\n",
      "3 Hira\n",
      "4 Hira\n"
     ]
    }
   ],
   "source": [
    "for a in range(1,10):\n",
    "    if a==5:\n",
    "        break\n",
    "    else:    \n",
    "        print(a, \"Hira\")"
   ]
  },
  {
   "cell_type": "code",
   "execution_count": 68,
   "metadata": {},
   "outputs": [
    {
     "name": "stdout",
     "output_type": "stream",
     "text": [
      "SAAD\n",
      "umer\n",
      "usman\n",
      "danish\n",
      "waseem\n",
      "TALHA\n"
     ]
    }
   ],
   "source": [
    "students=['saad', 'umer', 'usman', 'danish', 'waseem', 'talha']\n",
    "for student in students:\n",
    "    if student.count('a')>=2:\n",
    "        print(student.upper())\n",
    "    else:\n",
    "        print(student)"
   ]
  },
  {
   "cell_type": "code",
   "execution_count": 69,
   "metadata": {},
   "outputs": [
    {
     "name": "stdout",
     "output_type": "stream",
     "text": [
      "SAAD\n",
      "umer\n",
      "usman\n",
      "DAANISH\n",
      "waseem\n",
      "TALHA\n"
     ]
    }
   ],
   "source": [
    "students=['saad', 'umer', 'usman', 'daAnish', 'waseem', 'tAlha']\n",
    "for student in students:\n",
    "    if student.lower().count('a')>=2:\n",
    "        print(student.upper())\n",
    "    else:\n",
    "        print(student)"
   ]
  },
  {
   "cell_type": "code",
   "execution_count": 100,
   "metadata": {},
   "outputs": [
    {
     "name": "stdout",
     "output_type": "stream",
     "text": [
      "nabeel\n",
      "farah.khan\n",
      "uzma\n",
      "hiramariam\n"
     ]
    }
   ],
   "source": [
    "email_ids=['nabeel@gmail.com', 'farah.khan@hotmail.com', 'uzma@cloud.neduet.edu.pk', 'hiramariam@neduet.edu.pk']\n",
    "#seperate user name and server\n",
    "for user_name in email_ids:\n",
    "     print (user_name.split(\"@\")[0])"
   ]
  },
  {
   "cell_type": "code",
   "execution_count": 102,
   "metadata": {},
   "outputs": [],
   "source": [
    "user=[]\n",
    "domain=[]\n",
    "email_ids=['nabeel@gmail.com', 'farah.khan@hotmail.com', 'uzma@cloud.neduet.edu.pk', 'hiramariam@neduet.edu.pk']\n",
    "#seperate user name and server\n",
    "for user_name in email_ids:\n",
    "    user.append(user_name.split(\"@\")[0])\n",
    "    domain.append(user_name.split(\"@\")[1])"
   ]
  },
  {
   "cell_type": "code",
   "execution_count": 104,
   "metadata": {},
   "outputs": [
    {
     "data": {
      "text/plain": [
       "['nabeel', 'farah.khan', 'uzma', 'hiramariam']"
      ]
     },
     "execution_count": 104,
     "metadata": {},
     "output_type": "execute_result"
    }
   ],
   "source": [
    "user"
   ]
  },
  {
   "cell_type": "code",
   "execution_count": 105,
   "metadata": {},
   "outputs": [
    {
     "data": {
      "text/plain": [
       "['gmail.com', 'hotmail.com', 'cloud.neduet.edu.pk', 'neduet.edu.pk']"
      ]
     },
     "execution_count": 105,
     "metadata": {},
     "output_type": "execute_result"
    }
   ],
   "source": [
    "domain"
   ]
  },
  {
   "cell_type": "code",
   "execution_count": 111,
   "metadata": {},
   "outputs": [],
   "source": [
    "user=[]\n",
    "domain=[]\n",
    "email_ids=['nabeel@gmail.com', 'farah.khan@hotmail.com', 'uzma@cloud.neduet.edu.pk', 'hiramariam@neduet.edu.pk']\n",
    "#seperate user name and server\n",
    "\n",
    "for user_name in email_ids:\n",
    "    lst=user_name.split('@')\n",
    "    user.append(lst[0])\n",
    "    domain.append(lst[1])"
   ]
  },
  {
   "cell_type": "code",
   "execution_count": 109,
   "metadata": {},
   "outputs": [
    {
     "data": {
      "text/plain": [
       "['nabeel', 'farah.khan', 'uzma', 'hiramariam']"
      ]
     },
     "execution_count": 109,
     "metadata": {},
     "output_type": "execute_result"
    }
   ],
   "source": [
    "user"
   ]
  },
  {
   "cell_type": "code",
   "execution_count": 112,
   "metadata": {},
   "outputs": [
    {
     "data": {
      "text/plain": [
       "['gmail.com', 'hotmail.com', 'cloud.neduet.edu.pk', 'neduet.edu.pk']"
      ]
     },
     "execution_count": 112,
     "metadata": {},
     "output_type": "execute_result"
    }
   ],
   "source": [
    "domain"
   ]
  },
  {
   "cell_type": "code",
   "execution_count": null,
   "metadata": {},
   "outputs": [],
   "source": []
  }
 ],
 "metadata": {
  "kernelspec": {
   "display_name": "Python 3",
   "language": "python",
   "name": "python3"
  },
  "language_info": {
   "codemirror_mode": {
    "name": "ipython",
    "version": 3
   },
   "file_extension": ".py",
   "mimetype": "text/x-python",
   "name": "python",
   "nbconvert_exporter": "python",
   "pygments_lexer": "ipython3",
   "version": "3.7.4"
  }
 },
 "nbformat": 4,
 "nbformat_minor": 2
}
