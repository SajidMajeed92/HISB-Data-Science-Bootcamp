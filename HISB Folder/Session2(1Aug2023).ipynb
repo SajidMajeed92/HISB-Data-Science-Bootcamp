{
 "cells": [
  {
   "cell_type": "markdown",
   "id": "746062e2",
   "metadata": {},
   "source": [
    "# More on User input...\n",
    "    - Anything inputted from console will be a string type of value"
   ]
  },
  {
   "cell_type": "code",
   "execution_count": 2,
   "id": "c5c8d197",
   "metadata": {},
   "outputs": [
    {
     "name": "stdout",
     "output_type": "stream",
     "text": [
      "Enter your favourite number: 4.5\n"
     ]
    },
    {
     "data": {
      "text/plain": [
       "4.5"
      ]
     },
     "execution_count": 2,
     "metadata": {},
     "output_type": "execute_result"
    }
   ],
   "source": [
    "favourite_number  = float(input(\"Enter your favourite number: \"))\n",
    "favourite_number"
   ]
  },
  {
   "cell_type": "code",
   "execution_count": 4,
   "id": "419d403a",
   "metadata": {},
   "outputs": [
    {
     "data": {
      "text/plain": [
       "123.5"
      ]
     },
     "execution_count": 4,
     "metadata": {},
     "output_type": "execute_result"
    }
   ],
   "source": [
    "float(\"123.5\")"
   ]
  },
  {
   "cell_type": "markdown",
   "id": "c5c6a56b",
   "metadata": {},
   "source": [
    "# Python Data Structure (Python Collections)\n",
    " - List \n",
    " - Dictionary \n",
    " - Set\n",
    " - Tuple"
   ]
  },
  {
   "cell_type": "markdown",
   "id": "5b3357b8",
   "metadata": {},
   "source": [
    "# List \n",
    "  - [ ]\n",
    "  - indices\n",
    "  "
   ]
  },
  {
   "cell_type": "code",
   "execution_count": 5,
   "id": "1f9b6321",
   "metadata": {},
   "outputs": [],
   "source": [
    "fruits = ['Apple', 'Sharifa', 'Mango','Cherry','Banana']"
   ]
  },
  {
   "cell_type": "code",
   "execution_count": 7,
   "id": "04f44fa2",
   "metadata": {},
   "outputs": [
    {
     "name": "stdout",
     "output_type": "stream",
     "text": [
      "['Apple', 'Sharifa', 'Mango', 'Cherry', 'Banana']\n"
     ]
    }
   ],
   "source": [
    "print(fruits)"
   ]
  },
  {
   "cell_type": "code",
   "execution_count": 9,
   "id": "51ddc106",
   "metadata": {},
   "outputs": [
    {
     "name": "stdout",
     "output_type": "stream",
     "text": [
      "<class 'list'>\n"
     ]
    }
   ],
   "source": [
    "print(type(fruits))"
   ]
  },
  {
   "cell_type": "code",
   "execution_count": 22,
   "id": "b4b5de28",
   "metadata": {},
   "outputs": [],
   "source": [
    "# index     0         1           2     3          4\n",
    "fruits = ['Apple', 'Sharifa', 'Mango','Cherry','Banana',\"Zarifa\"]\n",
    "# -ve       -6        -5       -4         -3      -2       -1"
   ]
  },
  {
   "cell_type": "code",
   "execution_count": 12,
   "id": "5a2e5816",
   "metadata": {},
   "outputs": [],
   "source": [
    "# Create\n",
    "# Retrieve\n",
    "# Update \n",
    "# Delete\n",
    "# Slice "
   ]
  },
  {
   "cell_type": "code",
   "execution_count": 13,
   "id": "483d877c",
   "metadata": {},
   "outputs": [],
   "source": [
    "empty_list = []"
   ]
  },
  {
   "cell_type": "code",
   "execution_count": 14,
   "id": "471c7e0c",
   "metadata": {},
   "outputs": [
    {
     "data": {
      "text/plain": [
       "5"
      ]
     },
     "execution_count": 14,
     "metadata": {},
     "output_type": "execute_result"
    }
   ],
   "source": [
    "len(fruits)"
   ]
  },
  {
   "cell_type": "code",
   "execution_count": 15,
   "id": "6b7358d9",
   "metadata": {},
   "outputs": [
    {
     "data": {
      "text/plain": [
       "0"
      ]
     },
     "execution_count": 15,
     "metadata": {},
     "output_type": "execute_result"
    }
   ],
   "source": [
    "len(empty_list)"
   ]
  },
  {
   "cell_type": "code",
   "execution_count": 21,
   "id": "00f6add3",
   "metadata": {},
   "outputs": [
    {
     "data": {
      "text/plain": [
       "'Apple'"
      ]
     },
     "execution_count": 21,
     "metadata": {},
     "output_type": "execute_result"
    }
   ],
   "source": [
    "min(fruits)"
   ]
  },
  {
   "cell_type": "code",
   "execution_count": 17,
   "id": "7dcc1058",
   "metadata": {},
   "outputs": [
    {
     "data": {
      "text/plain": [
       "83"
      ]
     },
     "execution_count": 17,
     "metadata": {},
     "output_type": "execute_result"
    }
   ],
   "source": [
    "ord('S')"
   ]
  },
  {
   "cell_type": "code",
   "execution_count": 18,
   "id": "3e2cc15d",
   "metadata": {},
   "outputs": [
    {
     "data": {
      "text/plain": [
       "'S'"
      ]
     },
     "execution_count": 18,
     "metadata": {},
     "output_type": "execute_result"
    }
   ],
   "source": [
    "chr(83)"
   ]
  },
  {
   "cell_type": "code",
   "execution_count": 27,
   "id": "f804f126",
   "metadata": {},
   "outputs": [
    {
     "data": {
      "text/plain": [
       "['Apple', 'Sharifa', 'Mango', 'Cherry', 'Banana', 'WaterMelon']"
      ]
     },
     "execution_count": 27,
     "metadata": {},
     "output_type": "execute_result"
    }
   ],
   "source": [
    "fruits"
   ]
  },
  {
   "cell_type": "code",
   "execution_count": 23,
   "id": "d054c146",
   "metadata": {},
   "outputs": [
    {
     "data": {
      "text/plain": [
       "'Mango'"
      ]
     },
     "execution_count": 23,
     "metadata": {},
     "output_type": "execute_result"
    }
   ],
   "source": [
    "fruits[2]"
   ]
  },
  {
   "cell_type": "code",
   "execution_count": 24,
   "id": "0886f17e",
   "metadata": {},
   "outputs": [
    {
     "data": {
      "text/plain": [
       "'Mango'"
      ]
     },
     "execution_count": 24,
     "metadata": {},
     "output_type": "execute_result"
    }
   ],
   "source": [
    "fruits[-4]"
   ]
  },
  {
   "cell_type": "code",
   "execution_count": 26,
   "id": "b347ac5f",
   "metadata": {},
   "outputs": [
    {
     "data": {
      "text/plain": [
       "['Apple', 'Sharifa', 'Mango', 'Cherry', 'Banana', 'WaterMelon']"
      ]
     },
     "execution_count": 26,
     "metadata": {},
     "output_type": "execute_result"
    }
   ],
   "source": [
    "fruits[-1] = \"WaterMelon\"\n",
    "fruits"
   ]
  },
  {
   "cell_type": "markdown",
   "id": "7774b090",
   "metadata": {},
   "source": [
    "# Adding more items in existing list\n",
    "    - append()\n",
    "    - insert()\n",
    "    -  + \n",
    "    - extend()"
   ]
  },
  {
   "cell_type": "code",
   "execution_count": 28,
   "id": "e2a22b5c",
   "metadata": {},
   "outputs": [
    {
     "data": {
      "text/plain": [
       "[]"
      ]
     },
     "execution_count": 28,
     "metadata": {},
     "output_type": "execute_result"
    }
   ],
   "source": [
    "empty_list"
   ]
  },
  {
   "cell_type": "code",
   "execution_count": 30,
   "id": "df9b8214",
   "metadata": {},
   "outputs": [
    {
     "name": "stdout",
     "output_type": "stream",
     "text": [
      "['Laptops', 'Laptops']\n"
     ]
    }
   ],
   "source": [
    "# append()\n",
    "# it adds new item on very last index (tail of list)\n",
    "# it add one item at a time\n",
    "\n",
    "empty_list.append(\"Laptops\")\n",
    "print(empty_list)"
   ]
  },
  {
   "cell_type": "code",
   "execution_count": 31,
   "id": "daa17103",
   "metadata": {},
   "outputs": [
    {
     "data": {
      "text/plain": [
       "['Laptops', 'Laptops', 200000]"
      ]
     },
     "execution_count": 31,
     "metadata": {},
     "output_type": "execute_result"
    }
   ],
   "source": [
    "empty_list.append(200000)\n",
    "empty_list"
   ]
  },
  {
   "cell_type": "code",
   "execution_count": 32,
   "id": "a53f7aff",
   "metadata": {},
   "outputs": [
    {
     "data": {
      "text/plain": [
       "['Laptops', 'Laptops', 'Keybords', 200000]"
      ]
     },
     "execution_count": 32,
     "metadata": {},
     "output_type": "execute_result"
    }
   ],
   "source": [
    "# we can add new item in existing list using insert function\n",
    "# insert function takes two arguments position and value\n",
    "\n",
    "empty_list.insert(2,\"Keybords\")\n",
    "empty_list"
   ]
  },
  {
   "cell_type": "code",
   "execution_count": 33,
   "id": "35056a57",
   "metadata": {},
   "outputs": [
    {
     "data": {
      "text/plain": [
       "['Laptops', 'Laptops', 'Keybords', 200000, 'Projectors']"
      ]
     },
     "execution_count": 33,
     "metadata": {},
     "output_type": "execute_result"
    }
   ],
   "source": [
    "# adding a value on NON EXISTING index will add the value at very LAST index\n",
    "empty_list.insert(12,\"Projectors\")\n",
    "empty_list"
   ]
  },
  {
   "cell_type": "code",
   "execution_count": 34,
   "id": "d42271e7",
   "metadata": {},
   "outputs": [
    {
     "data": {
      "text/plain": [
       "'Projectors'"
      ]
     },
     "execution_count": 34,
     "metadata": {},
     "output_type": "execute_result"
    }
   ],
   "source": [
    "empty_list[4]"
   ]
  },
  {
   "cell_type": "code",
   "execution_count": 35,
   "id": "6c7ff176",
   "metadata": {},
   "outputs": [],
   "source": [
    "staff = ['asif','saad','hassan','umer']\n",
    "faculty = ['waseem', 'nasir', 'uzma']"
   ]
  },
  {
   "cell_type": "code",
   "execution_count": 40,
   "id": "17845f33",
   "metadata": {},
   "outputs": [],
   "source": [
    "employees = []"
   ]
  },
  {
   "cell_type": "code",
   "execution_count": 37,
   "id": "55aab9bb",
   "metadata": {},
   "outputs": [
    {
     "data": {
      "text/plain": [
       "[['asif', 'saad', 'hassan', 'umer']]"
      ]
     },
     "execution_count": 37,
     "metadata": {},
     "output_type": "execute_result"
    }
   ],
   "source": [
    "employees.append(staff)\n",
    "employees"
   ]
  },
  {
   "cell_type": "code",
   "execution_count": 38,
   "id": "5e7f4bc0",
   "metadata": {},
   "outputs": [],
   "source": [
    "employees.extend(faculty)"
   ]
  },
  {
   "cell_type": "code",
   "execution_count": 39,
   "id": "163ddcb4",
   "metadata": {},
   "outputs": [
    {
     "data": {
      "text/plain": [
       "[['asif', 'saad', 'hassan', 'umer'], 'waseem', 'nasir', 'uzma']"
      ]
     },
     "execution_count": 39,
     "metadata": {},
     "output_type": "execute_result"
    }
   ],
   "source": [
    "employees"
   ]
  },
  {
   "cell_type": "code",
   "execution_count": 41,
   "id": "d14890e8",
   "metadata": {},
   "outputs": [
    {
     "data": {
      "text/plain": [
       "[]"
      ]
     },
     "execution_count": 41,
     "metadata": {},
     "output_type": "execute_result"
    }
   ],
   "source": [
    "employees"
   ]
  },
  {
   "cell_type": "code",
   "execution_count": 47,
   "id": "8389e44e",
   "metadata": {},
   "outputs": [
    {
     "data": {
      "text/plain": [
       "['asif', 'saad', 'hassan', 'umer', 'waseem', 'nasir', 'uzma']"
      ]
     },
     "execution_count": 47,
     "metadata": {},
     "output_type": "execute_result"
    }
   ],
   "source": [
    "emp = staff + faculty\n",
    "emp"
   ]
  },
  {
   "cell_type": "code",
   "execution_count": 49,
   "id": "2d1791ba",
   "metadata": {},
   "outputs": [
    {
     "data": {
      "text/plain": [
       "['asif', 'saad', 'hassan', 'umer', 'waseem', 'nasir', 'uzma']"
      ]
     },
     "execution_count": 49,
     "metadata": {},
     "output_type": "execute_result"
    }
   ],
   "source": [
    "emp"
   ]
  },
  {
   "cell_type": "markdown",
   "id": "2e94009c",
   "metadata": {},
   "source": [
    "# Deleting items from a list\n",
    "   - del \n",
    "   - pop() \n",
    "   - remove()\n",
    "   - clear()\n",
    "   "
   ]
  },
  {
   "cell_type": "code",
   "execution_count": 50,
   "id": "81be14c1",
   "metadata": {},
   "outputs": [
    {
     "data": {
      "text/plain": [
       "['asif', 'saad', 'hassan', 'umer', 'nasir', 'uzma']"
      ]
     },
     "execution_count": 50,
     "metadata": {},
     "output_type": "execute_result"
    }
   ],
   "source": [
    "#  del  deletes a value by index \n",
    "#  del deletes a value in memory\n",
    "\n",
    "del emp[4]\n",
    "emp"
   ]
  },
  {
   "cell_type": "code",
   "execution_count": 51,
   "id": "72f33103",
   "metadata": {},
   "outputs": [
    {
     "data": {
      "text/plain": [
       "'uzma'"
      ]
     },
     "execution_count": 51,
     "metadata": {},
     "output_type": "execute_result"
    }
   ],
   "source": [
    "# pop deletes a member permanently\n",
    "# pop deletes always from last index\n",
    "# pop can also take an index \n",
    "# pop return the deleted value\n",
    "emp.pop()"
   ]
  },
  {
   "cell_type": "code",
   "execution_count": 53,
   "id": "b2e00566",
   "metadata": {},
   "outputs": [],
   "source": [
    "popped_item = emp.pop()"
   ]
  },
  {
   "cell_type": "code",
   "execution_count": 54,
   "id": "d784da90",
   "metadata": {},
   "outputs": [
    {
     "data": {
      "text/plain": [
       "['asif', 'saad', 'hassan', 'umer']"
      ]
     },
     "execution_count": 54,
     "metadata": {},
     "output_type": "execute_result"
    }
   ],
   "source": [
    "emp"
   ]
  },
  {
   "cell_type": "code",
   "execution_count": 55,
   "id": "1fbe71b8",
   "metadata": {},
   "outputs": [
    {
     "data": {
      "text/plain": [
       "'nasir'"
      ]
     },
     "execution_count": 55,
     "metadata": {},
     "output_type": "execute_result"
    }
   ],
   "source": [
    "popped_item"
   ]
  },
  {
   "cell_type": "code",
   "execution_count": 56,
   "id": "dd191a9f",
   "metadata": {},
   "outputs": [
    {
     "name": "stdout",
     "output_type": "stream",
     "text": [
      "['asif', 'saad', 'umer']\n"
     ]
    },
    {
     "data": {
      "text/plain": [
       "'hassan'"
      ]
     },
     "execution_count": 56,
     "metadata": {},
     "output_type": "execute_result"
    }
   ],
   "source": [
    "popped_item = emp.pop(2)\n",
    "print(emp)\n",
    "popped_item"
   ]
  },
  {
   "cell_type": "code",
   "execution_count": 60,
   "id": "e9febd3f",
   "metadata": {},
   "outputs": [
    {
     "ename": "IndexError",
     "evalue": "pop from empty list",
     "output_type": "error",
     "traceback": [
      "\u001b[1;31m---------------------------------------------------------------------------\u001b[0m",
      "\u001b[1;31mIndexError\u001b[0m                                Traceback (most recent call last)",
      "\u001b[1;32m<ipython-input-60-afd4725cfb70>\u001b[0m in \u001b[0;36m<module>\u001b[1;34m\u001b[0m\n\u001b[1;32m----> 1\u001b[1;33m \u001b[0mpopped_item\u001b[0m \u001b[1;33m=\u001b[0m \u001b[0memp\u001b[0m\u001b[1;33m.\u001b[0m\u001b[0mpop\u001b[0m\u001b[1;33m(\u001b[0m\u001b[1;33m)\u001b[0m\u001b[1;33m\u001b[0m\u001b[1;33m\u001b[0m\u001b[0m\n\u001b[0m\u001b[0;32m      2\u001b[0m \u001b[0memp\u001b[0m\u001b[1;33m\u001b[0m\u001b[1;33m\u001b[0m\u001b[0m\n",
      "\u001b[1;31mIndexError\u001b[0m: pop from empty list"
     ]
    }
   ],
   "source": [
    "popped_item = emp.pop()\n",
    "emp"
   ]
  },
  {
   "cell_type": "code",
   "execution_count": 61,
   "id": "4da7dabc",
   "metadata": {},
   "outputs": [
    {
     "data": {
      "text/plain": [
       "['Apple', 'Sharifa', 'Mango', 'Cherry', 'Banana', 'WaterMelon']"
      ]
     },
     "execution_count": 61,
     "metadata": {},
     "output_type": "execute_result"
    }
   ],
   "source": [
    "\n",
    "fruits"
   ]
  },
  {
   "cell_type": "code",
   "execution_count": 62,
   "id": "6be8f942",
   "metadata": {},
   "outputs": [],
   "source": [
    "# remove removes an item by value\n",
    "# permanent\n",
    "fruits.remove('Cherry')"
   ]
  },
  {
   "cell_type": "code",
   "execution_count": 63,
   "id": "a08ac941",
   "metadata": {},
   "outputs": [
    {
     "data": {
      "text/plain": [
       "['Apple', 'Sharifa', 'Mango', 'Banana', 'WaterMelon']"
      ]
     },
     "execution_count": 63,
     "metadata": {},
     "output_type": "execute_result"
    }
   ],
   "source": [
    "fruits"
   ]
  },
  {
   "cell_type": "code",
   "execution_count": 64,
   "id": "8f9d707c",
   "metadata": {},
   "outputs": [
    {
     "ename": "ValueError",
     "evalue": "list.remove(x): x not in list",
     "output_type": "error",
     "traceback": [
      "\u001b[1;31m---------------------------------------------------------------------------\u001b[0m",
      "\u001b[1;31mValueError\u001b[0m                                Traceback (most recent call last)",
      "\u001b[1;32m<ipython-input-64-f295c0a9188a>\u001b[0m in \u001b[0;36m<module>\u001b[1;34m\u001b[0m\n\u001b[1;32m----> 1\u001b[1;33m \u001b[0mfruits\u001b[0m\u001b[1;33m.\u001b[0m\u001b[0mremove\u001b[0m\u001b[1;33m(\u001b[0m\u001b[1;34m'mango'\u001b[0m\u001b[1;33m)\u001b[0m\u001b[1;33m\u001b[0m\u001b[1;33m\u001b[0m\u001b[0m\n\u001b[0m",
      "\u001b[1;31mValueError\u001b[0m: list.remove(x): x not in list"
     ]
    }
   ],
   "source": [
    "fruits.remove('mango')"
   ]
  },
  {
   "cell_type": "code",
   "execution_count": 67,
   "id": "f528684d",
   "metadata": {},
   "outputs": [],
   "source": [
    "fruits_eaten = fruits.copy()\n",
    "# pass by value\n",
    "# creates new memory"
   ]
  },
  {
   "cell_type": "code",
   "execution_count": 68,
   "id": "69d7317e",
   "metadata": {},
   "outputs": [],
   "source": [
    "fruits_bought = fruits\n",
    "# pass by reference\n",
    "# pass the address"
   ]
  },
  {
   "cell_type": "code",
   "execution_count": 69,
   "id": "b87acedf",
   "metadata": {},
   "outputs": [
    {
     "data": {
      "text/plain": [
       "['Apple', 'Sharifa', 'Mango', 'Banana', 'WaterMelon']"
      ]
     },
     "execution_count": 69,
     "metadata": {},
     "output_type": "execute_result"
    }
   ],
   "source": [
    "fruits_eaten"
   ]
  },
  {
   "cell_type": "code",
   "execution_count": 70,
   "id": "d940b2a3",
   "metadata": {},
   "outputs": [
    {
     "data": {
      "text/plain": [
       "['Apple', 'Sharifa', 'Mango', 'Banana', 'WaterMelon']"
      ]
     },
     "execution_count": 70,
     "metadata": {},
     "output_type": "execute_result"
    }
   ],
   "source": [
    "fruits_bought"
   ]
  },
  {
   "cell_type": "code",
   "execution_count": 71,
   "id": "50f3af96",
   "metadata": {},
   "outputs": [
    {
     "data": {
      "text/plain": [
       "['Apple', 'Sharifa', 'Mango', 'Banana', 'WaterMelon']"
      ]
     },
     "execution_count": 71,
     "metadata": {},
     "output_type": "execute_result"
    }
   ],
   "source": [
    "fruits"
   ]
  },
  {
   "cell_type": "code",
   "execution_count": 72,
   "id": "a7fc5eac",
   "metadata": {},
   "outputs": [
    {
     "data": {
      "text/plain": [
       "'WaterMelon'"
      ]
     },
     "execution_count": 72,
     "metadata": {},
     "output_type": "execute_result"
    }
   ],
   "source": [
    "fruits.pop()"
   ]
  },
  {
   "cell_type": "code",
   "execution_count": 73,
   "id": "8031bcf9",
   "metadata": {},
   "outputs": [
    {
     "data": {
      "text/plain": [
       "['Apple', 'Sharifa', 'Mango', 'Banana']"
      ]
     },
     "execution_count": 73,
     "metadata": {},
     "output_type": "execute_result"
    }
   ],
   "source": [
    "fruits_bought"
   ]
  },
  {
   "cell_type": "code",
   "execution_count": 74,
   "id": "2064903f",
   "metadata": {},
   "outputs": [
    {
     "data": {
      "text/plain": [
       "1"
      ]
     },
     "execution_count": 74,
     "metadata": {},
     "output_type": "execute_result"
    }
   ],
   "source": [
    "# return how many times a member is present in the list.\n",
    "fruits.count('Banana')"
   ]
  },
  {
   "cell_type": "code",
   "execution_count": 75,
   "id": "e4b6b8b7",
   "metadata": {},
   "outputs": [
    {
     "data": {
      "text/plain": [
       "0"
      ]
     },
     "execution_count": 75,
     "metadata": {},
     "output_type": "execute_result"
    }
   ],
   "source": [
    "fruits.count('banana')"
   ]
  },
  {
   "cell_type": "code",
   "execution_count": 76,
   "id": "e772d7f0",
   "metadata": {},
   "outputs": [
    {
     "data": {
      "text/plain": [
       "1"
      ]
     },
     "execution_count": 76,
     "metadata": {},
     "output_type": "execute_result"
    }
   ],
   "source": [
    "fruits.index('Sharifa')"
   ]
  },
  {
   "cell_type": "code",
   "execution_count": 77,
   "id": "f76b7e77",
   "metadata": {},
   "outputs": [
    {
     "ename": "ValueError",
     "evalue": "'sharifa' is not in list",
     "output_type": "error",
     "traceback": [
      "\u001b[1;31m---------------------------------------------------------------------------\u001b[0m",
      "\u001b[1;31mValueError\u001b[0m                                Traceback (most recent call last)",
      "\u001b[1;32m<ipython-input-77-255a8070a4c6>\u001b[0m in \u001b[0;36m<module>\u001b[1;34m\u001b[0m\n\u001b[1;32m----> 1\u001b[1;33m \u001b[0mfruits\u001b[0m\u001b[1;33m.\u001b[0m\u001b[0mindex\u001b[0m\u001b[1;33m(\u001b[0m\u001b[1;34m'sharifa'\u001b[0m\u001b[1;33m)\u001b[0m\u001b[1;33m\u001b[0m\u001b[1;33m\u001b[0m\u001b[0m\n\u001b[0m",
      "\u001b[1;31mValueError\u001b[0m: 'sharifa' is not in list"
     ]
    }
   ],
   "source": [
    "fruits.index('sharifa')"
   ]
  },
  {
   "cell_type": "code",
   "execution_count": 78,
   "id": "c35d6ca5",
   "metadata": {},
   "outputs": [],
   "source": [
    "fruits.reverse()"
   ]
  },
  {
   "cell_type": "code",
   "execution_count": 79,
   "id": "68084d4c",
   "metadata": {},
   "outputs": [
    {
     "name": "stdout",
     "output_type": "stream",
     "text": [
      "None\n"
     ]
    }
   ],
   "source": [
    "print(fruits.reverse())"
   ]
  },
  {
   "cell_type": "code",
   "execution_count": 81,
   "id": "89645f03",
   "metadata": {},
   "outputs": [
    {
     "name": "stdout",
     "output_type": "stream",
     "text": [
      "PAKISTAN\n"
     ]
    }
   ],
   "source": [
    "print(\"pakistan\".upper())"
   ]
  },
  {
   "cell_type": "code",
   "execution_count": 82,
   "id": "b76cd445",
   "metadata": {},
   "outputs": [
    {
     "data": {
      "text/plain": [
       "'nasirhussain'"
      ]
     },
     "execution_count": 82,
     "metadata": {},
     "output_type": "execute_result"
    }
   ],
   "source": [
    "name  = 'nasir hussain'\n",
    "name.replace(' ', '')"
   ]
  },
  {
   "cell_type": "code",
   "execution_count": 83,
   "id": "a17f14e4",
   "metadata": {},
   "outputs": [
    {
     "data": {
      "text/plain": [
       "'nasir hussain'"
      ]
     },
     "execution_count": 83,
     "metadata": {},
     "output_type": "execute_result"
    }
   ],
   "source": [
    "name"
   ]
  },
  {
   "cell_type": "markdown",
   "id": "3f9c9a89",
   "metadata": {},
   "source": [
    "# Slicing \n",
    "     - slicing string\n",
    "     - slicing list \n",
    "     \n",
    "     - It copies of the subset of values in a collection"
   ]
  },
  {
   "cell_type": "code",
   "execution_count": 85,
   "id": "3609261d",
   "metadata": {},
   "outputs": [
    {
     "data": {
      "text/plain": [
       "[11, 22, 33, 44, 55, 66, 77, 88, 99]"
      ]
     },
     "execution_count": 85,
     "metadata": {},
     "output_type": "execute_result"
    }
   ],
   "source": [
    "#     -9  -8 -7 -6 -5 -4 -3 -2 -1  \n",
    "nums= [11,22,33,44,55,66,77,88,99]\n",
    "#       0  1  2  3  4  5  6  7  8\n",
    "nums"
   ]
  },
  {
   "cell_type": "code",
   "execution_count": 86,
   "id": "256927cd",
   "metadata": {},
   "outputs": [
    {
     "data": {
      "text/plain": [
       "44"
      ]
     },
     "execution_count": 86,
     "metadata": {},
     "output_type": "execute_result"
    }
   ],
   "source": [
    "nums[3]"
   ]
  },
  {
   "cell_type": "code",
   "execution_count": 88,
   "id": "afc770f2",
   "metadata": {},
   "outputs": [
    {
     "data": {
      "text/plain": [
       "[33, 44, 55]"
      ]
     },
     "execution_count": 88,
     "metadata": {},
     "output_type": "execute_result"
    }
   ],
   "source": [
    "sliced = nums[2:5] # num[start, end]\n",
    "sliced"
   ]
  },
  {
   "cell_type": "code",
   "execution_count": 89,
   "id": "c55f3c94",
   "metadata": {},
   "outputs": [
    {
     "data": {
      "text/plain": [
       "[11, 22, 33, 44]"
      ]
     },
     "execution_count": 89,
     "metadata": {},
     "output_type": "execute_result"
    }
   ],
   "source": [
    "nums[:4]"
   ]
  },
  {
   "cell_type": "code",
   "execution_count": 90,
   "id": "8f060644",
   "metadata": {},
   "outputs": [
    {
     "data": {
      "text/plain": [
       "[55, 66, 77, 88, 99]"
      ]
     },
     "execution_count": 90,
     "metadata": {},
     "output_type": "execute_result"
    }
   ],
   "source": [
    "nums[4:]"
   ]
  },
  {
   "cell_type": "code",
   "execution_count": 91,
   "id": "f4bf15c2",
   "metadata": {},
   "outputs": [
    {
     "data": {
      "text/plain": [
       "[]"
      ]
     },
     "execution_count": 91,
     "metadata": {},
     "output_type": "execute_result"
    }
   ],
   "source": [
    "nums[10:12]"
   ]
  },
  {
   "cell_type": "code",
   "execution_count": 92,
   "id": "f5944219",
   "metadata": {},
   "outputs": [
    {
     "data": {
      "text/plain": [
       "[44, 55, 66]"
      ]
     },
     "execution_count": 92,
     "metadata": {},
     "output_type": "execute_result"
    }
   ],
   "source": [
    "nums[-6:-3]"
   ]
  },
  {
   "cell_type": "code",
   "execution_count": 93,
   "id": "6585b4cc",
   "metadata": {},
   "outputs": [
    {
     "data": {
      "text/plain": [
       "[44]"
      ]
     },
     "execution_count": 93,
     "metadata": {},
     "output_type": "execute_result"
    }
   ],
   "source": [
    "nums[3:4]"
   ]
  },
  {
   "cell_type": "code",
   "execution_count": 94,
   "id": "64ad5723",
   "metadata": {},
   "outputs": [
    {
     "data": {
      "text/plain": [
       "[]"
      ]
     },
     "execution_count": 94,
     "metadata": {},
     "output_type": "execute_result"
    }
   ],
   "source": [
    "nums[7:1]"
   ]
  },
  {
   "cell_type": "code",
   "execution_count": 1,
   "id": "7ee60d2b",
   "metadata": {},
   "outputs": [],
   "source": [
    "#     -9  -8 -7 -6 -5 -4 -3 -2 -1  \n",
    "nums= [11,22,33,44,55,66,77,88,99]\n",
    "#       0  1  2  3  4  5  6  7  8"
   ]
  },
  {
   "cell_type": "code",
   "execution_count": 2,
   "id": "fe7773c8",
   "metadata": {},
   "outputs": [
    {
     "data": {
      "text/plain": [
       "[22, 44, 66]"
      ]
     },
     "execution_count": 2,
     "metadata": {},
     "output_type": "execute_result"
    }
   ],
   "source": [
    "nums[1:7:2]# num[s,e,step]"
   ]
  },
  {
   "cell_type": "code",
   "execution_count": 5,
   "id": "539d74da",
   "metadata": {},
   "outputs": [
    {
     "data": {
      "text/plain": [
       "[88, 77, 66, 55, 44, 33]"
      ]
     },
     "execution_count": 5,
     "metadata": {},
     "output_type": "execute_result"
    }
   ],
   "source": [
    "nums[7:1:-1]"
   ]
  },
  {
   "cell_type": "code",
   "execution_count": 9,
   "id": "576db274",
   "metadata": {},
   "outputs": [
    {
     "data": {
      "text/plain": [
       "[99, 88, 77, 66, 55, 44, 33, 22, 11]"
      ]
     },
     "execution_count": 9,
     "metadata": {},
     "output_type": "execute_result"
    }
   ],
   "source": [
    "nums[::-1]"
   ]
  },
  {
   "cell_type": "code",
   "execution_count": 10,
   "id": "afb251e0",
   "metadata": {},
   "outputs": [
    {
     "data": {
      "text/plain": [
       "[33, 44]"
      ]
     },
     "execution_count": 10,
     "metadata": {},
     "output_type": "execute_result"
    }
   ],
   "source": [
    "nums[-7:4]"
   ]
  },
  {
   "cell_type": "code",
   "execution_count": 11,
   "id": "2579cb64",
   "metadata": {},
   "outputs": [
    {
     "data": {
      "text/plain": [
       "[88, 77, 66, 55, 44]"
      ]
     },
     "execution_count": 11,
     "metadata": {},
     "output_type": "execute_result"
    }
   ],
   "source": [
    "nums[-2:2:-1]"
   ]
  },
  {
   "cell_type": "code",
   "execution_count": 13,
   "id": "f3defae8",
   "metadata": {},
   "outputs": [],
   "source": [
    "text = \"a day without python is empty day\""
   ]
  },
  {
   "cell_type": "code",
   "execution_count": 14,
   "id": "db01c9a0",
   "metadata": {},
   "outputs": [
    {
     "data": {
      "text/plain": [
       "'y wit'"
      ]
     },
     "execution_count": 14,
     "metadata": {},
     "output_type": "execute_result"
    }
   ],
   "source": [
    "text[4:9]"
   ]
  },
  {
   "cell_type": "code",
   "execution_count": 15,
   "id": "31f23f27",
   "metadata": {},
   "outputs": [
    {
     "data": {
      "text/plain": [
       "'yad ytpme si nohtyp tuohtiw yad a'"
      ]
     },
     "execution_count": 15,
     "metadata": {},
     "output_type": "execute_result"
    }
   ],
   "source": [
    "text[::-1]"
   ]
  },
  {
   "cell_type": "code",
   "execution_count": 16,
   "id": "a29ed56a",
   "metadata": {},
   "outputs": [
    {
     "data": {
      "text/plain": [
       "'a day without python is empty day'"
      ]
     },
     "execution_count": 16,
     "metadata": {},
     "output_type": "execute_result"
    }
   ],
   "source": [
    "text"
   ]
  },
  {
   "cell_type": "code",
   "execution_count": 17,
   "id": "720c031e",
   "metadata": {},
   "outputs": [],
   "source": [
    "test = \"hello\""
   ]
  },
  {
   "cell_type": "code",
   "execution_count": 18,
   "id": "a72cedcf",
   "metadata": {},
   "outputs": [
    {
     "data": {
      "text/plain": [
       "'olleh'"
      ]
     },
     "execution_count": 18,
     "metadata": {},
     "output_type": "execute_result"
    }
   ],
   "source": [
    "test[::-1]"
   ]
  },
  {
   "cell_type": "code",
   "execution_count": 19,
   "id": "df68527f",
   "metadata": {},
   "outputs": [
    {
     "data": {
      "text/plain": [
       "'a day without python is empty day'"
      ]
     },
     "execution_count": 19,
     "metadata": {},
     "output_type": "execute_result"
    }
   ],
   "source": [
    "text"
   ]
  },
  {
   "cell_type": "code",
   "execution_count": 26,
   "id": "a4d3b88a",
   "metadata": {},
   "outputs": [
    {
     "data": {
      "text/plain": [
       "['a', 'day', 'without', 'python', 'is', 'empty', 'day']"
      ]
     },
     "execution_count": 26,
     "metadata": {},
     "output_type": "execute_result"
    }
   ],
   "source": [
    "splitted = text.split(' ')\n",
    "splitted"
   ]
  },
  {
   "cell_type": "code",
   "execution_count": 24,
   "id": "a87bc1e1",
   "metadata": {},
   "outputs": [
    {
     "data": {
      "text/plain": [
       "['day', 'empty', 'is', 'python', 'without', 'day', 'a']"
      ]
     },
     "execution_count": 24,
     "metadata": {},
     "output_type": "execute_result"
    }
   ],
   "source": [
    "reversed = splitted[::-1]\n",
    "reversed"
   ]
  },
  {
   "cell_type": "code",
   "execution_count": 25,
   "id": "45a4190e",
   "metadata": {},
   "outputs": [
    {
     "data": {
      "text/plain": [
       "'day empty is python without day a'"
      ]
     },
     "execution_count": 25,
     "metadata": {},
     "output_type": "execute_result"
    }
   ],
   "source": [
    "' '.join(reversed)"
   ]
  },
  {
   "cell_type": "code",
   "execution_count": 28,
   "id": "b330df70",
   "metadata": {},
   "outputs": [
    {
     "data": {
      "text/plain": [
       "'a b'"
      ]
     },
     "execution_count": 28,
     "metadata": {},
     "output_type": "execute_result"
    }
   ],
   "source": [
    "\" \".join(['a','b'])"
   ]
  },
  {
   "cell_type": "code",
   "execution_count": 30,
   "id": "37501fab",
   "metadata": {},
   "outputs": [
    {
     "data": {
      "text/plain": [
       "'day empty is python without day a'"
      ]
     },
     "execution_count": 30,
     "metadata": {},
     "output_type": "execute_result"
    }
   ],
   "source": [
    "\" \".join(text.split()[::-1])"
   ]
  },
  {
   "cell_type": "code",
   "execution_count": 31,
   "id": "d206e52f",
   "metadata": {},
   "outputs": [],
   "source": [
    "alist = [\"Hassan\"]"
   ]
  },
  {
   "cell_type": "code",
   "execution_count": 32,
   "id": "8be60dc2",
   "metadata": {},
   "outputs": [],
   "source": [
    "blist = alist"
   ]
  },
  {
   "cell_type": "code",
   "execution_count": 33,
   "id": "02aee140",
   "metadata": {},
   "outputs": [
    {
     "data": {
      "text/plain": [
       "True"
      ]
     },
     "execution_count": 33,
     "metadata": {},
     "output_type": "execute_result"
    }
   ],
   "source": [
    "alist is blist"
   ]
  },
  {
   "cell_type": "code",
   "execution_count": 39,
   "id": "3480f630",
   "metadata": {},
   "outputs": [],
   "source": [
    "clist = alist[:]"
   ]
  },
  {
   "cell_type": "code",
   "execution_count": 40,
   "id": "5b62bba4",
   "metadata": {},
   "outputs": [
    {
     "data": {
      "text/plain": [
       "False"
      ]
     },
     "execution_count": 40,
     "metadata": {},
     "output_type": "execute_result"
    }
   ],
   "source": [
    "clist is alist"
   ]
  },
  {
   "cell_type": "code",
   "execution_count": 41,
   "id": "2bc3318b",
   "metadata": {},
   "outputs": [
    {
     "data": {
      "text/plain": [
       "2531159737416"
      ]
     },
     "execution_count": 41,
     "metadata": {},
     "output_type": "execute_result"
    }
   ],
   "source": [
    "id(alist)"
   ]
  },
  {
   "cell_type": "code",
   "execution_count": 42,
   "id": "373be305",
   "metadata": {},
   "outputs": [
    {
     "data": {
      "text/plain": [
       "2531159737416"
      ]
     },
     "execution_count": 42,
     "metadata": {},
     "output_type": "execute_result"
    }
   ],
   "source": [
    "id(blist)"
   ]
  },
  {
   "cell_type": "code",
   "execution_count": 43,
   "id": "f29232e5",
   "metadata": {},
   "outputs": [
    {
     "data": {
      "text/plain": [
       "2531160254792"
      ]
     },
     "execution_count": 43,
     "metadata": {},
     "output_type": "execute_result"
    }
   ],
   "source": [
    "id(clist)"
   ]
  },
  {
   "cell_type": "code",
   "execution_count": null,
   "id": "8d40d8d6",
   "metadata": {},
   "outputs": [],
   "source": []
  },
  {
   "cell_type": "code",
   "execution_count": 45,
   "id": "62343220",
   "metadata": {},
   "outputs": [],
   "source": [
    "a = [1,2,3]\n",
    "\n"
   ]
  },
  {
   "cell_type": "code",
   "execution_count": 46,
   "id": "b8aaf983",
   "metadata": {},
   "outputs": [
    {
     "data": {
      "text/plain": [
       "False"
      ]
     },
     "execution_count": 46,
     "metadata": {},
     "output_type": "execute_result"
    }
   ],
   "source": [
    "a[:] is a"
   ]
  },
  {
   "cell_type": "code",
   "execution_count": 47,
   "id": "3d40228e",
   "metadata": {},
   "outputs": [
    {
     "data": {
      "text/plain": [
       "False"
      ]
     },
     "execution_count": 47,
     "metadata": {},
     "output_type": "execute_result"
    }
   ],
   "source": [
    "a is a[:]"
   ]
  },
  {
   "cell_type": "code",
   "execution_count": 48,
   "id": "50dd27f8",
   "metadata": {},
   "outputs": [
    {
     "data": {
      "text/plain": [
       "[1, 2, 3, 4, 5, 6, 7, 8]"
      ]
     },
     "execution_count": 48,
     "metadata": {},
     "output_type": "execute_result"
    }
   ],
   "source": [
    "a = [1, 2, 7, 8]\n",
    "a[2:-2] = [3,4,5,6]\n",
    "a"
   ]
  },
  {
   "cell_type": "code",
   "execution_count": 49,
   "id": "d017924f",
   "metadata": {},
   "outputs": [
    {
     "data": {
      "text/plain": [
       "[1, 2, 3, 4, 5, 6, 7, 8]"
      ]
     },
     "execution_count": 49,
     "metadata": {},
     "output_type": "execute_result"
    }
   ],
   "source": [
    "a = [1, 2, 7, 8]\n",
    "a[2:2] = [3,4,5,6]\n",
    "a"
   ]
  },
  {
   "cell_type": "code",
   "execution_count": 50,
   "id": "a566bf9f",
   "metadata": {},
   "outputs": [],
   "source": [
    "name  = 'nasir', 'hussain'"
   ]
  },
  {
   "cell_type": "code",
   "execution_count": 51,
   "id": "adcbe109",
   "metadata": {},
   "outputs": [
    {
     "data": {
      "text/plain": [
       "tuple"
      ]
     },
     "execution_count": 51,
     "metadata": {},
     "output_type": "execute_result"
    }
   ],
   "source": [
    "type(name)"
   ]
  },
  {
   "cell_type": "code",
   "execution_count": 53,
   "id": "bbe2742c",
   "metadata": {},
   "outputs": [],
   "source": [
    "city = 'karachi',"
   ]
  },
  {
   "cell_type": "code",
   "execution_count": 54,
   "id": "fc1fa693",
   "metadata": {},
   "outputs": [
    {
     "data": {
      "text/plain": [
       "tuple"
      ]
     },
     "execution_count": 54,
     "metadata": {},
     "output_type": "execute_result"
    }
   ],
   "source": [
    "type(city)"
   ]
  },
  {
   "cell_type": "code",
   "execution_count": 56,
   "id": "83d981ce",
   "metadata": {},
   "outputs": [],
   "source": [
    "alist.append(\"hamza\")"
   ]
  },
  {
   "cell_type": "code",
   "execution_count": 57,
   "id": "5ca99438",
   "metadata": {},
   "outputs": [
    {
     "data": {
      "text/plain": [
       "['Hassan', 'hamza']"
      ]
     },
     "execution_count": 57,
     "metadata": {},
     "output_type": "execute_result"
    }
   ],
   "source": [
    "alist = ['Hassan', 'hamza']"
   ]
  },
  {
   "cell_type": "code",
   "execution_count": 58,
   "id": "e3f0292b",
   "metadata": {},
   "outputs": [],
   "source": [
    "st1,st2 = alist"
   ]
  },
  {
   "cell_type": "code",
   "execution_count": 59,
   "id": "6a6ddf69",
   "metadata": {},
   "outputs": [
    {
     "data": {
      "text/plain": [
       "'Hassan'"
      ]
     },
     "execution_count": 59,
     "metadata": {},
     "output_type": "execute_result"
    }
   ],
   "source": [
    "st1"
   ]
  },
  {
   "cell_type": "code",
   "execution_count": 60,
   "id": "51a674f9",
   "metadata": {},
   "outputs": [
    {
     "data": {
      "text/plain": [
       "'hamza'"
      ]
     },
     "execution_count": 60,
     "metadata": {},
     "output_type": "execute_result"
    }
   ],
   "source": [
    "st2"
   ]
  },
  {
   "cell_type": "code",
   "execution_count": 61,
   "id": "508f6eb9",
   "metadata": {},
   "outputs": [],
   "source": [
    "atuple = ('Hassan', 'hamza')"
   ]
  },
  {
   "cell_type": "code",
   "execution_count": 62,
   "id": "c5250486",
   "metadata": {},
   "outputs": [],
   "source": [
    "a,b = atuple"
   ]
  },
  {
   "cell_type": "code",
   "execution_count": 63,
   "id": "d867187a",
   "metadata": {},
   "outputs": [
    {
     "data": {
      "text/plain": [
       "'Hassan'"
      ]
     },
     "execution_count": 63,
     "metadata": {},
     "output_type": "execute_result"
    }
   ],
   "source": [
    "a"
   ]
  },
  {
   "cell_type": "code",
   "execution_count": 64,
   "id": "548f8aef",
   "metadata": {},
   "outputs": [
    {
     "data": {
      "text/plain": [
       "'hamza'"
      ]
     },
     "execution_count": 64,
     "metadata": {},
     "output_type": "execute_result"
    }
   ],
   "source": [
    "b"
   ]
  },
  {
   "cell_type": "code",
   "execution_count": 67,
   "id": "158c2454",
   "metadata": {},
   "outputs": [],
   "source": [
    "a,b,c = (1, 2, 3, 4, 5, 6, 7, 8, 9)[1::3]"
   ]
  },
  {
   "cell_type": "code",
   "execution_count": 68,
   "id": "c7afb119",
   "metadata": {},
   "outputs": [
    {
     "data": {
      "text/plain": [
       "5"
      ]
     },
     "execution_count": 68,
     "metadata": {},
     "output_type": "execute_result"
    }
   ],
   "source": [
    "b"
   ]
  },
  {
   "cell_type": "code",
   "execution_count": null,
   "id": "31ff0611",
   "metadata": {},
   "outputs": [],
   "source": []
  }
 ],
 "metadata": {
  "kernelspec": {
   "display_name": "Python 3",
   "language": "python",
   "name": "python3"
  },
  "language_info": {
   "codemirror_mode": {
    "name": "ipython",
    "version": 3
   },
   "file_extension": ".py",
   "mimetype": "text/x-python",
   "name": "python",
   "nbconvert_exporter": "python",
   "pygments_lexer": "ipython3",
   "version": "3.7.4"
  }
 },
 "nbformat": 4,
 "nbformat_minor": 5
}
