{
 "cells": [
  {
   "cell_type": "markdown",
   "id": "a630ff01",
   "metadata": {},
   "source": [
    "# Learning Numpy and Pandas for Data Analysis"
   ]
  },
  {
   "cell_type": "markdown",
   "id": "e7eeaa37",
   "metadata": {},
   "source": [
    "# Numpy - Numerical Python \n",
    "      - structure - Numpy ndimensional \n",
    "      - Super fast processing\n",
    "      - it deals only in numeric values"
   ]
  },
  {
   "cell_type": "markdown",
   "id": "588d6e64",
   "metadata": {},
   "source": [
    "# Creating a numpy Array "
   ]
  },
  {
   "cell_type": "markdown",
   "id": "431f3ee9",
   "metadata": {},
   "source": [
    "### 1 Dimensional Array"
   ]
  },
  {
   "cell_type": "code",
   "execution_count": 1,
   "id": "e4f6483a",
   "metadata": {},
   "outputs": [],
   "source": [
    "import numpy as np"
   ]
  },
  {
   "cell_type": "code",
   "execution_count": 2,
   "id": "a824be59",
   "metadata": {},
   "outputs": [
    {
     "name": "stdout",
     "output_type": "stream",
     "text": [
      "<class 'list'>\n"
     ]
    },
    {
     "data": {
      "text/plain": [
       "numpy.ndarray"
      ]
     },
     "execution_count": 2,
     "metadata": {},
     "output_type": "execute_result"
    }
   ],
   "source": [
    "# using python list\n",
    "lst = [1,2,3,4,5,6,7,8,9,10]\n",
    "print(type(lst))\n",
    "arr1d = np.array(lst)\n",
    "type(arr1d)"
   ]
  },
  {
   "cell_type": "code",
   "execution_count": 3,
   "id": "02520a8b",
   "metadata": {},
   "outputs": [
    {
     "data": {
      "text/plain": [
       "[1, 2, 3, 4, 5, 6, 7, 8, 9, 10]"
      ]
     },
     "execution_count": 3,
     "metadata": {},
     "output_type": "execute_result"
    }
   ],
   "source": [
    "lst"
   ]
  },
  {
   "cell_type": "code",
   "execution_count": 4,
   "id": "575863f3",
   "metadata": {},
   "outputs": [
    {
     "data": {
      "text/plain": [
       "[2, 4, 6, 8, 10, 12, 14, 16, 18, 20]"
      ]
     },
     "execution_count": 4,
     "metadata": {},
     "output_type": "execute_result"
    }
   ],
   "source": [
    "double = []\n",
    "for a in lst:\n",
    "    double.append(a*2)\n",
    "double"
   ]
  },
  {
   "cell_type": "markdown",
   "id": "a66c2ac3",
   "metadata": {},
   "source": [
    "### Vectorized Operation\n",
    " "
   ]
  },
  {
   "cell_type": "code",
   "execution_count": 5,
   "id": "80e30c21",
   "metadata": {},
   "outputs": [
    {
     "data": {
      "text/plain": [
       "array([ 2,  4,  6,  8, 10, 12, 14, 16, 18, 20])"
      ]
     },
     "execution_count": 5,
     "metadata": {},
     "output_type": "execute_result"
    }
   ],
   "source": [
    "arr1d * 2"
   ]
  },
  {
   "cell_type": "code",
   "execution_count": 6,
   "id": "adbb8dde",
   "metadata": {},
   "outputs": [
    {
     "data": {
      "text/plain": [
       "array([0.1, 0.2, 0.3, 0.4, 0.5, 0.6, 0.7, 0.8, 0.9, 1. ])"
      ]
     },
     "execution_count": 6,
     "metadata": {},
     "output_type": "execute_result"
    }
   ],
   "source": [
    "arr1d/10"
   ]
  },
  {
   "cell_type": "code",
   "execution_count": 7,
   "id": "beed2e76",
   "metadata": {},
   "outputs": [
    {
     "data": {
      "text/plain": [
       "10"
      ]
     },
     "execution_count": 7,
     "metadata": {},
     "output_type": "execute_result"
    }
   ],
   "source": [
    "arr1d.size"
   ]
  },
  {
   "cell_type": "code",
   "execution_count": 8,
   "id": "fc546902",
   "metadata": {},
   "outputs": [
    {
     "data": {
      "text/plain": [
       "1"
      ]
     },
     "execution_count": 8,
     "metadata": {},
     "output_type": "execute_result"
    }
   ],
   "source": [
    "arr1d.ndim"
   ]
  },
  {
   "cell_type": "code",
   "execution_count": 9,
   "id": "233db5ad",
   "metadata": {},
   "outputs": [
    {
     "data": {
      "text/plain": [
       "(10,)"
      ]
     },
     "execution_count": 9,
     "metadata": {},
     "output_type": "execute_result"
    }
   ],
   "source": [
    "arr1d.shape"
   ]
  },
  {
   "cell_type": "code",
   "execution_count": 10,
   "id": "f1b208fd",
   "metadata": {},
   "outputs": [
    {
     "data": {
      "text/plain": [
       "array([0, 1, 2, 3, 4, 5, 6, 7, 8, 9])"
      ]
     },
     "execution_count": 10,
     "metadata": {},
     "output_type": "execute_result"
    }
   ],
   "source": [
    "#Using numpy arange\n",
    "arr1d = np.arange(10)\n",
    "arr1d"
   ]
  },
  {
   "cell_type": "code",
   "execution_count": 11,
   "id": "6e53007d",
   "metadata": {},
   "outputs": [
    {
     "data": {
      "text/plain": [
       "[[1, 2, 3], [11, 22, 33], [111, 222, 333]]"
      ]
     },
     "execution_count": 11,
     "metadata": {},
     "output_type": "execute_result"
    }
   ],
   "source": [
    "#2dArray from python list\n",
    "lst2d = [[1,2,3],[11,22,33],[111,222,333]]\n",
    "lst2d"
   ]
  },
  {
   "cell_type": "code",
   "execution_count": 12,
   "id": "3ac980f9",
   "metadata": {},
   "outputs": [
    {
     "data": {
      "text/plain": [
       "array([[  1,   2,   3],\n",
       "       [ 11,  22,  33],\n",
       "       [111, 222, 333]])"
      ]
     },
     "execution_count": 12,
     "metadata": {},
     "output_type": "execute_result"
    }
   ],
   "source": [
    "arr2d = np.array(lst2d)\n",
    "arr2d"
   ]
  },
  {
   "cell_type": "code",
   "execution_count": 13,
   "id": "49de9812",
   "metadata": {},
   "outputs": [
    {
     "data": {
      "text/plain": [
       "(3, 3)"
      ]
     },
     "execution_count": 13,
     "metadata": {},
     "output_type": "execute_result"
    }
   ],
   "source": [
    "arr2d.shape"
   ]
  },
  {
   "cell_type": "code",
   "execution_count": 14,
   "id": "50a8c7e5",
   "metadata": {},
   "outputs": [
    {
     "data": {
      "text/plain": [
       "2"
      ]
     },
     "execution_count": 14,
     "metadata": {},
     "output_type": "execute_result"
    }
   ],
   "source": [
    "arr2d.ndim"
   ]
  },
  {
   "cell_type": "code",
   "execution_count": 15,
   "id": "0c06d023",
   "metadata": {},
   "outputs": [
    {
     "data": {
      "text/plain": [
       "array([[ 0,  1,  2,  3,  4,  5,  6,  7,  8],\n",
       "       [ 9, 10, 11, 12, 13, 14, 15, 16, 17],\n",
       "       [18, 19, 20, 21, 22, 23, 24, 25, 26],\n",
       "       [27, 28, 29, 30, 31, 32, 33, 34, 35]])"
      ]
     },
     "execution_count": 15,
     "metadata": {},
     "output_type": "execute_result"
    }
   ],
   "source": [
    "arr2d = np.arange(36).reshape(4,9)\n",
    "arr2d"
   ]
  },
  {
   "cell_type": "raw",
   "id": "73b773ba",
   "metadata": {},
   "source": []
  },
  {
   "cell_type": "code",
   "execution_count": 16,
   "id": "d0a798e1",
   "metadata": {},
   "outputs": [
    {
     "data": {
      "text/plain": [
       "array([0, 1, 2, 3, 4, 5, 6, 7, 8, 9])"
      ]
     },
     "execution_count": 16,
     "metadata": {},
     "output_type": "execute_result"
    }
   ],
   "source": [
    "arr1d"
   ]
  },
  {
   "cell_type": "code",
   "execution_count": 17,
   "id": "55416362",
   "metadata": {},
   "outputs": [
    {
     "data": {
      "text/plain": [
       "7"
      ]
     },
     "execution_count": 17,
     "metadata": {},
     "output_type": "execute_result"
    }
   ],
   "source": [
    "arr1d[7]"
   ]
  },
  {
   "cell_type": "code",
   "execution_count": 18,
   "id": "46219ad0",
   "metadata": {},
   "outputs": [
    {
     "data": {
      "text/plain": [
       "array([4, 5, 6, 7])"
      ]
     },
     "execution_count": 18,
     "metadata": {},
     "output_type": "execute_result"
    }
   ],
   "source": [
    "arr1d[4:8]"
   ]
  },
  {
   "cell_type": "code",
   "execution_count": 19,
   "id": "5c132962",
   "metadata": {},
   "outputs": [
    {
     "data": {
      "text/plain": [
       "9"
      ]
     },
     "execution_count": 19,
     "metadata": {},
     "output_type": "execute_result"
    }
   ],
   "source": [
    "arr1d[-1]"
   ]
  },
  {
   "cell_type": "code",
   "execution_count": 20,
   "id": "650f9e2e",
   "metadata": {},
   "outputs": [
    {
     "data": {
      "text/plain": [
       "5"
      ]
     },
     "execution_count": 20,
     "metadata": {},
     "output_type": "execute_result"
    }
   ],
   "source": [
    "arr1d[5]"
   ]
  },
  {
   "cell_type": "code",
   "execution_count": 21,
   "id": "11190ca5",
   "metadata": {},
   "outputs": [
    {
     "data": {
      "text/plain": [
       "array([5])"
      ]
     },
     "execution_count": 21,
     "metadata": {},
     "output_type": "execute_result"
    }
   ],
   "source": [
    "arr1d[5:6]"
   ]
  },
  {
   "cell_type": "code",
   "execution_count": 22,
   "id": "0dae8629",
   "metadata": {},
   "outputs": [
    {
     "data": {
      "text/plain": [
       "array([[ 0,  1,  2,  3,  4,  5,  6,  7,  8],\n",
       "       [ 9, 10, 11, 12, 13, 14, 15, 16, 17],\n",
       "       [18, 19, 20, 21, 22, 23, 24, 25, 26],\n",
       "       [27, 28, 29, 30, 31, 32, 33, 34, 35]])"
      ]
     },
     "execution_count": 22,
     "metadata": {},
     "output_type": "execute_result"
    }
   ],
   "source": [
    "arr2d"
   ]
  },
  {
   "cell_type": "code",
   "execution_count": 23,
   "id": "158c1aba",
   "metadata": {},
   "outputs": [
    {
     "data": {
      "text/plain": [
       "23"
      ]
     },
     "execution_count": 23,
     "metadata": {},
     "output_type": "execute_result"
    }
   ],
   "source": [
    "# index value 23 from arr2d\n",
    "arr2d[2][5]"
   ]
  },
  {
   "cell_type": "code",
   "execution_count": 24,
   "id": "227cbdb6",
   "metadata": {},
   "outputs": [
    {
     "data": {
      "text/plain": [
       "23"
      ]
     },
     "execution_count": 24,
     "metadata": {},
     "output_type": "execute_result"
    }
   ],
   "source": [
    "arr2d[2,5]"
   ]
  },
  {
   "cell_type": "code",
   "execution_count": 25,
   "id": "db661389",
   "metadata": {},
   "outputs": [
    {
     "data": {
      "text/plain": [
       "array([[ 0,  1,  2,  3,  4,  5,  6,  7,  8],\n",
       "       [ 9, 10, 11, 12, 13, 14, 15, 16, 17],\n",
       "       [18, 19, 20, 21, 22, 23, 24, 25, 26],\n",
       "       [27, 28, 29, 30, 31, 32, 33, 34, 35]])"
      ]
     },
     "execution_count": 25,
     "metadata": {},
     "output_type": "execute_result"
    }
   ],
   "source": [
    "arr2d"
   ]
  },
  {
   "cell_type": "code",
   "execution_count": 26,
   "id": "2b4e6ee0",
   "metadata": {},
   "outputs": [
    {
     "data": {
      "text/plain": [
       "array([[11, 12, 13, 14, 15]])"
      ]
     },
     "execution_count": 26,
     "metadata": {},
     "output_type": "execute_result"
    }
   ],
   "source": [
    "# arr2d[row,col]  >>> [startrow:endrow,statcol:endcol]\n",
    "\n",
    "arr2d[1:2,2:7]\n",
    "#Slice"
   ]
  },
  {
   "cell_type": "code",
   "execution_count": 27,
   "id": "76c22246",
   "metadata": {},
   "outputs": [
    {
     "data": {
      "text/plain": [
       "array([[14, 15],\n",
       "       [23, 24]])"
      ]
     },
     "execution_count": 27,
     "metadata": {},
     "output_type": "execute_result"
    }
   ],
   "source": [
    "arr2d[1:3,5:7]"
   ]
  },
  {
   "cell_type": "code",
   "execution_count": 28,
   "id": "1b3dce77",
   "metadata": {},
   "outputs": [
    {
     "data": {
      "text/plain": [
       "array([[ 6,  7,  8],\n",
       "       [15, 16, 17],\n",
       "       [24, 25, 26],\n",
       "       [33, 34, 35]])"
      ]
     },
     "execution_count": 28,
     "metadata": {},
     "output_type": "execute_result"
    }
   ],
   "source": [
    "arr2d[0:4, 6:9]"
   ]
  },
  {
   "cell_type": "code",
   "execution_count": 29,
   "id": "ecb5099f",
   "metadata": {},
   "outputs": [
    {
     "data": {
      "text/plain": [
       "array([[ 6,  7,  8],\n",
       "       [15, 16, 17],\n",
       "       [24, 25, 26],\n",
       "       [33, 34, 35]])"
      ]
     },
     "execution_count": 29,
     "metadata": {},
     "output_type": "execute_result"
    }
   ],
   "source": [
    "arr2d[:, 6:]"
   ]
  },
  {
   "cell_type": "code",
   "execution_count": 30,
   "id": "57fa22d5",
   "metadata": {},
   "outputs": [
    {
     "data": {
      "text/plain": [
       "array([22, 23, 24])"
      ]
     },
     "execution_count": 30,
     "metadata": {},
     "output_type": "execute_result"
    }
   ],
   "source": [
    "arr2d[2,4:7]\n",
    "# indexing"
   ]
  },
  {
   "cell_type": "code",
   "execution_count": 31,
   "id": "4e1fefa9",
   "metadata": {},
   "outputs": [
    {
     "data": {
      "text/plain": [
       "array([[ 0,  1,  2,  3,  4,  5,  6,  7,  8],\n",
       "       [ 9, 10, 11, 12, 13, 14, 15, 16, 17],\n",
       "       [18, 19, 20, 21, 22, 23, 24, 25, 26],\n",
       "       [27, 28, 29, 30, 31, 32, 33, 34, 35]])"
      ]
     },
     "execution_count": 31,
     "metadata": {},
     "output_type": "execute_result"
    }
   ],
   "source": [
    "arr2d"
   ]
  },
  {
   "cell_type": "code",
   "execution_count": 34,
   "id": "c2a798de",
   "metadata": {},
   "outputs": [
    {
     "data": {
      "text/plain": [
       "array([ 8, 17, 26, 35])"
      ]
     },
     "execution_count": 34,
     "metadata": {},
     "output_type": "execute_result"
    }
   ],
   "source": [
    "arr2d[:,-1]\n",
    "# indexinf"
   ]
  },
  {
   "cell_type": "code",
   "execution_count": 35,
   "id": "3cbbb01d",
   "metadata": {},
   "outputs": [
    {
     "data": {
      "text/plain": [
       "array([[ 8],\n",
       "       [17],\n",
       "       [26],\n",
       "       [35]])"
      ]
     },
     "execution_count": 35,
     "metadata": {},
     "output_type": "execute_result"
    }
   ],
   "source": [
    "arr2d[:,8:]"
   ]
  },
  {
   "cell_type": "code",
   "execution_count": 34,
   "id": "39c0a8d7",
   "metadata": {},
   "outputs": [
    {
     "data": {
      "text/plain": [
       "array([[0, 1, 2, 3, 4, 5, 6, 7, 8, 9]])"
      ]
     },
     "execution_count": 34,
     "metadata": {},
     "output_type": "execute_result"
    }
   ],
   "source": [
    "np.arange(10).reshape(1,10)"
   ]
  },
  {
   "cell_type": "code",
   "execution_count": 35,
   "id": "470e9319",
   "metadata": {},
   "outputs": [
    {
     "data": {
      "text/plain": [
       "array([0, 1, 2, 3, 4, 5, 6, 7, 8, 9])"
      ]
     },
     "execution_count": 35,
     "metadata": {},
     "output_type": "execute_result"
    }
   ],
   "source": [
    "np.arange(10)"
   ]
  },
  {
   "cell_type": "code",
   "execution_count": 36,
   "id": "7e0a2a69",
   "metadata": {},
   "outputs": [
    {
     "data": {
      "text/plain": [
       "array([[19]])"
      ]
     },
     "execution_count": 36,
     "metadata": {},
     "output_type": "execute_result"
    }
   ],
   "source": [
    "np.array([[19]])"
   ]
  },
  {
   "cell_type": "markdown",
   "id": "c3027cae",
   "metadata": {},
   "source": [
    "# Fancy indexing "
   ]
  },
  {
   "cell_type": "code",
   "execution_count": 36,
   "id": "ec58f453",
   "metadata": {},
   "outputs": [
    {
     "data": {
      "text/plain": [
       "array([[ 0,  1,  2,  3,  4,  5,  6,  7,  8],\n",
       "       [ 9, 10, 11, 12, 13, 14, 15, 16, 17],\n",
       "       [18, 19, 20, 21, 22, 23, 24, 25, 26],\n",
       "       [27, 28, 29, 30, 31, 32, 33, 34, 35]])"
      ]
     },
     "execution_count": 36,
     "metadata": {},
     "output_type": "execute_result"
    }
   ],
   "source": [
    "arr2d"
   ]
  },
  {
   "cell_type": "code",
   "execution_count": 37,
   "id": "740da2d2",
   "metadata": {},
   "outputs": [
    {
     "data": {
      "text/plain": [
       "array([[ 5,  8,  0,  3],\n",
       "       [14, 17,  9, 12],\n",
       "       [23, 26, 18, 21],\n",
       "       [32, 35, 27, 30]])"
      ]
     },
     "execution_count": 37,
     "metadata": {},
     "output_type": "execute_result"
    }
   ],
   "source": [
    "arr2d[:,[5,8,0,3]]"
   ]
  },
  {
   "cell_type": "code",
   "execution_count": 39,
   "id": "17bff1fa",
   "metadata": {},
   "outputs": [
    {
     "data": {
      "text/plain": [
       "array([ 2, 25])"
      ]
     },
     "execution_count": 39,
     "metadata": {},
     "output_type": "execute_result"
    }
   ],
   "source": [
    "arr2d[[0,2],[2,7]]"
   ]
  },
  {
   "cell_type": "code",
   "execution_count": 40,
   "id": "51c5b54d",
   "metadata": {},
   "outputs": [
    {
     "data": {
      "text/plain": [
       "array([[ 0,  1,  2,  3,  4,  5,  6,  7,  8],\n",
       "       [ 9, 10, 11, 12, 13, 14, 15, 16, 17],\n",
       "       [18, 19, 20, 21, 22, 23, 24, 25, 26],\n",
       "       [27, 28, 29, 30, 31, 32, 33, 34, 35]])"
      ]
     },
     "execution_count": 40,
     "metadata": {},
     "output_type": "execute_result"
    }
   ],
   "source": [
    "arr2d"
   ]
  },
  {
   "cell_type": "code",
   "execution_count": 38,
   "id": "47181bb5",
   "metadata": {},
   "outputs": [
    {
     "data": {
      "text/plain": [
       "array([[ 0,  3,  6],\n",
       "       [ 9, 12, 15],\n",
       "       [18, 21, 24],\n",
       "       [27, 30, 33]])"
      ]
     },
     "execution_count": 38,
     "metadata": {},
     "output_type": "execute_result"
    }
   ],
   "source": [
    "arr2d[:,::3]"
   ]
  },
  {
   "cell_type": "code",
   "execution_count": 42,
   "id": "2c89d7e8",
   "metadata": {},
   "outputs": [
    {
     "data": {
      "text/plain": [
       "array([[ 8,  6,  4,  2,  0],\n",
       "       [17, 15, 13, 11,  9],\n",
       "       [26, 24, 22, 20, 18],\n",
       "       [35, 33, 31, 29, 27]])"
      ]
     },
     "execution_count": 42,
     "metadata": {},
     "output_type": "execute_result"
    }
   ],
   "source": [
    "arr2d[:,::-2]"
   ]
  },
  {
   "cell_type": "code",
   "execution_count": 39,
   "id": "55479014",
   "metadata": {},
   "outputs": [],
   "source": [
    "arr3d = np.arange(64).reshape(4,4,4)"
   ]
  },
  {
   "cell_type": "code",
   "execution_count": 40,
   "id": "5a34e117",
   "metadata": {},
   "outputs": [
    {
     "data": {
      "text/plain": [
       "array([[[ 0,  1,  2,  3],\n",
       "        [ 4,  5,  6,  7],\n",
       "        [ 8,  9, 10, 11],\n",
       "        [12, 13, 14, 15]],\n",
       "\n",
       "       [[16, 17, 18, 19],\n",
       "        [20, 21, 22, 23],\n",
       "        [24, 25, 26, 27],\n",
       "        [28, 29, 30, 31]],\n",
       "\n",
       "       [[32, 33, 34, 35],\n",
       "        [36, 37, 38, 39],\n",
       "        [40, 41, 42, 43],\n",
       "        [44, 45, 46, 47]],\n",
       "\n",
       "       [[48, 49, 50, 51],\n",
       "        [52, 53, 54, 55],\n",
       "        [56, 57, 58, 59],\n",
       "        [60, 61, 62, 63]]])"
      ]
     },
     "execution_count": 40,
     "metadata": {},
     "output_type": "execute_result"
    }
   ],
   "source": [
    "arr3d"
   ]
  },
  {
   "cell_type": "code",
   "execution_count": 42,
   "id": "efe36e43",
   "metadata": {},
   "outputs": [
    {
     "data": {
      "text/plain": [
       "55"
      ]
     },
     "execution_count": 42,
     "metadata": {},
     "output_type": "execute_result"
    }
   ],
   "source": [
    "arr3d[1][2][2]\n",
    "arr3d[3][1][3]"
   ]
  },
  {
   "cell_type": "code",
   "execution_count": 43,
   "id": "e9a6af4e",
   "metadata": {},
   "outputs": [
    {
     "data": {
      "text/plain": [
       "array([[56, 57, 58, 59]])"
      ]
     },
     "execution_count": 43,
     "metadata": {},
     "output_type": "execute_result"
    }
   ],
   "source": [
    "arr3d[3][1:3][1:3]\n",
    "# index"
   ]
  },
  {
   "cell_type": "code",
   "execution_count": 45,
   "id": "066ea8ab",
   "metadata": {},
   "outputs": [
    {
     "data": {
      "text/plain": [
       "array([[[53, 54],\n",
       "        [57, 58]]])"
      ]
     },
     "execution_count": 45,
     "metadata": {},
     "output_type": "execute_result"
    }
   ],
   "source": [
    "arr3d[3:4,1:3,1:3]"
   ]
  },
  {
   "cell_type": "code",
   "execution_count": 45,
   "id": "6b6d74cc",
   "metadata": {},
   "outputs": [
    {
     "data": {
      "text/plain": [
       "array([[[ 9, 10]],\n",
       "\n",
       "       [[25, 26]],\n",
       "\n",
       "       [[41, 42]],\n",
       "\n",
       "       [[57, 58]]])"
      ]
     },
     "execution_count": 45,
     "metadata": {},
     "output_type": "execute_result"
    }
   ],
   "source": [
    "arr3d[:,2:3,1:3]"
   ]
  },
  {
   "cell_type": "code",
   "execution_count": 46,
   "id": "70042e75",
   "metadata": {},
   "outputs": [
    {
     "data": {
      "text/plain": [
       "array([0., 0., 0., 0., 0., 0., 0., 0., 0., 0., 0., 0.])"
      ]
     },
     "execution_count": 46,
     "metadata": {},
     "output_type": "execute_result"
    }
   ],
   "source": [
    "np.zeros(12)"
   ]
  },
  {
   "cell_type": "code",
   "execution_count": 47,
   "id": "3eabbbb3",
   "metadata": {},
   "outputs": [
    {
     "data": {
      "text/plain": [
       "array([[0, 0, 0, 0, 0],\n",
       "       [0, 0, 0, 0, 0],\n",
       "       [0, 0, 0, 0, 0],\n",
       "       [0, 0, 0, 0, 0]])"
      ]
     },
     "execution_count": 47,
     "metadata": {},
     "output_type": "execute_result"
    }
   ],
   "source": [
    "np.zeros((4,5),dtype='int')"
   ]
  },
  {
   "cell_type": "code",
   "execution_count": 48,
   "id": "6287d0b7",
   "metadata": {},
   "outputs": [
    {
     "data": {
      "text/plain": [
       "array([1., 1., 1., 1., 1.])"
      ]
     },
     "execution_count": 48,
     "metadata": {},
     "output_type": "execute_result"
    }
   ],
   "source": [
    "np.ones(5)"
   ]
  },
  {
   "cell_type": "code",
   "execution_count": 49,
   "id": "c4d08825",
   "metadata": {},
   "outputs": [
    {
     "data": {
      "text/plain": [
       "array([[1., 1., 1., 1., 1.],\n",
       "       [1., 1., 1., 1., 1.],\n",
       "       [1., 1., 1., 1., 1.],\n",
       "       [1., 1., 1., 1., 1.],\n",
       "       [1., 1., 1., 1., 1.]])"
      ]
     },
     "execution_count": 49,
     "metadata": {},
     "output_type": "execute_result"
    }
   ],
   "source": [
    "np.ones((5,5))"
   ]
  },
  {
   "cell_type": "code",
   "execution_count": 50,
   "id": "7de7c791",
   "metadata": {},
   "outputs": [
    {
     "data": {
      "text/plain": [
       "array([[10., 10., 10., 10., 10.],\n",
       "       [10., 10., 10., 10., 10.],\n",
       "       [10., 10., 10., 10., 10.],\n",
       "       [10., 10., 10., 10., 10.],\n",
       "       [10., 10., 10., 10., 10.]])"
      ]
     },
     "execution_count": 50,
     "metadata": {},
     "output_type": "execute_result"
    }
   ],
   "source": [
    "np.ones((5,5))*10"
   ]
  },
  {
   "cell_type": "code",
   "execution_count": 51,
   "id": "aea9342a",
   "metadata": {},
   "outputs": [
    {
     "data": {
      "text/plain": [
       "array([[1., 0., 0., 0., 0.],\n",
       "       [0., 1., 0., 0., 0.],\n",
       "       [0., 0., 1., 0., 0.],\n",
       "       [0., 0., 0., 1., 0.],\n",
       "       [0., 0., 0., 0., 1.]])"
      ]
     },
     "execution_count": 51,
     "metadata": {},
     "output_type": "execute_result"
    }
   ],
   "source": [
    "np.eye(5)"
   ]
  },
  {
   "cell_type": "code",
   "execution_count": 52,
   "id": "955153b1",
   "metadata": {},
   "outputs": [],
   "source": [
    "arr2d1 = np.arange(12).reshape(3,4)"
   ]
  },
  {
   "cell_type": "code",
   "execution_count": 53,
   "id": "57a5b3fc",
   "metadata": {},
   "outputs": [
    {
     "data": {
      "text/plain": [
       "array([[ 0,  1,  2,  3],\n",
       "       [ 4,  5,  6,  7],\n",
       "       [ 8,  9, 10, 11]])"
      ]
     },
     "execution_count": 53,
     "metadata": {},
     "output_type": "execute_result"
    }
   ],
   "source": [
    "arr2d1"
   ]
  },
  {
   "cell_type": "code",
   "execution_count": 54,
   "id": "9cd0c7c6",
   "metadata": {},
   "outputs": [],
   "source": [
    "arr2d2 = np.random.randn(3,4)"
   ]
  },
  {
   "cell_type": "code",
   "execution_count": 55,
   "id": "412af824",
   "metadata": {},
   "outputs": [
    {
     "data": {
      "text/plain": [
       "array([[-1.04347452, -0.11508976, -2.01761254,  0.20483731],\n",
       "       [-0.28550618,  0.69061183,  0.51209191, -0.2931721 ],\n",
       "       [-1.23061597, -0.77217204,  1.48705003,  1.29222587]])"
      ]
     },
     "execution_count": 55,
     "metadata": {},
     "output_type": "execute_result"
    }
   ],
   "source": [
    "arr2d2"
   ]
  },
  {
   "cell_type": "code",
   "execution_count": 56,
   "id": "847394cd",
   "metadata": {},
   "outputs": [
    {
     "data": {
      "text/plain": [
       "array([[-1.04347452,  0.88491024, -0.01761254,  3.20483731],\n",
       "       [ 3.71449382,  5.69061183,  6.51209191,  6.7068279 ],\n",
       "       [ 6.76938403,  8.22782796, 11.48705003, 12.29222587]])"
      ]
     },
     "execution_count": 56,
     "metadata": {},
     "output_type": "execute_result"
    }
   ],
   "source": [
    "arr2d1 + arr2d2"
   ]
  },
  {
   "cell_type": "code",
   "execution_count": 57,
   "id": "07149117",
   "metadata": {},
   "outputs": [],
   "source": [
    "arr2d3 = np.random.randn(4,4)"
   ]
  },
  {
   "cell_type": "code",
   "execution_count": 58,
   "id": "9edb7aa3",
   "metadata": {},
   "outputs": [
    {
     "ename": "ValueError",
     "evalue": "operands could not be broadcast together with shapes (4,4) (3,4) ",
     "output_type": "error",
     "traceback": [
      "\u001b[1;31m---------------------------------------------------------------------------\u001b[0m",
      "\u001b[1;31mValueError\u001b[0m                                Traceback (most recent call last)",
      "\u001b[1;32m<ipython-input-58-49045c3e9154>\u001b[0m in \u001b[0;36m<module>\u001b[1;34m\u001b[0m\n\u001b[1;32m----> 1\u001b[1;33m \u001b[0marr2d3\u001b[0m \u001b[1;33m+\u001b[0m \u001b[0marr2d2\u001b[0m\u001b[1;33m\u001b[0m\u001b[1;33m\u001b[0m\u001b[0m\n\u001b[0m",
      "\u001b[1;31mValueError\u001b[0m: operands could not be broadcast together with shapes (4,4) (3,4) "
     ]
    }
   ],
   "source": [
    "arr2d3 + arr2d2"
   ]
  },
  {
   "cell_type": "code",
   "execution_count": 59,
   "id": "861ac728",
   "metadata": {},
   "outputs": [
    {
     "data": {
      "text/plain": [
       "array([[-0.        , -0.11508976, -4.03522507,  0.61451193],\n",
       "       [-1.14202473,  3.45305913,  3.07255146, -2.0522047 ],\n",
       "       [-9.84492775, -6.94954839, 14.87050032, 14.21448459]])"
      ]
     },
     "execution_count": 59,
     "metadata": {},
     "output_type": "execute_result"
    }
   ],
   "source": [
    " arr2d1 * arr2d2\n",
    "# mirror multiplicztion"
   ]
  },
  {
   "cell_type": "code",
   "execution_count": 60,
   "id": "ec1789a8",
   "metadata": {},
   "outputs": [
    {
     "data": {
      "text/plain": [
       "array([[0, 1],\n",
       "       [2, 3],\n",
       "       [4, 5]])"
      ]
     },
     "execution_count": 60,
     "metadata": {},
     "output_type": "execute_result"
    }
   ],
   "source": [
    "a = np.arange(6).reshape(3,2)\n",
    "b = np.arange(6).reshape(2,3)\n",
    "a"
   ]
  },
  {
   "cell_type": "code",
   "execution_count": 61,
   "id": "8d67d708",
   "metadata": {},
   "outputs": [
    {
     "data": {
      "text/plain": [
       "array([[0, 1, 2],\n",
       "       [3, 4, 5]])"
      ]
     },
     "execution_count": 61,
     "metadata": {},
     "output_type": "execute_result"
    }
   ],
   "source": [
    "b"
   ]
  },
  {
   "cell_type": "code",
   "execution_count": 62,
   "id": "e93cf95b",
   "metadata": {},
   "outputs": [
    {
     "ename": "ValueError",
     "evalue": "operands could not be broadcast together with shapes (3,2) (2,3) ",
     "output_type": "error",
     "traceback": [
      "\u001b[1;31m---------------------------------------------------------------------------\u001b[0m",
      "\u001b[1;31mValueError\u001b[0m                                Traceback (most recent call last)",
      "\u001b[1;32m<ipython-input-62-9bc1a869709f>\u001b[0m in \u001b[0;36m<module>\u001b[1;34m\u001b[0m\n\u001b[1;32m----> 1\u001b[1;33m \u001b[0ma\u001b[0m \u001b[1;33m*\u001b[0m \u001b[0mb\u001b[0m\u001b[1;33m\u001b[0m\u001b[1;33m\u001b[0m\u001b[0m\n\u001b[0m",
      "\u001b[1;31mValueError\u001b[0m: operands could not be broadcast together with shapes (3,2) (2,3) "
     ]
    }
   ],
   "source": [
    "a * b"
   ]
  },
  {
   "cell_type": "code",
   "execution_count": 63,
   "id": "efc21e18",
   "metadata": {},
   "outputs": [
    {
     "ename": "ValueError",
     "evalue": "operands could not be broadcast together with shapes (2,3) (3,2) ",
     "output_type": "error",
     "traceback": [
      "\u001b[1;31m---------------------------------------------------------------------------\u001b[0m",
      "\u001b[1;31mValueError\u001b[0m                                Traceback (most recent call last)",
      "\u001b[1;32m<ipython-input-63-f0e4c0ee4ba0>\u001b[0m in \u001b[0;36m<module>\u001b[1;34m\u001b[0m\n\u001b[1;32m----> 1\u001b[1;33m \u001b[0mb\u001b[0m \u001b[1;33m*\u001b[0m \u001b[0ma\u001b[0m\u001b[1;33m\u001b[0m\u001b[1;33m\u001b[0m\u001b[0m\n\u001b[0m",
      "\u001b[1;31mValueError\u001b[0m: operands could not be broadcast together with shapes (2,3) (3,2) "
     ]
    }
   ],
   "source": [
    "b * a"
   ]
  },
  {
   "cell_type": "code",
   "execution_count": 64,
   "id": "1efa3a9f",
   "metadata": {},
   "outputs": [
    {
     "data": {
      "text/plain": [
       "array([[ 3,  4,  5],\n",
       "       [ 9, 14, 19],\n",
       "       [15, 24, 33]])"
      ]
     },
     "execution_count": 64,
     "metadata": {},
     "output_type": "execute_result"
    }
   ],
   "source": [
    "a@b"
   ]
  },
  {
   "cell_type": "code",
   "execution_count": 65,
   "id": "64dc1f43",
   "metadata": {},
   "outputs": [
    {
     "data": {
      "text/plain": [
       "array([[10, 13],\n",
       "       [28, 40]])"
      ]
     },
     "execution_count": 65,
     "metadata": {},
     "output_type": "execute_result"
    }
   ],
   "source": [
    "b@a\n",
    "# matrix multiplication"
   ]
  },
  {
   "cell_type": "code",
   "execution_count": 66,
   "id": "830fd701",
   "metadata": {},
   "outputs": [
    {
     "ename": "ValueError",
     "evalue": "matmul: Input operand 1 has a mismatch in its core dimension 0, with gufunc signature (n?,k),(k,m?)->(n?,m?) (size 2 is different from 3)",
     "output_type": "error",
     "traceback": [
      "\u001b[1;31m---------------------------------------------------------------------------\u001b[0m",
      "\u001b[1;31mValueError\u001b[0m                                Traceback (most recent call last)",
      "\u001b[1;32m<ipython-input-66-a8b223ac7927>\u001b[0m in \u001b[0;36m<module>\u001b[1;34m\u001b[0m\n\u001b[0;32m      1\u001b[0m \u001b[0ma\u001b[0m \u001b[1;33m=\u001b[0m \u001b[0mnp\u001b[0m\u001b[1;33m.\u001b[0m\u001b[0marange\u001b[0m\u001b[1;33m(\u001b[0m\u001b[1;36m15\u001b[0m\u001b[1;33m)\u001b[0m\u001b[1;33m.\u001b[0m\u001b[0mreshape\u001b[0m\u001b[1;33m(\u001b[0m\u001b[1;36m5\u001b[0m\u001b[1;33m,\u001b[0m\u001b[1;36m3\u001b[0m\u001b[1;33m)\u001b[0m\u001b[1;33m\u001b[0m\u001b[1;33m\u001b[0m\u001b[0m\n\u001b[0;32m      2\u001b[0m \u001b[0mb\u001b[0m \u001b[1;33m=\u001b[0m \u001b[0mnp\u001b[0m\u001b[1;33m.\u001b[0m\u001b[0marange\u001b[0m\u001b[1;33m(\u001b[0m\u001b[1;36m10\u001b[0m\u001b[1;33m)\u001b[0m\u001b[1;33m.\u001b[0m\u001b[0mreshape\u001b[0m\u001b[1;33m(\u001b[0m\u001b[1;36m2\u001b[0m\u001b[1;33m,\u001b[0m\u001b[1;36m5\u001b[0m\u001b[1;33m)\u001b[0m\u001b[1;33m\u001b[0m\u001b[1;33m\u001b[0m\u001b[0m\n\u001b[1;32m----> 3\u001b[1;33m \u001b[0ma\u001b[0m\u001b[1;33m@\u001b[0m\u001b[0mb\u001b[0m\u001b[1;33m\u001b[0m\u001b[1;33m\u001b[0m\u001b[0m\n\u001b[0m",
      "\u001b[1;31mValueError\u001b[0m: matmul: Input operand 1 has a mismatch in its core dimension 0, with gufunc signature (n?,k),(k,m?)->(n?,m?) (size 2 is different from 3)"
     ]
    }
   ],
   "source": [
    "a = np.arange(15).reshape(5,3)\n",
    "b = np.arange(10).reshape(2,5)\n",
    "a@b"
   ]
  },
  {
   "cell_type": "code",
   "execution_count": 67,
   "id": "460b84c2",
   "metadata": {},
   "outputs": [
    {
     "data": {
      "text/plain": [
       "array([[ 90, 100, 110],\n",
       "       [240, 275, 310]])"
      ]
     },
     "execution_count": 67,
     "metadata": {},
     "output_type": "execute_result"
    }
   ],
   "source": [
    "b@a"
   ]
  },
  {
   "cell_type": "code",
   "execution_count": 68,
   "id": "6d135096",
   "metadata": {},
   "outputs": [
    {
     "data": {
      "text/plain": [
       "array([[ 90, 100, 110],\n",
       "       [240, 275, 310]])"
      ]
     },
     "execution_count": 68,
     "metadata": {},
     "output_type": "execute_result"
    }
   ],
   "source": [
    "b.dot(a)"
   ]
  },
  {
   "cell_type": "code",
   "execution_count": 72,
   "id": "957dca80",
   "metadata": {},
   "outputs": [],
   "source": [
    "# x = np.array([[1], [2], [3]])\n",
    "# y = np.array([4, 5, 6])\n"
   ]
  },
  {
   "cell_type": "code",
   "execution_count": 77,
   "id": "a4bc8a5c",
   "metadata": {},
   "outputs": [
    {
     "data": {
      "text/plain": [
       "array([[10, 10, 10, 10, 10],\n",
       "       [10, 10, 10, 10, 10],\n",
       "       [10, 10, 10, 10, 10],\n",
       "       [10, 10, 10, 10, 10]])"
      ]
     },
     "execution_count": 77,
     "metadata": {},
     "output_type": "execute_result"
    }
   ],
   "source": [
    "np.full((4,5),10)"
   ]
  },
  {
   "cell_type": "code",
   "execution_count": 82,
   "id": "85c76b98",
   "metadata": {},
   "outputs": [
    {
     "data": {
      "text/plain": [
       "array([  1.        ,   1.00990099,   1.01980198, ...,  99.98019802,\n",
       "        99.99009901, 100.        ])"
      ]
     },
     "execution_count": 82,
     "metadata": {},
     "output_type": "execute_result"
    }
   ],
   "source": [
    "np.linspace(1,100,10000)"
   ]
  },
  {
   "cell_type": "code",
   "execution_count": 86,
   "id": "0e4d5a7e",
   "metadata": {},
   "outputs": [
    {
     "data": {
      "text/plain": [
       "((5, 3), dtype('int32'))"
      ]
     },
     "execution_count": 86,
     "metadata": {},
     "output_type": "execute_result"
    }
   ],
   "source": [
    "a.shape, a.dtype"
   ]
  },
  {
   "cell_type": "code",
   "execution_count": 87,
   "id": "c0586ab1",
   "metadata": {},
   "outputs": [
    {
     "data": {
      "text/plain": [
       "array([[0, 0, 0],\n",
       "       [0, 0, 0],\n",
       "       [0, 0, 0],\n",
       "       [0, 0, 0],\n",
       "       [0, 0, 0]])"
      ]
     },
     "execution_count": 87,
     "metadata": {},
     "output_type": "execute_result"
    }
   ],
   "source": [
    "np.zeros_like(a)"
   ]
  },
  {
   "cell_type": "code",
   "execution_count": 88,
   "id": "8fe55eb8",
   "metadata": {},
   "outputs": [
    {
     "data": {
      "text/plain": [
       "array([[1, 1, 1],\n",
       "       [1, 1, 1],\n",
       "       [1, 1, 1],\n",
       "       [1, 1, 1],\n",
       "       [1, 1, 1]])"
      ]
     },
     "execution_count": 88,
     "metadata": {},
     "output_type": "execute_result"
    }
   ],
   "source": [
    "np.ones_like(a)"
   ]
  },
  {
   "cell_type": "code",
   "execution_count": 89,
   "id": "78eed1f1",
   "metadata": {},
   "outputs": [
    {
     "data": {
      "text/plain": [
       "array([0, 1, 2, 3, 4, 5, 6, 7, 8, 9])"
      ]
     },
     "execution_count": 89,
     "metadata": {},
     "output_type": "execute_result"
    }
   ],
   "source": [
    "arr1d"
   ]
  },
  {
   "cell_type": "code",
   "execution_count": 93,
   "id": "8b7af918",
   "metadata": {},
   "outputs": [
    {
     "data": {
      "text/plain": [
       "array([False, False, False, False, False, False,  True,  True,  True,\n",
       "        True])"
      ]
     },
     "execution_count": 93,
     "metadata": {},
     "output_type": "execute_result"
    }
   ],
   "source": [
    "# Boolean Selection  Filters / Query\n",
    "arr1d > 5"
   ]
  },
  {
   "cell_type": "code",
   "execution_count": 94,
   "id": "8918690f",
   "metadata": {},
   "outputs": [
    {
     "data": {
      "text/plain": [
       "4"
      ]
     },
     "execution_count": 94,
     "metadata": {},
     "output_type": "execute_result"
    }
   ],
   "source": [
    "(arr1d > 5).sum()"
   ]
  },
  {
   "cell_type": "code",
   "execution_count": 95,
   "id": "66c4aaf0",
   "metadata": {},
   "outputs": [
    {
     "data": {
      "text/plain": [
       "array([0, 1, 2, 3, 4, 5, 6, 7, 8, 9])"
      ]
     },
     "execution_count": 95,
     "metadata": {},
     "output_type": "execute_result"
    }
   ],
   "source": [
    "arr1d"
   ]
  },
  {
   "cell_type": "code",
   "execution_count": 96,
   "id": "8ca233f7",
   "metadata": {},
   "outputs": [],
   "source": [
    "a = [True,False, True,True,False,True,True,False,True,False]"
   ]
  },
  {
   "cell_type": "code",
   "execution_count": 99,
   "id": "20d62b20",
   "metadata": {},
   "outputs": [
    {
     "data": {
      "text/plain": [
       "array([0, 2, 3, 5, 6, 8])"
      ]
     },
     "execution_count": 99,
     "metadata": {},
     "output_type": "execute_result"
    }
   ],
   "source": [
    "arr1d[a]"
   ]
  },
  {
   "cell_type": "code",
   "execution_count": 46,
   "id": "3e068d43",
   "metadata": {},
   "outputs": [
    {
     "data": {
      "text/plain": [
       "array([6, 7, 8, 9])"
      ]
     },
     "execution_count": 46,
     "metadata": {},
     "output_type": "execute_result"
    }
   ],
   "source": [
    "arr1d[     arr1d>5           ]"
   ]
  },
  {
   "cell_type": "code",
   "execution_count": 101,
   "id": "72006199",
   "metadata": {},
   "outputs": [
    {
     "data": {
      "text/plain": [
       "array([[ 0,  1,  2,  3,  4,  5,  6,  7,  8],\n",
       "       [ 9, 10, 11, 12, 13, 14, 15, 16, 17],\n",
       "       [18, 19, 20, 21, 22, 23, 24, 25, 26],\n",
       "       [27, 28, 29, 30, 31, 32, 33, 34, 35]])"
      ]
     },
     "execution_count": 101,
     "metadata": {},
     "output_type": "execute_result"
    }
   ],
   "source": [
    "arr2d"
   ]
  },
  {
   "cell_type": "code",
   "execution_count": 103,
   "id": "4c9dd2de",
   "metadata": {},
   "outputs": [
    {
     "data": {
      "text/plain": [
       "array([11, 12, 13, 14, 15, 16, 17, 18, 19, 20, 21, 22, 23, 24, 25, 26, 27,\n",
       "       28, 29, 30, 31, 32, 33, 34, 35])"
      ]
     },
     "execution_count": 103,
     "metadata": {},
     "output_type": "execute_result"
    }
   ],
   "source": [
    "arr2d[ arr2d>10  ] "
   ]
  },
  {
   "cell_type": "code",
   "execution_count": 107,
   "id": "f7360c87",
   "metadata": {},
   "outputs": [
    {
     "data": {
      "text/plain": [
       "array([11, 12, 13, 14, 15, 16, 17, 18, 19, 20, 21, 22, 23, 24, 25, 26, 27,\n",
       "       28, 29])"
      ]
     },
     "execution_count": 107,
     "metadata": {},
     "output_type": "execute_result"
    }
   ],
   "source": [
    "arr2d[(arr2d >10)  &  (arr2d<30)]"
   ]
  },
  {
   "cell_type": "code",
   "execution_count": 108,
   "id": "75a14c3f",
   "metadata": {},
   "outputs": [
    {
     "data": {
      "text/plain": [
       "array([[[ 0,  1,  2,  3],\n",
       "        [ 4,  5,  6,  7],\n",
       "        [ 8,  9, 10, 11],\n",
       "        [12, 13, 14, 15]],\n",
       "\n",
       "       [[16, 17, 18, 19],\n",
       "        [20, 21, 22, 23],\n",
       "        [24, 25, 26, 27],\n",
       "        [28, 29, 30, 31]],\n",
       "\n",
       "       [[32, 33, 34, 35],\n",
       "        [36, 37, 38, 39],\n",
       "        [40, 41, 42, 43],\n",
       "        [44, 45, 46, 47]],\n",
       "\n",
       "       [[48, 49, 50, 51],\n",
       "        [52, 53, 54, 55],\n",
       "        [56, 57, 58, 59],\n",
       "        [60, 61, 62, 63]]])"
      ]
     },
     "execution_count": 108,
     "metadata": {},
     "output_type": "execute_result"
    }
   ],
   "source": [
    "arr3d"
   ]
  },
  {
   "cell_type": "code",
   "execution_count": 113,
   "id": "0a2d5139",
   "metadata": {},
   "outputs": [],
   "source": [
    "new3darray = arr3d.ravel()"
   ]
  },
  {
   "cell_type": "code",
   "execution_count": 110,
   "id": "59e58521",
   "metadata": {},
   "outputs": [
    {
     "data": {
      "text/plain": [
       "array([ 0,  1,  2,  3,  4,  5,  6,  7,  8,  9, 10, 11, 12, 13, 14, 15, 16,\n",
       "       17, 18, 19, 20, 21, 22, 23, 24, 25, 26, 27, 28, 29, 30, 31, 32, 33,\n",
       "       34, 35, 36, 37, 38, 39, 40, 41, 42, 43, 44, 45, 46, 47, 48, 49, 50,\n",
       "       51, 52, 53, 54, 55, 56, 57, 58, 59, 60, 61, 62, 63])"
      ]
     },
     "execution_count": 110,
     "metadata": {},
     "output_type": "execute_result"
    }
   ],
   "source": [
    "arr3d.flatten()"
   ]
  },
  {
   "cell_type": "code",
   "execution_count": 111,
   "id": "cc4c44c0",
   "metadata": {},
   "outputs": [
    {
     "data": {
      "text/plain": [
       "array([ 0,  1,  2,  3,  4,  5,  6,  7,  8,  9, 10, 11, 12, 13, 14, 15, 16,\n",
       "       17, 18, 19, 20, 21, 22, 23, 24, 25, 26, 27, 28, 29, 30, 31, 32, 33,\n",
       "       34, 35, 36, 37, 38, 39, 40, 41, 42, 43, 44, 45, 46, 47, 48, 49, 50,\n",
       "       51, 52, 53, 54, 55, 56, 57, 58, 59, 60, 61, 62, 63])"
      ]
     },
     "execution_count": 111,
     "metadata": {},
     "output_type": "execute_result"
    }
   ],
   "source": [
    "arr3d.reshape(64)"
   ]
  },
  {
   "cell_type": "code",
   "execution_count": 112,
   "id": "e551b6ce",
   "metadata": {},
   "outputs": [
    {
     "data": {
      "text/plain": [
       "array([[[ 0,  1,  2,  3],\n",
       "        [ 4,  5,  6,  7],\n",
       "        [ 8,  9, 10, 11],\n",
       "        [12, 13, 14, 15]],\n",
       "\n",
       "       [[16, 17, 18, 19],\n",
       "        [20, 21, 22, 23],\n",
       "        [24, 25, 26, 27],\n",
       "        [28, 29, 30, 31]],\n",
       "\n",
       "       [[32, 33, 34, 35],\n",
       "        [36, 37, 38, 39],\n",
       "        [40, 41, 42, 43],\n",
       "        [44, 45, 46, 47]],\n",
       "\n",
       "       [[48, 49, 50, 51],\n",
       "        [52, 53, 54, 55],\n",
       "        [56, 57, 58, 59],\n",
       "        [60, 61, 62, 63]]])"
      ]
     },
     "execution_count": 112,
     "metadata": {},
     "output_type": "execute_result"
    }
   ],
   "source": [
    "arr3d"
   ]
  },
  {
   "cell_type": "code",
   "execution_count": 115,
   "id": "02b79e18",
   "metadata": {},
   "outputs": [],
   "source": [
    "new3darray[5:40]=100"
   ]
  },
  {
   "cell_type": "code",
   "execution_count": 116,
   "id": "30ad78f3",
   "metadata": {},
   "outputs": [
    {
     "data": {
      "text/plain": [
       "array([  0,   1,   2,   3,   4, 100, 100, 100, 100, 100, 100, 100, 100,\n",
       "       100, 100, 100, 100, 100, 100, 100, 100, 100, 100, 100, 100, 100,\n",
       "       100, 100, 100, 100, 100, 100, 100, 100, 100, 100, 100, 100, 100,\n",
       "       100,  40,  41,  42,  43,  44,  45,  46,  47,  48,  49,  50,  51,\n",
       "        52,  53,  54,  55,  56,  57,  58,  59,  60,  61,  62,  63])"
      ]
     },
     "execution_count": 116,
     "metadata": {},
     "output_type": "execute_result"
    }
   ],
   "source": [
    "new3darray"
   ]
  },
  {
   "cell_type": "code",
   "execution_count": 117,
   "id": "8c8ad93f",
   "metadata": {},
   "outputs": [
    {
     "data": {
      "text/plain": [
       "array([[[  0,   1,   2,   3],\n",
       "        [  4, 100, 100, 100],\n",
       "        [100, 100, 100, 100],\n",
       "        [100, 100, 100, 100]],\n",
       "\n",
       "       [[100, 100, 100, 100],\n",
       "        [100, 100, 100, 100],\n",
       "        [100, 100, 100, 100],\n",
       "        [100, 100, 100, 100]],\n",
       "\n",
       "       [[100, 100, 100, 100],\n",
       "        [100, 100, 100, 100],\n",
       "        [ 40,  41,  42,  43],\n",
       "        [ 44,  45,  46,  47]],\n",
       "\n",
       "       [[ 48,  49,  50,  51],\n",
       "        [ 52,  53,  54,  55],\n",
       "        [ 56,  57,  58,  59],\n",
       "        [ 60,  61,  62,  63]]])"
      ]
     },
     "execution_count": 117,
     "metadata": {},
     "output_type": "execute_result"
    }
   ],
   "source": [
    "arr3d"
   ]
  },
  {
   "cell_type": "markdown",
   "id": "ac9bce68",
   "metadata": {},
   "source": [
    "# Concatenation of Array "
   ]
  },
  {
   "cell_type": "code",
   "execution_count": 119,
   "id": "e89ee80f",
   "metadata": {},
   "outputs": [
    {
     "data": {
      "text/plain": [
       "array([[ 0,  1,  2,  3,  4,  5,  6,  7,  8],\n",
       "       [ 9, 10, 11, 12, 13, 14, 15, 16, 17],\n",
       "       [18, 19, 20, 21, 22, 23, 24, 25, 26],\n",
       "       [27, 28, 29, 30, 31, 32, 33, 34, 35]])"
      ]
     },
     "execution_count": 119,
     "metadata": {},
     "output_type": "execute_result"
    }
   ],
   "source": [
    "arr2d"
   ]
  },
  {
   "cell_type": "code",
   "execution_count": 121,
   "id": "33897483",
   "metadata": {},
   "outputs": [
    {
     "data": {
      "text/plain": [
       "array([[  0,   5,  10,  15,  20,  25,  30,  35,  40],\n",
       "       [ 45,  50,  55,  60,  65,  70,  75,  80,  85],\n",
       "       [ 90,  95, 100, 105, 110, 115, 120, 125, 130],\n",
       "       [135, 140, 145, 150, 155, 160, 165, 170, 175]])"
      ]
     },
     "execution_count": 121,
     "metadata": {},
     "output_type": "execute_result"
    }
   ],
   "source": [
    "arr2d1 = arr2d[:]*5\n",
    "arr2d1"
   ]
  },
  {
   "cell_type": "code",
   "execution_count": 122,
   "id": "fb456482",
   "metadata": {},
   "outputs": [
    {
     "data": {
      "text/plain": [
       "array([[  0,   5,  10,  15,  20,  25,  30,  35,  40],\n",
       "       [ 45,  50,  55,  60,  65,  70,  75,  80,  85],\n",
       "       [ 90,  95, 100, 105, 110, 115, 120, 125, 130],\n",
       "       [135, 140, 145, 150, 155, 160, 165, 170, 175],\n",
       "       [  0,   1,   2,   3,   4,   5,   6,   7,   8],\n",
       "       [  9,  10,  11,  12,  13,  14,  15,  16,  17],\n",
       "       [ 18,  19,  20,  21,  22,  23,  24,  25,  26],\n",
       "       [ 27,  28,  29,  30,  31,  32,  33,  34,  35]])"
      ]
     },
     "execution_count": 122,
     "metadata": {},
     "output_type": "execute_result"
    }
   ],
   "source": [
    "new2d = np.concatenate([arr2d1,arr2d],axis=0)\n",
    "new2d"
   ]
  },
  {
   "cell_type": "code",
   "execution_count": 123,
   "id": "06135c7e",
   "metadata": {},
   "outputs": [
    {
     "data": {
      "text/plain": [
       "array([[  0,   5,  10,  15,  20,  25,  30,  35,  40,   0,   1,   2,   3,\n",
       "          4,   5,   6,   7,   8],\n",
       "       [ 45,  50,  55,  60,  65,  70,  75,  80,  85,   9,  10,  11,  12,\n",
       "         13,  14,  15,  16,  17],\n",
       "       [ 90,  95, 100, 105, 110, 115, 120, 125, 130,  18,  19,  20,  21,\n",
       "         22,  23,  24,  25,  26],\n",
       "       [135, 140, 145, 150, 155, 160, 165, 170, 175,  27,  28,  29,  30,\n",
       "         31,  32,  33,  34,  35]])"
      ]
     },
     "execution_count": 123,
     "metadata": {},
     "output_type": "execute_result"
    }
   ],
   "source": [
    "new2d = np.concatenate([arr2d1,arr2d],axis=1)\n",
    "new2d"
   ]
  },
  {
   "cell_type": "code",
   "execution_count": 125,
   "id": "ee57a2d6",
   "metadata": {},
   "outputs": [
    {
     "data": {
      "text/plain": [
       "array([[  0,   5,  10,  15,  20,  25,  30,  35,  40],\n",
       "       [ 45,  50,  55,  60,  65,  70,  75,  80,  85],\n",
       "       [ 90,  95, 100, 105, 110, 115, 120, 125, 130],\n",
       "       [135, 140, 145, 150, 155, 160, 165, 170, 175],\n",
       "       [  0,   1,   2,   3,   4,   5,   6,   7,   8],\n",
       "       [  9,  10,  11,  12,  13,  14,  15,  16,  17],\n",
       "       [ 18,  19,  20,  21,  22,  23,  24,  25,  26],\n",
       "       [ 27,  28,  29,  30,  31,  32,  33,  34,  35]])"
      ]
     },
     "execution_count": 125,
     "metadata": {},
     "output_type": "execute_result"
    }
   ],
   "source": [
    "new2d = np.vstack((arr2d1,arr2d))\n",
    "new2d"
   ]
  },
  {
   "cell_type": "code",
   "execution_count": 127,
   "id": "0f000466",
   "metadata": {},
   "outputs": [
    {
     "data": {
      "text/plain": [
       "array([[  0,   5,  10,  15,  20,  25,  30,  35,  40,   0,   1,   2,   3,\n",
       "          4,   5,   6,   7,   8],\n",
       "       [ 45,  50,  55,  60,  65,  70,  75,  80,  85,   9,  10,  11,  12,\n",
       "         13,  14,  15,  16,  17],\n",
       "       [ 90,  95, 100, 105, 110, 115, 120, 125, 130,  18,  19,  20,  21,\n",
       "         22,  23,  24,  25,  26],\n",
       "       [135, 140, 145, 150, 155, 160, 165, 170, 175,  27,  28,  29,  30,\n",
       "         31,  32,  33,  34,  35]])"
      ]
     },
     "execution_count": 127,
     "metadata": {},
     "output_type": "execute_result"
    }
   ],
   "source": [
    "new2d = np.hstack((arr2d1,arr2d)) \n",
    "new2d"
   ]
  },
  {
   "cell_type": "code",
   "execution_count": 129,
   "id": "a602b2d2",
   "metadata": {},
   "outputs": [],
   "source": [
    "a = np.arange(9).reshape(3,3)\n",
    "b = np.arange(10,19).reshape(3,3)"
   ]
  },
  {
   "cell_type": "code",
   "execution_count": 130,
   "id": "512a0526",
   "metadata": {},
   "outputs": [
    {
     "data": {
      "text/plain": [
       "array([[0, 1, 2],\n",
       "       [3, 4, 5],\n",
       "       [6, 7, 8]])"
      ]
     },
     "execution_count": 130,
     "metadata": {},
     "output_type": "execute_result"
    }
   ],
   "source": [
    "a"
   ]
  },
  {
   "cell_type": "code",
   "execution_count": 131,
   "id": "d91a5f86",
   "metadata": {},
   "outputs": [
    {
     "data": {
      "text/plain": [
       "array([[10, 11, 12],\n",
       "       [13, 14, 15],\n",
       "       [16, 17, 18]])"
      ]
     },
     "execution_count": 131,
     "metadata": {},
     "output_type": "execute_result"
    }
   ],
   "source": [
    "b"
   ]
  },
  {
   "cell_type": "code",
   "execution_count": 132,
   "id": "2f85b5d5",
   "metadata": {},
   "outputs": [
    {
     "data": {
      "text/plain": [
       "array([[[ 0, 10],\n",
       "        [ 1, 11],\n",
       "        [ 2, 12]],\n",
       "\n",
       "       [[ 3, 13],\n",
       "        [ 4, 14],\n",
       "        [ 5, 15]],\n",
       "\n",
       "       [[ 6, 16],\n",
       "        [ 7, 17],\n",
       "        [ 8, 18]]])"
      ]
     },
     "execution_count": 132,
     "metadata": {},
     "output_type": "execute_result"
    }
   ],
   "source": [
    "dstack  = np.dstack((a,b))\n",
    "dstack"
   ]
  },
  {
   "cell_type": "code",
   "execution_count": 135,
   "id": "aec00e0a",
   "metadata": {},
   "outputs": [
    {
     "data": {
      "text/plain": [
       "array([[ 0,  1,  2,  3,  4,  5,  6,  7,  8],\n",
       "       [ 9, 10, 11, 12, 13, 14, 15, 16, 17],\n",
       "       [18, 19, 20, 21, 22, 23, 24, 25, 26],\n",
       "       [27, 28, 29, 30, 31, 32, 33, 34, 35]])"
      ]
     },
     "execution_count": 135,
     "metadata": {},
     "output_type": "execute_result"
    }
   ],
   "source": [
    "arr2d"
   ]
  },
  {
   "cell_type": "code",
   "execution_count": 138,
   "id": "c9783c02",
   "metadata": {},
   "outputs": [
    {
     "data": {
      "text/plain": [
       "[array([[ 0,  1,  2],\n",
       "        [ 9, 10, 11],\n",
       "        [18, 19, 20],\n",
       "        [27, 28, 29]]), array([[ 3,  4,  5],\n",
       "        [12, 13, 14],\n",
       "        [21, 22, 23],\n",
       "        [30, 31, 32]]), array([[ 6,  7,  8],\n",
       "        [15, 16, 17],\n",
       "        [24, 25, 26],\n",
       "        [33, 34, 35]])]"
      ]
     },
     "execution_count": 138,
     "metadata": {},
     "output_type": "execute_result"
    }
   ],
   "source": [
    "np.split(arr2d,3,axis=1)"
   ]
  },
  {
   "cell_type": "code",
   "execution_count": 140,
   "id": "dd97fc73",
   "metadata": {},
   "outputs": [
    {
     "data": {
      "text/plain": [
       "[array([[0, 1, 2, 3, 4, 5, 6, 7, 8]]),\n",
       " array([[ 9, 10, 11, 12, 13, 14, 15, 16, 17]]),\n",
       " array([[18, 19, 20, 21, 22, 23, 24, 25, 26]]),\n",
       " array([[27, 28, 29, 30, 31, 32, 33, 34, 35]])]"
      ]
     },
     "execution_count": 140,
     "metadata": {},
     "output_type": "execute_result"
    }
   ],
   "source": [
    "np.split(arr2d,4,axis=0)"
   ]
  },
  {
   "cell_type": "code",
   "execution_count": 47,
   "id": "8117a143",
   "metadata": {},
   "outputs": [],
   "source": [
    "x = np.array([[1], [2], [3]])\n",
    "y = np.array([4, 5, 6])\n",
    "b = np.broadcast(x, y)\n",
    "\n"
   ]
  },
  {
   "cell_type": "code",
   "execution_count": 142,
   "id": "c2d85d17",
   "metadata": {},
   "outputs": [
    {
     "data": {
      "text/plain": [
       "<numpy.broadcast at 0x255496449c0>"
      ]
     },
     "execution_count": 142,
     "metadata": {},
     "output_type": "execute_result"
    }
   ],
   "source": [
    "b"
   ]
  },
  {
   "cell_type": "markdown",
   "id": "a8c278b8",
   "metadata": {},
   "source": [
    "# Pandas\n",
    "   - Series (series obj)\n",
    "   - DataFrame (datraframe obj)"
   ]
  },
  {
   "cell_type": "code",
   "execution_count": 48,
   "id": "20bce3e0",
   "metadata": {},
   "outputs": [],
   "source": [
    "import pandas  as pd"
   ]
  },
  {
   "cell_type": "code",
   "execution_count": 49,
   "id": "cb9add58",
   "metadata": {},
   "outputs": [],
   "source": [
    "s1 = pd.Series(['Nasir', 'Umer', 'Shahzad','Farhan', 'Umer'])"
   ]
  },
  {
   "cell_type": "code",
   "execution_count": 163,
   "id": "4a01b297",
   "metadata": {},
   "outputs": [
    {
     "data": {
      "text/plain": [
       "0      Nasir\n",
       "1       Umer\n",
       "2    Shahzad\n",
       "3     Farhan\n",
       "4       Umer\n",
       "dtype: object"
      ]
     },
     "execution_count": 163,
     "metadata": {},
     "output_type": "execute_result"
    }
   ],
   "source": [
    "s1"
   ]
  },
  {
   "cell_type": "code",
   "execution_count": 164,
   "id": "4bc6707f",
   "metadata": {},
   "outputs": [
    {
     "data": {
      "text/plain": [
       "'Shahzad'"
      ]
     },
     "execution_count": 164,
     "metadata": {},
     "output_type": "execute_result"
    }
   ],
   "source": [
    "# Accessing Elements from series \n",
    "s1[2]"
   ]
  },
  {
   "cell_type": "code",
   "execution_count": 165,
   "id": "70acc9c3",
   "metadata": {},
   "outputs": [
    {
     "data": {
      "text/plain": [
       "'Umer'"
      ]
     },
     "execution_count": 165,
     "metadata": {},
     "output_type": "execute_result"
    }
   ],
   "source": [
    "s1[1]"
   ]
  },
  {
   "cell_type": "code",
   "execution_count": 166,
   "id": "d669b07e",
   "metadata": {},
   "outputs": [
    {
     "name": "stdout",
     "output_type": "stream",
     "text": [
      "<class 'pandas.core.series.Series'>\n"
     ]
    }
   ],
   "source": [
    "print(type(s1))"
   ]
  },
  {
   "cell_type": "code",
   "execution_count": 167,
   "id": "2264d0d7",
   "metadata": {},
   "outputs": [
    {
     "data": {
      "text/plain": [
       "0      Nasir\n",
       "1       Umer\n",
       "2    Shahzad\n",
       "3    Farhana\n",
       "4       Umer\n",
       "dtype: object"
      ]
     },
     "execution_count": 167,
     "metadata": {},
     "output_type": "execute_result"
    }
   ],
   "source": [
    "s1[3] = \"Farhana\"\n",
    "s1"
   ]
  },
  {
   "cell_type": "code",
   "execution_count": 51,
   "id": "82ce8e92",
   "metadata": {},
   "outputs": [
    {
     "data": {
      "text/plain": [
       "2    Shahzad\n",
       "0      Nasir\n",
       "dtype: object"
      ]
     },
     "execution_count": 51,
     "metadata": {},
     "output_type": "execute_result"
    }
   ],
   "source": [
    "s1[[ 2,0]]\n",
    "# fancy Indexing"
   ]
  },
  {
   "cell_type": "code",
   "execution_count": 54,
   "id": "b7cc0c52",
   "metadata": {},
   "outputs": [
    {
     "data": {
      "text/plain": [
       "1    Umer\n",
       "4    Umer\n",
       "dtype: object"
      ]
     },
     "execution_count": 54,
     "metadata": {},
     "output_type": "execute_result"
    }
   ],
   "source": [
    "s1[s1=='Umer']"
   ]
  },
  {
   "cell_type": "code",
   "execution_count": 55,
   "id": "9a365701",
   "metadata": {},
   "outputs": [],
   "source": [
    "s2 = pd.Series([12,24,36,12,6,12,24], index=['apples','oranges','bananas', 'samosas','rolls', 'chickens', 'coldrinks'])\n",
    "# labels / string indices / costomize index"
   ]
  },
  {
   "cell_type": "code",
   "execution_count": 56,
   "id": "cbca8820",
   "metadata": {},
   "outputs": [
    {
     "data": {
      "text/plain": [
       "apples       12\n",
       "oranges      24\n",
       "bananas      36\n",
       "samosas      12\n",
       "rolls         6\n",
       "chickens     12\n",
       "coldrinks    24\n",
       "dtype: int64"
      ]
     },
     "execution_count": 56,
     "metadata": {},
     "output_type": "execute_result"
    }
   ],
   "source": [
    "s2"
   ]
  },
  {
   "cell_type": "code",
   "execution_count": 57,
   "id": "c0d85842",
   "metadata": {},
   "outputs": [
    {
     "data": {
      "text/plain": [
       "Index(['apples', 'oranges', 'bananas', 'samosas', 'rolls', 'chickens',\n",
       "       'coldrinks'],\n",
       "      dtype='object')"
      ]
     },
     "execution_count": 57,
     "metadata": {},
     "output_type": "execute_result"
    }
   ],
   "source": [
    "s2.index"
   ]
  },
  {
   "cell_type": "code",
   "execution_count": 58,
   "id": "05a77442",
   "metadata": {},
   "outputs": [
    {
     "data": {
      "text/plain": [
       "array([12, 24, 36, 12,  6, 12, 24], dtype=int64)"
      ]
     },
     "execution_count": 58,
     "metadata": {},
     "output_type": "execute_result"
    }
   ],
   "source": [
    "s2.values"
   ]
  },
  {
   "cell_type": "code",
   "execution_count": 59,
   "id": "d33898dc",
   "metadata": {},
   "outputs": [
    {
     "data": {
      "text/plain": [
       "dtype('int64')"
      ]
     },
     "execution_count": 59,
     "metadata": {},
     "output_type": "execute_result"
    }
   ],
   "source": [
    "s2.dtype"
   ]
  },
  {
   "cell_type": "code",
   "execution_count": 172,
   "id": "16b1652b",
   "metadata": {},
   "outputs": [
    {
     "data": {
      "text/plain": [
       "12"
      ]
     },
     "execution_count": 172,
     "metadata": {},
     "output_type": "execute_result"
    }
   ],
   "source": [
    "s2['apples']"
   ]
  },
  {
   "cell_type": "code",
   "execution_count": 173,
   "id": "4053dee7",
   "metadata": {},
   "outputs": [
    {
     "data": {
      "text/plain": [
       "12"
      ]
     },
     "execution_count": 173,
     "metadata": {},
     "output_type": "execute_result"
    }
   ],
   "source": [
    "s2['chickens']"
   ]
  },
  {
   "cell_type": "code",
   "execution_count": 174,
   "id": "379b9d47",
   "metadata": {},
   "outputs": [
    {
     "data": {
      "text/plain": [
       "apples       24\n",
       "oranges      48\n",
       "bananas      72\n",
       "samosas      24\n",
       "rolls        12\n",
       "chickens     24\n",
       "coldrinks    48\n",
       "dtype: int64"
      ]
     },
     "execution_count": 174,
     "metadata": {},
     "output_type": "execute_result"
    }
   ],
   "source": [
    "s2*2"
   ]
  },
  {
   "cell_type": "code",
   "execution_count": 61,
   "id": "47e559ee",
   "metadata": {},
   "outputs": [
    {
     "data": {
      "text/plain": [
       "oranges    24\n",
       "bananas    36\n",
       "samosas    12\n",
       "rolls       6\n",
       "dtype: int64"
      ]
     },
     "execution_count": 61,
     "metadata": {},
     "output_type": "execute_result"
    }
   ],
   "source": [
    "s2['oranges':'rolls']\n",
    "# slicing using labels it selects the last label also\n",
    "# where as using integer/default index in slicing, it doesnot select the last index value"
   ]
  },
  {
   "cell_type": "code",
   "execution_count": 62,
   "id": "ced9dd40",
   "metadata": {},
   "outputs": [],
   "source": [
    "s3= pd.Series([12,24,36,12,6,12,24], index=[0,1,2,3,4,5,6])\n",
    "# overriding default index with similar values like 0 to onwards \n",
    "# the numbers will be treated as labels not integers "
   ]
  },
  {
   "cell_type": "code",
   "execution_count": 63,
   "id": "48a44a50",
   "metadata": {},
   "outputs": [
    {
     "data": {
      "text/plain": [
       "0    12\n",
       "1    24\n",
       "2    36\n",
       "3    12\n",
       "4     6\n",
       "5    12\n",
       "6    24\n",
       "dtype: int64"
      ]
     },
     "execution_count": 63,
     "metadata": {},
     "output_type": "execute_result"
    }
   ],
   "source": [
    "s3"
   ]
  },
  {
   "cell_type": "code",
   "execution_count": 64,
   "id": "747b0691",
   "metadata": {},
   "outputs": [
    {
     "data": {
      "text/plain": [
       "3    12\n",
       "4     6\n",
       "5    12\n",
       "dtype: int64"
      ]
     },
     "execution_count": 64,
     "metadata": {},
     "output_type": "execute_result"
    }
   ],
   "source": [
    "s3[3:6]"
   ]
  },
  {
   "cell_type": "code",
   "execution_count": 65,
   "id": "9213c27e",
   "metadata": {},
   "outputs": [
    {
     "data": {
      "text/plain": [
       "3    12\n",
       "4     6\n",
       "5    12\n",
       "dtype: int64"
      ]
     },
     "execution_count": 65,
     "metadata": {},
     "output_type": "execute_result"
    }
   ],
   "source": [
    "s3.loc[3:5] # by labels"
   ]
  },
  {
   "cell_type": "code",
   "execution_count": 66,
   "id": "b04c0375",
   "metadata": {},
   "outputs": [
    {
     "data": {
      "text/plain": [
       "3    12\n",
       "4     6\n",
       "dtype: int64"
      ]
     },
     "execution_count": 66,
     "metadata": {},
     "output_type": "execute_result"
    }
   ],
   "source": [
    "s3.iloc[3:5] # by index"
   ]
  },
  {
   "cell_type": "code",
   "execution_count": 183,
   "id": "d0064528",
   "metadata": {},
   "outputs": [
    {
     "data": {
      "text/plain": [
       "apples       12\n",
       "oranges      24\n",
       "bananas      36\n",
       "samosas      12\n",
       "rolls         6\n",
       "chickens     12\n",
       "coldrinks    24\n",
       "dtype: int64"
      ]
     },
     "execution_count": 183,
     "metadata": {},
     "output_type": "execute_result"
    }
   ],
   "source": [
    "s2"
   ]
  },
  {
   "cell_type": "code",
   "execution_count": 185,
   "id": "5e198471",
   "metadata": {},
   "outputs": [
    {
     "data": {
      "text/plain": [
       "samosas     12\n",
       "rolls        6\n",
       "chickens    12\n",
       "dtype: int64"
      ]
     },
     "execution_count": 185,
     "metadata": {},
     "output_type": "execute_result"
    }
   ],
   "source": [
    "s2.iloc[3:6]"
   ]
  },
  {
   "cell_type": "code",
   "execution_count": 186,
   "id": "f559d673",
   "metadata": {},
   "outputs": [
    {
     "data": {
      "text/plain": [
       "rolls         6\n",
       "chickens     12\n",
       "coldrinks    24\n",
       "dtype: int64"
      ]
     },
     "execution_count": 186,
     "metadata": {},
     "output_type": "execute_result"
    }
   ],
   "source": [
    "s2.loc['rolls':'coldrinks']"
   ]
  },
  {
   "cell_type": "code",
   "execution_count": 187,
   "id": "e2a71a0e",
   "metadata": {},
   "outputs": [
    {
     "data": {
      "text/plain": [
       "apples       12\n",
       "oranges      24\n",
       "bananas      36\n",
       "samosas      12\n",
       "rolls         6\n",
       "chickens     12\n",
       "coldrinks    24\n",
       "dtype: int64"
      ]
     },
     "execution_count": 187,
     "metadata": {},
     "output_type": "execute_result"
    }
   ],
   "source": [
    "s2"
   ]
  },
  {
   "cell_type": "code",
   "execution_count": 189,
   "id": "3b3174c8",
   "metadata": {},
   "outputs": [],
   "source": [
    "s3= pd.Series([12,24,36,12,6,12,24], index=['Apples','Oranges','Bananas', 'Samosas','Rolls', 'Chickens', 'Coldrinks'])"
   ]
  },
  {
   "cell_type": "code",
   "execution_count": 190,
   "id": "1a9ea7b8",
   "metadata": {},
   "outputs": [
    {
     "data": {
      "text/plain": [
       "Apples      NaN\n",
       "Bananas     NaN\n",
       "Chickens    NaN\n",
       "Coldrinks   NaN\n",
       "Oranges     NaN\n",
       "Rolls       NaN\n",
       "Samosas     NaN\n",
       "apples      NaN\n",
       "bananas     NaN\n",
       "chickens    NaN\n",
       "coldrinks   NaN\n",
       "oranges     NaN\n",
       "rolls       NaN\n",
       "samosas     NaN\n",
       "dtype: float64"
      ]
     },
     "execution_count": 190,
     "metadata": {},
     "output_type": "execute_result"
    }
   ],
   "source": [
    "s3 + s2"
   ]
  },
  {
   "cell_type": "markdown",
   "id": "73bf0344",
   "metadata": {},
   "source": [
    "# Alignment"
   ]
  },
  {
   "attachments": {
    "Allignment.png": {
     "image/png": "[encoded data removed]"
    }
   },
   "cell_type": "markdown",
   "id": "2c57f9d0",
   "metadata": {},
   "source": [
    "![Allignment.png](attachment:Allignment.png)"
   ]
  },
  {
   "cell_type": "code",
   "execution_count": 206,
   "id": "5e5476ac",
   "metadata": {},
   "outputs": [],
   "source": [
    "s1 = pd.Series([1,2,3],dtype='int')"
   ]
  },
  {
   "cell_type": "code",
   "execution_count": 207,
   "id": "bbacfd8b",
   "metadata": {},
   "outputs": [
    {
     "data": {
      "text/plain": [
       "0    1\n",
       "1    2\n",
       "2    3\n",
       "dtype: int32"
      ]
     },
     "execution_count": 207,
     "metadata": {},
     "output_type": "execute_result"
    }
   ],
   "source": [
    "s1"
   ]
  },
  {
   "cell_type": "code",
   "execution_count": 204,
   "id": "49099ab9",
   "metadata": {},
   "outputs": [
    {
     "data": {
      "text/plain": [
       "4   NaN\n",
       "dtype: float64"
      ]
     },
     "execution_count": 204,
     "metadata": {},
     "output_type": "execute_result"
    }
   ],
   "source": [
    "s2 = pd.Series([np.nan], index=[4])\n",
    "s2"
   ]
  },
  {
   "cell_type": "code",
   "execution_count": 205,
   "id": "cac5bacf",
   "metadata": {},
   "outputs": [
    {
     "data": {
      "text/plain": [
       "0    1.0\n",
       "1    2.0\n",
       "2    3.0\n",
       "4    NaN\n",
       "dtype: float64"
      ]
     },
     "execution_count": 205,
     "metadata": {},
     "output_type": "execute_result"
    }
   ],
   "source": [
    "s1.append(s2)"
   ]
  },
  {
   "cell_type": "code",
   "execution_count": 69,
   "id": "5fe8a919",
   "metadata": {},
   "outputs": [],
   "source": [
    "s1 = pd.Series(['Nasir', 'Umer', 'Shahzad','Farhan', 'Umer'], index=['director','mananger', 'Clerk', 'manager', 'Supervisor'],name='Staff')"
   ]
  },
  {
   "cell_type": "code",
   "execution_count": 70,
   "id": "d6a31a77",
   "metadata": {},
   "outputs": [
    {
     "data": {
      "text/plain": [
       "director        Nasir\n",
       "mananger         Umer\n",
       "Clerk         Shahzad\n",
       "manager        Farhan\n",
       "Supervisor       Umer\n",
       "Name: Staff, dtype: object"
      ]
     },
     "execution_count": 70,
     "metadata": {},
     "output_type": "execute_result"
    }
   ],
   "source": [
    "s1"
   ]
  },
  {
   "cell_type": "code",
   "execution_count": null,
   "id": "8124c49d",
   "metadata": {},
   "outputs": [],
   "source": []
  }
 ],
 "metadata": {
  "kernelspec": {
   "display_name": "Python 3",
   "language": "python",
   "name": "python3"
  },
  "language_info": {
   "codemirror_mode": {
    "name": "ipython",
    "version": 3
   },
   "file_extension": ".py",
   "mimetype": "text/x-python",
   "name": "python",
   "nbconvert_exporter": "python",
   "pygments_lexer": "ipython3",
   "version": "3.7.4"
  }
 },
 "nbformat": 4,
 "nbformat_minor": 5
}
