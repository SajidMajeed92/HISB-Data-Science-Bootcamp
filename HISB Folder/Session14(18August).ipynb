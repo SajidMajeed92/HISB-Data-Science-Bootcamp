{
 "cells": [
  {
   "cell_type": "markdown",
   "id": "1190d63d",
   "metadata": {},
   "source": [
    "# GroupBy Objects"
   ]
  },
  {
   "cell_type": "code",
   "execution_count": 3,
   "id": "f82779ec",
   "metadata": {},
   "outputs": [],
   "source": [
    "import pandas as pd"
   ]
  },
  {
   "cell_type": "code",
   "execution_count": 4,
   "id": "934966dc",
   "metadata": {},
   "outputs": [],
   "source": [
    "movies  = pd.read_csv('imdb-top-1000.csv')"
   ]
  },
  {
   "cell_type": "code",
   "execution_count": 5,
   "id": "7134d373",
   "metadata": {},
   "outputs": [
    {
     "data": {
      "text/html": [
       "<div>\n",
       "<style scoped>\n",
       "    .dataframe tbody tr th:only-of-type {\n",
       "        vertical-align: middle;\n",
       "    }\n",
       "\n",
       "    .dataframe tbody tr th {\n",
       "        vertical-align: top;\n",
       "    }\n",
       "\n",
       "    .dataframe thead th {\n",
       "        text-align: right;\n",
       "    }\n",
       "</style>\n",
       "<table border=\"1\" class=\"dataframe\">\n",
       "  <thead>\n",
       "    <tr style=\"text-align: right;\">\n",
       "      <th></th>\n",
       "      <th>Series_Title</th>\n",
       "      <th>Released_Year</th>\n",
       "      <th>Runtime</th>\n",
       "      <th>Genre</th>\n",
       "      <th>IMDB_Rating</th>\n",
       "      <th>Director</th>\n",
       "      <th>Star1</th>\n",
       "      <th>No_of_Votes</th>\n",
       "      <th>Gross</th>\n",
       "      <th>Metascore</th>\n",
       "    </tr>\n",
       "  </thead>\n",
       "  <tbody>\n",
       "    <tr>\n",
       "      <td>0</td>\n",
       "      <td>The Shawshank Redemption</td>\n",
       "      <td>1994</td>\n",
       "      <td>142</td>\n",
       "      <td>Drama</td>\n",
       "      <td>9.3</td>\n",
       "      <td>Frank Darabont</td>\n",
       "      <td>Tim Robbins</td>\n",
       "      <td>2343110</td>\n",
       "      <td>28341469.0</td>\n",
       "      <td>80.0</td>\n",
       "    </tr>\n",
       "    <tr>\n",
       "      <td>1</td>\n",
       "      <td>The Godfather</td>\n",
       "      <td>1972</td>\n",
       "      <td>175</td>\n",
       "      <td>Crime</td>\n",
       "      <td>9.2</td>\n",
       "      <td>Francis Ford Coppola</td>\n",
       "      <td>Marlon Brando</td>\n",
       "      <td>1620367</td>\n",
       "      <td>134966411.0</td>\n",
       "      <td>100.0</td>\n",
       "    </tr>\n",
       "    <tr>\n",
       "      <td>2</td>\n",
       "      <td>The Dark Knight</td>\n",
       "      <td>2008</td>\n",
       "      <td>152</td>\n",
       "      <td>Action</td>\n",
       "      <td>9.0</td>\n",
       "      <td>Christopher Nolan</td>\n",
       "      <td>Christian Bale</td>\n",
       "      <td>2303232</td>\n",
       "      <td>534858444.0</td>\n",
       "      <td>84.0</td>\n",
       "    </tr>\n",
       "    <tr>\n",
       "      <td>3</td>\n",
       "      <td>The Godfather: Part II</td>\n",
       "      <td>1974</td>\n",
       "      <td>202</td>\n",
       "      <td>Crime</td>\n",
       "      <td>9.0</td>\n",
       "      <td>Francis Ford Coppola</td>\n",
       "      <td>Al Pacino</td>\n",
       "      <td>1129952</td>\n",
       "      <td>57300000.0</td>\n",
       "      <td>90.0</td>\n",
       "    </tr>\n",
       "    <tr>\n",
       "      <td>4</td>\n",
       "      <td>12 Angry Men</td>\n",
       "      <td>1957</td>\n",
       "      <td>96</td>\n",
       "      <td>Crime</td>\n",
       "      <td>9.0</td>\n",
       "      <td>Sidney Lumet</td>\n",
       "      <td>Henry Fonda</td>\n",
       "      <td>689845</td>\n",
       "      <td>4360000.0</td>\n",
       "      <td>96.0</td>\n",
       "    </tr>\n",
       "  </tbody>\n",
       "</table>\n",
       "</div>"
      ],
      "text/plain": [
       "               Series_Title Released_Year  Runtime   Genre  IMDB_Rating  \\\n",
       "0  The Shawshank Redemption          1994      142   Drama          9.3   \n",
       "1             The Godfather          1972      175   Crime          9.2   \n",
       "2           The Dark Knight          2008      152  Action          9.0   \n",
       "3    The Godfather: Part II          1974      202   Crime          9.0   \n",
       "4              12 Angry Men          1957       96   Crime          9.0   \n",
       "\n",
       "               Director           Star1  No_of_Votes        Gross  Metascore  \n",
       "0        Frank Darabont     Tim Robbins      2343110   28341469.0       80.0  \n",
       "1  Francis Ford Coppola   Marlon Brando      1620367  134966411.0      100.0  \n",
       "2     Christopher Nolan  Christian Bale      2303232  534858444.0       84.0  \n",
       "3  Francis Ford Coppola       Al Pacino      1129952   57300000.0       90.0  \n",
       "4          Sidney Lumet     Henry Fonda       689845    4360000.0       96.0  "
      ]
     },
     "execution_count": 5,
     "metadata": {},
     "output_type": "execute_result"
    }
   ],
   "source": [
    "movies.head()"
   ]
  },
  {
   "cell_type": "code",
   "execution_count": 6,
   "id": "66169c89",
   "metadata": {},
   "outputs": [
    {
     "data": {
      "text/plain": [
       "(1000, 10)"
      ]
     },
     "execution_count": 6,
     "metadata": {},
     "output_type": "execute_result"
    }
   ],
   "source": [
    "movies.shape"
   ]
  },
  {
   "cell_type": "code",
   "execution_count": 7,
   "id": "b4b8727f",
   "metadata": {},
   "outputs": [
    {
     "data": {
      "text/plain": [
       "Drama        289\n",
       "Action       172\n",
       "Comedy       155\n",
       "Crime        107\n",
       "Biography     88\n",
       "Animation     82\n",
       "Adventure     72\n",
       "Mystery       12\n",
       "Horror        11\n",
       "Western        4\n",
       "Film-Noir      3\n",
       "Fantasy        2\n",
       "Family         2\n",
       "Thriller       1\n",
       "Name: Genre, dtype: int64"
      ]
     },
     "execution_count": 7,
     "metadata": {},
     "output_type": "execute_result"
    }
   ],
   "source": [
    "movies['Genre'].value_counts()"
   ]
  },
  {
   "cell_type": "code",
   "execution_count": 8,
   "id": "153baab7",
   "metadata": {},
   "outputs": [
    {
     "data": {
      "text/html": [
       "<div>\n",
       "<style scoped>\n",
       "    .dataframe tbody tr th:only-of-type {\n",
       "        vertical-align: middle;\n",
       "    }\n",
       "\n",
       "    .dataframe tbody tr th {\n",
       "        vertical-align: top;\n",
       "    }\n",
       "\n",
       "    .dataframe thead th {\n",
       "        text-align: right;\n",
       "    }\n",
       "</style>\n",
       "<table border=\"1\" class=\"dataframe\">\n",
       "  <thead>\n",
       "    <tr style=\"text-align: right;\">\n",
       "      <th></th>\n",
       "      <th>Series_Title</th>\n",
       "      <th>Released_Year</th>\n",
       "      <th>Runtime</th>\n",
       "      <th>Genre</th>\n",
       "      <th>IMDB_Rating</th>\n",
       "      <th>Director</th>\n",
       "      <th>Star1</th>\n",
       "      <th>No_of_Votes</th>\n",
       "      <th>Gross</th>\n",
       "      <th>Metascore</th>\n",
       "    </tr>\n",
       "  </thead>\n",
       "  <tbody>\n",
       "    <tr>\n",
       "      <td>2</td>\n",
       "      <td>The Dark Knight</td>\n",
       "      <td>2008</td>\n",
       "      <td>152</td>\n",
       "      <td>Action</td>\n",
       "      <td>9.0</td>\n",
       "      <td>Christopher Nolan</td>\n",
       "      <td>Christian Bale</td>\n",
       "      <td>2303232</td>\n",
       "      <td>534858444.0</td>\n",
       "      <td>84.0</td>\n",
       "    </tr>\n",
       "    <tr>\n",
       "      <td>5</td>\n",
       "      <td>The Lord of the Rings: The Return of the King</td>\n",
       "      <td>2003</td>\n",
       "      <td>201</td>\n",
       "      <td>Action</td>\n",
       "      <td>8.9</td>\n",
       "      <td>Peter Jackson</td>\n",
       "      <td>Elijah Wood</td>\n",
       "      <td>1642758</td>\n",
       "      <td>377845905.0</td>\n",
       "      <td>94.0</td>\n",
       "    </tr>\n",
       "    <tr>\n",
       "      <td>8</td>\n",
       "      <td>Inception</td>\n",
       "      <td>2010</td>\n",
       "      <td>148</td>\n",
       "      <td>Action</td>\n",
       "      <td>8.8</td>\n",
       "      <td>Christopher Nolan</td>\n",
       "      <td>Leonardo DiCaprio</td>\n",
       "      <td>2067042</td>\n",
       "      <td>292576195.0</td>\n",
       "      <td>74.0</td>\n",
       "    </tr>\n",
       "    <tr>\n",
       "      <td>10</td>\n",
       "      <td>The Lord of the Rings: The Fellowship of the Ring</td>\n",
       "      <td>2001</td>\n",
       "      <td>178</td>\n",
       "      <td>Action</td>\n",
       "      <td>8.8</td>\n",
       "      <td>Peter Jackson</td>\n",
       "      <td>Elijah Wood</td>\n",
       "      <td>1661481</td>\n",
       "      <td>315544750.0</td>\n",
       "      <td>92.0</td>\n",
       "    </tr>\n",
       "    <tr>\n",
       "      <td>13</td>\n",
       "      <td>The Lord of the Rings: The Two Towers</td>\n",
       "      <td>2002</td>\n",
       "      <td>179</td>\n",
       "      <td>Action</td>\n",
       "      <td>8.7</td>\n",
       "      <td>Peter Jackson</td>\n",
       "      <td>Elijah Wood</td>\n",
       "      <td>1485555</td>\n",
       "      <td>342551365.0</td>\n",
       "      <td>87.0</td>\n",
       "    </tr>\n",
       "    <tr>\n",
       "      <td>...</td>\n",
       "      <td>...</td>\n",
       "      <td>...</td>\n",
       "      <td>...</td>\n",
       "      <td>...</td>\n",
       "      <td>...</td>\n",
       "      <td>...</td>\n",
       "      <td>...</td>\n",
       "      <td>...</td>\n",
       "      <td>...</td>\n",
       "      <td>...</td>\n",
       "    </tr>\n",
       "    <tr>\n",
       "      <td>968</td>\n",
       "      <td>Falling Down</td>\n",
       "      <td>1993</td>\n",
       "      <td>113</td>\n",
       "      <td>Action</td>\n",
       "      <td>7.6</td>\n",
       "      <td>Joel Schumacher</td>\n",
       "      <td>Michael Douglas</td>\n",
       "      <td>171640</td>\n",
       "      <td>40903593.0</td>\n",
       "      <td>56.0</td>\n",
       "    </tr>\n",
       "    <tr>\n",
       "      <td>979</td>\n",
       "      <td>Lethal Weapon</td>\n",
       "      <td>1987</td>\n",
       "      <td>109</td>\n",
       "      <td>Action</td>\n",
       "      <td>7.6</td>\n",
       "      <td>Richard Donner</td>\n",
       "      <td>Mel Gibson</td>\n",
       "      <td>236894</td>\n",
       "      <td>65207127.0</td>\n",
       "      <td>68.0</td>\n",
       "    </tr>\n",
       "    <tr>\n",
       "      <td>982</td>\n",
       "      <td>Mad Max 2</td>\n",
       "      <td>1981</td>\n",
       "      <td>96</td>\n",
       "      <td>Action</td>\n",
       "      <td>7.6</td>\n",
       "      <td>George Miller</td>\n",
       "      <td>Mel Gibson</td>\n",
       "      <td>166588</td>\n",
       "      <td>12465371.0</td>\n",
       "      <td>77.0</td>\n",
       "    </tr>\n",
       "    <tr>\n",
       "      <td>983</td>\n",
       "      <td>The Warriors</td>\n",
       "      <td>1979</td>\n",
       "      <td>92</td>\n",
       "      <td>Action</td>\n",
       "      <td>7.6</td>\n",
       "      <td>Walter Hill</td>\n",
       "      <td>Michael Beck</td>\n",
       "      <td>93878</td>\n",
       "      <td>22490039.0</td>\n",
       "      <td>65.0</td>\n",
       "    </tr>\n",
       "    <tr>\n",
       "      <td>985</td>\n",
       "      <td>Escape from Alcatraz</td>\n",
       "      <td>1979</td>\n",
       "      <td>112</td>\n",
       "      <td>Action</td>\n",
       "      <td>7.6</td>\n",
       "      <td>Don Siegel</td>\n",
       "      <td>Clint Eastwood</td>\n",
       "      <td>121731</td>\n",
       "      <td>43000000.0</td>\n",
       "      <td>76.0</td>\n",
       "    </tr>\n",
       "  </tbody>\n",
       "</table>\n",
       "<p>172 rows × 10 columns</p>\n",
       "</div>"
      ],
      "text/plain": [
       "                                          Series_Title Released_Year  Runtime  \\\n",
       "2                                      The Dark Knight          2008      152   \n",
       "5        The Lord of the Rings: The Return of the King          2003      201   \n",
       "8                                            Inception          2010      148   \n",
       "10   The Lord of the Rings: The Fellowship of the Ring          2001      178   \n",
       "13               The Lord of the Rings: The Two Towers          2002      179   \n",
       "..                                                 ...           ...      ...   \n",
       "968                                       Falling Down          1993      113   \n",
       "979                                      Lethal Weapon          1987      109   \n",
       "982                                          Mad Max 2          1981       96   \n",
       "983                                       The Warriors          1979       92   \n",
       "985                               Escape from Alcatraz          1979      112   \n",
       "\n",
       "      Genre  IMDB_Rating           Director              Star1  No_of_Votes  \\\n",
       "2    Action          9.0  Christopher Nolan     Christian Bale      2303232   \n",
       "5    Action          8.9      Peter Jackson        Elijah Wood      1642758   \n",
       "8    Action          8.8  Christopher Nolan  Leonardo DiCaprio      2067042   \n",
       "10   Action          8.8      Peter Jackson        Elijah Wood      1661481   \n",
       "13   Action          8.7      Peter Jackson        Elijah Wood      1485555   \n",
       "..      ...          ...                ...                ...          ...   \n",
       "968  Action          7.6    Joel Schumacher    Michael Douglas       171640   \n",
       "979  Action          7.6     Richard Donner         Mel Gibson       236894   \n",
       "982  Action          7.6      George Miller         Mel Gibson       166588   \n",
       "983  Action          7.6        Walter Hill       Michael Beck        93878   \n",
       "985  Action          7.6         Don Siegel     Clint Eastwood       121731   \n",
       "\n",
       "           Gross  Metascore  \n",
       "2    534858444.0       84.0  \n",
       "5    377845905.0       94.0  \n",
       "8    292576195.0       74.0  \n",
       "10   315544750.0       92.0  \n",
       "13   342551365.0       87.0  \n",
       "..           ...        ...  \n",
       "968   40903593.0       56.0  \n",
       "979   65207127.0       68.0  \n",
       "982   12465371.0       77.0  \n",
       "983   22490039.0       65.0  \n",
       "985   43000000.0       76.0  \n",
       "\n",
       "[172 rows x 10 columns]"
      ]
     },
     "execution_count": 8,
     "metadata": {},
     "output_type": "execute_result"
    }
   ],
   "source": [
    "movies[movies.Genre==\"Action\"]"
   ]
  },
  {
   "cell_type": "code",
   "execution_count": 9,
   "id": "0772cbd1",
   "metadata": {},
   "outputs": [
    {
     "data": {
      "text/plain": [
       "<pandas.core.groupby.generic.DataFrameGroupBy object at 0x000001AFB9732A08>"
      ]
     },
     "execution_count": 9,
     "metadata": {},
     "output_type": "execute_result"
    }
   ],
   "source": [
    "movies.groupby('Genre')"
   ]
  },
  {
   "cell_type": "code",
   "execution_count": 10,
   "id": "e6b422c3",
   "metadata": {},
   "outputs": [
    {
     "data": {
      "text/plain": [
       "{'Action': Int64Index([  2,   5,   8,  10,  13,  14,  16,  29,  30,  31,\n",
       "             ...\n",
       "             930, 931, 944, 951, 963, 968, 979, 982, 983, 985],\n",
       "            dtype='int64', length=172),\n",
       " 'Adventure': Int64Index([ 21,  47,  93, 110, 114, 116, 118, 137, 178, 179, 191, 193, 209,\n",
       "             226, 231, 247, 267, 273, 281, 300, 301, 304, 306, 323, 329, 361,\n",
       "             366, 377, 402, 406, 415, 426, 458, 470, 497, 498, 506, 513, 514,\n",
       "             537, 549, 552, 553, 566, 576, 604, 609, 618, 638, 647, 675, 681,\n",
       "             686, 692, 711, 713, 739, 755, 781, 797, 798, 851, 873, 884, 912,\n",
       "             919, 947, 957, 964, 966, 984, 991],\n",
       "            dtype='int64'),\n",
       " 'Animation': Int64Index([ 23,  43,  46,  56,  58,  61,  66,  70, 101, 135, 146, 151, 158,\n",
       "             170, 197, 205, 211, 213, 219, 229, 230, 242, 245, 246, 270, 330,\n",
       "             332, 358, 367, 378, 386, 389, 394, 395, 399, 401, 405, 409, 469,\n",
       "             499, 510, 516, 518, 522, 578, 586, 592, 595, 596, 599, 633, 640,\n",
       "             643, 651, 665, 672, 694, 728, 740, 741, 744, 756, 758, 761, 771,\n",
       "             783, 796, 799, 822, 828, 843, 875, 891, 892, 902, 906, 920, 956,\n",
       "             971, 976, 986, 992],\n",
       "            dtype='int64'),\n",
       " 'Biography': Int64Index([  7,  15,  18,  35,  38,  54, 102, 107, 131, 139, 147, 157, 159,\n",
       "             173, 176, 212, 215, 218, 228, 235, 243, 263, 276, 282, 290, 298,\n",
       "             317, 328, 338, 342, 346, 359, 360, 365, 372, 373, 385, 411, 416,\n",
       "             418, 424, 429, 484, 525, 536, 542, 545, 575, 579, 587, 600, 606,\n",
       "             614, 622, 632, 635, 644, 649, 650, 657, 671, 673, 684, 729, 748,\n",
       "             753, 757, 759, 766, 770, 779, 809, 810, 815, 820, 831, 849, 858,\n",
       "             877, 882, 897, 910, 915, 923, 940, 949, 952, 987],\n",
       "            dtype='int64'),\n",
       " 'Comedy': Int64Index([ 19,  26,  51,  52,  64,  78,  83,  95,  96, 112,\n",
       "             ...\n",
       "             969, 970, 972, 973, 975, 977, 978, 989, 994, 995],\n",
       "            dtype='int64', length=155),\n",
       " 'Crime': Int64Index([  1,   3,   4,   6,  22,  25,  27,  28,  33,  37,\n",
       "             ...\n",
       "             922, 926, 938, 939, 954, 958, 960, 974, 980, 999],\n",
       "            dtype='int64', length=107),\n",
       " 'Drama': Int64Index([  0,   9,  11,  17,  20,  24,  32,  34,  36,  40,\n",
       "             ...\n",
       "             955, 962, 965, 981, 988, 990, 993, 996, 997, 998],\n",
       "            dtype='int64', length=289),\n",
       " 'Family': Int64Index([688, 698], dtype='int64'),\n",
       " 'Fantasy': Int64Index([321, 568], dtype='int64'),\n",
       " 'Film-Noir': Int64Index([309, 456, 712], dtype='int64'),\n",
       " 'Horror': Int64Index([49, 75, 271, 419, 544, 707, 724, 844, 876, 932, 948], dtype='int64'),\n",
       " 'Mystery': Int64Index([69, 81, 119, 145, 220, 393, 420, 714, 829, 899, 959, 961], dtype='int64'),\n",
       " 'Thriller': Int64Index([700], dtype='int64'),\n",
       " 'Western': Int64Index([12, 48, 115, 691], dtype='int64')}"
      ]
     },
     "execution_count": 10,
     "metadata": {},
     "output_type": "execute_result"
    }
   ],
   "source": [
    "movies.groupby('Genre').groups"
   ]
  },
  {
   "cell_type": "code",
   "execution_count": 11,
   "id": "5cb5e175",
   "metadata": {},
   "outputs": [
    {
     "data": {
      "text/html": [
       "<div>\n",
       "<style scoped>\n",
       "    .dataframe tbody tr th:only-of-type {\n",
       "        vertical-align: middle;\n",
       "    }\n",
       "\n",
       "    .dataframe tbody tr th {\n",
       "        vertical-align: top;\n",
       "    }\n",
       "\n",
       "    .dataframe thead th {\n",
       "        text-align: right;\n",
       "    }\n",
       "</style>\n",
       "<table border=\"1\" class=\"dataframe\">\n",
       "  <thead>\n",
       "    <tr style=\"text-align: right;\">\n",
       "      <th></th>\n",
       "      <th>Series_Title</th>\n",
       "      <th>Released_Year</th>\n",
       "      <th>Runtime</th>\n",
       "      <th>Genre</th>\n",
       "      <th>IMDB_Rating</th>\n",
       "      <th>Director</th>\n",
       "      <th>Star1</th>\n",
       "      <th>No_of_Votes</th>\n",
       "      <th>Gross</th>\n",
       "      <th>Metascore</th>\n",
       "    </tr>\n",
       "  </thead>\n",
       "  <tbody>\n",
       "    <tr>\n",
       "      <td>1</td>\n",
       "      <td>The Godfather</td>\n",
       "      <td>1972</td>\n",
       "      <td>175</td>\n",
       "      <td>Crime</td>\n",
       "      <td>9.2</td>\n",
       "      <td>Francis Ford Coppola</td>\n",
       "      <td>Marlon Brando</td>\n",
       "      <td>1620367</td>\n",
       "      <td>134966411.0</td>\n",
       "      <td>100.0</td>\n",
       "    </tr>\n",
       "    <tr>\n",
       "      <td>3</td>\n",
       "      <td>The Godfather: Part II</td>\n",
       "      <td>1974</td>\n",
       "      <td>202</td>\n",
       "      <td>Crime</td>\n",
       "      <td>9.0</td>\n",
       "      <td>Francis Ford Coppola</td>\n",
       "      <td>Al Pacino</td>\n",
       "      <td>1129952</td>\n",
       "      <td>57300000.0</td>\n",
       "      <td>90.0</td>\n",
       "    </tr>\n",
       "    <tr>\n",
       "      <td>4</td>\n",
       "      <td>12 Angry Men</td>\n",
       "      <td>1957</td>\n",
       "      <td>96</td>\n",
       "      <td>Crime</td>\n",
       "      <td>9.0</td>\n",
       "      <td>Sidney Lumet</td>\n",
       "      <td>Henry Fonda</td>\n",
       "      <td>689845</td>\n",
       "      <td>4360000.0</td>\n",
       "      <td>96.0</td>\n",
       "    </tr>\n",
       "    <tr>\n",
       "      <td>6</td>\n",
       "      <td>Pulp Fiction</td>\n",
       "      <td>1994</td>\n",
       "      <td>154</td>\n",
       "      <td>Crime</td>\n",
       "      <td>8.9</td>\n",
       "      <td>Quentin Tarantino</td>\n",
       "      <td>John Travolta</td>\n",
       "      <td>1826188</td>\n",
       "      <td>107928762.0</td>\n",
       "      <td>94.0</td>\n",
       "    </tr>\n",
       "    <tr>\n",
       "      <td>22</td>\n",
       "      <td>Cidade de Deus</td>\n",
       "      <td>2002</td>\n",
       "      <td>130</td>\n",
       "      <td>Crime</td>\n",
       "      <td>8.6</td>\n",
       "      <td>Fernando Meirelles</td>\n",
       "      <td>Kátia Lund</td>\n",
       "      <td>699256</td>\n",
       "      <td>7563397.0</td>\n",
       "      <td>79.0</td>\n",
       "    </tr>\n",
       "    <tr>\n",
       "      <td>...</td>\n",
       "      <td>...</td>\n",
       "      <td>...</td>\n",
       "      <td>...</td>\n",
       "      <td>...</td>\n",
       "      <td>...</td>\n",
       "      <td>...</td>\n",
       "      <td>...</td>\n",
       "      <td>...</td>\n",
       "      <td>...</td>\n",
       "      <td>...</td>\n",
       "    </tr>\n",
       "    <tr>\n",
       "      <td>958</td>\n",
       "      <td>Funny Games</td>\n",
       "      <td>1997</td>\n",
       "      <td>108</td>\n",
       "      <td>Crime</td>\n",
       "      <td>7.6</td>\n",
       "      <td>Michael Haneke</td>\n",
       "      <td>Susanne Lothar</td>\n",
       "      <td>65058</td>\n",
       "      <td>217345863.0</td>\n",
       "      <td>69.0</td>\n",
       "    </tr>\n",
       "    <tr>\n",
       "      <td>960</td>\n",
       "      <td>Sleepers</td>\n",
       "      <td>1996</td>\n",
       "      <td>147</td>\n",
       "      <td>Crime</td>\n",
       "      <td>7.6</td>\n",
       "      <td>Barry Levinson</td>\n",
       "      <td>Robert De Niro</td>\n",
       "      <td>186734</td>\n",
       "      <td>49100000.0</td>\n",
       "      <td>49.0</td>\n",
       "    </tr>\n",
       "    <tr>\n",
       "      <td>974</td>\n",
       "      <td>The Godfather: Part III</td>\n",
       "      <td>1990</td>\n",
       "      <td>162</td>\n",
       "      <td>Crime</td>\n",
       "      <td>7.6</td>\n",
       "      <td>Francis Ford Coppola</td>\n",
       "      <td>Al Pacino</td>\n",
       "      <td>359809</td>\n",
       "      <td>66666062.0</td>\n",
       "      <td>60.0</td>\n",
       "    </tr>\n",
       "    <tr>\n",
       "      <td>980</td>\n",
       "      <td>Blood Simple</td>\n",
       "      <td>1984</td>\n",
       "      <td>99</td>\n",
       "      <td>Crime</td>\n",
       "      <td>7.6</td>\n",
       "      <td>Joel Coen</td>\n",
       "      <td>Ethan Coen</td>\n",
       "      <td>87745</td>\n",
       "      <td>2150000.0</td>\n",
       "      <td>82.0</td>\n",
       "    </tr>\n",
       "    <tr>\n",
       "      <td>999</td>\n",
       "      <td>The 39 Steps</td>\n",
       "      <td>1935</td>\n",
       "      <td>86</td>\n",
       "      <td>Crime</td>\n",
       "      <td>7.6</td>\n",
       "      <td>Alfred Hitchcock</td>\n",
       "      <td>Robert Donat</td>\n",
       "      <td>51853</td>\n",
       "      <td>302787539.0</td>\n",
       "      <td>93.0</td>\n",
       "    </tr>\n",
       "  </tbody>\n",
       "</table>\n",
       "<p>107 rows × 10 columns</p>\n",
       "</div>"
      ],
      "text/plain": [
       "                Series_Title Released_Year  Runtime  Genre  IMDB_Rating  \\\n",
       "1              The Godfather          1972      175  Crime          9.2   \n",
       "3     The Godfather: Part II          1974      202  Crime          9.0   \n",
       "4               12 Angry Men          1957       96  Crime          9.0   \n",
       "6               Pulp Fiction          1994      154  Crime          8.9   \n",
       "22            Cidade de Deus          2002      130  Crime          8.6   \n",
       "..                       ...           ...      ...    ...          ...   \n",
       "958              Funny Games          1997      108  Crime          7.6   \n",
       "960                 Sleepers          1996      147  Crime          7.6   \n",
       "974  The Godfather: Part III          1990      162  Crime          7.6   \n",
       "980             Blood Simple          1984       99  Crime          7.6   \n",
       "999             The 39 Steps          1935       86  Crime          7.6   \n",
       "\n",
       "                 Director           Star1  No_of_Votes        Gross  Metascore  \n",
       "1    Francis Ford Coppola   Marlon Brando      1620367  134966411.0      100.0  \n",
       "3    Francis Ford Coppola       Al Pacino      1129952   57300000.0       90.0  \n",
       "4            Sidney Lumet     Henry Fonda       689845    4360000.0       96.0  \n",
       "6       Quentin Tarantino   John Travolta      1826188  107928762.0       94.0  \n",
       "22     Fernando Meirelles      Kátia Lund       699256    7563397.0       79.0  \n",
       "..                    ...             ...          ...          ...        ...  \n",
       "958        Michael Haneke  Susanne Lothar        65058  217345863.0       69.0  \n",
       "960        Barry Levinson  Robert De Niro       186734   49100000.0       49.0  \n",
       "974  Francis Ford Coppola       Al Pacino       359809   66666062.0       60.0  \n",
       "980             Joel Coen      Ethan Coen        87745    2150000.0       82.0  \n",
       "999      Alfred Hitchcock    Robert Donat        51853  302787539.0       93.0  \n",
       "\n",
       "[107 rows x 10 columns]"
      ]
     },
     "execution_count": 11,
     "metadata": {},
     "output_type": "execute_result"
    }
   ],
   "source": [
    "movies.groupby('Genre').get_group('Crime')"
   ]
  },
  {
   "cell_type": "code",
   "execution_count": 12,
   "id": "ed21ceae",
   "metadata": {},
   "outputs": [
    {
     "data": {
      "text/html": [
       "<div>\n",
       "<style scoped>\n",
       "    .dataframe tbody tr th:only-of-type {\n",
       "        vertical-align: middle;\n",
       "    }\n",
       "\n",
       "    .dataframe tbody tr th {\n",
       "        vertical-align: top;\n",
       "    }\n",
       "\n",
       "    .dataframe thead th {\n",
       "        text-align: right;\n",
       "    }\n",
       "</style>\n",
       "<table border=\"1\" class=\"dataframe\">\n",
       "  <thead>\n",
       "    <tr style=\"text-align: right;\">\n",
       "      <th></th>\n",
       "      <th>Series_Title</th>\n",
       "      <th>Released_Year</th>\n",
       "      <th>Runtime</th>\n",
       "      <th>Genre</th>\n",
       "      <th>IMDB_Rating</th>\n",
       "      <th>Director</th>\n",
       "      <th>Star1</th>\n",
       "      <th>No_of_Votes</th>\n",
       "      <th>Gross</th>\n",
       "      <th>Metascore</th>\n",
       "    </tr>\n",
       "  </thead>\n",
       "  <tbody>\n",
       "    <tr>\n",
       "      <td>23</td>\n",
       "      <td>Sen to Chihiro no kamikakushi</td>\n",
       "      <td>2001</td>\n",
       "      <td>125</td>\n",
       "      <td>Animation</td>\n",
       "      <td>8.6</td>\n",
       "      <td>Hayao Miyazaki</td>\n",
       "      <td>Daveigh Chase</td>\n",
       "      <td>651376</td>\n",
       "      <td>10055859.0</td>\n",
       "      <td>96.0</td>\n",
       "    </tr>\n",
       "    <tr>\n",
       "      <td>43</td>\n",
       "      <td>The Lion King</td>\n",
       "      <td>1994</td>\n",
       "      <td>88</td>\n",
       "      <td>Animation</td>\n",
       "      <td>8.5</td>\n",
       "      <td>Roger Allers</td>\n",
       "      <td>Rob Minkoff</td>\n",
       "      <td>942045</td>\n",
       "      <td>422783777.0</td>\n",
       "      <td>88.0</td>\n",
       "    </tr>\n",
       "    <tr>\n",
       "      <td>46</td>\n",
       "      <td>Hotaru no haka</td>\n",
       "      <td>1988</td>\n",
       "      <td>89</td>\n",
       "      <td>Animation</td>\n",
       "      <td>8.5</td>\n",
       "      <td>Isao Takahata</td>\n",
       "      <td>Tsutomu Tatsumi</td>\n",
       "      <td>235231</td>\n",
       "      <td>150734678.0</td>\n",
       "      <td>94.0</td>\n",
       "    </tr>\n",
       "    <tr>\n",
       "      <td>56</td>\n",
       "      <td>Kimi no na wa.</td>\n",
       "      <td>2016</td>\n",
       "      <td>106</td>\n",
       "      <td>Animation</td>\n",
       "      <td>8.4</td>\n",
       "      <td>Makoto Shinkai</td>\n",
       "      <td>Ryûnosuke Kamiki</td>\n",
       "      <td>194838</td>\n",
       "      <td>5017246.0</td>\n",
       "      <td>79.0</td>\n",
       "    </tr>\n",
       "    <tr>\n",
       "      <td>58</td>\n",
       "      <td>Spider-Man: Into the Spider-Verse</td>\n",
       "      <td>2018</td>\n",
       "      <td>117</td>\n",
       "      <td>Animation</td>\n",
       "      <td>8.4</td>\n",
       "      <td>Bob Persichetti</td>\n",
       "      <td>Peter Ramsey</td>\n",
       "      <td>375110</td>\n",
       "      <td>190241310.0</td>\n",
       "      <td>87.0</td>\n",
       "    </tr>\n",
       "    <tr>\n",
       "      <td>...</td>\n",
       "      <td>...</td>\n",
       "      <td>...</td>\n",
       "      <td>...</td>\n",
       "      <td>...</td>\n",
       "      <td>...</td>\n",
       "      <td>...</td>\n",
       "      <td>...</td>\n",
       "      <td>...</td>\n",
       "      <td>...</td>\n",
       "      <td>...</td>\n",
       "    </tr>\n",
       "    <tr>\n",
       "      <td>956</td>\n",
       "      <td>Mulan</td>\n",
       "      <td>1998</td>\n",
       "      <td>88</td>\n",
       "      <td>Animation</td>\n",
       "      <td>7.6</td>\n",
       "      <td>Tony Bancroft</td>\n",
       "      <td>Barry Cook</td>\n",
       "      <td>256906</td>\n",
       "      <td>120620254.0</td>\n",
       "      <td>71.0</td>\n",
       "    </tr>\n",
       "    <tr>\n",
       "      <td>971</td>\n",
       "      <td>Omohide poro poro</td>\n",
       "      <td>1991</td>\n",
       "      <td>118</td>\n",
       "      <td>Animation</td>\n",
       "      <td>7.6</td>\n",
       "      <td>Isao Takahata</td>\n",
       "      <td>Miki Imai</td>\n",
       "      <td>27071</td>\n",
       "      <td>453243.0</td>\n",
       "      <td>90.0</td>\n",
       "    </tr>\n",
       "    <tr>\n",
       "      <td>976</td>\n",
       "      <td>The Little Mermaid</td>\n",
       "      <td>1989</td>\n",
       "      <td>83</td>\n",
       "      <td>Animation</td>\n",
       "      <td>7.6</td>\n",
       "      <td>Ron Clements</td>\n",
       "      <td>John Musker</td>\n",
       "      <td>237696</td>\n",
       "      <td>111543479.0</td>\n",
       "      <td>88.0</td>\n",
       "    </tr>\n",
       "    <tr>\n",
       "      <td>986</td>\n",
       "      <td>Watership Down</td>\n",
       "      <td>1978</td>\n",
       "      <td>91</td>\n",
       "      <td>Animation</td>\n",
       "      <td>7.6</td>\n",
       "      <td>Martin Rosen</td>\n",
       "      <td>John Hubley</td>\n",
       "      <td>33656</td>\n",
       "      <td>232841485.0</td>\n",
       "      <td>64.0</td>\n",
       "    </tr>\n",
       "    <tr>\n",
       "      <td>992</td>\n",
       "      <td>The Jungle Book</td>\n",
       "      <td>1967</td>\n",
       "      <td>78</td>\n",
       "      <td>Animation</td>\n",
       "      <td>7.6</td>\n",
       "      <td>Wolfgang Reitherman</td>\n",
       "      <td>Phil Harris</td>\n",
       "      <td>166409</td>\n",
       "      <td>141843612.0</td>\n",
       "      <td>65.0</td>\n",
       "    </tr>\n",
       "  </tbody>\n",
       "</table>\n",
       "<p>82 rows × 10 columns</p>\n",
       "</div>"
      ],
      "text/plain": [
       "                          Series_Title Released_Year  Runtime      Genre  \\\n",
       "23       Sen to Chihiro no kamikakushi          2001      125  Animation   \n",
       "43                       The Lion King          1994       88  Animation   \n",
       "46                      Hotaru no haka          1988       89  Animation   \n",
       "56                      Kimi no na wa.          2016      106  Animation   \n",
       "58   Spider-Man: Into the Spider-Verse          2018      117  Animation   \n",
       "..                                 ...           ...      ...        ...   \n",
       "956                              Mulan          1998       88  Animation   \n",
       "971                  Omohide poro poro          1991      118  Animation   \n",
       "976                 The Little Mermaid          1989       83  Animation   \n",
       "986                     Watership Down          1978       91  Animation   \n",
       "992                    The Jungle Book          1967       78  Animation   \n",
       "\n",
       "     IMDB_Rating             Director             Star1  No_of_Votes  \\\n",
       "23           8.6       Hayao Miyazaki     Daveigh Chase       651376   \n",
       "43           8.5         Roger Allers       Rob Minkoff       942045   \n",
       "46           8.5        Isao Takahata   Tsutomu Tatsumi       235231   \n",
       "56           8.4       Makoto Shinkai  Ryûnosuke Kamiki       194838   \n",
       "58           8.4      Bob Persichetti      Peter Ramsey       375110   \n",
       "..           ...                  ...               ...          ...   \n",
       "956          7.6        Tony Bancroft        Barry Cook       256906   \n",
       "971          7.6        Isao Takahata         Miki Imai        27071   \n",
       "976          7.6         Ron Clements       John Musker       237696   \n",
       "986          7.6         Martin Rosen       John Hubley        33656   \n",
       "992          7.6  Wolfgang Reitherman       Phil Harris       166409   \n",
       "\n",
       "           Gross  Metascore  \n",
       "23    10055859.0       96.0  \n",
       "43   422783777.0       88.0  \n",
       "46   150734678.0       94.0  \n",
       "56     5017246.0       79.0  \n",
       "58   190241310.0       87.0  \n",
       "..           ...        ...  \n",
       "956  120620254.0       71.0  \n",
       "971     453243.0       90.0  \n",
       "976  111543479.0       88.0  \n",
       "986  232841485.0       64.0  \n",
       "992  141843612.0       65.0  \n",
       "\n",
       "[82 rows x 10 columns]"
      ]
     },
     "execution_count": 12,
     "metadata": {},
     "output_type": "execute_result"
    }
   ],
   "source": [
    "movies.groupby('Genre').get_group('Animation')"
   ]
  },
  {
   "cell_type": "code",
   "execution_count": 13,
   "id": "b94822f9",
   "metadata": {},
   "outputs": [
    {
     "data": {
      "text/plain": [
       "'Western'"
      ]
     },
     "execution_count": 13,
     "metadata": {},
     "output_type": "execute_result"
    }
   ],
   "source": [
    "movies.groupby('Genre')['IMDB_Rating'].mean().sort_values(ascending=False).index[0]"
   ]
  },
  {
   "cell_type": "code",
   "execution_count": 14,
   "id": "f0f3a50e",
   "metadata": {},
   "outputs": [
    {
     "data": {
      "text/plain": [
       "'Family'"
      ]
     },
     "execution_count": 14,
     "metadata": {},
     "output_type": "execute_result"
    }
   ],
   "source": [
    "movies.groupby('Genre')['IMDB_Rating'].mean().sort_values(ascending=False).index[-1]"
   ]
  },
  {
   "cell_type": "code",
   "execution_count": 15,
   "id": "90eefaad",
   "metadata": {},
   "outputs": [
    {
     "data": {
      "text/html": [
       "<div>\n",
       "<style scoped>\n",
       "    .dataframe tbody tr th:only-of-type {\n",
       "        vertical-align: middle;\n",
       "    }\n",
       "\n",
       "    .dataframe tbody tr th {\n",
       "        vertical-align: top;\n",
       "    }\n",
       "\n",
       "    .dataframe thead th {\n",
       "        text-align: right;\n",
       "    }\n",
       "</style>\n",
       "<table border=\"1\" class=\"dataframe\">\n",
       "  <thead>\n",
       "    <tr style=\"text-align: right;\">\n",
       "      <th></th>\n",
       "      <th>Series_Title</th>\n",
       "      <th>Released_Year</th>\n",
       "      <th>Runtime</th>\n",
       "      <th>Genre</th>\n",
       "      <th>IMDB_Rating</th>\n",
       "      <th>Director</th>\n",
       "      <th>Star1</th>\n",
       "      <th>No_of_Votes</th>\n",
       "      <th>Gross</th>\n",
       "      <th>Metascore</th>\n",
       "    </tr>\n",
       "  </thead>\n",
       "  <tbody>\n",
       "    <tr>\n",
       "      <td>0</td>\n",
       "      <td>The Shawshank Redemption</td>\n",
       "      <td>1994</td>\n",
       "      <td>142</td>\n",
       "      <td>Drama</td>\n",
       "      <td>9.3</td>\n",
       "      <td>Frank Darabont</td>\n",
       "      <td>Tim Robbins</td>\n",
       "      <td>2343110</td>\n",
       "      <td>28341469.0</td>\n",
       "      <td>80.0</td>\n",
       "    </tr>\n",
       "    <tr>\n",
       "      <td>6</td>\n",
       "      <td>Pulp Fiction</td>\n",
       "      <td>1994</td>\n",
       "      <td>154</td>\n",
       "      <td>Crime</td>\n",
       "      <td>8.9</td>\n",
       "      <td>Quentin Tarantino</td>\n",
       "      <td>John Travolta</td>\n",
       "      <td>1826188</td>\n",
       "      <td>107928762.0</td>\n",
       "      <td>94.0</td>\n",
       "    </tr>\n",
       "    <tr>\n",
       "      <td>11</td>\n",
       "      <td>Forrest Gump</td>\n",
       "      <td>1994</td>\n",
       "      <td>142</td>\n",
       "      <td>Drama</td>\n",
       "      <td>8.8</td>\n",
       "      <td>Robert Zemeckis</td>\n",
       "      <td>Tom Hanks</td>\n",
       "      <td>1809221</td>\n",
       "      <td>330252182.0</td>\n",
       "      <td>82.0</td>\n",
       "    </tr>\n",
       "    <tr>\n",
       "      <td>42</td>\n",
       "      <td>Léon</td>\n",
       "      <td>1994</td>\n",
       "      <td>110</td>\n",
       "      <td>Action</td>\n",
       "      <td>8.5</td>\n",
       "      <td>Luc Besson</td>\n",
       "      <td>Jean Reno</td>\n",
       "      <td>1035236</td>\n",
       "      <td>19501238.0</td>\n",
       "      <td>64.0</td>\n",
       "    </tr>\n",
       "    <tr>\n",
       "      <td>43</td>\n",
       "      <td>The Lion King</td>\n",
       "      <td>1994</td>\n",
       "      <td>88</td>\n",
       "      <td>Animation</td>\n",
       "      <td>8.5</td>\n",
       "      <td>Roger Allers</td>\n",
       "      <td>Rob Minkoff</td>\n",
       "      <td>942045</td>\n",
       "      <td>422783777.0</td>\n",
       "      <td>88.0</td>\n",
       "    </tr>\n",
       "    <tr>\n",
       "      <td>166</td>\n",
       "      <td>Andaz Apna Apna</td>\n",
       "      <td>1994</td>\n",
       "      <td>160</td>\n",
       "      <td>Action</td>\n",
       "      <td>8.2</td>\n",
       "      <td>Rajkumar Santoshi</td>\n",
       "      <td>Aamir Khan</td>\n",
       "      <td>49300</td>\n",
       "      <td>213351844.0</td>\n",
       "      <td>NaN</td>\n",
       "    </tr>\n",
       "    <tr>\n",
       "      <td>260</td>\n",
       "      <td>Trois couleurs: Rouge</td>\n",
       "      <td>1994</td>\n",
       "      <td>99</td>\n",
       "      <td>Drama</td>\n",
       "      <td>8.1</td>\n",
       "      <td>Krzysztof Kieslowski</td>\n",
       "      <td>Irène Jacob</td>\n",
       "      <td>90729</td>\n",
       "      <td>4043686.0</td>\n",
       "      <td>100.0</td>\n",
       "    </tr>\n",
       "    <tr>\n",
       "      <td>261</td>\n",
       "      <td>Chung Hing sam lam</td>\n",
       "      <td>1994</td>\n",
       "      <td>102</td>\n",
       "      <td>Comedy</td>\n",
       "      <td>8.1</td>\n",
       "      <td>Kar-Wai Wong</td>\n",
       "      <td>Brigitte Lin</td>\n",
       "      <td>63122</td>\n",
       "      <td>600200.0</td>\n",
       "      <td>77.0</td>\n",
       "    </tr>\n",
       "    <tr>\n",
       "      <td>519</td>\n",
       "      <td>Once Were Warriors</td>\n",
       "      <td>1994</td>\n",
       "      <td>102</td>\n",
       "      <td>Crime</td>\n",
       "      <td>7.9</td>\n",
       "      <td>Lee Tamahori</td>\n",
       "      <td>Rena Owen</td>\n",
       "      <td>31590</td>\n",
       "      <td>2201126.0</td>\n",
       "      <td>77.0</td>\n",
       "    </tr>\n",
       "    <tr>\n",
       "      <td>657</td>\n",
       "      <td>Ed Wood</td>\n",
       "      <td>1994</td>\n",
       "      <td>127</td>\n",
       "      <td>Biography</td>\n",
       "      <td>7.8</td>\n",
       "      <td>Tim Burton</td>\n",
       "      <td>Johnny Depp</td>\n",
       "      <td>164937</td>\n",
       "      <td>5887457.0</td>\n",
       "      <td>70.0</td>\n",
       "    </tr>\n",
       "    <tr>\n",
       "      <td>815</td>\n",
       "      <td>Il postino</td>\n",
       "      <td>1994</td>\n",
       "      <td>108</td>\n",
       "      <td>Biography</td>\n",
       "      <td>7.7</td>\n",
       "      <td>Michael Radford</td>\n",
       "      <td>Massimo Troisi</td>\n",
       "      <td>33600</td>\n",
       "      <td>21848932.0</td>\n",
       "      <td>81.0</td>\n",
       "    </tr>\n",
       "    <tr>\n",
       "      <td>816</td>\n",
       "      <td>Clerks</td>\n",
       "      <td>1994</td>\n",
       "      <td>92</td>\n",
       "      <td>Comedy</td>\n",
       "      <td>7.7</td>\n",
       "      <td>Kevin Smith</td>\n",
       "      <td>Brian O'Halloran</td>\n",
       "      <td>211450</td>\n",
       "      <td>3151130.0</td>\n",
       "      <td>70.0</td>\n",
       "    </tr>\n",
       "    <tr>\n",
       "      <td>967</td>\n",
       "      <td>Trois couleurs: Blanc</td>\n",
       "      <td>1994</td>\n",
       "      <td>92</td>\n",
       "      <td>Comedy</td>\n",
       "      <td>7.6</td>\n",
       "      <td>Krzysztof Kieslowski</td>\n",
       "      <td>Zbigniew Zamachowski</td>\n",
       "      <td>64390</td>\n",
       "      <td>1464625.0</td>\n",
       "      <td>88.0</td>\n",
       "    </tr>\n",
       "  </tbody>\n",
       "</table>\n",
       "</div>"
      ],
      "text/plain": [
       "                 Series_Title Released_Year  Runtime      Genre  IMDB_Rating  \\\n",
       "0    The Shawshank Redemption          1994      142      Drama          9.3   \n",
       "6                Pulp Fiction          1994      154      Crime          8.9   \n",
       "11               Forrest Gump          1994      142      Drama          8.8   \n",
       "42                       Léon          1994      110     Action          8.5   \n",
       "43              The Lion King          1994       88  Animation          8.5   \n",
       "166           Andaz Apna Apna          1994      160     Action          8.2   \n",
       "260     Trois couleurs: Rouge          1994       99      Drama          8.1   \n",
       "261        Chung Hing sam lam          1994      102     Comedy          8.1   \n",
       "519        Once Were Warriors          1994      102      Crime          7.9   \n",
       "657                   Ed Wood          1994      127  Biography          7.8   \n",
       "815                Il postino          1994      108  Biography          7.7   \n",
       "816                    Clerks          1994       92     Comedy          7.7   \n",
       "967     Trois couleurs: Blanc          1994       92     Comedy          7.6   \n",
       "\n",
       "                 Director                 Star1  No_of_Votes        Gross  \\\n",
       "0          Frank Darabont           Tim Robbins      2343110   28341469.0   \n",
       "6       Quentin Tarantino         John Travolta      1826188  107928762.0   \n",
       "11        Robert Zemeckis             Tom Hanks      1809221  330252182.0   \n",
       "42             Luc Besson             Jean Reno      1035236   19501238.0   \n",
       "43           Roger Allers           Rob Minkoff       942045  422783777.0   \n",
       "166     Rajkumar Santoshi            Aamir Khan        49300  213351844.0   \n",
       "260  Krzysztof Kieslowski           Irène Jacob        90729    4043686.0   \n",
       "261          Kar-Wai Wong          Brigitte Lin        63122     600200.0   \n",
       "519          Lee Tamahori             Rena Owen        31590    2201126.0   \n",
       "657            Tim Burton           Johnny Depp       164937    5887457.0   \n",
       "815       Michael Radford        Massimo Troisi        33600   21848932.0   \n",
       "816           Kevin Smith      Brian O'Halloran       211450    3151130.0   \n",
       "967  Krzysztof Kieslowski  Zbigniew Zamachowski        64390    1464625.0   \n",
       "\n",
       "     Metascore  \n",
       "0         80.0  \n",
       "6         94.0  \n",
       "11        82.0  \n",
       "42        64.0  \n",
       "43        88.0  \n",
       "166        NaN  \n",
       "260      100.0  \n",
       "261       77.0  \n",
       "519       77.0  \n",
       "657       70.0  \n",
       "815       81.0  \n",
       "816       70.0  \n",
       "967       88.0  "
      ]
     },
     "execution_count": 15,
     "metadata": {},
     "output_type": "execute_result"
    }
   ],
   "source": [
    "movies[movies.Released_Year=='1994']"
   ]
  },
  {
   "cell_type": "code",
   "execution_count": 16,
   "id": "c5491177",
   "metadata": {},
   "outputs": [
    {
     "data": {
      "text/plain": [
       "Released_Year\n",
       "1920     76\n",
       "1921     68\n",
       "1922     94\n",
       "1924     45\n",
       "1925     95\n",
       "       ... \n",
       "2017    167\n",
       "2018    156\n",
       "2019    209\n",
       "2020    160\n",
       "PG      140\n",
       "Name: Runtime, Length: 100, dtype: int64"
      ]
     },
     "execution_count": 16,
     "metadata": {},
     "output_type": "execute_result"
    }
   ],
   "source": [
    "movies.groupby('Released_Year')['Runtime'].max()"
   ]
  },
  {
   "cell_type": "code",
   "execution_count": 17,
   "id": "f5c17b9a",
   "metadata": {},
   "outputs": [
    {
     "data": {
      "text/plain": [
       "Genre\n",
       "Action    72282412\n",
       "Drama     61367304\n",
       "Crime     33533615\n",
       "Name: No_of_Votes, dtype: int64"
      ]
     },
     "execution_count": 17,
     "metadata": {},
     "output_type": "execute_result"
    }
   ],
   "source": [
    "movies.groupby('Genre')['No_of_Votes'].sum().sort_values(ascending=False).head(3)"
   ]
  },
  {
   "cell_type": "code",
   "execution_count": 18,
   "id": "b6d7bff2",
   "metadata": {},
   "outputs": [],
   "source": [
    "# movies.groupby('Director')['Gross'].max().sort_values(ascending=False).head(3)"
   ]
  },
  {
   "cell_type": "code",
   "execution_count": 19,
   "id": "fd1b7854",
   "metadata": {},
   "outputs": [
    {
     "data": {
      "text/plain": [
       "Director\n",
       "Akira Kurosawa      3.070432e+09\n",
       "Steven Spielberg    2.478133e+09\n",
       "Hayao Miyazaki      2.447325e+09\n",
       "Name: Gross, dtype: float64"
      ]
     },
     "execution_count": 19,
     "metadata": {},
     "output_type": "execute_result"
    }
   ],
   "source": [
    "movies.groupby('Director')['Gross'].sum().sort_values(ascending=False).head(3)"
   ]
  },
  {
   "cell_type": "code",
   "execution_count": 20,
   "id": "6e03b0cd",
   "metadata": {},
   "outputs": [
    {
     "data": {
      "text/plain": [
       "Index(['Harrison Ford', 'Joe Russo'], dtype='object', name='Star1')"
      ]
     },
     "execution_count": 20,
     "metadata": {},
     "output_type": "execute_result"
    }
   ],
   "source": [
    "movies[movies['Genre']==\"Action\"].groupby('Star1').count().sort_values(by=\"Genre\", ascending=False).index[:2]"
   ]
  },
  {
   "cell_type": "code",
   "execution_count": 21,
   "id": "a27b998c",
   "metadata": {},
   "outputs": [
    {
     "data": {
      "text/plain": [
       "Star1\n",
       "Harrison Ford    5\n",
       "Joe Russo        4\n",
       "Tom Cruise       4\n",
       "Name: Star1, dtype: int64"
      ]
     },
     "execution_count": 21,
     "metadata": {},
     "output_type": "execute_result"
    }
   ],
   "source": [
    "movies[movies['Genre']==\"Action\"].groupby('Star1')['Star1'].count().sort_values(ascending=False).head(3)"
   ]
  },
  {
   "cell_type": "code",
   "execution_count": 22,
   "id": "a76ae511",
   "metadata": {},
   "outputs": [
    {
     "data": {
      "text/plain": [
       "array(['Gangs of Wasseypur', 'Hamlet', 'Gone with the Wind'], dtype=object)"
      ]
     },
     "execution_count": 22,
     "metadata": {},
     "output_type": "execute_result"
    }
   ],
   "source": [
    "movies.sort_values(by='Runtime', ascending=False).head(3)['Series_Title'].values"
   ]
  },
  {
   "cell_type": "markdown",
   "id": "70f2951b",
   "metadata": {},
   "source": [
    "# Machine Learning  \n",
    "   - Supervised Learning \n",
    "       - Regression\n",
    "       - Classsification\n",
    "       \n",
    "   - Unsupervised Learning     \n",
    "       - Clustering \n",
    "       - Dimensionality Reduction\n",
    "       \n",
    "   - Reinforcement Learning \n",
    "       \n",
    "       \n",
    "       \n",
    "       "
   ]
  },
  {
   "cell_type": "code",
   "execution_count": 23,
   "id": "4f2d7716",
   "metadata": {},
   "outputs": [],
   "source": [
    "data = pd.read_csv('weight-height.csv')"
   ]
  },
  {
   "cell_type": "code",
   "execution_count": 24,
   "id": "559c5150",
   "metadata": {},
   "outputs": [
    {
     "data": {
      "text/html": [
       "<div>\n",
       "<style scoped>\n",
       "    .dataframe tbody tr th:only-of-type {\n",
       "        vertical-align: middle;\n",
       "    }\n",
       "\n",
       "    .dataframe tbody tr th {\n",
       "        vertical-align: top;\n",
       "    }\n",
       "\n",
       "    .dataframe thead th {\n",
       "        text-align: right;\n",
       "    }\n",
       "</style>\n",
       "<table border=\"1\" class=\"dataframe\">\n",
       "  <thead>\n",
       "    <tr style=\"text-align: right;\">\n",
       "      <th></th>\n",
       "      <th>Gender</th>\n",
       "      <th>Height</th>\n",
       "      <th>Weight</th>\n",
       "    </tr>\n",
       "  </thead>\n",
       "  <tbody>\n",
       "    <tr>\n",
       "      <td>0</td>\n",
       "      <td>Male</td>\n",
       "      <td>73.847017</td>\n",
       "      <td>241.893563</td>\n",
       "    </tr>\n",
       "    <tr>\n",
       "      <td>1</td>\n",
       "      <td>Male</td>\n",
       "      <td>68.781904</td>\n",
       "      <td>162.310473</td>\n",
       "    </tr>\n",
       "    <tr>\n",
       "      <td>2</td>\n",
       "      <td>Male</td>\n",
       "      <td>74.110105</td>\n",
       "      <td>212.740856</td>\n",
       "    </tr>\n",
       "    <tr>\n",
       "      <td>3</td>\n",
       "      <td>Male</td>\n",
       "      <td>71.730978</td>\n",
       "      <td>220.042470</td>\n",
       "    </tr>\n",
       "    <tr>\n",
       "      <td>4</td>\n",
       "      <td>Male</td>\n",
       "      <td>69.881796</td>\n",
       "      <td>206.349801</td>\n",
       "    </tr>\n",
       "    <tr>\n",
       "      <td>...</td>\n",
       "      <td>...</td>\n",
       "      <td>...</td>\n",
       "      <td>...</td>\n",
       "    </tr>\n",
       "    <tr>\n",
       "      <td>9995</td>\n",
       "      <td>Female</td>\n",
       "      <td>66.172652</td>\n",
       "      <td>136.777454</td>\n",
       "    </tr>\n",
       "    <tr>\n",
       "      <td>9996</td>\n",
       "      <td>Female</td>\n",
       "      <td>67.067155</td>\n",
       "      <td>170.867906</td>\n",
       "    </tr>\n",
       "    <tr>\n",
       "      <td>9997</td>\n",
       "      <td>Female</td>\n",
       "      <td>63.867992</td>\n",
       "      <td>128.475319</td>\n",
       "    </tr>\n",
       "    <tr>\n",
       "      <td>9998</td>\n",
       "      <td>Female</td>\n",
       "      <td>69.034243</td>\n",
       "      <td>163.852461</td>\n",
       "    </tr>\n",
       "    <tr>\n",
       "      <td>9999</td>\n",
       "      <td>Female</td>\n",
       "      <td>61.944246</td>\n",
       "      <td>113.649103</td>\n",
       "    </tr>\n",
       "  </tbody>\n",
       "</table>\n",
       "<p>10000 rows × 3 columns</p>\n",
       "</div>"
      ],
      "text/plain": [
       "      Gender     Height      Weight\n",
       "0       Male  73.847017  241.893563\n",
       "1       Male  68.781904  162.310473\n",
       "2       Male  74.110105  212.740856\n",
       "3       Male  71.730978  220.042470\n",
       "4       Male  69.881796  206.349801\n",
       "...      ...        ...         ...\n",
       "9995  Female  66.172652  136.777454\n",
       "9996  Female  67.067155  170.867906\n",
       "9997  Female  63.867992  128.475319\n",
       "9998  Female  69.034243  163.852461\n",
       "9999  Female  61.944246  113.649103\n",
       "\n",
       "[10000 rows x 3 columns]"
      ]
     },
     "execution_count": 24,
     "metadata": {},
     "output_type": "execute_result"
    }
   ],
   "source": [
    "data"
   ]
  },
  {
   "cell_type": "code",
   "execution_count": 25,
   "id": "d7575ff4",
   "metadata": {},
   "outputs": [],
   "source": [
    "import matplotlib.pyplot as plt"
   ]
  },
  {
   "cell_type": "code",
   "execution_count": 26,
   "id": "a294c094",
   "metadata": {},
   "outputs": [
    {
     "data": {
      "text/plain": [
       "<matplotlib.collections.PathCollection at 0x1afb985a788>"
      ]
     },
     "execution_count": 26,
     "metadata": {},
     "output_type": "execute_result"
    },
    {
     "data": {
      "image/png": "[encoded data removed]",
      "text/plain": [
       "<Figure size 432x288 with 1 Axes>"
      ]
     },
     "metadata": {
      "needs_background": "light"
     },
     "output_type": "display_data"
    }
   ],
   "source": [
    "plt.scatter(data['Height'], data['Weight'])"
   ]
  },
  {
   "cell_type": "code",
   "execution_count": 27,
   "id": "fa76cf98",
   "metadata": {},
   "outputs": [
    {
     "data": {
      "text/html": [
       "<div>\n",
       "<style scoped>\n",
       "    .dataframe tbody tr th:only-of-type {\n",
       "        vertical-align: middle;\n",
       "    }\n",
       "\n",
       "    .dataframe tbody tr th {\n",
       "        vertical-align: top;\n",
       "    }\n",
       "\n",
       "    .dataframe thead th {\n",
       "        text-align: right;\n",
       "    }\n",
       "</style>\n",
       "<table border=\"1\" class=\"dataframe\">\n",
       "  <thead>\n",
       "    <tr style=\"text-align: right;\">\n",
       "      <th></th>\n",
       "      <th>Height</th>\n",
       "      <th>Weight</th>\n",
       "    </tr>\n",
       "  </thead>\n",
       "  <tbody>\n",
       "    <tr>\n",
       "      <td>Height</td>\n",
       "      <td>1.000000</td>\n",
       "      <td>0.924756</td>\n",
       "    </tr>\n",
       "    <tr>\n",
       "      <td>Weight</td>\n",
       "      <td>0.924756</td>\n",
       "      <td>1.000000</td>\n",
       "    </tr>\n",
       "  </tbody>\n",
       "</table>\n",
       "</div>"
      ],
      "text/plain": [
       "          Height    Weight\n",
       "Height  1.000000  0.924756\n",
       "Weight  0.924756  1.000000"
      ]
     },
     "execution_count": 27,
     "metadata": {},
     "output_type": "execute_result"
    }
   ],
   "source": [
    "data.corr()"
   ]
  },
  {
   "cell_type": "code",
   "execution_count": 28,
   "id": "57e85dc5",
   "metadata": {},
   "outputs": [],
   "source": [
    "X  = data[['Height']]\n",
    "y = data.Weight.values\n"
   ]
  },
  {
   "cell_type": "code",
   "execution_count": 29,
   "id": "31b191b5",
   "metadata": {},
   "outputs": [
    {
     "data": {
      "text/plain": [
       "2"
      ]
     },
     "execution_count": 29,
     "metadata": {},
     "output_type": "execute_result"
    }
   ],
   "source": [
    "X.ndim"
   ]
  },
  {
   "cell_type": "code",
   "execution_count": 30,
   "id": "56b0140d",
   "metadata": {},
   "outputs": [],
   "source": [
    "def line(m,c):\n",
    "    y = m*X+c\n",
    "    return y"
   ]
  },
  {
   "cell_type": "code",
   "execution_count": 31,
   "id": "6d1ed6f7",
   "metadata": {},
   "outputs": [],
   "source": [
    "y_predict = line(7.7,-350.7)"
   ]
  },
  {
   "cell_type": "code",
   "execution_count": 32,
   "id": "efaa88ce",
   "metadata": {},
   "outputs": [
    {
     "data": {
      "text/plain": [
       "<matplotlib.collections.PathCollection at 0x1afba0415c8>"
      ]
     },
     "execution_count": 32,
     "metadata": {},
     "output_type": "execute_result"
    },
    {
     "data": {
      "image/png": "[encoded data removed]",
      "text/plain": [
       "<Figure size 432x288 with 1 Axes>"
      ]
     },
     "metadata": {
      "needs_background": "light"
     },
     "output_type": "display_data"
    }
   ],
   "source": [
    "plt.scatter(data['Height'], data['Weight'])\n",
    "plt.scatter(X,y_predict)"
   ]
  },
  {
   "cell_type": "code",
   "execution_count": 33,
   "id": "f6de4e54",
   "metadata": {},
   "outputs": [],
   "source": [
    "from sklearn.metrics import mean_squared_error"
   ]
  },
  {
   "cell_type": "code",
   "execution_count": 63,
   "id": "a7e29643",
   "metadata": {},
   "outputs": [
    {
     "ename": "ValueError",
     "evalue": "Found input variables with inconsistent numbers of samples: [10000, 2500]",
     "output_type": "error",
     "traceback": [
      "\u001b[1;31m---------------------------------------------------------------------------\u001b[0m",
      "\u001b[1;31mValueError\u001b[0m                                Traceback (most recent call last)",
      "\u001b[1;32m<ipython-input-63-b30961920ce5>\u001b[0m in \u001b[0;36m<module>\u001b[1;34m\u001b[0m\n\u001b[1;32m----> 1\u001b[1;33m \u001b[0mmean_squared_error\u001b[0m\u001b[1;33m(\u001b[0m\u001b[0my\u001b[0m\u001b[1;33m,\u001b[0m\u001b[0mpredictions\u001b[0m\u001b[1;33m)\u001b[0m\u001b[1;33m\u001b[0m\u001b[1;33m\u001b[0m\u001b[0m\n\u001b[0m",
      "\u001b[1;32m~\\Anaconda3\\lib\\site-packages\\sklearn\\metrics\\regression.py\u001b[0m in \u001b[0;36mmean_squared_error\u001b[1;34m(y_true, y_pred, sample_weight, multioutput)\u001b[0m\n\u001b[0;32m    239\u001b[0m     \"\"\"\n\u001b[0;32m    240\u001b[0m     y_type, y_true, y_pred, multioutput = _check_reg_targets(\n\u001b[1;32m--> 241\u001b[1;33m         y_true, y_pred, multioutput)\n\u001b[0m\u001b[0;32m    242\u001b[0m     \u001b[0mcheck_consistent_length\u001b[0m\u001b[1;33m(\u001b[0m\u001b[0my_true\u001b[0m\u001b[1;33m,\u001b[0m \u001b[0my_pred\u001b[0m\u001b[1;33m,\u001b[0m \u001b[0msample_weight\u001b[0m\u001b[1;33m)\u001b[0m\u001b[1;33m\u001b[0m\u001b[1;33m\u001b[0m\u001b[0m\n\u001b[0;32m    243\u001b[0m     output_errors = np.average((y_true - y_pred) ** 2, axis=0,\n",
      "\u001b[1;32m~\\Anaconda3\\lib\\site-packages\\sklearn\\metrics\\regression.py\u001b[0m in \u001b[0;36m_check_reg_targets\u001b[1;34m(y_true, y_pred, multioutput)\u001b[0m\n\u001b[0;32m     75\u001b[0m \u001b[1;33m\u001b[0m\u001b[0m\n\u001b[0;32m     76\u001b[0m     \"\"\"\n\u001b[1;32m---> 77\u001b[1;33m     \u001b[0mcheck_consistent_length\u001b[0m\u001b[1;33m(\u001b[0m\u001b[0my_true\u001b[0m\u001b[1;33m,\u001b[0m \u001b[0my_pred\u001b[0m\u001b[1;33m)\u001b[0m\u001b[1;33m\u001b[0m\u001b[1;33m\u001b[0m\u001b[0m\n\u001b[0m\u001b[0;32m     78\u001b[0m     \u001b[0my_true\u001b[0m \u001b[1;33m=\u001b[0m \u001b[0mcheck_array\u001b[0m\u001b[1;33m(\u001b[0m\u001b[0my_true\u001b[0m\u001b[1;33m,\u001b[0m \u001b[0mensure_2d\u001b[0m\u001b[1;33m=\u001b[0m\u001b[1;32mFalse\u001b[0m\u001b[1;33m)\u001b[0m\u001b[1;33m\u001b[0m\u001b[1;33m\u001b[0m\u001b[0m\n\u001b[0;32m     79\u001b[0m     \u001b[0my_pred\u001b[0m \u001b[1;33m=\u001b[0m \u001b[0mcheck_array\u001b[0m\u001b[1;33m(\u001b[0m\u001b[0my_pred\u001b[0m\u001b[1;33m,\u001b[0m \u001b[0mensure_2d\u001b[0m\u001b[1;33m=\u001b[0m\u001b[1;32mFalse\u001b[0m\u001b[1;33m)\u001b[0m\u001b[1;33m\u001b[0m\u001b[1;33m\u001b[0m\u001b[0m\n",
      "\u001b[1;32m~\\Anaconda3\\lib\\site-packages\\sklearn\\utils\\validation.py\u001b[0m in \u001b[0;36mcheck_consistent_length\u001b[1;34m(*arrays)\u001b[0m\n\u001b[0;32m    203\u001b[0m     \u001b[1;32mif\u001b[0m \u001b[0mlen\u001b[0m\u001b[1;33m(\u001b[0m\u001b[0muniques\u001b[0m\u001b[1;33m)\u001b[0m \u001b[1;33m>\u001b[0m \u001b[1;36m1\u001b[0m\u001b[1;33m:\u001b[0m\u001b[1;33m\u001b[0m\u001b[1;33m\u001b[0m\u001b[0m\n\u001b[0;32m    204\u001b[0m         raise ValueError(\"Found input variables with inconsistent numbers of\"\n\u001b[1;32m--> 205\u001b[1;33m                          \" samples: %r\" % [int(l) for l in lengths])\n\u001b[0m\u001b[0;32m    206\u001b[0m \u001b[1;33m\u001b[0m\u001b[0m\n\u001b[0;32m    207\u001b[0m \u001b[1;33m\u001b[0m\u001b[0m\n",
      "\u001b[1;31mValueError\u001b[0m: Found input variables with inconsistent numbers of samples: [10000, 2500]"
     ]
    }
   ],
   "source": [
    "mean_squared_error(y,predictions)"
   ]
  },
  {
   "cell_type": "code",
   "execution_count": null,
   "id": "eaef3990",
   "metadata": {},
   "outputs": [],
   "source": [
    "from sklearn.metrics import r2_score\n",
    "r2_score(y,predictions)"
   ]
  },
  {
   "cell_type": "code",
   "execution_count": null,
   "id": "acb2848a",
   "metadata": {},
   "outputs": [],
   "source": [
    "from sklearn.linear_model import LinearRegression\n",
    "regressor = LinearRegression()"
   ]
  },
  {
   "cell_type": "code",
   "execution_count": null,
   "id": "3412e5d6",
   "metadata": {},
   "outputs": [],
   "source": [
    "regressor.fit(X, y)"
   ]
  },
  {
   "cell_type": "code",
   "execution_count": null,
   "id": "25382f15",
   "metadata": {},
   "outputs": [],
   "source": [
    "predictions = regressor.predict(X)"
   ]
  },
  {
   "cell_type": "code",
   "execution_count": null,
   "id": "fbf2510c",
   "metadata": {},
   "outputs": [],
   "source": [
    "predictions"
   ]
  },
  {
   "cell_type": "code",
   "execution_count": null,
   "id": "23d0bae1",
   "metadata": {},
   "outputs": [],
   "source": [
    "plt.scatter(data['Height'], data['Weight'])\n",
    "plt.scatter(X,predictions)"
   ]
  },
  {
   "cell_type": "code",
   "execution_count": null,
   "id": "c2d839a8",
   "metadata": {},
   "outputs": [],
   "source": [
    "regressor.coef_"
   ]
  },
  {
   "cell_type": "code",
   "execution_count": null,
   "id": "a6d99d34",
   "metadata": {},
   "outputs": [],
   "source": [
    "regressor.intercept_"
   ]
  },
  {
   "cell_type": "code",
   "execution_count": null,
   "id": "9efc1a70",
   "metadata": {},
   "outputs": [],
   "source": [
    "regressor.predict([[71]])"
   ]
  },
  {
   "cell_type": "code",
   "execution_count": null,
   "id": "5f96526f",
   "metadata": {},
   "outputs": [],
   "source": [
    "import numpy as np\n",
    "test=  np.array([[67],[70],[75],[65],[50],[80]])\n",
    "test"
   ]
  },
  {
   "cell_type": "code",
   "execution_count": null,
   "id": "4d6fa8ab",
   "metadata": {},
   "outputs": [],
   "source": [
    "regressor.predict(test)"
   ]
  },
  {
   "cell_type": "markdown",
   "id": "8510eb37",
   "metadata": {},
   "source": [
    "Steps: \n",
    "    Data Load \n",
    "     - Qaulaity Maintain\n",
    "    -Data Break \n",
    "        input(X) and output(y)\n",
    "    - Input Data (Training_X ) and Testing_X\n",
    "    - Output Data (Training_y)  and Testng_y\n",
    "    Model Selection :\n",
    "       - Regrssesson or Classification\n",
    "    - Model Fit by supplying traing data \n",
    "    - Model Evaluate on Testing Data \n",
    "    - R2 Score \n",
    "    - Loss \n",
    "    \n",
    "    \n",
    "    - Prediction \n",
    "            Predivtion on some random data \n",
    "    "
   ]
  },
  {
   "cell_type": "code",
   "execution_count": 35,
   "id": "bd5a84e4",
   "metadata": {},
   "outputs": [
    {
     "data": {
      "text/html": [
       "<div>\n",
       "<style scoped>\n",
       "    .dataframe tbody tr th:only-of-type {\n",
       "        vertical-align: middle;\n",
       "    }\n",
       "\n",
       "    .dataframe tbody tr th {\n",
       "        vertical-align: top;\n",
       "    }\n",
       "\n",
       "    .dataframe thead th {\n",
       "        text-align: right;\n",
       "    }\n",
       "</style>\n",
       "<table border=\"1\" class=\"dataframe\">\n",
       "  <thead>\n",
       "    <tr style=\"text-align: right;\">\n",
       "      <th></th>\n",
       "      <th>Gender</th>\n",
       "      <th>Height</th>\n",
       "      <th>Weight</th>\n",
       "    </tr>\n",
       "  </thead>\n",
       "  <tbody>\n",
       "    <tr>\n",
       "      <td>0</td>\n",
       "      <td>Male</td>\n",
       "      <td>73.847017</td>\n",
       "      <td>241.893563</td>\n",
       "    </tr>\n",
       "    <tr>\n",
       "      <td>1</td>\n",
       "      <td>Male</td>\n",
       "      <td>68.781904</td>\n",
       "      <td>162.310473</td>\n",
       "    </tr>\n",
       "    <tr>\n",
       "      <td>2</td>\n",
       "      <td>Male</td>\n",
       "      <td>74.110105</td>\n",
       "      <td>212.740856</td>\n",
       "    </tr>\n",
       "    <tr>\n",
       "      <td>3</td>\n",
       "      <td>Male</td>\n",
       "      <td>71.730978</td>\n",
       "      <td>220.042470</td>\n",
       "    </tr>\n",
       "    <tr>\n",
       "      <td>4</td>\n",
       "      <td>Male</td>\n",
       "      <td>69.881796</td>\n",
       "      <td>206.349801</td>\n",
       "    </tr>\n",
       "    <tr>\n",
       "      <td>...</td>\n",
       "      <td>...</td>\n",
       "      <td>...</td>\n",
       "      <td>...</td>\n",
       "    </tr>\n",
       "    <tr>\n",
       "      <td>9995</td>\n",
       "      <td>Female</td>\n",
       "      <td>66.172652</td>\n",
       "      <td>136.777454</td>\n",
       "    </tr>\n",
       "    <tr>\n",
       "      <td>9996</td>\n",
       "      <td>Female</td>\n",
       "      <td>67.067155</td>\n",
       "      <td>170.867906</td>\n",
       "    </tr>\n",
       "    <tr>\n",
       "      <td>9997</td>\n",
       "      <td>Female</td>\n",
       "      <td>63.867992</td>\n",
       "      <td>128.475319</td>\n",
       "    </tr>\n",
       "    <tr>\n",
       "      <td>9998</td>\n",
       "      <td>Female</td>\n",
       "      <td>69.034243</td>\n",
       "      <td>163.852461</td>\n",
       "    </tr>\n",
       "    <tr>\n",
       "      <td>9999</td>\n",
       "      <td>Female</td>\n",
       "      <td>61.944246</td>\n",
       "      <td>113.649103</td>\n",
       "    </tr>\n",
       "  </tbody>\n",
       "</table>\n",
       "<p>10000 rows × 3 columns</p>\n",
       "</div>"
      ],
      "text/plain": [
       "      Gender     Height      Weight\n",
       "0       Male  73.847017  241.893563\n",
       "1       Male  68.781904  162.310473\n",
       "2       Male  74.110105  212.740856\n",
       "3       Male  71.730978  220.042470\n",
       "4       Male  69.881796  206.349801\n",
       "...      ...        ...         ...\n",
       "9995  Female  66.172652  136.777454\n",
       "9996  Female  67.067155  170.867906\n",
       "9997  Female  63.867992  128.475319\n",
       "9998  Female  69.034243  163.852461\n",
       "9999  Female  61.944246  113.649103\n",
       "\n",
       "[10000 rows x 3 columns]"
      ]
     },
     "execution_count": 35,
     "metadata": {},
     "output_type": "execute_result"
    }
   ],
   "source": [
    "data"
   ]
  },
  {
   "cell_type": "code",
   "execution_count": 36,
   "id": "e350a190",
   "metadata": {},
   "outputs": [],
   "source": [
    "X = data[['Gender','Height']]\n",
    "y = data['Weight']        "
   ]
  },
  {
   "cell_type": "code",
   "execution_count": 52,
   "id": "bb4916be",
   "metadata": {},
   "outputs": [
    {
     "name": "stderr",
     "output_type": "stream",
     "text": [
      "C:\\Users\\Nasir Hussain\\Anaconda3\\lib\\site-packages\\pandas\\core\\generic.py:5208: SettingWithCopyWarning: \n",
      "A value is trying to be set on a copy of a slice from a DataFrame.\n",
      "Try using .loc[row_indexer,col_indexer] = value instead\n",
      "\n",
      "See the caveats in the documentation: http://pandas.pydata.org/pandas-docs/stable/user_guide/indexing.html#returning-a-view-versus-a-copy\n",
      "  self[name] = value\n"
     ]
    }
   ],
   "source": [
    "X.Gender = X.Gender.apply(lambda g : 1 if g==\"Male\" else 0)"
   ]
  },
  {
   "cell_type": "code",
   "execution_count": 53,
   "id": "3fdebc2a",
   "metadata": {},
   "outputs": [
    {
     "data": {
      "text/plain": [
       "0       241.893563\n",
       "1       162.310473\n",
       "2       212.740856\n",
       "3       220.042470\n",
       "4       206.349801\n",
       "           ...    \n",
       "9995    136.777454\n",
       "9996    170.867906\n",
       "9997    128.475319\n",
       "9998    163.852461\n",
       "9999    113.649103\n",
       "Name: Weight, Length: 10000, dtype: float64"
      ]
     },
     "execution_count": 53,
     "metadata": {},
     "output_type": "execute_result"
    }
   ],
   "source": [
    "y"
   ]
  },
  {
   "cell_type": "code",
   "execution_count": 55,
   "id": "baf877da",
   "metadata": {},
   "outputs": [],
   "source": [
    "from sklearn.model_selection import train_test_split\n",
    "X_train,X_test,y_train,y_test=train_test_split(X,y,random_state=0)"
   ]
  },
  {
   "cell_type": "code",
   "execution_count": 56,
   "id": "fa511540",
   "metadata": {},
   "outputs": [],
   "source": [
    "from sklearn.linear_model import LinearRegression\n",
    "regressor = LinearRegression()"
   ]
  },
  {
   "cell_type": "code",
   "execution_count": 57,
   "id": "e2c90b72",
   "metadata": {},
   "outputs": [
    {
     "data": {
      "text/plain": [
       "LinearRegression(copy_X=True, fit_intercept=True, n_jobs=None, normalize=False)"
      ]
     },
     "execution_count": 57,
     "metadata": {},
     "output_type": "execute_result"
    }
   ],
   "source": [
    "regressor.fit(X_train, y_train)"
   ]
  },
  {
   "cell_type": "code",
   "execution_count": 58,
   "id": "95037868",
   "metadata": {},
   "outputs": [],
   "source": [
    "predictions = regressor.predict(X_test)"
   ]
  },
  {
   "cell_type": "code",
   "execution_count": 60,
   "id": "31700f22",
   "metadata": {},
   "outputs": [
    {
     "data": {
      "text/html": [
       "<div>\n",
       "<style scoped>\n",
       "    .dataframe tbody tr th:only-of-type {\n",
       "        vertical-align: middle;\n",
       "    }\n",
       "\n",
       "    .dataframe tbody tr th {\n",
       "        vertical-align: top;\n",
       "    }\n",
       "\n",
       "    .dataframe thead th {\n",
       "        text-align: right;\n",
       "    }\n",
       "</style>\n",
       "<table border=\"1\" class=\"dataframe\">\n",
       "  <thead>\n",
       "    <tr style=\"text-align: right;\">\n",
       "      <th></th>\n",
       "      <th>original</th>\n",
       "      <th>pred</th>\n",
       "    </tr>\n",
       "  </thead>\n",
       "  <tbody>\n",
       "    <tr>\n",
       "      <td>9394</td>\n",
       "      <td>138.085796</td>\n",
       "      <td>141.911789</td>\n",
       "    </tr>\n",
       "    <tr>\n",
       "      <td>898</td>\n",
       "      <td>187.363366</td>\n",
       "      <td>176.532595</td>\n",
       "    </tr>\n",
       "    <tr>\n",
       "      <td>2398</td>\n",
       "      <td>216.533191</td>\n",
       "      <td>219.793042</td>\n",
       "    </tr>\n",
       "    <tr>\n",
       "      <td>5906</td>\n",
       "      <td>131.761443</td>\n",
       "      <td>148.811553</td>\n",
       "    </tr>\n",
       "    <tr>\n",
       "      <td>2343</td>\n",
       "      <td>157.718438</td>\n",
       "      <td>162.055140</td>\n",
       "    </tr>\n",
       "    <tr>\n",
       "      <td>...</td>\n",
       "      <td>...</td>\n",
       "      <td>...</td>\n",
       "    </tr>\n",
       "    <tr>\n",
       "      <td>8764</td>\n",
       "      <td>121.094631</td>\n",
       "      <td>142.591020</td>\n",
       "    </tr>\n",
       "    <tr>\n",
       "      <td>4359</td>\n",
       "      <td>207.493691</td>\n",
       "      <td>203.493438</td>\n",
       "    </tr>\n",
       "    <tr>\n",
       "      <td>2041</td>\n",
       "      <td>169.634399</td>\n",
       "      <td>183.234557</td>\n",
       "    </tr>\n",
       "    <tr>\n",
       "      <td>1108</td>\n",
       "      <td>169.459631</td>\n",
       "      <td>164.052225</td>\n",
       "    </tr>\n",
       "    <tr>\n",
       "      <td>3332</td>\n",
       "      <td>123.628360</td>\n",
       "      <td>137.436045</td>\n",
       "    </tr>\n",
       "  </tbody>\n",
       "</table>\n",
       "<p>2500 rows × 2 columns</p>\n",
       "</div>"
      ],
      "text/plain": [
       "        original        pred\n",
       "9394  138.085796  141.911789\n",
       "898   187.363366  176.532595\n",
       "2398  216.533191  219.793042\n",
       "5906  131.761443  148.811553\n",
       "2343  157.718438  162.055140\n",
       "...          ...         ...\n",
       "8764  121.094631  142.591020\n",
       "4359  207.493691  203.493438\n",
       "2041  169.634399  183.234557\n",
       "1108  169.459631  164.052225\n",
       "3332  123.628360  137.436045\n",
       "\n",
       "[2500 rows x 2 columns]"
      ]
     },
     "execution_count": 60,
     "metadata": {},
     "output_type": "execute_result"
    }
   ],
   "source": [
    "pd.DataFrame({\"original\":y_test, 'pred':predictions})\n"
   ]
  },
  {
   "cell_type": "code",
   "execution_count": 61,
   "id": "521d0282",
   "metadata": {},
   "outputs": [
    {
     "data": {
      "text/plain": [
       "0.9017457495616483"
      ]
     },
     "execution_count": 61,
     "metadata": {},
     "output_type": "execute_result"
    }
   ],
   "source": [
    "from sklearn.metrics import r2_score\n",
    "r2_score(y_test,predictions)"
   ]
  },
  {
   "cell_type": "code",
   "execution_count": 62,
   "id": "6e8b6305",
   "metadata": {},
   "outputs": [
    {
     "data": {
      "text/plain": [
       "102.3964688391935"
      ]
     },
     "execution_count": 62,
     "metadata": {},
     "output_type": "execute_result"
    }
   ],
   "source": [
    "from sklearn.metrics import mean_squared_error\n",
    "mean_squared_error(y_test,predictions)"
   ]
  },
  {
   "cell_type": "code",
   "execution_count": null,
   "id": "f3f61516",
   "metadata": {},
   "outputs": [],
   "source": []
  }
 ],
 "metadata": {
  "kernelspec": {
   "display_name": "Python 3",
   "language": "python",
   "name": "python3"
  },
  "language_info": {
   "codemirror_mode": {
    "name": "ipython",
    "version": 3
   },
   "file_extension": ".py",
   "mimetype": "text/x-python",
   "name": "python",
   "nbconvert_exporter": "python",
   "pygments_lexer": "ipython3",
   "version": "3.7.4"
  }
 },
 "nbformat": 4,
 "nbformat_minor": 5
}
