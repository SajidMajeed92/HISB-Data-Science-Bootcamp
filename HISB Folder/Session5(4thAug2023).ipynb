{
 "cells": [
  {
   "cell_type": "code",
   "execution_count": null,
   "id": "55a0f97d",
   "metadata": {
    "scrolled": true
   },
   "outputs": [],
   "source": [
    "# input a table number from user and generate the table upto 10 \n",
    "table  = int(input(\"Enter a table number :\"))\n",
    "for a in range(1,11):\n",
    "    print(f\"{table} * {a} = {table*a}\")"
   ]
  },
  {
   "cell_type": "code",
   "execution_count": null,
   "id": "2d705b46",
   "metadata": {},
   "outputs": [],
   "source": [
    "table_numbers = input(\"Enter table numbers: \").split(',')\n",
    "# print(table_numbers)\n",
    "for table in table_numbers:\n",
    "    for a in range(1,11):\n",
    "        print(f\"{table} * {a} = {int(table)*a}\")\n",
    "    print(\"----------------------\")\n",
    "    "
   ]
  },
  {
   "cell_type": "raw",
   "id": "07804563",
   "metadata": {},
   "source": [
    "# Take a text paragraph input from user: \n",
    "    count the number of occurence of each vowel in the paragraph\n",
    "    \n",
    "    \n",
    "    In this article, I’d like to reacquaint you with the humble workhorse of communication \n",
    "    \n",
    "    that is the paragraph. Paragraphs are everywhere. In fact, at the high risk of stating \n",
    "    the obvious, you are reading one now. Despite their ubiquity, we frequently neglect\n",
    "    their presentation. This is a mistake."
   ]
  },
  {
   "cell_type": "code",
   "execution_count": null,
   "id": "27d94517",
   "metadata": {},
   "outputs": [],
   "source": [
    "text  = input(\"Enter a parageaph: \")\n",
    "vowels = \"aeiouAEIOU\"\n",
    "vowel_count={}\n",
    "for vowel in vowels:\n",
    "    vowel_count[vowel] = text.count(vowel)\n",
    "    \n",
    "vowel_count"
   ]
  },
  {
   "cell_type": "code",
   "execution_count": null,
   "id": "2ad2ffc7",
   "metadata": {},
   "outputs": [],
   "source": [
    "text  = input(\"Enter a parageaph: \")\n",
    "vowels = \"aeiouAEIOU\"\n",
    "vowel_count={}\n",
    "for vowel in vowels:\n",
    "    vowel_count[vowel] = text.count(vowel)\n",
    "    \n",
    "winner = max(vowel_count,key=vowel_count.get)\n",
    "winner"
   ]
  },
  {
   "cell_type": "code",
   "execution_count": null,
   "id": "6e685a03",
   "metadata": {},
   "outputs": [],
   "source": [
    "max([1,2,3])"
   ]
  },
  {
   "cell_type": "code",
   "execution_count": null,
   "id": "1dd21aa9",
   "metadata": {},
   "outputs": [],
   "source": [
    "vowel_count"
   ]
  },
  {
   "cell_type": "code",
   "execution_count": null,
   "id": "6a7af0ed",
   "metadata": {},
   "outputs": [],
   "source": [
    "# iterating over a dictionary \n",
    "\n",
    "#By default it iterates over keys\n",
    "for d in vowel_count:\n",
    "    print(d)"
   ]
  },
  {
   "cell_type": "code",
   "execution_count": null,
   "id": "898364bd",
   "metadata": {},
   "outputs": [],
   "source": [
    "#keys() it iterates over keys\n",
    "for key in vowel_count.keys():\n",
    "    print(key)"
   ]
  },
  {
   "cell_type": "code",
   "execution_count": null,
   "id": "db52fac5",
   "metadata": {},
   "outputs": [],
   "source": [
    "#values it iterates over vales\n",
    "for value in vowel_count.values():\n",
    "    print(value)"
   ]
  },
  {
   "cell_type": "code",
   "execution_count": null,
   "id": "b575526b",
   "metadata": {},
   "outputs": [],
   "source": [
    "#items() it iterates over keys\n",
    "for item in vowel_count.items():\n",
    "    print(item)"
   ]
  },
  {
   "cell_type": "code",
   "execution_count": null,
   "id": "50de863c",
   "metadata": {
    "scrolled": true
   },
   "outputs": [],
   "source": [
    "#items() it iterates over keys\n",
    "for k,v in vowel_count.items():\n",
    "    print(k, v)"
   ]
  },
  {
   "cell_type": "code",
   "execution_count": null,
   "id": "bfa0a0f7",
   "metadata": {},
   "outputs": [],
   "source": [
    "# enumerate\n",
    "for i, char in enumerate(text[:20]):\n",
    "    print(i, char)"
   ]
  },
  {
   "cell_type": "code",
   "execution_count": null,
   "id": "553309da",
   "metadata": {},
   "outputs": [],
   "source": [
    "guests  = ['waseem', 'danish', 'asad', 'fahad' , 'sana', 'hina', 'umer', 'hussain']\n",
    "\n",
    "for i , guest in enumerate(guests):\n",
    "    print(i, guest)"
   ]
  },
  {
   "cell_type": "markdown",
   "id": "d41871d7",
   "metadata": {},
   "source": [
    "# While Loops "
   ]
  },
  {
   "cell_type": "code",
   "execution_count": 4,
   "id": "ca5123e0",
   "metadata": {},
   "outputs": [
    {
     "name": "stdout",
     "output_type": "stream",
     "text": [
      "Guest name: tahir\n",
      "Guest name: rehman\n",
      "Guest name: qaiser\n",
      "Guest name: tami\n",
      "Guest name: usama\n"
     ]
    },
    {
     "data": {
      "text/plain": [
       "['tahir', 'rehman', 'qaiser', 'tami', 'usama']"
      ]
     },
     "execution_count": 4,
     "metadata": {},
     "output_type": "execute_result"
    }
   ],
   "source": [
    "guests = []\n",
    "for a in range(5):\n",
    "    guest = input(\"Guest name: \")\n",
    "    guests.append(guest)\n",
    "guests"
   ]
  },
  {
   "cell_type": "code",
   "execution_count": 6,
   "id": "d8e54f04",
   "metadata": {},
   "outputs": [
    {
     "name": "stdout",
     "output_type": "stream",
     "text": [
      "0 Hello\n",
      "1 Hello\n",
      "2 Hello\n",
      "3 Hello\n",
      "4 Hello\n"
     ]
    }
   ],
   "source": [
    "counter  = 0\n",
    "while counter <5:\n",
    "    print(counter, \"Hello\")\n",
    "    counter +=1"
   ]
  },
  {
   "cell_type": "code",
   "execution_count": 7,
   "id": "11b9fe82",
   "metadata": {},
   "outputs": [
    {
     "name": "stdout",
     "output_type": "stream",
     "text": [
      "5 Hello\n",
      "4 Hello\n",
      "3 Hello\n",
      "2 Hello\n",
      "1 Hello\n"
     ]
    }
   ],
   "source": [
    "counter  = 5 \n",
    "while counter >0:\n",
    "    print(counter,\"Hello\")\n",
    "    counter -=1"
   ]
  },
  {
   "cell_type": "code",
   "execution_count": 10,
   "id": "3979388d",
   "metadata": {},
   "outputs": [
    {
     "name": "stdout",
     "output_type": "stream",
     "text": [
      "Enter Guest name or Q to quit: a\n",
      "Enter Guest name or Q to quit: b\n",
      "Enter Guest name or Q to quit: c\n",
      "Enter Guest name or Q to quit: s\n",
      "Enter Guest name or Q to quit: d\n",
      "Enter Guest name or Q to quit: f\n",
      "Enter Guest name or Q to quit: Q\n"
     ]
    },
    {
     "data": {
      "text/plain": [
       "['a', 'b', 'c', 's', 'd', 'f']"
      ]
     },
     "execution_count": 10,
     "metadata": {},
     "output_type": "execute_result"
    }
   ],
   "source": [
    "guests = []\n",
    "while True:\n",
    "    guest = input(\"Enter Guest name or Q to quit: \")\n",
    "    if guest == \"Q\":\n",
    "        break\n",
    "    else:\n",
    "        guests.append(guest)\n",
    "guests"
   ]
  },
  {
   "cell_type": "code",
   "execution_count": 11,
   "id": "fca0b863",
   "metadata": {},
   "outputs": [
    {
     "name": "stdout",
     "output_type": "stream",
     "text": [
      "Enter order item or q to quit: rice\n",
      "You order amount is 300\n",
      "Enter order item or q to quit: oil\n",
      "You order amount is 800\n",
      "Enter order item or q to quit: tea\n",
      "tea item not in store: \n",
      "Enter order item or q to quit: choclate\n",
      "You order amount is 900\n",
      "Enter order item or q to quit: water\n",
      "You order amount is 1000\n",
      "Enter order item or q to quit: fairnlovely\n",
      "['rice', 'oil', 'choclate', 'water'] your order amount exceeds order limit of 1000\n"
     ]
    }
   ],
   "source": [
    "store_items = {\"rice\":300, \"oil\":500,\"water\":100, \"choclate\":100, \"fairnlovely\":200}\n",
    "orderItem = []\n",
    "sum = 0\n",
    "\n",
    "while True:\n",
    "    order = input(\"Enter order item or q to quit: \").lower()\n",
    "    if order == 'q':\n",
    "        break\n",
    "    elif order not in store_items.keys():\n",
    "        print(f\"{order} item not in store: \")\n",
    "        continue\n",
    "    else:\n",
    "        if(sum>=1000):\n",
    "                break\n",
    "        else:\n",
    "            sum += store_items[order]\n",
    "            print(f\"You order amount is {sum}\")\n",
    "            orderItem.append(order)\n",
    "print(f\"{orderItem} your order amount exceeds order limit of 1000\")"
   ]
  },
  {
   "cell_type": "code",
   "execution_count": 4,
   "id": "96341624",
   "metadata": {},
   "outputs": [
    {
     "name": "stdout",
     "output_type": "stream",
     "text": [
      "Enter order item or q to quit: rice\n",
      "['rice']\n",
      "300\n",
      "Enter order item or q to quit: oil\n",
      "['rice', 'oil']\n",
      "800\n",
      "Enter order item or q to quit: rice\n",
      "['rice', 'oil']\n",
      "800\n",
      "Your limit exceeds no more items can be added in cart\n",
      "Enter order item or q to quit: q\n",
      "['rice', 'oil']\n",
      "800\n"
     ]
    }
   ],
   "source": [
    "store_items = {\"rice\":300, \"oil\":500,\"water\":100, \"choclate\":100, \"fairnlovely\":200}\n",
    "cart = []\n",
    "amt = 0\n",
    "while True:\n",
    "    order = input(\"Enter order item or q to quit: \").lower()\n",
    "    if order != \"q\":\n",
    "        if order in store_items.keys():\n",
    "            if (amt+store_items[order]) < 1000:                \n",
    "                amt+=store_items[order]                \n",
    "                cart.append(order)                 \n",
    "                print(cart)\n",
    "                print(amt) \n",
    "            else:\n",
    "                print(cart)\n",
    "                print(amt)\n",
    "                print(\"Your limit exceeds no more items can be added in cart\")                \n",
    "        else:\n",
    "            print(f\"{order} not in our store\")\n",
    "            continue       \n",
    "    else:\n",
    "        print(cart)\n",
    "        print(amt)\n",
    "        break"
   ]
  },
  {
   "cell_type": "code",
   "execution_count": null,
   "id": "8aa2b4ed",
   "metadata": {},
   "outputs": [],
   "source": []
  },
  {
   "cell_type": "code",
   "execution_count": null,
   "id": "58d14195",
   "metadata": {},
   "outputs": [],
   "source": []
  }
 ],
 "metadata": {
  "kernelspec": {
   "display_name": "Python 3",
   "language": "python",
   "name": "python3"
  },
  "language_info": {
   "codemirror_mode": {
    "name": "ipython",
    "version": 3
   },
   "file_extension": ".py",
   "mimetype": "text/x-python",
   "name": "python",
   "nbconvert_exporter": "python",
   "pygments_lexer": "ipython3",
   "version": "3.7.4"
  }
 },
 "nbformat": 4,
 "nbformat_minor": 5
}
