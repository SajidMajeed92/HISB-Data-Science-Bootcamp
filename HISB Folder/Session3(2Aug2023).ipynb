{
 "cells": [
  {
   "cell_type": "markdown",
   "id": "0003b6d6",
   "metadata": {},
   "source": [
    "# Python Dictionaries \n",
    "    - dictionary are created using  {}\n",
    "    - items in dictionaries are key:value based NOT on index basis\n"
   ]
  },
  {
   "cell_type": "code",
   "execution_count": 3,
   "id": "44a0cbc9",
   "metadata": {},
   "outputs": [
    {
     "data": {
      "text/plain": [
       "dict"
      ]
     },
     "execution_count": 3,
     "metadata": {},
     "output_type": "execute_result"
    }
   ],
   "source": [
    "# creating an empty dict\n",
    "record1 = {}\n",
    "type(record1)"
   ]
  },
  {
   "cell_type": "code",
   "execution_count": 7,
   "id": "d9f06074",
   "metadata": {},
   "outputs": [
    {
     "data": {
      "text/plain": [
       "3"
      ]
     },
     "execution_count": 7,
     "metadata": {},
     "output_type": "execute_result"
    }
   ],
   "source": [
    "# creating a dic with items ( key:value) pair\n",
    "record2 = {\"laptop\":20000, 'keyboard':5000, 'bag':3000}\n",
    "len(record2)"
   ]
  },
  {
   "cell_type": "code",
   "execution_count": 8,
   "id": "bc6733e8",
   "metadata": {},
   "outputs": [
    {
     "data": {
      "text/plain": [
       "3000"
      ]
     },
     "execution_count": 8,
     "metadata": {},
     "output_type": "execute_result"
    }
   ],
   "source": [
    "# retriving data from a dictionary\n",
    "# based on keys only\n",
    "record2['bag']"
   ]
  },
  {
   "cell_type": "markdown",
   "id": "ef83f0c9",
   "metadata": {},
   "source": [
    "### delete elements from a dictionary\n",
    "  - pop \n",
    "  - pop items\n",
    "  -  del \n"
   ]
  },
  {
   "cell_type": "code",
   "execution_count": 11,
   "id": "0ebbeeb1",
   "metadata": {},
   "outputs": [],
   "source": [
    "del record2['bag']"
   ]
  },
  {
   "cell_type": "code",
   "execution_count": 12,
   "id": "6f4e2341",
   "metadata": {},
   "outputs": [
    {
     "data": {
      "text/plain": [
       "{'laptop': 20000, 'keyboard': 5000}"
      ]
     },
     "execution_count": 12,
     "metadata": {},
     "output_type": "execute_result"
    }
   ],
   "source": [
    "record2"
   ]
  },
  {
   "cell_type": "code",
   "execution_count": 14,
   "id": "b6fa02a7",
   "metadata": {},
   "outputs": [
    {
     "data": {
      "text/plain": [
       "20000"
      ]
     },
     "execution_count": 14,
     "metadata": {},
     "output_type": "execute_result"
    }
   ],
   "source": [
    "record2.pop('laptop')"
   ]
  },
  {
   "cell_type": "code",
   "execution_count": 15,
   "id": "26c5298d",
   "metadata": {},
   "outputs": [
    {
     "data": {
      "text/plain": [
       "{'keyboard': 5000}"
      ]
     },
     "execution_count": 15,
     "metadata": {},
     "output_type": "execute_result"
    }
   ],
   "source": [
    "record2"
   ]
  },
  {
   "cell_type": "code",
   "execution_count": 17,
   "id": "02a57fc7",
   "metadata": {},
   "outputs": [
    {
     "name": "stdout",
     "output_type": "stream",
     "text": [
      "('bag', 3000)\n"
     ]
    },
    {
     "data": {
      "text/plain": [
       "{'laptop': 20000, 'keyboard': 5000}"
      ]
     },
     "execution_count": 17,
     "metadata": {},
     "output_type": "execute_result"
    }
   ],
   "source": [
    "record2 = {\"laptop\":20000, 'keyboard':5000, 'bag':3000}\n",
    "# removes last key-value pair from list. \n",
    "print(record2.popitem())\n",
    "record2"
   ]
  },
  {
   "cell_type": "code",
   "execution_count": 18,
   "id": "5811b224",
   "metadata": {},
   "outputs": [
    {
     "data": {
      "text/plain": [
       "{}"
      ]
     },
     "execution_count": 18,
     "metadata": {},
     "output_type": "execute_result"
    }
   ],
   "source": [
    "record1"
   ]
  },
  {
   "cell_type": "code",
   "execution_count": 19,
   "id": "a3495337",
   "metadata": {},
   "outputs": [
    {
     "data": {
      "text/plain": [
       "{'name': 'Ali'}"
      ]
     },
     "execution_count": 19,
     "metadata": {},
     "output_type": "execute_result"
    }
   ],
   "source": [
    "record1['name'] = \"Ali\"\n",
    "record1"
   ]
  },
  {
   "cell_type": "code",
   "execution_count": 20,
   "id": "59846d73",
   "metadata": {},
   "outputs": [
    {
     "data": {
      "text/plain": [
       "{'name': 'Ali', 'email': 'ali@gmail.com'}"
      ]
     },
     "execution_count": 20,
     "metadata": {},
     "output_type": "execute_result"
    }
   ],
   "source": [
    "record1['email'] = \"ali@gmail.com\"\n",
    "record1"
   ]
  },
  {
   "cell_type": "code",
   "execution_count": 21,
   "id": "4c435d53",
   "metadata": {},
   "outputs": [
    {
     "data": {
      "text/plain": [
       "{1: 1, 2: 88, 3: 27, 4: 64, 5: 125}"
      ]
     },
     "execution_count": 21,
     "metadata": {},
     "output_type": "execute_result"
    }
   ],
   "source": [
    "# repeated keys will reassign new updated value in memory\n",
    "# previous one will be updated\n",
    "temp_dic = {1:1, 2:8, 3:27,4:64,5:125, 2:88}\n",
    "temp_dic"
   ]
  },
  {
   "cell_type": "code",
   "execution_count": 22,
   "id": "8a82b7d4",
   "metadata": {},
   "outputs": [
    {
     "data": {
      "text/plain": [
       "{1: 'one', 2: 'eight', 3: 'twenty seven', 'four': 64, 5: 125}"
      ]
     },
     "execution_count": 22,
     "metadata": {},
     "output_type": "execute_result"
    }
   ],
   "source": [
    "temp_dic = {1:'one', 2:'eight', 3:'twenty seven','four':64,5:125}\n",
    "temp_dic"
   ]
  },
  {
   "cell_type": "code",
   "execution_count": 24,
   "id": "2698a316",
   "metadata": {},
   "outputs": [
    {
     "data": {
      "text/plain": [
       "'w'"
      ]
     },
     "execution_count": 24,
     "metadata": {},
     "output_type": "execute_result"
    }
   ],
   "source": [
    "temp_dic[3][1]"
   ]
  },
  {
   "cell_type": "code",
   "execution_count": 25,
   "id": "59b22c22",
   "metadata": {},
   "outputs": [],
   "source": [
    "sales = {\n",
    "         'items':     ['cell','grinder','tv','laptop'],\n",
    "         'price':     [1200,2000,25000,50000],\n",
    "          'sale_man': ['nasir', 'waseem', 'umer', 'khan'],\n",
    "          \"units\":    [200, 5,50,20]\n",
    "        }"
   ]
  },
  {
   "cell_type": "code",
   "execution_count": 26,
   "id": "0874653d",
   "metadata": {},
   "outputs": [],
   "source": [
    "import pandas as pd"
   ]
  },
  {
   "cell_type": "code",
   "execution_count": 64,
   "id": "a5b119b9",
   "metadata": {},
   "outputs": [
    {
     "data": {
      "text/html": [
       "<div>\n",
       "<style scoped>\n",
       "    .dataframe tbody tr th:only-of-type {\n",
       "        vertical-align: middle;\n",
       "    }\n",
       "\n",
       "    .dataframe tbody tr th {\n",
       "        vertical-align: top;\n",
       "    }\n",
       "\n",
       "    .dataframe thead th {\n",
       "        text-align: right;\n",
       "    }\n",
       "</style>\n",
       "<table border=\"1\" class=\"dataframe\">\n",
       "  <thead>\n",
       "    <tr style=\"text-align: right;\">\n",
       "      <th></th>\n",
       "      <th>items</th>\n",
       "      <th>price</th>\n",
       "      <th>sale_man</th>\n",
       "      <th>units</th>\n",
       "      <th>distr</th>\n",
       "    </tr>\n",
       "  </thead>\n",
       "  <tbody>\n",
       "    <tr>\n",
       "      <td>0</td>\n",
       "      <td>cell</td>\n",
       "      <td>1200</td>\n",
       "      <td>nasir</td>\n",
       "      <td>200</td>\n",
       "      <td>XYT Enter</td>\n",
       "    </tr>\n",
       "    <tr>\n",
       "      <td>1</td>\n",
       "      <td>grinder</td>\n",
       "      <td>2000</td>\n",
       "      <td>waseem</td>\n",
       "      <td>5</td>\n",
       "      <td>XYT Enter</td>\n",
       "    </tr>\n",
       "    <tr>\n",
       "      <td>2</td>\n",
       "      <td>tv</td>\n",
       "      <td>25000</td>\n",
       "      <td>umer</td>\n",
       "      <td>50</td>\n",
       "      <td>XYT Enter</td>\n",
       "    </tr>\n",
       "    <tr>\n",
       "      <td>3</td>\n",
       "      <td>laptop</td>\n",
       "      <td>50000</td>\n",
       "      <td>khan</td>\n",
       "      <td>20</td>\n",
       "      <td>XYT Enter</td>\n",
       "    </tr>\n",
       "  </tbody>\n",
       "</table>\n",
       "</div>"
      ],
      "text/plain": [
       "     items  price sale_man  units      distr\n",
       "0     cell   1200    nasir    200  XYT Enter\n",
       "1  grinder   2000   waseem      5  XYT Enter\n",
       "2       tv  25000     umer     50  XYT Enter\n",
       "3   laptop  50000     khan     20  XYT Enter"
      ]
     },
     "execution_count": 64,
     "metadata": {},
     "output_type": "execute_result"
    }
   ],
   "source": [
    "df = pd.DataFrame(sales)\n",
    "df['distr'] = \"XYT Enter\"\n",
    "df"
   ]
  },
  {
   "cell_type": "code",
   "execution_count": 38,
   "id": "d74dc946",
   "metadata": {},
   "outputs": [
    {
     "name": "stdout",
     "output_type": "stream",
     "text": [
      "ali@gmail.com\n",
      "ali@gmail.com\n"
     ]
    }
   ],
   "source": [
    "# we can get value using get function and indexing by passing key\n",
    "print(record1.get('email'))\n",
    "\n",
    "print(record1['email'])"
   ]
  },
  {
   "cell_type": "code",
   "execution_count": 39,
   "id": "ec512323",
   "metadata": {},
   "outputs": [
    {
     "data": {
      "text/plain": [
       "dict_keys(['name', 'email'])"
      ]
     },
     "execution_count": 39,
     "metadata": {},
     "output_type": "execute_result"
    }
   ],
   "source": [
    "# will return keys \n",
    "record1.keys()"
   ]
  },
  {
   "cell_type": "code",
   "execution_count": 40,
   "id": "e75abb49",
   "metadata": {},
   "outputs": [
    {
     "data": {
      "text/plain": [
       "dict_values(['Ali', 'ali@gmail.com'])"
      ]
     },
     "execution_count": 40,
     "metadata": {},
     "output_type": "execute_result"
    }
   ],
   "source": [
    "# will return values\n",
    "record1.values()"
   ]
  },
  {
   "cell_type": "code",
   "execution_count": 36,
   "id": "cd895aee",
   "metadata": {},
   "outputs": [
    {
     "data": {
      "text/plain": [
       "dict_items([('name', 'Ali'), ('email', 'ali@gmail.com')])"
      ]
     },
     "execution_count": 36,
     "metadata": {},
     "output_type": "execute_result"
    }
   ],
   "source": [
    "# will return both key n values in form of tuple.\n",
    "record1.items()"
   ]
  },
  {
   "cell_type": "code",
   "execution_count": 45,
   "id": "a2a57146",
   "metadata": {},
   "outputs": [],
   "source": [
    "# if more than one key value pair to be added we will use update\n",
    "# which extends the dictinary \n",
    "record1.update({'contact':'1234567890', 'course':\"DS\"})"
   ]
  },
  {
   "cell_type": "code",
   "execution_count": 46,
   "id": "e660e45a",
   "metadata": {},
   "outputs": [
    {
     "data": {
      "text/plain": [
       "{'name': 'Ali',\n",
       " 'email': 'ali@gmail.com',\n",
       " 'contact': '1234567890',\n",
       " 'course': 'DS'}"
      ]
     },
     "execution_count": 46,
     "metadata": {},
     "output_type": "execute_result"
    }
   ],
   "source": [
    "record1"
   ]
  },
  {
   "cell_type": "code",
   "execution_count": 47,
   "id": "23bc3a11",
   "metadata": {},
   "outputs": [
    {
     "ename": "TypeError",
     "evalue": "unsupported operand type(s) for +: 'dict' and 'dict'",
     "output_type": "error",
     "traceback": [
      "\u001b[1;31m---------------------------------------------------------------------------\u001b[0m",
      "\u001b[1;31mTypeError\u001b[0m                                 Traceback (most recent call last)",
      "\u001b[1;32m<ipython-input-47-edc2edcb4f0c>\u001b[0m in \u001b[0;36m<module>\u001b[1;34m\u001b[0m\n\u001b[0;32m      1\u001b[0m \u001b[1;31m# plus operator will not extends dictionaries but it extends lists\u001b[0m\u001b[1;33m\u001b[0m\u001b[1;33m\u001b[0m\u001b[1;33m\u001b[0m\u001b[0m\n\u001b[1;32m----> 2\u001b[1;33m \u001b[0mrecord1\u001b[0m \u001b[1;33m+\u001b[0m \u001b[0mrecord2\u001b[0m\u001b[1;33m\u001b[0m\u001b[1;33m\u001b[0m\u001b[0m\n\u001b[0m",
      "\u001b[1;31mTypeError\u001b[0m: unsupported operand type(s) for +: 'dict' and 'dict'"
     ]
    }
   ],
   "source": [
    "# plus operator will not extends dictionaries but it extends lists\n",
    "record1 + record2"
   ]
  },
  {
   "cell_type": "code",
   "execution_count": 48,
   "id": "de608e8f",
   "metadata": {},
   "outputs": [],
   "source": [
    "record1.setdefault('imdefault')"
   ]
  },
  {
   "cell_type": "code",
   "execution_count": 50,
   "id": "d7d79cfa",
   "metadata": {},
   "outputs": [
    {
     "data": {
      "text/plain": [
       "{'name': 'Ali',\n",
       " 'email': 'ali@gmail.com',\n",
       " 'contact': '1234567890',\n",
       " 'course': 'DS',\n",
       " 'imdefault': None}"
      ]
     },
     "execution_count": 50,
     "metadata": {},
     "output_type": "execute_result"
    }
   ],
   "source": [
    "record1"
   ]
  },
  {
   "cell_type": "code",
   "execution_count": 60,
   "id": "e292bcbf",
   "metadata": {},
   "outputs": [],
   "source": [
    "contact = {\"zahid\":1,\"asad\":2}\n",
    "msg = 1,2\n",
    "\n",
    "newmsg = dict.fromkeys(contact,msg)"
   ]
  },
  {
   "cell_type": "code",
   "execution_count": 61,
   "id": "59b33bc4",
   "metadata": {},
   "outputs": [
    {
     "data": {
      "text/plain": [
       "{'zahid': (1, 2), 'asad': (1, 2)}"
      ]
     },
     "execution_count": 61,
     "metadata": {},
     "output_type": "execute_result"
    }
   ],
   "source": [
    "newmsg"
   ]
  },
  {
   "cell_type": "code",
   "execution_count": 65,
   "id": "2c1f2049",
   "metadata": {},
   "outputs": [
    {
     "data": {
      "text/plain": [
       "30"
      ]
     },
     "execution_count": 65,
     "metadata": {},
     "output_type": "execute_result"
    }
   ],
   "source": [
    "x = [\n",
    "    'a',\n",
    "     'b',\n",
    "     {'foo': 1,'bar':{'x' : 10,'y' : 20,'z' : 30},'baz': 3 },\n",
    "    'c',\n",
    "    'd'\n",
    "    ]\n",
    "x[2]['bar']['z']"
   ]
  },
  {
   "cell_type": "code",
   "execution_count": 66,
   "id": "14a8e098",
   "metadata": {},
   "outputs": [
    {
     "data": {
      "text/plain": [
       "{(3+2j): '100'}"
      ]
     },
     "execution_count": 66,
     "metadata": {},
     "output_type": "execute_result"
    }
   ],
   "source": [
    "{(3+2j):\"100\"}"
   ]
  },
  {
   "cell_type": "code",
   "execution_count": 67,
   "id": "9b9a8b03",
   "metadata": {},
   "outputs": [
    {
     "data": {
      "text/plain": [
       "{<function len(obj, /)>: 23}"
      ]
     },
     "execution_count": 67,
     "metadata": {},
     "output_type": "execute_result"
    }
   ],
   "source": [
    "{len:23}"
   ]
  },
  {
   "cell_type": "code",
   "execution_count": 71,
   "id": "3b99e64e",
   "metadata": {},
   "outputs": [
    {
     "ename": "TypeError",
     "evalue": "unhashable type: 'dict'",
     "output_type": "error",
     "traceback": [
      "\u001b[1;31m---------------------------------------------------------------------------\u001b[0m",
      "\u001b[1;31mTypeError\u001b[0m                                 Traceback (most recent call last)",
      "\u001b[1;32m<ipython-input-71-85f0db6d80b6>\u001b[0m in \u001b[0;36m<module>\u001b[1;34m\u001b[0m\n\u001b[1;32m----> 1\u001b[1;33m \u001b[1;33m{\u001b[0m\u001b[0ma\u001b[0m\u001b[1;33m:\u001b[0m\u001b[1;34m\"dictionary\"\u001b[0m\u001b[1;33m}\u001b[0m\u001b[1;33m\u001b[0m\u001b[1;33m\u001b[0m\u001b[0m\n\u001b[0m",
      "\u001b[1;31mTypeError\u001b[0m: unhashable type: 'dict'"
     ]
    }
   ],
   "source": [
    "{a:\"dictionary\"}"
   ]
  },
  {
   "cell_type": "code",
   "execution_count": 70,
   "id": "e3ca2c72",
   "metadata": {},
   "outputs": [],
   "source": [
    "a = dict(foo=1, bar=2)"
   ]
  },
  {
   "cell_type": "code",
   "execution_count": 72,
   "id": "7f9780f9",
   "metadata": {},
   "outputs": [
    {
     "ename": "TypeError",
     "evalue": "unhashable type: 'list'",
     "output_type": "error",
     "traceback": [
      "\u001b[1;31m---------------------------------------------------------------------------\u001b[0m",
      "\u001b[1;31mTypeError\u001b[0m                                 Traceback (most recent call last)",
      "\u001b[1;32m<ipython-input-72-0b8d5af6c482>\u001b[0m in \u001b[0;36m<module>\u001b[1;34m\u001b[0m\n\u001b[1;32m----> 1\u001b[1;33m \u001b[1;33m{\u001b[0m\u001b[1;33m[\u001b[0m\u001b[1;36m1\u001b[0m\u001b[1;33m,\u001b[0m\u001b[1;36m3\u001b[0m\u001b[1;33m]\u001b[0m \u001b[1;33m:\u001b[0m\u001b[1;36m34\u001b[0m\u001b[1;33m}\u001b[0m\u001b[1;33m\u001b[0m\u001b[1;33m\u001b[0m\u001b[0m\n\u001b[0m",
      "\u001b[1;31mTypeError\u001b[0m: unhashable type: 'list'"
     ]
    }
   ],
   "source": [
    "{[1,3] :34}"
   ]
  },
  {
   "cell_type": "code",
   "execution_count": 73,
   "id": "9352f801",
   "metadata": {},
   "outputs": [
    {
     "data": {
      "text/plain": [
       "{(1, 2): 12}"
      ]
     },
     "execution_count": 73,
     "metadata": {},
     "output_type": "execute_result"
    }
   ],
   "source": [
    "{(1,2):12}"
   ]
  },
  {
   "cell_type": "code",
   "execution_count": 76,
   "id": "86b9beb2",
   "metadata": {},
   "outputs": [
    {
     "data": {
      "text/plain": [
       "True"
      ]
     },
     "execution_count": 76,
     "metadata": {},
     "output_type": "execute_result"
    }
   ],
   "source": [
    "x = [\n",
    "    'a',\n",
    "     'b',\n",
    "     {'foo': 1,'bar':{'x' : 10,'y' : 20,'z' : 30},'baz': 3 },\n",
    "    'c',\n",
    "    'd'\n",
    "    ]\n",
    "\n",
    "'z' in x[2]['bar']"
   ]
  },
  {
   "cell_type": "markdown",
   "id": "7fb93baf",
   "metadata": {},
   "source": [
    "# Set "
   ]
  },
  {
   "cell_type": "code",
   "execution_count": 77,
   "id": "2a02f609",
   "metadata": {},
   "outputs": [
    {
     "data": {
      "text/plain": [
       "{1, 2, 3}"
      ]
     },
     "execution_count": 77,
     "metadata": {},
     "output_type": "execute_result"
    }
   ],
   "source": [
    "aset = {1,1,3,2}\n",
    "aset"
   ]
  },
  {
   "cell_type": "code",
   "execution_count": 78,
   "id": "e6ab0020",
   "metadata": {},
   "outputs": [],
   "source": [
    "bset = {}\n",
    "cset= {1}"
   ]
  },
  {
   "cell_type": "code",
   "execution_count": null,
   "id": "f1143fa8",
   "metadata": {},
   "outputs": [],
   "source": []
  }
 ],
 "metadata": {
  "kernelspec": {
   "display_name": "Python 3",
   "language": "python",
   "name": "python3"
  },
  "language_info": {
   "codemirror_mode": {
    "name": "ipython",
    "version": 3
   },
   "file_extension": ".py",
   "mimetype": "text/x-python",
   "name": "python",
   "nbconvert_exporter": "python",
   "pygments_lexer": "ipython3",
   "version": "3.7.4"
  }
 },
 "nbformat": 4,
 "nbformat_minor": 5
}
