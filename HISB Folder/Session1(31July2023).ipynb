{
 "cells": [
  {
   "cell_type": "code",
   "execution_count": 1,
   "id": "fc184a93",
   "metadata": {},
   "outputs": [
    {
     "name": "stdout",
     "output_type": "stream",
     "text": [
      "Text\n"
     ]
    }
   ],
   "source": [
    "print(\"Text\")"
   ]
  },
  {
   "cell_type": "code",
   "execution_count": 2,
   "id": "1122f520",
   "metadata": {},
   "outputs": [
    {
     "name": "stdout",
     "output_type": "stream",
     "text": [
      "123\n"
     ]
    }
   ],
   "source": [
    "print(123)"
   ]
  },
  {
   "cell_type": "code",
   "execution_count": 9,
   "id": "ef96cdc0",
   "metadata": {},
   "outputs": [
    {
     "name": "stdout",
     "output_type": "stream",
     "text": [
      "Hello Python---123---34.5---False\n",
      "\n",
      "\n",
      "\n",
      "\n",
      "Another line in printing\n"
     ]
    }
   ],
   "source": [
    "print(\"Hello Python\", 123, 34.5, False,sep=\"---\",end=\"\\n\\n\\n\\n\\n\")\n",
    "print(\"Another line in printing\")"
   ]
  },
  {
   "cell_type": "markdown",
   "id": "3feb505d",
   "metadata": {},
   "source": [
    "Values: Data >Datatype >text numeric boolean\n",
    "    \n",
    "    text >> string >str\n",
    "    numeric >> whole numbers   Decimals\n",
    "                 integers         floting value\n",
    "                   int               float\n",
    "    Boolean    > True False"
   ]
  },
  {
   "cell_type": "code",
   "execution_count": 10,
   "id": "145ed739",
   "metadata": {},
   "outputs": [
    {
     "data": {
      "text/plain": [
       "str"
      ]
     },
     "execution_count": 10,
     "metadata": {},
     "output_type": "execute_result"
    }
   ],
   "source": [
    "type(\"Pakistan\")"
   ]
  },
  {
   "cell_type": "code",
   "execution_count": 11,
   "id": "a52c694d",
   "metadata": {},
   "outputs": [
    {
     "data": {
      "text/plain": [
       "int"
      ]
     },
     "execution_count": 11,
     "metadata": {},
     "output_type": "execute_result"
    }
   ],
   "source": [
    "type(123)"
   ]
  },
  {
   "cell_type": "code",
   "execution_count": 12,
   "id": "94604aaf",
   "metadata": {},
   "outputs": [
    {
     "data": {
      "text/plain": [
       "bool"
      ]
     },
     "execution_count": 12,
     "metadata": {},
     "output_type": "execute_result"
    }
   ],
   "source": [
    "type(True)"
   ]
  },
  {
   "cell_type": "code",
   "execution_count": 13,
   "id": "78d6fc97",
   "metadata": {},
   "outputs": [
    {
     "data": {
      "text/plain": [
       "float"
      ]
     },
     "execution_count": 13,
     "metadata": {},
     "output_type": "execute_result"
    }
   ],
   "source": [
    "type(23.6)"
   ]
  },
  {
   "cell_type": "code",
   "execution_count": 14,
   "id": "34d74c1d",
   "metadata": {},
   "outputs": [
    {
     "data": {
      "text/plain": [
       "140732829049584"
      ]
     },
     "execution_count": 14,
     "metadata": {},
     "output_type": "execute_result"
    }
   ],
   "source": [
    "id(12)"
   ]
  },
  {
   "cell_type": "code",
   "execution_count": 16,
   "id": "fcac9037",
   "metadata": {},
   "outputs": [
    {
     "data": {
      "text/plain": [
       "65"
      ]
     },
     "execution_count": 16,
     "metadata": {},
     "output_type": "execute_result"
    }
   ],
   "source": [
    "ord(\"A\")"
   ]
  },
  {
   "cell_type": "code",
   "execution_count": 17,
   "id": "357c1b61",
   "metadata": {},
   "outputs": [
    {
     "data": {
      "text/plain": [
       "'N'"
      ]
     },
     "execution_count": 17,
     "metadata": {},
     "output_type": "execute_result"
    }
   ],
   "source": [
    "chr(78)"
   ]
  },
  {
   "cell_type": "code",
   "execution_count": 18,
   "id": "8af9f30c",
   "metadata": {},
   "outputs": [
    {
     "data": {
      "text/plain": [
       "8"
      ]
     },
     "execution_count": 18,
     "metadata": {},
     "output_type": "execute_result"
    }
   ],
   "source": [
    "len(\"Pakistan\")"
   ]
  },
  {
   "cell_type": "markdown",
   "id": "48ece4e1",
   "metadata": {},
   "source": [
    "# String "
   ]
  },
  {
   "cell_type": "code",
   "execution_count": 19,
   "id": "54e8225a",
   "metadata": {},
   "outputs": [],
   "source": [
    "country  = \"United States\""
   ]
  },
  {
   "cell_type": "code",
   "execution_count": 20,
   "id": "af8a46d5",
   "metadata": {},
   "outputs": [
    {
     "data": {
      "text/plain": [
       "str"
      ]
     },
     "execution_count": 20,
     "metadata": {},
     "output_type": "execute_result"
    }
   ],
   "source": [
    "type(country)"
   ]
  },
  {
   "cell_type": "code",
   "execution_count": 21,
   "id": "dc1504dd",
   "metadata": {},
   "outputs": [
    {
     "data": {
      "text/plain": [
       "1"
      ]
     },
     "execution_count": 21,
     "metadata": {},
     "output_type": "execute_result"
    }
   ],
   "source": [
    "country.count('ed')"
   ]
  },
  {
   "cell_type": "code",
   "execution_count": 22,
   "id": "f733471d",
   "metadata": {},
   "outputs": [
    {
     "data": {
      "text/plain": [
       "2"
      ]
     },
     "execution_count": 22,
     "metadata": {},
     "output_type": "execute_result"
    }
   ],
   "source": [
    "country.count('te')"
   ]
  },
  {
   "cell_type": "code",
   "execution_count": 24,
   "id": "dd53f838",
   "metadata": {},
   "outputs": [
    {
     "data": {
      "text/plain": [
       "11"
      ]
     },
     "execution_count": 24,
     "metadata": {},
     "output_type": "execute_result"
    }
   ],
   "source": [
    "country.find('e',5)"
   ]
  },
  {
   "cell_type": "code",
   "execution_count": 26,
   "id": "cf962a6b",
   "metadata": {},
   "outputs": [
    {
     "data": {
      "text/plain": [
       "True"
      ]
     },
     "execution_count": 26,
     "metadata": {},
     "output_type": "execute_result"
    }
   ],
   "source": [
    "\"country\".isalpha()"
   ]
  },
  {
   "cell_type": "code",
   "execution_count": 28,
   "id": "8cc08efc",
   "metadata": {},
   "outputs": [
    {
     "data": {
      "text/plain": [
       "True"
      ]
     },
     "execution_count": 28,
     "metadata": {},
     "output_type": "execute_result"
    }
   ],
   "source": [
    "\"country\".isidentifier()"
   ]
  },
  {
   "cell_type": "code",
   "execution_count": 29,
   "id": "8e927f7e",
   "metadata": {},
   "outputs": [],
   "source": [
    "del country"
   ]
  },
  {
   "cell_type": "code",
   "execution_count": 31,
   "id": "412a536a",
   "metadata": {},
   "outputs": [],
   "source": [
    "city = \"Karachi\""
   ]
  },
  {
   "cell_type": "code",
   "execution_count": 34,
   "id": "5de40762",
   "metadata": {},
   "outputs": [
    {
     "data": {
      "text/plain": [
       "True"
      ]
     },
     "execution_count": 34,
     "metadata": {},
     "output_type": "execute_result"
    }
   ],
   "source": [
    "city.isidentifier()"
   ]
  },
  {
   "cell_type": "code",
   "execution_count": 35,
   "id": "17622ad5",
   "metadata": {},
   "outputs": [],
   "source": [
    "text = \"Hello we are all pythoneers.\""
   ]
  },
  {
   "cell_type": "code",
   "execution_count": 37,
   "id": "72688a29",
   "metadata": {},
   "outputs": [],
   "source": [
    "splitted = text.split(' ')"
   ]
  },
  {
   "cell_type": "code",
   "execution_count": 38,
   "id": "92d94225",
   "metadata": {},
   "outputs": [
    {
     "data": {
      "text/plain": [
       "'Hello we are all pythoneers.'"
      ]
     },
     "execution_count": 38,
     "metadata": {},
     "output_type": "execute_result"
    }
   ],
   "source": [
    "' '.join(splitted)"
   ]
  },
  {
   "cell_type": "code",
   "execution_count": 39,
   "id": "eba4123d",
   "metadata": {},
   "outputs": [
    {
     "data": {
      "text/plain": [
       "'Hello we are all pythoneers.'"
      ]
     },
     "execution_count": 39,
     "metadata": {},
     "output_type": "execute_result"
    }
   ],
   "source": [
    "text"
   ]
  },
  {
   "cell_type": "code",
   "execution_count": 40,
   "id": "a421ee17",
   "metadata": {},
   "outputs": [
    {
     "data": {
      "text/plain": [
       "'Hello we are all PYTHONEERS.'"
      ]
     },
     "execution_count": 40,
     "metadata": {},
     "output_type": "execute_result"
    }
   ],
   "source": [
    "text.replace('pythoneers','PYTHONEERS')"
   ]
  },
  {
   "cell_type": "code",
   "execution_count": 41,
   "id": "c14fada7",
   "metadata": {},
   "outputs": [
    {
     "data": {
      "text/plain": [
       "'Hello we are all pythoneers.'"
      ]
     },
     "execution_count": 41,
     "metadata": {},
     "output_type": "execute_result"
    }
   ],
   "source": [
    "text"
   ]
  },
  {
   "cell_type": "code",
   "execution_count": 42,
   "id": "d7f97442",
   "metadata": {},
   "outputs": [],
   "source": [
    "name  = \" nasirhussain \""
   ]
  },
  {
   "cell_type": "code",
   "execution_count": 43,
   "id": "e43d3c55",
   "metadata": {},
   "outputs": [
    {
     "data": {
      "text/plain": [
       "False"
      ]
     },
     "execution_count": 43,
     "metadata": {},
     "output_type": "execute_result"
    }
   ],
   "source": [
    "name=='nasirhussain'"
   ]
  },
  {
   "cell_type": "code",
   "execution_count": 44,
   "id": "87e6665c",
   "metadata": {},
   "outputs": [
    {
     "name": "stdout",
     "output_type": "stream",
     "text": [
      " nasirhussain \n"
     ]
    }
   ],
   "source": [
    "print(name)"
   ]
  },
  {
   "cell_type": "code",
   "execution_count": 45,
   "id": "c483e33f",
   "metadata": {},
   "outputs": [
    {
     "data": {
      "text/plain": [
       "'nasirhussain '"
      ]
     },
     "execution_count": 45,
     "metadata": {},
     "output_type": "execute_result"
    }
   ],
   "source": [
    "name.lstrip()"
   ]
  },
  {
   "cell_type": "code",
   "execution_count": 46,
   "id": "2f74fb39",
   "metadata": {},
   "outputs": [
    {
     "data": {
      "text/plain": [
       "' nasirhussain'"
      ]
     },
     "execution_count": 46,
     "metadata": {},
     "output_type": "execute_result"
    }
   ],
   "source": [
    "name.rstrip()"
   ]
  },
  {
   "cell_type": "code",
   "execution_count": 47,
   "id": "1b7a8b21",
   "metadata": {},
   "outputs": [
    {
     "data": {
      "text/plain": [
       "'nasirhussain'"
      ]
     },
     "execution_count": 47,
     "metadata": {},
     "output_type": "execute_result"
    }
   ],
   "source": [
    "name.strip()"
   ]
  },
  {
   "cell_type": "code",
   "execution_count": 48,
   "id": "4d635c72",
   "metadata": {},
   "outputs": [
    {
     "data": {
      "text/plain": [
       "8"
      ]
     },
     "execution_count": 48,
     "metadata": {},
     "output_type": "execute_result"
    }
   ],
   "source": [
    "name.index('ss')"
   ]
  },
  {
   "cell_type": "code",
   "execution_count": 49,
   "id": "24a5b4c0",
   "metadata": {},
   "outputs": [
    {
     "ename": "ValueError",
     "evalue": "substring not found",
     "output_type": "error",
     "traceback": [
      "\u001b[1;31m---------------------------------------------------------------------------\u001b[0m",
      "\u001b[1;31mValueError\u001b[0m                                Traceback (most recent call last)",
      "\u001b[1;32m<ipython-input-49-72d92a9935b5>\u001b[0m in \u001b[0;36m<module>\u001b[1;34m\u001b[0m\n\u001b[1;32m----> 1\u001b[1;33m \u001b[0mname\u001b[0m\u001b[1;33m.\u001b[0m\u001b[0mindex\u001b[0m\u001b[1;33m(\u001b[0m\u001b[1;34m\"SS\"\u001b[0m\u001b[1;33m)\u001b[0m\u001b[1;33m\u001b[0m\u001b[1;33m\u001b[0m\u001b[0m\n\u001b[0m",
      "\u001b[1;31mValueError\u001b[0m: substring not found"
     ]
    }
   ],
   "source": [
    "name.index(\"SS\")"
   ]
  },
  {
   "cell_type": "code",
   "execution_count": 50,
   "id": "eee01bf1",
   "metadata": {},
   "outputs": [
    {
     "data": {
      "text/plain": [
       "-1"
      ]
     },
     "execution_count": 50,
     "metadata": {},
     "output_type": "execute_result"
    }
   ],
   "source": [
    "name.find(\"SS\")"
   ]
  },
  {
   "cell_type": "code",
   "execution_count": 51,
   "id": "56921861",
   "metadata": {},
   "outputs": [],
   "source": [
    "name  = \"Nasir Hussain\"\n",
    "age  = 20"
   ]
  },
  {
   "cell_type": "markdown",
   "id": "599630b8",
   "metadata": {},
   "source": [
    "Hello myself is Nasir Hussain. I am 20 years old."
   ]
  },
  {
   "cell_type": "raw",
   "id": "ab9fd53b",
   "metadata": {},
   "source": [
    "# String concatenation\n",
    "Type Casting \n",
    "String formation\n"
   ]
  },
  {
   "cell_type": "code",
   "execution_count": 54,
   "id": "2e3a7380",
   "metadata": {},
   "outputs": [
    {
     "data": {
      "text/plain": [
       "'Hello myself is Nasir Hussain. I am 20 years old.'"
      ]
     },
     "execution_count": 54,
     "metadata": {},
     "output_type": "execute_result"
    }
   ],
   "source": [
    "\"Hello myself is \"+ name +\". I am \"+str(age) +\" years old.\""
   ]
  },
  {
   "cell_type": "code",
   "execution_count": 55,
   "id": "3cf6f646",
   "metadata": {},
   "outputs": [
    {
     "data": {
      "text/plain": [
       "123.0"
      ]
     },
     "execution_count": 55,
     "metadata": {},
     "output_type": "execute_result"
    }
   ],
   "source": [
    "float(123)"
   ]
  },
  {
   "cell_type": "code",
   "execution_count": 56,
   "id": "19f263c5",
   "metadata": {},
   "outputs": [
    {
     "data": {
      "text/plain": [
       "23"
      ]
     },
     "execution_count": 56,
     "metadata": {},
     "output_type": "execute_result"
    }
   ],
   "source": [
    "int(23.5)"
   ]
  },
  {
   "cell_type": "code",
   "execution_count": 57,
   "id": "68c0c26b",
   "metadata": {},
   "outputs": [
    {
     "data": {
      "text/plain": [
       "True"
      ]
     },
     "execution_count": 57,
     "metadata": {},
     "output_type": "execute_result"
    }
   ],
   "source": [
    "\"345\".isnumeric()"
   ]
  },
  {
   "cell_type": "code",
   "execution_count": 58,
   "id": "4ac461c8",
   "metadata": {},
   "outputs": [
    {
     "data": {
      "text/plain": [
       "345"
      ]
     },
     "execution_count": 58,
     "metadata": {},
     "output_type": "execute_result"
    }
   ],
   "source": [
    "int(\"345\")"
   ]
  },
  {
   "cell_type": "code",
   "execution_count": 59,
   "id": "7f440080",
   "metadata": {},
   "outputs": [
    {
     "data": {
      "text/plain": [
       "345.0"
      ]
     },
     "execution_count": 59,
     "metadata": {},
     "output_type": "execute_result"
    }
   ],
   "source": [
    "float(\"345\")"
   ]
  },
  {
   "cell_type": "code",
   "execution_count": 62,
   "id": "ef1ca3d1",
   "metadata": {},
   "outputs": [
    {
     "data": {
      "text/plain": [
       "345"
      ]
     },
     "execution_count": 62,
     "metadata": {},
     "output_type": "execute_result"
    }
   ],
   "source": [
    "int(float(\"345.0\"))"
   ]
  },
  {
   "cell_type": "markdown",
   "id": "c9091ddb",
   "metadata": {},
   "source": [
    "#### string formation"
   ]
  },
  {
   "cell_type": "code",
   "execution_count": 66,
   "id": "a831c556",
   "metadata": {},
   "outputs": [
    {
     "data": {
      "text/plain": [
       "'Hello myself is Nasir Hussain. I am 20 years old.'"
      ]
     },
     "execution_count": 66,
     "metadata": {},
     "output_type": "execute_result"
    }
   ],
   "source": [
    "\"Hello myself is {}. I am {} years old.\".format(name,age)"
   ]
  },
  {
   "cell_type": "code",
   "execution_count": 67,
   "id": "a9061827",
   "metadata": {},
   "outputs": [
    {
     "data": {
      "text/plain": [
       "'Hello myself is Nasir Hussain. I am 20 years old.'"
      ]
     },
     "execution_count": 67,
     "metadata": {},
     "output_type": "execute_result"
    }
   ],
   "source": [
    "f\"Hello myself is {name}. I am {age} years old.\""
   ]
  },
  {
   "cell_type": "markdown",
   "id": "4c5d0de1",
   "metadata": {},
   "source": [
    "# String declaration: \n",
    "single quaotes  ''\n",
    "\n",
    "double quaotes  \"  \"\n",
    "\n",
    "treipple singleequaotes'''  '''  \n",
    "\n",
    "tripple double \"\"\"  \"\"\"\n"
   ]
  },
  {
   "cell_type": "code",
   "execution_count": 68,
   "id": "b8886ccb",
   "metadata": {},
   "outputs": [
    {
     "name": "stdout",
     "output_type": "stream",
     "text": [
      "Hello World\n",
      "Hello World\n",
      "Hello World\n",
      "Hello World\n"
     ]
    }
   ],
   "source": [
    "print('Hello World')\n",
    "print(\"Hello World\")\n",
    "print('''Hello World''')\n",
    "print(\"\"\"Hello World\"\"\")"
   ]
  },
  {
   "cell_type": "markdown",
   "id": "1e1b5e4f",
   "metadata": {},
   "source": [
    "We are all learning \"Python and Data Science\"."
   ]
  },
  {
   "cell_type": "code",
   "execution_count": 71,
   "id": "ee456b52",
   "metadata": {},
   "outputs": [
    {
     "name": "stdout",
     "output_type": "stream",
     "text": [
      "We are all learning 'Python and Data Science'\n"
     ]
    }
   ],
   "source": [
    "print(\"We are all learning 'Python and Data Science'\")"
   ]
  },
  {
   "cell_type": "code",
   "execution_count": 72,
   "id": "af0a2ddc",
   "metadata": {},
   "outputs": [
    {
     "name": "stdout",
     "output_type": "stream",
     "text": [
      "We are all learning \"Python and Data Science\"\n"
     ]
    }
   ],
   "source": [
    "print('We are all learning \"Python and Data Science\"')"
   ]
  },
  {
   "cell_type": "code",
   "execution_count": 73,
   "id": "234cd43c",
   "metadata": {},
   "outputs": [
    {
     "name": "stdout",
     "output_type": "stream",
     "text": [
      "We are all learning \"Python and Data Science\"\n"
     ]
    }
   ],
   "source": [
    "print(\"We are all learning \\\"Python and Data Science\\\"\")"
   ]
  },
  {
   "cell_type": "code",
   "execution_count": 75,
   "id": "a30ef085",
   "metadata": {},
   "outputs": [
    {
     "name": "stdout",
     "output_type": "stream",
     "text": [
      "Hello \n",
      " Python\n"
     ]
    }
   ],
   "source": [
    "print(\"Hello \\n Python\")"
   ]
  },
  {
   "cell_type": "raw",
   "id": "6542fc49",
   "metadata": {},
   "source": [
    "      High Impact Skills Bootcamp\n",
    "      \n",
    "  name : Nasir Husain\n",
    "  course:  Data Science and AI\n",
    "  Venue: Sir Syed Uni of Eng & Tech\n",
    "  Time:  9:5\n",
    "  \n",
    "  Note: if found please returnd to SSUET"
   ]
  },
  {
   "cell_type": "markdown",
   "id": "8d7253c7",
   "metadata": {},
   "source": [
    "# user input"
   ]
  },
  {
   "cell_type": "code",
   "execution_count": 77,
   "id": "7a3fa683",
   "metadata": {},
   "outputs": [
    {
     "name": "stdout",
     "output_type": "stream",
     "text": [
      "Please enter your name: Sanaullah\n",
      "Enter your course: Python\n",
      "Enter venue: SSUET\n",
      "Enter timings: 9:5\n",
      "\n",
      "                High Impact Skills Bootcamp\n",
      "                ___________________________\n",
      "                \n",
      "        name: Sanaullah\n",
      "        course: Python\n",
      "        venue: SSUET\n",
      "        time: 9:5\n",
      "        \n",
      "        \n",
      "        Note: Note: if found please returnd to SSUET\n"
     ]
    }
   ],
   "source": [
    "name  = input(\"Please enter your name: \")\n",
    "course = input(\"Enter your course: \")\n",
    "venue = input(\"Enter venue: \")\n",
    "time= input(\"Enter timings: \")\n",
    "\n",
    "\n",
    "print(f\"\"\"\n",
    "                High Impact Skills Bootcamp\n",
    "                ___________________________\n",
    "                \n",
    "        name: {name}\n",
    "        course: {course}\n",
    "        venue: {venue}\n",
    "        time: {time}\n",
    "        \n",
    "        \n",
    "        Note: Note: if found please returnd to SSUET\"\"\")"
   ]
  },
  {
   "cell_type": "markdown",
   "id": "58f1cf3a",
   "metadata": {},
   "source": [
    "# Operators:\n",
    "   - + \n",
    "   - - \n",
    "   - * \n",
    "   - / or //\n",
    "   - **\n",
    "   - %\n",
    "   - >\n",
    "   - <\n",
    "   - >=\n",
    "   - <=\n",
    "   - = \n",
    "   - ==\n",
    "   - !=\n",
    "   - in \n",
    "   - not in\n",
    "   - and \n",
    "   - or \n",
    "   \n",
    "   "
   ]
  },
  {
   "cell_type": "code",
   "execution_count": 79,
   "id": "bfd2f747",
   "metadata": {},
   "outputs": [
    {
     "data": {
      "text/plain": [
       "28"
      ]
     },
     "execution_count": 79,
     "metadata": {},
     "output_type": "execute_result"
    }
   ],
   "source": [
    "23 + 5"
   ]
  },
  {
   "cell_type": "code",
   "execution_count": 80,
   "id": "b3c8354d",
   "metadata": {},
   "outputs": [
    {
     "data": {
      "text/plain": [
       "29"
      ]
     },
     "execution_count": 80,
     "metadata": {},
     "output_type": "execute_result"
    }
   ],
   "source": [
    "34-5"
   ]
  },
  {
   "cell_type": "code",
   "execution_count": 81,
   "id": "fe02472c",
   "metadata": {},
   "outputs": [
    {
     "data": {
      "text/plain": [
       "115"
      ]
     },
     "execution_count": 81,
     "metadata": {},
     "output_type": "execute_result"
    }
   ],
   "source": [
    "23 *5"
   ]
  },
  {
   "cell_type": "code",
   "execution_count": 82,
   "id": "5cf41016",
   "metadata": {},
   "outputs": [
    {
     "data": {
      "text/plain": [
       "3.0"
      ]
     },
     "execution_count": 82,
     "metadata": {},
     "output_type": "execute_result"
    }
   ],
   "source": [
    "12 / 4 "
   ]
  },
  {
   "cell_type": "code",
   "execution_count": 83,
   "id": "b7d398bf",
   "metadata": {},
   "outputs": [
    {
     "data": {
      "text/plain": [
       "3"
      ]
     },
     "execution_count": 83,
     "metadata": {},
     "output_type": "execute_result"
    }
   ],
   "source": [
    "12 //4"
   ]
  },
  {
   "cell_type": "code",
   "execution_count": 84,
   "id": "2e2bbd6c",
   "metadata": {},
   "outputs": [
    {
     "data": {
      "text/plain": [
       "3.3333333333333335"
      ]
     },
     "execution_count": 84,
     "metadata": {},
     "output_type": "execute_result"
    }
   ],
   "source": [
    "20 /6"
   ]
  },
  {
   "cell_type": "code",
   "execution_count": 85,
   "id": "9aa9db28",
   "metadata": {},
   "outputs": [
    {
     "data": {
      "text/plain": [
       "3"
      ]
     },
     "execution_count": 85,
     "metadata": {},
     "output_type": "execute_result"
    }
   ],
   "source": [
    "20 // 6"
   ]
  },
  {
   "cell_type": "code",
   "execution_count": 86,
   "id": "4ba7cc69",
   "metadata": {},
   "outputs": [
    {
     "data": {
      "text/plain": [
       "16"
      ]
     },
     "execution_count": 86,
     "metadata": {},
     "output_type": "execute_result"
    }
   ],
   "source": [
    "2**4"
   ]
  },
  {
   "cell_type": "code",
   "execution_count": 87,
   "id": "8cc71dd7",
   "metadata": {},
   "outputs": [
    {
     "data": {
      "text/plain": [
       "2"
      ]
     },
     "execution_count": 87,
     "metadata": {},
     "output_type": "execute_result"
    }
   ],
   "source": [
    "10%4"
   ]
  },
  {
   "cell_type": "code",
   "execution_count": 88,
   "id": "44e1ffed",
   "metadata": {},
   "outputs": [
    {
     "data": {
      "text/plain": [
       "True"
      ]
     },
     "execution_count": 88,
     "metadata": {},
     "output_type": "execute_result"
    }
   ],
   "source": [
    "12 > 4"
   ]
  },
  {
   "cell_type": "code",
   "execution_count": 89,
   "id": "7c970fa6",
   "metadata": {},
   "outputs": [
    {
     "data": {
      "text/plain": [
       "False"
      ]
     },
     "execution_count": 89,
     "metadata": {},
     "output_type": "execute_result"
    }
   ],
   "source": [
    "12 <4"
   ]
  },
  {
   "cell_type": "code",
   "execution_count": 90,
   "id": "4c0e2807",
   "metadata": {},
   "outputs": [
    {
     "data": {
      "text/plain": [
       "True"
      ]
     },
     "execution_count": 90,
     "metadata": {},
     "output_type": "execute_result"
    }
   ],
   "source": [
    "12>=4"
   ]
  },
  {
   "cell_type": "code",
   "execution_count": 91,
   "id": "3d9a5043",
   "metadata": {},
   "outputs": [
    {
     "data": {
      "text/plain": [
       "True"
      ]
     },
     "execution_count": 91,
     "metadata": {},
     "output_type": "execute_result"
    }
   ],
   "source": [
    "12<=12"
   ]
  },
  {
   "cell_type": "code",
   "execution_count": 92,
   "id": "2f2a2cd0",
   "metadata": {},
   "outputs": [
    {
     "data": {
      "text/plain": [
       "True"
      ]
     },
     "execution_count": 92,
     "metadata": {},
     "output_type": "execute_result"
    }
   ],
   "source": [
    "12==12"
   ]
  },
  {
   "cell_type": "code",
   "execution_count": 93,
   "id": "fd5aad58",
   "metadata": {},
   "outputs": [
    {
     "data": {
      "text/plain": [
       "False"
      ]
     },
     "execution_count": 93,
     "metadata": {},
     "output_type": "execute_result"
    }
   ],
   "source": [
    "12 != 12"
   ]
  },
  {
   "cell_type": "code",
   "execution_count": 94,
   "id": "97ae8330",
   "metadata": {},
   "outputs": [
    {
     "data": {
      "text/plain": [
       "True"
      ]
     },
     "execution_count": 94,
     "metadata": {},
     "output_type": "execute_result"
    }
   ],
   "source": [
    "\"k\" in \"Pakistan\""
   ]
  },
  {
   "cell_type": "code",
   "execution_count": 95,
   "id": "6bf7238b",
   "metadata": {},
   "outputs": [
    {
     "data": {
      "text/plain": [
       "True"
      ]
     },
     "execution_count": 95,
     "metadata": {},
     "output_type": "execute_result"
    }
   ],
   "source": [
    "\"K\" not in \"Pakistan\""
   ]
  },
  {
   "cell_type": "code",
   "execution_count": 96,
   "id": "7e821590",
   "metadata": {},
   "outputs": [],
   "source": [
    "var = \"\""
   ]
  },
  {
   "cell_type": "code",
   "execution_count": 97,
   "id": "811e30c5",
   "metadata": {},
   "outputs": [
    {
     "data": {
      "text/plain": [
       "str"
      ]
     },
     "execution_count": 97,
     "metadata": {},
     "output_type": "execute_result"
    }
   ],
   "source": [
    "type(var)"
   ]
  },
  {
   "cell_type": "code",
   "execution_count": 98,
   "id": "b423e190",
   "metadata": {},
   "outputs": [
    {
     "data": {
      "text/plain": [
       "0"
      ]
     },
     "execution_count": 98,
     "metadata": {},
     "output_type": "execute_result"
    }
   ],
   "source": [
    "len(var)"
   ]
  },
  {
   "cell_type": "code",
   "execution_count": 99,
   "id": "c3f1c2ce",
   "metadata": {},
   "outputs": [
    {
     "data": {
      "text/plain": [
       "False"
      ]
     },
     "execution_count": 99,
     "metadata": {},
     "output_type": "execute_result"
    }
   ],
   "source": [
    "bool(var)"
   ]
  },
  {
   "cell_type": "code",
   "execution_count": 100,
   "id": "2c028a9a",
   "metadata": {},
   "outputs": [],
   "source": [
    "var = 123"
   ]
  },
  {
   "cell_type": "code",
   "execution_count": 101,
   "id": "58f83cc4",
   "metadata": {},
   "outputs": [
    {
     "data": {
      "text/plain": [
       "True"
      ]
     },
     "execution_count": 101,
     "metadata": {},
     "output_type": "execute_result"
    }
   ],
   "source": [
    "bool(var)"
   ]
  },
  {
   "cell_type": "code",
   "execution_count": 102,
   "id": "61fe06d7",
   "metadata": {},
   "outputs": [],
   "source": [
    "a = 100 \n",
    "b =a "
   ]
  },
  {
   "cell_type": "code",
   "execution_count": 103,
   "id": "95883096",
   "metadata": {},
   "outputs": [
    {
     "data": {
      "text/plain": [
       "True"
      ]
     },
     "execution_count": 103,
     "metadata": {},
     "output_type": "execute_result"
    }
   ],
   "source": [
    "a is b"
   ]
  },
  {
   "cell_type": "code",
   "execution_count": 104,
   "id": "887ec301",
   "metadata": {},
   "outputs": [],
   "source": [
    "c = 100"
   ]
  },
  {
   "cell_type": "code",
   "execution_count": 105,
   "id": "5e6744f6",
   "metadata": {},
   "outputs": [
    {
     "data": {
      "text/plain": [
       "True"
      ]
     },
     "execution_count": 105,
     "metadata": {},
     "output_type": "execute_result"
    }
   ],
   "source": [
    "a is c"
   ]
  },
  {
   "cell_type": "code",
   "execution_count": 106,
   "id": "ece38d13",
   "metadata": {},
   "outputs": [
    {
     "data": {
      "text/plain": [
       "True"
      ]
     },
     "execution_count": 106,
     "metadata": {},
     "output_type": "execute_result"
    }
   ],
   "source": [
    "b is c"
   ]
  },
  {
   "cell_type": "code",
   "execution_count": 107,
   "id": "d1d10e78",
   "metadata": {},
   "outputs": [
    {
     "data": {
      "text/plain": [
       "140732829052400"
      ]
     },
     "execution_count": 107,
     "metadata": {},
     "output_type": "execute_result"
    }
   ],
   "source": [
    "id(a)"
   ]
  },
  {
   "cell_type": "code",
   "execution_count": 108,
   "id": "47ec55ac",
   "metadata": {},
   "outputs": [
    {
     "data": {
      "text/plain": [
       "140732829052400"
      ]
     },
     "execution_count": 108,
     "metadata": {},
     "output_type": "execute_result"
    }
   ],
   "source": [
    "id(b)"
   ]
  },
  {
   "cell_type": "code",
   "execution_count": 109,
   "id": "a9cd442b",
   "metadata": {},
   "outputs": [
    {
     "data": {
      "text/plain": [
       "140732829052400"
      ]
     },
     "execution_count": 109,
     "metadata": {},
     "output_type": "execute_result"
    }
   ],
   "source": [
    "id(c)"
   ]
  },
  {
   "cell_type": "code",
   "execution_count": 111,
   "id": "26745643",
   "metadata": {},
   "outputs": [
    {
     "data": {
      "text/plain": [
       "True"
      ]
     },
     "execution_count": 111,
     "metadata": {},
     "output_type": "execute_result"
    }
   ],
   "source": [
    "2<3 and 5**2  in [1,3,4,25]"
   ]
  },
  {
   "cell_type": "code",
   "execution_count": 112,
   "id": "5fce87ba",
   "metadata": {},
   "outputs": [],
   "source": [
    "a = 100"
   ]
  },
  {
   "cell_type": "code",
   "execution_count": 116,
   "id": "e07bbd01",
   "metadata": {},
   "outputs": [
    {
     "data": {
      "text/plain": [
       "104"
      ]
     },
     "execution_count": 116,
     "metadata": {},
     "output_type": "execute_result"
    }
   ],
   "source": [
    "# a  = a +1 \n",
    "a +=1\n",
    "a"
   ]
  },
  {
   "cell_type": "code",
   "execution_count": null,
   "id": "5a2d6149",
   "metadata": {},
   "outputs": [],
   "source": []
  },
  {
   "cell_type": "code",
   "execution_count": null,
   "id": "1f03155f",
   "metadata": {},
   "outputs": [],
   "source": []
  }
 ],
 "metadata": {
  "kernelspec": {
   "display_name": "Python 3 (ipykernel)",
   "language": "python",
   "name": "python3"
  },
  "language_info": {
   "codemirror_mode": {
    "name": "ipython",
    "version": 3
   },
   "file_extension": ".py",
   "mimetype": "text/x-python",
   "name": "python",
   "nbconvert_exporter": "python",
   "pygments_lexer": "ipython3",
   "version": "3.11.3"
  }
 },
 "nbformat": 4,
 "nbformat_minor": 5
}
