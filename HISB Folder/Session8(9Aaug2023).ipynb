{
 "cells": [
  {
   "cell_type": "markdown",
   "metadata": {},
   "source": [
    "# Multilevel Inheritacne"
   ]
  },
  {
   "cell_type": "code",
   "execution_count": 1,
   "metadata": {},
   "outputs": [
    {
     "name": "stdout",
     "output_type": "stream",
     "text": [
      "Feature1 is working\n",
      "Feature2 is working\n"
     ]
    }
   ],
   "source": [
    "class A:\n",
    "    \n",
    "    def feature1(self):\n",
    "        print(\"Feature1 is working\")\n",
    "    def feature2(self):\n",
    "        print(\"Feature2 is working\")\n",
    "        \n",
    "a1 = A()\n",
    "a1.feature1()\n",
    "a1.feature2()"
   ]
  },
  {
   "cell_type": "code",
   "execution_count": 2,
   "metadata": {},
   "outputs": [
    {
     "name": "stdout",
     "output_type": "stream",
     "text": [
      "Feature1 is working\n"
     ]
    }
   ],
   "source": [
    "A.feature1(a1)"
   ]
  },
  {
   "cell_type": "code",
   "execution_count": 3,
   "metadata": {},
   "outputs": [
    {
     "name": "stdout",
     "output_type": "stream",
     "text": [
      "Feature3 is working\n",
      "Feature4 is working\n",
      "Feature1 is working\n",
      "Feature2 is working\n"
     ]
    }
   ],
   "source": [
    "# single Level\n",
    "class B(A):\n",
    "    def feature3(self):\n",
    "        print(\"Feature3 is working\")\n",
    "    def feature4(self):\n",
    "        print(\"Feature4 is working\")\n",
    "\n",
    "b1 = B()\n",
    "b1.feature3()\n",
    "b1.feature4()\n",
    "b1.feature1()\n",
    "b1.feature2()"
   ]
  },
  {
   "cell_type": "code",
   "execution_count": 4,
   "metadata": {},
   "outputs": [
    {
     "name": "stdout",
     "output_type": "stream",
     "text": [
      "Feature1 is working\n",
      "Feature2 is working\n",
      "Feature3 is working\n",
      "Feature4 is working\n",
      "Feature5 is working\n",
      "Feature6 is working\n"
     ]
    }
   ],
   "source": [
    "# miltilevel because C inherits B and B inherits A\n",
    "class C(B):\n",
    "    def feature5(self):\n",
    "        print(\"Feature5 is working\")\n",
    "    def feature6(self):\n",
    "        print(\"Feature6 is working\")\n",
    "c1 = C()\n",
    "c1.feature1()\n",
    "c1.feature2()\n",
    "c1.feature3()\n",
    "c1.feature4()\n",
    "c1.feature5()\n",
    "c1.feature6()"
   ]
  },
  {
   "cell_type": "code",
   "execution_count": 5,
   "metadata": {},
   "outputs": [
    {
     "name": "stdout",
     "output_type": "stream",
     "text": [
      "Feature1 is working\n",
      "Feature2 is working\n"
     ]
    }
   ],
   "source": [
    "#Multiple Inheritance\n",
    "\n",
    "class A:\n",
    "    def feature1(self):\n",
    "        print(\"Feature1 is working\")\n",
    "    def feature2(self):\n",
    "        print(\"Feature2 is working\")\n",
    "        \n",
    "        \n",
    "\n",
    "a1 = A()\n",
    "a1.feature1()\n",
    "a1.feature2()"
   ]
  },
  {
   "cell_type": "code",
   "execution_count": 6,
   "metadata": {},
   "outputs": [
    {
     "name": "stdout",
     "output_type": "stream",
     "text": [
      "Feature3 is working\n",
      "Feature4 is working\n"
     ]
    }
   ],
   "source": [
    "class B():\n",
    "    def feature3(self):\n",
    "        print(\"Feature3 is working\")\n",
    "    def feature4(self):\n",
    "        print(\"Feature4 is working\")\n",
    "b1 = B()\n",
    "b1.feature3()\n",
    "b1.feature4()"
   ]
  },
  {
   "cell_type": "code",
   "execution_count": 7,
   "metadata": {},
   "outputs": [
    {
     "name": "stdout",
     "output_type": "stream",
     "text": [
      "Feature1 is working\n",
      "Feature2 is working\n",
      "Feature3 is working\n",
      "Feature4 is working\n",
      "Feature5 is working\n"
     ]
    }
   ],
   "source": [
    "class C(A,B):\n",
    "    def feature5(self):\n",
    "        print(\"Feature5 is working\")\n",
    "c1 = C()\n",
    "c1.feature1()\n",
    "c1.feature2()\n",
    "c1.feature3()\n",
    "c1.feature4()\n",
    "c1.feature5()"
   ]
  },
  {
   "cell_type": "markdown",
   "metadata": {},
   "source": [
    "#### Contructor in Inheritance and Method Resolution Order"
   ]
  },
  {
   "cell_type": "code",
   "execution_count": 8,
   "metadata": {},
   "outputs": [
    {
     "name": "stdout",
     "output_type": "stream",
     "text": [
      "In init of A\n",
      "In init of A\n"
     ]
    }
   ],
   "source": [
    "class A:\n",
    "    \n",
    "    def __init__(self):\n",
    "        print(\"In init of A\")\n",
    "        \n",
    "    def feature1(self):\n",
    "        print(\"Feature1 is working\")\n",
    "    def feature2(self):\n",
    "        print(\"Feature2 is working\")\n",
    "\n",
    "class B(A):\n",
    "    \n",
    "    def feature3(self):\n",
    "        print(\"Feature3 is working\")\n",
    "        \n",
    "    def feature4(self):\n",
    "        print(\"Feature4 is working\")\n",
    "a1=A()\n",
    "b1=B()\n",
    "\n",
    "# constructor of A will be called even if we are creating\n",
    "# object of B since B dont have any contrcutor"
   ]
  },
  {
   "cell_type": "code",
   "execution_count": 9,
   "metadata": {},
   "outputs": [
    {
     "name": "stdout",
     "output_type": "stream",
     "text": [
      "In init of A\n",
      "in init of B\n"
     ]
    }
   ],
   "source": [
    "class A:\n",
    "    \n",
    "    def __init__(self):\n",
    "        print(\"In init of A\")\n",
    "        \n",
    "    def feature1(self):\n",
    "        print(\"Feature1 is working\")\n",
    "    def feature2(self):\n",
    "        print(\"Feature2 is working\")\n",
    "\n",
    "class B(A):\n",
    "    def __init__(self):\n",
    "        print(\"in init of B\")\n",
    "       \n",
    "    \n",
    "    def feature3(self):\n",
    "        print(\"Feature3 is working\")\n",
    "        \n",
    "    def feature4(self):\n",
    "        print(\"Feature4 is working\")\n",
    "a1=A()\n",
    "b1=B()\n",
    "\n",
    "# constructor of B will be called now as object of B is created"
   ]
  },
  {
   "cell_type": "code",
   "execution_count": 10,
   "metadata": {},
   "outputs": [
    {
     "name": "stdout",
     "output_type": "stream",
     "text": [
      "In init of A\n",
      "In init of B\n",
      "In init of A\n"
     ]
    }
   ],
   "source": [
    "class A:\n",
    "    \n",
    "    def __init__(self):\n",
    "        print(\"In init of A\")\n",
    "        \n",
    "    def feature1(self):\n",
    "        print(\"Feature1 is working\")\n",
    "    def feature2(self):\n",
    "        print(\"Feature2 is working\")\n",
    "\n",
    "class B(A):\n",
    "    def __init__(self):\n",
    "        print(\"In init of B\")\n",
    "        super().__init__()\n",
    "    \n",
    "    def feature3(self):\n",
    "        print(\"Feature3 is working\")\n",
    "        \n",
    "    def feature4(self):\n",
    "        print(\"Feature4 is working\")\n",
    "a1=A()\n",
    "b1=B()\n",
    "\n",
    "# if we want to call the init of A when object of B \n",
    "#is creating we will use super()"
   ]
  },
  {
   "cell_type": "markdown",
   "metadata": {},
   "source": [
    "### Multiple inheritanace"
   ]
  },
  {
   "cell_type": "code",
   "execution_count": 11,
   "metadata": {},
   "outputs": [],
   "source": [
    "class A:    \n",
    "    def __init__(self):\n",
    "        print(\"In init of A\")\n",
    "        \n",
    "    def feature1(self):\n",
    "        print(\"Feature1 is working\")\n",
    "        \n",
    "    def feature2(self):\n",
    "        print(\"Feature2 is working\")\n",
    "    def show(self):\n",
    "        print(\"I am showing class A\")"
   ]
  },
  {
   "cell_type": "code",
   "execution_count": 12,
   "metadata": {},
   "outputs": [],
   "source": [
    "class B():\n",
    "    def __init__(self):\n",
    "        print(\"in init of B\")\n",
    "       \n",
    "    \n",
    "    def feature3(self):\n",
    "        print(\"Feature3 is working\")\n",
    "        \n",
    "    def feature4(self):\n",
    "        print(\"Feature4 is working\")\n",
    "\n",
    "    def show(self):\n",
    "        print(\"I am showing class B\")"
   ]
  },
  {
   "cell_type": "code",
   "execution_count": 14,
   "metadata": {},
   "outputs": [
    {
     "name": "stdout",
     "output_type": "stream",
     "text": [
      "init of C\n",
      "in init of B\n"
     ]
    }
   ],
   "source": [
    "class C(B,A):\n",
    "    def __init__(self):\n",
    "        print(\"init of C\")\n",
    "        super().__init__()\n",
    "        # now we have two parent classes super will call init of???\n",
    "        # There is a term called MRO  Method Resolution Order\n",
    "        # Method resolution is from Left to Right\n",
    "        # init of A will be called \n",
    "c  = C()"
   ]
  },
  {
   "cell_type": "code",
   "execution_count": 16,
   "metadata": {},
   "outputs": [
    {
     "name": "stdout",
     "output_type": "stream",
     "text": [
      "I am showing class A\n"
     ]
    }
   ],
   "source": [
    "# show() of class A will be called (MRO)\n",
    "c.show()"
   ]
  },
  {
   "cell_type": "code",
   "execution_count": 17,
   "metadata": {},
   "outputs": [
    {
     "name": "stdout",
     "output_type": "stream",
     "text": [
      "init of C\n",
      "in init of B\n"
     ]
    }
   ],
   "source": [
    "class C(B,A):\n",
    "    def __init__(self):\n",
    "        print(\"init of C\")\n",
    "        super().__init__()\n",
    "        # now we have two parent classes super will call init of???\n",
    "        # There is a term called MRO\n",
    "        # Method resolution is from Left to Right\n",
    "        # init of A will be called \n",
    "c  = C()"
   ]
  },
  {
   "cell_type": "code",
   "execution_count": 19,
   "metadata": {},
   "outputs": [
    {
     "name": "stdout",
     "output_type": "stream",
     "text": [
      "I am showing class A\n"
     ]
    }
   ],
   "source": [
    "# avoiding method resolution order bh calling right class (A) method show\n",
    "A.show(c)"
   ]
  },
  {
   "cell_type": "code",
   "execution_count": 21,
   "metadata": {},
   "outputs": [
    {
     "name": "stdout",
     "output_type": "stream",
     "text": [
      "init of C\n",
      "In init of A\n",
      "I am showing class A\n",
      "Feature2 B is working\n"
     ]
    }
   ],
   "source": [
    "class A:    \n",
    "    def __init__(self):\n",
    "        print(\"In init of A\")\n",
    "   \n",
    "    def feature1(self):\n",
    "        print(\"Feature1 is working\")\n",
    "        \n",
    "#     def feature2(self):\n",
    "#         print(\"Feature2 is A working\")\n",
    "        \n",
    "    def show(self):\n",
    "        print(\"I am showing class A\")\n",
    "class B():\n",
    "    def __init__(self):\n",
    "        print(\"in init of B\")\n",
    "       \n",
    "    \n",
    "    def feature2(self):\n",
    "        print(\"Feature2 B is working\")\n",
    "        \n",
    "    def feature4(self):\n",
    "        print(\"Feature4 is working\")\n",
    "\n",
    "    def show(self):\n",
    "        print(\"I am showing class B\")       \n",
    "        \n",
    "class C(A,B):\n",
    "    def __init__(self):\n",
    "        print(\"init of C\")\n",
    "        super().__init__()\n",
    "        super().show()\n",
    "        \n",
    "    def feature2(self):\n",
    "        print(\"I m in C\")\n",
    "    \n",
    "    def feat(self):\n",
    "       \n",
    "        super().feature2()\n",
    "        \n",
    "c  = C()\n",
    "c.feat()"
   ]
  },
  {
   "cell_type": "markdown",
   "metadata": {},
   "source": [
    "# Polymorphism\n",
    "\n",
    "        - can be implemented by the following techniques:\n",
    "\n",
    "        - Duck typing\n",
    "        - Operator overloading\n",
    "        - Method Overloading\n",
    "        - Method Overriding\n",
    "\n"
   ]
  },
  {
   "cell_type": "markdown",
   "metadata": {},
   "source": [
    "# Duck Typing:\n",
    "\n",
    "           If there a bird which is:\n",
    "\n",
    "- walking like a duck\n",
    "- which is quaking like a duck\n",
    "- which is swimming like a duck\n",
    "      then it is a duck\n",
    "\n",
    "Means its behaviour is just like a duck although it not a duck"
   ]
  },
  {
   "cell_type": "code",
   "execution_count": 22,
   "metadata": {},
   "outputs": [
    {
     "name": "stdout",
     "output_type": "stream",
     "text": [
      "Compiling\n",
      "Running\n",
      "Grammar Checking\n",
      "Spell checking\n",
      "Compiling\n",
      "Running\n"
     ]
    }
   ],
   "source": [
    "class PyCharm:\n",
    "    def execute(self):\n",
    "        print(\"Compiling\")\n",
    "        print(\"Running\")\n",
    "ide1 = PyCharm()\n",
    "\n",
    "#################\n",
    "\n",
    "\n",
    "class VsCode:\n",
    "    def execute(self):\n",
    "        print(\"Grammar Checking\")\n",
    "        print(\"Spell checking\")\n",
    "        print(\"Compiling\")\n",
    "        print(\"Running\")\n",
    "ide2 = VsCode()\n",
    "#############################\n",
    "\n",
    "class Laptop:\n",
    "    def code(self,ide):\n",
    "        ide.execute()\n",
    "        \n",
    "lap1 = Laptop()\n",
    "lap1.code(ide1)\n",
    "lap1.code(ide2)\n",
    "\n",
    "# it matters not what class is but it must have a method execute\n",
    "# like if it has a behaviour like a duck than it is a duc"
   ]
  },
  {
   "cell_type": "code",
   "execution_count": 23,
   "metadata": {},
   "outputs": [
    {
     "name": "stdout",
     "output_type": "stream",
     "text": [
      "Reading Books\n",
      "Making Notes\n",
      "Reading Books\n",
      "Making Notes\n",
      "Prepare Question Paper\n"
     ]
    }
   ],
   "source": [
    "class Student:\n",
    "    def useLibrary(self):\n",
    "        print(\"Reading Books\")\n",
    "        print(\"Making Notes\")\n",
    "\n",
    "s1 = Student()\n",
    "################################\n",
    "class Teacher:\n",
    "    def useLibrary(self):\n",
    "        print(\"Reading Books\")\n",
    "        print(\"Making Notes\")\n",
    "        print(\"Prepare Question Paper\")\n",
    "\n",
    "t1 = Teacher()\n",
    "#####################################\n",
    "class Library:\n",
    "    def welcome(self, obj):\n",
    "        obj.useLibrary()\n",
    "\n",
    "        \n",
    "lib  =Library()\n",
    "        \n",
    "lib.welcome(s1)\n",
    "lib.welcome(t1)  "
   ]
  },
  {
   "cell_type": "markdown",
   "metadata": {},
   "source": [
    "# Operator Overloading"
   ]
  },
  {
   "cell_type": "code",
   "execution_count": 25,
   "metadata": {},
   "outputs": [
    {
     "name": "stdout",
     "output_type": "stream",
     "text": [
      "30\n",
      "30\n"
     ]
    }
   ],
   "source": [
    "a = 10\n",
    "b = 20 \n",
    "\n",
    "print(a + b)\n",
    "# when we use a + operator, in backend it calls add method of int class(that sums) \n",
    "# because both the supplied operands are of type(class) integers \\\n",
    "# or we can say that both are objects of int class\n",
    "print(int.__add__(a,b))"
   ]
  },
  {
   "cell_type": "code",
   "execution_count": null,
   "metadata": {},
   "outputs": [],
   "source": []
  },
  {
   "cell_type": "code",
   "execution_count": 25,
   "metadata": {},
   "outputs": [
    {
     "data": {
      "text/plain": [
       "5"
      ]
     },
     "execution_count": 25,
     "metadata": {},
     "output_type": "execute_result"
    }
   ],
   "source": [
    "def add(a,b):\n",
    "    return a+b\n",
    "add(2,3)"
   ]
  },
  {
   "cell_type": "code",
   "execution_count": 27,
   "metadata": {},
   "outputs": [
    {
     "data": {
      "text/plain": [
       "['__abs__',\n",
       " '__add__',\n",
       " '__and__',\n",
       " '__bool__',\n",
       " '__ceil__',\n",
       " '__class__',\n",
       " '__delattr__',\n",
       " '__dir__',\n",
       " '__divmod__',\n",
       " '__doc__',\n",
       " '__eq__',\n",
       " '__float__',\n",
       " '__floor__',\n",
       " '__floordiv__',\n",
       " '__format__',\n",
       " '__ge__',\n",
       " '__getattribute__',\n",
       " '__getnewargs__',\n",
       " '__gt__',\n",
       " '__hash__',\n",
       " '__index__',\n",
       " '__init__',\n",
       " '__init_subclass__',\n",
       " '__int__',\n",
       " '__invert__',\n",
       " '__le__',\n",
       " '__lshift__',\n",
       " '__lt__',\n",
       " '__mod__',\n",
       " '__mul__',\n",
       " '__ne__',\n",
       " '__neg__',\n",
       " '__new__',\n",
       " '__or__',\n",
       " '__pos__',\n",
       " '__pow__',\n",
       " '__radd__',\n",
       " '__rand__',\n",
       " '__rdivmod__',\n",
       " '__reduce__',\n",
       " '__reduce_ex__',\n",
       " '__repr__',\n",
       " '__rfloordiv__',\n",
       " '__rlshift__',\n",
       " '__rmod__',\n",
       " '__rmul__',\n",
       " '__ror__',\n",
       " '__round__',\n",
       " '__rpow__',\n",
       " '__rrshift__',\n",
       " '__rshift__',\n",
       " '__rsub__',\n",
       " '__rtruediv__',\n",
       " '__rxor__',\n",
       " '__setattr__',\n",
       " '__sizeof__',\n",
       " '__str__',\n",
       " '__sub__',\n",
       " '__subclasshook__',\n",
       " '__truediv__',\n",
       " '__trunc__',\n",
       " '__xor__',\n",
       " 'bit_length',\n",
       " 'conjugate',\n",
       " 'denominator',\n",
       " 'from_bytes',\n",
       " 'imag',\n",
       " 'numerator',\n",
       " 'real',\n",
       " 'to_bytes']"
      ]
     },
     "execution_count": 27,
     "metadata": {},
     "output_type": "execute_result"
    }
   ],
   "source": [
    "dir(a)"
   ]
  },
  {
   "cell_type": "code",
   "execution_count": 29,
   "metadata": {},
   "outputs": [
    {
     "name": "stdout",
     "output_type": "stream",
     "text": [
      "1020 \n",
      "1020 \n"
     ]
    }
   ],
   "source": [
    "a = \"10\"\n",
    "b = \"20 \"\n",
    "\n",
    "print(a + b)\n",
    "# when we use a + operator, in backend it calls add method of str class(that concatenates) \n",
    "# because both the supplied operands are of type(class) string \n",
    "# or we can say that both are objects of string class \n",
    "print(str.__add__(a,b))"
   ]
  },
  {
   "cell_type": "code",
   "execution_count": 58,
   "metadata": {},
   "outputs": [],
   "source": [
    "# Test example that we can call a method using object and also using class name\n",
    "class teacher:\n",
    "    def teach(self):\n",
    "        print(\"teacher is teaching\")"
   ]
  },
  {
   "cell_type": "code",
   "execution_count": 31,
   "metadata": {},
   "outputs": [],
   "source": [
    "t1 = teacher()"
   ]
  },
  {
   "cell_type": "code",
   "execution_count": 32,
   "metadata": {},
   "outputs": [
    {
     "name": "stdout",
     "output_type": "stream",
     "text": [
      "teacher is teaching\n"
     ]
    }
   ],
   "source": [
    "# using object to call method\n",
    "t1.teach()"
   ]
  },
  {
   "cell_type": "code",
   "execution_count": 59,
   "metadata": {},
   "outputs": [
    {
     "name": "stdout",
     "output_type": "stream",
     "text": [
      "teacher is teaching\n"
     ]
    }
   ],
   "source": [
    "# using class name and passing object as argument to call method\n",
    "teacher.teach(t1)"
   ]
  },
  {
   "cell_type": "markdown",
   "metadata": {},
   "source": [
    "# Method overriding "
   ]
  },
  {
   "cell_type": "code",
   "execution_count": 28,
   "metadata": {},
   "outputs": [],
   "source": [
    "a = 10 \n",
    "b = 20\n",
    "class Student:\n",
    "    def __init__(self, m1,m2):\n",
    "        self.m1 = m1\n",
    "        self.m2 = m2\n",
    "\n",
    "s1 = Student(80,90)\n",
    "s2 = Student(70,90)"
   ]
  },
  {
   "cell_type": "code",
   "execution_count": 29,
   "metadata": {},
   "outputs": [
    {
     "ename": "TypeError",
     "evalue": "unsupported operand type(s) for +: 'Student' and 'Student'",
     "output_type": "error",
     "traceback": [
      "\u001b[1;31m---------------------------------------------------------------------------\u001b[0m",
      "\u001b[1;31mTypeError\u001b[0m                                 Traceback (most recent call last)",
      "\u001b[1;32m<ipython-input-29-0deee72aedfc>\u001b[0m in \u001b[0;36m<module>\u001b[1;34m\u001b[0m\n\u001b[0;32m      1\u001b[0m \u001b[1;31m# Can we add objects of Student class ?????\u001b[0m\u001b[1;33m\u001b[0m\u001b[1;33m\u001b[0m\u001b[1;33m\u001b[0m\u001b[0m\n\u001b[1;32m----> 2\u001b[1;33m \u001b[0ms1\u001b[0m \u001b[1;33m+\u001b[0m \u001b[0ms2\u001b[0m\u001b[1;33m\u001b[0m\u001b[1;33m\u001b[0m\u001b[0m\n\u001b[0m",
      "\u001b[1;31mTypeError\u001b[0m: unsupported operand type(s) for +: 'Student' and 'Student'"
     ]
    }
   ],
   "source": [
    "# Can we add objects of Student class ????? \n",
    "student.__add__(s1 + s2) \n",
    "s1 + s2 "
   ]
  },
  {
   "cell_type": "code",
   "execution_count": 38,
   "metadata": {},
   "outputs": [],
   "source": [
    "class Student:\n",
    "    def __init__(self, m1,m2):\n",
    "        self.m1 = m1\n",
    "        self.m2 = m2\n",
    "    \n",
    "    def __add__(s1,s2):  \n",
    "                               \n",
    "        m1 = s1.m1 + s2.m1\n",
    "        m2 = s1.m2 + s2.m2\n",
    "        \n",
    "        st = Student(m1,m2)\n",
    "        return st\n",
    "    \n",
    "    \n",
    "    def __gt__(s1,s2):\n",
    "        sum_s1 = s1.m1 + s1.m2\n",
    "        sum_s2 = s2.m1 + s2.m2\n",
    "        if sum_s1 > sum_s2:return True\n",
    "        else:return False\n",
    "        \n",
    "        \n",
    "s1 = Student(80,90)\n",
    "s2 = Student(70,90)"
   ]
  },
  {
   "cell_type": "code",
   "execution_count": 39,
   "metadata": {},
   "outputs": [
    {
     "data": {
      "text/plain": [
       "<__main__.Student at 0x1b59a532d48>"
      ]
     },
     "execution_count": 39,
     "metadata": {},
     "output_type": "execute_result"
    }
   ],
   "source": [
    "s3 = s1 + s2\n",
    "s3"
   ]
  },
  {
   "cell_type": "code",
   "execution_count": 40,
   "metadata": {},
   "outputs": [
    {
     "data": {
      "text/plain": [
       "150"
      ]
     },
     "execution_count": 40,
     "metadata": {},
     "output_type": "execute_result"
    }
   ],
   "source": [
    "s3.m1"
   ]
  },
  {
   "cell_type": "code",
   "execution_count": 41,
   "metadata": {},
   "outputs": [
    {
     "data": {
      "text/plain": [
       "180"
      ]
     },
     "execution_count": 41,
     "metadata": {},
     "output_type": "execute_result"
    }
   ],
   "source": [
    "s3.m2"
   ]
  },
  {
   "cell_type": "code",
   "execution_count": 42,
   "metadata": {},
   "outputs": [
    {
     "data": {
      "text/plain": [
       "True"
      ]
     },
     "execution_count": 42,
     "metadata": {},
     "output_type": "execute_result"
    }
   ],
   "source": [
    "12>10"
   ]
  },
  {
   "cell_type": "code",
   "execution_count": 44,
   "metadata": {},
   "outputs": [
    {
     "data": {
      "text/plain": [
       "False"
      ]
     },
     "execution_count": 44,
     "metadata": {},
     "output_type": "execute_result"
    }
   ],
   "source": [
    "s2>s1"
   ]
  },
  {
   "cell_type": "code",
   "execution_count": 45,
   "metadata": {},
   "outputs": [],
   "source": [
    "class Student:\n",
    "    \n",
    "    def __init__(self, m1,m2):\n",
    "        self.m1 = m1\n",
    "        self.m2 = m2\n",
    "    \n",
    "    def __add__(self,other):\n",
    "        m1 = self.m1 + other.m1\n",
    "        m2 = self.m2 + other.m2\n",
    "        newObj = Student(m1,m2)\n",
    "        return newObj\n",
    "    \n",
    "    def __str__(self):\n",
    "        return f\"{self.m1} {self.m2}\"\n",
    "    \n",
    "    \n",
    "    def __gt__(self,other):\n",
    "        sum_s1 = other.m1 + other.m2\n",
    "        sum_s2 = self.m1 + self.m2\n",
    "        if sum_s1 > sum_s2:return True\n",
    "        else:return False\n",
    "        \n",
    "        \n",
    "s1 = Student(80,100)\n",
    "s2 = Student(70,60)"
   ]
  },
  {
   "cell_type": "code",
   "execution_count": 46,
   "metadata": {},
   "outputs": [],
   "source": [
    "s4 = s1 + s2"
   ]
  },
  {
   "cell_type": "code",
   "execution_count": 47,
   "metadata": {},
   "outputs": [
    {
     "name": "stdout",
     "output_type": "stream",
     "text": [
      "150 160\n"
     ]
    }
   ],
   "source": [
    "print(s4)"
   ]
  },
  {
   "cell_type": "code",
   "execution_count": 48,
   "metadata": {},
   "outputs": [],
   "source": [
    "class Student:\n",
    "    def __init__(self, m):\n",
    "        self.m = m\n",
    "        \n",
    "    \n",
    "    def __add__(self,other):\n",
    "        new_m = self.m + other.m\n",
    "        \n",
    "        newObj = Student(new_m)\n",
    "        return newObj\n",
    "    \n",
    "    def __str__(self):\n",
    "        return f\"{self.m}\"\n",
    "    \n",
    "    \n",
    "    def __gt__(self,other):\n",
    "        other = other.m \n",
    "        self = self.m \n",
    "        if self > other:return True\n",
    "        else:return False\n",
    "        \n",
    "        \n",
    "s1 = Student(60)\n",
    "s2 = Student(70)"
   ]
  },
  {
   "cell_type": "code",
   "execution_count": 51,
   "metadata": {},
   "outputs": [
    {
     "data": {
      "text/plain": [
       "__main__.Student"
      ]
     },
     "execution_count": 51,
     "metadata": {},
     "output_type": "execute_result"
    }
   ],
   "source": [
    "s3 = s1 + s2\n",
    "type(s3)"
   ]
  },
  {
   "cell_type": "code",
   "execution_count": 50,
   "metadata": {},
   "outputs": [
    {
     "name": "stdout",
     "output_type": "stream",
     "text": [
      "130\n"
     ]
    }
   ],
   "source": [
    "print(s3)"
   ]
  },
  {
   "cell_type": "markdown",
   "metadata": {},
   "source": [
    "# Abstraction\n",
    "\n",
    "    Abstract Class and Methods in Python\n",
    " - Python does not support Abstraction\n",
    " - we will use a module ABC for abstraction\n",
    " - ABC means Abstract Base Classes"
   ]
  },
  {
   "cell_type": "code",
   "execution_count": 20,
   "metadata": {},
   "outputs": [],
   "source": [
    "# A normal class and a normal method\n",
    "class Computer:\n",
    "    def process(self):\n",
    "        print('running')\n"
   ]
  },
  {
   "cell_type": "code",
   "execution_count": 10,
   "metadata": {},
   "outputs": [],
   "source": [
    "# A method that only has declaration but has nothing in it is abstract method\n",
    "class Computer:\n",
    "    def process(self):\n",
    "        pass\n",
    "# A class having a methods that has no body"
   ]
  },
  {
   "cell_type": "raw",
   "metadata": {},
   "source": [
    "Hiding the implementation details of a method is called abstraction\n",
    "We can not create an object of abstract classes "
   ]
  },
  {
   "cell_type": "code",
   "execution_count": 21,
   "metadata": {},
   "outputs": [
    {
     "name": "stdout",
     "output_type": "stream",
     "text": [
      "running\n"
     ]
    }
   ],
   "source": [
    "com1 = Computer()\n",
    "com1.process()\n",
    "\n",
    "# There is no error and we are able to create object and call method \n",
    "# because its not an abstract class and not an abstract method."
   ]
  },
  {
   "cell_type": "code",
   "execution_count": 13,
   "metadata": {},
   "outputs": [],
   "source": [
    "from abc import ABC, abstractmethod"
   ]
  },
  {
   "cell_type": "code",
   "execution_count": 33,
   "metadata": {},
   "outputs": [],
   "source": [
    "class Computer(ABC):\n",
    "    \n",
    "    @abstractmethod\n",
    "    def process(self):\n",
    "        print(\"I am a process in computer class\")\n",
    "    \n",
    "    @abstractmethod\n",
    "    def greet(self):\n",
    "        pass\n",
    "#        To make a class abstract \n",
    "#           - It must inherit the ABC class from abc module\n",
    "#           - It must have atleast a abstract method \n",
    "#             (which is defined using a decorator @abstractmethod)\n",
    "    "
   ]
  },
  {
   "cell_type": "code",
   "execution_count": 34,
   "metadata": {},
   "outputs": [
    {
     "ename": "TypeError",
     "evalue": "Can't instantiate abstract class Computer with abstract methods greet, process",
     "output_type": "error",
     "traceback": [
      "\u001b[1;31m---------------------------------------------------------------------------\u001b[0m",
      "\u001b[1;31mTypeError\u001b[0m                                 Traceback (most recent call last)",
      "\u001b[1;32m<ipython-input-34-f6da012d3bb6>\u001b[0m in \u001b[0;36m<module>\u001b[1;34m\u001b[0m\n\u001b[1;32m----> 1\u001b[1;33m \u001b[0mcom1\u001b[0m \u001b[1;33m=\u001b[0m \u001b[0mComputer\u001b[0m\u001b[1;33m(\u001b[0m\u001b[1;33m)\u001b[0m\u001b[1;33m\u001b[0m\u001b[1;33m\u001b[0m\u001b[0m\n\u001b[0m\u001b[0;32m      2\u001b[0m \u001b[1;31m# We can not create the objects of abstract classes\u001b[0m\u001b[1;33m\u001b[0m\u001b[1;33m\u001b[0m\u001b[1;33m\u001b[0m\u001b[0m\n",
      "\u001b[1;31mTypeError\u001b[0m: Can't instantiate abstract class Computer with abstract methods greet, process"
     ]
    }
   ],
   "source": [
    "com1 = Computer()\n",
    "# We can not create the objects of abstract classes"
   ]
  },
  {
   "cell_type": "code",
   "execution_count": 35,
   "metadata": {},
   "outputs": [],
   "source": [
    "class Laptop(Computer):\n",
    "    \n",
    "    def process(self):\n",
    "        print(\"It is running\")\n",
    "    def greet(self):\n",
    "        print(\"Salam\")\n",
    "    def run(self):\n",
    "        print(\"Lap runs\")\n",
    "lap1 = Laptop()    \n"
   ]
  },
  {
   "cell_type": "code",
   "execution_count": 36,
   "metadata": {},
   "outputs": [
    {
     "name": "stdout",
     "output_type": "stream",
     "text": [
      "It is running\n",
      "Salam\n",
      "Lap runs\n"
     ]
    }
   ],
   "source": [
    "lap1.process()\n",
    "lap1.greet()\n",
    "lap1.run()"
   ]
  },
  {
   "cell_type": "markdown",
   "metadata": {},
   "source": [
    "# What is the use of this concept or functionality"
   ]
  },
  {
   "cell_type": "raw",
   "metadata": {},
   "source": [
    "Through abstraction we can provide a user an interface that only show the behaviour not the implmetation of that behaviour \n",
    "Like we show a user a computer that runs process and user can only see the name of behavoiur but there is no implementation in it. \n",
    "Implementation is done in child class "
   ]
  },
  {
   "cell_type": "code",
   "execution_count": 39,
   "metadata": {},
   "outputs": [
    {
     "name": "stdout",
     "output_type": "stream",
     "text": [
      "The mileage is 30kmph\n",
      "The mileage is 27kmph \n",
      "The mileage is 25kmph \n",
      "The mileage is 24kmph \n"
     ]
    }
   ],
   "source": [
    "from abc import ABC, abstractmethod   \n",
    "\n",
    "class Car(ABC):   \n",
    "    @abstractmethod\n",
    "    def mileage(self):   \n",
    "        pass  \n",
    "    \n",
    "class Tesla(Car):   \n",
    "    def mileage(self):   \n",
    "        print(\"The mileage is 30kmph\")  \n",
    "        \n",
    "        \n",
    "class Suzuki(Car):   \n",
    "    def mileage(self):   \n",
    "        print(\"The mileage is 25kmph \")   \n",
    "        \n",
    "        \n",
    "class Duster(Car):   \n",
    "     def mileage(self):   \n",
    "        print(\"The mileage is 24kmph \")   \n",
    "        \n",
    "        \n",
    "        \n",
    "class Renault(Car):   \n",
    "    def mileage(self):   \n",
    "            print(\"The mileage is 27kmph \")   \n",
    "# Driver code   \n",
    "t= Tesla ()   \n",
    "t.mileage()   \n",
    "  \n",
    "r = Renault()   \n",
    "r.mileage()   \n",
    "  \n",
    "s = Suzuki()   \n",
    "s.mileage()   \n",
    "d = Duster()   \n",
    "d.mileage()  "
   ]
  },
  {
   "cell_type": "code",
   "execution_count": 40,
   "metadata": {},
   "outputs": [
    {
     "name": "stdout",
     "output_type": "stream",
     "text": [
      "Triangle has 3 sides\n",
      "I have 4 sides\n",
      "Pentagon has 5 sides\n",
      "Hexagon has 6 sides\n"
     ]
    }
   ],
   "source": [
    "# Python program to define   \n",
    "# abstract class  \n",
    "  \n",
    "from abc import ABC  \n",
    "class Polygon(ABC):\n",
    "    @abstractmethod   \n",
    "    def sides(self):\n",
    "        pass  \n",
    "\n",
    "class Triangle(Polygon):\n",
    "    def sides(self):print(\"Triangle has 3 sides\")   \n",
    "class Pentagon(Polygon):\n",
    "    def sides(self):print(\"Pentagon has 5 sides\")   \n",
    "class Hexagon(Polygon):\n",
    "    def sides(self):print(\"Hexagon has 6 sides\")   \n",
    "class square(Polygon):\n",
    "    def sides(self):print(\"I have 4 sides\")   \n",
    "# Driver code   \n",
    "t = Triangle()   \n",
    "t.sides()   \n",
    "  \n",
    "s = square()   \n",
    "s.sides()   \n",
    "  \n",
    "p = Pentagon()   \n",
    "p.sides()   \n",
    "  \n",
    "k = Hexagon()   \n",
    "k.sides()"
   ]
  },
  {
   "cell_type": "markdown",
   "metadata": {},
   "source": [
    "# Python OOPs Public, Protected and Private "
   ]
  },
  {
   "cell_type": "raw",
   "metadata": {},
   "source": [
    "Public private and protected functionalities are highly restricted (strongly typed) in most of the typed languages \n",
    "But in python you will not be restricted to access public private and protected variables, they can be overridden. "
   ]
  },
  {
   "cell_type": "code",
   "execution_count": 2,
   "metadata": {},
   "outputs": [],
   "source": [
    "# All class ariables are public by defualt\n",
    "# All instance variables are public by default \n",
    "class Car():\n",
    "    # public class variable can be accessed from any where \n",
    "    wheels = 4\n",
    "    def __init__(self,windows, doors, enginetype):\n",
    "        \n",
    "        #Public instance Variable can be acceesed from anywhere \n",
    "        self.windows =windows\n",
    "        self.doors =doors\n",
    "        self.enginetype =enginetype\n",
    "car = Car(3,4,\"Petrol\")\n"
   ]
  },
  {
   "cell_type": "code",
   "execution_count": 4,
   "metadata": {},
   "outputs": [
    {
     "data": {
      "text/plain": [
       "['__class__',\n",
       " '__delattr__',\n",
       " '__dict__',\n",
       " '__dir__',\n",
       " '__doc__',\n",
       " '__eq__',\n",
       " '__format__',\n",
       " '__ge__',\n",
       " '__getattribute__',\n",
       " '__gt__',\n",
       " '__hash__',\n",
       " '__init__',\n",
       " '__init_subclass__',\n",
       " '__le__',\n",
       " '__lt__',\n",
       " '__module__',\n",
       " '__ne__',\n",
       " '__new__',\n",
       " '__reduce__',\n",
       " '__reduce_ex__',\n",
       " '__repr__',\n",
       " '__setattr__',\n",
       " '__sizeof__',\n",
       " '__str__',\n",
       " '__subclasshook__',\n",
       " '__weakref__',\n",
       " 'doors',\n",
       " 'enginetype',\n",
       " 'hp',\n",
       " 'wheels',\n",
       " 'windows']"
      ]
     },
     "execution_count": 4,
     "metadata": {},
     "output_type": "execute_result"
    }
   ],
   "source": [
    "class Suzuki(Car):\n",
    "    def __init__(self,windows,doors,enginetype, hp):\n",
    "        super().__init__(windows,doors,enginetype)\n",
    "        self.hp = hp\n",
    "suz = Suzuki(4,4,\"Petrol\",\"1600\")\n",
    "\n",
    "# you will notice public variables are all accessible to child class also\n",
    "dir(suz)"
   ]
  },
  {
   "cell_type": "code",
   "execution_count": 6,
   "metadata": {},
   "outputs": [
    {
     "data": {
      "text/plain": [
       "['__class__',\n",
       " '__delattr__',\n",
       " '__dict__',\n",
       " '__dir__',\n",
       " '__doc__',\n",
       " '__eq__',\n",
       " '__format__',\n",
       " '__ge__',\n",
       " '__getattribute__',\n",
       " '__gt__',\n",
       " '__hash__',\n",
       " '__init__',\n",
       " '__init_subclass__',\n",
       " '__le__',\n",
       " '__lt__',\n",
       " '__module__',\n",
       " '__ne__',\n",
       " '__new__',\n",
       " '__reduce__',\n",
       " '__reduce_ex__',\n",
       " '__repr__',\n",
       " '__setattr__',\n",
       " '__sizeof__',\n",
       " '__str__',\n",
       " '__subclasshook__',\n",
       " '__weakref__',\n",
       " '_doors',\n",
       " '_enginetype',\n",
       " '_windows',\n",
       " 'hello']"
      ]
     },
     "execution_count": 6,
     "metadata": {},
     "output_type": "execute_result"
    }
   ],
   "source": [
    "# to make a variable protected use a single underscore before a variable name like _name = \"Asad\"\n",
    "class Car():\n",
    "    def __init__(self,windows, doors, enginetype):\n",
    "        \n",
    "        #Protected variables: should be acceesed from a sub class only by definition but python has no restriction it can also be accessed from any where\n",
    "        # but python dont restrict actually\n",
    "        self._windows =windows\n",
    "        self._doors =doors\n",
    "        self._enginetype =enginetype\n",
    "        self.hello = \"heooooooo\" # public\n",
    "        \n",
    "\n",
    "audi = Car(4,5,\"Diesel\")\n",
    "car2 = Car(2,4,\"abc\")\n",
    " \n",
    "dir(audi)\n"
   ]
  },
  {
   "cell_type": "code",
   "execution_count": 9,
   "metadata": {},
   "outputs": [
    {
     "data": {
      "text/plain": [
       "4"
      ]
     },
     "execution_count": 9,
     "metadata": {},
     "output_type": "execute_result"
    }
   ],
   "source": [
    "audi._windows"
   ]
  },
  {
   "cell_type": "markdown",
   "metadata": {},
   "source": [
    "### Class variable(static variable) and Instance Vatriables \n",
    "  - class vairbales and static variables are same"
   ]
  },
  {
   "cell_type": "code",
   "execution_count": 52,
   "metadata": {},
   "outputs": [],
   "source": [
    "class Car:\n",
    "    # static or class level variable\n",
    "    #can be updated using class name for all objects\n",
    "    wheels = 4\n",
    "    def __init__(self):\n",
    "    # non static or object/instance level variable\n",
    "    # can be updated using object name for a particular object\n",
    "        self.mileage = 10\n",
    "        self.company = \"BMW\"   "
   ]
  },
  {
   "cell_type": "code",
   "execution_count": 53,
   "metadata": {},
   "outputs": [],
   "source": [
    "c1  = Car()\n",
    "c2 = Car()"
   ]
  },
  {
   "cell_type": "code",
   "execution_count": 54,
   "metadata": {},
   "outputs": [
    {
     "data": {
      "text/plain": [
       "(4, 4, 4)"
      ]
     },
     "execution_count": 54,
     "metadata": {},
     "output_type": "execute_result"
    }
   ],
   "source": [
    "#wheels is a static variable and can be access using class name as well as object name\n",
    "Car.wheels, c1.wheels,c2.wheels"
   ]
  },
  {
   "cell_type": "code",
   "execution_count": 55,
   "metadata": {},
   "outputs": [],
   "source": [
    "# if we update wheels at class level it will be uodated for every object of the class\n",
    "Car.wheels = 5"
   ]
  },
  {
   "cell_type": "code",
   "execution_count": 56,
   "metadata": {},
   "outputs": [
    {
     "data": {
      "text/plain": [
       "(5, 5, 5)"
      ]
     },
     "execution_count": 56,
     "metadata": {},
     "output_type": "execute_result"
    }
   ],
   "source": [
    "Car.wheels, c1.wheels,c2.wheels"
   ]
  },
  {
   "cell_type": "code",
   "execution_count": 57,
   "metadata": {},
   "outputs": [],
   "source": [
    "# updating wheels for only a object c1 will not change for any other object of car\n",
    "c1.wheels = 6"
   ]
  },
  {
   "cell_type": "code",
   "execution_count": 58,
   "metadata": {},
   "outputs": [
    {
     "data": {
      "text/plain": [
       "(5, 6, 5)"
      ]
     },
     "execution_count": 58,
     "metadata": {},
     "output_type": "execute_result"
    }
   ],
   "source": [
    "Car.wheels, c1.wheels,c2.wheels"
   ]
  },
  {
   "cell_type": "code",
   "execution_count": 59,
   "metadata": {},
   "outputs": [
    {
     "data": {
      "text/plain": [
       "(10, 6, 10)"
      ]
     },
     "execution_count": 59,
     "metadata": {},
     "output_type": "execute_result"
    }
   ],
   "source": [
    "# Updating wheel again at class level  \n",
    "Car.wheels = 10\n",
    "\n",
    "\n",
    "# Since an object c1 has make it own copy it will not be affected. \n",
    "Car.wheels, c1.wheels,c2.wheels"
   ]
  },
  {
   "cell_type": "markdown",
   "metadata": {},
   "source": [
    "## Class methods , Instance methods , static methods\n",
    " - Class methods and startic methods are not same "
   ]
  },
  {
   "cell_type": "code",
   "execution_count": 62,
   "metadata": {},
   "outputs": [],
   "source": [
    "class Student:\n",
    "    school = \"SSUET\"\n",
    "    def __init__(self, m1,m2,m3):\n",
    "        self.m1 = m1\n",
    "        self.m2 = m2\n",
    "        self.m3 = m3\n",
    "    def avg(self):\n",
    "        return (self.m1+self.m2+self.m3)/3\n",
    "    \n",
    "    def information(self):\n",
    "        return self.school\n",
    "    "
   ]
  },
  {
   "cell_type": "code",
   "execution_count": 64,
   "metadata": {},
   "outputs": [
    {
     "name": "stdout",
     "output_type": "stream",
     "text": [
      "92.33333333333333\n",
      "80.0\n",
      "SSUET\n",
      "SSUET\n"
     ]
    },
    {
     "ename": "TypeError",
     "evalue": "information() missing 1 required positional argument: 'self'",
     "output_type": "error",
     "traceback": [
      "\u001b[1;31m---------------------------------------------------------------------------\u001b[0m",
      "\u001b[1;31mTypeError\u001b[0m                                 Traceback (most recent call last)",
      "\u001b[1;32m<ipython-input-64-7ecc83831a9f>\u001b[0m in \u001b[0;36m<module>\u001b[1;34m\u001b[0m\n\u001b[0;32m     13\u001b[0m \u001b[1;33m\u001b[0m\u001b[0m\n\u001b[0;32m     14\u001b[0m \u001b[1;31m# instance method called using class name oooooonlyyyyyyyyyyyyyyy>>>>>>>>error\u001b[0m\u001b[1;33m\u001b[0m\u001b[1;33m\u001b[0m\u001b[1;33m\u001b[0m\u001b[0m\n\u001b[1;32m---> 15\u001b[1;33m \u001b[0mprint\u001b[0m\u001b[1;33m(\u001b[0m\u001b[0mStudent\u001b[0m\u001b[1;33m.\u001b[0m\u001b[0minformation\u001b[0m\u001b[1;33m(\u001b[0m\u001b[1;33m)\u001b[0m\u001b[1;33m)\u001b[0m\u001b[1;33m\u001b[0m\u001b[1;33m\u001b[0m\u001b[0m\n\u001b[0m\u001b[0;32m     16\u001b[0m \u001b[0mprint\u001b[0m\u001b[1;33m(\u001b[0m\u001b[0mStudent\u001b[0m\u001b[1;33m.\u001b[0m\u001b[0minformation\u001b[0m\u001b[1;33m(\u001b[0m\u001b[1;33m)\u001b[0m\u001b[1;33m)\u001b[0m\u001b[1;33m\u001b[0m\u001b[1;33m\u001b[0m\u001b[0m\n",
      "\u001b[1;31mTypeError\u001b[0m: information() missing 1 required positional argument: 'self'"
     ]
    }
   ],
   "source": [
    "s1 = Student(89,98,90)\n",
    "s2 = Student(80,90,70)\n",
    "\n",
    "# instance method called using instance  s1\n",
    "print(s1.avg())\n",
    "\n",
    "# instance method called using instance  s2\n",
    "print(s2.avg())\n",
    "\n",
    "# instance method called using class name but instance is passed a argument\n",
    "print(Student.information(s1))\n",
    "print(Student.information(s2))\n",
    "\n",
    "# instance method called using class name oooooonlyyyyyyyyyyyyyyy>>>>>>>>error\n",
    "print(Student.information())\n",
    "print(Student.information())"
   ]
  },
  {
   "cell_type": "markdown",
   "metadata": {},
   "source": [
    "### Description: \n",
    "    \n",
    "avg is an instance method it required a instance/object to be called. \n",
    "information is a also a instance method which requires instance/object to be called.\n",
    "\n",
    "any instance method can not be called using a class name. \n",
    "\n",
    "Only class methods can be called by using a class name.\n",
    "\n",
    "<B>class methods can be called using class name as well as instance name</B> \n",
    "\n",
    "to make a methods class method we use a <B>decorator @classmethod</B>\n",
    "this way information method can be called using an object as well as a class"
   ]
  },
  {
   "cell_type": "code",
   "execution_count": 66,
   "metadata": {},
   "outputs": [],
   "source": [
    "class Student:\n",
    "    \n",
    "    school = \"SSUET\"\n",
    "    \n",
    "    def __init__(self, m1,m2,m3):\n",
    "        self.m1 = m1\n",
    "        self.m2 = m2\n",
    "        self.m3 = m3\n",
    "    \n",
    "    def avg(self):\n",
    "        return (self.m1+self.m2+self.m3)/3\n",
    "    \n",
    "    @classmethod\n",
    "    def information(c):\n",
    "        return c.school"
   ]
  },
  {
   "cell_type": "code",
   "execution_count": 67,
   "metadata": {},
   "outputs": [
    {
     "name": "stdout",
     "output_type": "stream",
     "text": [
      "92.33333333333333\n",
      "80.0\n",
      "SSUET\n",
      "SSUET\n",
      "SSUET\n",
      "SSUET\n"
     ]
    }
   ],
   "source": [
    "s1 = Student(89,98,90)\n",
    "s2 = Student(80,90,70)\n",
    "\n",
    "# instance method called using instance  s1\n",
    "print(s1.avg())\n",
    "\n",
    "# instance method called using instance  s2\n",
    "print(s2.avg())\n",
    "\n",
    "                                              ########\n",
    "#                 Class method CAN BE CAN BE CAN BE CAN BE CAN BE called using class as well as instance  \n",
    "                                                ######\n",
    "\n",
    "# class method is called using instance\n",
    "print(s1.information())\n",
    "print(s1.information())\n",
    "\n",
    "# class method is called using class name\n",
    "print(Student.information())\n",
    "print(Student.information())"
   ]
  },
  {
   "cell_type": "markdown",
   "metadata": {},
   "source": [
    "# Static Methods \n",
    " - static methods are methods that donot require any instance or any class"
   ]
  },
  {
   "cell_type": "code",
   "execution_count": 70,
   "metadata": {},
   "outputs": [],
   "source": [
    "class Student:\n",
    "    school = \"SSUET\"\n",
    "    def __init__(self, m1,m2,m3):\n",
    "        self.m1 = m1\n",
    "        self.m2 = m2\n",
    "        self.m3 = m3\n",
    "    def avg(self):\n",
    "        return (self.m1+self.m2+self.m3)/3\n",
    "    \n",
    "    @classmethod\n",
    "    def information(c):\n",
    "        return c.school\n",
    "    \n",
    "    @staticmethod\n",
    "    def hello():   # no self required\n",
    "        return \"Im a static method\""
   ]
  },
  {
   "cell_type": "code",
   "execution_count": 71,
   "metadata": {},
   "outputs": [],
   "source": [
    "s4 = Student(23,24,25)"
   ]
  },
  {
   "cell_type": "code",
   "execution_count": 73,
   "metadata": {},
   "outputs": [
    {
     "data": {
      "text/plain": [
       "'Im a static method'"
      ]
     },
     "execution_count": 73,
     "metadata": {},
     "output_type": "execute_result"
    }
   ],
   "source": [
    "#static method called\n",
    "\n",
    "s4.hello()"
   ]
  },
  {
   "cell_type": "code",
   "execution_count": 74,
   "metadata": {},
   "outputs": [
    {
     "data": {
      "text/plain": [
       "'Im a static method'"
      ]
     },
     "execution_count": 74,
     "metadata": {},
     "output_type": "execute_result"
    }
   ],
   "source": [
    "# static method called \n",
    "Student.hello()"
   ]
  },
  {
   "cell_type": "markdown",
   "metadata": {},
   "source": [
    "# Inner Classes\n",
    " - Class inside a class is called inner class"
   ]
  },
  {
   "cell_type": "code",
   "execution_count": 1,
   "metadata": {},
   "outputs": [
    {
     "name": "stdout",
     "output_type": "stream",
     "text": [
      "Nasir 2\n",
      "Hassan 3\n"
     ]
    }
   ],
   "source": [
    "class Student:\n",
    "    def __init__(self, name, rollno):\n",
    "        self.name =name\n",
    "        self.rollno=rollno\n",
    "    \n",
    "    def show(self):\n",
    "        print(self.name, self.rollno)\n",
    "\n",
    "        \n",
    "s1 = Student('Nasir',2)\n",
    "s2 = Student('Hassan',3)\n",
    "\n",
    "s1.show()\n",
    "s2.show()"
   ]
  },
  {
   "cell_type": "raw",
   "metadata": {},
   "source": [
    "Case: A student in IT class must hava laptop so there is an attribute of laptop for student."
   ]
  },
  {
   "cell_type": "code",
   "execution_count": 2,
   "metadata": {},
   "outputs": [
    {
     "name": "stdout",
     "output_type": "stream",
     "text": [
      "Nasir 2 HP\n",
      "Hassan 3 Lenovo\n"
     ]
    }
   ],
   "source": [
    "class Student:\n",
    "    def __init__(self, name, rollno,laptop):\n",
    "        self.name =name\n",
    "        self.rollno=rollno\n",
    "        self.laptop = laptop\n",
    "    \n",
    "    def show(self):\n",
    "        print(self.name, self.rollno,self.laptop)\n",
    "\n",
    "        \n",
    "s1 = Student('Nasir',2, \"HP\")\n",
    "s2 = Student('Hassan',3,\"Lenovo\")\n",
    "\n",
    "s1.show()\n",
    "s2.show()"
   ]
  },
  {
   "cell_type": "markdown",
   "metadata": {},
   "source": [
    "What if i need to add more detail of my laptop??\n",
    "\n",
    "Should i send the details as arguments to init??\n",
    "\n",
    "1- <B><i>We can create a separate class for laptop and use its object as attribute to Student</i></B>\n",
    "\n",
    "2- <B><i>or we can also create an inner class of laptop inside Student</i></B>"
   ]
  },
  {
   "cell_type": "markdown",
   "metadata": {},
   "source": [
    "### 1. Instance as attribute\n",
    "A class outside the class, its instance can be used as attribute in another class"
   ]
  },
  {
   "cell_type": "code",
   "execution_count": 4,
   "metadata": {},
   "outputs": [],
   "source": [
    "class Laptop:\n",
    "    def __init__(self,brand,cpu,ram):\n",
    "        self.brand =brand\n",
    "        self.cpu =cpu\n",
    "        self.ram =ram\n",
    "\n",
    "    def show(self):\n",
    "        print(self.brand,self.cpu,self.ram)"
   ]
  },
  {
   "cell_type": "code",
   "execution_count": 141,
   "metadata": {
    "scrolled": true
   },
   "outputs": [
    {
     "name": "stdout",
     "output_type": "stream",
     "text": [
      "Nasir 2\n",
      "Hp i7 16Gb\n",
      "Hassan 3\n",
      "Dell i5 8Gb\n"
     ]
    }
   ],
   "source": [
    "class Student:\n",
    "    def __init__(self, name, rollno,brand, cpu , ram):\n",
    "        self.name =name\n",
    "        self.rollno=rollno\n",
    "        self.laptop = Laptop(brand,cpu,ram)\n",
    "   \n",
    "    def show(self):\n",
    "        print(self.name, self.rollno) \n",
    "        self.laptop.show()\n",
    "    \n",
    "    \n",
    "s1 = Student('Nasir',2,\"Hp\",\"i7\",'16Gb')\n",
    "s2 = Student('Hassan',3,\"Dell\",\"i5\",'8Gb')\n",
    "\n",
    "s1.show()\n",
    "\n",
    "s2.show()\n"
   ]
  },
  {
   "cell_type": "markdown",
   "metadata": {},
   "source": [
    "### 2. Inner Class\n",
    " - A class created inside a class is called an inner class"
   ]
  },
  {
   "cell_type": "code",
   "execution_count": 8,
   "metadata": {},
   "outputs": [
    {
     "name": "stdout",
     "output_type": "stream",
     "text": [
      "Hp i7 16Gb\n",
      "None\n",
      "Hassan 3\n",
      "Dell i5 8Gb\n"
     ]
    }
   ],
   "source": [
    "class Student:\n",
    "    def __init__(self, name, rollno,brand, cpu , ram):\n",
    "        self.name =name\n",
    "        self.rollno=rollno\n",
    "        self.laptop = self.Laptop(brand,cpu,ram)\n",
    "   \n",
    "    def show(self):\n",
    "        print(self.name, self.rollno) \n",
    "        self.laptop.show()\n",
    "        \n",
    "    \n",
    "    ####inner class######\n",
    "    class Laptop:\n",
    "        def __init__(self,brand,cpu,ram):\n",
    "            self.brand =brand\n",
    "            self.cpu =cpu\n",
    "            self.ram =ram\n",
    "        def show(self):\n",
    "            print(self.brand,self.cpu,self.ram)\n",
    "    lap1 = Laptop(\"Leno\",\"i7\",'16Gb')\n",
    "    \n",
    "\n",
    "s1 = Student('Nasir',2,\"Hp\",\"i7\",'16Gb')\n",
    "s2 = Student('Hassan',3,\"Dell\",\"i5\",'8Gb')\n",
    "\n",
    "print(s1.laptop.show())\n",
    "\n",
    "s2.show()\n"
   ]
  },
  {
   "cell_type": "code",
   "execution_count": 144,
   "metadata": {},
   "outputs": [
    {
     "name": "stdout",
     "output_type": "stream",
     "text": [
      "Hp i7 16Gb\n",
      "Dell i5 8Gb\n"
     ]
    }
   ],
   "source": [
    "s1.laptop.show()\n",
    "s2.laptop.show()"
   ]
  },
  {
   "cell_type": "code",
   "execution_count": null,
   "metadata": {},
   "outputs": [],
   "source": []
  }
 ],
 "metadata": {
  "kernelspec": {
   "display_name": "Python 3",
   "language": "python",
   "name": "python3"
  },
  "language_info": {
   "codemirror_mode": {
    "name": "ipython",
    "version": 3
   },
   "file_extension": ".py",
   "mimetype": "text/x-python",
   "name": "python",
   "nbconvert_exporter": "python",
   "pygments_lexer": "ipython3",
   "version": "3.7.4"
  }
 },
 "nbformat": 4,
 "nbformat_minor": 5
}
