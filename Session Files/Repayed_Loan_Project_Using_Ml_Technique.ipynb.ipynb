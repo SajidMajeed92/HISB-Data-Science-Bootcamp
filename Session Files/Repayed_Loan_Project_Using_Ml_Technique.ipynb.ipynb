{
 "cells": [
  {
   "cell_type": "markdown",
   "metadata": {},
   "source": [
    "Loading Data Set & Libraries"
   ]
  },
  {
   "cell_type": "code",
   "execution_count": 1,
   "metadata": {},
   "outputs": [],
   "source": [
    "import pandas as pd\n",
    "import numpy as np\n",
    "import seaborn as sns\n",
    "import matplotlib.pyplot as plt\n",
    "from sklearn.model_selection import train_test_split\n",
    "from sklearn.compose import ColumnTransformer,make_column_transformer\n",
    "from sklearn.preprocessing import MinMaxScaler\n",
    "from sklearn.preprocessing import OneHotEncoder\n",
    "from sklearn.pipeline import Pipeline,make_pipeline\n",
    "from sklearn.tree import DecisionTreeClassifier"
   ]
  },
  {
   "cell_type": "code",
   "execution_count": 2,
   "metadata": {},
   "outputs": [],
   "source": [
    "df = pd.read_excel(\"Dataset/loan-data.xlsx\" , index_col=0 )"
   ]
  },
  {
   "cell_type": "code",
   "execution_count": 3,
   "metadata": {},
   "outputs": [
    {
     "data": {
      "text/plain": [
       "(38480, 36)"
      ]
     },
     "execution_count": 3,
     "metadata": {},
     "output_type": "execute_result"
    }
   ],
   "source": [
    "df.shape"
   ]
  },
  {
   "cell_type": "code",
   "execution_count": 4,
   "metadata": {},
   "outputs": [
    {
     "data": {
      "text/html": [
       "<div>\n",
       "<style scoped>\n",
       "    .dataframe tbody tr th:only-of-type {\n",
       "        vertical-align: middle;\n",
       "    }\n",
       "\n",
       "    .dataframe tbody tr th {\n",
       "        vertical-align: top;\n",
       "    }\n",
       "\n",
       "    .dataframe thead th {\n",
       "        text-align: right;\n",
       "    }\n",
       "</style>\n",
       "<table border=\"1\" class=\"dataframe\">\n",
       "  <thead>\n",
       "    <tr style=\"text-align: right;\">\n",
       "      <th></th>\n",
       "      <th>id</th>\n",
       "      <th>member_id</th>\n",
       "      <th>loan_amnt</th>\n",
       "      <th>funded_amnt</th>\n",
       "      <th>funded_amnt_inv</th>\n",
       "      <th>term</th>\n",
       "      <th>int_rate</th>\n",
       "      <th>installment</th>\n",
       "      <th>emp_length</th>\n",
       "      <th>home_ownership</th>\n",
       "      <th>...</th>\n",
       "      <th>total_acc</th>\n",
       "      <th>total_pymnt</th>\n",
       "      <th>total_pymnt_inv</th>\n",
       "      <th>total_rec_prncp</th>\n",
       "      <th>total_rec_int</th>\n",
       "      <th>last_pymnt_d</th>\n",
       "      <th>last_pymnt_amnt</th>\n",
       "      <th>next_pymnt_d</th>\n",
       "      <th>last_credit_pull_d</th>\n",
       "      <th>repay_fail</th>\n",
       "    </tr>\n",
       "  </thead>\n",
       "  <tbody>\n",
       "    <tr>\n",
       "      <th>2</th>\n",
       "      <td>2</td>\n",
       "      <td>2</td>\n",
       "      <td>0.0</td>\n",
       "      <td>0.0</td>\n",
       "      <td>0.0</td>\n",
       "      <td>36 months</td>\n",
       "      <td>0.00</td>\n",
       "      <td>0.00</td>\n",
       "      <td>&lt; 1 year</td>\n",
       "      <td>RENT</td>\n",
       "      <td>...</td>\n",
       "      <td>1.0</td>\n",
       "      <td>0.000000</td>\n",
       "      <td>0.00</td>\n",
       "      <td>0.00</td>\n",
       "      <td>0.00</td>\n",
       "      <td>2023-01-07</td>\n",
       "      <td>0.00</td>\n",
       "      <td>2023-01-07</td>\n",
       "      <td>2023-01-07</td>\n",
       "      <td>1</td>\n",
       "    </tr>\n",
       "    <tr>\n",
       "      <th>3</th>\n",
       "      <td>545583</td>\n",
       "      <td>703644</td>\n",
       "      <td>2500.0</td>\n",
       "      <td>2500.0</td>\n",
       "      <td>2500.0</td>\n",
       "      <td>36 months</td>\n",
       "      <td>13.98</td>\n",
       "      <td>85.42</td>\n",
       "      <td>4 years</td>\n",
       "      <td>RENT</td>\n",
       "      <td>...</td>\n",
       "      <td>10.0</td>\n",
       "      <td>3075.291779</td>\n",
       "      <td>3075.29</td>\n",
       "      <td>2500.00</td>\n",
       "      <td>575.29</td>\n",
       "      <td>2023-07-13</td>\n",
       "      <td>90.85</td>\n",
       "      <td>2023-08-13</td>\n",
       "      <td>2023-06-16</td>\n",
       "      <td>0</td>\n",
       "    </tr>\n",
       "    <tr>\n",
       "      <th>4</th>\n",
       "      <td>532101</td>\n",
       "      <td>687836</td>\n",
       "      <td>5000.0</td>\n",
       "      <td>5000.0</td>\n",
       "      <td>5000.0</td>\n",
       "      <td>36 months</td>\n",
       "      <td>15.95</td>\n",
       "      <td>175.67</td>\n",
       "      <td>4 years</td>\n",
       "      <td>RENT</td>\n",
       "      <td>...</td>\n",
       "      <td>15.0</td>\n",
       "      <td>2948.760000</td>\n",
       "      <td>2948.76</td>\n",
       "      <td>1909.02</td>\n",
       "      <td>873.81</td>\n",
       "      <td>2023-11-11</td>\n",
       "      <td>175.67</td>\n",
       "      <td>NaT</td>\n",
       "      <td>2023-03-12</td>\n",
       "      <td>1</td>\n",
       "    </tr>\n",
       "    <tr>\n",
       "      <th>5</th>\n",
       "      <td>877788</td>\n",
       "      <td>1092507</td>\n",
       "      <td>7000.0</td>\n",
       "      <td>7000.0</td>\n",
       "      <td>7000.0</td>\n",
       "      <td>36 months</td>\n",
       "      <td>9.91</td>\n",
       "      <td>225.58</td>\n",
       "      <td>10+ years</td>\n",
       "      <td>MORTGAGE</td>\n",
       "      <td>...</td>\n",
       "      <td>20.0</td>\n",
       "      <td>8082.391880</td>\n",
       "      <td>8082.39</td>\n",
       "      <td>7000.00</td>\n",
       "      <td>1082.39</td>\n",
       "      <td>2023-03-14</td>\n",
       "      <td>1550.27</td>\n",
       "      <td>NaT</td>\n",
       "      <td>2023-03-14</td>\n",
       "      <td>0</td>\n",
       "    </tr>\n",
       "    <tr>\n",
       "      <th>6</th>\n",
       "      <td>875406</td>\n",
       "      <td>1089981</td>\n",
       "      <td>2000.0</td>\n",
       "      <td>2000.0</td>\n",
       "      <td>2000.0</td>\n",
       "      <td>36 months</td>\n",
       "      <td>5.42</td>\n",
       "      <td>60.32</td>\n",
       "      <td>10+ years</td>\n",
       "      <td>RENT</td>\n",
       "      <td>...</td>\n",
       "      <td>15.0</td>\n",
       "      <td>2161.663244</td>\n",
       "      <td>2161.66</td>\n",
       "      <td>2000.00</td>\n",
       "      <td>161.66</td>\n",
       "      <td>2023-02-14</td>\n",
       "      <td>53.12</td>\n",
       "      <td>NaT</td>\n",
       "      <td>2023-06-16</td>\n",
       "      <td>0</td>\n",
       "    </tr>\n",
       "  </tbody>\n",
       "</table>\n",
       "<p>5 rows × 36 columns</p>\n",
       "</div>"
      ],
      "text/plain": [
       "       id  member_id  loan_amnt  funded_amnt  funded_amnt_inv       term  \\\n",
       "2       2          2        0.0          0.0              0.0  36 months   \n",
       "3  545583     703644     2500.0       2500.0           2500.0  36 months   \n",
       "4  532101     687836     5000.0       5000.0           5000.0  36 months   \n",
       "5  877788    1092507     7000.0       7000.0           7000.0  36 months   \n",
       "6  875406    1089981     2000.0       2000.0           2000.0  36 months   \n",
       "\n",
       "   int_rate  installment emp_length home_ownership  ...  total_acc  \\\n",
       "2      0.00         0.00   < 1 year           RENT  ...        1.0   \n",
       "3     13.98        85.42    4 years           RENT  ...       10.0   \n",
       "4     15.95       175.67    4 years           RENT  ...       15.0   \n",
       "5      9.91       225.58  10+ years       MORTGAGE  ...       20.0   \n",
       "6      5.42        60.32  10+ years           RENT  ...       15.0   \n",
       "\n",
       "   total_pymnt total_pymnt_inv total_rec_prncp total_rec_int last_pymnt_d  \\\n",
       "2     0.000000            0.00            0.00          0.00   2023-01-07   \n",
       "3  3075.291779         3075.29         2500.00        575.29   2023-07-13   \n",
       "4  2948.760000         2948.76         1909.02        873.81   2023-11-11   \n",
       "5  8082.391880         8082.39         7000.00       1082.39   2023-03-14   \n",
       "6  2161.663244         2161.66         2000.00        161.66   2023-02-14   \n",
       "\n",
       "  last_pymnt_amnt  next_pymnt_d  last_credit_pull_d repay_fail  \n",
       "2            0.00    2023-01-07          2023-01-07          1  \n",
       "3           90.85    2023-08-13          2023-06-16          0  \n",
       "4          175.67           NaT          2023-03-12          1  \n",
       "5         1550.27           NaT          2023-03-14          0  \n",
       "6           53.12           NaT          2023-06-16          0  \n",
       "\n",
       "[5 rows x 36 columns]"
      ]
     },
     "execution_count": 4,
     "metadata": {},
     "output_type": "execute_result"
    }
   ],
   "source": [
    "df.head()"
   ]
  },
  {
   "cell_type": "code",
   "execution_count": 5,
   "metadata": {},
   "outputs": [
    {
     "name": "stdout",
     "output_type": "stream",
     "text": [
      "<class 'pandas.core.frame.DataFrame'>\n",
      "Int64Index: 38480 entries, 2 to 38480\n",
      "Data columns (total 36 columns):\n",
      " #   Column                  Non-Null Count  Dtype         \n",
      "---  ------                  --------------  -----         \n",
      " 0   id                      38480 non-null  int64         \n",
      " 1   member_id               38480 non-null  int64         \n",
      " 2   loan_amnt               38479 non-null  float64       \n",
      " 3   funded_amnt             38479 non-null  float64       \n",
      " 4   funded_amnt_inv         38479 non-null  float64       \n",
      " 5   term                    38480 non-null  object        \n",
      " 6   int_rate                38480 non-null  float64       \n",
      " 7   installment             38479 non-null  float64       \n",
      " 8   emp_length              37487 non-null  object        \n",
      " 9   home_ownership          38480 non-null  object        \n",
      " 10  annual_inc              38478 non-null  float64       \n",
      " 11  verification_status     38480 non-null  object        \n",
      " 12  issue_d                 38480 non-null  datetime64[ns]\n",
      " 13  loan_status             38480 non-null  object        \n",
      " 14  purpose                 38480 non-null  object        \n",
      " 15  zip_code                38480 non-null  object        \n",
      " 16  addr_state              38480 non-null  object        \n",
      " 17  dti                     38480 non-null  float64       \n",
      " 18  delinq_2yrs             38479 non-null  float64       \n",
      " 19  earliest_cr_line        38480 non-null  datetime64[ns]\n",
      " 20  inq_last_6mths          38479 non-null  float64       \n",
      " 21  mths_since_last_delinq  14117 non-null  float64       \n",
      " 22  open_acc                38479 non-null  float64       \n",
      " 23  pub_rec                 38479 non-null  float64       \n",
      " 24  revol_bal               38476 non-null  float64       \n",
      " 25  revol_util              38421 non-null  object        \n",
      " 26  total_acc               38479 non-null  float64       \n",
      " 27  total_pymnt             38479 non-null  float64       \n",
      " 28  total_pymnt_inv         38479 non-null  float64       \n",
      " 29  total_rec_prncp         38479 non-null  float64       \n",
      " 30  total_rec_int           38479 non-null  float64       \n",
      " 31  last_pymnt_d            38409 non-null  datetime64[ns]\n",
      " 32  last_pymnt_amnt         38479 non-null  float64       \n",
      " 33  next_pymnt_d            3383 non-null   datetime64[ns]\n",
      " 34  last_credit_pull_d      38477 non-null  datetime64[ns]\n",
      " 35  repay_fail              38480 non-null  int64         \n",
      "dtypes: datetime64[ns](5), float64(19), int64(3), object(9)\n",
      "memory usage: 10.9+ MB\n"
     ]
    }
   ],
   "source": [
    "df.info()"
   ]
  },
  {
   "cell_type": "code",
   "execution_count": 6,
   "metadata": {},
   "outputs": [
    {
     "data": {
      "text/plain": [
       "id                            0\n",
       "member_id                     0\n",
       "loan_amnt                     1\n",
       "funded_amnt                   1\n",
       "funded_amnt_inv               1\n",
       "term                          0\n",
       "int_rate                      0\n",
       "installment                   1\n",
       "emp_length                  993\n",
       "home_ownership                0\n",
       "annual_inc                    2\n",
       "verification_status           0\n",
       "issue_d                       0\n",
       "loan_status                   0\n",
       "purpose                       0\n",
       "zip_code                      0\n",
       "addr_state                    0\n",
       "dti                           0\n",
       "delinq_2yrs                   1\n",
       "earliest_cr_line              0\n",
       "inq_last_6mths                1\n",
       "mths_since_last_delinq    24363\n",
       "open_acc                      1\n",
       "pub_rec                       1\n",
       "revol_bal                     4\n",
       "revol_util                   59\n",
       "total_acc                     1\n",
       "total_pymnt                   1\n",
       "total_pymnt_inv               1\n",
       "total_rec_prncp               1\n",
       "total_rec_int                 1\n",
       "last_pymnt_d                 71\n",
       "last_pymnt_amnt               1\n",
       "next_pymnt_d              35097\n",
       "last_credit_pull_d            3\n",
       "repay_fail                    0\n",
       "dtype: int64"
      ]
     },
     "execution_count": 6,
     "metadata": {},
     "output_type": "execute_result"
    }
   ],
   "source": [
    "df.isna().sum()"
   ]
  },
  {
   "cell_type": "code",
   "execution_count": 7,
   "metadata": {},
   "outputs": [
    {
     "data": {
      "text/plain": [
       "array(['< 1 year', '4 years', '10+ years', nan, '3 years', '5 years',\n",
       "       '7 years', '2 years', '1 year', '6 years', '9 years', '8 years'],\n",
       "      dtype=object)"
      ]
     },
     "execution_count": 7,
     "metadata": {},
     "output_type": "execute_result"
    }
   ],
   "source": [
    "df.emp_length.unique()"
   ]
  },
  {
   "cell_type": "code",
   "execution_count": 8,
   "metadata": {},
   "outputs": [
    {
     "data": {
      "text/plain": [
       "array([ nan,  59.,   3.,  72.,  25.,  61.,  41.,  42.,  13.,  79.,  19.,\n",
       "        18.,   1.,  16.,  15.,  45.,  76.,   8.,  23.,  21.,  52.,   0.,\n",
       "        75.,  40.,  51.,  65.,   4.,  17.,  29.,  22.,   5.,  12.,  39.,\n",
       "        33.,  49.,  78.,  58.,  69.,  24.,  64.,  10.,  31.,  68.,  14.,\n",
       "        28.,  30.,   7.,  56.,  85.,  62.,  36.,  44.,  35.,  27.,  46.,\n",
       "        63.,  47.,  48.,  57.,  74.,  67.,  20.,  11.,  34.,  80.,  73.,\n",
       "        71.,  66.,  81.,  43.,  38.,  37.,  54.,  26.,   9.,  32.,  60.,\n",
       "        77.,  55.,   2.,  50.,  53.,   6.,  70.,  82.,  86., 115.,  83.,\n",
       "       103.,  96., 120.,  89.,  95., 106.])"
      ]
     },
     "execution_count": 8,
     "metadata": {},
     "output_type": "execute_result"
    }
   ],
   "source": [
    "df.mths_since_last_delinq.unique()"
   ]
  },
  {
   "cell_type": "code",
   "execution_count": 9,
   "metadata": {},
   "outputs": [
    {
     "data": {
      "text/plain": [
       "24363"
      ]
     },
     "execution_count": 9,
     "metadata": {},
     "output_type": "execute_result"
    }
   ],
   "source": [
    "df.mths_since_last_delinq.isna().sum()"
   ]
  },
  {
   "cell_type": "code",
   "execution_count": 10,
   "metadata": {},
   "outputs": [
    {
     "data": {
      "text/plain": [
       "array(['2023-01-07T00:00:00.000000000', '2023-08-13T00:00:00.000000000',\n",
       "                                 'NaT', '2023-06-13T00:00:00.000000000',\n",
       "       '2023-09-10T00:00:00.000000000', '2023-01-12T00:00:00.000000000',\n",
       "       '2023-07-11T00:00:00.000000000', '1999-01-01T00:00:00.000000000',\n",
       "       '2023-09-13T00:00:00.000000000', '2023-11-12T00:00:00.000000000',\n",
       "       '2023-02-11T00:00:00.000000000', '2023-02-12T00:00:00.000000000',\n",
       "       '2023-10-08T00:00:00.000000000', '2023-08-10T00:00:00.000000000',\n",
       "       '2023-07-16T00:00:00.000000000', '2023-12-10T00:00:00.000000000',\n",
       "       '2023-07-12T00:00:00.000000000', '2023-05-13T00:00:00.000000000',\n",
       "       '2023-11-09T00:00:00.000000000', '2023-01-10T00:00:00.000000000',\n",
       "       '2023-10-09T00:00:00.000000000', '2023-04-11T00:00:00.000000000',\n",
       "       '2023-02-13T00:00:00.000000000', '2023-08-09T00:00:00.000000000',\n",
       "       '2023-01-13T00:00:00.000000000', '2023-11-15T00:00:00.000000000',\n",
       "       '2023-09-11T00:00:00.000000000', '2023-12-11T00:00:00.000000000',\n",
       "       '2023-06-10T00:00:00.000000000', '2023-06-09T00:00:00.000000000',\n",
       "       '2023-11-10T00:00:00.000000000', '2023-03-11T00:00:00.000000000',\n",
       "       '2023-12-13T00:00:00.000000000', '2023-02-10T00:00:00.000000000',\n",
       "       '2023-11-13T00:00:00.000000000', '2023-09-12T00:00:00.000000000',\n",
       "       '2023-03-13T00:00:00.000000000', '2023-09-09T00:00:00.000000000',\n",
       "       '2023-01-16T00:00:00.000000000', '2023-06-11T00:00:00.000000000',\n",
       "       '2023-12-14T00:00:00.000000000', '2023-08-11T00:00:00.000000000',\n",
       "       '2023-05-10T00:00:00.000000000', '2023-07-10T00:00:00.000000000',\n",
       "       '2023-03-14T00:00:00.000000000', '2023-06-12T00:00:00.000000000',\n",
       "       '2023-12-12T00:00:00.000000000', '2023-03-12T00:00:00.000000000',\n",
       "       '2023-01-09T00:00:00.000000000', '2023-05-08T00:00:00.000000000',\n",
       "       '2023-04-12T00:00:00.000000000', '2023-11-08T00:00:00.000000000',\n",
       "       '2023-08-12T00:00:00.000000000', '2023-12-08T00:00:00.000000000',\n",
       "       '2023-07-13T00:00:00.000000000', '2023-10-12T00:00:00.000000000',\n",
       "       '2023-01-11T00:00:00.000000000', '2023-03-10T00:00:00.000000000',\n",
       "       '2023-11-11T00:00:00.000000000', '2023-10-15T00:00:00.000000000',\n",
       "       '2023-04-13T00:00:00.000000000', '2023-05-12T00:00:00.000000000',\n",
       "       '2023-12-09T00:00:00.000000000', '2023-10-10T00:00:00.000000000',\n",
       "       '2023-05-09T00:00:00.000000000', '2023-10-11T00:00:00.000000000',\n",
       "       '2023-07-15T00:00:00.000000000', '2023-01-08T00:00:00.000000000',\n",
       "       '2023-05-11T00:00:00.000000000', '2023-07-09T00:00:00.000000000',\n",
       "       '2023-11-14T00:00:00.000000000', '2023-09-08T00:00:00.000000000',\n",
       "       '2023-04-09T00:00:00.000000000', '2023-04-08T00:00:00.000000000',\n",
       "       '2023-10-13T00:00:00.000000000', '2023-05-15T00:00:00.000000000',\n",
       "       '2023-04-10T00:00:00.000000000', '2023-05-14T00:00:00.000000000',\n",
       "       '2023-02-14T00:00:00.000000000', '2023-08-15T00:00:00.000000000',\n",
       "       '2023-01-14T00:00:00.000000000', '2023-07-08T00:00:00.000000000',\n",
       "       '2023-01-15T00:00:00.000000000', '2023-03-09T00:00:00.000000000',\n",
       "       '2023-03-15T00:00:00.000000000', '2023-02-08T00:00:00.000000000',\n",
       "       '2023-04-14T00:00:00.000000000', '2023-08-14T00:00:00.000000000',\n",
       "       '2023-03-08T00:00:00.000000000', '2023-06-15T00:00:00.000000000',\n",
       "       '2023-02-15T00:00:00.000000000', '2023-02-16T00:00:00.000000000',\n",
       "       '2023-09-15T00:00:00.000000000', '2023-08-08T00:00:00.000000000',\n",
       "       '2023-04-15T00:00:00.000000000', '2023-07-14T00:00:00.000000000',\n",
       "       '2023-12-15T00:00:00.000000000', '2023-06-14T00:00:00.000000000',\n",
       "       '2023-06-08T00:00:00.000000000', '2023-06-16T00:00:00.000000000',\n",
       "       '2023-12-07T00:00:00.000000000', '2023-02-09T00:00:00.000000000',\n",
       "       '2023-09-14T00:00:00.000000000', '2023-10-14T00:00:00.000000000'],\n",
       "      dtype='datetime64[ns]')"
      ]
     },
     "execution_count": 10,
     "metadata": {},
     "output_type": "execute_result"
    }
   ],
   "source": [
    "df.next_pymnt_d.unique()"
   ]
  },
  {
   "cell_type": "code",
   "execution_count": 11,
   "metadata": {},
   "outputs": [
    {
     "data": {
      "text/plain": [
       "35097"
      ]
     },
     "execution_count": 11,
     "metadata": {},
     "output_type": "execute_result"
    }
   ],
   "source": [
    "df.next_pymnt_d.isna().sum()"
   ]
  },
  {
   "cell_type": "code",
   "execution_count": 12,
   "metadata": {},
   "outputs": [
    {
     "data": {
      "text/plain": [
       "3"
      ]
     },
     "execution_count": 12,
     "metadata": {},
     "output_type": "execute_result"
    }
   ],
   "source": [
    "df.last_credit_pull_d.isna().sum()"
   ]
  },
  {
   "cell_type": "code",
   "execution_count": 13,
   "metadata": {},
   "outputs": [
    {
     "data": {
      "text/plain": [
       "0"
      ]
     },
     "execution_count": 13,
     "metadata": {},
     "output_type": "execute_result"
    }
   ],
   "source": [
    "df.repay_fail.isna().sum()"
   ]
  },
  {
   "cell_type": "code",
   "execution_count": 14,
   "metadata": {},
   "outputs": [
    {
     "data": {
      "text/plain": [
       "<AxesSubplot:>"
      ]
     },
     "execution_count": 14,
     "metadata": {},
     "output_type": "execute_result"
    },
    {
     "data": {
      "image/png": "[encoded data removed]",
      "text/plain": [
       "<Figure size 640x480 with 1 Axes>"
      ]
     },
     "metadata": {},
     "output_type": "display_data"
    }
   ],
   "source": [
    "import matplotlib.pyplot as plt\n",
    "plot_df = df.repay_fail.value_counts()\n",
    "plot_df.plot(kind=\"bar\")"
   ]
  },
  {
   "cell_type": "code",
   "execution_count": 15,
   "metadata": {},
   "outputs": [
    {
     "data": {
      "text/html": [
       "<style type=\"text/css\">\n",
       "#T_bc906_row0_col0, #T_bc906_row0_col3, #T_bc906_row1_col0, #T_bc906_row1_col1, #T_bc906_row1_col2, #T_bc906_row1_col3, #T_bc906_row1_col4, #T_bc906_row1_col5, #T_bc906_row1_col6, #T_bc906_row2_col0, #T_bc906_row3_col0, #T_bc906_row4_col0, #T_bc906_row5_col0, #T_bc906_row6_col0, #T_bc906_row7_col0, #T_bc906_row7_col7, #T_bc906_row8_col0, #T_bc906_row9_col0, #T_bc906_row10_col0, #T_bc906_row12_col0, #T_bc906_row13_col0, #T_bc906_row14_col0, #T_bc906_row15_col0, #T_bc906_row15_col3, #T_bc906_row16_col0, #T_bc906_row17_col0, #T_bc906_row18_col0, #T_bc906_row19_col0, #T_bc906_row20_col0, #T_bc906_row21_col0 {\n",
       "  background-color: #023858;\n",
       "  color: #f1f1f1;\n",
       "}\n",
       "#T_bc906_row0_col1 {\n",
       "  background-color: #0566a0;\n",
       "  color: #f1f1f1;\n",
       "}\n",
       "#T_bc906_row0_col2, #T_bc906_row0_col5 {\n",
       "  background-color: #056aa6;\n",
       "  color: #f1f1f1;\n",
       "}\n",
       "#T_bc906_row0_col4 {\n",
       "  background-color: #056ba7;\n",
       "  color: #f1f1f1;\n",
       "}\n",
       "#T_bc906_row0_col6 {\n",
       "  background-color: #0567a2;\n",
       "  color: #f1f1f1;\n",
       "}\n",
       "#T_bc906_row0_col7 {\n",
       "  background-color: #e0deed;\n",
       "  color: #000000;\n",
       "}\n",
       "#T_bc906_row1_col7 {\n",
       "  background-color: #d7d6e9;\n",
       "  color: #000000;\n",
       "}\n",
       "#T_bc906_row2_col1, #T_bc906_row2_col5, #T_bc906_row2_col6, #T_bc906_row3_col1, #T_bc906_row3_col6, #T_bc906_row4_col1, #T_bc906_row4_col6, #T_bc906_row14_col1, #T_bc906_row14_col6, #T_bc906_row16_col1, #T_bc906_row16_col5, #T_bc906_row16_col6, #T_bc906_row17_col1, #T_bc906_row17_col6, #T_bc906_row18_col6, #T_bc906_row20_col2 {\n",
       "  background-color: #fdf5fa;\n",
       "  color: #000000;\n",
       "}\n",
       "#T_bc906_row2_col2, #T_bc906_row3_col2, #T_bc906_row4_col2, #T_bc906_row18_col2 {\n",
       "  background-color: #fbf4f9;\n",
       "  color: #000000;\n",
       "}\n",
       "#T_bc906_row2_col3, #T_bc906_row3_col3, #T_bc906_row4_col3, #T_bc906_row5_col1, #T_bc906_row5_col2, #T_bc906_row5_col3, #T_bc906_row5_col4, #T_bc906_row5_col5, #T_bc906_row5_col6, #T_bc906_row5_col7, #T_bc906_row6_col1, #T_bc906_row6_col2, #T_bc906_row6_col3, #T_bc906_row6_col4, #T_bc906_row6_col5, #T_bc906_row6_col6, #T_bc906_row6_col7, #T_bc906_row7_col3, #T_bc906_row8_col1, #T_bc906_row8_col2, #T_bc906_row8_col3, #T_bc906_row8_col4, #T_bc906_row8_col5, #T_bc906_row8_col6, #T_bc906_row8_col7, #T_bc906_row9_col1, #T_bc906_row9_col2, #T_bc906_row9_col3, #T_bc906_row9_col4, #T_bc906_row9_col5, #T_bc906_row9_col6, #T_bc906_row9_col7, #T_bc906_row10_col1, #T_bc906_row10_col2, #T_bc906_row10_col3, #T_bc906_row10_col4, #T_bc906_row10_col5, #T_bc906_row10_col6, #T_bc906_row10_col7, #T_bc906_row11_col0, #T_bc906_row11_col1, #T_bc906_row11_col2, #T_bc906_row11_col3, #T_bc906_row11_col4, #T_bc906_row11_col5, #T_bc906_row11_col6, #T_bc906_row11_col7, #T_bc906_row12_col1, #T_bc906_row12_col2, #T_bc906_row12_col3, #T_bc906_row12_col4, #T_bc906_row12_col5, #T_bc906_row12_col6, #T_bc906_row12_col7, #T_bc906_row13_col1, #T_bc906_row13_col2, #T_bc906_row13_col3, #T_bc906_row13_col4, #T_bc906_row13_col5, #T_bc906_row13_col6, #T_bc906_row13_col7, #T_bc906_row14_col3, #T_bc906_row15_col1, #T_bc906_row15_col2, #T_bc906_row15_col4, #T_bc906_row15_col5, #T_bc906_row15_col6, #T_bc906_row15_col7, #T_bc906_row16_col3, #T_bc906_row17_col3, #T_bc906_row18_col3, #T_bc906_row19_col1, #T_bc906_row19_col3, #T_bc906_row19_col4, #T_bc906_row19_col5, #T_bc906_row19_col6, #T_bc906_row20_col1, #T_bc906_row20_col3, #T_bc906_row20_col4, #T_bc906_row20_col5, #T_bc906_row20_col6, #T_bc906_row21_col1, #T_bc906_row21_col2, #T_bc906_row21_col3, #T_bc906_row21_col4, #T_bc906_row21_col5, #T_bc906_row21_col6, #T_bc906_row21_col7 {\n",
       "  background-color: #fff7fb;\n",
       "  color: #000000;\n",
       "}\n",
       "#T_bc906_row2_col4, #T_bc906_row3_col4, #T_bc906_row3_col5, #T_bc906_row4_col5, #T_bc906_row14_col5, #T_bc906_row16_col4, #T_bc906_row16_col7, #T_bc906_row17_col5, #T_bc906_row17_col7, #T_bc906_row18_col1, #T_bc906_row18_col5, #T_bc906_row19_col2 {\n",
       "  background-color: #fef6fa;\n",
       "  color: #000000;\n",
       "}\n",
       "#T_bc906_row2_col7, #T_bc906_row3_col7, #T_bc906_row4_col4, #T_bc906_row4_col7, #T_bc906_row14_col4, #T_bc906_row17_col4, #T_bc906_row18_col4, #T_bc906_row18_col7, #T_bc906_row19_col7, #T_bc906_row20_col7 {\n",
       "  background-color: #fef6fb;\n",
       "  color: #000000;\n",
       "}\n",
       "#T_bc906_row7_col1 {\n",
       "  background-color: #f2ecf5;\n",
       "  color: #000000;\n",
       "}\n",
       "#T_bc906_row7_col2 {\n",
       "  background-color: #d4d4e8;\n",
       "  color: #000000;\n",
       "}\n",
       "#T_bc906_row7_col4 {\n",
       "  background-color: #f5eff6;\n",
       "  color: #000000;\n",
       "}\n",
       "#T_bc906_row7_col5 {\n",
       "  background-color: #f4eef6;\n",
       "  color: #000000;\n",
       "}\n",
       "#T_bc906_row7_col6, #T_bc906_row14_col2 {\n",
       "  background-color: #f3edf5;\n",
       "  color: #000000;\n",
       "}\n",
       "#T_bc906_row14_col7 {\n",
       "  background-color: #dbdaeb;\n",
       "  color: #000000;\n",
       "}\n",
       "#T_bc906_row16_col2, #T_bc906_row17_col2 {\n",
       "  background-color: #faf3f9;\n",
       "  color: #000000;\n",
       "}\n",
       "</style>\n",
       "<table id=\"T_bc906_\">\n",
       "  <thead>\n",
       "    <tr>\n",
       "      <th class=\"blank level0\" >&nbsp;</th>\n",
       "      <th class=\"col_heading level0 col0\" >count</th>\n",
       "      <th class=\"col_heading level0 col1\" >mean</th>\n",
       "      <th class=\"col_heading level0 col2\" >std</th>\n",
       "      <th class=\"col_heading level0 col3\" >min</th>\n",
       "      <th class=\"col_heading level0 col4\" >25%</th>\n",
       "      <th class=\"col_heading level0 col5\" >50%</th>\n",
       "      <th class=\"col_heading level0 col6\" >75%</th>\n",
       "      <th class=\"col_heading level0 col7\" >max</th>\n",
       "    </tr>\n",
       "  </thead>\n",
       "  <tbody>\n",
       "    <tr>\n",
       "      <th id=\"T_bc906_level0_row0\" class=\"row_heading level0 row0\" >id</th>\n",
       "      <td id=\"T_bc906_row0_col0\" class=\"data row0 col0\" >38480.000000</td>\n",
       "      <td id=\"T_bc906_row0_col1\" class=\"data row0 col1\" >664997.930016</td>\n",
       "      <td id=\"T_bc906_row0_col2\" class=\"data row0 col2\" >219232.159934</td>\n",
       "      <td id=\"T_bc906_row0_col3\" class=\"data row0 col3\" >1.000000</td>\n",
       "      <td id=\"T_bc906_row0_col4\" class=\"data row0 col4\" >498364.500000</td>\n",
       "      <td id=\"T_bc906_row0_col5\" class=\"data row0 col5\" >644319.500000</td>\n",
       "      <td id=\"T_bc906_row0_col6\" class=\"data row0 col6\" >826560.750000</td>\n",
       "      <td id=\"T_bc906_row0_col7\" class=\"data row0 col7\" >1077430.000000</td>\n",
       "    </tr>\n",
       "    <tr>\n",
       "      <th id=\"T_bc906_level0_row1\" class=\"row_heading level0 row1\" >member_id</th>\n",
       "      <td id=\"T_bc906_row1_col0\" class=\"data row1 col0\" >38480.000000</td>\n",
       "      <td id=\"T_bc906_row1_col1\" class=\"data row1 col1\" >826189.854288</td>\n",
       "      <td id=\"T_bc906_row1_col2\" class=\"data row1 col2\" >279353.137600</td>\n",
       "      <td id=\"T_bc906_row1_col3\" class=\"data row1 col3\" >1.000000</td>\n",
       "      <td id=\"T_bc906_row1_col4\" class=\"data row1 col4\" >638462.000000</td>\n",
       "      <td id=\"T_bc906_row1_col5\" class=\"data row1 col5\" >824254.500000</td>\n",
       "      <td id=\"T_bc906_row1_col6\" class=\"data row1 col6\" >1034706.500000</td>\n",
       "      <td id=\"T_bc906_row1_col7\" class=\"data row1 col7\" >1314167.000000</td>\n",
       "    </tr>\n",
       "    <tr>\n",
       "      <th id=\"T_bc906_level0_row2\" class=\"row_heading level0 row2\" >loan_amnt</th>\n",
       "      <td id=\"T_bc906_row2_col0\" class=\"data row2 col0\" >38479.000000</td>\n",
       "      <td id=\"T_bc906_row2_col1\" class=\"data row2 col1\" >11094.727644</td>\n",
       "      <td id=\"T_bc906_row2_col2\" class=\"data row2 col2\" >7405.416042</td>\n",
       "      <td id=\"T_bc906_row2_col3\" class=\"data row2 col3\" >0.000000</td>\n",
       "      <td id=\"T_bc906_row2_col4\" class=\"data row2 col4\" >5200.000000</td>\n",
       "      <td id=\"T_bc906_row2_col5\" class=\"data row2 col5\" >9750.000000</td>\n",
       "      <td id=\"T_bc906_row2_col6\" class=\"data row2 col6\" >15000.000000</td>\n",
       "      <td id=\"T_bc906_row2_col7\" class=\"data row2 col7\" >35000.000000</td>\n",
       "    </tr>\n",
       "    <tr>\n",
       "      <th id=\"T_bc906_level0_row3\" class=\"row_heading level0 row3\" >funded_amnt</th>\n",
       "      <td id=\"T_bc906_row3_col0\" class=\"data row3 col0\" >38479.000000</td>\n",
       "      <td id=\"T_bc906_row3_col1\" class=\"data row3 col1\" >10831.856337</td>\n",
       "      <td id=\"T_bc906_row3_col2\" class=\"data row3 col2\" >7146.853682</td>\n",
       "      <td id=\"T_bc906_row3_col3\" class=\"data row3 col3\" >0.000000</td>\n",
       "      <td id=\"T_bc906_row3_col4\" class=\"data row3 col4\" >5100.000000</td>\n",
       "      <td id=\"T_bc906_row3_col5\" class=\"data row3 col5\" >9600.000000</td>\n",
       "      <td id=\"T_bc906_row3_col6\" class=\"data row3 col6\" >15000.000000</td>\n",
       "      <td id=\"T_bc906_row3_col7\" class=\"data row3 col7\" >35000.000000</td>\n",
       "    </tr>\n",
       "    <tr>\n",
       "      <th id=\"T_bc906_level0_row4\" class=\"row_heading level0 row4\" >funded_amnt_inv</th>\n",
       "      <td id=\"T_bc906_row4_col0\" class=\"data row4 col0\" >38479.000000</td>\n",
       "      <td id=\"T_bc906_row4_col1\" class=\"data row4 col1\" >10150.141518</td>\n",
       "      <td id=\"T_bc906_row4_col2\" class=\"data row4 col2\" >7128.026828</td>\n",
       "      <td id=\"T_bc906_row4_col3\" class=\"data row4 col3\" >0.000000</td>\n",
       "      <td id=\"T_bc906_row4_col4\" class=\"data row4 col4\" >4950.000000</td>\n",
       "      <td id=\"T_bc906_row4_col5\" class=\"data row4 col5\" >8495.792749</td>\n",
       "      <td id=\"T_bc906_row4_col6\" class=\"data row4 col6\" >14000.000000</td>\n",
       "      <td id=\"T_bc906_row4_col7\" class=\"data row4 col7\" >35000.000000</td>\n",
       "    </tr>\n",
       "    <tr>\n",
       "      <th id=\"T_bc906_level0_row5\" class=\"row_heading level0 row5\" >int_rate</th>\n",
       "      <td id=\"T_bc906_row5_col0\" class=\"data row5 col0\" >38480.000000</td>\n",
       "      <td id=\"T_bc906_row5_col1\" class=\"data row5 col1\" >12.164300</td>\n",
       "      <td id=\"T_bc906_row5_col2\" class=\"data row5 col2\" >3.737440</td>\n",
       "      <td id=\"T_bc906_row5_col3\" class=\"data row5 col3\" >0.000000</td>\n",
       "      <td id=\"T_bc906_row5_col4\" class=\"data row5 col4\" >9.620000</td>\n",
       "      <td id=\"T_bc906_row5_col5\" class=\"data row5 col5\" >11.990000</td>\n",
       "      <td id=\"T_bc906_row5_col6\" class=\"data row5 col6\" >14.720000</td>\n",
       "      <td id=\"T_bc906_row5_col7\" class=\"data row5 col7\" >100.990000</td>\n",
       "    </tr>\n",
       "    <tr>\n",
       "      <th id=\"T_bc906_level0_row6\" class=\"row_heading level0 row6\" >installment</th>\n",
       "      <td id=\"T_bc906_row6_col0\" class=\"data row6 col0\" >38479.000000</td>\n",
       "      <td id=\"T_bc906_row6_col1\" class=\"data row6 col1\" >323.163255</td>\n",
       "      <td id=\"T_bc906_row6_col2\" class=\"data row6 col2\" >209.089097</td>\n",
       "      <td id=\"T_bc906_row6_col3\" class=\"data row6 col3\" >0.000000</td>\n",
       "      <td id=\"T_bc906_row6_col4\" class=\"data row6 col4\" >165.740000</td>\n",
       "      <td id=\"T_bc906_row6_col5\" class=\"data row6 col5\" >277.980000</td>\n",
       "      <td id=\"T_bc906_row6_col6\" class=\"data row6 col6\" >429.350000</td>\n",
       "      <td id=\"T_bc906_row6_col7\" class=\"data row6 col7\" >1305.190000</td>\n",
       "    </tr>\n",
       "    <tr>\n",
       "      <th id=\"T_bc906_level0_row7\" class=\"row_heading level0 row7\" >annual_inc</th>\n",
       "      <td id=\"T_bc906_row7_col0\" class=\"data row7 col0\" >38478.000000</td>\n",
       "      <td id=\"T_bc906_row7_col1\" class=\"data row7 col1\" >68995.308917</td>\n",
       "      <td id=\"T_bc906_row7_col2\" class=\"data row7 col2\" >64476.388744</td>\n",
       "      <td id=\"T_bc906_row7_col3\" class=\"data row7 col3\" >0.000000</td>\n",
       "      <td id=\"T_bc906_row7_col4\" class=\"data row7 col4\" >40000.000000</td>\n",
       "      <td id=\"T_bc906_row7_col5\" class=\"data row7 col5\" >58650.000000</td>\n",
       "      <td id=\"T_bc906_row7_col6\" class=\"data row7 col6\" >82000.000000</td>\n",
       "      <td id=\"T_bc906_row7_col7\" class=\"data row7 col7\" >6000000.000000</td>\n",
       "    </tr>\n",
       "    <tr>\n",
       "      <th id=\"T_bc906_level0_row8\" class=\"row_heading level0 row8\" >dti</th>\n",
       "      <td id=\"T_bc906_row8_col0\" class=\"data row8 col0\" >38480.000000</td>\n",
       "      <td id=\"T_bc906_row8_col1\" class=\"data row8 col1\" >13.378119</td>\n",
       "      <td id=\"T_bc906_row8_col2\" class=\"data row8 col2\" >6.744356</td>\n",
       "      <td id=\"T_bc906_row8_col3\" class=\"data row8 col3\" >0.000000</td>\n",
       "      <td id=\"T_bc906_row8_col4\" class=\"data row8 col4\" >8.200000</td>\n",
       "      <td id=\"T_bc906_row8_col5\" class=\"data row8 col5\" >13.485000</td>\n",
       "      <td id=\"T_bc906_row8_col6\" class=\"data row8 col6\" >18.690000</td>\n",
       "      <td id=\"T_bc906_row8_col7\" class=\"data row8 col7\" >100.000000</td>\n",
       "    </tr>\n",
       "    <tr>\n",
       "      <th id=\"T_bc906_level0_row9\" class=\"row_heading level0 row9\" >delinq_2yrs</th>\n",
       "      <td id=\"T_bc906_row9_col0\" class=\"data row9 col0\" >38479.000000</td>\n",
       "      <td id=\"T_bc906_row9_col1\" class=\"data row9 col1\" >0.151927</td>\n",
       "      <td id=\"T_bc906_row9_col2\" class=\"data row9 col2\" >0.507592</td>\n",
       "      <td id=\"T_bc906_row9_col3\" class=\"data row9 col3\" >0.000000</td>\n",
       "      <td id=\"T_bc906_row9_col4\" class=\"data row9 col4\" >0.000000</td>\n",
       "      <td id=\"T_bc906_row9_col5\" class=\"data row9 col5\" >0.000000</td>\n",
       "      <td id=\"T_bc906_row9_col6\" class=\"data row9 col6\" >0.000000</td>\n",
       "      <td id=\"T_bc906_row9_col7\" class=\"data row9 col7\" >11.000000</td>\n",
       "    </tr>\n",
       "    <tr>\n",
       "      <th id=\"T_bc906_level0_row10\" class=\"row_heading level0 row10\" >inq_last_6mths</th>\n",
       "      <td id=\"T_bc906_row10_col0\" class=\"data row10 col0\" >38479.000000</td>\n",
       "      <td id=\"T_bc906_row10_col1\" class=\"data row10 col1\" >1.083942</td>\n",
       "      <td id=\"T_bc906_row10_col2\" class=\"data row10 col2\" >1.534814</td>\n",
       "      <td id=\"T_bc906_row10_col3\" class=\"data row10 col3\" >0.000000</td>\n",
       "      <td id=\"T_bc906_row10_col4\" class=\"data row10 col4\" >0.000000</td>\n",
       "      <td id=\"T_bc906_row10_col5\" class=\"data row10 col5\" >1.000000</td>\n",
       "      <td id=\"T_bc906_row10_col6\" class=\"data row10 col6\" >2.000000</td>\n",
       "      <td id=\"T_bc906_row10_col7\" class=\"data row10 col7\" >33.000000</td>\n",
       "    </tr>\n",
       "    <tr>\n",
       "      <th id=\"T_bc906_level0_row11\" class=\"row_heading level0 row11\" >mths_since_last_delinq</th>\n",
       "      <td id=\"T_bc906_row11_col0\" class=\"data row11 col0\" >14117.000000</td>\n",
       "      <td id=\"T_bc906_row11_col1\" class=\"data row11 col1\" >35.009846</td>\n",
       "      <td id=\"T_bc906_row11_col2\" class=\"data row11 col2\" >22.426843</td>\n",
       "      <td id=\"T_bc906_row11_col3\" class=\"data row11 col3\" >0.000000</td>\n",
       "      <td id=\"T_bc906_row11_col4\" class=\"data row11 col4\" >17.000000</td>\n",
       "      <td id=\"T_bc906_row11_col5\" class=\"data row11 col5\" >33.000000</td>\n",
       "      <td id=\"T_bc906_row11_col6\" class=\"data row11 col6\" >51.000000</td>\n",
       "      <td id=\"T_bc906_row11_col7\" class=\"data row11 col7\" >120.000000</td>\n",
       "    </tr>\n",
       "    <tr>\n",
       "      <th id=\"T_bc906_level0_row12\" class=\"row_heading level0 row12\" >open_acc</th>\n",
       "      <td id=\"T_bc906_row12_col0\" class=\"data row12 col0\" >38479.000000</td>\n",
       "      <td id=\"T_bc906_row12_col1\" class=\"data row12 col1\" >9.342966</td>\n",
       "      <td id=\"T_bc906_row12_col2\" class=\"data row12 col2\" >4.498075</td>\n",
       "      <td id=\"T_bc906_row12_col3\" class=\"data row12 col3\" >0.000000</td>\n",
       "      <td id=\"T_bc906_row12_col4\" class=\"data row12 col4\" >6.000000</td>\n",
       "      <td id=\"T_bc906_row12_col5\" class=\"data row12 col5\" >9.000000</td>\n",
       "      <td id=\"T_bc906_row12_col6\" class=\"data row12 col6\" >12.000000</td>\n",
       "      <td id=\"T_bc906_row12_col7\" class=\"data row12 col7\" >47.000000</td>\n",
       "    </tr>\n",
       "    <tr>\n",
       "      <th id=\"T_bc906_level0_row13\" class=\"row_heading level0 row13\" >pub_rec</th>\n",
       "      <td id=\"T_bc906_row13_col0\" class=\"data row13 col0\" >38479.000000</td>\n",
       "      <td id=\"T_bc906_row13_col1\" class=\"data row13 col1\" >0.057902</td>\n",
       "      <td id=\"T_bc906_row13_col2\" class=\"data row13 col2\" >0.245707</td>\n",
       "      <td id=\"T_bc906_row13_col3\" class=\"data row13 col3\" >0.000000</td>\n",
       "      <td id=\"T_bc906_row13_col4\" class=\"data row13 col4\" >0.000000</td>\n",
       "      <td id=\"T_bc906_row13_col5\" class=\"data row13 col5\" >0.000000</td>\n",
       "      <td id=\"T_bc906_row13_col6\" class=\"data row13 col6\" >0.000000</td>\n",
       "      <td id=\"T_bc906_row13_col7\" class=\"data row13 col7\" >5.000000</td>\n",
       "    </tr>\n",
       "    <tr>\n",
       "      <th id=\"T_bc906_level0_row14\" class=\"row_heading level0 row14\" >revol_bal</th>\n",
       "      <td id=\"T_bc906_row14_col0\" class=\"data row14 col0\" >38476.000000</td>\n",
       "      <td id=\"T_bc906_row14_col1\" class=\"data row14 col1\" >14289.866280</td>\n",
       "      <td id=\"T_bc906_row14_col2\" class=\"data row14 col2\" >21941.377270</td>\n",
       "      <td id=\"T_bc906_row14_col3\" class=\"data row14 col3\" >0.000000</td>\n",
       "      <td id=\"T_bc906_row14_col4\" class=\"data row14 col4\" >3639.750000</td>\n",
       "      <td id=\"T_bc906_row14_col5\" class=\"data row14 col5\" >8839.500000</td>\n",
       "      <td id=\"T_bc906_row14_col6\" class=\"data row14 col6\" >17265.500000</td>\n",
       "      <td id=\"T_bc906_row14_col7\" class=\"data row14 col7\" >1207359.000000</td>\n",
       "    </tr>\n",
       "    <tr>\n",
       "      <th id=\"T_bc906_level0_row15\" class=\"row_heading level0 row15\" >total_acc</th>\n",
       "      <td id=\"T_bc906_row15_col0\" class=\"data row15 col0\" >38479.000000</td>\n",
       "      <td id=\"T_bc906_row15_col1\" class=\"data row15 col1\" >22.108501</td>\n",
       "      <td id=\"T_bc906_row15_col2\" class=\"data row15 col2\" >11.588602</td>\n",
       "      <td id=\"T_bc906_row15_col3\" class=\"data row15 col3\" >1.000000</td>\n",
       "      <td id=\"T_bc906_row15_col4\" class=\"data row15 col4\" >13.000000</td>\n",
       "      <td id=\"T_bc906_row15_col5\" class=\"data row15 col5\" >20.000000</td>\n",
       "      <td id=\"T_bc906_row15_col6\" class=\"data row15 col6\" >29.000000</td>\n",
       "      <td id=\"T_bc906_row15_col7\" class=\"data row15 col7\" >90.000000</td>\n",
       "    </tr>\n",
       "    <tr>\n",
       "      <th id=\"T_bc906_level0_row16\" class=\"row_heading level0 row16\" >total_pymnt</th>\n",
       "      <td id=\"T_bc906_row16_col0\" class=\"data row16 col0\" >38479.000000</td>\n",
       "      <td id=\"T_bc906_row16_col1\" class=\"data row16 col1\" >11980.696892</td>\n",
       "      <td id=\"T_bc906_row16_col2\" class=\"data row16 col2\" >9006.505205</td>\n",
       "      <td id=\"T_bc906_row16_col3\" class=\"data row16 col3\" >0.000000</td>\n",
       "      <td id=\"T_bc906_row16_col4\" class=\"data row16 col4\" >5463.099238</td>\n",
       "      <td id=\"T_bc906_row16_col5\" class=\"data row16 col5\" >9673.221341</td>\n",
       "      <td id=\"T_bc906_row16_col6\" class=\"data row16 col6\" >16402.394995</td>\n",
       "      <td id=\"T_bc906_row16_col7\" class=\"data row16 col7\" >58563.679930</td>\n",
       "    </tr>\n",
       "    <tr>\n",
       "      <th id=\"T_bc906_level0_row17\" class=\"row_heading level0 row17\" >total_pymnt_inv</th>\n",
       "      <td id=\"T_bc906_row17_col0\" class=\"data row17 col0\" >38479.000000</td>\n",
       "      <td id=\"T_bc906_row17_col1\" class=\"data row17 col1\" >11274.519569</td>\n",
       "      <td id=\"T_bc906_row17_col2\" class=\"data row17 col2\" >8946.229941</td>\n",
       "      <td id=\"T_bc906_row17_col3\" class=\"data row17 col3\" >0.000000</td>\n",
       "      <td id=\"T_bc906_row17_col4\" class=\"data row17 col4\" >4811.735000</td>\n",
       "      <td id=\"T_bc906_row17_col5\" class=\"data row17 col5\" >8953.240000</td>\n",
       "      <td id=\"T_bc906_row17_col6\" class=\"data row17 col6\" >15486.925000</td>\n",
       "      <td id=\"T_bc906_row17_col7\" class=\"data row17 col7\" >58563.680000</td>\n",
       "    </tr>\n",
       "    <tr>\n",
       "      <th id=\"T_bc906_level0_row18\" class=\"row_heading level0 row18\" >total_rec_prncp</th>\n",
       "      <td id=\"T_bc906_row18_col0\" class=\"data row18 col0\" >38479.000000</td>\n",
       "      <td id=\"T_bc906_row18_col1\" class=\"data row18 col1\" >9646.412705</td>\n",
       "      <td id=\"T_bc906_row18_col2\" class=\"data row18 col2\" >7051.828302</td>\n",
       "      <td id=\"T_bc906_row18_col3\" class=\"data row18 col3\" >0.000000</td>\n",
       "      <td id=\"T_bc906_row18_col4\" class=\"data row18 col4\" >4400.000000</td>\n",
       "      <td id=\"T_bc906_row18_col5\" class=\"data row18 col5\" >8000.000000</td>\n",
       "      <td id=\"T_bc906_row18_col6\" class=\"data row18 col6\" >13315.100000</td>\n",
       "      <td id=\"T_bc906_row18_col7\" class=\"data row18 col7\" >35000.020000</td>\n",
       "    </tr>\n",
       "    <tr>\n",
       "      <th id=\"T_bc906_level0_row19\" class=\"row_heading level0 row19\" >total_rec_int</th>\n",
       "      <td id=\"T_bc906_row19_col0\" class=\"data row19 col0\" >38479.000000</td>\n",
       "      <td id=\"T_bc906_row19_col1\" class=\"data row19 col1\" >2232.768235</td>\n",
       "      <td id=\"T_bc906_row19_col2\" class=\"data row19 col2\" >2570.177312</td>\n",
       "      <td id=\"T_bc906_row19_col3\" class=\"data row19 col3\" >0.000000</td>\n",
       "      <td id=\"T_bc906_row19_col4\" class=\"data row19 col4\" >657.700000</td>\n",
       "      <td id=\"T_bc906_row19_col5\" class=\"data row19 col5\" >1335.090000</td>\n",
       "      <td id=\"T_bc906_row19_col6\" class=\"data row19 col6\" >2795.020000</td>\n",
       "      <td id=\"T_bc906_row19_col7\" class=\"data row19 col7\" >23611.100000</td>\n",
       "    </tr>\n",
       "    <tr>\n",
       "      <th id=\"T_bc906_level0_row20\" class=\"row_heading level0 row20\" >last_pymnt_amnt</th>\n",
       "      <td id=\"T_bc906_row20_col0\" class=\"data row20 col0\" >38479.000000</td>\n",
       "      <td id=\"T_bc906_row20_col1\" class=\"data row20 col1\" >2614.441757</td>\n",
       "      <td id=\"T_bc906_row20_col2\" class=\"data row20 col2\" >4391.969583</td>\n",
       "      <td id=\"T_bc906_row20_col3\" class=\"data row20 col3\" >0.000000</td>\n",
       "      <td id=\"T_bc906_row20_col4\" class=\"data row20 col4\" >212.010000</td>\n",
       "      <td id=\"T_bc906_row20_col5\" class=\"data row20 col5\" >526.000000</td>\n",
       "      <td id=\"T_bc906_row20_col6\" class=\"data row20 col6\" >3169.815000</td>\n",
       "      <td id=\"T_bc906_row20_col7\" class=\"data row20 col7\" >36115.200000</td>\n",
       "    </tr>\n",
       "    <tr>\n",
       "      <th id=\"T_bc906_level0_row21\" class=\"row_heading level0 row21\" >repay_fail</th>\n",
       "      <td id=\"T_bc906_row21_col0\" class=\"data row21 col0\" >38480.000000</td>\n",
       "      <td id=\"T_bc906_row21_col1\" class=\"data row21 col1\" >0.151481</td>\n",
       "      <td id=\"T_bc906_row21_col2\" class=\"data row21 col2\" >0.358522</td>\n",
       "      <td id=\"T_bc906_row21_col3\" class=\"data row21 col3\" >0.000000</td>\n",
       "      <td id=\"T_bc906_row21_col4\" class=\"data row21 col4\" >0.000000</td>\n",
       "      <td id=\"T_bc906_row21_col5\" class=\"data row21 col5\" >0.000000</td>\n",
       "      <td id=\"T_bc906_row21_col6\" class=\"data row21 col6\" >0.000000</td>\n",
       "      <td id=\"T_bc906_row21_col7\" class=\"data row21 col7\" >1.000000</td>\n",
       "    </tr>\n",
       "  </tbody>\n",
       "</table>\n"
      ],
      "text/plain": [
       "<pandas.io.formats.style.Styler at 0x193ac7a9898>"
      ]
     },
     "execution_count": 15,
     "metadata": {},
     "output_type": "execute_result"
    }
   ],
   "source": [
    "df.describe().T.style.background_gradient()"
   ]
  },
  {
   "cell_type": "code",
   "execution_count": 16,
   "metadata": {},
   "outputs": [
    {
     "data": {
      "text/html": [
       "<div>\n",
       "<style scoped>\n",
       "    .dataframe tbody tr th:only-of-type {\n",
       "        vertical-align: middle;\n",
       "    }\n",
       "\n",
       "    .dataframe tbody tr th {\n",
       "        vertical-align: top;\n",
       "    }\n",
       "\n",
       "    .dataframe thead th {\n",
       "        text-align: right;\n",
       "    }\n",
       "</style>\n",
       "<table border=\"1\" class=\"dataframe\">\n",
       "  <thead>\n",
       "    <tr style=\"text-align: right;\">\n",
       "      <th></th>\n",
       "      <th>id</th>\n",
       "      <th>member_id</th>\n",
       "      <th>loan_amnt</th>\n",
       "      <th>funded_amnt</th>\n",
       "      <th>funded_amnt_inv</th>\n",
       "      <th>term</th>\n",
       "      <th>int_rate</th>\n",
       "      <th>installment</th>\n",
       "      <th>emp_length</th>\n",
       "      <th>home_ownership</th>\n",
       "      <th>...</th>\n",
       "      <th>total_acc</th>\n",
       "      <th>total_pymnt</th>\n",
       "      <th>total_pymnt_inv</th>\n",
       "      <th>total_rec_prncp</th>\n",
       "      <th>total_rec_int</th>\n",
       "      <th>last_pymnt_d</th>\n",
       "      <th>last_pymnt_amnt</th>\n",
       "      <th>next_pymnt_d</th>\n",
       "      <th>last_credit_pull_d</th>\n",
       "      <th>repay_fail</th>\n",
       "    </tr>\n",
       "  </thead>\n",
       "  <tbody>\n",
       "    <tr>\n",
       "      <th>2</th>\n",
       "      <td>2</td>\n",
       "      <td>2</td>\n",
       "      <td>0.0</td>\n",
       "      <td>0.0</td>\n",
       "      <td>0.0</td>\n",
       "      <td>36 months</td>\n",
       "      <td>0.0</td>\n",
       "      <td>0.0</td>\n",
       "      <td>&lt; 1 year</td>\n",
       "      <td>RENT</td>\n",
       "      <td>...</td>\n",
       "      <td>1.0</td>\n",
       "      <td>0.0</td>\n",
       "      <td>0.0</td>\n",
       "      <td>0.0</td>\n",
       "      <td>0.0</td>\n",
       "      <td>2023-01-07</td>\n",
       "      <td>0.0</td>\n",
       "      <td>2023-01-07</td>\n",
       "      <td>2023-01-07</td>\n",
       "      <td>1</td>\n",
       "    </tr>\n",
       "  </tbody>\n",
       "</table>\n",
       "<p>1 rows × 36 columns</p>\n",
       "</div>"
      ],
      "text/plain": [
       "   id  member_id  loan_amnt  funded_amnt  funded_amnt_inv       term  \\\n",
       "2   2          2        0.0          0.0              0.0  36 months   \n",
       "\n",
       "   int_rate  installment emp_length home_ownership  ...  total_acc  \\\n",
       "2       0.0          0.0   < 1 year           RENT  ...        1.0   \n",
       "\n",
       "  total_pymnt total_pymnt_inv total_rec_prncp total_rec_int last_pymnt_d  \\\n",
       "2         0.0             0.0             0.0           0.0   2023-01-07   \n",
       "\n",
       "  last_pymnt_amnt  next_pymnt_d  last_credit_pull_d repay_fail  \n",
       "2             0.0    2023-01-07          2023-01-07          1  \n",
       "\n",
       "[1 rows x 36 columns]"
      ]
     },
     "execution_count": 16,
     "metadata": {},
     "output_type": "execute_result"
    }
   ],
   "source": [
    "df.head(1)"
   ]
  },
  {
   "cell_type": "code",
   "execution_count": 17,
   "metadata": {},
   "outputs": [
    {
     "name": "stdout",
     "output_type": "stream",
     "text": [
      "<class 'pandas.core.frame.DataFrame'>\n",
      "Int64Index: 38480 entries, 2 to 38480\n",
      "Data columns (total 36 columns):\n",
      " #   Column                  Non-Null Count  Dtype         \n",
      "---  ------                  --------------  -----         \n",
      " 0   id                      38480 non-null  int64         \n",
      " 1   member_id               38480 non-null  int64         \n",
      " 2   loan_amnt               38479 non-null  float64       \n",
      " 3   funded_amnt             38479 non-null  float64       \n",
      " 4   funded_amnt_inv         38479 non-null  float64       \n",
      " 5   term                    38480 non-null  object        \n",
      " 6   int_rate                38480 non-null  float64       \n",
      " 7   installment             38479 non-null  float64       \n",
      " 8   emp_length              37487 non-null  object        \n",
      " 9   home_ownership          38480 non-null  object        \n",
      " 10  annual_inc              38478 non-null  float64       \n",
      " 11  verification_status     38480 non-null  object        \n",
      " 12  issue_d                 38480 non-null  datetime64[ns]\n",
      " 13  loan_status             38480 non-null  object        \n",
      " 14  purpose                 38480 non-null  object        \n",
      " 15  zip_code                38480 non-null  object        \n",
      " 16  addr_state              38480 non-null  object        \n",
      " 17  dti                     38480 non-null  float64       \n",
      " 18  delinq_2yrs             38479 non-null  float64       \n",
      " 19  earliest_cr_line        38480 non-null  datetime64[ns]\n",
      " 20  inq_last_6mths          38479 non-null  float64       \n",
      " 21  mths_since_last_delinq  14117 non-null  float64       \n",
      " 22  open_acc                38479 non-null  float64       \n",
      " 23  pub_rec                 38479 non-null  float64       \n",
      " 24  revol_bal               38476 non-null  float64       \n",
      " 25  revol_util              38421 non-null  object        \n",
      " 26  total_acc               38479 non-null  float64       \n",
      " 27  total_pymnt             38479 non-null  float64       \n",
      " 28  total_pymnt_inv         38479 non-null  float64       \n",
      " 29  total_rec_prncp         38479 non-null  float64       \n",
      " 30  total_rec_int           38479 non-null  float64       \n",
      " 31  last_pymnt_d            38409 non-null  datetime64[ns]\n",
      " 32  last_pymnt_amnt         38479 non-null  float64       \n",
      " 33  next_pymnt_d            3383 non-null   datetime64[ns]\n",
      " 34  last_credit_pull_d      38477 non-null  datetime64[ns]\n",
      " 35  repay_fail              38480 non-null  int64         \n",
      "dtypes: datetime64[ns](5), float64(19), int64(3), object(9)\n",
      "memory usage: 10.9+ MB\n"
     ]
    }
   ],
   "source": [
    "df.info()"
   ]
  },
  {
   "cell_type": "code",
   "execution_count": 18,
   "metadata": {},
   "outputs": [
    {
     "data": {
      "text/plain": [
       "Index(['id', 'member_id', 'loan_amnt', 'funded_amnt', 'funded_amnt_inv',\n",
       "       'term', 'int_rate', 'installment', 'emp_length', 'home_ownership',\n",
       "       'annual_inc', 'verification_status', 'issue_d', 'loan_status',\n",
       "       'purpose', 'zip_code', 'addr_state', 'dti', 'delinq_2yrs',\n",
       "       'earliest_cr_line', 'inq_last_6mths', 'mths_since_last_delinq',\n",
       "       'open_acc', 'pub_rec', 'revol_bal', 'revol_util', 'total_acc',\n",
       "       'total_pymnt', 'total_pymnt_inv', 'total_rec_prncp', 'total_rec_int',\n",
       "       'last_pymnt_d', 'last_pymnt_amnt', 'next_pymnt_d', 'last_credit_pull_d',\n",
       "       'repay_fail'],\n",
       "      dtype='object')"
      ]
     },
     "execution_count": 18,
     "metadata": {},
     "output_type": "execute_result"
    }
   ],
   "source": [
    "df.columns"
   ]
  },
  {
   "cell_type": "code",
   "execution_count": 19,
   "metadata": {},
   "outputs": [
    {
     "data": {
      "image/png": "[encoded data removed]",
      "text/plain": [
       "<Figure size 2000x2000 with 30 Axes>"
      ]
     },
     "metadata": {},
     "output_type": "display_data"
    }
   ],
   "source": [
    "df.hist(figsize = (20, 20))\n",
    "plt.show()"
   ]
  },
  {
   "cell_type": "markdown",
   "metadata": {},
   "source": [
    "Performing EDA\n",
    "\n"
   ]
  },
  {
   "cell_type": "code",
   "execution_count": 20,
   "metadata": {},
   "outputs": [],
   "source": [
    "x = df.drop(columns=['id','member_id','loan_amnt', 'funded_amnt_inv','issue_d', \n",
    "       'zip_code', 'addr_state', 'dti', 'delinq_2yrs','earliest_cr_line', 'inq_last_6mths', 'mths_since_last_delinq','open_acc', 'pub_rec', 'revol_bal', 'revol_util', 'total_acc',\n",
    "       'total_pymnt_inv', 'last_pymnt_d', 'next_pymnt_d', 'last_credit_pull_d'\n",
    "       ])\n"
   ]
  },
  {
   "cell_type": "code",
   "execution_count": 21,
   "metadata": {},
   "outputs": [
    {
     "data": {
      "text/plain": [
       "(38480, 15)"
      ]
     },
     "execution_count": 21,
     "metadata": {},
     "output_type": "execute_result"
    }
   ],
   "source": [
    "x.shape"
   ]
  },
  {
   "cell_type": "code",
   "execution_count": 22,
   "metadata": {},
   "outputs": [
    {
     "data": {
      "text/html": [
       "<div>\n",
       "<style scoped>\n",
       "    .dataframe tbody tr th:only-of-type {\n",
       "        vertical-align: middle;\n",
       "    }\n",
       "\n",
       "    .dataframe tbody tr th {\n",
       "        vertical-align: top;\n",
       "    }\n",
       "\n",
       "    .dataframe thead th {\n",
       "        text-align: right;\n",
       "    }\n",
       "</style>\n",
       "<table border=\"1\" class=\"dataframe\">\n",
       "  <thead>\n",
       "    <tr style=\"text-align: right;\">\n",
       "      <th></th>\n",
       "      <th>funded_amnt</th>\n",
       "      <th>term</th>\n",
       "      <th>int_rate</th>\n",
       "      <th>installment</th>\n",
       "      <th>emp_length</th>\n",
       "      <th>home_ownership</th>\n",
       "      <th>annual_inc</th>\n",
       "      <th>verification_status</th>\n",
       "      <th>loan_status</th>\n",
       "      <th>purpose</th>\n",
       "      <th>total_pymnt</th>\n",
       "      <th>total_rec_prncp</th>\n",
       "      <th>total_rec_int</th>\n",
       "      <th>last_pymnt_amnt</th>\n",
       "      <th>repay_fail</th>\n",
       "    </tr>\n",
       "  </thead>\n",
       "  <tbody>\n",
       "    <tr>\n",
       "      <th>2</th>\n",
       "      <td>0.0</td>\n",
       "      <td>36 months</td>\n",
       "      <td>0.00</td>\n",
       "      <td>0.00</td>\n",
       "      <td>&lt; 1 year</td>\n",
       "      <td>RENT</td>\n",
       "      <td>0.0</td>\n",
       "      <td>Not Verified</td>\n",
       "      <td>Charged Off</td>\n",
       "      <td>major_purchase</td>\n",
       "      <td>0.000000</td>\n",
       "      <td>0.00</td>\n",
       "      <td>0.00</td>\n",
       "      <td>0.00</td>\n",
       "      <td>1</td>\n",
       "    </tr>\n",
       "    <tr>\n",
       "      <th>3</th>\n",
       "      <td>2500.0</td>\n",
       "      <td>36 months</td>\n",
       "      <td>13.98</td>\n",
       "      <td>85.42</td>\n",
       "      <td>4 years</td>\n",
       "      <td>RENT</td>\n",
       "      <td>20004.0</td>\n",
       "      <td>Not Verified</td>\n",
       "      <td>Does not meet the credit policy. Status:Fully ...</td>\n",
       "      <td>other</td>\n",
       "      <td>3075.291779</td>\n",
       "      <td>2500.00</td>\n",
       "      <td>575.29</td>\n",
       "      <td>90.85</td>\n",
       "      <td>0</td>\n",
       "    </tr>\n",
       "    <tr>\n",
       "      <th>4</th>\n",
       "      <td>5000.0</td>\n",
       "      <td>36 months</td>\n",
       "      <td>15.95</td>\n",
       "      <td>175.67</td>\n",
       "      <td>4 years</td>\n",
       "      <td>RENT</td>\n",
       "      <td>59000.0</td>\n",
       "      <td>Not Verified</td>\n",
       "      <td>Charged Off</td>\n",
       "      <td>debt_consolidation</td>\n",
       "      <td>2948.760000</td>\n",
       "      <td>1909.02</td>\n",
       "      <td>873.81</td>\n",
       "      <td>175.67</td>\n",
       "      <td>1</td>\n",
       "    </tr>\n",
       "    <tr>\n",
       "      <th>5</th>\n",
       "      <td>7000.0</td>\n",
       "      <td>36 months</td>\n",
       "      <td>9.91</td>\n",
       "      <td>225.58</td>\n",
       "      <td>10+ years</td>\n",
       "      <td>MORTGAGE</td>\n",
       "      <td>53796.0</td>\n",
       "      <td>Not Verified</td>\n",
       "      <td>Fully Paid</td>\n",
       "      <td>other</td>\n",
       "      <td>8082.391880</td>\n",
       "      <td>7000.00</td>\n",
       "      <td>1082.39</td>\n",
       "      <td>1550.27</td>\n",
       "      <td>0</td>\n",
       "    </tr>\n",
       "    <tr>\n",
       "      <th>6</th>\n",
       "      <td>2000.0</td>\n",
       "      <td>36 months</td>\n",
       "      <td>5.42</td>\n",
       "      <td>60.32</td>\n",
       "      <td>10+ years</td>\n",
       "      <td>RENT</td>\n",
       "      <td>30000.0</td>\n",
       "      <td>Not Verified</td>\n",
       "      <td>Fully Paid</td>\n",
       "      <td>debt_consolidation</td>\n",
       "      <td>2161.663244</td>\n",
       "      <td>2000.00</td>\n",
       "      <td>161.66</td>\n",
       "      <td>53.12</td>\n",
       "      <td>0</td>\n",
       "    </tr>\n",
       "  </tbody>\n",
       "</table>\n",
       "</div>"
      ],
      "text/plain": [
       "   funded_amnt       term  int_rate  installment emp_length home_ownership  \\\n",
       "2          0.0  36 months      0.00         0.00   < 1 year           RENT   \n",
       "3       2500.0  36 months     13.98        85.42    4 years           RENT   \n",
       "4       5000.0  36 months     15.95       175.67    4 years           RENT   \n",
       "5       7000.0  36 months      9.91       225.58  10+ years       MORTGAGE   \n",
       "6       2000.0  36 months      5.42        60.32  10+ years           RENT   \n",
       "\n",
       "   annual_inc verification_status  \\\n",
       "2         0.0        Not Verified   \n",
       "3     20004.0        Not Verified   \n",
       "4     59000.0        Not Verified   \n",
       "5     53796.0        Not Verified   \n",
       "6     30000.0        Not Verified   \n",
       "\n",
       "                                         loan_status             purpose  \\\n",
       "2                                        Charged Off      major_purchase   \n",
       "3  Does not meet the credit policy. Status:Fully ...               other   \n",
       "4                                        Charged Off  debt_consolidation   \n",
       "5                                         Fully Paid               other   \n",
       "6                                         Fully Paid  debt_consolidation   \n",
       "\n",
       "   total_pymnt  total_rec_prncp  total_rec_int  last_pymnt_amnt  repay_fail  \n",
       "2     0.000000             0.00           0.00             0.00           1  \n",
       "3  3075.291779          2500.00         575.29            90.85           0  \n",
       "4  2948.760000          1909.02         873.81           175.67           1  \n",
       "5  8082.391880          7000.00        1082.39          1550.27           0  \n",
       "6  2161.663244          2000.00         161.66            53.12           0  "
      ]
     },
     "execution_count": 22,
     "metadata": {},
     "output_type": "execute_result"
    }
   ],
   "source": [
    "x.head()"
   ]
  },
  {
   "cell_type": "code",
   "execution_count": 23,
   "metadata": {},
   "outputs": [
    {
     "data": {
      "text/plain": [
       "(38480, 15)"
      ]
     },
     "execution_count": 23,
     "metadata": {},
     "output_type": "execute_result"
    }
   ],
   "source": [
    "x.shape"
   ]
  },
  {
   "cell_type": "code",
   "execution_count": 24,
   "metadata": {},
   "outputs": [
    {
     "name": "stdout",
     "output_type": "stream",
     "text": [
      "<class 'pandas.core.frame.DataFrame'>\n",
      "Int64Index: 38480 entries, 2 to 38480\n",
      "Data columns (total 15 columns):\n",
      " #   Column               Non-Null Count  Dtype  \n",
      "---  ------               --------------  -----  \n",
      " 0   funded_amnt          38479 non-null  float64\n",
      " 1   term                 38480 non-null  object \n",
      " 2   int_rate             38480 non-null  float64\n",
      " 3   installment          38479 non-null  float64\n",
      " 4   emp_length           37487 non-null  object \n",
      " 5   home_ownership       38480 non-null  object \n",
      " 6   annual_inc           38478 non-null  float64\n",
      " 7   verification_status  38480 non-null  object \n",
      " 8   loan_status          38480 non-null  object \n",
      " 9   purpose              38480 non-null  object \n",
      " 10  total_pymnt          38479 non-null  float64\n",
      " 11  total_rec_prncp      38479 non-null  float64\n",
      " 12  total_rec_int        38479 non-null  float64\n",
      " 13  last_pymnt_amnt      38479 non-null  float64\n",
      " 14  repay_fail           38480 non-null  int64  \n",
      "dtypes: float64(8), int64(1), object(6)\n",
      "memory usage: 4.7+ MB\n"
     ]
    }
   ],
   "source": [
    "x.info()"
   ]
  },
  {
   "cell_type": "code",
   "execution_count": 25,
   "metadata": {},
   "outputs": [
    {
     "data": {
      "text/html": [
       "<div>\n",
       "<style scoped>\n",
       "    .dataframe tbody tr th:only-of-type {\n",
       "        vertical-align: middle;\n",
       "    }\n",
       "\n",
       "    .dataframe tbody tr th {\n",
       "        vertical-align: top;\n",
       "    }\n",
       "\n",
       "    .dataframe thead th {\n",
       "        text-align: right;\n",
       "    }\n",
       "</style>\n",
       "<table border=\"1\" class=\"dataframe\">\n",
       "  <thead>\n",
       "    <tr style=\"text-align: right;\">\n",
       "      <th></th>\n",
       "      <th>funded_amnt</th>\n",
       "      <th>term</th>\n",
       "      <th>int_rate</th>\n",
       "      <th>installment</th>\n",
       "      <th>emp_length</th>\n",
       "      <th>home_ownership</th>\n",
       "      <th>annual_inc</th>\n",
       "      <th>verification_status</th>\n",
       "      <th>loan_status</th>\n",
       "      <th>purpose</th>\n",
       "      <th>total_pymnt</th>\n",
       "      <th>total_rec_prncp</th>\n",
       "      <th>total_rec_int</th>\n",
       "      <th>last_pymnt_amnt</th>\n",
       "      <th>repay_fail</th>\n",
       "    </tr>\n",
       "  </thead>\n",
       "  <tbody>\n",
       "    <tr>\n",
       "      <th>2</th>\n",
       "      <td>0.0</td>\n",
       "      <td>36 months</td>\n",
       "      <td>0.00</td>\n",
       "      <td>0.00</td>\n",
       "      <td>&lt; 1 year</td>\n",
       "      <td>RENT</td>\n",
       "      <td>0.0</td>\n",
       "      <td>Not Verified</td>\n",
       "      <td>Charged Off</td>\n",
       "      <td>major_purchase</td>\n",
       "      <td>0.000000</td>\n",
       "      <td>0.00</td>\n",
       "      <td>0.00</td>\n",
       "      <td>0.00</td>\n",
       "      <td>1</td>\n",
       "    </tr>\n",
       "    <tr>\n",
       "      <th>3</th>\n",
       "      <td>2500.0</td>\n",
       "      <td>36 months</td>\n",
       "      <td>13.98</td>\n",
       "      <td>85.42</td>\n",
       "      <td>4 years</td>\n",
       "      <td>RENT</td>\n",
       "      <td>20004.0</td>\n",
       "      <td>Not Verified</td>\n",
       "      <td>Does not meet the credit policy. Status:Fully ...</td>\n",
       "      <td>other</td>\n",
       "      <td>3075.291779</td>\n",
       "      <td>2500.00</td>\n",
       "      <td>575.29</td>\n",
       "      <td>90.85</td>\n",
       "      <td>0</td>\n",
       "    </tr>\n",
       "    <tr>\n",
       "      <th>4</th>\n",
       "      <td>5000.0</td>\n",
       "      <td>36 months</td>\n",
       "      <td>15.95</td>\n",
       "      <td>175.67</td>\n",
       "      <td>4 years</td>\n",
       "      <td>RENT</td>\n",
       "      <td>59000.0</td>\n",
       "      <td>Not Verified</td>\n",
       "      <td>Charged Off</td>\n",
       "      <td>debt_consolidation</td>\n",
       "      <td>2948.760000</td>\n",
       "      <td>1909.02</td>\n",
       "      <td>873.81</td>\n",
       "      <td>175.67</td>\n",
       "      <td>1</td>\n",
       "    </tr>\n",
       "    <tr>\n",
       "      <th>5</th>\n",
       "      <td>7000.0</td>\n",
       "      <td>36 months</td>\n",
       "      <td>9.91</td>\n",
       "      <td>225.58</td>\n",
       "      <td>10+ years</td>\n",
       "      <td>MORTGAGE</td>\n",
       "      <td>53796.0</td>\n",
       "      <td>Not Verified</td>\n",
       "      <td>Fully Paid</td>\n",
       "      <td>other</td>\n",
       "      <td>8082.391880</td>\n",
       "      <td>7000.00</td>\n",
       "      <td>1082.39</td>\n",
       "      <td>1550.27</td>\n",
       "      <td>0</td>\n",
       "    </tr>\n",
       "    <tr>\n",
       "      <th>6</th>\n",
       "      <td>2000.0</td>\n",
       "      <td>36 months</td>\n",
       "      <td>5.42</td>\n",
       "      <td>60.32</td>\n",
       "      <td>10+ years</td>\n",
       "      <td>RENT</td>\n",
       "      <td>30000.0</td>\n",
       "      <td>Not Verified</td>\n",
       "      <td>Fully Paid</td>\n",
       "      <td>debt_consolidation</td>\n",
       "      <td>2161.663244</td>\n",
       "      <td>2000.00</td>\n",
       "      <td>161.66</td>\n",
       "      <td>53.12</td>\n",
       "      <td>0</td>\n",
       "    </tr>\n",
       "  </tbody>\n",
       "</table>\n",
       "</div>"
      ],
      "text/plain": [
       "   funded_amnt       term  int_rate  installment emp_length home_ownership  \\\n",
       "2          0.0  36 months      0.00         0.00   < 1 year           RENT   \n",
       "3       2500.0  36 months     13.98        85.42    4 years           RENT   \n",
       "4       5000.0  36 months     15.95       175.67    4 years           RENT   \n",
       "5       7000.0  36 months      9.91       225.58  10+ years       MORTGAGE   \n",
       "6       2000.0  36 months      5.42        60.32  10+ years           RENT   \n",
       "\n",
       "   annual_inc verification_status  \\\n",
       "2         0.0        Not Verified   \n",
       "3     20004.0        Not Verified   \n",
       "4     59000.0        Not Verified   \n",
       "5     53796.0        Not Verified   \n",
       "6     30000.0        Not Verified   \n",
       "\n",
       "                                         loan_status             purpose  \\\n",
       "2                                        Charged Off      major_purchase   \n",
       "3  Does not meet the credit policy. Status:Fully ...               other   \n",
       "4                                        Charged Off  debt_consolidation   \n",
       "5                                         Fully Paid               other   \n",
       "6                                         Fully Paid  debt_consolidation   \n",
       "\n",
       "   total_pymnt  total_rec_prncp  total_rec_int  last_pymnt_amnt  repay_fail  \n",
       "2     0.000000             0.00           0.00             0.00           1  \n",
       "3  3075.291779          2500.00         575.29            90.85           0  \n",
       "4  2948.760000          1909.02         873.81           175.67           1  \n",
       "5  8082.391880          7000.00        1082.39          1550.27           0  \n",
       "6  2161.663244          2000.00         161.66            53.12           0  "
      ]
     },
     "execution_count": 25,
     "metadata": {},
     "output_type": "execute_result"
    }
   ],
   "source": [
    "x.head()"
   ]
  },
  {
   "cell_type": "markdown",
   "metadata": {},
   "source": []
  },
  {
   "cell_type": "code",
   "execution_count": 26,
   "metadata": {},
   "outputs": [
    {
     "data": {
      "text/plain": [
       "funded_amnt              1\n",
       "term                     0\n",
       "int_rate                 0\n",
       "installment              1\n",
       "emp_length             993\n",
       "home_ownership           0\n",
       "annual_inc               2\n",
       "verification_status      0\n",
       "loan_status              0\n",
       "purpose                  0\n",
       "total_pymnt              1\n",
       "total_rec_prncp          1\n",
       "total_rec_int            1\n",
       "last_pymnt_amnt          1\n",
       "repay_fail               0\n",
       "dtype: int64"
      ]
     },
     "execution_count": 26,
     "metadata": {},
     "output_type": "execute_result"
    }
   ],
   "source": [
    "x.isna().sum()"
   ]
  },
  {
   "cell_type": "code",
   "execution_count": 27,
   "metadata": {},
   "outputs": [
    {
     "data": {
      "text/plain": [
       "array(['Not Verified', 'Verified', 'Source Verified'], dtype=object)"
      ]
     },
     "execution_count": 27,
     "metadata": {},
     "output_type": "execute_result"
    }
   ],
   "source": [
    "x.verification_status.unique()"
   ]
  },
  {
   "cell_type": "code",
   "execution_count": 28,
   "metadata": {},
   "outputs": [],
   "source": [
    "verification_status_mapping={\n",
    "    'Not Verified' :  0, \n",
    "    'Verified': 1, \n",
    "    'Source Verified' :1\n",
    "}\n",
    "x['verification_status'] = x['verification_status'].replace(verification_status_mapping)"
   ]
  },
  {
   "cell_type": "code",
   "execution_count": 29,
   "metadata": {},
   "outputs": [
    {
     "data": {
      "text/plain": [
       "array([0, 1], dtype=int64)"
      ]
     },
     "execution_count": 29,
     "metadata": {},
     "output_type": "execute_result"
    }
   ],
   "source": [
    "x.verification_status.unique()"
   ]
  },
  {
   "cell_type": "code",
   "execution_count": 30,
   "metadata": {},
   "outputs": [
    {
     "data": {
      "text/plain": [
       "array(['Charged Off',\n",
       "       'Does not meet the credit policy. Status:Fully Paid', 'Fully Paid',\n",
       "       'Current', 'Does not meet the credit policy. Status:Charged Off',\n",
       "       'Late (31-120 days)', 'In Grace Period', 'Late (16-30 days)',\n",
       "       'Default'], dtype=object)"
      ]
     },
     "execution_count": 30,
     "metadata": {},
     "output_type": "execute_result"
    }
   ],
   "source": [
    "x.loan_status.unique()"
   ]
  },
  {
   "cell_type": "code",
   "execution_count": 31,
   "metadata": {},
   "outputs": [],
   "source": [
    "loan_status_mapping={\n",
    "    'Charged Off' :  0, \n",
    "    'Fully Paid': 1, \n",
    "    'Current' :2,\n",
    "    'Late ':3,\n",
    "    'In Grace Period':4,\n",
    "    'Default':5\n",
    "    \n",
    "}\n",
    "x['loan_status'] = x['loan_status'].replace(loan_status_mapping)"
   ]
  },
  {
   "cell_type": "code",
   "execution_count": 32,
   "metadata": {},
   "outputs": [
    {
     "data": {
      "text/plain": [
       "array([0, 'Does not meet the credit policy. Status:Fully Paid', 1, 2,\n",
       "       'Does not meet the credit policy. Status:Charged Off',\n",
       "       'Late (31-120 days)', 4, 'Late (16-30 days)', 5], dtype=object)"
      ]
     },
     "execution_count": 32,
     "metadata": {},
     "output_type": "execute_result"
    }
   ],
   "source": [
    "x.loan_status.unique()"
   ]
  },
  {
   "cell_type": "code",
   "execution_count": 33,
   "metadata": {},
   "outputs": [
    {
     "data": {
      "text/html": [
       "<div>\n",
       "<style scoped>\n",
       "    .dataframe tbody tr th:only-of-type {\n",
       "        vertical-align: middle;\n",
       "    }\n",
       "\n",
       "    .dataframe tbody tr th {\n",
       "        vertical-align: top;\n",
       "    }\n",
       "\n",
       "    .dataframe thead th {\n",
       "        text-align: right;\n",
       "    }\n",
       "</style>\n",
       "<table border=\"1\" class=\"dataframe\">\n",
       "  <thead>\n",
       "    <tr style=\"text-align: right;\">\n",
       "      <th></th>\n",
       "      <th>funded_amnt</th>\n",
       "      <th>term</th>\n",
       "      <th>int_rate</th>\n",
       "      <th>installment</th>\n",
       "      <th>emp_length</th>\n",
       "      <th>home_ownership</th>\n",
       "      <th>annual_inc</th>\n",
       "      <th>verification_status</th>\n",
       "      <th>loan_status</th>\n",
       "      <th>purpose</th>\n",
       "      <th>total_pymnt</th>\n",
       "      <th>total_rec_prncp</th>\n",
       "      <th>total_rec_int</th>\n",
       "      <th>last_pymnt_amnt</th>\n",
       "      <th>repay_fail</th>\n",
       "    </tr>\n",
       "  </thead>\n",
       "  <tbody>\n",
       "    <tr>\n",
       "      <th>2</th>\n",
       "      <td>0.0</td>\n",
       "      <td>36 months</td>\n",
       "      <td>0.00</td>\n",
       "      <td>0.00</td>\n",
       "      <td>&lt; 1 year</td>\n",
       "      <td>RENT</td>\n",
       "      <td>0.0</td>\n",
       "      <td>0</td>\n",
       "      <td>0</td>\n",
       "      <td>major_purchase</td>\n",
       "      <td>0.000000</td>\n",
       "      <td>0.00</td>\n",
       "      <td>0.00</td>\n",
       "      <td>0.00</td>\n",
       "      <td>1</td>\n",
       "    </tr>\n",
       "    <tr>\n",
       "      <th>3</th>\n",
       "      <td>2500.0</td>\n",
       "      <td>36 months</td>\n",
       "      <td>13.98</td>\n",
       "      <td>85.42</td>\n",
       "      <td>4 years</td>\n",
       "      <td>RENT</td>\n",
       "      <td>20004.0</td>\n",
       "      <td>0</td>\n",
       "      <td>Does not meet the credit policy. Status:Fully ...</td>\n",
       "      <td>other</td>\n",
       "      <td>3075.291779</td>\n",
       "      <td>2500.00</td>\n",
       "      <td>575.29</td>\n",
       "      <td>90.85</td>\n",
       "      <td>0</td>\n",
       "    </tr>\n",
       "    <tr>\n",
       "      <th>4</th>\n",
       "      <td>5000.0</td>\n",
       "      <td>36 months</td>\n",
       "      <td>15.95</td>\n",
       "      <td>175.67</td>\n",
       "      <td>4 years</td>\n",
       "      <td>RENT</td>\n",
       "      <td>59000.0</td>\n",
       "      <td>0</td>\n",
       "      <td>0</td>\n",
       "      <td>debt_consolidation</td>\n",
       "      <td>2948.760000</td>\n",
       "      <td>1909.02</td>\n",
       "      <td>873.81</td>\n",
       "      <td>175.67</td>\n",
       "      <td>1</td>\n",
       "    </tr>\n",
       "    <tr>\n",
       "      <th>5</th>\n",
       "      <td>7000.0</td>\n",
       "      <td>36 months</td>\n",
       "      <td>9.91</td>\n",
       "      <td>225.58</td>\n",
       "      <td>10+ years</td>\n",
       "      <td>MORTGAGE</td>\n",
       "      <td>53796.0</td>\n",
       "      <td>0</td>\n",
       "      <td>1</td>\n",
       "      <td>other</td>\n",
       "      <td>8082.391880</td>\n",
       "      <td>7000.00</td>\n",
       "      <td>1082.39</td>\n",
       "      <td>1550.27</td>\n",
       "      <td>0</td>\n",
       "    </tr>\n",
       "    <tr>\n",
       "      <th>6</th>\n",
       "      <td>2000.0</td>\n",
       "      <td>36 months</td>\n",
       "      <td>5.42</td>\n",
       "      <td>60.32</td>\n",
       "      <td>10+ years</td>\n",
       "      <td>RENT</td>\n",
       "      <td>30000.0</td>\n",
       "      <td>0</td>\n",
       "      <td>1</td>\n",
       "      <td>debt_consolidation</td>\n",
       "      <td>2161.663244</td>\n",
       "      <td>2000.00</td>\n",
       "      <td>161.66</td>\n",
       "      <td>53.12</td>\n",
       "      <td>0</td>\n",
       "    </tr>\n",
       "  </tbody>\n",
       "</table>\n",
       "</div>"
      ],
      "text/plain": [
       "   funded_amnt       term  int_rate  installment emp_length home_ownership  \\\n",
       "2          0.0  36 months      0.00         0.00   < 1 year           RENT   \n",
       "3       2500.0  36 months     13.98        85.42    4 years           RENT   \n",
       "4       5000.0  36 months     15.95       175.67    4 years           RENT   \n",
       "5       7000.0  36 months      9.91       225.58  10+ years       MORTGAGE   \n",
       "6       2000.0  36 months      5.42        60.32  10+ years           RENT   \n",
       "\n",
       "   annual_inc  verification_status  \\\n",
       "2         0.0                    0   \n",
       "3     20004.0                    0   \n",
       "4     59000.0                    0   \n",
       "5     53796.0                    0   \n",
       "6     30000.0                    0   \n",
       "\n",
       "                                         loan_status             purpose  \\\n",
       "2                                                  0      major_purchase   \n",
       "3  Does not meet the credit policy. Status:Fully ...               other   \n",
       "4                                                  0  debt_consolidation   \n",
       "5                                                  1               other   \n",
       "6                                                  1  debt_consolidation   \n",
       "\n",
       "   total_pymnt  total_rec_prncp  total_rec_int  last_pymnt_amnt  repay_fail  \n",
       "2     0.000000             0.00           0.00             0.00           1  \n",
       "3  3075.291779          2500.00         575.29            90.85           0  \n",
       "4  2948.760000          1909.02         873.81           175.67           1  \n",
       "5  8082.391880          7000.00        1082.39          1550.27           0  \n",
       "6  2161.663244          2000.00         161.66            53.12           0  "
      ]
     },
     "execution_count": 33,
     "metadata": {},
     "output_type": "execute_result"
    }
   ],
   "source": [
    "x.head()"
   ]
  },
  {
   "cell_type": "code",
   "execution_count": 34,
   "metadata": {},
   "outputs": [
    {
     "data": {
      "text/plain": [
       "array(['major_purchase', 'other', 'debt_consolidation', 'credit_card',\n",
       "       'small_business', 'wedding', 'medical', 'car', 'home_improvement',\n",
       "       'vacation', 'educational', 'house', 'moving', 'renewable_energy'],\n",
       "      dtype=object)"
      ]
     },
     "execution_count": 34,
     "metadata": {},
     "output_type": "execute_result"
    }
   ],
   "source": [
    "x.purpose.unique()"
   ]
  },
  {
   "cell_type": "code",
   "execution_count": 35,
   "metadata": {},
   "outputs": [],
   "source": [
    "purpose_mapping={\n",
    "    'major_purchase' :  0, \n",
    "    'other': 1, \n",
    "    'debt_consolidation' :2,\n",
    "    'credit_card':3,\n",
    "    'small_business':4,\n",
    "    'wedding':5,\n",
    "    'medical':6,\n",
    "    'car':7,\n",
    "    'home_improvement':8,\n",
    "    'vacation':9,\n",
    "    'educational':10,\n",
    "    'house':11,\n",
    "    'moving':12,\n",
    "    'renewable_energy':13\n",
    "    \n",
    "    \n",
    "    \n",
    "}\n",
    "x['purpose'] = x['purpose'].replace(purpose_mapping)"
   ]
  },
  {
   "cell_type": "code",
   "execution_count": 36,
   "metadata": {},
   "outputs": [
    {
     "data": {
      "text/plain": [
       "array([ 0,  1,  2,  3,  4,  5,  6,  7,  8,  9, 10, 11, 12, 13],\n",
       "      dtype=int64)"
      ]
     },
     "execution_count": 36,
     "metadata": {},
     "output_type": "execute_result"
    }
   ],
   "source": [
    "x.purpose.unique()"
   ]
  },
  {
   "cell_type": "code",
   "execution_count": 37,
   "metadata": {},
   "outputs": [
    {
     "data": {
      "text/plain": [
       "array(['< 1 year', '4 years', '10+ years', nan, '3 years', '5 years',\n",
       "       '7 years', '2 years', '1 year', '6 years', '9 years', '8 years'],\n",
       "      dtype=object)"
      ]
     },
     "execution_count": 37,
     "metadata": {},
     "output_type": "execute_result"
    }
   ],
   "source": [
    "x.emp_length.unique()\n"
   ]
  },
  {
   "cell_type": "code",
   "execution_count": 38,
   "metadata": {},
   "outputs": [
    {
     "data": {
      "text/plain": [
       "array(['36 months', '60 months'], dtype=object)"
      ]
     },
     "execution_count": 38,
     "metadata": {},
     "output_type": "execute_result"
    }
   ],
   "source": [
    "x.term.unique()\n"
   ]
  },
  {
   "cell_type": "code",
   "execution_count": 39,
   "metadata": {},
   "outputs": [],
   "source": [
    "x['term'] = x['term'].replace(['36 months'], 36)"
   ]
  },
  {
   "cell_type": "code",
   "execution_count": 40,
   "metadata": {},
   "outputs": [
    {
     "data": {
      "text/plain": [
       "array([36, '60 months'], dtype=object)"
      ]
     },
     "execution_count": 40,
     "metadata": {},
     "output_type": "execute_result"
    }
   ],
   "source": [
    "x.term.unique()\n"
   ]
  },
  {
   "cell_type": "code",
   "execution_count": 41,
   "metadata": {},
   "outputs": [],
   "source": [
    "x['term'] = x['term'].replace(['60 months'], 60)"
   ]
  },
  {
   "cell_type": "code",
   "execution_count": 42,
   "metadata": {},
   "outputs": [],
   "source": [
    "home_ownership_mapping={\n",
    "    'RENT' :  0, \n",
    "    'MORTGAGE': 1, \n",
    "    'OWN' :2,\n",
    "    'OTHER' :3,\n",
    "     'NONE' :4\n",
    "}\n",
    "x['home_ownership'] = x['home_ownership'].replace(home_ownership_mapping)"
   ]
  },
  {
   "cell_type": "code",
   "execution_count": 43,
   "metadata": {},
   "outputs": [
    {
     "data": {
      "text/plain": [
       "array([36, 60], dtype=int64)"
      ]
     },
     "execution_count": 43,
     "metadata": {},
     "output_type": "execute_result"
    }
   ],
   "source": [
    "x.term.unique()\n"
   ]
  },
  {
   "cell_type": "code",
   "execution_count": 44,
   "metadata": {},
   "outputs": [
    {
     "data": {
      "text/html": [
       "<div>\n",
       "<style scoped>\n",
       "    .dataframe tbody tr th:only-of-type {\n",
       "        vertical-align: middle;\n",
       "    }\n",
       "\n",
       "    .dataframe tbody tr th {\n",
       "        vertical-align: top;\n",
       "    }\n",
       "\n",
       "    .dataframe thead th {\n",
       "        text-align: right;\n",
       "    }\n",
       "</style>\n",
       "<table border=\"1\" class=\"dataframe\">\n",
       "  <thead>\n",
       "    <tr style=\"text-align: right;\">\n",
       "      <th></th>\n",
       "      <th>funded_amnt</th>\n",
       "      <th>term</th>\n",
       "      <th>int_rate</th>\n",
       "      <th>installment</th>\n",
       "      <th>emp_length</th>\n",
       "      <th>home_ownership</th>\n",
       "      <th>annual_inc</th>\n",
       "      <th>verification_status</th>\n",
       "      <th>loan_status</th>\n",
       "      <th>purpose</th>\n",
       "      <th>total_pymnt</th>\n",
       "      <th>total_rec_prncp</th>\n",
       "      <th>total_rec_int</th>\n",
       "      <th>last_pymnt_amnt</th>\n",
       "      <th>repay_fail</th>\n",
       "    </tr>\n",
       "  </thead>\n",
       "  <tbody>\n",
       "    <tr>\n",
       "      <th>2</th>\n",
       "      <td>0.0</td>\n",
       "      <td>36</td>\n",
       "      <td>0.00</td>\n",
       "      <td>0.00</td>\n",
       "      <td>&lt; 1 year</td>\n",
       "      <td>0</td>\n",
       "      <td>0.0</td>\n",
       "      <td>0</td>\n",
       "      <td>0</td>\n",
       "      <td>0</td>\n",
       "      <td>0.000000</td>\n",
       "      <td>0.00</td>\n",
       "      <td>0.00</td>\n",
       "      <td>0.00</td>\n",
       "      <td>1</td>\n",
       "    </tr>\n",
       "    <tr>\n",
       "      <th>3</th>\n",
       "      <td>2500.0</td>\n",
       "      <td>36</td>\n",
       "      <td>13.98</td>\n",
       "      <td>85.42</td>\n",
       "      <td>4 years</td>\n",
       "      <td>0</td>\n",
       "      <td>20004.0</td>\n",
       "      <td>0</td>\n",
       "      <td>Does not meet the credit policy. Status:Fully ...</td>\n",
       "      <td>1</td>\n",
       "      <td>3075.291779</td>\n",
       "      <td>2500.00</td>\n",
       "      <td>575.29</td>\n",
       "      <td>90.85</td>\n",
       "      <td>0</td>\n",
       "    </tr>\n",
       "    <tr>\n",
       "      <th>4</th>\n",
       "      <td>5000.0</td>\n",
       "      <td>36</td>\n",
       "      <td>15.95</td>\n",
       "      <td>175.67</td>\n",
       "      <td>4 years</td>\n",
       "      <td>0</td>\n",
       "      <td>59000.0</td>\n",
       "      <td>0</td>\n",
       "      <td>0</td>\n",
       "      <td>2</td>\n",
       "      <td>2948.760000</td>\n",
       "      <td>1909.02</td>\n",
       "      <td>873.81</td>\n",
       "      <td>175.67</td>\n",
       "      <td>1</td>\n",
       "    </tr>\n",
       "  </tbody>\n",
       "</table>\n",
       "</div>"
      ],
      "text/plain": [
       "   funded_amnt  term  int_rate  installment emp_length  home_ownership  \\\n",
       "2          0.0    36      0.00         0.00   < 1 year               0   \n",
       "3       2500.0    36     13.98        85.42    4 years               0   \n",
       "4       5000.0    36     15.95       175.67    4 years               0   \n",
       "\n",
       "   annual_inc  verification_status  \\\n",
       "2         0.0                    0   \n",
       "3     20004.0                    0   \n",
       "4     59000.0                    0   \n",
       "\n",
       "                                         loan_status  purpose  total_pymnt  \\\n",
       "2                                                  0        0     0.000000   \n",
       "3  Does not meet the credit policy. Status:Fully ...        1  3075.291779   \n",
       "4                                                  0        2  2948.760000   \n",
       "\n",
       "   total_rec_prncp  total_rec_int  last_pymnt_amnt  repay_fail  \n",
       "2             0.00           0.00             0.00           1  \n",
       "3          2500.00         575.29            90.85           0  \n",
       "4          1909.02         873.81           175.67           1  "
      ]
     },
     "execution_count": 44,
     "metadata": {},
     "output_type": "execute_result"
    }
   ],
   "source": [
    "x.head(3)"
   ]
  },
  {
   "cell_type": "code",
   "execution_count": 45,
   "metadata": {},
   "outputs": [],
   "source": [
    "emp_length_mapping = {\n",
    "    '< 1 year': 0,\n",
    "    '1 year': 1,\n",
    "    '2 years': 2,\n",
    "    '3 years': 3,\n",
    "    '4 years': 4,\n",
    "    '5 years': 5,\n",
    "    '6 years': 6,\n",
    "    '7 years': 7,\n",
    "    '8 years': 8,\n",
    "    '9 years': 9,\n",
    "    '10+ years': 10\n",
    "}\n",
    "\n",
    "# Use the mapping to replace the strings with integers\n",
    "x['emp_length'] = x['emp_length'].replace(emp_length_mapping)"
   ]
  },
  {
   "cell_type": "code",
   "execution_count": 46,
   "metadata": {},
   "outputs": [
    {
     "data": {
      "text/plain": [
       "array([0, 1, 2, 3, 4], dtype=int64)"
      ]
     },
     "execution_count": 46,
     "metadata": {},
     "output_type": "execute_result"
    }
   ],
   "source": [
    "x.home_ownership.unique()\n"
   ]
  },
  {
   "cell_type": "code",
   "execution_count": 47,
   "metadata": {},
   "outputs": [
    {
     "name": "stdout",
     "output_type": "stream",
     "text": [
      "<class 'pandas.core.frame.DataFrame'>\n",
      "Int64Index: 38480 entries, 2 to 38480\n",
      "Data columns (total 15 columns):\n",
      " #   Column               Non-Null Count  Dtype  \n",
      "---  ------               --------------  -----  \n",
      " 0   funded_amnt          38479 non-null  float64\n",
      " 1   term                 38480 non-null  int64  \n",
      " 2   int_rate             38480 non-null  float64\n",
      " 3   installment          38479 non-null  float64\n",
      " 4   emp_length           37487 non-null  float64\n",
      " 5   home_ownership       38480 non-null  int64  \n",
      " 6   annual_inc           38478 non-null  float64\n",
      " 7   verification_status  38480 non-null  int64  \n",
      " 8   loan_status          38480 non-null  object \n",
      " 9   purpose              38480 non-null  int64  \n",
      " 10  total_pymnt          38479 non-null  float64\n",
      " 11  total_rec_prncp      38479 non-null  float64\n",
      " 12  total_rec_int        38479 non-null  float64\n",
      " 13  last_pymnt_amnt      38479 non-null  float64\n",
      " 14  repay_fail           38480 non-null  int64  \n",
      "dtypes: float64(9), int64(5), object(1)\n",
      "memory usage: 4.7+ MB\n"
     ]
    }
   ],
   "source": [
    "x.info()"
   ]
  },
  {
   "cell_type": "code",
   "execution_count": 48,
   "metadata": {},
   "outputs": [
    {
     "data": {
      "text/plain": [
       "funded_amnt              1\n",
       "term                     0\n",
       "int_rate                 0\n",
       "installment              1\n",
       "emp_length             993\n",
       "home_ownership           0\n",
       "annual_inc               2\n",
       "verification_status      0\n",
       "loan_status              0\n",
       "purpose                  0\n",
       "total_pymnt              1\n",
       "total_rec_prncp          1\n",
       "total_rec_int            1\n",
       "last_pymnt_amnt          1\n",
       "repay_fail               0\n",
       "dtype: int64"
      ]
     },
     "execution_count": 48,
     "metadata": {},
     "output_type": "execute_result"
    }
   ],
   "source": [
    "x.isna().sum()"
   ]
  },
  {
   "cell_type": "code",
   "execution_count": 49,
   "metadata": {},
   "outputs": [],
   "source": [
    "x=x[~x['funded_amnt'].isna()]"
   ]
  },
  {
   "cell_type": "code",
   "execution_count": 50,
   "metadata": {},
   "outputs": [],
   "source": [
    "x=x[~x['annual_inc'].isna()]"
   ]
  },
  {
   "cell_type": "code",
   "execution_count": 51,
   "metadata": {},
   "outputs": [],
   "source": [
    "x=x[~x['emp_length'].isna()]"
   ]
  },
  {
   "cell_type": "code",
   "execution_count": 52,
   "metadata": {},
   "outputs": [
    {
     "data": {
      "text/plain": [
       "funded_amnt            0\n",
       "term                   0\n",
       "int_rate               0\n",
       "installment            0\n",
       "emp_length             0\n",
       "home_ownership         0\n",
       "annual_inc             0\n",
       "verification_status    0\n",
       "loan_status            0\n",
       "purpose                0\n",
       "total_pymnt            0\n",
       "total_rec_prncp        0\n",
       "total_rec_int          0\n",
       "last_pymnt_amnt        0\n",
       "repay_fail             0\n",
       "dtype: int64"
      ]
     },
     "execution_count": 52,
     "metadata": {},
     "output_type": "execute_result"
    }
   ],
   "source": [
    "x.isna().sum()"
   ]
  },
  {
   "cell_type": "code",
   "execution_count": 53,
   "metadata": {},
   "outputs": [],
   "source": [
    "class_count_0 , class_count_1 = x['repay_fail'].value_counts()\n",
    "class_0 = x[x['repay_fail']==0].sample(5609)\n",
    "class_1 = x[x['repay_fail']==1]\n",
    "\n",
    "balance_data = pd.concat([class_0 , class_1])"
   ]
  },
  {
   "cell_type": "code",
   "execution_count": 54,
   "metadata": {},
   "outputs": [
    {
     "data": {
      "text/plain": [
       "25511    0\n",
       "21594    0\n",
       "3945     0\n",
       "37080    0\n",
       "4301     0\n",
       "        ..\n",
       "38455    1\n",
       "38457    1\n",
       "38459    1\n",
       "38472    1\n",
       "38475    1\n",
       "Name: repay_fail, Length: 11218, dtype: int64"
      ]
     },
     "execution_count": 54,
     "metadata": {},
     "output_type": "execute_result"
    }
   ],
   "source": [
    "X = balance_data.drop('repay_fail',axis=1)\n",
    "y = balance_data['repay_fail']\n",
    "y"
   ]
  },
  {
   "cell_type": "code",
   "execution_count": 55,
   "metadata": {},
   "outputs": [],
   "source": [
    "X_train,X_test,y_train,y_test = train_test_split(X,y, test_size=0.2, random_state=42)"
   ]
  },
  {
   "cell_type": "code",
   "execution_count": 56,
   "metadata": {},
   "outputs": [
    {
     "data": {
      "text/plain": [
       "0    5609\n",
       "1    5609\n",
       "Name: repay_fail, dtype: int64"
      ]
     },
     "execution_count": 56,
     "metadata": {},
     "output_type": "execute_result"
    }
   ],
   "source": [
    "y.value_counts()"
   ]
  },
  {
   "cell_type": "code",
   "execution_count": 57,
   "metadata": {},
   "outputs": [
    {
     "data": {
      "text/html": [
       "<div>\n",
       "<style scoped>\n",
       "    .dataframe tbody tr th:only-of-type {\n",
       "        vertical-align: middle;\n",
       "    }\n",
       "\n",
       "    .dataframe tbody tr th {\n",
       "        vertical-align: top;\n",
       "    }\n",
       "\n",
       "    .dataframe thead th {\n",
       "        text-align: right;\n",
       "    }\n",
       "</style>\n",
       "<table border=\"1\" class=\"dataframe\">\n",
       "  <thead>\n",
       "    <tr style=\"text-align: right;\">\n",
       "      <th></th>\n",
       "      <th>funded_amnt</th>\n",
       "      <th>term</th>\n",
       "      <th>int_rate</th>\n",
       "      <th>installment</th>\n",
       "      <th>emp_length</th>\n",
       "      <th>home_ownership</th>\n",
       "      <th>annual_inc</th>\n",
       "      <th>verification_status</th>\n",
       "      <th>loan_status</th>\n",
       "      <th>purpose</th>\n",
       "      <th>total_pymnt</th>\n",
       "      <th>total_rec_prncp</th>\n",
       "      <th>total_rec_int</th>\n",
       "      <th>last_pymnt_amnt</th>\n",
       "    </tr>\n",
       "  </thead>\n",
       "  <tbody>\n",
       "    <tr>\n",
       "      <th>21334</th>\n",
       "      <td>10000.0</td>\n",
       "      <td>36</td>\n",
       "      <td>8.90</td>\n",
       "      <td>317.54</td>\n",
       "      <td>6.0</td>\n",
       "      <td>1</td>\n",
       "      <td>60000.0</td>\n",
       "      <td>0</td>\n",
       "      <td>1</td>\n",
       "      <td>8</td>\n",
       "      <td>11431.116130</td>\n",
       "      <td>10000.00</td>\n",
       "      <td>1431.12</td>\n",
       "      <td>324.06</td>\n",
       "    </tr>\n",
       "    <tr>\n",
       "      <th>6671</th>\n",
       "      <td>4500.0</td>\n",
       "      <td>36</td>\n",
       "      <td>15.70</td>\n",
       "      <td>157.55</td>\n",
       "      <td>1.0</td>\n",
       "      <td>1</td>\n",
       "      <td>42450.0</td>\n",
       "      <td>0</td>\n",
       "      <td>Does not meet the credit policy. Status:Charge...</td>\n",
       "      <td>10</td>\n",
       "      <td>4836.490000</td>\n",
       "      <td>3594.62</td>\n",
       "      <td>1131.59</td>\n",
       "      <td>157.55</td>\n",
       "    </tr>\n",
       "    <tr>\n",
       "      <th>29941</th>\n",
       "      <td>4000.0</td>\n",
       "      <td>36</td>\n",
       "      <td>12.18</td>\n",
       "      <td>133.20</td>\n",
       "      <td>3.0</td>\n",
       "      <td>0</td>\n",
       "      <td>110000.0</td>\n",
       "      <td>0</td>\n",
       "      <td>1</td>\n",
       "      <td>1</td>\n",
       "      <td>4795.398246</td>\n",
       "      <td>4000.00</td>\n",
       "      <td>795.40</td>\n",
       "      <td>139.75</td>\n",
       "    </tr>\n",
       "    <tr>\n",
       "      <th>35020</th>\n",
       "      <td>13750.0</td>\n",
       "      <td>36</td>\n",
       "      <td>13.98</td>\n",
       "      <td>469.81</td>\n",
       "      <td>2.0</td>\n",
       "      <td>1</td>\n",
       "      <td>46996.0</td>\n",
       "      <td>0</td>\n",
       "      <td>1</td>\n",
       "      <td>2</td>\n",
       "      <td>14928.118980</td>\n",
       "      <td>13750.00</td>\n",
       "      <td>1178.12</td>\n",
       "      <td>11647.46</td>\n",
       "    </tr>\n",
       "    <tr>\n",
       "      <th>13911</th>\n",
       "      <td>15250.0</td>\n",
       "      <td>60</td>\n",
       "      <td>19.04</td>\n",
       "      <td>395.93</td>\n",
       "      <td>10.0</td>\n",
       "      <td>1</td>\n",
       "      <td>76000.0</td>\n",
       "      <td>1</td>\n",
       "      <td>0</td>\n",
       "      <td>2</td>\n",
       "      <td>8747.740000</td>\n",
       "      <td>3859.46</td>\n",
       "      <td>4848.88</td>\n",
       "      <td>396.33</td>\n",
       "    </tr>\n",
       "    <tr>\n",
       "      <th>...</th>\n",
       "      <td>...</td>\n",
       "      <td>...</td>\n",
       "      <td>...</td>\n",
       "      <td>...</td>\n",
       "      <td>...</td>\n",
       "      <td>...</td>\n",
       "      <td>...</td>\n",
       "      <td>...</td>\n",
       "      <td>...</td>\n",
       "      <td>...</td>\n",
       "      <td>...</td>\n",
       "      <td>...</td>\n",
       "      <td>...</td>\n",
       "      <td>...</td>\n",
       "    </tr>\n",
       "    <tr>\n",
       "      <th>1045</th>\n",
       "      <td>5000.0</td>\n",
       "      <td>36</td>\n",
       "      <td>6.54</td>\n",
       "      <td>153.34</td>\n",
       "      <td>1.0</td>\n",
       "      <td>0</td>\n",
       "      <td>60000.0</td>\n",
       "      <td>0</td>\n",
       "      <td>0</td>\n",
       "      <td>4</td>\n",
       "      <td>3970.000000</td>\n",
       "      <td>3362.87</td>\n",
       "      <td>468.64</td>\n",
       "      <td>153.34</td>\n",
       "    </tr>\n",
       "    <tr>\n",
       "      <th>9893</th>\n",
       "      <td>1000.0</td>\n",
       "      <td>36</td>\n",
       "      <td>5.42</td>\n",
       "      <td>30.16</td>\n",
       "      <td>10.0</td>\n",
       "      <td>1</td>\n",
       "      <td>135600.0</td>\n",
       "      <td>0</td>\n",
       "      <td>1</td>\n",
       "      <td>0</td>\n",
       "      <td>1062.618168</td>\n",
       "      <td>1000.00</td>\n",
       "      <td>62.62</td>\n",
       "      <td>297.21</td>\n",
       "    </tr>\n",
       "    <tr>\n",
       "      <th>612</th>\n",
       "      <td>2400.0</td>\n",
       "      <td>36</td>\n",
       "      <td>16.32</td>\n",
       "      <td>84.76</td>\n",
       "      <td>3.0</td>\n",
       "      <td>1</td>\n",
       "      <td>126000.0</td>\n",
       "      <td>0</td>\n",
       "      <td>1</td>\n",
       "      <td>8</td>\n",
       "      <td>3039.006575</td>\n",
       "      <td>2400.00</td>\n",
       "      <td>639.01</td>\n",
       "      <td>228.69</td>\n",
       "    </tr>\n",
       "    <tr>\n",
       "      <th>32822</th>\n",
       "      <td>12000.0</td>\n",
       "      <td>36</td>\n",
       "      <td>7.29</td>\n",
       "      <td>372.12</td>\n",
       "      <td>9.0</td>\n",
       "      <td>1</td>\n",
       "      <td>61000.0</td>\n",
       "      <td>1</td>\n",
       "      <td>1</td>\n",
       "      <td>3</td>\n",
       "      <td>13396.253670</td>\n",
       "      <td>12000.00</td>\n",
       "      <td>1396.25</td>\n",
       "      <td>386.74</td>\n",
       "    </tr>\n",
       "    <tr>\n",
       "      <th>11872</th>\n",
       "      <td>13200.0</td>\n",
       "      <td>60</td>\n",
       "      <td>14.79</td>\n",
       "      <td>312.58</td>\n",
       "      <td>10.0</td>\n",
       "      <td>1</td>\n",
       "      <td>31200.0</td>\n",
       "      <td>1</td>\n",
       "      <td>Late (31-120 days)</td>\n",
       "      <td>2</td>\n",
       "      <td>16864.620000</td>\n",
       "      <td>11394.87</td>\n",
       "      <td>5469.75</td>\n",
       "      <td>312.58</td>\n",
       "    </tr>\n",
       "  </tbody>\n",
       "</table>\n",
       "<p>8974 rows × 14 columns</p>\n",
       "</div>"
      ],
      "text/plain": [
       "       funded_amnt  term  int_rate  installment  emp_length  home_ownership  \\\n",
       "21334      10000.0    36      8.90       317.54         6.0               1   \n",
       "6671        4500.0    36     15.70       157.55         1.0               1   \n",
       "29941       4000.0    36     12.18       133.20         3.0               0   \n",
       "35020      13750.0    36     13.98       469.81         2.0               1   \n",
       "13911      15250.0    60     19.04       395.93        10.0               1   \n",
       "...            ...   ...       ...          ...         ...             ...   \n",
       "1045        5000.0    36      6.54       153.34         1.0               0   \n",
       "9893        1000.0    36      5.42        30.16        10.0               1   \n",
       "612         2400.0    36     16.32        84.76         3.0               1   \n",
       "32822      12000.0    36      7.29       372.12         9.0               1   \n",
       "11872      13200.0    60     14.79       312.58        10.0               1   \n",
       "\n",
       "       annual_inc  verification_status  \\\n",
       "21334     60000.0                    0   \n",
       "6671      42450.0                    0   \n",
       "29941    110000.0                    0   \n",
       "35020     46996.0                    0   \n",
       "13911     76000.0                    1   \n",
       "...           ...                  ...   \n",
       "1045      60000.0                    0   \n",
       "9893     135600.0                    0   \n",
       "612      126000.0                    0   \n",
       "32822     61000.0                    1   \n",
       "11872     31200.0                    1   \n",
       "\n",
       "                                             loan_status  purpose  \\\n",
       "21334                                                  1        8   \n",
       "6671   Does not meet the credit policy. Status:Charge...       10   \n",
       "29941                                                  1        1   \n",
       "35020                                                  1        2   \n",
       "13911                                                  0        2   \n",
       "...                                                  ...      ...   \n",
       "1045                                                   0        4   \n",
       "9893                                                   1        0   \n",
       "612                                                    1        8   \n",
       "32822                                                  1        3   \n",
       "11872                                 Late (31-120 days)        2   \n",
       "\n",
       "        total_pymnt  total_rec_prncp  total_rec_int  last_pymnt_amnt  \n",
       "21334  11431.116130         10000.00        1431.12           324.06  \n",
       "6671    4836.490000          3594.62        1131.59           157.55  \n",
       "29941   4795.398246          4000.00         795.40           139.75  \n",
       "35020  14928.118980         13750.00        1178.12         11647.46  \n",
       "13911   8747.740000          3859.46        4848.88           396.33  \n",
       "...             ...              ...            ...              ...  \n",
       "1045    3970.000000          3362.87         468.64           153.34  \n",
       "9893    1062.618168          1000.00          62.62           297.21  \n",
       "612     3039.006575          2400.00         639.01           228.69  \n",
       "32822  13396.253670         12000.00        1396.25           386.74  \n",
       "11872  16864.620000         11394.87        5469.75           312.58  \n",
       "\n",
       "[8974 rows x 14 columns]"
      ]
     },
     "execution_count": 57,
     "metadata": {},
     "output_type": "execute_result"
    }
   ],
   "source": [
    "X_train"
   ]
  },
  {
   "cell_type": "markdown",
   "metadata": {},
   "source": [
    "Data Visualization\n",
    "\n"
   ]
  },
  {
   "cell_type": "code",
   "execution_count": 58,
   "metadata": {},
   "outputs": [
    {
     "data": {
      "image/png": "[encoded data removed]",
      "text/plain": [
       "<Figure size 640x480 with 1 Axes>"
      ]
     },
     "metadata": {},
     "output_type": "display_data"
    }
   ],
   "source": [
    "plt.bar(list(X['emp_length'].value_counts().keys()),list(X['emp_length'].value_counts()),color = ['Blue','purple'])\n",
    "plt.show()"
   ]
  },
  {
   "cell_type": "code",
   "execution_count": 59,
   "metadata": {},
   "outputs": [
    {
     "data": {
      "image/png": "[encoded data removed]",
      "text/plain": [
       "<Figure size 640x480 with 1 Axes>"
      ]
     },
     "metadata": {},
     "output_type": "display_data"
    }
   ],
   "source": [
    "plt.bar(list(X['verification_status'].value_counts().keys()),list(X['verification_status'].value_counts()),color = ['gray','black'])\n",
    "plt.show()"
   ]
  },
  {
   "cell_type": "code",
   "execution_count": 60,
   "metadata": {},
   "outputs": [
    {
     "data": {
      "image/png": "[encoded data removed]",
      "text/plain": [
       "<Figure size 640x480 with 1 Axes>"
      ]
     },
     "metadata": {},
     "output_type": "display_data"
    }
   ],
   "source": [
    "plt.bar(list(X['home_ownership'].value_counts().keys()),list(X['home_ownership'].value_counts()),color = ['Blue','purple'])\n",
    "plt.show()"
   ]
  },
  {
   "cell_type": "markdown",
   "metadata": {},
   "source": [
    "# Making Column Transformer"
   ]
  },
  {
   "cell_type": "code",
   "execution_count": 80,
   "metadata": {},
   "outputs": [],
   "source": [
    "# one hot encoding\n",
    "# cat =[7,8,9]\n",
    "# trf1  = ColumnTransformer([\n",
    "#     (\"onehot_categorical\", OneHotEncoder(sparse=False, handle_unknown='ignore'),cat )],\n",
    "#     remainder= \"passthrough\")"
   ]
  },
  {
   "cell_type": "code",
   "execution_count": 81,
   "metadata": {},
   "outputs": [],
   "source": [
    "trf2 = ColumnTransformer([\n",
    "    ('scale',MinMaxScaler(),slice(0,10))\n",
    "])"
   ]
  },
  {
   "cell_type": "code",
   "execution_count": 82,
   "metadata": {},
   "outputs": [],
   "source": [
    "trf3 = DecisionTreeClassifier()"
   ]
  },
  {
   "cell_type": "code",
   "execution_count": 83,
   "metadata": {},
   "outputs": [
    {
     "data": {
      "text/html": [
       "<div>\n",
       "<style scoped>\n",
       "    .dataframe tbody tr th:only-of-type {\n",
       "        vertical-align: middle;\n",
       "    }\n",
       "\n",
       "    .dataframe tbody tr th {\n",
       "        vertical-align: top;\n",
       "    }\n",
       "\n",
       "    .dataframe thead th {\n",
       "        text-align: right;\n",
       "    }\n",
       "</style>\n",
       "<table border=\"1\" class=\"dataframe\">\n",
       "  <thead>\n",
       "    <tr style=\"text-align: right;\">\n",
       "      <th></th>\n",
       "      <th>funded_amnt</th>\n",
       "      <th>term</th>\n",
       "      <th>int_rate</th>\n",
       "      <th>installment</th>\n",
       "      <th>emp_length</th>\n",
       "      <th>home_ownership</th>\n",
       "      <th>annual_inc</th>\n",
       "      <th>verification_status</th>\n",
       "      <th>loan_status</th>\n",
       "      <th>purpose</th>\n",
       "      <th>total_pymnt</th>\n",
       "      <th>total_rec_prncp</th>\n",
       "      <th>total_rec_int</th>\n",
       "      <th>last_pymnt_amnt</th>\n",
       "    </tr>\n",
       "  </thead>\n",
       "  <tbody>\n",
       "    <tr>\n",
       "      <th>21334</th>\n",
       "      <td>10000.0</td>\n",
       "      <td>36</td>\n",
       "      <td>8.90</td>\n",
       "      <td>317.54</td>\n",
       "      <td>6.0</td>\n",
       "      <td>1</td>\n",
       "      <td>60000.0</td>\n",
       "      <td>0</td>\n",
       "      <td>1</td>\n",
       "      <td>8</td>\n",
       "      <td>11431.116130</td>\n",
       "      <td>10000.00</td>\n",
       "      <td>1431.12</td>\n",
       "      <td>324.06</td>\n",
       "    </tr>\n",
       "    <tr>\n",
       "      <th>6671</th>\n",
       "      <td>4500.0</td>\n",
       "      <td>36</td>\n",
       "      <td>15.70</td>\n",
       "      <td>157.55</td>\n",
       "      <td>1.0</td>\n",
       "      <td>1</td>\n",
       "      <td>42450.0</td>\n",
       "      <td>0</td>\n",
       "      <td>Does not meet the credit policy. Status:Charge...</td>\n",
       "      <td>10</td>\n",
       "      <td>4836.490000</td>\n",
       "      <td>3594.62</td>\n",
       "      <td>1131.59</td>\n",
       "      <td>157.55</td>\n",
       "    </tr>\n",
       "    <tr>\n",
       "      <th>29941</th>\n",
       "      <td>4000.0</td>\n",
       "      <td>36</td>\n",
       "      <td>12.18</td>\n",
       "      <td>133.20</td>\n",
       "      <td>3.0</td>\n",
       "      <td>0</td>\n",
       "      <td>110000.0</td>\n",
       "      <td>0</td>\n",
       "      <td>1</td>\n",
       "      <td>1</td>\n",
       "      <td>4795.398246</td>\n",
       "      <td>4000.00</td>\n",
       "      <td>795.40</td>\n",
       "      <td>139.75</td>\n",
       "    </tr>\n",
       "    <tr>\n",
       "      <th>35020</th>\n",
       "      <td>13750.0</td>\n",
       "      <td>36</td>\n",
       "      <td>13.98</td>\n",
       "      <td>469.81</td>\n",
       "      <td>2.0</td>\n",
       "      <td>1</td>\n",
       "      <td>46996.0</td>\n",
       "      <td>0</td>\n",
       "      <td>1</td>\n",
       "      <td>2</td>\n",
       "      <td>14928.118980</td>\n",
       "      <td>13750.00</td>\n",
       "      <td>1178.12</td>\n",
       "      <td>11647.46</td>\n",
       "    </tr>\n",
       "    <tr>\n",
       "      <th>13911</th>\n",
       "      <td>15250.0</td>\n",
       "      <td>60</td>\n",
       "      <td>19.04</td>\n",
       "      <td>395.93</td>\n",
       "      <td>10.0</td>\n",
       "      <td>1</td>\n",
       "      <td>76000.0</td>\n",
       "      <td>1</td>\n",
       "      <td>0</td>\n",
       "      <td>2</td>\n",
       "      <td>8747.740000</td>\n",
       "      <td>3859.46</td>\n",
       "      <td>4848.88</td>\n",
       "      <td>396.33</td>\n",
       "    </tr>\n",
       "  </tbody>\n",
       "</table>\n",
       "</div>"
      ],
      "text/plain": [
       "       funded_amnt  term  int_rate  installment  emp_length  home_ownership  \\\n",
       "21334      10000.0    36      8.90       317.54         6.0               1   \n",
       "6671        4500.0    36     15.70       157.55         1.0               1   \n",
       "29941       4000.0    36     12.18       133.20         3.0               0   \n",
       "35020      13750.0    36     13.98       469.81         2.0               1   \n",
       "13911      15250.0    60     19.04       395.93        10.0               1   \n",
       "\n",
       "       annual_inc  verification_status  \\\n",
       "21334     60000.0                    0   \n",
       "6671      42450.0                    0   \n",
       "29941    110000.0                    0   \n",
       "35020     46996.0                    0   \n",
       "13911     76000.0                    1   \n",
       "\n",
       "                                             loan_status  purpose  \\\n",
       "21334                                                  1        8   \n",
       "6671   Does not meet the credit policy. Status:Charge...       10   \n",
       "29941                                                  1        1   \n",
       "35020                                                  1        2   \n",
       "13911                                                  0        2   \n",
       "\n",
       "        total_pymnt  total_rec_prncp  total_rec_int  last_pymnt_amnt  \n",
       "21334  11431.116130         10000.00        1431.12           324.06  \n",
       "6671    4836.490000          3594.62        1131.59           157.55  \n",
       "29941   4795.398246          4000.00         795.40           139.75  \n",
       "35020  14928.118980         13750.00        1178.12         11647.46  \n",
       "13911   8747.740000          3859.46        4848.88           396.33  "
      ]
     },
     "execution_count": 83,
     "metadata": {},
     "output_type": "execute_result"
    }
   ],
   "source": [
    "X_train.head()"
   ]
  },
  {
   "cell_type": "code",
   "execution_count": 84,
   "metadata": {},
   "outputs": [],
   "source": [
    "pipe = Pipeline([\n",
    "              # ('trf1',trf1),\n",
    "                ('trf2',trf2),\n",
    "                ('trf3',trf3)\n",
    "            ])"
   ]
  },
  {
   "cell_type": "code",
   "execution_count": 85,
   "metadata": {},
   "outputs": [
    {
     "ename": "ValueError",
     "evalue": "could not convert string to float: 'Does not meet the credit policy. Status:Charged Off'",
     "output_type": "error",
     "traceback": [
      "\u001b[1;31m---------------------------------------------------------------------------\u001b[0m",
      "\u001b[1;31mValueError\u001b[0m                                Traceback (most recent call last)",
      "\u001b[1;32m~\\AppData\\Local\\Temp\\ipykernel_19212\\3565212875.py\u001b[0m in \u001b[0;36m<module>\u001b[1;34m\u001b[0m\n\u001b[1;32m----> 1\u001b[1;33m \u001b[0mpipe\u001b[0m\u001b[1;33m.\u001b[0m\u001b[0mfit\u001b[0m\u001b[1;33m(\u001b[0m\u001b[0mX_train\u001b[0m\u001b[1;33m,\u001b[0m\u001b[0my_train\u001b[0m\u001b[1;33m)\u001b[0m\u001b[1;33m\u001b[0m\u001b[1;33m\u001b[0m\u001b[0m\n\u001b[0m",
      "\u001b[1;32me:\\python\\.venv\\lib\\site-packages\\sklearn\\pipeline.py\u001b[0m in \u001b[0;36mfit\u001b[1;34m(self, X, y, **fit_params)\u001b[0m\n\u001b[0;32m    388\u001b[0m         \"\"\"\n\u001b[0;32m    389\u001b[0m         \u001b[0mfit_params_steps\u001b[0m \u001b[1;33m=\u001b[0m \u001b[0mself\u001b[0m\u001b[1;33m.\u001b[0m\u001b[0m_check_fit_params\u001b[0m\u001b[1;33m(\u001b[0m\u001b[1;33m**\u001b[0m\u001b[0mfit_params\u001b[0m\u001b[1;33m)\u001b[0m\u001b[1;33m\u001b[0m\u001b[1;33m\u001b[0m\u001b[0m\n\u001b[1;32m--> 390\u001b[1;33m         \u001b[0mXt\u001b[0m \u001b[1;33m=\u001b[0m \u001b[0mself\u001b[0m\u001b[1;33m.\u001b[0m\u001b[0m_fit\u001b[0m\u001b[1;33m(\u001b[0m\u001b[0mX\u001b[0m\u001b[1;33m,\u001b[0m \u001b[0my\u001b[0m\u001b[1;33m,\u001b[0m \u001b[1;33m**\u001b[0m\u001b[0mfit_params_steps\u001b[0m\u001b[1;33m)\u001b[0m\u001b[1;33m\u001b[0m\u001b[1;33m\u001b[0m\u001b[0m\n\u001b[0m\u001b[0;32m    391\u001b[0m         \u001b[1;32mwith\u001b[0m \u001b[0m_print_elapsed_time\u001b[0m\u001b[1;33m(\u001b[0m\u001b[1;34m\"Pipeline\"\u001b[0m\u001b[1;33m,\u001b[0m \u001b[0mself\u001b[0m\u001b[1;33m.\u001b[0m\u001b[0m_log_message\u001b[0m\u001b[1;33m(\u001b[0m\u001b[0mlen\u001b[0m\u001b[1;33m(\u001b[0m\u001b[0mself\u001b[0m\u001b[1;33m.\u001b[0m\u001b[0msteps\u001b[0m\u001b[1;33m)\u001b[0m \u001b[1;33m-\u001b[0m \u001b[1;36m1\u001b[0m\u001b[1;33m)\u001b[0m\u001b[1;33m)\u001b[0m\u001b[1;33m:\u001b[0m\u001b[1;33m\u001b[0m\u001b[1;33m\u001b[0m\u001b[0m\n\u001b[0;32m    392\u001b[0m             \u001b[1;32mif\u001b[0m \u001b[0mself\u001b[0m\u001b[1;33m.\u001b[0m\u001b[0m_final_estimator\u001b[0m \u001b[1;33m!=\u001b[0m \u001b[1;34m\"passthrough\"\u001b[0m\u001b[1;33m:\u001b[0m\u001b[1;33m\u001b[0m\u001b[1;33m\u001b[0m\u001b[0m\n",
      "\u001b[1;32me:\\python\\.venv\\lib\\site-packages\\sklearn\\pipeline.py\u001b[0m in \u001b[0;36m_fit\u001b[1;34m(self, X, y, **fit_params_steps)\u001b[0m\n\u001b[0;32m    353\u001b[0m                 \u001b[0mmessage_clsname\u001b[0m\u001b[1;33m=\u001b[0m\u001b[1;34m\"Pipeline\"\u001b[0m\u001b[1;33m,\u001b[0m\u001b[1;33m\u001b[0m\u001b[1;33m\u001b[0m\u001b[0m\n\u001b[0;32m    354\u001b[0m                 \u001b[0mmessage\u001b[0m\u001b[1;33m=\u001b[0m\u001b[0mself\u001b[0m\u001b[1;33m.\u001b[0m\u001b[0m_log_message\u001b[0m\u001b[1;33m(\u001b[0m\u001b[0mstep_idx\u001b[0m\u001b[1;33m)\u001b[0m\u001b[1;33m,\u001b[0m\u001b[1;33m\u001b[0m\u001b[1;33m\u001b[0m\u001b[0m\n\u001b[1;32m--> 355\u001b[1;33m                 \u001b[1;33m**\u001b[0m\u001b[0mfit_params_steps\u001b[0m\u001b[1;33m[\u001b[0m\u001b[0mname\u001b[0m\u001b[1;33m]\u001b[0m\u001b[1;33m,\u001b[0m\u001b[1;33m\u001b[0m\u001b[1;33m\u001b[0m\u001b[0m\n\u001b[0m\u001b[0;32m    356\u001b[0m             )\n\u001b[0;32m    357\u001b[0m             \u001b[1;31m# Replace the transformer of the step with the fitted\u001b[0m\u001b[1;33m\u001b[0m\u001b[1;33m\u001b[0m\u001b[1;33m\u001b[0m\u001b[0m\n",
      "\u001b[1;32me:\\python\\.venv\\lib\\site-packages\\joblib\\memory.py\u001b[0m in \u001b[0;36m__call__\u001b[1;34m(self, *args, **kwargs)\u001b[0m\n\u001b[0;32m    351\u001b[0m \u001b[1;33m\u001b[0m\u001b[0m\n\u001b[0;32m    352\u001b[0m     \u001b[1;32mdef\u001b[0m \u001b[0m__call__\u001b[0m\u001b[1;33m(\u001b[0m\u001b[0mself\u001b[0m\u001b[1;33m,\u001b[0m \u001b[1;33m*\u001b[0m\u001b[0margs\u001b[0m\u001b[1;33m,\u001b[0m \u001b[1;33m**\u001b[0m\u001b[0mkwargs\u001b[0m\u001b[1;33m)\u001b[0m\u001b[1;33m:\u001b[0m\u001b[1;33m\u001b[0m\u001b[1;33m\u001b[0m\u001b[0m\n\u001b[1;32m--> 353\u001b[1;33m         \u001b[1;32mreturn\u001b[0m \u001b[0mself\u001b[0m\u001b[1;33m.\u001b[0m\u001b[0mfunc\u001b[0m\u001b[1;33m(\u001b[0m\u001b[1;33m*\u001b[0m\u001b[0margs\u001b[0m\u001b[1;33m,\u001b[0m \u001b[1;33m**\u001b[0m\u001b[0mkwargs\u001b[0m\u001b[1;33m)\u001b[0m\u001b[1;33m\u001b[0m\u001b[1;33m\u001b[0m\u001b[0m\n\u001b[0m\u001b[0;32m    354\u001b[0m \u001b[1;33m\u001b[0m\u001b[0m\n\u001b[0;32m    355\u001b[0m     \u001b[1;32mdef\u001b[0m \u001b[0mcall_and_shelve\u001b[0m\u001b[1;33m(\u001b[0m\u001b[0mself\u001b[0m\u001b[1;33m,\u001b[0m \u001b[1;33m*\u001b[0m\u001b[0margs\u001b[0m\u001b[1;33m,\u001b[0m \u001b[1;33m**\u001b[0m\u001b[0mkwargs\u001b[0m\u001b[1;33m)\u001b[0m\u001b[1;33m:\u001b[0m\u001b[1;33m\u001b[0m\u001b[1;33m\u001b[0m\u001b[0m\n",
      "\u001b[1;32me:\\python\\.venv\\lib\\site-packages\\sklearn\\pipeline.py\u001b[0m in \u001b[0;36m_fit_transform_one\u001b[1;34m(transformer, X, y, weight, message_clsname, message, **fit_params)\u001b[0m\n\u001b[0;32m    891\u001b[0m     \u001b[1;32mwith\u001b[0m \u001b[0m_print_elapsed_time\u001b[0m\u001b[1;33m(\u001b[0m\u001b[0mmessage_clsname\u001b[0m\u001b[1;33m,\u001b[0m \u001b[0mmessage\u001b[0m\u001b[1;33m)\u001b[0m\u001b[1;33m:\u001b[0m\u001b[1;33m\u001b[0m\u001b[1;33m\u001b[0m\u001b[0m\n\u001b[0;32m    892\u001b[0m         \u001b[1;32mif\u001b[0m \u001b[0mhasattr\u001b[0m\u001b[1;33m(\u001b[0m\u001b[0mtransformer\u001b[0m\u001b[1;33m,\u001b[0m \u001b[1;34m\"fit_transform\"\u001b[0m\u001b[1;33m)\u001b[0m\u001b[1;33m:\u001b[0m\u001b[1;33m\u001b[0m\u001b[1;33m\u001b[0m\u001b[0m\n\u001b[1;32m--> 893\u001b[1;33m             \u001b[0mres\u001b[0m \u001b[1;33m=\u001b[0m \u001b[0mtransformer\u001b[0m\u001b[1;33m.\u001b[0m\u001b[0mfit_transform\u001b[0m\u001b[1;33m(\u001b[0m\u001b[0mX\u001b[0m\u001b[1;33m,\u001b[0m \u001b[0my\u001b[0m\u001b[1;33m,\u001b[0m \u001b[1;33m**\u001b[0m\u001b[0mfit_params\u001b[0m\u001b[1;33m)\u001b[0m\u001b[1;33m\u001b[0m\u001b[1;33m\u001b[0m\u001b[0m\n\u001b[0m\u001b[0;32m    894\u001b[0m         \u001b[1;32melse\u001b[0m\u001b[1;33m:\u001b[0m\u001b[1;33m\u001b[0m\u001b[1;33m\u001b[0m\u001b[0m\n\u001b[0;32m    895\u001b[0m             \u001b[0mres\u001b[0m \u001b[1;33m=\u001b[0m \u001b[0mtransformer\u001b[0m\u001b[1;33m.\u001b[0m\u001b[0mfit\u001b[0m\u001b[1;33m(\u001b[0m\u001b[0mX\u001b[0m\u001b[1;33m,\u001b[0m \u001b[0my\u001b[0m\u001b[1;33m,\u001b[0m \u001b[1;33m**\u001b[0m\u001b[0mfit_params\u001b[0m\u001b[1;33m)\u001b[0m\u001b[1;33m.\u001b[0m\u001b[0mtransform\u001b[0m\u001b[1;33m(\u001b[0m\u001b[0mX\u001b[0m\u001b[1;33m)\u001b[0m\u001b[1;33m\u001b[0m\u001b[1;33m\u001b[0m\u001b[0m\n",
      "\u001b[1;32me:\\python\\.venv\\lib\\site-packages\\sklearn\\compose\\_column_transformer.py\u001b[0m in \u001b[0;36mfit_transform\u001b[1;34m(self, X, y)\u001b[0m\n\u001b[0;32m    673\u001b[0m         \u001b[0mself\u001b[0m\u001b[1;33m.\u001b[0m\u001b[0m_validate_remainder\u001b[0m\u001b[1;33m(\u001b[0m\u001b[0mX\u001b[0m\u001b[1;33m)\u001b[0m\u001b[1;33m\u001b[0m\u001b[1;33m\u001b[0m\u001b[0m\n\u001b[0;32m    674\u001b[0m \u001b[1;33m\u001b[0m\u001b[0m\n\u001b[1;32m--> 675\u001b[1;33m         \u001b[0mresult\u001b[0m \u001b[1;33m=\u001b[0m \u001b[0mself\u001b[0m\u001b[1;33m.\u001b[0m\u001b[0m_fit_transform\u001b[0m\u001b[1;33m(\u001b[0m\u001b[0mX\u001b[0m\u001b[1;33m,\u001b[0m \u001b[0my\u001b[0m\u001b[1;33m,\u001b[0m \u001b[0m_fit_transform_one\u001b[0m\u001b[1;33m)\u001b[0m\u001b[1;33m\u001b[0m\u001b[1;33m\u001b[0m\u001b[0m\n\u001b[0m\u001b[0;32m    676\u001b[0m \u001b[1;33m\u001b[0m\u001b[0m\n\u001b[0;32m    677\u001b[0m         \u001b[1;32mif\u001b[0m \u001b[1;32mnot\u001b[0m \u001b[0mresult\u001b[0m\u001b[1;33m:\u001b[0m\u001b[1;33m\u001b[0m\u001b[1;33m\u001b[0m\u001b[0m\n",
      "\u001b[1;32me:\\python\\.venv\\lib\\site-packages\\sklearn\\compose\\_column_transformer.py\u001b[0m in \u001b[0;36m_fit_transform\u001b[1;34m(self, X, y, func, fitted, column_as_strings)\u001b[0m\n\u001b[0;32m    613\u001b[0m                     \u001b[0mmessage\u001b[0m\u001b[1;33m=\u001b[0m\u001b[0mself\u001b[0m\u001b[1;33m.\u001b[0m\u001b[0m_log_message\u001b[0m\u001b[1;33m(\u001b[0m\u001b[0mname\u001b[0m\u001b[1;33m,\u001b[0m \u001b[0midx\u001b[0m\u001b[1;33m,\u001b[0m \u001b[0mlen\u001b[0m\u001b[1;33m(\u001b[0m\u001b[0mtransformers\u001b[0m\u001b[1;33m)\u001b[0m\u001b[1;33m)\u001b[0m\u001b[1;33m,\u001b[0m\u001b[1;33m\u001b[0m\u001b[1;33m\u001b[0m\u001b[0m\n\u001b[0;32m    614\u001b[0m                 )\n\u001b[1;32m--> 615\u001b[1;33m                 \u001b[1;32mfor\u001b[0m \u001b[0midx\u001b[0m\u001b[1;33m,\u001b[0m \u001b[1;33m(\u001b[0m\u001b[0mname\u001b[0m\u001b[1;33m,\u001b[0m \u001b[0mtrans\u001b[0m\u001b[1;33m,\u001b[0m \u001b[0mcolumn\u001b[0m\u001b[1;33m,\u001b[0m \u001b[0mweight\u001b[0m\u001b[1;33m)\u001b[0m \u001b[1;32min\u001b[0m \u001b[0menumerate\u001b[0m\u001b[1;33m(\u001b[0m\u001b[0mtransformers\u001b[0m\u001b[1;33m,\u001b[0m \u001b[1;36m1\u001b[0m\u001b[1;33m)\u001b[0m\u001b[1;33m\u001b[0m\u001b[1;33m\u001b[0m\u001b[0m\n\u001b[0m\u001b[0;32m    616\u001b[0m             )\n\u001b[0;32m    617\u001b[0m         \u001b[1;32mexcept\u001b[0m \u001b[0mValueError\u001b[0m \u001b[1;32mas\u001b[0m \u001b[0me\u001b[0m\u001b[1;33m:\u001b[0m\u001b[1;33m\u001b[0m\u001b[1;33m\u001b[0m\u001b[0m\n",
      "\u001b[1;32me:\\python\\.venv\\lib\\site-packages\\joblib\\parallel.py\u001b[0m in \u001b[0;36m__call__\u001b[1;34m(self, iterable)\u001b[0m\n\u001b[0;32m   1861\u001b[0m             \u001b[0moutput\u001b[0m \u001b[1;33m=\u001b[0m \u001b[0mself\u001b[0m\u001b[1;33m.\u001b[0m\u001b[0m_get_sequential_output\u001b[0m\u001b[1;33m(\u001b[0m\u001b[0miterable\u001b[0m\u001b[1;33m)\u001b[0m\u001b[1;33m\u001b[0m\u001b[1;33m\u001b[0m\u001b[0m\n\u001b[0;32m   1862\u001b[0m             \u001b[0mnext\u001b[0m\u001b[1;33m(\u001b[0m\u001b[0moutput\u001b[0m\u001b[1;33m)\u001b[0m\u001b[1;33m\u001b[0m\u001b[1;33m\u001b[0m\u001b[0m\n\u001b[1;32m-> 1863\u001b[1;33m             \u001b[1;32mreturn\u001b[0m \u001b[0moutput\u001b[0m \u001b[1;32mif\u001b[0m \u001b[0mself\u001b[0m\u001b[1;33m.\u001b[0m\u001b[0mreturn_generator\u001b[0m \u001b[1;32melse\u001b[0m \u001b[0mlist\u001b[0m\u001b[1;33m(\u001b[0m\u001b[0moutput\u001b[0m\u001b[1;33m)\u001b[0m\u001b[1;33m\u001b[0m\u001b[1;33m\u001b[0m\u001b[0m\n\u001b[0m\u001b[0;32m   1864\u001b[0m \u001b[1;33m\u001b[0m\u001b[0m\n\u001b[0;32m   1865\u001b[0m         \u001b[1;31m# Let's create an ID that uniquely identifies the current call. If the\u001b[0m\u001b[1;33m\u001b[0m\u001b[1;33m\u001b[0m\u001b[1;33m\u001b[0m\u001b[0m\n",
      "\u001b[1;32me:\\python\\.venv\\lib\\site-packages\\joblib\\parallel.py\u001b[0m in \u001b[0;36m_get_sequential_output\u001b[1;34m(self, iterable)\u001b[0m\n\u001b[0;32m   1790\u001b[0m                 \u001b[0mself\u001b[0m\u001b[1;33m.\u001b[0m\u001b[0mn_dispatched_batches\u001b[0m \u001b[1;33m+=\u001b[0m \u001b[1;36m1\u001b[0m\u001b[1;33m\u001b[0m\u001b[1;33m\u001b[0m\u001b[0m\n\u001b[0;32m   1791\u001b[0m                 \u001b[0mself\u001b[0m\u001b[1;33m.\u001b[0m\u001b[0mn_dispatched_tasks\u001b[0m \u001b[1;33m+=\u001b[0m \u001b[1;36m1\u001b[0m\u001b[1;33m\u001b[0m\u001b[1;33m\u001b[0m\u001b[0m\n\u001b[1;32m-> 1792\u001b[1;33m                 \u001b[0mres\u001b[0m \u001b[1;33m=\u001b[0m \u001b[0mfunc\u001b[0m\u001b[1;33m(\u001b[0m\u001b[1;33m*\u001b[0m\u001b[0margs\u001b[0m\u001b[1;33m,\u001b[0m \u001b[1;33m**\u001b[0m\u001b[0mkwargs\u001b[0m\u001b[1;33m)\u001b[0m\u001b[1;33m\u001b[0m\u001b[1;33m\u001b[0m\u001b[0m\n\u001b[0m\u001b[0;32m   1793\u001b[0m                 \u001b[0mself\u001b[0m\u001b[1;33m.\u001b[0m\u001b[0mn_completed_tasks\u001b[0m \u001b[1;33m+=\u001b[0m \u001b[1;36m1\u001b[0m\u001b[1;33m\u001b[0m\u001b[1;33m\u001b[0m\u001b[0m\n\u001b[0;32m   1794\u001b[0m                 \u001b[0mself\u001b[0m\u001b[1;33m.\u001b[0m\u001b[0mprint_progress\u001b[0m\u001b[1;33m(\u001b[0m\u001b[1;33m)\u001b[0m\u001b[1;33m\u001b[0m\u001b[1;33m\u001b[0m\u001b[0m\n",
      "\u001b[1;32me:\\python\\.venv\\lib\\site-packages\\sklearn\\utils\\fixes.py\u001b[0m in \u001b[0;36m__call__\u001b[1;34m(self, *args, **kwargs)\u001b[0m\n\u001b[0;32m    214\u001b[0m     \u001b[1;32mdef\u001b[0m \u001b[0m__call__\u001b[0m\u001b[1;33m(\u001b[0m\u001b[0mself\u001b[0m\u001b[1;33m,\u001b[0m \u001b[1;33m*\u001b[0m\u001b[0margs\u001b[0m\u001b[1;33m,\u001b[0m \u001b[1;33m**\u001b[0m\u001b[0mkwargs\u001b[0m\u001b[1;33m)\u001b[0m\u001b[1;33m:\u001b[0m\u001b[1;33m\u001b[0m\u001b[1;33m\u001b[0m\u001b[0m\n\u001b[0;32m    215\u001b[0m         \u001b[1;32mwith\u001b[0m \u001b[0mconfig_context\u001b[0m\u001b[1;33m(\u001b[0m\u001b[1;33m**\u001b[0m\u001b[0mself\u001b[0m\u001b[1;33m.\u001b[0m\u001b[0mconfig\u001b[0m\u001b[1;33m)\u001b[0m\u001b[1;33m:\u001b[0m\u001b[1;33m\u001b[0m\u001b[1;33m\u001b[0m\u001b[0m\n\u001b[1;32m--> 216\u001b[1;33m             \u001b[1;32mreturn\u001b[0m \u001b[0mself\u001b[0m\u001b[1;33m.\u001b[0m\u001b[0mfunction\u001b[0m\u001b[1;33m(\u001b[0m\u001b[1;33m*\u001b[0m\u001b[0margs\u001b[0m\u001b[1;33m,\u001b[0m \u001b[1;33m**\u001b[0m\u001b[0mkwargs\u001b[0m\u001b[1;33m)\u001b[0m\u001b[1;33m\u001b[0m\u001b[1;33m\u001b[0m\u001b[0m\n\u001b[0m\u001b[0;32m    217\u001b[0m \u001b[1;33m\u001b[0m\u001b[0m\n\u001b[0;32m    218\u001b[0m \u001b[1;33m\u001b[0m\u001b[0m\n",
      "\u001b[1;32me:\\python\\.venv\\lib\\site-packages\\sklearn\\pipeline.py\u001b[0m in \u001b[0;36m_fit_transform_one\u001b[1;34m(transformer, X, y, weight, message_clsname, message, **fit_params)\u001b[0m\n\u001b[0;32m    891\u001b[0m     \u001b[1;32mwith\u001b[0m \u001b[0m_print_elapsed_time\u001b[0m\u001b[1;33m(\u001b[0m\u001b[0mmessage_clsname\u001b[0m\u001b[1;33m,\u001b[0m \u001b[0mmessage\u001b[0m\u001b[1;33m)\u001b[0m\u001b[1;33m:\u001b[0m\u001b[1;33m\u001b[0m\u001b[1;33m\u001b[0m\u001b[0m\n\u001b[0;32m    892\u001b[0m         \u001b[1;32mif\u001b[0m \u001b[0mhasattr\u001b[0m\u001b[1;33m(\u001b[0m\u001b[0mtransformer\u001b[0m\u001b[1;33m,\u001b[0m \u001b[1;34m\"fit_transform\"\u001b[0m\u001b[1;33m)\u001b[0m\u001b[1;33m:\u001b[0m\u001b[1;33m\u001b[0m\u001b[1;33m\u001b[0m\u001b[0m\n\u001b[1;32m--> 893\u001b[1;33m             \u001b[0mres\u001b[0m \u001b[1;33m=\u001b[0m \u001b[0mtransformer\u001b[0m\u001b[1;33m.\u001b[0m\u001b[0mfit_transform\u001b[0m\u001b[1;33m(\u001b[0m\u001b[0mX\u001b[0m\u001b[1;33m,\u001b[0m \u001b[0my\u001b[0m\u001b[1;33m,\u001b[0m \u001b[1;33m**\u001b[0m\u001b[0mfit_params\u001b[0m\u001b[1;33m)\u001b[0m\u001b[1;33m\u001b[0m\u001b[1;33m\u001b[0m\u001b[0m\n\u001b[0m\u001b[0;32m    894\u001b[0m         \u001b[1;32melse\u001b[0m\u001b[1;33m:\u001b[0m\u001b[1;33m\u001b[0m\u001b[1;33m\u001b[0m\u001b[0m\n\u001b[0;32m    895\u001b[0m             \u001b[0mres\u001b[0m \u001b[1;33m=\u001b[0m \u001b[0mtransformer\u001b[0m\u001b[1;33m.\u001b[0m\u001b[0mfit\u001b[0m\u001b[1;33m(\u001b[0m\u001b[0mX\u001b[0m\u001b[1;33m,\u001b[0m \u001b[0my\u001b[0m\u001b[1;33m,\u001b[0m \u001b[1;33m**\u001b[0m\u001b[0mfit_params\u001b[0m\u001b[1;33m)\u001b[0m\u001b[1;33m.\u001b[0m\u001b[0mtransform\u001b[0m\u001b[1;33m(\u001b[0m\u001b[0mX\u001b[0m\u001b[1;33m)\u001b[0m\u001b[1;33m\u001b[0m\u001b[1;33m\u001b[0m\u001b[0m\n",
      "\u001b[1;32me:\\python\\.venv\\lib\\site-packages\\sklearn\\base.py\u001b[0m in \u001b[0;36mfit_transform\u001b[1;34m(self, X, y, **fit_params)\u001b[0m\n\u001b[0;32m    853\u001b[0m         \u001b[1;32melse\u001b[0m\u001b[1;33m:\u001b[0m\u001b[1;33m\u001b[0m\u001b[1;33m\u001b[0m\u001b[0m\n\u001b[0;32m    854\u001b[0m             \u001b[1;31m# fit method of arity 2 (supervised transformation)\u001b[0m\u001b[1;33m\u001b[0m\u001b[1;33m\u001b[0m\u001b[1;33m\u001b[0m\u001b[0m\n\u001b[1;32m--> 855\u001b[1;33m             \u001b[1;32mreturn\u001b[0m \u001b[0mself\u001b[0m\u001b[1;33m.\u001b[0m\u001b[0mfit\u001b[0m\u001b[1;33m(\u001b[0m\u001b[0mX\u001b[0m\u001b[1;33m,\u001b[0m \u001b[0my\u001b[0m\u001b[1;33m,\u001b[0m \u001b[1;33m**\u001b[0m\u001b[0mfit_params\u001b[0m\u001b[1;33m)\u001b[0m\u001b[1;33m.\u001b[0m\u001b[0mtransform\u001b[0m\u001b[1;33m(\u001b[0m\u001b[0mX\u001b[0m\u001b[1;33m)\u001b[0m\u001b[1;33m\u001b[0m\u001b[1;33m\u001b[0m\u001b[0m\n\u001b[0m\u001b[0;32m    856\u001b[0m \u001b[1;33m\u001b[0m\u001b[0m\n\u001b[0;32m    857\u001b[0m \u001b[1;33m\u001b[0m\u001b[0m\n",
      "\u001b[1;32me:\\python\\.venv\\lib\\site-packages\\sklearn\\preprocessing\\_data.py\u001b[0m in \u001b[0;36mfit\u001b[1;34m(self, X, y)\u001b[0m\n\u001b[0;32m    414\u001b[0m         \u001b[1;31m# Reset internal state before fitting\u001b[0m\u001b[1;33m\u001b[0m\u001b[1;33m\u001b[0m\u001b[1;33m\u001b[0m\u001b[0m\n\u001b[0;32m    415\u001b[0m         \u001b[0mself\u001b[0m\u001b[1;33m.\u001b[0m\u001b[0m_reset\u001b[0m\u001b[1;33m(\u001b[0m\u001b[1;33m)\u001b[0m\u001b[1;33m\u001b[0m\u001b[1;33m\u001b[0m\u001b[0m\n\u001b[1;32m--> 416\u001b[1;33m         \u001b[1;32mreturn\u001b[0m \u001b[0mself\u001b[0m\u001b[1;33m.\u001b[0m\u001b[0mpartial_fit\u001b[0m\u001b[1;33m(\u001b[0m\u001b[0mX\u001b[0m\u001b[1;33m,\u001b[0m \u001b[0my\u001b[0m\u001b[1;33m)\u001b[0m\u001b[1;33m\u001b[0m\u001b[1;33m\u001b[0m\u001b[0m\n\u001b[0m\u001b[0;32m    417\u001b[0m \u001b[1;33m\u001b[0m\u001b[0m\n\u001b[0;32m    418\u001b[0m     \u001b[1;32mdef\u001b[0m \u001b[0mpartial_fit\u001b[0m\u001b[1;33m(\u001b[0m\u001b[0mself\u001b[0m\u001b[1;33m,\u001b[0m \u001b[0mX\u001b[0m\u001b[1;33m,\u001b[0m \u001b[0my\u001b[0m\u001b[1;33m=\u001b[0m\u001b[1;32mNone\u001b[0m\u001b[1;33m)\u001b[0m\u001b[1;33m:\u001b[0m\u001b[1;33m\u001b[0m\u001b[1;33m\u001b[0m\u001b[0m\n",
      "\u001b[1;32me:\\python\\.venv\\lib\\site-packages\\sklearn\\preprocessing\\_data.py\u001b[0m in \u001b[0;36mpartial_fit\u001b[1;34m(self, X, y)\u001b[0m\n\u001b[0;32m    456\u001b[0m             \u001b[0mestimator\u001b[0m\u001b[1;33m=\u001b[0m\u001b[0mself\u001b[0m\u001b[1;33m,\u001b[0m\u001b[1;33m\u001b[0m\u001b[1;33m\u001b[0m\u001b[0m\n\u001b[0;32m    457\u001b[0m             \u001b[0mdtype\u001b[0m\u001b[1;33m=\u001b[0m\u001b[0mFLOAT_DTYPES\u001b[0m\u001b[1;33m,\u001b[0m\u001b[1;33m\u001b[0m\u001b[1;33m\u001b[0m\u001b[0m\n\u001b[1;32m--> 458\u001b[1;33m             \u001b[0mforce_all_finite\u001b[0m\u001b[1;33m=\u001b[0m\u001b[1;34m\"allow-nan\"\u001b[0m\u001b[1;33m,\u001b[0m\u001b[1;33m\u001b[0m\u001b[1;33m\u001b[0m\u001b[0m\n\u001b[0m\u001b[0;32m    459\u001b[0m         )\n\u001b[0;32m    460\u001b[0m \u001b[1;33m\u001b[0m\u001b[0m\n",
      "\u001b[1;32me:\\python\\.venv\\lib\\site-packages\\sklearn\\base.py\u001b[0m in \u001b[0;36m_validate_data\u001b[1;34m(self, X, y, reset, validate_separately, **check_params)\u001b[0m\n\u001b[0;32m    564\u001b[0m             \u001b[1;32mraise\u001b[0m \u001b[0mValueError\u001b[0m\u001b[1;33m(\u001b[0m\u001b[1;34m\"Validation should be done on X, y or both.\"\u001b[0m\u001b[1;33m)\u001b[0m\u001b[1;33m\u001b[0m\u001b[1;33m\u001b[0m\u001b[0m\n\u001b[0;32m    565\u001b[0m         \u001b[1;32melif\u001b[0m \u001b[1;32mnot\u001b[0m \u001b[0mno_val_X\u001b[0m \u001b[1;32mand\u001b[0m \u001b[0mno_val_y\u001b[0m\u001b[1;33m:\u001b[0m\u001b[1;33m\u001b[0m\u001b[1;33m\u001b[0m\u001b[0m\n\u001b[1;32m--> 566\u001b[1;33m             \u001b[0mX\u001b[0m \u001b[1;33m=\u001b[0m \u001b[0mcheck_array\u001b[0m\u001b[1;33m(\u001b[0m\u001b[0mX\u001b[0m\u001b[1;33m,\u001b[0m \u001b[1;33m**\u001b[0m\u001b[0mcheck_params\u001b[0m\u001b[1;33m)\u001b[0m\u001b[1;33m\u001b[0m\u001b[1;33m\u001b[0m\u001b[0m\n\u001b[0m\u001b[0;32m    567\u001b[0m             \u001b[0mout\u001b[0m \u001b[1;33m=\u001b[0m \u001b[0mX\u001b[0m\u001b[1;33m\u001b[0m\u001b[1;33m\u001b[0m\u001b[0m\n\u001b[0;32m    568\u001b[0m         \u001b[1;32melif\u001b[0m \u001b[0mno_val_X\u001b[0m \u001b[1;32mand\u001b[0m \u001b[1;32mnot\u001b[0m \u001b[0mno_val_y\u001b[0m\u001b[1;33m:\u001b[0m\u001b[1;33m\u001b[0m\u001b[1;33m\u001b[0m\u001b[0m\n",
      "\u001b[1;32me:\\python\\.venv\\lib\\site-packages\\sklearn\\utils\\validation.py\u001b[0m in \u001b[0;36mcheck_array\u001b[1;34m(array, accept_sparse, accept_large_sparse, dtype, order, copy, force_all_finite, ensure_2d, allow_nd, ensure_min_samples, ensure_min_features, estimator)\u001b[0m\n\u001b[0;32m    744\u001b[0m                     \u001b[0marray\u001b[0m \u001b[1;33m=\u001b[0m \u001b[0marray\u001b[0m\u001b[1;33m.\u001b[0m\u001b[0mastype\u001b[0m\u001b[1;33m(\u001b[0m\u001b[0mdtype\u001b[0m\u001b[1;33m,\u001b[0m \u001b[0mcasting\u001b[0m\u001b[1;33m=\u001b[0m\u001b[1;34m\"unsafe\"\u001b[0m\u001b[1;33m,\u001b[0m \u001b[0mcopy\u001b[0m\u001b[1;33m=\u001b[0m\u001b[1;32mFalse\u001b[0m\u001b[1;33m)\u001b[0m\u001b[1;33m\u001b[0m\u001b[1;33m\u001b[0m\u001b[0m\n\u001b[0;32m    745\u001b[0m                 \u001b[1;32melse\u001b[0m\u001b[1;33m:\u001b[0m\u001b[1;33m\u001b[0m\u001b[1;33m\u001b[0m\u001b[0m\n\u001b[1;32m--> 746\u001b[1;33m                     \u001b[0marray\u001b[0m \u001b[1;33m=\u001b[0m \u001b[0mnp\u001b[0m\u001b[1;33m.\u001b[0m\u001b[0masarray\u001b[0m\u001b[1;33m(\u001b[0m\u001b[0marray\u001b[0m\u001b[1;33m,\u001b[0m \u001b[0morder\u001b[0m\u001b[1;33m=\u001b[0m\u001b[0morder\u001b[0m\u001b[1;33m,\u001b[0m \u001b[0mdtype\u001b[0m\u001b[1;33m=\u001b[0m\u001b[0mdtype\u001b[0m\u001b[1;33m)\u001b[0m\u001b[1;33m\u001b[0m\u001b[1;33m\u001b[0m\u001b[0m\n\u001b[0m\u001b[0;32m    747\u001b[0m             \u001b[1;32mexcept\u001b[0m \u001b[0mComplexWarning\u001b[0m \u001b[1;32mas\u001b[0m \u001b[0mcomplex_warning\u001b[0m\u001b[1;33m:\u001b[0m\u001b[1;33m\u001b[0m\u001b[1;33m\u001b[0m\u001b[0m\n\u001b[0;32m    748\u001b[0m                 raise ValueError(\n",
      "\u001b[1;32me:\\python\\.venv\\lib\\site-packages\\pandas\\core\\generic.py\u001b[0m in \u001b[0;36m__array__\u001b[1;34m(self, dtype)\u001b[0m\n\u001b[0;32m   1991\u001b[0m \u001b[1;33m\u001b[0m\u001b[0m\n\u001b[0;32m   1992\u001b[0m     \u001b[1;32mdef\u001b[0m \u001b[0m__array__\u001b[0m\u001b[1;33m(\u001b[0m\u001b[0mself\u001b[0m\u001b[1;33m,\u001b[0m \u001b[0mdtype\u001b[0m\u001b[1;33m:\u001b[0m \u001b[0mNpDtype\u001b[0m \u001b[1;33m|\u001b[0m \u001b[1;32mNone\u001b[0m \u001b[1;33m=\u001b[0m \u001b[1;32mNone\u001b[0m\u001b[1;33m)\u001b[0m \u001b[1;33m->\u001b[0m \u001b[0mnp\u001b[0m\u001b[1;33m.\u001b[0m\u001b[0mndarray\u001b[0m\u001b[1;33m:\u001b[0m\u001b[1;33m\u001b[0m\u001b[1;33m\u001b[0m\u001b[0m\n\u001b[1;32m-> 1993\u001b[1;33m         \u001b[1;32mreturn\u001b[0m \u001b[0mnp\u001b[0m\u001b[1;33m.\u001b[0m\u001b[0masarray\u001b[0m\u001b[1;33m(\u001b[0m\u001b[0mself\u001b[0m\u001b[1;33m.\u001b[0m\u001b[0m_values\u001b[0m\u001b[1;33m,\u001b[0m \u001b[0mdtype\u001b[0m\u001b[1;33m=\u001b[0m\u001b[0mdtype\u001b[0m\u001b[1;33m)\u001b[0m\u001b[1;33m\u001b[0m\u001b[1;33m\u001b[0m\u001b[0m\n\u001b[0m\u001b[0;32m   1994\u001b[0m \u001b[1;33m\u001b[0m\u001b[0m\n\u001b[0;32m   1995\u001b[0m     def __array_wrap__(\n",
      "\u001b[1;31mValueError\u001b[0m: could not convert string to float: 'Does not meet the credit policy. Status:Charged Off'"
     ]
    }
   ],
   "source": [
    "pipe.fit(X_train,y_train)"
   ]
  },
  {
   "cell_type": "code",
   "execution_count": null,
   "metadata": {},
   "outputs": [
    {
     "data": {
      "text/html": [
       "<style>#sk-50a10c23-2a62-4455-ba73-a675101a2143 {color: black;background-color: white;}#sk-50a10c23-2a62-4455-ba73-a675101a2143 pre{padding: 0;}#sk-50a10c23-2a62-4455-ba73-a675101a2143 div.sk-toggleable {background-color: white;}#sk-50a10c23-2a62-4455-ba73-a675101a2143 label.sk-toggleable__label {cursor: pointer;display: block;width: 100%;margin-bottom: 0;padding: 0.3em;box-sizing: border-box;text-align: center;}#sk-50a10c23-2a62-4455-ba73-a675101a2143 label.sk-toggleable__label-arrow:before {content: \"▸\";float: left;margin-right: 0.25em;color: #696969;}#sk-50a10c23-2a62-4455-ba73-a675101a2143 label.sk-toggleable__label-arrow:hover:before {color: black;}#sk-50a10c23-2a62-4455-ba73-a675101a2143 div.sk-estimator:hover label.sk-toggleable__label-arrow:before {color: black;}#sk-50a10c23-2a62-4455-ba73-a675101a2143 div.sk-toggleable__content {max-height: 0;max-width: 0;overflow: hidden;text-align: left;background-color: #f0f8ff;}#sk-50a10c23-2a62-4455-ba73-a675101a2143 div.sk-toggleable__content pre {margin: 0.2em;color: black;border-radius: 0.25em;background-color: #f0f8ff;}#sk-50a10c23-2a62-4455-ba73-a675101a2143 input.sk-toggleable__control:checked~div.sk-toggleable__content {max-height: 200px;max-width: 100%;overflow: auto;}#sk-50a10c23-2a62-4455-ba73-a675101a2143 input.sk-toggleable__control:checked~label.sk-toggleable__label-arrow:before {content: \"▾\";}#sk-50a10c23-2a62-4455-ba73-a675101a2143 div.sk-estimator input.sk-toggleable__control:checked~label.sk-toggleable__label {background-color: #d4ebff;}#sk-50a10c23-2a62-4455-ba73-a675101a2143 div.sk-label input.sk-toggleable__control:checked~label.sk-toggleable__label {background-color: #d4ebff;}#sk-50a10c23-2a62-4455-ba73-a675101a2143 input.sk-hidden--visually {border: 0;clip: rect(1px 1px 1px 1px);clip: rect(1px, 1px, 1px, 1px);height: 1px;margin: -1px;overflow: hidden;padding: 0;position: absolute;width: 1px;}#sk-50a10c23-2a62-4455-ba73-a675101a2143 div.sk-estimator {font-family: monospace;background-color: #f0f8ff;border: 1px dotted black;border-radius: 0.25em;box-sizing: border-box;margin-bottom: 0.5em;}#sk-50a10c23-2a62-4455-ba73-a675101a2143 div.sk-estimator:hover {background-color: #d4ebff;}#sk-50a10c23-2a62-4455-ba73-a675101a2143 div.sk-parallel-item::after {content: \"\";width: 100%;border-bottom: 1px solid gray;flex-grow: 1;}#sk-50a10c23-2a62-4455-ba73-a675101a2143 div.sk-label:hover label.sk-toggleable__label {background-color: #d4ebff;}#sk-50a10c23-2a62-4455-ba73-a675101a2143 div.sk-serial::before {content: \"\";position: absolute;border-left: 1px solid gray;box-sizing: border-box;top: 2em;bottom: 0;left: 50%;}#sk-50a10c23-2a62-4455-ba73-a675101a2143 div.sk-serial {display: flex;flex-direction: column;align-items: center;background-color: white;padding-right: 0.2em;padding-left: 0.2em;}#sk-50a10c23-2a62-4455-ba73-a675101a2143 div.sk-item {z-index: 1;}#sk-50a10c23-2a62-4455-ba73-a675101a2143 div.sk-parallel {display: flex;align-items: stretch;justify-content: center;background-color: white;}#sk-50a10c23-2a62-4455-ba73-a675101a2143 div.sk-parallel::before {content: \"\";position: absolute;border-left: 1px solid gray;box-sizing: border-box;top: 2em;bottom: 0;left: 50%;}#sk-50a10c23-2a62-4455-ba73-a675101a2143 div.sk-parallel-item {display: flex;flex-direction: column;position: relative;background-color: white;}#sk-50a10c23-2a62-4455-ba73-a675101a2143 div.sk-parallel-item:first-child::after {align-self: flex-end;width: 50%;}#sk-50a10c23-2a62-4455-ba73-a675101a2143 div.sk-parallel-item:last-child::after {align-self: flex-start;width: 50%;}#sk-50a10c23-2a62-4455-ba73-a675101a2143 div.sk-parallel-item:only-child::after {width: 0;}#sk-50a10c23-2a62-4455-ba73-a675101a2143 div.sk-dashed-wrapped {border: 1px dashed gray;margin: 0 0.4em 0.5em 0.4em;box-sizing: border-box;padding-bottom: 0.4em;background-color: white;position: relative;}#sk-50a10c23-2a62-4455-ba73-a675101a2143 div.sk-label label {font-family: monospace;font-weight: bold;background-color: white;display: inline-block;line-height: 1.2em;}#sk-50a10c23-2a62-4455-ba73-a675101a2143 div.sk-label-container {position: relative;z-index: 2;text-align: center;}#sk-50a10c23-2a62-4455-ba73-a675101a2143 div.sk-container {/* jupyter's `normalize.less` sets `[hidden] { display: none; }` but bootstrap.min.css set `[hidden] { display: none !important; }` so we also need the `!important` here to be able to override the default hidden behavior on the sphinx rendered scikit-learn.org. See: https://github.com/scikit-learn/scikit-learn/issues/21755 */display: inline-block !important;position: relative;}#sk-50a10c23-2a62-4455-ba73-a675101a2143 div.sk-text-repr-fallback {display: none;}</style><div id=\"sk-50a10c23-2a62-4455-ba73-a675101a2143\" class=\"sk-top-container\"><div class=\"sk-text-repr-fallback\"><pre>Pipeline(memory=None,\n",
       "         steps=[(&#x27;trf1&#x27;,\n",
       "                 ColumnTransformer(n_jobs=None, remainder=&#x27;passthrough&#x27;,\n",
       "                                   sparse_threshold=0.3,\n",
       "                                   transformer_weights=None,\n",
       "                                   transformers=[(&#x27;onehot_categorical&#x27;,\n",
       "                                                  OneHotEncoder(categories=&#x27;auto&#x27;,\n",
       "                                                                drop=None,\n",
       "                                                                dtype=&lt;class &#x27;numpy.float64&#x27;&gt;,\n",
       "                                                                handle_unknown=&#x27;ignore&#x27;,\n",
       "                                                                sparse=False),\n",
       "                                                  [7, 8, 9])],\n",
       "                                   verbose=False,\n",
       "                                   verbose_feature_names_out=True)),\n",
       "                (&#x27;trf2&#x27;,\n",
       "                 Colu...\n",
       "                                                               feature_range=(0,\n",
       "                                                                              1)),\n",
       "                                                  slice(0, 10, None))],\n",
       "                                   verbose=False,\n",
       "                                   verbose_feature_names_out=True)),\n",
       "                (&#x27;trf3&#x27;,\n",
       "                 DecisionTreeClassifier(ccp_alpha=0.0, class_weight=None,\n",
       "                                        criterion=&#x27;gini&#x27;, max_depth=None,\n",
       "                                        max_features=None, max_leaf_nodes=None,\n",
       "                                        min_impurity_decrease=0.0,\n",
       "                                        min_samples_leaf=1, min_samples_split=2,\n",
       "                                        min_weight_fraction_leaf=0.0,\n",
       "                                        random_state=None, splitter=&#x27;best&#x27;))],\n",
       "         verbose=False)</pre><b>Please rerun this cell to show the HTML repr or trust the notebook.</b></div><div class=\"sk-container\" hidden><div class=\"sk-item sk-dashed-wrapped\"><div class=\"sk-label-container\"><div class=\"sk-label sk-toggleable\"><input class=\"sk-toggleable__control sk-hidden--visually\" id=\"46b5d3c9-1863-474a-8e97-8db9965dc96a\" type=\"checkbox\" ><label for=\"46b5d3c9-1863-474a-8e97-8db9965dc96a\" class=\"sk-toggleable__label sk-toggleable__label-arrow\">Pipeline</label><div class=\"sk-toggleable__content\"><pre>Pipeline(memory=None,\n",
       "         steps=[(&#x27;trf1&#x27;,\n",
       "                 ColumnTransformer(n_jobs=None, remainder=&#x27;passthrough&#x27;,\n",
       "                                   sparse_threshold=0.3,\n",
       "                                   transformer_weights=None,\n",
       "                                   transformers=[(&#x27;onehot_categorical&#x27;,\n",
       "                                                  OneHotEncoder(categories=&#x27;auto&#x27;,\n",
       "                                                                drop=None,\n",
       "                                                                dtype=&lt;class &#x27;numpy.float64&#x27;&gt;,\n",
       "                                                                handle_unknown=&#x27;ignore&#x27;,\n",
       "                                                                sparse=False),\n",
       "                                                  [7, 8, 9])],\n",
       "                                   verbose=False,\n",
       "                                   verbose_feature_names_out=True)),\n",
       "                (&#x27;trf2&#x27;,\n",
       "                 Colu...\n",
       "                                                               feature_range=(0,\n",
       "                                                                              1)),\n",
       "                                                  slice(0, 10, None))],\n",
       "                                   verbose=False,\n",
       "                                   verbose_feature_names_out=True)),\n",
       "                (&#x27;trf3&#x27;,\n",
       "                 DecisionTreeClassifier(ccp_alpha=0.0, class_weight=None,\n",
       "                                        criterion=&#x27;gini&#x27;, max_depth=None,\n",
       "                                        max_features=None, max_leaf_nodes=None,\n",
       "                                        min_impurity_decrease=0.0,\n",
       "                                        min_samples_leaf=1, min_samples_split=2,\n",
       "                                        min_weight_fraction_leaf=0.0,\n",
       "                                        random_state=None, splitter=&#x27;best&#x27;))],\n",
       "         verbose=False)</pre></div></div></div><div class=\"sk-serial\"><div class=\"sk-item sk-dashed-wrapped\"><div class=\"sk-label-container\"><div class=\"sk-label sk-toggleable\"><input class=\"sk-toggleable__control sk-hidden--visually\" id=\"bfa57784-336a-4f8c-9486-47c46a5d9ab8\" type=\"checkbox\" ><label for=\"bfa57784-336a-4f8c-9486-47c46a5d9ab8\" class=\"sk-toggleable__label sk-toggleable__label-arrow\">trf1: ColumnTransformer</label><div class=\"sk-toggleable__content\"><pre>ColumnTransformer(n_jobs=None, remainder=&#x27;passthrough&#x27;, sparse_threshold=0.3,\n",
       "                  transformer_weights=None,\n",
       "                  transformers=[(&#x27;onehot_categorical&#x27;,\n",
       "                                 OneHotEncoder(categories=&#x27;auto&#x27;, drop=None,\n",
       "                                               dtype=&lt;class &#x27;numpy.float64&#x27;&gt;,\n",
       "                                               handle_unknown=&#x27;ignore&#x27;,\n",
       "                                               sparse=False),\n",
       "                                 [7, 8, 9])],\n",
       "                  verbose=False, verbose_feature_names_out=True)</pre></div></div></div><div class=\"sk-parallel\"><div class=\"sk-parallel-item\"><div class=\"sk-item\"><div class=\"sk-label-container\"><div class=\"sk-label sk-toggleable\"><input class=\"sk-toggleable__control sk-hidden--visually\" id=\"b2829caa-3c61-492c-b8cc-3c1de4569cd2\" type=\"checkbox\" ><label for=\"b2829caa-3c61-492c-b8cc-3c1de4569cd2\" class=\"sk-toggleable__label sk-toggleable__label-arrow\">onehot_categorical</label><div class=\"sk-toggleable__content\"><pre>[7, 8, 9]</pre></div></div></div><div class=\"sk-serial\"><div class=\"sk-item\"><div class=\"sk-estimator sk-toggleable\"><input class=\"sk-toggleable__control sk-hidden--visually\" id=\"ab4e6fd1-7539-48cc-b3d0-3b96816efc29\" type=\"checkbox\" ><label for=\"ab4e6fd1-7539-48cc-b3d0-3b96816efc29\" class=\"sk-toggleable__label sk-toggleable__label-arrow\">OneHotEncoder</label><div class=\"sk-toggleable__content\"><pre>OneHotEncoder(handle_unknown=&#x27;ignore&#x27;, sparse=False)</pre></div></div></div></div></div></div><div class=\"sk-parallel-item\"><div class=\"sk-item\"><div class=\"sk-label-container\"><div class=\"sk-label sk-toggleable\"><input class=\"sk-toggleable__control sk-hidden--visually\" id=\"3c4dc734-a323-4adf-9517-1d56eb6c67c5\" type=\"checkbox\" ><label for=\"3c4dc734-a323-4adf-9517-1d56eb6c67c5\" class=\"sk-toggleable__label sk-toggleable__label-arrow\">remainder</label><div class=\"sk-toggleable__content\"><pre>[&#x27;funded_amnt&#x27;, &#x27;term&#x27;, &#x27;int_rate&#x27;, &#x27;installment&#x27;, &#x27;emp_length&#x27;, &#x27;home_ownership&#x27;, &#x27;annual_inc&#x27;, &#x27;total_pymnt&#x27;, &#x27;total_rec_prncp&#x27;, &#x27;total_rec_int&#x27;, &#x27;last_pymnt_amnt&#x27;]</pre></div></div></div><div class=\"sk-serial\"><div class=\"sk-item\"><div class=\"sk-estimator sk-toggleable\"><input class=\"sk-toggleable__control sk-hidden--visually\" id=\"94a01c13-8d40-445c-b3ad-ffb5ccb60814\" type=\"checkbox\" ><label for=\"94a01c13-8d40-445c-b3ad-ffb5ccb60814\" class=\"sk-toggleable__label sk-toggleable__label-arrow\">passthrough</label><div class=\"sk-toggleable__content\"><pre>passthrough</pre></div></div></div></div></div></div></div></div><div class=\"sk-item sk-dashed-wrapped\"><div class=\"sk-label-container\"><div class=\"sk-label sk-toggleable\"><input class=\"sk-toggleable__control sk-hidden--visually\" id=\"62f47566-823d-47a4-9ce4-14dcd183be50\" type=\"checkbox\" ><label for=\"62f47566-823d-47a4-9ce4-14dcd183be50\" class=\"sk-toggleable__label sk-toggleable__label-arrow\">trf2: ColumnTransformer</label><div class=\"sk-toggleable__content\"><pre>ColumnTransformer(n_jobs=None, remainder=&#x27;drop&#x27;, sparse_threshold=0.3,\n",
       "                  transformer_weights=None,\n",
       "                  transformers=[(&#x27;scale&#x27;,\n",
       "                                 MinMaxScaler(clip=False, copy=True,\n",
       "                                              feature_range=(0, 1)),\n",
       "                                 slice(0, 10, None))],\n",
       "                  verbose=False, verbose_feature_names_out=True)</pre></div></div></div><div class=\"sk-parallel\"><div class=\"sk-parallel-item\"><div class=\"sk-item\"><div class=\"sk-label-container\"><div class=\"sk-label sk-toggleable\"><input class=\"sk-toggleable__control sk-hidden--visually\" id=\"2c94a390-f4ee-40ef-b0c4-7271a9392592\" type=\"checkbox\" ><label for=\"2c94a390-f4ee-40ef-b0c4-7271a9392592\" class=\"sk-toggleable__label sk-toggleable__label-arrow\">scale</label><div class=\"sk-toggleable__content\"><pre>slice(0, 10, None)</pre></div></div></div><div class=\"sk-serial\"><div class=\"sk-item\"><div class=\"sk-estimator sk-toggleable\"><input class=\"sk-toggleable__control sk-hidden--visually\" id=\"3b66314f-0bbc-4d1c-8789-5c51ab6c9d65\" type=\"checkbox\" ><label for=\"3b66314f-0bbc-4d1c-8789-5c51ab6c9d65\" class=\"sk-toggleable__label sk-toggleable__label-arrow\">MinMaxScaler</label><div class=\"sk-toggleable__content\"><pre>MinMaxScaler()</pre></div></div></div></div></div></div></div></div><div class=\"sk-item\"><div class=\"sk-estimator sk-toggleable\"><input class=\"sk-toggleable__control sk-hidden--visually\" id=\"175ef5f9-0e40-4d8c-a1b3-9834f18f1279\" type=\"checkbox\" ><label for=\"175ef5f9-0e40-4d8c-a1b3-9834f18f1279\" class=\"sk-toggleable__label sk-toggleable__label-arrow\">DecisionTreeClassifier</label><div class=\"sk-toggleable__content\"><pre>DecisionTreeClassifier()</pre></div></div></div></div></div></div></div>"
      ],
      "text/plain": [
       "Pipeline(memory=None,\n",
       "         steps=[('trf1',\n",
       "                 ColumnTransformer(n_jobs=None, remainder='passthrough',\n",
       "                                   sparse_threshold=0.3,\n",
       "                                   transformer_weights=None,\n",
       "                                   transformers=[('onehot_categorical',\n",
       "                                                  OneHotEncoder(categories='auto',\n",
       "                                                                drop=None,\n",
       "                                                                dtype=<class 'numpy.float64'>,\n",
       "                                                                handle_unknown='ignore',\n",
       "                                                                sparse=False),\n",
       "                                                  [7, 8, 9])],\n",
       "                                   verbose=False,\n",
       "                                   verbose_feature_names_out=True)),\n",
       "                ('trf2',\n",
       "                 Colu...\n",
       "                                                               feature_range=(0,\n",
       "                                                                              1)),\n",
       "                                                  slice(0, 10, None))],\n",
       "                                   verbose=False,\n",
       "                                   verbose_feature_names_out=True)),\n",
       "                ('trf3',\n",
       "                 DecisionTreeClassifier(ccp_alpha=0.0, class_weight=None,\n",
       "                                        criterion='gini', max_depth=None,\n",
       "                                        max_features=None, max_leaf_nodes=None,\n",
       "                                        min_impurity_decrease=0.0,\n",
       "                                        min_samples_leaf=1, min_samples_split=2,\n",
       "                                        min_weight_fraction_leaf=0.0,\n",
       "                                        random_state=None, splitter='best'))],\n",
       "         verbose=False)"
      ]
     },
     "execution_count": 642,
     "metadata": {},
     "output_type": "execute_result"
    }
   ],
   "source": [
    "from sklearn import set_config\n",
    "set_config(display=\"diagram\")\n",
    "pipe"
   ]
  },
  {
   "cell_type": "code",
   "execution_count": null,
   "metadata": {},
   "outputs": [
    {
     "data": {
      "text/plain": [
       "array([0, 1, 0, ..., 0, 0, 1], dtype=int64)"
      ]
     },
     "execution_count": 643,
     "metadata": {},
     "output_type": "execute_result"
    }
   ],
   "source": [
    "y_pred = pipe.predict(X_train)\n",
    "y_pred"
   ]
  },
  {
   "cell_type": "code",
   "execution_count": null,
   "metadata": {},
   "outputs": [
    {
     "data": {
      "text/plain": [
       "1.0"
      ]
     },
     "execution_count": 644,
     "metadata": {},
     "output_type": "execute_result"
    }
   ],
   "source": [
    "from sklearn.metrics import accuracy_score\n",
    "accuracy_score(y_train,y_pred)"
   ]
  },
  {
   "cell_type": "code",
   "execution_count": null,
   "metadata": {},
   "outputs": [],
   "source": [
    "y_pred = pipe.predict(X_test)"
   ]
  },
  {
   "cell_type": "code",
   "execution_count": null,
   "metadata": {},
   "outputs": [
    {
     "data": {
      "text/plain": [
       "1.0"
      ]
     },
     "execution_count": 646,
     "metadata": {},
     "output_type": "execute_result"
    }
   ],
   "source": [
    "accuracy_score(y_test,y_pred)"
   ]
  },
  {
   "cell_type": "code",
   "execution_count": null,
   "metadata": {},
   "outputs": [
    {
     "name": "stdout",
     "output_type": "stream",
     "text": [
      "              precision    recall  f1-score   support\n",
      "\n",
      "           0       1.00      1.00      1.00      1164\n",
      "           1       1.00      1.00      1.00      1080\n",
      "\n",
      "    accuracy                           1.00      2244\n",
      "   macro avg       1.00      1.00      1.00      2244\n",
      "weighted avg       1.00      1.00      1.00      2244\n",
      "\n"
     ]
    }
   ],
   "source": [
    "from sklearn.metrics import classification_report\n",
    "print(classification_report(y_test, y_pred))"
   ]
  },
  {
   "cell_type": "code",
   "execution_count": null,
   "metadata": {},
   "outputs": [
    {
     "name": "stdout",
     "output_type": "stream",
     "text": [
      "[[1164    0]\n",
      " [   0 1080]]\n"
     ]
    }
   ],
   "source": [
    "from sklearn.metrics import confusion_matrix\n",
    "print(confusion_matrix(y_test, y_pred))"
   ]
  },
  {
   "cell_type": "code",
   "execution_count": 87,
   "metadata": {},
   "outputs": [],
   "source": [
    "from pycaret.classification import setup\n",
    "from pycaret.classification import compare_models"
   ]
  },
  {
   "cell_type": "code",
   "execution_count": 88,
   "metadata": {},
   "outputs": [
    {
     "data": {
      "text/html": [
       "<style type=\"text/css\">\n",
       "#T_deed9_row9_col1 {\n",
       "  background-color: lightgreen;\n",
       "}\n",
       "</style>\n",
       "<table id=\"T_deed9_\">\n",
       "  <thead>\n",
       "    <tr>\n",
       "      <th class=\"blank level0\" >&nbsp;</th>\n",
       "      <th class=\"col_heading level0 col0\" >Description</th>\n",
       "      <th class=\"col_heading level0 col1\" >Value</th>\n",
       "    </tr>\n",
       "  </thead>\n",
       "  <tbody>\n",
       "    <tr>\n",
       "      <th id=\"T_deed9_level0_row0\" class=\"row_heading level0 row0\" >0</th>\n",
       "      <td id=\"T_deed9_row0_col0\" class=\"data row0 col0\" >Session id</td>\n",
       "      <td id=\"T_deed9_row0_col1\" class=\"data row0 col1\" >8902</td>\n",
       "    </tr>\n",
       "    <tr>\n",
       "      <th id=\"T_deed9_level0_row1\" class=\"row_heading level0 row1\" >1</th>\n",
       "      <td id=\"T_deed9_row1_col0\" class=\"data row1 col0\" >Target</td>\n",
       "      <td id=\"T_deed9_row1_col1\" class=\"data row1 col1\" >repay_fail</td>\n",
       "    </tr>\n",
       "    <tr>\n",
       "      <th id=\"T_deed9_level0_row2\" class=\"row_heading level0 row2\" >2</th>\n",
       "      <td id=\"T_deed9_row2_col0\" class=\"data row2 col0\" >Target type</td>\n",
       "      <td id=\"T_deed9_row2_col1\" class=\"data row2 col1\" >Binary</td>\n",
       "    </tr>\n",
       "    <tr>\n",
       "      <th id=\"T_deed9_level0_row3\" class=\"row_heading level0 row3\" >3</th>\n",
       "      <td id=\"T_deed9_row3_col0\" class=\"data row3 col0\" >Original data shape</td>\n",
       "      <td id=\"T_deed9_row3_col1\" class=\"data row3 col1\" >(37485, 15)</td>\n",
       "    </tr>\n",
       "    <tr>\n",
       "      <th id=\"T_deed9_level0_row4\" class=\"row_heading level0 row4\" >4</th>\n",
       "      <td id=\"T_deed9_row4_col0\" class=\"data row4 col0\" >Transformed data shape</td>\n",
       "      <td id=\"T_deed9_row4_col1\" class=\"data row4 col1\" >(37485, 23)</td>\n",
       "    </tr>\n",
       "    <tr>\n",
       "      <th id=\"T_deed9_level0_row5\" class=\"row_heading level0 row5\" >5</th>\n",
       "      <td id=\"T_deed9_row5_col0\" class=\"data row5 col0\" >Transformed train set shape</td>\n",
       "      <td id=\"T_deed9_row5_col1\" class=\"data row5 col1\" >(26239, 23)</td>\n",
       "    </tr>\n",
       "    <tr>\n",
       "      <th id=\"T_deed9_level0_row6\" class=\"row_heading level0 row6\" >6</th>\n",
       "      <td id=\"T_deed9_row6_col0\" class=\"data row6 col0\" >Transformed test set shape</td>\n",
       "      <td id=\"T_deed9_row6_col1\" class=\"data row6 col1\" >(11246, 23)</td>\n",
       "    </tr>\n",
       "    <tr>\n",
       "      <th id=\"T_deed9_level0_row7\" class=\"row_heading level0 row7\" >7</th>\n",
       "      <td id=\"T_deed9_row7_col0\" class=\"data row7 col0\" >Numeric features</td>\n",
       "      <td id=\"T_deed9_row7_col1\" class=\"data row7 col1\" >13</td>\n",
       "    </tr>\n",
       "    <tr>\n",
       "      <th id=\"T_deed9_level0_row8\" class=\"row_heading level0 row8\" >8</th>\n",
       "      <td id=\"T_deed9_row8_col0\" class=\"data row8 col0\" >Categorical features</td>\n",
       "      <td id=\"T_deed9_row8_col1\" class=\"data row8 col1\" >1</td>\n",
       "    </tr>\n",
       "    <tr>\n",
       "      <th id=\"T_deed9_level0_row9\" class=\"row_heading level0 row9\" >9</th>\n",
       "      <td id=\"T_deed9_row9_col0\" class=\"data row9 col0\" >Preprocess</td>\n",
       "      <td id=\"T_deed9_row9_col1\" class=\"data row9 col1\" >True</td>\n",
       "    </tr>\n",
       "    <tr>\n",
       "      <th id=\"T_deed9_level0_row10\" class=\"row_heading level0 row10\" >10</th>\n",
       "      <td id=\"T_deed9_row10_col0\" class=\"data row10 col0\" >Imputation type</td>\n",
       "      <td id=\"T_deed9_row10_col1\" class=\"data row10 col1\" >simple</td>\n",
       "    </tr>\n",
       "    <tr>\n",
       "      <th id=\"T_deed9_level0_row11\" class=\"row_heading level0 row11\" >11</th>\n",
       "      <td id=\"T_deed9_row11_col0\" class=\"data row11 col0\" >Numeric imputation</td>\n",
       "      <td id=\"T_deed9_row11_col1\" class=\"data row11 col1\" >mean</td>\n",
       "    </tr>\n",
       "    <tr>\n",
       "      <th id=\"T_deed9_level0_row12\" class=\"row_heading level0 row12\" >12</th>\n",
       "      <td id=\"T_deed9_row12_col0\" class=\"data row12 col0\" >Categorical imputation</td>\n",
       "      <td id=\"T_deed9_row12_col1\" class=\"data row12 col1\" >mode</td>\n",
       "    </tr>\n",
       "    <tr>\n",
       "      <th id=\"T_deed9_level0_row13\" class=\"row_heading level0 row13\" >13</th>\n",
       "      <td id=\"T_deed9_row13_col0\" class=\"data row13 col0\" >Maximum one-hot encoding</td>\n",
       "      <td id=\"T_deed9_row13_col1\" class=\"data row13 col1\" >25</td>\n",
       "    </tr>\n",
       "    <tr>\n",
       "      <th id=\"T_deed9_level0_row14\" class=\"row_heading level0 row14\" >14</th>\n",
       "      <td id=\"T_deed9_row14_col0\" class=\"data row14 col0\" >Encoding method</td>\n",
       "      <td id=\"T_deed9_row14_col1\" class=\"data row14 col1\" >None</td>\n",
       "    </tr>\n",
       "    <tr>\n",
       "      <th id=\"T_deed9_level0_row15\" class=\"row_heading level0 row15\" >15</th>\n",
       "      <td id=\"T_deed9_row15_col0\" class=\"data row15 col0\" >Fold Generator</td>\n",
       "      <td id=\"T_deed9_row15_col1\" class=\"data row15 col1\" >StratifiedKFold</td>\n",
       "    </tr>\n",
       "    <tr>\n",
       "      <th id=\"T_deed9_level0_row16\" class=\"row_heading level0 row16\" >16</th>\n",
       "      <td id=\"T_deed9_row16_col0\" class=\"data row16 col0\" >Fold Number</td>\n",
       "      <td id=\"T_deed9_row16_col1\" class=\"data row16 col1\" >10</td>\n",
       "    </tr>\n",
       "    <tr>\n",
       "      <th id=\"T_deed9_level0_row17\" class=\"row_heading level0 row17\" >17</th>\n",
       "      <td id=\"T_deed9_row17_col0\" class=\"data row17 col0\" >CPU Jobs</td>\n",
       "      <td id=\"T_deed9_row17_col1\" class=\"data row17 col1\" >-1</td>\n",
       "    </tr>\n",
       "    <tr>\n",
       "      <th id=\"T_deed9_level0_row18\" class=\"row_heading level0 row18\" >18</th>\n",
       "      <td id=\"T_deed9_row18_col0\" class=\"data row18 col0\" >Use GPU</td>\n",
       "      <td id=\"T_deed9_row18_col1\" class=\"data row18 col1\" >False</td>\n",
       "    </tr>\n",
       "    <tr>\n",
       "      <th id=\"T_deed9_level0_row19\" class=\"row_heading level0 row19\" >19</th>\n",
       "      <td id=\"T_deed9_row19_col0\" class=\"data row19 col0\" >Log Experiment</td>\n",
       "      <td id=\"T_deed9_row19_col1\" class=\"data row19 col1\" >False</td>\n",
       "    </tr>\n",
       "    <tr>\n",
       "      <th id=\"T_deed9_level0_row20\" class=\"row_heading level0 row20\" >20</th>\n",
       "      <td id=\"T_deed9_row20_col0\" class=\"data row20 col0\" >Experiment Name</td>\n",
       "      <td id=\"T_deed9_row20_col1\" class=\"data row20 col1\" >clf-default-name</td>\n",
       "    </tr>\n",
       "    <tr>\n",
       "      <th id=\"T_deed9_level0_row21\" class=\"row_heading level0 row21\" >21</th>\n",
       "      <td id=\"T_deed9_row21_col0\" class=\"data row21 col0\" >USI</td>\n",
       "      <td id=\"T_deed9_row21_col1\" class=\"data row21 col1\" >5941</td>\n",
       "    </tr>\n",
       "  </tbody>\n",
       "</table>\n"
      ],
      "text/plain": [
       "<pandas.io.formats.style.Styler at 0x193ae2d89e8>"
      ]
     },
     "metadata": {},
     "output_type": "display_data"
    },
    {
     "data": {
      "text/plain": [
       "<pycaret.classification.oop.ClassificationExperiment at 0x193aec89f98>"
      ]
     },
     "execution_count": 88,
     "metadata": {},
     "output_type": "execute_result"
    }
   ],
   "source": [
    "grid = setup(data=x, target=x.columns[-1])\n",
    "grid"
   ]
  },
  {
   "cell_type": "code",
   "execution_count": 89,
   "metadata": {},
   "outputs": [
    {
     "data": {
      "text/html": [],
      "text/plain": [
       "<IPython.core.display.HTML object>"
      ]
     },
     "metadata": {},
     "output_type": "display_data"
    },
    {
     "data": {
      "text/html": [
       "<style type=\"text/css\">\n",
       "</style>\n",
       "<table id=\"T_26ed0_\">\n",
       "  <thead>\n",
       "  </thead>\n",
       "  <tbody>\n",
       "  </tbody>\n",
       "</table>\n"
      ],
      "text/plain": [
       "<pandas.io.formats.style.Styler at 0x193ae28ea58>"
      ]
     },
     "metadata": {},
     "output_type": "display_data"
    },
    {
     "data": {
      "text/html": [],
      "text/plain": [
       "<IPython.core.display.HTML object>"
      ]
     },
     "metadata": {},
     "output_type": "display_data"
    }
   ],
   "source": [
    "best = compare_models()"
   ]
  },
  {
   "cell_type": "code",
   "execution_count": null,
   "metadata": {},
   "outputs": [
    {
     "data": {
      "text/plain": [
       "[]"
      ]
     },
     "execution_count": 652,
     "metadata": {},
     "output_type": "execute_result"
    }
   ],
   "source": [
    "best"
   ]
  },
  {
   "cell_type": "code",
   "execution_count": null,
   "metadata": {},
   "outputs": [],
   "source": [
    "from autokeras import StructuredDataClassifier"
   ]
  },
  {
   "cell_type": "code",
   "execution_count": null,
   "metadata": {},
   "outputs": [
    {
     "name": "stdout",
     "output_type": "stream",
     "text": [
      "INFO:tensorflow:Reloading Tuner from .\\structured_data_classifier\\tuner0.json\n"
     ]
    },
    {
     "name": "stderr",
     "output_type": "stream",
     "text": [
      "INFO:tensorflow:Reloading Tuner from .\\structured_data_classifier\\tuner0.json\n"
     ]
    }
   ],
   "source": [
    "search = StructuredDataClassifier(max_trials=15)"
   ]
  },
  {
   "cell_type": "code",
   "execution_count": null,
   "metadata": {},
   "outputs": [],
   "source": [
    "#search.fit(x=X_train, y=y_train, verbose=0)"
   ]
  },
  {
   "cell_type": "code",
   "execution_count": null,
   "metadata": {},
   "outputs": [
    {
     "data": {
      "text/plain": [
       "(157052, 1)"
      ]
     },
     "execution_count": 695,
     "metadata": {},
     "output_type": "execute_result"
    }
   ],
   "source": [
    "X.shape"
   ]
  },
  {
   "cell_type": "code",
   "execution_count": null,
   "metadata": {},
   "outputs": [],
   "source": [
    "X = np.asarray(X).astype(np.float32)\n",
    "y= np.asarray(y).astype(np.float32)"
   ]
  },
  {
   "cell_type": "code",
   "execution_count": null,
   "metadata": {},
   "outputs": [],
   "source": [
    "from keras.models import Sequential \n",
    "from keras.layers import Activation, Dense \n",
    "\n",
    "model = Sequential() \n",
    "model.add(Dense(64, activation = 'linear', input_shape = (1,)))\n",
    "model.add(layers.Dense(2, activation='sigmoid'))"
   ]
  },
  {
   "cell_type": "code",
   "execution_count": null,
   "metadata": {},
   "outputs": [],
   "source": [
    "model.compile(optimizer=\"rmsprop\",loss=\"binary_crossentropy\",metrics=[\"accuracy\"])"
   ]
  },
  {
   "cell_type": "code",
   "execution_count": null,
   "metadata": {},
   "outputs": [
    {
     "ename": "ValueError",
     "evalue": "Data cardinality is ambiguous:\n  x sizes: 157052\n  y sizes: 11218\nMake sure all arrays contain the same number of samples.",
     "output_type": "error",
     "traceback": [
      "\u001b[1;31m---------------------------------------------------------------------------\u001b[0m",
      "\u001b[1;31mValueError\u001b[0m                                Traceback (most recent call last)",
      "\u001b[1;32m~\\AppData\\Local\\Temp\\ipykernel_12252\\3866783281.py\u001b[0m in \u001b[0;36m<module>\u001b[1;34m\u001b[0m\n\u001b[1;32m----> 1\u001b[1;33m \u001b[0mmodel\u001b[0m\u001b[1;33m.\u001b[0m\u001b[0mfit\u001b[0m\u001b[1;33m(\u001b[0m\u001b[0mX\u001b[0m\u001b[1;33m,\u001b[0m \u001b[0my\u001b[0m\u001b[1;33m,\u001b[0m \u001b[0mepochs\u001b[0m\u001b[1;33m=\u001b[0m\u001b[1;36m5\u001b[0m\u001b[1;33m,\u001b[0m \u001b[0mbatch_size\u001b[0m\u001b[1;33m=\u001b[0m\u001b[1;36m128\u001b[0m\u001b[1;33m)\u001b[0m\u001b[1;33m\u001b[0m\u001b[1;33m\u001b[0m\u001b[0m\n\u001b[0m",
      "\u001b[1;32me:\\python\\.venv\\lib\\site-packages\\keras\\utils\\traceback_utils.py\u001b[0m in \u001b[0;36merror_handler\u001b[1;34m(*args, **kwargs)\u001b[0m\n\u001b[0;32m     68\u001b[0m             \u001b[1;31m# To get the full stack trace, call:\u001b[0m\u001b[1;33m\u001b[0m\u001b[1;33m\u001b[0m\u001b[1;33m\u001b[0m\u001b[0m\n\u001b[0;32m     69\u001b[0m             \u001b[1;31m# `tf.debugging.disable_traceback_filtering()`\u001b[0m\u001b[1;33m\u001b[0m\u001b[1;33m\u001b[0m\u001b[1;33m\u001b[0m\u001b[0m\n\u001b[1;32m---> 70\u001b[1;33m             \u001b[1;32mraise\u001b[0m \u001b[0me\u001b[0m\u001b[1;33m.\u001b[0m\u001b[0mwith_traceback\u001b[0m\u001b[1;33m(\u001b[0m\u001b[0mfiltered_tb\u001b[0m\u001b[1;33m)\u001b[0m \u001b[1;32mfrom\u001b[0m \u001b[1;32mNone\u001b[0m\u001b[1;33m\u001b[0m\u001b[1;33m\u001b[0m\u001b[0m\n\u001b[0m\u001b[0;32m     71\u001b[0m         \u001b[1;32mfinally\u001b[0m\u001b[1;33m:\u001b[0m\u001b[1;33m\u001b[0m\u001b[1;33m\u001b[0m\u001b[0m\n\u001b[0;32m     72\u001b[0m             \u001b[1;32mdel\u001b[0m \u001b[0mfiltered_tb\u001b[0m\u001b[1;33m\u001b[0m\u001b[1;33m\u001b[0m\u001b[0m\n",
      "\u001b[1;32me:\\python\\.venv\\lib\\site-packages\\keras\\engine\\data_adapter.py\u001b[0m in \u001b[0;36m_check_data_cardinality\u001b[1;34m(data)\u001b[0m\n\u001b[0;32m   1846\u001b[0m             )\n\u001b[0;32m   1847\u001b[0m         \u001b[0mmsg\u001b[0m \u001b[1;33m+=\u001b[0m \u001b[1;34m\"Make sure all arrays contain the same number of samples.\"\u001b[0m\u001b[1;33m\u001b[0m\u001b[1;33m\u001b[0m\u001b[0m\n\u001b[1;32m-> 1848\u001b[1;33m         \u001b[1;32mraise\u001b[0m \u001b[0mValueError\u001b[0m\u001b[1;33m(\u001b[0m\u001b[0mmsg\u001b[0m\u001b[1;33m)\u001b[0m\u001b[1;33m\u001b[0m\u001b[1;33m\u001b[0m\u001b[0m\n\u001b[0m\u001b[0;32m   1849\u001b[0m \u001b[1;33m\u001b[0m\u001b[0m\n\u001b[0;32m   1850\u001b[0m \u001b[1;33m\u001b[0m\u001b[0m\n",
      "\u001b[1;31mValueError\u001b[0m: Data cardinality is ambiguous:\n  x sizes: 157052\n  y sizes: 11218\nMake sure all arrays contain the same number of samples."
     ]
    }
   ],
   "source": [
    "model.fit(X, y, epochs=5, batch_size=128)"
   ]
  },
  {
   "cell_type": "code",
   "execution_count": null,
   "metadata": {},
   "outputs": [],
   "source": []
  },
  {
   "cell_type": "code",
   "execution_count": null,
   "metadata": {},
   "outputs": [],
   "source": []
  }
 ],
 "metadata": {
  "kernelspec": {
   "display_name": ".venv",
   "language": "python",
   "name": "python3"
  },
  "language_info": {
   "codemirror_mode": {
    "name": "ipython",
    "version": 3
   },
   "file_extension": ".py",
   "mimetype": "text/x-python",
   "name": "python",
   "nbconvert_exporter": "python",
   "pygments_lexer": "ipython3",
   "version": "3.7.2"
  },
  "orig_nbformat": 4
 },
 "nbformat": 4,
 "nbformat_minor": 2
}
