{
 "cells": [
  {
   "cell_type": "code",
   "execution_count": 1,
   "metadata": {},
   "outputs": [
    {
     "name": "stdout",
     "output_type": "stream",
     "text": [
      "Downloading data from https://storage.googleapis.com/tensorflow/tf-keras-datasets/reuters.npz\n",
      "2110848/2110848 [==============================] - 0s 0us/step\n"
     ]
    }
   ],
   "source": [
    "from tensorflow.keras.datasets import reuters\n",
    "(train_data, train_labels), (test_data, test_labels) = reuters.load_data(num_words=10000)"
   ]
  },
  {
   "cell_type": "code",
   "execution_count": 2,
   "metadata": {},
   "outputs": [
    {
     "data": {
      "text/plain": [
       "8982"
      ]
     },
     "execution_count": 2,
     "metadata": {},
     "output_type": "execute_result"
    }
   ],
   "source": [
    "len(train_data)"
   ]
  },
  {
   "cell_type": "code",
   "execution_count": 3,
   "metadata": {},
   "outputs": [
    {
     "data": {
      "text/plain": [
       "2246"
      ]
     },
     "execution_count": 3,
     "metadata": {},
     "output_type": "execute_result"
    }
   ],
   "source": [
    "len(test_data)"
   ]
  },
  {
   "cell_type": "code",
   "execution_count": 5,
   "metadata": {},
   "outputs": [
    {
     "data": {
      "text/plain": [
       "[1,\n",
       " 245,\n",
       " 273,\n",
       " 207,\n",
       " 156,\n",
       " 53,\n",
       " 74,\n",
       " 160,\n",
       " 26,\n",
       " 14,\n",
       " 46,\n",
       " 296,\n",
       " 26,\n",
       " 39,\n",
       " 74,\n",
       " 2979,\n",
       " 3554,\n",
       " 14,\n",
       " 46,\n",
       " 4689,\n",
       " 4329,\n",
       " 86,\n",
       " 61,\n",
       " 3499,\n",
       " 4795,\n",
       " 14,\n",
       " 61,\n",
       " 451,\n",
       " 4329,\n",
       " 17,\n",
       " 12]"
      ]
     },
     "execution_count": 5,
     "metadata": {},
     "output_type": "execute_result"
    }
   ],
   "source": [
    "train_data[10]"
   ]
  },
  {
   "cell_type": "code",
   "execution_count": 6,
   "metadata": {},
   "outputs": [
    {
     "name": "stdout",
     "output_type": "stream",
     "text": [
      "Downloading data from https://storage.googleapis.com/tensorflow/tf-keras-datasets/reuters_word_index.json\n",
      "550378/550378 [==============================] - 0s 0us/step\n"
     ]
    }
   ],
   "source": [
    "word_index = reuters.get_word_index()\n",
    "reverse_word_index = dict([(value, key) for (key, value) in word_index.items()])\n",
    "decoded_newswire = \" \".join([reverse_word_index.get(i - 3, \"?\") for i in train_data[0]])"
   ]
  },
  {
   "cell_type": "code",
   "execution_count": 7,
   "metadata": {},
   "outputs": [
    {
     "data": {
      "text/plain": [
       "3"
      ]
     },
     "execution_count": 7,
     "metadata": {},
     "output_type": "execute_result"
    }
   ],
   "source": [
    "train_labels[10]"
   ]
  },
  {
   "cell_type": "code",
   "execution_count": 9,
   "metadata": {},
   "outputs": [],
   "source": [
    "# import numpy as np \n",
    "# def vectorize_sequences(sequences, dimension=10000):\n",
    "#     results = np.zeros((len(sequences), dimension))\n",
    "#     for i, sequence in enumerate(sequences):\n",
    "#         for j in sequence:\n",
    "#             results[i, j] = 1.\n",
    "#     return results\n",
    "# x_train = vectorize_sequences(train_data) \n",
    "# x_test = vectorize_sequences(test_data)"
   ]
  },
  {
   "cell_type": "code",
   "execution_count": 10,
   "metadata": {},
   "outputs": [],
   "source": [
    "def to_one_hot(labels, dimension=46):\n",
    "    results = np.zeros((len(labels), dimension))\n",
    "    for i, label in enumerate(labels):\n",
    "        results[i, label] = 1.\n",
    "    return results\n",
    "y_train = to_one_hot(train_labels) \n",
    "y_test = to_one_hot(test_labels)"
   ]
  },
  {
   "cell_type": "code",
   "execution_count": 12,
   "metadata": {},
   "outputs": [],
   "source": [
    "from tensorflow.keras.utils import to_categorical\n",
    "y_train = to_categorical(train_labels)\n",
    "y_test = to_categorical(test_labels)"
   ]
  },
  {
   "cell_type": "code",
   "execution_count": 15,
   "metadata": {},
   "outputs": [],
   "source": [
    "from tensorflow import keras \n",
    "from tensorflow.keras import layers\n",
    "model = keras.Sequential([\n",
    " layers.Dense(64, activation=\"relu\"),\n",
    " layers.Dense(64, activation=\"relu\"),\n",
    " layers.Dense(46, activation=\"softmax\")\n",
    "])"
   ]
  },
  {
   "cell_type": "code",
   "execution_count": 16,
   "metadata": {},
   "outputs": [],
   "source": [
    "model.compile(optimizer=\"rmsprop\",\n",
    " loss=\"categorical_crossentropy\",\n",
    " metrics=[\"accuracy\"])"
   ]
  },
  {
   "cell_type": "code",
   "execution_count": 17,
   "metadata": {},
   "outputs": [],
   "source": [
    "x_val = x_train[:1000]\n",
    "partial_x_train = x_train[1000:]\n",
    "y_val = y_train[:1000]\n",
    "partial_y_train = y_train[1000:]"
   ]
  },
  {
   "cell_type": "code",
   "execution_count": 18,
   "metadata": {},
   "outputs": [
    {
     "name": "stdout",
     "output_type": "stream",
     "text": [
      "Epoch 1/20\n",
      "16/16 [==============================] - 1s 35ms/step - loss: 2.7741 - accuracy: 0.4964 - val_loss: 1.9473 - val_accuracy: 0.5740\n",
      "Epoch 2/20\n",
      "16/16 [==============================] - 0s 20ms/step - loss: 1.6305 - accuracy: 0.6468 - val_loss: 1.4511 - val_accuracy: 0.6790\n",
      "Epoch 3/20\n",
      "16/16 [==============================] - 0s 20ms/step - loss: 1.2512 - accuracy: 0.7270 - val_loss: 1.2552 - val_accuracy: 0.7110\n",
      "Epoch 4/20\n",
      "16/16 [==============================] - 0s 20ms/step - loss: 1.0347 - accuracy: 0.7747 - val_loss: 1.1484 - val_accuracy: 0.7520\n",
      "Epoch 5/20\n",
      "16/16 [==============================] - 0s 20ms/step - loss: 0.8664 - accuracy: 0.8157 - val_loss: 1.0667 - val_accuracy: 0.7580\n",
      "Epoch 6/20\n",
      "16/16 [==============================] - 0s 21ms/step - loss: 0.7353 - accuracy: 0.8416 - val_loss: 1.0012 - val_accuracy: 0.7840\n",
      "Epoch 7/20\n",
      "16/16 [==============================] - 0s 20ms/step - loss: 0.6220 - accuracy: 0.8698 - val_loss: 0.9515 - val_accuracy: 0.8070\n",
      "Epoch 8/20\n",
      "16/16 [==============================] - 0s 26ms/step - loss: 0.5302 - accuracy: 0.8889 - val_loss: 0.9343 - val_accuracy: 0.8080\n",
      "Epoch 9/20\n",
      "16/16 [==============================] - 0s 20ms/step - loss: 0.4479 - accuracy: 0.9043 - val_loss: 0.9061 - val_accuracy: 0.8120\n",
      "Epoch 10/20\n",
      "16/16 [==============================] - 0s 20ms/step - loss: 0.3843 - accuracy: 0.9173 - val_loss: 0.9133 - val_accuracy: 0.8020\n",
      "Epoch 11/20\n",
      "16/16 [==============================] - 0s 20ms/step - loss: 0.3263 - accuracy: 0.9295 - val_loss: 0.8985 - val_accuracy: 0.8110\n",
      "Epoch 12/20\n",
      "16/16 [==============================] - 0s 20ms/step - loss: 0.2837 - accuracy: 0.9376 - val_loss: 0.8987 - val_accuracy: 0.8120\n",
      "Epoch 13/20\n",
      "16/16 [==============================] - 0s 20ms/step - loss: 0.2513 - accuracy: 0.9424 - val_loss: 0.8805 - val_accuracy: 0.8160\n",
      "Epoch 14/20\n",
      "16/16 [==============================] - 0s 25ms/step - loss: 0.2225 - accuracy: 0.9455 - val_loss: 0.8905 - val_accuracy: 0.8130\n",
      "Epoch 15/20\n",
      "16/16 [==============================] - 0s 24ms/step - loss: 0.1993 - accuracy: 0.9499 - val_loss: 0.9208 - val_accuracy: 0.8160\n",
      "Epoch 16/20\n",
      "16/16 [==============================] - 1s 36ms/step - loss: 0.1855 - accuracy: 0.9526 - val_loss: 0.9447 - val_accuracy: 0.8130\n",
      "Epoch 17/20\n",
      "16/16 [==============================] - 0s 23ms/step - loss: 0.1630 - accuracy: 0.9554 - val_loss: 0.9244 - val_accuracy: 0.8160\n",
      "Epoch 18/20\n",
      "16/16 [==============================] - 0s 24ms/step - loss: 0.1574 - accuracy: 0.9548 - val_loss: 0.9686 - val_accuracy: 0.8060\n",
      "Epoch 19/20\n",
      "16/16 [==============================] - 0s 24ms/step - loss: 0.1474 - accuracy: 0.9569 - val_loss: 0.9665 - val_accuracy: 0.8090\n",
      "Epoch 20/20\n",
      "16/16 [==============================] - 0s 20ms/step - loss: 0.1391 - accuracy: 0.9572 - val_loss: 0.9713 - val_accuracy: 0.8080\n"
     ]
    }
   ],
   "source": [
    "history = model.fit(partial_x_train,\n",
    "partial_y_train,\n",
    "epochs=20,\n",
    "batch_size=512,\n",
    "validation_data=(x_val, y_val))"
   ]
  },
  {
   "cell_type": "code",
   "execution_count": 20,
   "metadata": {},
   "outputs": [
    {
     "data": {
      "image/png": "[encoded data removed]",
      "text/plain": [
       "<Figure size 640x480 with 1 Axes>"
      ]
     },
     "metadata": {},
     "output_type": "display_data"
    }
   ],
   "source": [
    "import matplotlib.pyplot as plt\n",
    "\n",
    "loss = history.history[\"loss\"]\n",
    "val_loss = history.history[\"val_loss\"]\n",
    "epochs = range(1, len(loss) + 1)\n",
    "plt.plot(epochs, loss, \"bo\", label=\"Training loss\")\n",
    "plt.plot(epochs, val_loss, \"b\", label=\"Validation loss\")\n",
    "plt.title(\"Training and validation loss\")\n",
    "plt.xlabel(\"Epochs\")\n",
    "plt.ylabel(\"Loss\")\n",
    "plt.legend()\n",
    "plt.show()"
   ]
  },
  {
   "cell_type": "code",
   "execution_count": 21,
   "metadata": {},
   "outputs": [
    {
     "data": {
      "image/png": "[encoded data removed]",
      "text/plain": [
       "<Figure size 640x480 with 1 Axes>"
      ]
     },
     "metadata": {},
     "output_type": "display_data"
    }
   ],
   "source": [
    "plt.clf()\n",
    "acc = history.history[\"accuracy\"]\n",
    "val_acc = history.history[\"val_accuracy\"]\n",
    "plt.plot(epochs, acc, \"bo\", label=\"Training accuracy\")\n",
    "plt.plot(epochs, val_acc, \"b\", label=\"Validation accuracy\")\n",
    "plt.title(\"Training and validation accuracy\")\n",
    "plt.xlabel(\"Epochs\")\n",
    "plt.ylabel(\"Accuracy\")\n",
    "plt.legend()\n",
    "plt.show()"
   ]
  },
  {
   "cell_type": "code",
   "execution_count": 22,
   "metadata": {},
   "outputs": [
    {
     "name": "stdout",
     "output_type": "stream",
     "text": [
      "Epoch 1/9\n",
      "18/18 [==============================] - 1s 19ms/step - loss: 2.4814 - accuracy: 0.5071\n",
      "Epoch 2/9\n",
      "18/18 [==============================] - 0s 18ms/step - loss: 1.4317 - accuracy: 0.6892\n",
      "Epoch 3/9\n",
      "18/18 [==============================] - 0s 23ms/step - loss: 1.1067 - accuracy: 0.7572\n",
      "Epoch 4/9\n",
      "18/18 [==============================] - 1s 28ms/step - loss: 0.8925 - accuracy: 0.8017\n",
      "Epoch 5/9\n",
      "18/18 [==============================] - 0s 18ms/step - loss: 0.7275 - accuracy: 0.8420\n",
      "Epoch 6/9\n",
      "18/18 [==============================] - 0s 18ms/step - loss: 0.6019 - accuracy: 0.8725\n",
      "Epoch 7/9\n",
      "18/18 [==============================] - 0s 18ms/step - loss: 0.4942 - accuracy: 0.8959\n",
      "Epoch 8/9\n",
      "18/18 [==============================] - 0s 24ms/step - loss: 0.4166 - accuracy: 0.9119\n",
      "Epoch 9/9\n",
      "18/18 [==============================] - 0s 17ms/step - loss: 0.3491 - accuracy: 0.9243\n",
      "71/71 [==============================] - 0s 2ms/step - loss: 0.9111 - accuracy: 0.7885\n"
     ]
    }
   ],
   "source": [
    "model = keras.Sequential([\n",
    "                            layers.Dense(64, activation=\"relu\"),\n",
    "                            layers.Dense(64, activation=\"relu\"),\n",
    "                            layers.Dense(46, activation=\"softmax\")\n",
    "                        ])\n",
    "model.compile(optimizer=\"rmsprop\",\n",
    "            loss=\"categorical_crossentropy\",\n",
    "            metrics=[\"accuracy\"]\n",
    "            )\n",
    "model.fit(x_train,y_train,epochs=9,batch_size=512)\n",
    "results = model.evaluate(x_test, y_test)"
   ]
  },
  {
   "cell_type": "code",
   "execution_count": 23,
   "metadata": {},
   "outputs": [
    {
     "data": {
      "text/plain": [
       "[0.9111035466194153, 0.7885128855705261]"
      ]
     },
     "execution_count": 23,
     "metadata": {},
     "output_type": "execute_result"
    }
   ],
   "source": [
    "results"
   ]
  },
  {
   "cell_type": "code",
   "execution_count": 25,
   "metadata": {},
   "outputs": [
    {
     "data": {
      "text/plain": [
       "(2246, 10000)"
      ]
     },
     "execution_count": 25,
     "metadata": {},
     "output_type": "execute_result"
    }
   ],
   "source": [
    "x_test.shape\n",
    "# model.predict(x_test[0].reshape(1,10000))"
   ]
  },
  {
   "cell_type": "code",
   "execution_count": 52,
   "metadata": {},
   "outputs": [
    {
     "name": "stdout",
     "output_type": "stream",
     "text": [
      "1/1 [==============================] - 0s 22ms/step\n"
     ]
    }
   ],
   "source": [
    "p=model.predict(x_test[0].reshape(1,10000))"
   ]
  },
  {
   "cell_type": "code",
   "execution_count": 53,
   "metadata": {},
   "outputs": [
    {
     "data": {
      "text/plain": [
       "array([[6.42376181e-05, 2.15819702e-04, 3.09028372e-04, 4.43978220e-01,\n",
       "        5.19725144e-01, 5.80256301e-06, 8.53766687e-05, 1.91974163e-04,\n",
       "        3.49987904e-03, 6.82259415e-05, 2.09556310e-04, 5.71073173e-03,\n",
       "        3.89365632e-05, 1.96915702e-04, 6.10714269e-05, 2.74012255e-05,\n",
       "        1.30775627e-02, 3.20200517e-04, 9.50670103e-04, 7.02508318e-04,\n",
       "        3.09893116e-03, 8.15452251e-04, 2.89235963e-04, 4.90004459e-05,\n",
       "        1.76018111e-05, 6.20679566e-05, 8.57429040e-06, 2.42330934e-04,\n",
       "        6.17416081e-05, 8.13364459e-04, 3.38022131e-04, 4.80458402e-04,\n",
       "        7.72445346e-05, 4.54517658e-06, 3.61750368e-04, 1.64357098e-05,\n",
       "        2.00036695e-04, 1.21218345e-05, 9.32425974e-05, 3.15815699e-03,\n",
       "        2.15341497e-05, 1.04743936e-04, 1.76525282e-04, 4.29042557e-05,\n",
       "        9.03925684e-06, 5.58427882e-06]], dtype=float32)"
      ]
     },
     "execution_count": 53,
     "metadata": {},
     "output_type": "execute_result"
    }
   ],
   "source": [
    "p"
   ]
  },
  {
   "cell_type": "code",
   "execution_count": 54,
   "metadata": {},
   "outputs": [],
   "source": [
    "p.sort()"
   ]
  },
  {
   "cell_type": "code",
   "execution_count": 55,
   "metadata": {},
   "outputs": [
    {
     "data": {
      "text/plain": [
       "array([[4.54517658e-06, 5.58427882e-06, 5.80256301e-06, 8.57429040e-06,\n",
       "        9.03925684e-06, 1.21218345e-05, 1.64357098e-05, 1.76018111e-05,\n",
       "        2.15341497e-05, 2.74012255e-05, 3.89365632e-05, 4.29042557e-05,\n",
       "        4.90004459e-05, 6.10714269e-05, 6.17416081e-05, 6.20679566e-05,\n",
       "        6.42376181e-05, 6.82259415e-05, 7.72445346e-05, 8.53766687e-05,\n",
       "        9.32425974e-05, 1.04743936e-04, 1.76525282e-04, 1.91974163e-04,\n",
       "        1.96915702e-04, 2.00036695e-04, 2.09556310e-04, 2.15819702e-04,\n",
       "        2.42330934e-04, 2.89235963e-04, 3.09028372e-04, 3.20200517e-04,\n",
       "        3.38022131e-04, 3.61750368e-04, 4.80458402e-04, 7.02508318e-04,\n",
       "        8.13364459e-04, 8.15452251e-04, 9.50670103e-04, 3.09893116e-03,\n",
       "        3.15815699e-03, 3.49987904e-03, 5.71073173e-03, 1.30775627e-02,\n",
       "        4.43978220e-01, 5.19725144e-01]], dtype=float32)"
      ]
     },
     "execution_count": 55,
     "metadata": {},
     "output_type": "execute_result"
    }
   ],
   "source": [
    "p"
   ]
  },
  {
   "cell_type": "code",
   "execution_count": 56,
   "metadata": {},
   "outputs": [
    {
     "data": {
      "text/plain": [
       "0.519725144"
      ]
     },
     "execution_count": 56,
     "metadata": {},
     "output_type": "execute_result"
    }
   ],
   "source": [
    "5.19725144e-01"
   ]
  },
  {
   "cell_type": "code",
   "execution_count": 57,
   "metadata": {},
   "outputs": [
    {
     "name": "stdout",
     "output_type": "stream",
     "text": [
      "71/71 [==============================] - 0s 2ms/step\n"
     ]
    }
   ],
   "source": [
    "predictions = model.predict(x_test)"
   ]
  },
  {
   "cell_type": "code",
   "execution_count": 58,
   "metadata": {},
   "outputs": [
    {
     "data": {
      "text/plain": [
       "(2246, 46)"
      ]
     },
     "execution_count": 58,
     "metadata": {},
     "output_type": "execute_result"
    }
   ],
   "source": [
    "predictions.shape"
   ]
  },
  {
   "cell_type": "code",
   "execution_count": 59,
   "metadata": {},
   "outputs": [
    {
     "data": {
      "text/plain": [
       "(46,)"
      ]
     },
     "execution_count": 59,
     "metadata": {},
     "output_type": "execute_result"
    }
   ],
   "source": [
    "predictions[0].shape"
   ]
  },
  {
   "cell_type": "code",
   "execution_count": 60,
   "metadata": {},
   "outputs": [
    {
     "data": {
      "text/plain": [
       "0.9999999"
      ]
     },
     "execution_count": 60,
     "metadata": {},
     "output_type": "execute_result"
    }
   ],
   "source": [
    "np.sum(predictions[0])"
   ]
  },
  {
   "cell_type": "code",
   "execution_count": 61,
   "metadata": {},
   "outputs": [
    {
     "data": {
      "text/plain": [
       "4"
      ]
     },
     "execution_count": 61,
     "metadata": {},
     "output_type": "execute_result"
    }
   ],
   "source": [
    "np.argmax(predictions[0])"
   ]
  },
  {
   "cell_type": "code",
   "execution_count": 62,
   "metadata": {},
   "outputs": [
    {
     "data": {
      "text/plain": [
       "3"
      ]
     },
     "execution_count": 62,
     "metadata": {},
     "output_type": "execute_result"
    }
   ],
   "source": [
    "y_test[0]"
   ]
  }
 ],
 "metadata": {
  "kernelspec": {
   "display_name": ".venv",
   "language": "python",
   "name": "python3"
  },
  "language_info": {
   "codemirror_mode": {
    "name": "ipython",
    "version": 3
   },
   "file_extension": ".py",
   "mimetype": "text/x-python",
   "name": "python",
   "nbconvert_exporter": "python",
   "pygments_lexer": "ipython3",
   "version": "3.7.2"
  },
  "orig_nbformat": 4
 },
 "nbformat": 4,
 "nbformat_minor": 2
}
