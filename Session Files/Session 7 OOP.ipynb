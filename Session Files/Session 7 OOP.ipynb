{
 "cells": [
  {
   "cell_type": "markdown",
   "metadata": {},
   "source": [
    "# Object Oriented Programming"
   ]
  },
  {
   "cell_type": "code",
   "execution_count": 12,
   "metadata": {},
   "outputs": [],
   "source": [
    "class Laptop():\n",
    "    # Attribute /Charactereistics /Properties \n",
    "    color =\"Black\"\n",
    "    ram   = \"20GB\"\n",
    "    storgae =\"1TB\"\n",
    "    make = \"Dell\"\n",
    "    model = \"Z240\"\n",
    "    processor = \"Corei7\"\n",
    "    genereation  = \"9th\"\n",
    "    \n",
    "    # Behaviour / Methods /functionalities\n",
    "    def switch_on(self):\n",
    "        print(\"Laptop is Switched on\")\n",
    "    def shut_down(self):\n",
    "        print(\"Laptop is Shutdown\")\n",
    "    def run_app(self):\n",
    "        print(\"MS Word is runnning on Laptop\")\n",
    "    def play_game(self):\n",
    "        print(\"Ahmed is Playing Game on Laptop\")\n"
   ]
  },
  {
   "cell_type": "code",
   "execution_count": 13,
   "metadata": {},
   "outputs": [
    {
     "data": {
      "text/plain": [
       "'20GB'"
      ]
     },
     "execution_count": 13,
     "metadata": {},
     "output_type": "execute_result"
    }
   ],
   "source": [
    "nabeel_laptop = Laptop ()\n",
    "nabeel_laptop.ram"
   ]
  },
  {
   "cell_type": "code",
   "execution_count": 14,
   "metadata": {},
   "outputs": [
    {
     "data": {
      "text/plain": [
       "'Dell'"
      ]
     },
     "execution_count": 14,
     "metadata": {},
     "output_type": "execute_result"
    }
   ],
   "source": [
    "rafy_laptop = Laptop ()\n",
    "nabeel_laptop.make"
   ]
  },
  {
   "cell_type": "code",
   "execution_count": 15,
   "metadata": {},
   "outputs": [
    {
     "name": "stdout",
     "output_type": "stream",
     "text": [
      "Laptop is Shutdown\n"
     ]
    }
   ],
   "source": [
    "nabeel_laptop.shut_down()"
   ]
  },
  {
   "cell_type": "code",
   "execution_count": 58,
   "metadata": {},
   "outputs": [],
   "source": [
    "class Laptop():\n",
    "    # Constructor\n",
    "    def __init__(self,color,ram,storage,processor,model,make,generation):\n",
    "        self.color       = color\n",
    "        self.ram         = ram\n",
    "        self.storage     = storage\n",
    "        self.processor   = processor\n",
    "        self.model       = model\n",
    "        self.make        = make \n",
    "        self.generation  = generation\n",
    "    def specification (self):\n",
    "        print(f'''\n",
    "        =========================================\n",
    "                   Laptop Specification\n",
    "        =========================================\n",
    "        color      :      {self.color}\n",
    "        Ram        :      {self.ram}\n",
    "        Storage    :      {self.storage}\n",
    "        Processor  :      {self.processor}\n",
    "        Model      :      {self.model}\n",
    "        Make       :      {self.make}\n",
    "        Generation :      {self.generation}\n",
    "       =========================================\n",
    "       =========================================\n",
    "\n",
    "        ''')"
   ]
  },
  {
   "cell_type": "code",
   "execution_count": 59,
   "metadata": {},
   "outputs": [
    {
     "ename": "TypeError",
     "evalue": "__init__() missing 7 required positional arguments: 'color', 'ram', 'storage', 'processor', 'model', 'make', and 'generation'",
     "output_type": "error",
     "traceback": [
      "\u001b[1;31m---------------------------------------------------------------------------\u001b[0m",
      "\u001b[1;31mTypeError\u001b[0m                                 Traceback (most recent call last)",
      "\u001b[1;32m<ipython-input-59-ca7eecb0fb10>\u001b[0m in \u001b[0;36m<module>\u001b[1;34m\u001b[0m\n\u001b[1;32m----> 1\u001b[1;33m \u001b[0mlpt1\u001b[0m \u001b[1;33m=\u001b[0m \u001b[0mLaptop\u001b[0m\u001b[1;33m(\u001b[0m\u001b[1;33m)\u001b[0m\u001b[1;33m\u001b[0m\u001b[1;33m\u001b[0m\u001b[0m\n\u001b[0m",
      "\u001b[1;31mTypeError\u001b[0m: __init__() missing 7 required positional arguments: 'color', 'ram', 'storage', 'processor', 'model', 'make', and 'generation'"
     ]
    }
   ],
   "source": [
    "lpt1 = Laptop()"
   ]
  },
  {
   "cell_type": "code",
   "execution_count": 60,
   "metadata": {},
   "outputs": [],
   "source": [
    "lpt1 = Laptop(\"Black\",\"20GB\",\"2TB\",\"core i9\",\"Z240\",\"HP\",\"11th\")"
   ]
  },
  {
   "cell_type": "code",
   "execution_count": 61,
   "metadata": {},
   "outputs": [
    {
     "data": {
      "text/plain": [
       "'Black'"
      ]
     },
     "execution_count": 61,
     "metadata": {},
     "output_type": "execute_result"
    }
   ],
   "source": [
    "lpt1.color"
   ]
  },
  {
   "cell_type": "code",
   "execution_count": 62,
   "metadata": {},
   "outputs": [
    {
     "data": {
      "text/plain": [
       "'core i9'"
      ]
     },
     "execution_count": 62,
     "metadata": {},
     "output_type": "execute_result"
    }
   ],
   "source": [
    "lpt1.processor"
   ]
  },
  {
   "cell_type": "code",
   "execution_count": 63,
   "metadata": {},
   "outputs": [
    {
     "data": {
      "text/plain": [
       "'20GB'"
      ]
     },
     "execution_count": 63,
     "metadata": {},
     "output_type": "execute_result"
    }
   ],
   "source": [
    "lpt1.ram"
   ]
  },
  {
   "cell_type": "code",
   "execution_count": 64,
   "metadata": {},
   "outputs": [
    {
     "name": "stdout",
     "output_type": "stream",
     "text": [
      "\n",
      "        =========================================\n",
      "                   Laptop Specification\n",
      "        =========================================\n",
      "        color      :      Black\n",
      "        Ram        :      20GB\n",
      "        Storage    :      2TB\n",
      "        Processor  :      core i9\n",
      "        Model      :      Z240\n",
      "        Make       :      HP\n",
      "        Generation :      11th\n",
      "       =========================================\n",
      "       =========================================\n",
      "\n",
      "        \n"
     ]
    }
   ],
   "source": [
    "lpt1.specification()"
   ]
  },
  {
   "cell_type": "code",
   "execution_count": 65,
   "metadata": {},
   "outputs": [],
   "source": [
    "lpt2 = Laptop(\"Silver\",\"50GB\",\"3TB\",\"core i7\",\"Z250\",\"HP\",\"9th\")"
   ]
  },
  {
   "cell_type": "code",
   "execution_count": 66,
   "metadata": {},
   "outputs": [
    {
     "data": {
      "text/plain": [
       "'Silver'"
      ]
     },
     "execution_count": 66,
     "metadata": {},
     "output_type": "execute_result"
    }
   ],
   "source": [
    "lpt2.color"
   ]
  },
  {
   "cell_type": "code",
   "execution_count": 67,
   "metadata": {},
   "outputs": [
    {
     "name": "stdout",
     "output_type": "stream",
     "text": [
      "\n",
      "        =========================================\n",
      "                   Laptop Specification\n",
      "        =========================================\n",
      "        color      :      Silver\n",
      "        Ram        :      50GB\n",
      "        Storage    :      3TB\n",
      "        Processor  :      core i7\n",
      "        Model      :      Z250\n",
      "        Make       :      HP\n",
      "        Generation :      9th\n",
      "       =========================================\n",
      "       =========================================\n",
      "\n",
      "        \n"
     ]
    }
   ],
   "source": [
    "lpt2.specification()"
   ]
  },
  {
   "cell_type": "code",
   "execution_count": 68,
   "metadata": {},
   "outputs": [
    {
     "name": "stdout",
     "output_type": "stream",
     "text": [
      "\n",
      "        =========================================\n",
      "                   Laptop Specification\n",
      "        =========================================\n",
      "        color      :      Black\n",
      "        Ram        :      20GB\n",
      "        Storage    :      2TB\n",
      "        Processor  :      core i9\n",
      "        Model      :      Z240\n",
      "        Make       :      HP\n",
      "        Generation :      11th\n",
      "       =========================================\n",
      "       =========================================\n",
      "\n",
      "        \n"
     ]
    }
   ],
   "source": [
    "# Not conventional way to check the DataCopy of a Class\n",
    "Laptop.specification(lpt1)"
   ]
  },
  {
   "cell_type": "code",
   "execution_count": 69,
   "metadata": {},
   "outputs": [
    {
     "name": "stdout",
     "output_type": "stream",
     "text": [
      "\n",
      "        =========================================\n",
      "                   Laptop Specification\n",
      "        =========================================\n",
      "        color      :      Silver\n",
      "        Ram        :      50GB\n",
      "        Storage    :      3TB\n",
      "        Processor  :      core i7\n",
      "        Model      :      Z250\n",
      "        Make       :      HP\n",
      "        Generation :      9th\n",
      "       =========================================\n",
      "       =========================================\n",
      "\n",
      "        \n"
     ]
    }
   ],
   "source": [
    "# Not conventional way to check the DataCopy of a Class\n",
    "Laptop.specification(lpt2)"
   ]
  },
  {
   "cell_type": "code",
   "execution_count": 122,
   "metadata": {},
   "outputs": [],
   "source": [
    "class Student():\n",
    "    # Class Attributes\n",
    "    def __init__(self,student_name,student_class,student_semester,student_age,student_email):\n",
    "        self.student_name = student_name\n",
    "        self.student_class = student_class \n",
    "        self.student_semester = student_semester\n",
    "        self.student_age = student_age\n",
    "        self.student_email = student_email\n",
    "        \n",
    "    def student_detail(self):\n",
    "        print(f'''\n",
    "        =========================================\n",
    "                   Student Profile\n",
    "        =========================================\n",
    "        student_name         :  {self.student_name}\n",
    "        student_class        :  {self.student_class}\n",
    "        student_semester     :  {self.student_semester}\n",
    "        student_age          :  {self.student_age}\n",
    "        student_email        :  {self.student_email}\n",
    "       =========================================\n",
    "       =========================================\n",
    "\n",
    "        ''')\n",
    "        \n",
    "    def attempt_exam(self):\n",
    "        attendence = int(input(\"Enter Attendence Percentage : \"))\n",
    "        if attendence >= 70:\n",
    "            print(\"You can appeared in exam\")\n",
    "        else:\n",
    "            print(\"You can't appeared in exam\")\n",
    "    def award_winner(self):\n",
    "        CGPA = float(input(\"Enter Exam CGPA : \"))\n",
    "        if CGPA >= 3.5:\n",
    "            print(\"Awarded with Dean's Scholarship award\")\n",
    "        else:\n",
    "            print(\" Not Earned awarded with Dean's Scholarship award\")   \n",
    "    def repution(self):\n",
    "        print(\"If He/She is Obedient in classes his/her Reputation is Good\")\n",
    "\n"
   ]
  },
  {
   "cell_type": "code",
   "execution_count": 123,
   "metadata": {},
   "outputs": [],
   "source": [
    "std1 = Student(\"Ahmed\" , \"BSCS\" , \"4th\" , \"20 Years\" , \"ahmed.ali@gmail.com\")"
   ]
  },
  {
   "cell_type": "code",
   "execution_count": 124,
   "metadata": {},
   "outputs": [
    {
     "name": "stdout",
     "output_type": "stream",
     "text": [
      "\n",
      "        =========================================\n",
      "                   Student Profile\n",
      "        =========================================\n",
      "        student_name         :  Ahmed\n",
      "        student_class        :  BSCS\n",
      "        student_semester     :  4th\n",
      "        student_age          :  20 Years\n",
      "        student_email        :  ahmed.ali@gmail.com\n",
      "       =========================================\n",
      "       =========================================\n",
      "\n",
      "        \n"
     ]
    }
   ],
   "source": [
    "std1.student_detail()"
   ]
  },
  {
   "cell_type": "code",
   "execution_count": 125,
   "metadata": {},
   "outputs": [
    {
     "name": "stdout",
     "output_type": "stream",
     "text": [
      "If He/She is Obedient in classes his/her Reputation is Good\n"
     ]
    }
   ],
   "source": [
    "std1.repution()"
   ]
  },
  {
   "cell_type": "code",
   "execution_count": 126,
   "metadata": {},
   "outputs": [
    {
     "name": "stdout",
     "output_type": "stream",
     "text": [
      "Enter Exam CGPA : 3.5\n",
      "Awarded with Dean's Scholarship award\n"
     ]
    }
   ],
   "source": [
    "std1.award_winner()"
   ]
  },
  {
   "cell_type": "code",
   "execution_count": 127,
   "metadata": {},
   "outputs": [
    {
     "name": "stdout",
     "output_type": "stream",
     "text": [
      "Enter Attendence Percentage : 65\n",
      "You can't appeared in exam\n"
     ]
    }
   ],
   "source": [
    "std1.attempt_exam()"
   ]
  },
  {
   "cell_type": "code",
   "execution_count": 111,
   "metadata": {},
   "outputs": [],
   "source": [
    "std2 = Student(\"Ali\" , \"BS Software Engineering\" , \"8th\" , \"21 Years\" , \"ali@gmail.com\")"
   ]
  },
  {
   "cell_type": "code",
   "execution_count": 96,
   "metadata": {},
   "outputs": [
    {
     "data": {
      "text/plain": [
       "'Ali'"
      ]
     },
     "execution_count": 96,
     "metadata": {},
     "output_type": "execute_result"
    }
   ],
   "source": [
    "std2.student_name"
   ]
  },
  {
   "cell_type": "code",
   "execution_count": 97,
   "metadata": {},
   "outputs": [
    {
     "name": "stdout",
     "output_type": "stream",
     "text": [
      "\n",
      "        =========================================\n",
      "                   Student Profile\n",
      "        =========================================\n",
      "        student_name         :  Ahmed\n",
      "        student_class        :  BSCS\n",
      "        student_semester     :  4th\n",
      "        student_age          :  20 Years\n",
      "        student_email        :  ahmed.ali@gmail.com\n",
      "       =========================================\n",
      "       =========================================\n",
      "\n",
      "        \n"
     ]
    }
   ],
   "source": [
    "std1.student_detail()"
   ]
  },
  {
   "cell_type": "code",
   "execution_count": 98,
   "metadata": {},
   "outputs": [
    {
     "name": "stdout",
     "output_type": "stream",
     "text": [
      "\n",
      "        =========================================\n",
      "                   Student Profile\n",
      "        =========================================\n",
      "        student_name         :  Ali\n",
      "        student_class        :  BS Software Engineering\n",
      "        student_semester     :  8th\n",
      "        student_age          :  21 Years\n",
      "        student_email        :  ali@gmail.com\n",
      "       =========================================\n",
      "       =========================================\n",
      "\n",
      "        \n"
     ]
    }
   ],
   "source": [
    "std2.student_detail()"
   ]
  },
  {
   "cell_type": "markdown",
   "metadata": {},
   "source": [
    "# Pillars of OOPS\n",
    "    ENCAPSULATION\n",
    "    POLYPORPHISM\n",
    "    INHERETENCE\n",
    "    ABSTRACTION"
   ]
  },
  {
   "cell_type": "markdown",
   "metadata": {},
   "source": [
    "# Encapsulation\n",
    " Data Binding with methods"
   ]
  },
  {
   "cell_type": "code",
   "execution_count": 151,
   "metadata": {},
   "outputs": [],
   "source": [
    "class Laptop():\n",
    "    # Constructor\n",
    "    def __init__(self,color,ram,storage,processor,model,make,generation):\n",
    "        self.color       = color\n",
    "        self.ram         = ram\n",
    "        self.storage     = storage\n",
    "        self.processor   = processor\n",
    "        self.model       = model\n",
    "        self.make        = make \n",
    "        self.generation  = generation\n",
    "    def specification (self):\n",
    "        print(f'''\n",
    "        =========================================\n",
    "                   Laptop Specification\n",
    "        =========================================\n",
    "        color      :      {self.color}\n",
    "        Ram        :      {self.ram}\n",
    "        Storage    :      {self.storage}\n",
    "        Processor  :      {self.processor}\n",
    "        Model      :      {self.model}\n",
    "        Make       :      {self.make}\n",
    "        Generation :      {self.generation}\n",
    "       =========================================\n",
    "       =========================================\n",
    "\n",
    "        ''')\n",
    "    def get_color(self):\n",
    "        print(f\"The color of Laptop is {self.color}\")\n",
    "        \n",
    "    def set_color(self,newcolor):\n",
    "        colors = [\"Black\",\"Silver\" ,\"Blue\" , \"White\"]\n",
    "        if newcolor in colors:\n",
    "            self.color = newcolor\n",
    "        else: \n",
    "            print(\"Color not Available\")\n",
    "                  \n",
    "    def get_make(self):\n",
    "        print(f\"This  Laptop Manufactured by {self.make}\")\n",
    "        \n",
    "    def set_make(self,new_make):\n",
    "        makes = [\"HP\",\"Lenovo\" ,\"Dell\"]\n",
    "        if new_make in makes:\n",
    "            self.make = new_make\n",
    "        else: \n",
    "            print(\"Manufacturer not Available\")"
   ]
  },
  {
   "cell_type": "code",
   "execution_count": 152,
   "metadata": {},
   "outputs": [],
   "source": [
    "lpt3 = Laptop(\"Silver\",\"50GB\",\"3TB\",\"core i7\",\"Z250\",\"HP\",\"9th\")"
   ]
  },
  {
   "cell_type": "code",
   "execution_count": 153,
   "metadata": {},
   "outputs": [
    {
     "data": {
      "text/plain": [
       "'Silver'"
      ]
     },
     "execution_count": 153,
     "metadata": {},
     "output_type": "execute_result"
    }
   ],
   "source": [
    "lpt3.color"
   ]
  },
  {
   "cell_type": "code",
   "execution_count": 154,
   "metadata": {},
   "outputs": [
    {
     "name": "stdout",
     "output_type": "stream",
     "text": [
      "The color of Laptop is Silver\n"
     ]
    }
   ],
   "source": [
    "lpt3.get_color()"
   ]
  },
  {
   "cell_type": "code",
   "execution_count": 155,
   "metadata": {},
   "outputs": [
    {
     "name": "stdout",
     "output_type": "stream",
     "text": [
      "Color not Available\n"
     ]
    }
   ],
   "source": [
    "lpt3.set_color(\"Orange\")"
   ]
  },
  {
   "cell_type": "code",
   "execution_count": 156,
   "metadata": {},
   "outputs": [],
   "source": [
    "lpt3.set_color(\"Black\")"
   ]
  },
  {
   "cell_type": "code",
   "execution_count": 157,
   "metadata": {},
   "outputs": [
    {
     "name": "stdout",
     "output_type": "stream",
     "text": [
      "The color of Laptop is Black\n"
     ]
    }
   ],
   "source": [
    "lpt3.get_color()"
   ]
  },
  {
   "cell_type": "code",
   "execution_count": 158,
   "metadata": {},
   "outputs": [
    {
     "ename": "TypeError",
     "evalue": "set_color() missing 1 required positional argument: 'newcolor'",
     "output_type": "error",
     "traceback": [
      "\u001b[1;31m---------------------------------------------------------------------------\u001b[0m",
      "\u001b[1;31mTypeError\u001b[0m                                 Traceback (most recent call last)",
      "\u001b[1;32m<ipython-input-158-413eabc3c98b>\u001b[0m in \u001b[0;36m<module>\u001b[1;34m\u001b[0m\n\u001b[1;32m----> 1\u001b[1;33m \u001b[0mlpt3\u001b[0m\u001b[1;33m.\u001b[0m\u001b[0mset_color\u001b[0m\u001b[1;33m(\u001b[0m\u001b[1;33m)\u001b[0m\u001b[1;33m\u001b[0m\u001b[1;33m\u001b[0m\u001b[0m\n\u001b[0m",
      "\u001b[1;31mTypeError\u001b[0m: set_color() missing 1 required positional argument: 'newcolor'"
     ]
    }
   ],
   "source": [
    "lpt3.set_color()"
   ]
  },
  {
   "cell_type": "code",
   "execution_count": 159,
   "metadata": {},
   "outputs": [
    {
     "name": "stdout",
     "output_type": "stream",
     "text": [
      "This  Laptop Manufactured by HP\n"
     ]
    }
   ],
   "source": [
    "lpt3.get_make()"
   ]
  },
  {
   "cell_type": "code",
   "execution_count": 160,
   "metadata": {},
   "outputs": [
    {
     "name": "stdout",
     "output_type": "stream",
     "text": [
      "Manufacturer not Available\n"
     ]
    }
   ],
   "source": [
    "lpt3.set_make(\"Haier\")"
   ]
  },
  {
   "cell_type": "code",
   "execution_count": 165,
   "metadata": {},
   "outputs": [],
   "source": [
    "from OurLaptop import Laptop"
   ]
  },
  {
   "cell_type": "code",
   "execution_count": 167,
   "metadata": {},
   "outputs": [],
   "source": [
    "lpt4 =Laptop(\"Blue\",\"50GB\",\"3TB\",\"core i7\",\"Z250\",\"HP\",\"7th\")"
   ]
  },
  {
   "cell_type": "code",
   "execution_count": 168,
   "metadata": {},
   "outputs": [
    {
     "name": "stdout",
     "output_type": "stream",
     "text": [
      "The color of Laptop is Blue\n"
     ]
    }
   ],
   "source": [
    "lpt4.get_color()"
   ]
  },
  {
   "cell_type": "code",
   "execution_count": 170,
   "metadata": {},
   "outputs": [
    {
     "name": "stdout",
     "output_type": "stream",
     "text": [
      "Color not Available\n"
     ]
    }
   ],
   "source": [
    "lpt4.set_color(\"Red\")"
   ]
  },
  {
   "cell_type": "markdown",
   "metadata": {},
   "source": [
    "# Inheretence"
   ]
  },
  {
   "cell_type": "code",
   "execution_count": 57,
   "metadata": {},
   "outputs": [],
   "source": [
    "class Car():\n",
    "    def __init__(self,model,make, capacity):\n",
    "        self.model = model\n",
    "        self.make = make\n",
    "        self.capacity = capacity\n",
    "        self.odometer_reading = 0 \n",
    "        \n",
    "    def get_milage(self):\n",
    "        print(f\"{self.make} car has travelled {self.odometer_reading} km \")\n",
    "              \n",
    "    def set_milage(self,newReading):\n",
    "        if newReading > self.odometer_reading:\n",
    "            self.odometer_reading = newReading\n",
    "        else:\n",
    "            print(\"Car meter can't be reversed\")\n",
    "            \n",
    "    def fuel_tank(self):\n",
    "        print(f\"{self.make} car has fuel tank\")\n",
    "\n",
    "    def describe_car(self):\n",
    "        print(self.model,self.make,self.capacity,self.odometer_reading)\n",
    "        "
   ]
  },
  {
   "cell_type": "code",
   "execution_count": 58,
   "metadata": {},
   "outputs": [],
   "source": [
    "car1=Car(\"2003\",\"Honda\",6)"
   ]
  },
  {
   "cell_type": "code",
   "execution_count": 59,
   "metadata": {},
   "outputs": [
    {
     "name": "stdout",
     "output_type": "stream",
     "text": [
      "2003 Honda 6 0\n"
     ]
    }
   ],
   "source": [
    "car1.describe_car()"
   ]
  },
  {
   "cell_type": "code",
   "execution_count": 60,
   "metadata": {},
   "outputs": [
    {
     "data": {
      "text/plain": [
       "0"
      ]
     },
     "execution_count": 60,
     "metadata": {},
     "output_type": "execute_result"
    }
   ],
   "source": [
    "car1.odometer_reading"
   ]
  },
  {
   "cell_type": "code",
   "execution_count": 61,
   "metadata": {},
   "outputs": [
    {
     "name": "stdout",
     "output_type": "stream",
     "text": [
      "Honda car has travelled 0 km \n"
     ]
    }
   ],
   "source": [
    "car1.get_milage()"
   ]
  },
  {
   "cell_type": "code",
   "execution_count": 62,
   "metadata": {},
   "outputs": [],
   "source": [
    "car1.set_milage(10)"
   ]
  },
  {
   "cell_type": "code",
   "execution_count": 63,
   "metadata": {},
   "outputs": [
    {
     "name": "stdout",
     "output_type": "stream",
     "text": [
      "Honda car has travelled 10 km \n"
     ]
    }
   ],
   "source": [
    "car1.get_milage()"
   ]
  },
  {
   "cell_type": "code",
   "execution_count": 81,
   "metadata": {},
   "outputs": [],
   "source": [
    "class ElectricCar(Car):\n",
    "    def fuel_tank(self):\n",
    "        print(\"Electric Car has no fuel Tank\")"
   ]
  },
  {
   "cell_type": "code",
   "execution_count": 82,
   "metadata": {},
   "outputs": [],
   "source": [
    "ec1 = ElectricCar(\"2023\",\"Tesla\", 4)"
   ]
  },
  {
   "cell_type": "code",
   "execution_count": 83,
   "metadata": {},
   "outputs": [
    {
     "name": "stdout",
     "output_type": "stream",
     "text": [
      "2023 Tesla 4 0\n"
     ]
    }
   ],
   "source": [
    "ec1.describe_car()"
   ]
  },
  {
   "cell_type": "code",
   "execution_count": 84,
   "metadata": {},
   "outputs": [
    {
     "data": {
      "text/plain": [
       "'Tesla'"
      ]
     },
     "execution_count": 84,
     "metadata": {},
     "output_type": "execute_result"
    }
   ],
   "source": [
    "ec1.make"
   ]
  },
  {
   "cell_type": "code",
   "execution_count": 85,
   "metadata": {},
   "outputs": [
    {
     "name": "stdout",
     "output_type": "stream",
     "text": [
      "Tesla car has travelled 0 km \n"
     ]
    }
   ],
   "source": [
    "ec1.get_milage()"
   ]
  },
  {
   "cell_type": "code",
   "execution_count": 86,
   "metadata": {},
   "outputs": [],
   "source": [
    "ec1.set_milage(30)"
   ]
  },
  {
   "cell_type": "code",
   "execution_count": 87,
   "metadata": {},
   "outputs": [
    {
     "name": "stdout",
     "output_type": "stream",
     "text": [
      "Tesla car has travelled 30 km \n"
     ]
    }
   ],
   "source": [
    "ec1.get_milage()"
   ]
  },
  {
   "cell_type": "code",
   "execution_count": 88,
   "metadata": {},
   "outputs": [
    {
     "name": "stdout",
     "output_type": "stream",
     "text": [
      "Electric Car has no fuel Tank\n"
     ]
    }
   ],
   "source": [
    " ec1.fuel_tank()   "
   ]
  },
  {
   "cell_type": "code",
   "execution_count": 114,
   "metadata": {},
   "outputs": [],
   "source": [
    "class Bird():\n",
    "    def __init__(self,name,beak_color ,beak_size ,feather_color):\n",
    "        self.name           = name\n",
    "        self.beak_color     = beak_color\n",
    "        self.beak_size      = beak_size\n",
    "        self.feather_color  = feather_color\n",
    "        \n",
    "    def discription(self):\n",
    "        print(f'''\n",
    "        Bird Name                : {self.name}\n",
    "        Bird beak_color          : {self.beak_color}\n",
    "        Bird beak_size           : {self.beak_size}\n",
    "        Bird feather_color       : {self.feather_color}\n",
    "        '''\n",
    "        )\n",
    "    def get_can_fly(self):\n",
    "        print(\"Birds having feather can Fly\")\n",
    "    def get_can_walk(self):\n",
    "        print(\" All Birds having feather can walk\")\n",
    "    "
   ]
  },
  {
   "cell_type": "code",
   "execution_count": 115,
   "metadata": {},
   "outputs": [
    {
     "name": "stdout",
     "output_type": "stream",
     "text": [
      "Birds having feather can Fly\n"
     ]
    }
   ],
   "source": [
    "myBird = Bird('Eagle', 'Black and White', 3, 'Yellow')\n",
    "myBird.get_can_fly()"
   ]
  },
  {
   "cell_type": "code",
   "execution_count": 116,
   "metadata": {},
   "outputs": [],
   "source": [
    "class Weka(Bird):\n",
    "    def get_can_fly(self):\n",
    "        print(\"WEKA having feather but can't Fly\")"
   ]
  },
  {
   "cell_type": "code",
   "execution_count": 119,
   "metadata": {},
   "outputs": [],
   "source": [
    "myBird1 = Weka('WEKA', 'Gray', 3, 'White')"
   ]
  },
  {
   "cell_type": "code",
   "execution_count": 120,
   "metadata": {},
   "outputs": [
    {
     "name": "stdout",
     "output_type": "stream",
     "text": [
      "WEKA having feather but can't Fly\n"
     ]
    }
   ],
   "source": [
    "myBird1.get_can_fly()"
   ]
  },
  {
   "cell_type": "markdown",
   "metadata": {},
   "source": [
    "# Instance (object) as an Attribute"
   ]
  },
  {
   "cell_type": "code",
   "execution_count": 136,
   "metadata": {},
   "outputs": [],
   "source": [
    "class Battery():\n",
    "    def __init__(self,manuf,cells,amp,backup):\n",
    "        self.manuf = manuf\n",
    "        self.cells = cells\n",
    "        self.amp = amp\n",
    "        self.backup =backup\n",
    "        \n",
    "    def status(self):\n",
    "        print(\"Battery Status is Good\")"
   ]
  },
  {
   "cell_type": "code",
   "execution_count": 137,
   "metadata": {},
   "outputs": [],
   "source": [
    "class ElectricCar(Car):\n",
    "    def __init__(self,model,make,capacity,wheels,max_speed,b_manuf,b_cells,b_amp,b_backup):\n",
    "        super().__init__(model,make,capacity)\n",
    "        self.wheels =wheels\n",
    "        self.max_speed = max_speed\n",
    "        self.battery = Battery(b_manuf,b_cells,b_amp,b_backup)\n",
    "        \n",
    "    def fuel_tank(self):\n",
    "        print(\"Electric Car has no fuel Tank\")"
   ]
  },
  {
   "cell_type": "code",
   "execution_count": 138,
   "metadata": {},
   "outputs": [],
   "source": [
    "myEc = ElectricCar(2022,\"Tesla\",4,4,100,\"OSAKA\",25,\"200amp\",\"8 Hours\")"
   ]
  },
  {
   "cell_type": "code",
   "execution_count": 139,
   "metadata": {},
   "outputs": [
    {
     "data": {
      "text/plain": [
       "100"
      ]
     },
     "execution_count": 139,
     "metadata": {},
     "output_type": "execute_result"
    }
   ],
   "source": [
    "myEc.max_speed"
   ]
  },
  {
   "cell_type": "code",
   "execution_count": 140,
   "metadata": {},
   "outputs": [
    {
     "data": {
      "text/plain": [
       "'8 Hours'"
      ]
     },
     "execution_count": 140,
     "metadata": {},
     "output_type": "execute_result"
    }
   ],
   "source": [
    "myEc.battery.backup"
   ]
  },
  {
   "cell_type": "code",
   "execution_count": null,
   "metadata": {},
   "outputs": [],
   "source": []
  }
 ],
 "metadata": {
  "kernelspec": {
   "display_name": "Python 3",
   "language": "python",
   "name": "python3"
  },
  "language_info": {
   "codemirror_mode": {
    "name": "ipython",
    "version": 3
   },
   "file_extension": ".py",
   "mimetype": "text/x-python",
   "name": "python",
   "nbconvert_exporter": "python",
   "pygments_lexer": "ipython3",
   "version": "3.7.4"
  }
 },
 "nbformat": 4,
 "nbformat_minor": 2
}
