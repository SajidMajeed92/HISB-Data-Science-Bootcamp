{
 "cells": [
  {
   "cell_type": "markdown",
   "metadata": {},
   "source": [
    "# Topic: print()"
   ]
  },
  {
   "cell_type": "markdown",
   "metadata": {},
   "source": [
    "1) Using the python print function print any string value, integer value, boolean value, float value in single print command"
   ]
  },
  {
   "cell_type": "code",
   "execution_count": 1,
   "metadata": {},
   "outputs": [
    {
     "name": "stdout",
     "output_type": "stream",
     "text": [
      "Sajid Majeed 123 True 34.6\n"
     ]
    }
   ],
   "source": [
    "# type your code here\n",
    "print(\"Sajid Majeed\", 123, True, 34.6)"
   ]
  },
  {
   "cell_type": "markdown",
   "metadata": {},
   "source": [
    "2) Using the python print function print hyphon(-) separated any string value, integer value, boolean value, float value in single print command"
   ]
  },
  {
   "cell_type": "code",
   "execution_count": 2,
   "metadata": {},
   "outputs": [
    {
     "name": "stdout",
     "output_type": "stream",
     "text": [
      "Sajid Majeed-123-True-34.6\n"
     ]
    }
   ],
   "source": [
    "# type your code here\n",
    "print(\"Sajid Majeed\", 123, True, 34.6, sep=\"-\")"
   ]
  },
  {
   "cell_type": "markdown",
   "metadata": {},
   "source": [
    "3) Using the python print function print any string value, integer value, boolean value, float value in separate print command.\n",
    "But every value must be space separated and in single line "
   ]
  },
  {
   "cell_type": "code",
   "execution_count": 54,
   "metadata": {},
   "outputs": [
    {
     "name": "stdout",
     "output_type": "stream",
     "text": [
      "Sajid Majeed\n",
      "123\n",
      "True\n",
      "34.6\n"
     ]
    }
   ],
   "source": [
    "# type your code here\n",
    "print(\"Sajid Majeed\", sep=\" \")\n",
    "print(123, sep=\" \")\n",
    "print(True, sep=\" \")\n",
    "print(34.6, sep=\" \")"
   ]
  },
  {
   "cell_type": "code",
   "execution_count": 1,
   "metadata": {},
   "outputs": [
    {
     "name": "stdout",
     "output_type": "stream",
     "text": [
      "\n"
     ]
    }
   ],
   "source": [
    "# type your answer here\n",
    "print()"
   ]
  },
  {
   "cell_type": "markdown",
   "metadata": {},
   "source": [
    "# TOPIC :Variables in Python Operators"
   ]
  },
  {
   "cell_type": "markdown",
   "metadata": {},
   "source": [
    "5) One of my friends name is Mr. Ahmed. He is 30 years old.  He is a lawer by profession. He has done his bachelors in law in the year 2005. He is working with a reputable law firm 'The Himalya Associates' in Karachi since 2015.\n",
    "He is a handsome lawer with height of 5.10 feets and weight 70600g. His monthly income is Rs. 200k PKR.\n",
    "\n",
    "Note: Create variables from above text and also assign values from the text.  "
   ]
  },
  {
   "cell_type": "code",
   "execution_count": 56,
   "metadata": {},
   "outputs": [],
   "source": [
    "#type your code here\n",
    "friend_name= \"Mr. Ahmed\"\n",
    "age= 30\n",
    "profession= \"Lawyer\"\n",
    "degree= \"Bachelor in law\"\n",
    "passout_year= 2005\n",
    "firm= \"The Himalya Associates\"\n",
    "firm_joining_year= 2015\n",
    "Height_ft= 5.10\n",
    "Weight_gm= 70600\n",
    "monthly_income_pkr= 200000\n",
    "is_professional= True"
   ]
  },
  {
   "cell_type": "markdown",
   "metadata": {},
   "source": [
    "6)How many years has been to Mr. Ahmed after his bachelors degree? Create a variable that hold current year value and then subtract it from his passout year"
   ]
  },
  {
   "cell_type": "code",
   "execution_count": 62,
   "metadata": {},
   "outputs": [
    {
     "name": "stdout",
     "output_type": "stream",
     "text": [
      " From 18 years ago Mr. Ahmed passed his Bachelors degree\n"
     ]
    }
   ],
   "source": [
    "#type your code here \n",
    "current_year =2023\n",
    "passout_year= 2005\n",
    "print(f\" From {current_year-passout_year} years ago Mr. Ahmed passed his Bachelors degree\")"
   ]
  },
  {
   "cell_type": "markdown",
   "metadata": {},
   "source": [
    "7) How many years has Mr. Ahmed been working with law firm 'The Himalya Associates'. Create necesary variables and print the correct number of years in working in the firm"
   ]
  },
  {
   "cell_type": "code",
   "execution_count": 58,
   "metadata": {},
   "outputs": [
    {
     "name": "stdout",
     "output_type": "stream",
     "text": [
      "From 8 years Mr. Ahmed has been working with law firm 'The Himalya Associates\n"
     ]
    }
   ],
   "source": [
    "#type your code here \n",
    "current_year =2023\n",
    "firm_joining_year= 2015\n",
    "print(f\"From {current_year-firm_joining_year} years Mr. Ahmed has been working with law firm 'The Himalya Associates\")"
   ]
  },
  {
   "cell_type": "markdown",
   "metadata": {},
   "source": [
    "8)Convert the monthly income of Mr. Ahmed in dollars.  Create necesary variables and print the income in dollars."
   ]
  },
  {
   "cell_type": "code",
   "execution_count": 37,
   "metadata": {},
   "outputs": [
    {
     "name": "stdout",
     "output_type": "stream",
     "text": [
      "701.7543859649123\n",
      "701.75\n",
      "702\n",
      "701\n"
     ]
    }
   ],
   "source": [
    "#type your code here \n",
    "monthly_income_pkr= 200000\n",
    "monthly_income_usd=monthly_income_pkr/285\n",
    "print(monthly_income_usd)\n",
    "\n",
    "print(round(monthly_income_usd,2))\n",
    "import math\n",
    "print(math.ceil((monthly_income_usd)))\n",
    "print(math.floor((monthly_income_usd)))"
   ]
  },
  {
   "cell_type": "markdown",
   "metadata": {},
   "source": [
    "9) Check if the income in dollars is a float or integer value. if it is float, re-write the code so that income gets converted in integer. print the income in integer type value"
   ]
  },
  {
   "cell_type": "code",
   "execution_count": 38,
   "metadata": {},
   "outputs": [
    {
     "name": "stdout",
     "output_type": "stream",
     "text": [
      "701.7543859649123\n",
      "<class 'float'>\n",
      "701\n",
      "<class 'int'>\n"
     ]
    }
   ],
   "source": [
    "#type your code here \n",
    "print(monthly_income_usd)\n",
    "print(type(monthly_income_usd))\n",
    "converted_value =int(monthly_income_usd)\n",
    "print(converted_value)\n",
    "print(type(converted_value))"
   ]
  },
  {
   "cell_type": "raw",
   "metadata": {},
   "source": [
    "10) Print the type of Mr. Ahmed's weight.  Convert the weight of Mr. Ahmed in kg so that weight must be a integer value. "
   ]
  },
  {
   "cell_type": "code",
   "execution_count": 42,
   "metadata": {},
   "outputs": [
    {
     "name": "stdout",
     "output_type": "stream",
     "text": [
      "70600\n",
      "70\n"
     ]
    }
   ],
   "source": [
    "#type your code here \n",
    "print(Weight_gm)\n",
    "type(Weight_gm)\n",
    "weight_in_kg = int (Weight_gm /1000)\n",
    "print(weight_in_kg)"
   ]
  },
  {
   "cell_type": "raw",
   "metadata": {},
   "source": [
    "11) print the year of birth of Mr. Ahmed."
   ]
  },
  {
   "cell_type": "code",
   "execution_count": 51,
   "metadata": {},
   "outputs": [
    {
     "data": {
      "text/plain": [
       "1993"
      ]
     },
     "execution_count": 51,
     "metadata": {},
     "output_type": "execute_result"
    }
   ],
   "source": [
    "#type your code here\n",
    "birt_year = current_year -age\n",
    "birth_year"
   ]
  },
  {
   "cell_type": "markdown",
   "metadata": {},
   "source": [
    "12) Can Rs. 100 be divided equally among 6 students? \n",
    "HINT: % operator"
   ]
  },
  {
   "cell_type": "code",
   "execution_count": 48,
   "metadata": {},
   "outputs": [
    {
     "data": {
      "text/plain": [
       "4"
      ]
     },
     "execution_count": 48,
     "metadata": {},
     "output_type": "execute_result"
    }
   ],
   "source": [
    "#type your code here \n",
    "100%6\n"
   ]
  }
 ],
 "metadata": {
  "kernelspec": {
   "display_name": "Python 3",
   "language": "python",
   "name": "python3"
  },
  "language_info": {
   "codemirror_mode": {
    "name": "ipython",
    "version": 3
   },
   "file_extension": ".py",
   "mimetype": "text/x-python",
   "name": "python",
   "nbconvert_exporter": "python",
   "pygments_lexer": "ipython3",
   "version": "3.7.2"
  }
 },
 "nbformat": 4,
 "nbformat_minor": 2
}
