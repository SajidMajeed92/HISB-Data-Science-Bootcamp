{
 "cells": [
  {
   "cell_type": "markdown",
   "metadata": {},
   "source": [
    "# Vectorization"
   ]
  },
  {
   "cell_type": "code",
   "execution_count": 94,
   "metadata": {},
   "outputs": [
    {
     "name": "stderr",
     "output_type": "stream",
     "text": [
      "[nltk_data] Downloading package punkt to\n",
      "[nltk_data]     C:\\Users\\abc\\AppData\\Roaming\\nltk_data...\n",
      "[nltk_data]   Package punkt is already up-to-date!\n"
     ]
    },
    {
     "data": {
      "text/plain": [
       "True"
      ]
     },
     "execution_count": 94,
     "metadata": {},
     "output_type": "execute_result"
    }
   ],
   "source": [
    "import nltk\n",
    "nltk.download('punkt')"
   ]
  },
  {
   "cell_type": "code",
   "execution_count": 95,
   "metadata": {},
   "outputs": [
    {
     "data": {
      "text/plain": [
       "'!\"#$%&\\'()*+,-./:;<=>?@[\\\\]^_`{|}~'"
      ]
     },
     "execution_count": 95,
     "metadata": {},
     "output_type": "execute_result"
    }
   ],
   "source": [
    "import string\n",
    "punc  = string.punctuation\n",
    "punc\n"
   ]
  },
  {
   "cell_type": "code",
   "execution_count": 96,
   "metadata": {},
   "outputs": [],
   "source": [
    "paragraph = \"\"\"Quaid-e-Azam is the most outstanding leader of our history. During the establishment of Pakistan, he was remembered as an influential leader who brought Islam from slumber by calling for Muslims to live according to Islam’s teachings without Hindu influence.\n",
    "\n",
    "His real name was Muhammad Ali Jinnah; he was born into wealth on 25th December 1876 near Karachi, where he spent most days reading books about law at home. He collected all the Muslims on one platform. He created a spirit of unity and fought against Hindus and the British.\n",
    "\n",
    "His battle was peaceful, but his enemies tried to purchase him with money instead of asking for peace or any other form of negotiation that would have ended in compromise rather than bloodshed; he remained unyielding when faced by these offers, which often included large sums from wealthy merchants as well as promises from higher officials who Britain himself had appointed.\n",
    "\n",
    "A man filled with great determination, Jinnah worked very hard for Pakistan despite his failing health – even making numberless speeches demanding separation into an independent state where Islam could be practiced freely without fear under appropriate legislation guided not only towards Muslims but also their Hindu counterparts too according to equality before the law itself.\n",
    "\n",
    "\"\"\""
   ]
  },
  {
   "cell_type": "code",
   "execution_count": 97,
   "metadata": {},
   "outputs": [
    {
     "data": {
      "text/plain": [
       "'Quaid-e-Azam is the most outstanding leader of our history. During the establishment of Pakistan, he was remembered as an influential leader who brought Islam from slumber by calling for Muslims to live according to Islam’s teachings without Hindu influence.\\n\\nHis real name was Muhammad Ali Jinnah; he was born into wealth on 25th December 1876 near Karachi, where he spent most days reading books about law at home. He collected all the Muslims on one platform. He created a spirit of unity and fought against Hindus and the British.\\n\\nHis battle was peaceful, but his enemies tried to purchase him with money instead of asking for peace or any other form of negotiation that would have ended in compromise rather than bloodshed; he remained unyielding when faced by these offers, which often included large sums from wealthy merchants as well as promises from higher officials who Britain himself had appointed.\\n\\nA man filled with great determination, Jinnah worked very hard for Pakistan despite his failing health – even making numberless speeches demanding separation into an independent state where Islam could be practiced freely without fear under appropriate legislation guided not only towards Muslims but also their Hindu counterparts too according to equality before the law itself.\\n\\n'"
      ]
     },
     "execution_count": 97,
     "metadata": {},
     "output_type": "execute_result"
    }
   ],
   "source": [
    "paragraph"
   ]
  },
  {
   "cell_type": "code",
   "execution_count": 98,
   "metadata": {},
   "outputs": [],
   "source": [
    "#new_paragraph = ''\n",
    "#for char in paragraph:\n",
    "#    if char not in punc:\n",
    "#        new_paragraph+=char\n",
    "#print(new_paragraph)"
   ]
  },
  {
   "cell_type": "code",
   "execution_count": 99,
   "metadata": {},
   "outputs": [
    {
     "data": {
      "text/plain": [
       "['Quaid-e-Azam is the most outstanding leader of our history.',\n",
       " 'During the establishment of Pakistan, he was remembered as an influential leader who brought Islam from slumber by calling for Muslims to live according to Islam’s teachings without Hindu influence.',\n",
       " 'His real name was Muhammad Ali Jinnah; he was born into wealth on 25th December 1876 near Karachi, where he spent most days reading books about law at home.',\n",
       " 'He collected all the Muslims on one platform.',\n",
       " 'He created a spirit of unity and fought against Hindus and the British.',\n",
       " 'His battle was peaceful, but his enemies tried to purchase him with money instead of asking for peace or any other form of negotiation that would have ended in compromise rather than bloodshed; he remained unyielding when faced by these offers, which often included large sums from wealthy merchants as well as promises from higher officials who Britain himself had appointed.',\n",
       " 'A man filled with great determination, Jinnah worked very hard for Pakistan despite his failing health – even making numberless speeches demanding separation into an independent state where Islam could be practiced freely without fear under appropriate legislation guided not only towards Muslims but also their Hindu counterparts too according to equality before the law itself.']"
      ]
     },
     "execution_count": 99,
     "metadata": {},
     "output_type": "execute_result"
    }
   ],
   "source": [
    "sentences = nltk.sent_tokenize(paragraph)\n",
    "sentences"
   ]
  },
  {
   "cell_type": "code",
   "execution_count": 100,
   "metadata": {},
   "outputs": [],
   "source": [
    "import string \n",
    "punctuations = string.punctuation\n",
    "\n",
    "def remove_punc(text):\n",
    "    redefined_text = \"\"\n",
    "    for char in text:\n",
    "        if char not in punctuations:\n",
    "            redefined_text+=char\n",
    "    return redefined_text\n",
    "\n",
    "paragraph = remove_punc(paragraph)\n",
    "\n",
    "corpus = paragraph.split('\\n')"
   ]
  },
  {
   "cell_type": "code",
   "execution_count": 101,
   "metadata": {},
   "outputs": [
    {
     "data": {
      "text/plain": [
       "['QuaideAzam is the most outstanding leader of our history During the establishment of Pakistan he was remembered as an influential leader who brought Islam from slumber by calling for Muslims to live according to Islam’s teachings without Hindu influence',\n",
       " '',\n",
       " 'His real name was Muhammad Ali Jinnah he was born into wealth on 25th December 1876 near Karachi where he spent most days reading books about law at home He collected all the Muslims on one platform He created a spirit of unity and fought against Hindus and the British',\n",
       " '',\n",
       " 'His battle was peaceful but his enemies tried to purchase him with money instead of asking for peace or any other form of negotiation that would have ended in compromise rather than bloodshed he remained unyielding when faced by these offers which often included large sums from wealthy merchants as well as promises from higher officials who Britain himself had appointed',\n",
       " '',\n",
       " 'A man filled with great determination Jinnah worked very hard for Pakistan despite his failing health – even making numberless speeches demanding separation into an independent state where Islam could be practiced freely without fear under appropriate legislation guided not only towards Muslims but also their Hindu counterparts too according to equality before the law itself',\n",
       " '',\n",
       " '']"
      ]
     },
     "execution_count": 101,
     "metadata": {},
     "output_type": "execute_result"
    }
   ],
   "source": [
    "corpus"
   ]
  },
  {
   "cell_type": "code",
   "execution_count": 110,
   "metadata": {},
   "outputs": [],
   "source": [
    "import nltk\n",
    "from nltk.corpus import stopwords\n",
    "stop_words = set(stopwords.words(\"english\"))\n",
    "words = nltk.word_tokenize(paragraph)"
   ]
  },
  {
   "cell_type": "code",
   "execution_count": 112,
   "metadata": {},
   "outputs": [
    {
     "data": {
      "text/plain": [
       "['QuaideAzam',\n",
       " 'is',\n",
       " 'the',\n",
       " 'most',\n",
       " 'outstanding',\n",
       " 'leader',\n",
       " 'of',\n",
       " 'our',\n",
       " 'history',\n",
       " 'During',\n",
       " 'the',\n",
       " 'establishment',\n",
       " 'of',\n",
       " 'Pakistan',\n",
       " 'he',\n",
       " 'was',\n",
       " 'remembered',\n",
       " 'as',\n",
       " 'an',\n",
       " 'influential',\n",
       " 'leader',\n",
       " 'who',\n",
       " 'brought',\n",
       " 'Islam',\n",
       " 'from',\n",
       " 'slumber',\n",
       " 'by',\n",
       " 'calling',\n",
       " 'for',\n",
       " 'Muslims',\n",
       " 'to',\n",
       " 'live',\n",
       " 'according',\n",
       " 'to',\n",
       " 'Islam',\n",
       " '’',\n",
       " 's',\n",
       " 'teachings',\n",
       " 'without',\n",
       " 'Hindu',\n",
       " 'influence',\n",
       " 'His',\n",
       " 'real',\n",
       " 'name',\n",
       " 'was',\n",
       " 'Muhammad',\n",
       " 'Ali',\n",
       " 'Jinnah',\n",
       " 'he',\n",
       " 'was',\n",
       " 'born',\n",
       " 'into',\n",
       " 'wealth',\n",
       " 'on',\n",
       " '25th',\n",
       " 'December',\n",
       " '1876',\n",
       " 'near',\n",
       " 'Karachi',\n",
       " 'where',\n",
       " 'he',\n",
       " 'spent',\n",
       " 'most',\n",
       " 'days',\n",
       " 'reading',\n",
       " 'books',\n",
       " 'about',\n",
       " 'law',\n",
       " 'at',\n",
       " 'home',\n",
       " 'He',\n",
       " 'collected',\n",
       " 'all',\n",
       " 'the',\n",
       " 'Muslims',\n",
       " 'on',\n",
       " 'one',\n",
       " 'platform',\n",
       " 'He',\n",
       " 'created',\n",
       " 'a',\n",
       " 'spirit',\n",
       " 'of',\n",
       " 'unity',\n",
       " 'and',\n",
       " 'fought',\n",
       " 'against',\n",
       " 'Hindus',\n",
       " 'and',\n",
       " 'the',\n",
       " 'British',\n",
       " 'His',\n",
       " 'battle',\n",
       " 'was',\n",
       " 'peaceful',\n",
       " 'but',\n",
       " 'his',\n",
       " 'enemies',\n",
       " 'tried',\n",
       " 'to',\n",
       " 'purchase',\n",
       " 'him',\n",
       " 'with',\n",
       " 'money',\n",
       " 'instead',\n",
       " 'of',\n",
       " 'asking',\n",
       " 'for',\n",
       " 'peace',\n",
       " 'or',\n",
       " 'any',\n",
       " 'other',\n",
       " 'form',\n",
       " 'of',\n",
       " 'negotiation',\n",
       " 'that',\n",
       " 'would',\n",
       " 'have',\n",
       " 'ended',\n",
       " 'in',\n",
       " 'compromise',\n",
       " 'rather',\n",
       " 'than',\n",
       " 'bloodshed',\n",
       " 'he',\n",
       " 'remained',\n",
       " 'unyielding',\n",
       " 'when',\n",
       " 'faced',\n",
       " 'by',\n",
       " 'these',\n",
       " 'offers',\n",
       " 'which',\n",
       " 'often',\n",
       " 'included',\n",
       " 'large',\n",
       " 'sums',\n",
       " 'from',\n",
       " 'wealthy',\n",
       " 'merchants',\n",
       " 'as',\n",
       " 'well',\n",
       " 'as',\n",
       " 'promises',\n",
       " 'from',\n",
       " 'higher',\n",
       " 'officials',\n",
       " 'who',\n",
       " 'Britain',\n",
       " 'himself',\n",
       " 'had',\n",
       " 'appointed',\n",
       " 'A',\n",
       " 'man',\n",
       " 'filled',\n",
       " 'with',\n",
       " 'great',\n",
       " 'determination',\n",
       " 'Jinnah',\n",
       " 'worked',\n",
       " 'very',\n",
       " 'hard',\n",
       " 'for',\n",
       " 'Pakistan',\n",
       " 'despite',\n",
       " 'his',\n",
       " 'failing',\n",
       " 'health',\n",
       " '–',\n",
       " 'even',\n",
       " 'making',\n",
       " 'numberless',\n",
       " 'speeches',\n",
       " 'demanding',\n",
       " 'separation',\n",
       " 'into',\n",
       " 'an',\n",
       " 'independent',\n",
       " 'state',\n",
       " 'where',\n",
       " 'Islam',\n",
       " 'could',\n",
       " 'be',\n",
       " 'practiced',\n",
       " 'freely',\n",
       " 'without',\n",
       " 'fear',\n",
       " 'under',\n",
       " 'appropriate',\n",
       " 'legislation',\n",
       " 'guided',\n",
       " 'not',\n",
       " 'only',\n",
       " 'towards',\n",
       " 'Muslims',\n",
       " 'but',\n",
       " 'also',\n",
       " 'their',\n",
       " 'Hindu',\n",
       " 'counterparts',\n",
       " 'too',\n",
       " 'according',\n",
       " 'to',\n",
       " 'equality',\n",
       " 'before',\n",
       " 'the',\n",
       " 'law',\n",
       " 'itself']"
      ]
     },
     "execution_count": 112,
     "metadata": {},
     "output_type": "execute_result"
    }
   ],
   "source": [
    "words"
   ]
  },
  {
   "cell_type": "code",
   "execution_count": null,
   "metadata": {},
   "outputs": [],
   "source": [
    "text = ''\n",
    "for "
   ]
  }
 ],
 "metadata": {
  "kernelspec": {
   "display_name": "Python 3",
   "language": "python",
   "name": "python3"
  },
  "language_info": {
   "codemirror_mode": {
    "name": "ipython",
    "version": 3
   },
   "file_extension": ".py",
   "mimetype": "text/x-python",
   "name": "python",
   "nbconvert_exporter": "python",
   "pygments_lexer": "ipython3",
   "version": "3.7.4"
  }
 },
 "nbformat": 4,
 "nbformat_minor": 2
}
