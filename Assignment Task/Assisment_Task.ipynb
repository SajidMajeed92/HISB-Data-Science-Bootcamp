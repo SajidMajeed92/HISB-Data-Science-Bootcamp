{
  "nbformat": 4,
  "nbformat_minor": 0,
  "metadata": {
    "colab": {
      "provenance": [],
      "authorship_tag": "ABX9TyOqLIbB/rk+3QXWSMzgP497",
      "include_colab_link": true
    },
    "kernelspec": {
      "name": "python3",
      "display_name": "Python 3"
    },
    "language_info": {
      "name": "python"
    }
  },
  "cells": [
    {
      "cell_type": "markdown",
      "metadata": {
        "id": "view-in-github",
        "colab_type": "text"
      },
      "source": [
        "<a href=\"https://colab.research.google.com/github/SajidMajeed92/HISB-Data-Science-AI/blob/main/Assisment_Task.ipynb\" target=\"_parent\"><img src=\"https://colab.research.google.com/assets/colab-badge.svg\" alt=\"Open In Colab\"/></a>"
      ]
    },
    {
      "cell_type": "code",
      "execution_count": 1,
      "metadata": {
        "id": "8OTYmAHXDqvB"
      },
      "outputs": [],
      "source": [
        "import pandas as pd\n",
        "import numpy as np\n",
        "import seaborn as sns\n",
        "import matplotlib.pyplot as plt\n",
        "from sklearn.model_selection import train_test_split\n",
        "from sklearn.compose import ColumnTransformer,make_column_transformer\n",
        "from sklearn.impute import SimpleImputer\n",
        "from sklearn.preprocessing import OneHotEncoder\n",
        "from sklearn.preprocessing import MinMaxScaler\n",
        "from sklearn.pipeline import Pipeline,make_pipeline\n",
        "from sklearn.feature_selection import SelectKBest,chi2\n",
        "from sklearn.tree import DecisionTreeClassifier\n",
        "from sklearn.linear_model import LogisticRegression\n",
        "from sklearn.ensemble import RandomForestClassifier\n",
        "from xgboost import XGBClassifier"
      ]
    },
    {
      "cell_type": "code",
      "source": [
        "df = pd.read_excel(\"loan-data.xlsx\" , index_col=0 )"
      ],
      "metadata": {
        "id": "j-19KSDTD-JJ"
      },
      "execution_count": 2,
      "outputs": []
    },
    {
      "cell_type": "code",
      "source": [
        "df.shape"
      ],
      "metadata": {
        "colab": {
          "base_uri": "https://localhost:8080/"
        },
        "id": "XUfkPGk9EMkQ",
        "outputId": "2628d3ca-78ec-4005-d207-50aeb7578e91"
      },
      "execution_count": 3,
      "outputs": [
        {
          "output_type": "execute_result",
          "data": {
            "text/plain": [
              "(38480, 36)"
            ]
          },
          "metadata": {},
          "execution_count": 3
        }
      ]
    },
    {
      "cell_type": "code",
      "source": [
        "df.head()"
      ],
      "metadata": {
        "colab": {
          "base_uri": "https://localhost:8080/",
          "height": 342
        },
        "id": "XIuyP8QaEeap",
        "outputId": "7974a2da-e431-4758-c823-ae70eb0fb520"
      },
      "execution_count": 4,
      "outputs": [
        {
          "output_type": "execute_result",
          "data": {
            "text/plain": [
              "       id  member_id  loan_amnt  funded_amnt  funded_amnt_inv       term  \\\n",
              "2       2          2        0.0          0.0              0.0  36 months   \n",
              "3  545583     703644     2500.0       2500.0           2500.0  36 months   \n",
              "4  532101     687836     5000.0       5000.0           5000.0  36 months   \n",
              "5  877788    1092507     7000.0       7000.0           7000.0  36 months   \n",
              "6  875406    1089981     2000.0       2000.0           2000.0  36 months   \n",
              "\n",
              "   int_rate  installment emp_length home_ownership  ...  total_acc  \\\n",
              "2      0.00         0.00   < 1 year           RENT  ...        1.0   \n",
              "3     13.98        85.42    4 years           RENT  ...       10.0   \n",
              "4     15.95       175.67    4 years           RENT  ...       15.0   \n",
              "5      9.91       225.58  10+ years       MORTGAGE  ...       20.0   \n",
              "6      5.42        60.32  10+ years           RENT  ...       15.0   \n",
              "\n",
              "   total_pymnt total_pymnt_inv total_rec_prncp total_rec_int last_pymnt_d  \\\n",
              "2     0.000000            0.00            0.00          0.00   2023-01-07   \n",
              "3  3075.291779         3075.29         2500.00        575.29   2023-07-13   \n",
              "4  2948.760000         2948.76         1909.02        873.81   2023-11-11   \n",
              "5  8082.391880         8082.39         7000.00       1082.39   2023-03-14   \n",
              "6  2161.663244         2161.66         2000.00        161.66   2023-02-14   \n",
              "\n",
              "  last_pymnt_amnt  next_pymnt_d  last_credit_pull_d repay_fail  \n",
              "2            0.00    2023-01-07          2023-01-07          1  \n",
              "3           90.85    2023-08-13          2023-06-16          0  \n",
              "4          175.67           NaT          2023-03-12          1  \n",
              "5         1550.27           NaT          2023-03-14          0  \n",
              "6           53.12           NaT          2023-06-16          0  \n",
              "\n",
              "[5 rows x 36 columns]"
            ],
            "text/html": [
              "\n",
              "  <div id=\"df-0925fe5d-5d0d-499f-b098-630db1795f61\" class=\"colab-df-container\">\n",
              "    <div>\n",
              "<style scoped>\n",
              "    .dataframe tbody tr th:only-of-type {\n",
              "        vertical-align: middle;\n",
              "    }\n",
              "\n",
              "    .dataframe tbody tr th {\n",
              "        vertical-align: top;\n",
              "    }\n",
              "\n",
              "    .dataframe thead th {\n",
              "        text-align: right;\n",
              "    }\n",
              "</style>\n",
              "<table border=\"1\" class=\"dataframe\">\n",
              "  <thead>\n",
              "    <tr style=\"text-align: right;\">\n",
              "      <th></th>\n",
              "      <th>id</th>\n",
              "      <th>member_id</th>\n",
              "      <th>loan_amnt</th>\n",
              "      <th>funded_amnt</th>\n",
              "      <th>funded_amnt_inv</th>\n",
              "      <th>term</th>\n",
              "      <th>int_rate</th>\n",
              "      <th>installment</th>\n",
              "      <th>emp_length</th>\n",
              "      <th>home_ownership</th>\n",
              "      <th>...</th>\n",
              "      <th>total_acc</th>\n",
              "      <th>total_pymnt</th>\n",
              "      <th>total_pymnt_inv</th>\n",
              "      <th>total_rec_prncp</th>\n",
              "      <th>total_rec_int</th>\n",
              "      <th>last_pymnt_d</th>\n",
              "      <th>last_pymnt_amnt</th>\n",
              "      <th>next_pymnt_d</th>\n",
              "      <th>last_credit_pull_d</th>\n",
              "      <th>repay_fail</th>\n",
              "    </tr>\n",
              "  </thead>\n",
              "  <tbody>\n",
              "    <tr>\n",
              "      <th>2</th>\n",
              "      <td>2</td>\n",
              "      <td>2</td>\n",
              "      <td>0.0</td>\n",
              "      <td>0.0</td>\n",
              "      <td>0.0</td>\n",
              "      <td>36 months</td>\n",
              "      <td>0.00</td>\n",
              "      <td>0.00</td>\n",
              "      <td>&lt; 1 year</td>\n",
              "      <td>RENT</td>\n",
              "      <td>...</td>\n",
              "      <td>1.0</td>\n",
              "      <td>0.000000</td>\n",
              "      <td>0.00</td>\n",
              "      <td>0.00</td>\n",
              "      <td>0.00</td>\n",
              "      <td>2023-01-07</td>\n",
              "      <td>0.00</td>\n",
              "      <td>2023-01-07</td>\n",
              "      <td>2023-01-07</td>\n",
              "      <td>1</td>\n",
              "    </tr>\n",
              "    <tr>\n",
              "      <th>3</th>\n",
              "      <td>545583</td>\n",
              "      <td>703644</td>\n",
              "      <td>2500.0</td>\n",
              "      <td>2500.0</td>\n",
              "      <td>2500.0</td>\n",
              "      <td>36 months</td>\n",
              "      <td>13.98</td>\n",
              "      <td>85.42</td>\n",
              "      <td>4 years</td>\n",
              "      <td>RENT</td>\n",
              "      <td>...</td>\n",
              "      <td>10.0</td>\n",
              "      <td>3075.291779</td>\n",
              "      <td>3075.29</td>\n",
              "      <td>2500.00</td>\n",
              "      <td>575.29</td>\n",
              "      <td>2023-07-13</td>\n",
              "      <td>90.85</td>\n",
              "      <td>2023-08-13</td>\n",
              "      <td>2023-06-16</td>\n",
              "      <td>0</td>\n",
              "    </tr>\n",
              "    <tr>\n",
              "      <th>4</th>\n",
              "      <td>532101</td>\n",
              "      <td>687836</td>\n",
              "      <td>5000.0</td>\n",
              "      <td>5000.0</td>\n",
              "      <td>5000.0</td>\n",
              "      <td>36 months</td>\n",
              "      <td>15.95</td>\n",
              "      <td>175.67</td>\n",
              "      <td>4 years</td>\n",
              "      <td>RENT</td>\n",
              "      <td>...</td>\n",
              "      <td>15.0</td>\n",
              "      <td>2948.760000</td>\n",
              "      <td>2948.76</td>\n",
              "      <td>1909.02</td>\n",
              "      <td>873.81</td>\n",
              "      <td>2023-11-11</td>\n",
              "      <td>175.67</td>\n",
              "      <td>NaT</td>\n",
              "      <td>2023-03-12</td>\n",
              "      <td>1</td>\n",
              "    </tr>\n",
              "    <tr>\n",
              "      <th>5</th>\n",
              "      <td>877788</td>\n",
              "      <td>1092507</td>\n",
              "      <td>7000.0</td>\n",
              "      <td>7000.0</td>\n",
              "      <td>7000.0</td>\n",
              "      <td>36 months</td>\n",
              "      <td>9.91</td>\n",
              "      <td>225.58</td>\n",
              "      <td>10+ years</td>\n",
              "      <td>MORTGAGE</td>\n",
              "      <td>...</td>\n",
              "      <td>20.0</td>\n",
              "      <td>8082.391880</td>\n",
              "      <td>8082.39</td>\n",
              "      <td>7000.00</td>\n",
              "      <td>1082.39</td>\n",
              "      <td>2023-03-14</td>\n",
              "      <td>1550.27</td>\n",
              "      <td>NaT</td>\n",
              "      <td>2023-03-14</td>\n",
              "      <td>0</td>\n",
              "    </tr>\n",
              "    <tr>\n",
              "      <th>6</th>\n",
              "      <td>875406</td>\n",
              "      <td>1089981</td>\n",
              "      <td>2000.0</td>\n",
              "      <td>2000.0</td>\n",
              "      <td>2000.0</td>\n",
              "      <td>36 months</td>\n",
              "      <td>5.42</td>\n",
              "      <td>60.32</td>\n",
              "      <td>10+ years</td>\n",
              "      <td>RENT</td>\n",
              "      <td>...</td>\n",
              "      <td>15.0</td>\n",
              "      <td>2161.663244</td>\n",
              "      <td>2161.66</td>\n",
              "      <td>2000.00</td>\n",
              "      <td>161.66</td>\n",
              "      <td>2023-02-14</td>\n",
              "      <td>53.12</td>\n",
              "      <td>NaT</td>\n",
              "      <td>2023-06-16</td>\n",
              "      <td>0</td>\n",
              "    </tr>\n",
              "  </tbody>\n",
              "</table>\n",
              "<p>5 rows × 36 columns</p>\n",
              "</div>\n",
              "    <div class=\"colab-df-buttons\">\n",
              "\n",
              "  <div class=\"colab-df-container\">\n",
              "    <button class=\"colab-df-convert\" onclick=\"convertToInteractive('df-0925fe5d-5d0d-499f-b098-630db1795f61')\"\n",
              "            title=\"Convert this dataframe to an interactive table.\"\n",
              "            style=\"display:none;\">\n",
              "\n",
              "  <svg xmlns=\"http://www.w3.org/2000/svg\" height=\"24px\" viewBox=\"0 -960 960 960\">\n",
              "    <path d=\"M120-120v-720h720v720H120Zm60-500h600v-160H180v160Zm220 220h160v-160H400v160Zm0 220h160v-160H400v160ZM180-400h160v-160H180v160Zm440 0h160v-160H620v160ZM180-180h160v-160H180v160Zm440 0h160v-160H620v160Z\"/>\n",
              "  </svg>\n",
              "    </button>\n",
              "\n",
              "  <style>\n",
              "    .colab-df-container {\n",
              "      display:flex;\n",
              "      gap: 12px;\n",
              "    }\n",
              "\n",
              "    .colab-df-convert {\n",
              "      background-color: #E8F0FE;\n",
              "      border: none;\n",
              "      border-radius: 50%;\n",
              "      cursor: pointer;\n",
              "      display: none;\n",
              "      fill: #1967D2;\n",
              "      height: 32px;\n",
              "      padding: 0 0 0 0;\n",
              "      width: 32px;\n",
              "    }\n",
              "\n",
              "    .colab-df-convert:hover {\n",
              "      background-color: #E2EBFA;\n",
              "      box-shadow: 0px 1px 2px rgba(60, 64, 67, 0.3), 0px 1px 3px 1px rgba(60, 64, 67, 0.15);\n",
              "      fill: #174EA6;\n",
              "    }\n",
              "\n",
              "    .colab-df-buttons div {\n",
              "      margin-bottom: 4px;\n",
              "    }\n",
              "\n",
              "    [theme=dark] .colab-df-convert {\n",
              "      background-color: #3B4455;\n",
              "      fill: #D2E3FC;\n",
              "    }\n",
              "\n",
              "    [theme=dark] .colab-df-convert:hover {\n",
              "      background-color: #434B5C;\n",
              "      box-shadow: 0px 1px 3px 1px rgba(0, 0, 0, 0.15);\n",
              "      filter: drop-shadow(0px 1px 2px rgba(0, 0, 0, 0.3));\n",
              "      fill: #FFFFFF;\n",
              "    }\n",
              "  </style>\n",
              "\n",
              "    <script>\n",
              "      const buttonEl =\n",
              "        document.querySelector('#df-0925fe5d-5d0d-499f-b098-630db1795f61 button.colab-df-convert');\n",
              "      buttonEl.style.display =\n",
              "        google.colab.kernel.accessAllowed ? 'block' : 'none';\n",
              "\n",
              "      async function convertToInteractive(key) {\n",
              "        const element = document.querySelector('#df-0925fe5d-5d0d-499f-b098-630db1795f61');\n",
              "        const dataTable =\n",
              "          await google.colab.kernel.invokeFunction('convertToInteractive',\n",
              "                                                    [key], {});\n",
              "        if (!dataTable) return;\n",
              "\n",
              "        const docLinkHtml = 'Like what you see? Visit the ' +\n",
              "          '<a target=\"_blank\" href=https://colab.research.google.com/notebooks/data_table.ipynb>data table notebook</a>'\n",
              "          + ' to learn more about interactive tables.';\n",
              "        element.innerHTML = '';\n",
              "        dataTable['output_type'] = 'display_data';\n",
              "        await google.colab.output.renderOutput(dataTable, element);\n",
              "        const docLink = document.createElement('div');\n",
              "        docLink.innerHTML = docLinkHtml;\n",
              "        element.appendChild(docLink);\n",
              "      }\n",
              "    </script>\n",
              "  </div>\n",
              "\n",
              "\n",
              "<div id=\"df-c2f4bcbc-6b2b-45ff-b5f2-139e1b649b82\">\n",
              "  <button class=\"colab-df-quickchart\" onclick=\"quickchart('df-c2f4bcbc-6b2b-45ff-b5f2-139e1b649b82')\"\n",
              "            title=\"Suggest charts.\"\n",
              "            style=\"display:none;\">\n",
              "\n",
              "<svg xmlns=\"http://www.w3.org/2000/svg\" height=\"24px\"viewBox=\"0 0 24 24\"\n",
              "     width=\"24px\">\n",
              "    <g>\n",
              "        <path d=\"M19 3H5c-1.1 0-2 .9-2 2v14c0 1.1.9 2 2 2h14c1.1 0 2-.9 2-2V5c0-1.1-.9-2-2-2zM9 17H7v-7h2v7zm4 0h-2V7h2v10zm4 0h-2v-4h2v4z\"/>\n",
              "    </g>\n",
              "</svg>\n",
              "  </button>\n",
              "\n",
              "<style>\n",
              "  .colab-df-quickchart {\n",
              "    background-color: #E8F0FE;\n",
              "    border: none;\n",
              "    border-radius: 50%;\n",
              "    cursor: pointer;\n",
              "    display: none;\n",
              "    fill: #1967D2;\n",
              "    height: 32px;\n",
              "    padding: 0 0 0 0;\n",
              "    width: 32px;\n",
              "  }\n",
              "\n",
              "  .colab-df-quickchart:hover {\n",
              "    background-color: #E2EBFA;\n",
              "    box-shadow: 0px 1px 2px rgba(60, 64, 67, 0.3), 0px 1px 3px 1px rgba(60, 64, 67, 0.15);\n",
              "    fill: #174EA6;\n",
              "  }\n",
              "\n",
              "  [theme=dark] .colab-df-quickchart {\n",
              "    background-color: #3B4455;\n",
              "    fill: #D2E3FC;\n",
              "  }\n",
              "\n",
              "  [theme=dark] .colab-df-quickchart:hover {\n",
              "    background-color: #434B5C;\n",
              "    box-shadow: 0px 1px 3px 1px rgba(0, 0, 0, 0.15);\n",
              "    filter: drop-shadow(0px 1px 2px rgba(0, 0, 0, 0.3));\n",
              "    fill: #FFFFFF;\n",
              "  }\n",
              "</style>\n",
              "\n",
              "  <script>\n",
              "    async function quickchart(key) {\n",
              "      const charts = await google.colab.kernel.invokeFunction(\n",
              "          'suggestCharts', [key], {});\n",
              "    }\n",
              "    (() => {\n",
              "      let quickchartButtonEl =\n",
              "        document.querySelector('#df-c2f4bcbc-6b2b-45ff-b5f2-139e1b649b82 button');\n",
              "      quickchartButtonEl.style.display =\n",
              "        google.colab.kernel.accessAllowed ? 'block' : 'none';\n",
              "    })();\n",
              "  </script>\n",
              "</div>\n",
              "    </div>\n",
              "  </div>\n"
            ]
          },
          "metadata": {},
          "execution_count": 4
        }
      ]
    },
    {
      "cell_type": "code",
      "source": [
        "df.info()"
      ],
      "metadata": {
        "colab": {
          "base_uri": "https://localhost:8080/"
        },
        "id": "_GSN6RnkEhAo",
        "outputId": "c3802ca8-7a9f-4251-b4ca-55ceb0631b4c"
      },
      "execution_count": 5,
      "outputs": [
        {
          "output_type": "stream",
          "name": "stdout",
          "text": [
            "<class 'pandas.core.frame.DataFrame'>\n",
            "Int64Index: 38480 entries, 2 to 38480\n",
            "Data columns (total 36 columns):\n",
            " #   Column                  Non-Null Count  Dtype         \n",
            "---  ------                  --------------  -----         \n",
            " 0   id                      38480 non-null  int64         \n",
            " 1   member_id               38480 non-null  int64         \n",
            " 2   loan_amnt               38479 non-null  float64       \n",
            " 3   funded_amnt             38479 non-null  float64       \n",
            " 4   funded_amnt_inv         38479 non-null  float64       \n",
            " 5   term                    38480 non-null  object        \n",
            " 6   int_rate                38480 non-null  float64       \n",
            " 7   installment             38479 non-null  float64       \n",
            " 8   emp_length              37487 non-null  object        \n",
            " 9   home_ownership          38480 non-null  object        \n",
            " 10  annual_inc              38478 non-null  float64       \n",
            " 11  verification_status     38480 non-null  object        \n",
            " 12  issue_d                 38480 non-null  datetime64[ns]\n",
            " 13  loan_status             38480 non-null  object        \n",
            " 14  purpose                 38480 non-null  object        \n",
            " 15  zip_code                38480 non-null  object        \n",
            " 16  addr_state              38480 non-null  object        \n",
            " 17  dti                     38480 non-null  float64       \n",
            " 18  delinq_2yrs             38479 non-null  float64       \n",
            " 19  earliest_cr_line        38480 non-null  datetime64[ns]\n",
            " 20  inq_last_6mths          38479 non-null  float64       \n",
            " 21  mths_since_last_delinq  14117 non-null  float64       \n",
            " 22  open_acc                38479 non-null  float64       \n",
            " 23  pub_rec                 38479 non-null  float64       \n",
            " 24  revol_bal               38476 non-null  float64       \n",
            " 25  revol_util              38421 non-null  object        \n",
            " 26  total_acc               38479 non-null  float64       \n",
            " 27  total_pymnt             38479 non-null  float64       \n",
            " 28  total_pymnt_inv         38479 non-null  float64       \n",
            " 29  total_rec_prncp         38479 non-null  float64       \n",
            " 30  total_rec_int           38479 non-null  float64       \n",
            " 31  last_pymnt_d            38409 non-null  datetime64[ns]\n",
            " 32  last_pymnt_amnt         38479 non-null  float64       \n",
            " 33  next_pymnt_d            3383 non-null   datetime64[ns]\n",
            " 34  last_credit_pull_d      38477 non-null  datetime64[ns]\n",
            " 35  repay_fail              38480 non-null  int64         \n",
            "dtypes: datetime64[ns](5), float64(19), int64(3), object(9)\n",
            "memory usage: 10.9+ MB\n"
          ]
        }
      ]
    },
    {
      "cell_type": "code",
      "source": [
        "df.isna().sum()"
      ],
      "metadata": {
        "colab": {
          "base_uri": "https://localhost:8080/"
        },
        "id": "ZNWmds0-EiIB",
        "outputId": "1440db46-ec4f-40b2-a83e-e6ce5e28941a"
      },
      "execution_count": 6,
      "outputs": [
        {
          "output_type": "execute_result",
          "data": {
            "text/plain": [
              "id                            0\n",
              "member_id                     0\n",
              "loan_amnt                     1\n",
              "funded_amnt                   1\n",
              "funded_amnt_inv               1\n",
              "term                          0\n",
              "int_rate                      0\n",
              "installment                   1\n",
              "emp_length                  993\n",
              "home_ownership                0\n",
              "annual_inc                    2\n",
              "verification_status           0\n",
              "issue_d                       0\n",
              "loan_status                   0\n",
              "purpose                       0\n",
              "zip_code                      0\n",
              "addr_state                    0\n",
              "dti                           0\n",
              "delinq_2yrs                   1\n",
              "earliest_cr_line              0\n",
              "inq_last_6mths                1\n",
              "mths_since_last_delinq    24363\n",
              "open_acc                      1\n",
              "pub_rec                       1\n",
              "revol_bal                     4\n",
              "revol_util                   59\n",
              "total_acc                     1\n",
              "total_pymnt                   1\n",
              "total_pymnt_inv               1\n",
              "total_rec_prncp               1\n",
              "total_rec_int                 1\n",
              "last_pymnt_d                 71\n",
              "last_pymnt_amnt               1\n",
              "next_pymnt_d              35097\n",
              "last_credit_pull_d            3\n",
              "repay_fail                    0\n",
              "dtype: int64"
            ]
          },
          "metadata": {},
          "execution_count": 6
        }
      ]
    },
    {
      "cell_type": "code",
      "source": [
        "df.emp_length.unique()"
      ],
      "metadata": {
        "colab": {
          "base_uri": "https://localhost:8080/"
        },
        "id": "KJmzMwdSEk9p",
        "outputId": "e3787fb3-e808-4090-dd9f-4bc8bb8571dc"
      },
      "execution_count": 7,
      "outputs": [
        {
          "output_type": "execute_result",
          "data": {
            "text/plain": [
              "array(['< 1 year', '4 years', '10+ years', nan, '3 years', '5 years',\n",
              "       '7 years', '2 years', '1 year', '6 years', '9 years', '8 years'],\n",
              "      dtype=object)"
            ]
          },
          "metadata": {},
          "execution_count": 7
        }
      ]
    },
    {
      "cell_type": "code",
      "source": [
        "df.mths_since_last_delinq.unique()"
      ],
      "metadata": {
        "colab": {
          "base_uri": "https://localhost:8080/"
        },
        "id": "YW-C_Rw6EnJB",
        "outputId": "45685ac9-fd85-4472-cf24-ef2021ded787"
      },
      "execution_count": 8,
      "outputs": [
        {
          "output_type": "execute_result",
          "data": {
            "text/plain": [
              "array([ nan,  59.,   3.,  72.,  25.,  61.,  41.,  42.,  13.,  79.,  19.,\n",
              "        18.,   1.,  16.,  15.,  45.,  76.,   8.,  23.,  21.,  52.,   0.,\n",
              "        75.,  40.,  51.,  65.,   4.,  17.,  29.,  22.,   5.,  12.,  39.,\n",
              "        33.,  49.,  78.,  58.,  69.,  24.,  64.,  10.,  31.,  68.,  14.,\n",
              "        28.,  30.,   7.,  56.,  85.,  62.,  36.,  44.,  35.,  27.,  46.,\n",
              "        63.,  47.,  48.,  57.,  74.,  67.,  20.,  11.,  34.,  80.,  73.,\n",
              "        71.,  66.,  81.,  43.,  38.,  37.,  54.,  26.,   9.,  32.,  60.,\n",
              "        77.,  55.,   2.,  50.,  53.,   6.,  70.,  82.,  86., 115.,  83.,\n",
              "       103.,  96., 120.,  89.,  95., 106.])"
            ]
          },
          "metadata": {},
          "execution_count": 8
        }
      ]
    },
    {
      "cell_type": "code",
      "source": [
        "df.mths_since_last_delinq.isna().sum()"
      ],
      "metadata": {
        "colab": {
          "base_uri": "https://localhost:8080/"
        },
        "id": "yQ0MNAshEoRQ",
        "outputId": "eac401a7-244a-49fd-8a19-7c41aabb491d"
      },
      "execution_count": 9,
      "outputs": [
        {
          "output_type": "execute_result",
          "data": {
            "text/plain": [
              "24363"
            ]
          },
          "metadata": {},
          "execution_count": 9
        }
      ]
    },
    {
      "cell_type": "code",
      "source": [
        "df.next_pymnt_d.unique()"
      ],
      "metadata": {
        "colab": {
          "base_uri": "https://localhost:8080/"
        },
        "id": "GXlMlQOxEpWp",
        "outputId": "5a5f5924-9966-4ae1-8cc8-30ce5333117b"
      },
      "execution_count": 10,
      "outputs": [
        {
          "output_type": "execute_result",
          "data": {
            "text/plain": [
              "array(['2023-01-07T00:00:00.000000000', '2023-08-13T00:00:00.000000000',\n",
              "                                 'NaT', '2023-06-13T00:00:00.000000000',\n",
              "       '2023-09-10T00:00:00.000000000', '2023-01-12T00:00:00.000000000',\n",
              "       '2023-07-11T00:00:00.000000000', '1999-01-01T00:00:00.000000000',\n",
              "       '2023-09-13T00:00:00.000000000', '2023-11-12T00:00:00.000000000',\n",
              "       '2023-02-11T00:00:00.000000000', '2023-02-12T00:00:00.000000000',\n",
              "       '2023-10-08T00:00:00.000000000', '2023-08-10T00:00:00.000000000',\n",
              "       '2023-07-16T00:00:00.000000000', '2023-12-10T00:00:00.000000000',\n",
              "       '2023-07-12T00:00:00.000000000', '2023-05-13T00:00:00.000000000',\n",
              "       '2023-11-09T00:00:00.000000000', '2023-01-10T00:00:00.000000000',\n",
              "       '2023-10-09T00:00:00.000000000', '2023-04-11T00:00:00.000000000',\n",
              "       '2023-02-13T00:00:00.000000000', '2023-08-09T00:00:00.000000000',\n",
              "       '2023-01-13T00:00:00.000000000', '2023-11-15T00:00:00.000000000',\n",
              "       '2023-09-11T00:00:00.000000000', '2023-12-11T00:00:00.000000000',\n",
              "       '2023-06-10T00:00:00.000000000', '2023-06-09T00:00:00.000000000',\n",
              "       '2023-11-10T00:00:00.000000000', '2023-03-11T00:00:00.000000000',\n",
              "       '2023-12-13T00:00:00.000000000', '2023-02-10T00:00:00.000000000',\n",
              "       '2023-11-13T00:00:00.000000000', '2023-09-12T00:00:00.000000000',\n",
              "       '2023-03-13T00:00:00.000000000', '2023-09-09T00:00:00.000000000',\n",
              "       '2023-01-16T00:00:00.000000000', '2023-06-11T00:00:00.000000000',\n",
              "       '2023-12-14T00:00:00.000000000', '2023-08-11T00:00:00.000000000',\n",
              "       '2023-05-10T00:00:00.000000000', '2023-07-10T00:00:00.000000000',\n",
              "       '2023-03-14T00:00:00.000000000', '2023-06-12T00:00:00.000000000',\n",
              "       '2023-12-12T00:00:00.000000000', '2023-03-12T00:00:00.000000000',\n",
              "       '2023-01-09T00:00:00.000000000', '2023-05-08T00:00:00.000000000',\n",
              "       '2023-04-12T00:00:00.000000000', '2023-11-08T00:00:00.000000000',\n",
              "       '2023-08-12T00:00:00.000000000', '2023-12-08T00:00:00.000000000',\n",
              "       '2023-07-13T00:00:00.000000000', '2023-10-12T00:00:00.000000000',\n",
              "       '2023-01-11T00:00:00.000000000', '2023-03-10T00:00:00.000000000',\n",
              "       '2023-11-11T00:00:00.000000000', '2023-10-15T00:00:00.000000000',\n",
              "       '2023-04-13T00:00:00.000000000', '2023-05-12T00:00:00.000000000',\n",
              "       '2023-12-09T00:00:00.000000000', '2023-10-10T00:00:00.000000000',\n",
              "       '2023-05-09T00:00:00.000000000', '2023-10-11T00:00:00.000000000',\n",
              "       '2023-07-15T00:00:00.000000000', '2023-01-08T00:00:00.000000000',\n",
              "       '2023-05-11T00:00:00.000000000', '2023-07-09T00:00:00.000000000',\n",
              "       '2023-11-14T00:00:00.000000000', '2023-09-08T00:00:00.000000000',\n",
              "       '2023-04-09T00:00:00.000000000', '2023-04-08T00:00:00.000000000',\n",
              "       '2023-10-13T00:00:00.000000000', '2023-05-15T00:00:00.000000000',\n",
              "       '2023-04-10T00:00:00.000000000', '2023-05-14T00:00:00.000000000',\n",
              "       '2023-02-14T00:00:00.000000000', '2023-08-15T00:00:00.000000000',\n",
              "       '2023-01-14T00:00:00.000000000', '2023-07-08T00:00:00.000000000',\n",
              "       '2023-01-15T00:00:00.000000000', '2023-03-09T00:00:00.000000000',\n",
              "       '2023-03-15T00:00:00.000000000', '2023-02-08T00:00:00.000000000',\n",
              "       '2023-04-14T00:00:00.000000000', '2023-08-14T00:00:00.000000000',\n",
              "       '2023-03-08T00:00:00.000000000', '2023-06-15T00:00:00.000000000',\n",
              "       '2023-02-15T00:00:00.000000000', '2023-02-16T00:00:00.000000000',\n",
              "       '2023-09-15T00:00:00.000000000', '2023-08-08T00:00:00.000000000',\n",
              "       '2023-04-15T00:00:00.000000000', '2023-07-14T00:00:00.000000000',\n",
              "       '2023-12-15T00:00:00.000000000', '2023-06-14T00:00:00.000000000',\n",
              "       '2023-06-08T00:00:00.000000000', '2023-06-16T00:00:00.000000000',\n",
              "       '2023-12-07T00:00:00.000000000', '2023-02-09T00:00:00.000000000',\n",
              "       '2023-09-14T00:00:00.000000000', '2023-10-14T00:00:00.000000000'],\n",
              "      dtype='datetime64[ns]')"
            ]
          },
          "metadata": {},
          "execution_count": 10
        }
      ]
    },
    {
      "cell_type": "code",
      "source": [
        "df.next_pymnt_d.isna().sum()"
      ],
      "metadata": {
        "colab": {
          "base_uri": "https://localhost:8080/"
        },
        "id": "owwSdcJHEqkQ",
        "outputId": "d8ec5b81-343e-4c38-a62c-3d3da0ebd74b"
      },
      "execution_count": 11,
      "outputs": [
        {
          "output_type": "execute_result",
          "data": {
            "text/plain": [
              "35097"
            ]
          },
          "metadata": {},
          "execution_count": 11
        }
      ]
    },
    {
      "cell_type": "code",
      "source": [
        "df.last_credit_pull_d.isna().sum()"
      ],
      "metadata": {
        "colab": {
          "base_uri": "https://localhost:8080/"
        },
        "id": "t2uPp1C1EsjR",
        "outputId": "c31fd9ca-de12-4dfd-9fbc-99db6a3f89ec"
      },
      "execution_count": 12,
      "outputs": [
        {
          "output_type": "execute_result",
          "data": {
            "text/plain": [
              "3"
            ]
          },
          "metadata": {},
          "execution_count": 12
        }
      ]
    },
    {
      "cell_type": "code",
      "source": [
        "df.repay_fail.isna().sum()"
      ],
      "metadata": {
        "colab": {
          "base_uri": "https://localhost:8080/"
        },
        "id": "NWfU7LbHEtpw",
        "outputId": "3837583b-d136-45eb-8649-a57e6dd0eb32"
      },
      "execution_count": 13,
      "outputs": [
        {
          "output_type": "execute_result",
          "data": {
            "text/plain": [
              "0"
            ]
          },
          "metadata": {},
          "execution_count": 13
        }
      ]
    },
    {
      "cell_type": "code",
      "source": [
        "import matplotlib.pyplot as plt\n",
        "plot_df = df.repay_fail.value_counts()\n",
        "plot_df.plot(kind=\"bar\")"
      ],
      "metadata": {
        "colab": {
          "base_uri": "https://localhost:8080/",
          "height": 442
        },
        "id": "qk-RddNCEuqY",
        "outputId": "b6af52c3-91d9-4569-fc5f-d2ee8efecd52"
      },
      "execution_count": 14,
      "outputs": [
        {
          "output_type": "execute_result",
          "data": {
            "text/plain": [
              "<Axes: >"
            ]
          },
          "metadata": {},
          "execution_count": 14
        },
        {
          "output_type": "display_data",
          "data": {
            "text/plain": [
              "<Figure size 640x480 with 1 Axes>"
            ],
            "image/png": "[encoded data removed]"
          },
          "metadata": {}
        }
      ]
    },
    {
      "cell_type": "code",
      "source": [
        "df.describe().T.style.background_gradient()"
      ],
      "metadata": {
        "colab": {
          "base_uri": "https://localhost:8080/",
          "height": 759
        },
        "id": "fauhDmweEvvQ",
        "outputId": "cb18b561-82f4-4dc6-e502-b89289a7f95e"
      },
      "execution_count": 15,
      "outputs": [
        {
          "output_type": "execute_result",
          "data": {
            "text/plain": [
              "<pandas.io.formats.style.Styler at 0x7e3e53f3f340>"
            ],
            "text/html": [
              "<style type=\"text/css\">\n",
              "#T_26df5_row0_col0, #T_26df5_row0_col3, #T_26df5_row1_col0, #T_26df5_row1_col1, #T_26df5_row1_col2, #T_26df5_row1_col3, #T_26df5_row1_col4, #T_26df5_row1_col5, #T_26df5_row1_col6, #T_26df5_row2_col0, #T_26df5_row3_col0, #T_26df5_row4_col0, #T_26df5_row5_col0, #T_26df5_row6_col0, #T_26df5_row7_col0, #T_26df5_row7_col7, #T_26df5_row8_col0, #T_26df5_row9_col0, #T_26df5_row10_col0, #T_26df5_row12_col0, #T_26df5_row13_col0, #T_26df5_row14_col0, #T_26df5_row15_col0, #T_26df5_row15_col3, #T_26df5_row16_col0, #T_26df5_row17_col0, #T_26df5_row18_col0, #T_26df5_row19_col0, #T_26df5_row20_col0, #T_26df5_row21_col0 {\n",
              "  background-color: #023858;\n",
              "  color: #f1f1f1;\n",
              "}\n",
              "#T_26df5_row0_col1 {\n",
              "  background-color: #0566a0;\n",
              "  color: #f1f1f1;\n",
              "}\n",
              "#T_26df5_row0_col2, #T_26df5_row0_col5 {\n",
              "  background-color: #056aa6;\n",
              "  color: #f1f1f1;\n",
              "}\n",
              "#T_26df5_row0_col4 {\n",
              "  background-color: #056ba7;\n",
              "  color: #f1f1f1;\n",
              "}\n",
              "#T_26df5_row0_col6 {\n",
              "  background-color: #0567a2;\n",
              "  color: #f1f1f1;\n",
              "}\n",
              "#T_26df5_row0_col7 {\n",
              "  background-color: #e0deed;\n",
              "  color: #000000;\n",
              "}\n",
              "#T_26df5_row1_col7 {\n",
              "  background-color: #d7d6e9;\n",
              "  color: #000000;\n",
              "}\n",
              "#T_26df5_row2_col1, #T_26df5_row2_col5, #T_26df5_row2_col6, #T_26df5_row3_col1, #T_26df5_row3_col6, #T_26df5_row4_col1, #T_26df5_row4_col6, #T_26df5_row14_col1, #T_26df5_row14_col6, #T_26df5_row16_col1, #T_26df5_row16_col5, #T_26df5_row16_col6, #T_26df5_row17_col1, #T_26df5_row17_col6, #T_26df5_row18_col6, #T_26df5_row20_col2 {\n",
              "  background-color: #fdf5fa;\n",
              "  color: #000000;\n",
              "}\n",
              "#T_26df5_row2_col2, #T_26df5_row3_col2, #T_26df5_row4_col2, #T_26df5_row18_col2 {\n",
              "  background-color: #fbf4f9;\n",
              "  color: #000000;\n",
              "}\n",
              "#T_26df5_row2_col3, #T_26df5_row3_col3, #T_26df5_row4_col3, #T_26df5_row5_col1, #T_26df5_row5_col2, #T_26df5_row5_col3, #T_26df5_row5_col4, #T_26df5_row5_col5, #T_26df5_row5_col6, #T_26df5_row5_col7, #T_26df5_row6_col1, #T_26df5_row6_col2, #T_26df5_row6_col3, #T_26df5_row6_col4, #T_26df5_row6_col5, #T_26df5_row6_col6, #T_26df5_row6_col7, #T_26df5_row7_col3, #T_26df5_row8_col1, #T_26df5_row8_col2, #T_26df5_row8_col3, #T_26df5_row8_col4, #T_26df5_row8_col5, #T_26df5_row8_col6, #T_26df5_row8_col7, #T_26df5_row9_col1, #T_26df5_row9_col2, #T_26df5_row9_col3, #T_26df5_row9_col4, #T_26df5_row9_col5, #T_26df5_row9_col6, #T_26df5_row9_col7, #T_26df5_row10_col1, #T_26df5_row10_col2, #T_26df5_row10_col3, #T_26df5_row10_col4, #T_26df5_row10_col5, #T_26df5_row10_col6, #T_26df5_row10_col7, #T_26df5_row11_col0, #T_26df5_row11_col1, #T_26df5_row11_col2, #T_26df5_row11_col3, #T_26df5_row11_col4, #T_26df5_row11_col5, #T_26df5_row11_col6, #T_26df5_row11_col7, #T_26df5_row12_col1, #T_26df5_row12_col2, #T_26df5_row12_col3, #T_26df5_row12_col4, #T_26df5_row12_col5, #T_26df5_row12_col6, #T_26df5_row12_col7, #T_26df5_row13_col1, #T_26df5_row13_col2, #T_26df5_row13_col3, #T_26df5_row13_col4, #T_26df5_row13_col5, #T_26df5_row13_col6, #T_26df5_row13_col7, #T_26df5_row14_col3, #T_26df5_row15_col1, #T_26df5_row15_col2, #T_26df5_row15_col4, #T_26df5_row15_col5, #T_26df5_row15_col6, #T_26df5_row15_col7, #T_26df5_row16_col3, #T_26df5_row17_col3, #T_26df5_row18_col3, #T_26df5_row19_col1, #T_26df5_row19_col3, #T_26df5_row19_col4, #T_26df5_row19_col5, #T_26df5_row19_col6, #T_26df5_row20_col1, #T_26df5_row20_col3, #T_26df5_row20_col4, #T_26df5_row20_col5, #T_26df5_row20_col6, #T_26df5_row21_col1, #T_26df5_row21_col2, #T_26df5_row21_col3, #T_26df5_row21_col4, #T_26df5_row21_col5, #T_26df5_row21_col6, #T_26df5_row21_col7 {\n",
              "  background-color: #fff7fb;\n",
              "  color: #000000;\n",
              "}\n",
              "#T_26df5_row2_col4, #T_26df5_row3_col4, #T_26df5_row3_col5, #T_26df5_row4_col5, #T_26df5_row14_col5, #T_26df5_row16_col4, #T_26df5_row16_col7, #T_26df5_row17_col5, #T_26df5_row17_col7, #T_26df5_row18_col1, #T_26df5_row18_col5, #T_26df5_row19_col2 {\n",
              "  background-color: #fef6fa;\n",
              "  color: #000000;\n",
              "}\n",
              "#T_26df5_row2_col7, #T_26df5_row3_col7, #T_26df5_row4_col4, #T_26df5_row4_col7, #T_26df5_row14_col4, #T_26df5_row17_col4, #T_26df5_row18_col4, #T_26df5_row18_col7, #T_26df5_row19_col7, #T_26df5_row20_col7 {\n",
              "  background-color: #fef6fb;\n",
              "  color: #000000;\n",
              "}\n",
              "#T_26df5_row7_col1 {\n",
              "  background-color: #f2ecf5;\n",
              "  color: #000000;\n",
              "}\n",
              "#T_26df5_row7_col2 {\n",
              "  background-color: #d4d4e8;\n",
              "  color: #000000;\n",
              "}\n",
              "#T_26df5_row7_col4 {\n",
              "  background-color: #f5eff6;\n",
              "  color: #000000;\n",
              "}\n",
              "#T_26df5_row7_col5 {\n",
              "  background-color: #f4eef6;\n",
              "  color: #000000;\n",
              "}\n",
              "#T_26df5_row7_col6, #T_26df5_row14_col2 {\n",
              "  background-color: #f3edf5;\n",
              "  color: #000000;\n",
              "}\n",
              "#T_26df5_row14_col7 {\n",
              "  background-color: #dbdaeb;\n",
              "  color: #000000;\n",
              "}\n",
              "#T_26df5_row16_col2, #T_26df5_row17_col2 {\n",
              "  background-color: #faf3f9;\n",
              "  color: #000000;\n",
              "}\n",
              "</style>\n",
              "<table id=\"T_26df5\" class=\"dataframe\">\n",
              "  <thead>\n",
              "    <tr>\n",
              "      <th class=\"blank level0\" >&nbsp;</th>\n",
              "      <th id=\"T_26df5_level0_col0\" class=\"col_heading level0 col0\" >count</th>\n",
              "      <th id=\"T_26df5_level0_col1\" class=\"col_heading level0 col1\" >mean</th>\n",
              "      <th id=\"T_26df5_level0_col2\" class=\"col_heading level0 col2\" >std</th>\n",
              "      <th id=\"T_26df5_level0_col3\" class=\"col_heading level0 col3\" >min</th>\n",
              "      <th id=\"T_26df5_level0_col4\" class=\"col_heading level0 col4\" >25%</th>\n",
              "      <th id=\"T_26df5_level0_col5\" class=\"col_heading level0 col5\" >50%</th>\n",
              "      <th id=\"T_26df5_level0_col6\" class=\"col_heading level0 col6\" >75%</th>\n",
              "      <th id=\"T_26df5_level0_col7\" class=\"col_heading level0 col7\" >max</th>\n",
              "    </tr>\n",
              "  </thead>\n",
              "  <tbody>\n",
              "    <tr>\n",
              "      <th id=\"T_26df5_level0_row0\" class=\"row_heading level0 row0\" >id</th>\n",
              "      <td id=\"T_26df5_row0_col0\" class=\"data row0 col0\" >38480.000000</td>\n",
              "      <td id=\"T_26df5_row0_col1\" class=\"data row0 col1\" >664997.930016</td>\n",
              "      <td id=\"T_26df5_row0_col2\" class=\"data row0 col2\" >219232.159934</td>\n",
              "      <td id=\"T_26df5_row0_col3\" class=\"data row0 col3\" >1.000000</td>\n",
              "      <td id=\"T_26df5_row0_col4\" class=\"data row0 col4\" >498364.500000</td>\n",
              "      <td id=\"T_26df5_row0_col5\" class=\"data row0 col5\" >644319.500000</td>\n",
              "      <td id=\"T_26df5_row0_col6\" class=\"data row0 col6\" >826560.750000</td>\n",
              "      <td id=\"T_26df5_row0_col7\" class=\"data row0 col7\" >1077430.000000</td>\n",
              "    </tr>\n",
              "    <tr>\n",
              "      <th id=\"T_26df5_level0_row1\" class=\"row_heading level0 row1\" >member_id</th>\n",
              "      <td id=\"T_26df5_row1_col0\" class=\"data row1 col0\" >38480.000000</td>\n",
              "      <td id=\"T_26df5_row1_col1\" class=\"data row1 col1\" >826189.854288</td>\n",
              "      <td id=\"T_26df5_row1_col2\" class=\"data row1 col2\" >279353.137600</td>\n",
              "      <td id=\"T_26df5_row1_col3\" class=\"data row1 col3\" >1.000000</td>\n",
              "      <td id=\"T_26df5_row1_col4\" class=\"data row1 col4\" >638462.000000</td>\n",
              "      <td id=\"T_26df5_row1_col5\" class=\"data row1 col5\" >824254.500000</td>\n",
              "      <td id=\"T_26df5_row1_col6\" class=\"data row1 col6\" >1034706.500000</td>\n",
              "      <td id=\"T_26df5_row1_col7\" class=\"data row1 col7\" >1314167.000000</td>\n",
              "    </tr>\n",
              "    <tr>\n",
              "      <th id=\"T_26df5_level0_row2\" class=\"row_heading level0 row2\" >loan_amnt</th>\n",
              "      <td id=\"T_26df5_row2_col0\" class=\"data row2 col0\" >38479.000000</td>\n",
              "      <td id=\"T_26df5_row2_col1\" class=\"data row2 col1\" >11094.727644</td>\n",
              "      <td id=\"T_26df5_row2_col2\" class=\"data row2 col2\" >7405.416042</td>\n",
              "      <td id=\"T_26df5_row2_col3\" class=\"data row2 col3\" >0.000000</td>\n",
              "      <td id=\"T_26df5_row2_col4\" class=\"data row2 col4\" >5200.000000</td>\n",
              "      <td id=\"T_26df5_row2_col5\" class=\"data row2 col5\" >9750.000000</td>\n",
              "      <td id=\"T_26df5_row2_col6\" class=\"data row2 col6\" >15000.000000</td>\n",
              "      <td id=\"T_26df5_row2_col7\" class=\"data row2 col7\" >35000.000000</td>\n",
              "    </tr>\n",
              "    <tr>\n",
              "      <th id=\"T_26df5_level0_row3\" class=\"row_heading level0 row3\" >funded_amnt</th>\n",
              "      <td id=\"T_26df5_row3_col0\" class=\"data row3 col0\" >38479.000000</td>\n",
              "      <td id=\"T_26df5_row3_col1\" class=\"data row3 col1\" >10831.856337</td>\n",
              "      <td id=\"T_26df5_row3_col2\" class=\"data row3 col2\" >7146.853682</td>\n",
              "      <td id=\"T_26df5_row3_col3\" class=\"data row3 col3\" >0.000000</td>\n",
              "      <td id=\"T_26df5_row3_col4\" class=\"data row3 col4\" >5100.000000</td>\n",
              "      <td id=\"T_26df5_row3_col5\" class=\"data row3 col5\" >9600.000000</td>\n",
              "      <td id=\"T_26df5_row3_col6\" class=\"data row3 col6\" >15000.000000</td>\n",
              "      <td id=\"T_26df5_row3_col7\" class=\"data row3 col7\" >35000.000000</td>\n",
              "    </tr>\n",
              "    <tr>\n",
              "      <th id=\"T_26df5_level0_row4\" class=\"row_heading level0 row4\" >funded_amnt_inv</th>\n",
              "      <td id=\"T_26df5_row4_col0\" class=\"data row4 col0\" >38479.000000</td>\n",
              "      <td id=\"T_26df5_row4_col1\" class=\"data row4 col1\" >10150.141518</td>\n",
              "      <td id=\"T_26df5_row4_col2\" class=\"data row4 col2\" >7128.026828</td>\n",
              "      <td id=\"T_26df5_row4_col3\" class=\"data row4 col3\" >0.000000</td>\n",
              "      <td id=\"T_26df5_row4_col4\" class=\"data row4 col4\" >4950.000000</td>\n",
              "      <td id=\"T_26df5_row4_col5\" class=\"data row4 col5\" >8495.792749</td>\n",
              "      <td id=\"T_26df5_row4_col6\" class=\"data row4 col6\" >14000.000000</td>\n",
              "      <td id=\"T_26df5_row4_col7\" class=\"data row4 col7\" >35000.000000</td>\n",
              "    </tr>\n",
              "    <tr>\n",
              "      <th id=\"T_26df5_level0_row5\" class=\"row_heading level0 row5\" >int_rate</th>\n",
              "      <td id=\"T_26df5_row5_col0\" class=\"data row5 col0\" >38480.000000</td>\n",
              "      <td id=\"T_26df5_row5_col1\" class=\"data row5 col1\" >12.164300</td>\n",
              "      <td id=\"T_26df5_row5_col2\" class=\"data row5 col2\" >3.737440</td>\n",
              "      <td id=\"T_26df5_row5_col3\" class=\"data row5 col3\" >0.000000</td>\n",
              "      <td id=\"T_26df5_row5_col4\" class=\"data row5 col4\" >9.620000</td>\n",
              "      <td id=\"T_26df5_row5_col5\" class=\"data row5 col5\" >11.990000</td>\n",
              "      <td id=\"T_26df5_row5_col6\" class=\"data row5 col6\" >14.720000</td>\n",
              "      <td id=\"T_26df5_row5_col7\" class=\"data row5 col7\" >100.990000</td>\n",
              "    </tr>\n",
              "    <tr>\n",
              "      <th id=\"T_26df5_level0_row6\" class=\"row_heading level0 row6\" >installment</th>\n",
              "      <td id=\"T_26df5_row6_col0\" class=\"data row6 col0\" >38479.000000</td>\n",
              "      <td id=\"T_26df5_row6_col1\" class=\"data row6 col1\" >323.163255</td>\n",
              "      <td id=\"T_26df5_row6_col2\" class=\"data row6 col2\" >209.089097</td>\n",
              "      <td id=\"T_26df5_row6_col3\" class=\"data row6 col3\" >0.000000</td>\n",
              "      <td id=\"T_26df5_row6_col4\" class=\"data row6 col4\" >165.740000</td>\n",
              "      <td id=\"T_26df5_row6_col5\" class=\"data row6 col5\" >277.980000</td>\n",
              "      <td id=\"T_26df5_row6_col6\" class=\"data row6 col6\" >429.350000</td>\n",
              "      <td id=\"T_26df5_row6_col7\" class=\"data row6 col7\" >1305.190000</td>\n",
              "    </tr>\n",
              "    <tr>\n",
              "      <th id=\"T_26df5_level0_row7\" class=\"row_heading level0 row7\" >annual_inc</th>\n",
              "      <td id=\"T_26df5_row7_col0\" class=\"data row7 col0\" >38478.000000</td>\n",
              "      <td id=\"T_26df5_row7_col1\" class=\"data row7 col1\" >68995.308917</td>\n",
              "      <td id=\"T_26df5_row7_col2\" class=\"data row7 col2\" >64476.388744</td>\n",
              "      <td id=\"T_26df5_row7_col3\" class=\"data row7 col3\" >0.000000</td>\n",
              "      <td id=\"T_26df5_row7_col4\" class=\"data row7 col4\" >40000.000000</td>\n",
              "      <td id=\"T_26df5_row7_col5\" class=\"data row7 col5\" >58650.000000</td>\n",
              "      <td id=\"T_26df5_row7_col6\" class=\"data row7 col6\" >82000.000000</td>\n",
              "      <td id=\"T_26df5_row7_col7\" class=\"data row7 col7\" >6000000.000000</td>\n",
              "    </tr>\n",
              "    <tr>\n",
              "      <th id=\"T_26df5_level0_row8\" class=\"row_heading level0 row8\" >dti</th>\n",
              "      <td id=\"T_26df5_row8_col0\" class=\"data row8 col0\" >38480.000000</td>\n",
              "      <td id=\"T_26df5_row8_col1\" class=\"data row8 col1\" >13.378119</td>\n",
              "      <td id=\"T_26df5_row8_col2\" class=\"data row8 col2\" >6.744356</td>\n",
              "      <td id=\"T_26df5_row8_col3\" class=\"data row8 col3\" >0.000000</td>\n",
              "      <td id=\"T_26df5_row8_col4\" class=\"data row8 col4\" >8.200000</td>\n",
              "      <td id=\"T_26df5_row8_col5\" class=\"data row8 col5\" >13.485000</td>\n",
              "      <td id=\"T_26df5_row8_col6\" class=\"data row8 col6\" >18.690000</td>\n",
              "      <td id=\"T_26df5_row8_col7\" class=\"data row8 col7\" >100.000000</td>\n",
              "    </tr>\n",
              "    <tr>\n",
              "      <th id=\"T_26df5_level0_row9\" class=\"row_heading level0 row9\" >delinq_2yrs</th>\n",
              "      <td id=\"T_26df5_row9_col0\" class=\"data row9 col0\" >38479.000000</td>\n",
              "      <td id=\"T_26df5_row9_col1\" class=\"data row9 col1\" >0.151927</td>\n",
              "      <td id=\"T_26df5_row9_col2\" class=\"data row9 col2\" >0.507592</td>\n",
              "      <td id=\"T_26df5_row9_col3\" class=\"data row9 col3\" >0.000000</td>\n",
              "      <td id=\"T_26df5_row9_col4\" class=\"data row9 col4\" >0.000000</td>\n",
              "      <td id=\"T_26df5_row9_col5\" class=\"data row9 col5\" >0.000000</td>\n",
              "      <td id=\"T_26df5_row9_col6\" class=\"data row9 col6\" >0.000000</td>\n",
              "      <td id=\"T_26df5_row9_col7\" class=\"data row9 col7\" >11.000000</td>\n",
              "    </tr>\n",
              "    <tr>\n",
              "      <th id=\"T_26df5_level0_row10\" class=\"row_heading level0 row10\" >inq_last_6mths</th>\n",
              "      <td id=\"T_26df5_row10_col0\" class=\"data row10 col0\" >38479.000000</td>\n",
              "      <td id=\"T_26df5_row10_col1\" class=\"data row10 col1\" >1.083942</td>\n",
              "      <td id=\"T_26df5_row10_col2\" class=\"data row10 col2\" >1.534814</td>\n",
              "      <td id=\"T_26df5_row10_col3\" class=\"data row10 col3\" >0.000000</td>\n",
              "      <td id=\"T_26df5_row10_col4\" class=\"data row10 col4\" >0.000000</td>\n",
              "      <td id=\"T_26df5_row10_col5\" class=\"data row10 col5\" >1.000000</td>\n",
              "      <td id=\"T_26df5_row10_col6\" class=\"data row10 col6\" >2.000000</td>\n",
              "      <td id=\"T_26df5_row10_col7\" class=\"data row10 col7\" >33.000000</td>\n",
              "    </tr>\n",
              "    <tr>\n",
              "      <th id=\"T_26df5_level0_row11\" class=\"row_heading level0 row11\" >mths_since_last_delinq</th>\n",
              "      <td id=\"T_26df5_row11_col0\" class=\"data row11 col0\" >14117.000000</td>\n",
              "      <td id=\"T_26df5_row11_col1\" class=\"data row11 col1\" >35.009846</td>\n",
              "      <td id=\"T_26df5_row11_col2\" class=\"data row11 col2\" >22.426843</td>\n",
              "      <td id=\"T_26df5_row11_col3\" class=\"data row11 col3\" >0.000000</td>\n",
              "      <td id=\"T_26df5_row11_col4\" class=\"data row11 col4\" >17.000000</td>\n",
              "      <td id=\"T_26df5_row11_col5\" class=\"data row11 col5\" >33.000000</td>\n",
              "      <td id=\"T_26df5_row11_col6\" class=\"data row11 col6\" >51.000000</td>\n",
              "      <td id=\"T_26df5_row11_col7\" class=\"data row11 col7\" >120.000000</td>\n",
              "    </tr>\n",
              "    <tr>\n",
              "      <th id=\"T_26df5_level0_row12\" class=\"row_heading level0 row12\" >open_acc</th>\n",
              "      <td id=\"T_26df5_row12_col0\" class=\"data row12 col0\" >38479.000000</td>\n",
              "      <td id=\"T_26df5_row12_col1\" class=\"data row12 col1\" >9.342966</td>\n",
              "      <td id=\"T_26df5_row12_col2\" class=\"data row12 col2\" >4.498075</td>\n",
              "      <td id=\"T_26df5_row12_col3\" class=\"data row12 col3\" >0.000000</td>\n",
              "      <td id=\"T_26df5_row12_col4\" class=\"data row12 col4\" >6.000000</td>\n",
              "      <td id=\"T_26df5_row12_col5\" class=\"data row12 col5\" >9.000000</td>\n",
              "      <td id=\"T_26df5_row12_col6\" class=\"data row12 col6\" >12.000000</td>\n",
              "      <td id=\"T_26df5_row12_col7\" class=\"data row12 col7\" >47.000000</td>\n",
              "    </tr>\n",
              "    <tr>\n",
              "      <th id=\"T_26df5_level0_row13\" class=\"row_heading level0 row13\" >pub_rec</th>\n",
              "      <td id=\"T_26df5_row13_col0\" class=\"data row13 col0\" >38479.000000</td>\n",
              "      <td id=\"T_26df5_row13_col1\" class=\"data row13 col1\" >0.057902</td>\n",
              "      <td id=\"T_26df5_row13_col2\" class=\"data row13 col2\" >0.245707</td>\n",
              "      <td id=\"T_26df5_row13_col3\" class=\"data row13 col3\" >0.000000</td>\n",
              "      <td id=\"T_26df5_row13_col4\" class=\"data row13 col4\" >0.000000</td>\n",
              "      <td id=\"T_26df5_row13_col5\" class=\"data row13 col5\" >0.000000</td>\n",
              "      <td id=\"T_26df5_row13_col6\" class=\"data row13 col6\" >0.000000</td>\n",
              "      <td id=\"T_26df5_row13_col7\" class=\"data row13 col7\" >5.000000</td>\n",
              "    </tr>\n",
              "    <tr>\n",
              "      <th id=\"T_26df5_level0_row14\" class=\"row_heading level0 row14\" >revol_bal</th>\n",
              "      <td id=\"T_26df5_row14_col0\" class=\"data row14 col0\" >38476.000000</td>\n",
              "      <td id=\"T_26df5_row14_col1\" class=\"data row14 col1\" >14289.866280</td>\n",
              "      <td id=\"T_26df5_row14_col2\" class=\"data row14 col2\" >21941.377270</td>\n",
              "      <td id=\"T_26df5_row14_col3\" class=\"data row14 col3\" >0.000000</td>\n",
              "      <td id=\"T_26df5_row14_col4\" class=\"data row14 col4\" >3639.750000</td>\n",
              "      <td id=\"T_26df5_row14_col5\" class=\"data row14 col5\" >8839.500000</td>\n",
              "      <td id=\"T_26df5_row14_col6\" class=\"data row14 col6\" >17265.500000</td>\n",
              "      <td id=\"T_26df5_row14_col7\" class=\"data row14 col7\" >1207359.000000</td>\n",
              "    </tr>\n",
              "    <tr>\n",
              "      <th id=\"T_26df5_level0_row15\" class=\"row_heading level0 row15\" >total_acc</th>\n",
              "      <td id=\"T_26df5_row15_col0\" class=\"data row15 col0\" >38479.000000</td>\n",
              "      <td id=\"T_26df5_row15_col1\" class=\"data row15 col1\" >22.108501</td>\n",
              "      <td id=\"T_26df5_row15_col2\" class=\"data row15 col2\" >11.588602</td>\n",
              "      <td id=\"T_26df5_row15_col3\" class=\"data row15 col3\" >1.000000</td>\n",
              "      <td id=\"T_26df5_row15_col4\" class=\"data row15 col4\" >13.000000</td>\n",
              "      <td id=\"T_26df5_row15_col5\" class=\"data row15 col5\" >20.000000</td>\n",
              "      <td id=\"T_26df5_row15_col6\" class=\"data row15 col6\" >29.000000</td>\n",
              "      <td id=\"T_26df5_row15_col7\" class=\"data row15 col7\" >90.000000</td>\n",
              "    </tr>\n",
              "    <tr>\n",
              "      <th id=\"T_26df5_level0_row16\" class=\"row_heading level0 row16\" >total_pymnt</th>\n",
              "      <td id=\"T_26df5_row16_col0\" class=\"data row16 col0\" >38479.000000</td>\n",
              "      <td id=\"T_26df5_row16_col1\" class=\"data row16 col1\" >11980.696892</td>\n",
              "      <td id=\"T_26df5_row16_col2\" class=\"data row16 col2\" >9006.505205</td>\n",
              "      <td id=\"T_26df5_row16_col3\" class=\"data row16 col3\" >0.000000</td>\n",
              "      <td id=\"T_26df5_row16_col4\" class=\"data row16 col4\" >5463.099238</td>\n",
              "      <td id=\"T_26df5_row16_col5\" class=\"data row16 col5\" >9673.221341</td>\n",
              "      <td id=\"T_26df5_row16_col6\" class=\"data row16 col6\" >16402.394995</td>\n",
              "      <td id=\"T_26df5_row16_col7\" class=\"data row16 col7\" >58563.679930</td>\n",
              "    </tr>\n",
              "    <tr>\n",
              "      <th id=\"T_26df5_level0_row17\" class=\"row_heading level0 row17\" >total_pymnt_inv</th>\n",
              "      <td id=\"T_26df5_row17_col0\" class=\"data row17 col0\" >38479.000000</td>\n",
              "      <td id=\"T_26df5_row17_col1\" class=\"data row17 col1\" >11274.519569</td>\n",
              "      <td id=\"T_26df5_row17_col2\" class=\"data row17 col2\" >8946.229941</td>\n",
              "      <td id=\"T_26df5_row17_col3\" class=\"data row17 col3\" >0.000000</td>\n",
              "      <td id=\"T_26df5_row17_col4\" class=\"data row17 col4\" >4811.735000</td>\n",
              "      <td id=\"T_26df5_row17_col5\" class=\"data row17 col5\" >8953.240000</td>\n",
              "      <td id=\"T_26df5_row17_col6\" class=\"data row17 col6\" >15486.925000</td>\n",
              "      <td id=\"T_26df5_row17_col7\" class=\"data row17 col7\" >58563.680000</td>\n",
              "    </tr>\n",
              "    <tr>\n",
              "      <th id=\"T_26df5_level0_row18\" class=\"row_heading level0 row18\" >total_rec_prncp</th>\n",
              "      <td id=\"T_26df5_row18_col0\" class=\"data row18 col0\" >38479.000000</td>\n",
              "      <td id=\"T_26df5_row18_col1\" class=\"data row18 col1\" >9646.412705</td>\n",
              "      <td id=\"T_26df5_row18_col2\" class=\"data row18 col2\" >7051.828302</td>\n",
              "      <td id=\"T_26df5_row18_col3\" class=\"data row18 col3\" >0.000000</td>\n",
              "      <td id=\"T_26df5_row18_col4\" class=\"data row18 col4\" >4400.000000</td>\n",
              "      <td id=\"T_26df5_row18_col5\" class=\"data row18 col5\" >8000.000000</td>\n",
              "      <td id=\"T_26df5_row18_col6\" class=\"data row18 col6\" >13315.100000</td>\n",
              "      <td id=\"T_26df5_row18_col7\" class=\"data row18 col7\" >35000.020000</td>\n",
              "    </tr>\n",
              "    <tr>\n",
              "      <th id=\"T_26df5_level0_row19\" class=\"row_heading level0 row19\" >total_rec_int</th>\n",
              "      <td id=\"T_26df5_row19_col0\" class=\"data row19 col0\" >38479.000000</td>\n",
              "      <td id=\"T_26df5_row19_col1\" class=\"data row19 col1\" >2232.768235</td>\n",
              "      <td id=\"T_26df5_row19_col2\" class=\"data row19 col2\" >2570.177312</td>\n",
              "      <td id=\"T_26df5_row19_col3\" class=\"data row19 col3\" >0.000000</td>\n",
              "      <td id=\"T_26df5_row19_col4\" class=\"data row19 col4\" >657.700000</td>\n",
              "      <td id=\"T_26df5_row19_col5\" class=\"data row19 col5\" >1335.090000</td>\n",
              "      <td id=\"T_26df5_row19_col6\" class=\"data row19 col6\" >2795.020000</td>\n",
              "      <td id=\"T_26df5_row19_col7\" class=\"data row19 col7\" >23611.100000</td>\n",
              "    </tr>\n",
              "    <tr>\n",
              "      <th id=\"T_26df5_level0_row20\" class=\"row_heading level0 row20\" >last_pymnt_amnt</th>\n",
              "      <td id=\"T_26df5_row20_col0\" class=\"data row20 col0\" >38479.000000</td>\n",
              "      <td id=\"T_26df5_row20_col1\" class=\"data row20 col1\" >2614.441757</td>\n",
              "      <td id=\"T_26df5_row20_col2\" class=\"data row20 col2\" >4391.969583</td>\n",
              "      <td id=\"T_26df5_row20_col3\" class=\"data row20 col3\" >0.000000</td>\n",
              "      <td id=\"T_26df5_row20_col4\" class=\"data row20 col4\" >212.010000</td>\n",
              "      <td id=\"T_26df5_row20_col5\" class=\"data row20 col5\" >526.000000</td>\n",
              "      <td id=\"T_26df5_row20_col6\" class=\"data row20 col6\" >3169.815000</td>\n",
              "      <td id=\"T_26df5_row20_col7\" class=\"data row20 col7\" >36115.200000</td>\n",
              "    </tr>\n",
              "    <tr>\n",
              "      <th id=\"T_26df5_level0_row21\" class=\"row_heading level0 row21\" >repay_fail</th>\n",
              "      <td id=\"T_26df5_row21_col0\" class=\"data row21 col0\" >38480.000000</td>\n",
              "      <td id=\"T_26df5_row21_col1\" class=\"data row21 col1\" >0.151481</td>\n",
              "      <td id=\"T_26df5_row21_col2\" class=\"data row21 col2\" >0.358522</td>\n",
              "      <td id=\"T_26df5_row21_col3\" class=\"data row21 col3\" >0.000000</td>\n",
              "      <td id=\"T_26df5_row21_col4\" class=\"data row21 col4\" >0.000000</td>\n",
              "      <td id=\"T_26df5_row21_col5\" class=\"data row21 col5\" >0.000000</td>\n",
              "      <td id=\"T_26df5_row21_col6\" class=\"data row21 col6\" >0.000000</td>\n",
              "      <td id=\"T_26df5_row21_col7\" class=\"data row21 col7\" >1.000000</td>\n",
              "    </tr>\n",
              "  </tbody>\n",
              "</table>\n"
            ]
          },
          "metadata": {},
          "execution_count": 15
        }
      ]
    },
    {
      "cell_type": "code",
      "source": [
        "df.info()"
      ],
      "metadata": {
        "colab": {
          "base_uri": "https://localhost:8080/"
        },
        "id": "bJdeprzPEw0y",
        "outputId": "46a7115a-e21e-4ddc-a60a-03082a3bc018"
      },
      "execution_count": 16,
      "outputs": [
        {
          "output_type": "stream",
          "name": "stdout",
          "text": [
            "<class 'pandas.core.frame.DataFrame'>\n",
            "Int64Index: 38480 entries, 2 to 38480\n",
            "Data columns (total 36 columns):\n",
            " #   Column                  Non-Null Count  Dtype         \n",
            "---  ------                  --------------  -----         \n",
            " 0   id                      38480 non-null  int64         \n",
            " 1   member_id               38480 non-null  int64         \n",
            " 2   loan_amnt               38479 non-null  float64       \n",
            " 3   funded_amnt             38479 non-null  float64       \n",
            " 4   funded_amnt_inv         38479 non-null  float64       \n",
            " 5   term                    38480 non-null  object        \n",
            " 6   int_rate                38480 non-null  float64       \n",
            " 7   installment             38479 non-null  float64       \n",
            " 8   emp_length              37487 non-null  object        \n",
            " 9   home_ownership          38480 non-null  object        \n",
            " 10  annual_inc              38478 non-null  float64       \n",
            " 11  verification_status     38480 non-null  object        \n",
            " 12  issue_d                 38480 non-null  datetime64[ns]\n",
            " 13  loan_status             38480 non-null  object        \n",
            " 14  purpose                 38480 non-null  object        \n",
            " 15  zip_code                38480 non-null  object        \n",
            " 16  addr_state              38480 non-null  object        \n",
            " 17  dti                     38480 non-null  float64       \n",
            " 18  delinq_2yrs             38479 non-null  float64       \n",
            " 19  earliest_cr_line        38480 non-null  datetime64[ns]\n",
            " 20  inq_last_6mths          38479 non-null  float64       \n",
            " 21  mths_since_last_delinq  14117 non-null  float64       \n",
            " 22  open_acc                38479 non-null  float64       \n",
            " 23  pub_rec                 38479 non-null  float64       \n",
            " 24  revol_bal               38476 non-null  float64       \n",
            " 25  revol_util              38421 non-null  object        \n",
            " 26  total_acc               38479 non-null  float64       \n",
            " 27  total_pymnt             38479 non-null  float64       \n",
            " 28  total_pymnt_inv         38479 non-null  float64       \n",
            " 29  total_rec_prncp         38479 non-null  float64       \n",
            " 30  total_rec_int           38479 non-null  float64       \n",
            " 31  last_pymnt_d            38409 non-null  datetime64[ns]\n",
            " 32  last_pymnt_amnt         38479 non-null  float64       \n",
            " 33  next_pymnt_d            3383 non-null   datetime64[ns]\n",
            " 34  last_credit_pull_d      38477 non-null  datetime64[ns]\n",
            " 35  repay_fail              38480 non-null  int64         \n",
            "dtypes: datetime64[ns](5), float64(19), int64(3), object(9)\n",
            "memory usage: 10.9+ MB\n"
          ]
        }
      ]
    },
    {
      "cell_type": "code",
      "source": [
        "x = df.drop(columns=['id','member_id','loan_amnt', 'funded_amnt_inv','issue_d',\n",
        "       'zip_code', 'addr_state', 'dti', 'delinq_2yrs','earliest_cr_line', 'inq_last_6mths', 'mths_since_last_delinq','open_acc', 'pub_rec', 'revol_bal', 'revol_util', 'total_acc',\n",
        "       'total_pymnt_inv', 'last_pymnt_d', 'next_pymnt_d', 'last_credit_pull_d'\n",
        "       ])"
      ],
      "metadata": {
        "id": "1Y5bBAoJEy3z"
      },
      "execution_count": 17,
      "outputs": []
    },
    {
      "cell_type": "code",
      "source": [
        "x.shape"
      ],
      "metadata": {
        "colab": {
          "base_uri": "https://localhost:8080/"
        },
        "id": "IMXe5-QXE0wT",
        "outputId": "9cf0ce5a-d84c-4f2e-934b-ffe957ffedf8"
      },
      "execution_count": 18,
      "outputs": [
        {
          "output_type": "execute_result",
          "data": {
            "text/plain": [
              "(38480, 15)"
            ]
          },
          "metadata": {},
          "execution_count": 18
        }
      ]
    },
    {
      "cell_type": "code",
      "source": [
        "X= x"
      ],
      "metadata": {
        "id": "CFUkcbRjE2AS"
      },
      "execution_count": 19,
      "outputs": []
    },
    {
      "cell_type": "code",
      "source": [
        "X.head()"
      ],
      "metadata": {
        "colab": {
          "base_uri": "https://localhost:8080/",
          "height": 365
        },
        "id": "XmO_jbe2E5rT",
        "outputId": "3695dcc0-f361-4e0a-8f1d-bd07b034ea1b"
      },
      "execution_count": 20,
      "outputs": [
        {
          "output_type": "execute_result",
          "data": {
            "text/plain": [
              "   funded_amnt       term  int_rate  installment emp_length home_ownership  \\\n",
              "2          0.0  36 months      0.00         0.00   < 1 year           RENT   \n",
              "3       2500.0  36 months     13.98        85.42    4 years           RENT   \n",
              "4       5000.0  36 months     15.95       175.67    4 years           RENT   \n",
              "5       7000.0  36 months      9.91       225.58  10+ years       MORTGAGE   \n",
              "6       2000.0  36 months      5.42        60.32  10+ years           RENT   \n",
              "\n",
              "   annual_inc verification_status  \\\n",
              "2         0.0        Not Verified   \n",
              "3     20004.0        Not Verified   \n",
              "4     59000.0        Not Verified   \n",
              "5     53796.0        Not Verified   \n",
              "6     30000.0        Not Verified   \n",
              "\n",
              "                                         loan_status             purpose  \\\n",
              "2                                        Charged Off      major_purchase   \n",
              "3  Does not meet the credit policy. Status:Fully ...               other   \n",
              "4                                        Charged Off  debt_consolidation   \n",
              "5                                         Fully Paid               other   \n",
              "6                                         Fully Paid  debt_consolidation   \n",
              "\n",
              "   total_pymnt  total_rec_prncp  total_rec_int  last_pymnt_amnt  repay_fail  \n",
              "2     0.000000             0.00           0.00             0.00           1  \n",
              "3  3075.291779          2500.00         575.29            90.85           0  \n",
              "4  2948.760000          1909.02         873.81           175.67           1  \n",
              "5  8082.391880          7000.00        1082.39          1550.27           0  \n",
              "6  2161.663244          2000.00         161.66            53.12           0  "
            ],
            "text/html": [
              "\n",
              "  <div id=\"df-742c4c8c-8516-4942-ab29-f97e62624c42\" class=\"colab-df-container\">\n",
              "    <div>\n",
              "<style scoped>\n",
              "    .dataframe tbody tr th:only-of-type {\n",
              "        vertical-align: middle;\n",
              "    }\n",
              "\n",
              "    .dataframe tbody tr th {\n",
              "        vertical-align: top;\n",
              "    }\n",
              "\n",
              "    .dataframe thead th {\n",
              "        text-align: right;\n",
              "    }\n",
              "</style>\n",
              "<table border=\"1\" class=\"dataframe\">\n",
              "  <thead>\n",
              "    <tr style=\"text-align: right;\">\n",
              "      <th></th>\n",
              "      <th>funded_amnt</th>\n",
              "      <th>term</th>\n",
              "      <th>int_rate</th>\n",
              "      <th>installment</th>\n",
              "      <th>emp_length</th>\n",
              "      <th>home_ownership</th>\n",
              "      <th>annual_inc</th>\n",
              "      <th>verification_status</th>\n",
              "      <th>loan_status</th>\n",
              "      <th>purpose</th>\n",
              "      <th>total_pymnt</th>\n",
              "      <th>total_rec_prncp</th>\n",
              "      <th>total_rec_int</th>\n",
              "      <th>last_pymnt_amnt</th>\n",
              "      <th>repay_fail</th>\n",
              "    </tr>\n",
              "  </thead>\n",
              "  <tbody>\n",
              "    <tr>\n",
              "      <th>2</th>\n",
              "      <td>0.0</td>\n",
              "      <td>36 months</td>\n",
              "      <td>0.00</td>\n",
              "      <td>0.00</td>\n",
              "      <td>&lt; 1 year</td>\n",
              "      <td>RENT</td>\n",
              "      <td>0.0</td>\n",
              "      <td>Not Verified</td>\n",
              "      <td>Charged Off</td>\n",
              "      <td>major_purchase</td>\n",
              "      <td>0.000000</td>\n",
              "      <td>0.00</td>\n",
              "      <td>0.00</td>\n",
              "      <td>0.00</td>\n",
              "      <td>1</td>\n",
              "    </tr>\n",
              "    <tr>\n",
              "      <th>3</th>\n",
              "      <td>2500.0</td>\n",
              "      <td>36 months</td>\n",
              "      <td>13.98</td>\n",
              "      <td>85.42</td>\n",
              "      <td>4 years</td>\n",
              "      <td>RENT</td>\n",
              "      <td>20004.0</td>\n",
              "      <td>Not Verified</td>\n",
              "      <td>Does not meet the credit policy. Status:Fully ...</td>\n",
              "      <td>other</td>\n",
              "      <td>3075.291779</td>\n",
              "      <td>2500.00</td>\n",
              "      <td>575.29</td>\n",
              "      <td>90.85</td>\n",
              "      <td>0</td>\n",
              "    </tr>\n",
              "    <tr>\n",
              "      <th>4</th>\n",
              "      <td>5000.0</td>\n",
              "      <td>36 months</td>\n",
              "      <td>15.95</td>\n",
              "      <td>175.67</td>\n",
              "      <td>4 years</td>\n",
              "      <td>RENT</td>\n",
              "      <td>59000.0</td>\n",
              "      <td>Not Verified</td>\n",
              "      <td>Charged Off</td>\n",
              "      <td>debt_consolidation</td>\n",
              "      <td>2948.760000</td>\n",
              "      <td>1909.02</td>\n",
              "      <td>873.81</td>\n",
              "      <td>175.67</td>\n",
              "      <td>1</td>\n",
              "    </tr>\n",
              "    <tr>\n",
              "      <th>5</th>\n",
              "      <td>7000.0</td>\n",
              "      <td>36 months</td>\n",
              "      <td>9.91</td>\n",
              "      <td>225.58</td>\n",
              "      <td>10+ years</td>\n",
              "      <td>MORTGAGE</td>\n",
              "      <td>53796.0</td>\n",
              "      <td>Not Verified</td>\n",
              "      <td>Fully Paid</td>\n",
              "      <td>other</td>\n",
              "      <td>8082.391880</td>\n",
              "      <td>7000.00</td>\n",
              "      <td>1082.39</td>\n",
              "      <td>1550.27</td>\n",
              "      <td>0</td>\n",
              "    </tr>\n",
              "    <tr>\n",
              "      <th>6</th>\n",
              "      <td>2000.0</td>\n",
              "      <td>36 months</td>\n",
              "      <td>5.42</td>\n",
              "      <td>60.32</td>\n",
              "      <td>10+ years</td>\n",
              "      <td>RENT</td>\n",
              "      <td>30000.0</td>\n",
              "      <td>Not Verified</td>\n",
              "      <td>Fully Paid</td>\n",
              "      <td>debt_consolidation</td>\n",
              "      <td>2161.663244</td>\n",
              "      <td>2000.00</td>\n",
              "      <td>161.66</td>\n",
              "      <td>53.12</td>\n",
              "      <td>0</td>\n",
              "    </tr>\n",
              "  </tbody>\n",
              "</table>\n",
              "</div>\n",
              "    <div class=\"colab-df-buttons\">\n",
              "\n",
              "  <div class=\"colab-df-container\">\n",
              "    <button class=\"colab-df-convert\" onclick=\"convertToInteractive('df-742c4c8c-8516-4942-ab29-f97e62624c42')\"\n",
              "            title=\"Convert this dataframe to an interactive table.\"\n",
              "            style=\"display:none;\">\n",
              "\n",
              "  <svg xmlns=\"http://www.w3.org/2000/svg\" height=\"24px\" viewBox=\"0 -960 960 960\">\n",
              "    <path d=\"M120-120v-720h720v720H120Zm60-500h600v-160H180v160Zm220 220h160v-160H400v160Zm0 220h160v-160H400v160ZM180-400h160v-160H180v160Zm440 0h160v-160H620v160ZM180-180h160v-160H180v160Zm440 0h160v-160H620v160Z\"/>\n",
              "  </svg>\n",
              "    </button>\n",
              "\n",
              "  <style>\n",
              "    .colab-df-container {\n",
              "      display:flex;\n",
              "      gap: 12px;\n",
              "    }\n",
              "\n",
              "    .colab-df-convert {\n",
              "      background-color: #E8F0FE;\n",
              "      border: none;\n",
              "      border-radius: 50%;\n",
              "      cursor: pointer;\n",
              "      display: none;\n",
              "      fill: #1967D2;\n",
              "      height: 32px;\n",
              "      padding: 0 0 0 0;\n",
              "      width: 32px;\n",
              "    }\n",
              "\n",
              "    .colab-df-convert:hover {\n",
              "      background-color: #E2EBFA;\n",
              "      box-shadow: 0px 1px 2px rgba(60, 64, 67, 0.3), 0px 1px 3px 1px rgba(60, 64, 67, 0.15);\n",
              "      fill: #174EA6;\n",
              "    }\n",
              "\n",
              "    .colab-df-buttons div {\n",
              "      margin-bottom: 4px;\n",
              "    }\n",
              "\n",
              "    [theme=dark] .colab-df-convert {\n",
              "      background-color: #3B4455;\n",
              "      fill: #D2E3FC;\n",
              "    }\n",
              "\n",
              "    [theme=dark] .colab-df-convert:hover {\n",
              "      background-color: #434B5C;\n",
              "      box-shadow: 0px 1px 3px 1px rgba(0, 0, 0, 0.15);\n",
              "      filter: drop-shadow(0px 1px 2px rgba(0, 0, 0, 0.3));\n",
              "      fill: #FFFFFF;\n",
              "    }\n",
              "  </style>\n",
              "\n",
              "    <script>\n",
              "      const buttonEl =\n",
              "        document.querySelector('#df-742c4c8c-8516-4942-ab29-f97e62624c42 button.colab-df-convert');\n",
              "      buttonEl.style.display =\n",
              "        google.colab.kernel.accessAllowed ? 'block' : 'none';\n",
              "\n",
              "      async function convertToInteractive(key) {\n",
              "        const element = document.querySelector('#df-742c4c8c-8516-4942-ab29-f97e62624c42');\n",
              "        const dataTable =\n",
              "          await google.colab.kernel.invokeFunction('convertToInteractive',\n",
              "                                                    [key], {});\n",
              "        if (!dataTable) return;\n",
              "\n",
              "        const docLinkHtml = 'Like what you see? Visit the ' +\n",
              "          '<a target=\"_blank\" href=https://colab.research.google.com/notebooks/data_table.ipynb>data table notebook</a>'\n",
              "          + ' to learn more about interactive tables.';\n",
              "        element.innerHTML = '';\n",
              "        dataTable['output_type'] = 'display_data';\n",
              "        await google.colab.output.renderOutput(dataTable, element);\n",
              "        const docLink = document.createElement('div');\n",
              "        docLink.innerHTML = docLinkHtml;\n",
              "        element.appendChild(docLink);\n",
              "      }\n",
              "    </script>\n",
              "  </div>\n",
              "\n",
              "\n",
              "<div id=\"df-4a71e2b0-6dd9-4ee9-a8fe-9794e14354cf\">\n",
              "  <button class=\"colab-df-quickchart\" onclick=\"quickchart('df-4a71e2b0-6dd9-4ee9-a8fe-9794e14354cf')\"\n",
              "            title=\"Suggest charts.\"\n",
              "            style=\"display:none;\">\n",
              "\n",
              "<svg xmlns=\"http://www.w3.org/2000/svg\" height=\"24px\"viewBox=\"0 0 24 24\"\n",
              "     width=\"24px\">\n",
              "    <g>\n",
              "        <path d=\"M19 3H5c-1.1 0-2 .9-2 2v14c0 1.1.9 2 2 2h14c1.1 0 2-.9 2-2V5c0-1.1-.9-2-2-2zM9 17H7v-7h2v7zm4 0h-2V7h2v10zm4 0h-2v-4h2v4z\"/>\n",
              "    </g>\n",
              "</svg>\n",
              "  </button>\n",
              "\n",
              "<style>\n",
              "  .colab-df-quickchart {\n",
              "    background-color: #E8F0FE;\n",
              "    border: none;\n",
              "    border-radius: 50%;\n",
              "    cursor: pointer;\n",
              "    display: none;\n",
              "    fill: #1967D2;\n",
              "    height: 32px;\n",
              "    padding: 0 0 0 0;\n",
              "    width: 32px;\n",
              "  }\n",
              "\n",
              "  .colab-df-quickchart:hover {\n",
              "    background-color: #E2EBFA;\n",
              "    box-shadow: 0px 1px 2px rgba(60, 64, 67, 0.3), 0px 1px 3px 1px rgba(60, 64, 67, 0.15);\n",
              "    fill: #174EA6;\n",
              "  }\n",
              "\n",
              "  [theme=dark] .colab-df-quickchart {\n",
              "    background-color: #3B4455;\n",
              "    fill: #D2E3FC;\n",
              "  }\n",
              "\n",
              "  [theme=dark] .colab-df-quickchart:hover {\n",
              "    background-color: #434B5C;\n",
              "    box-shadow: 0px 1px 3px 1px rgba(0, 0, 0, 0.15);\n",
              "    filter: drop-shadow(0px 1px 2px rgba(0, 0, 0, 0.3));\n",
              "    fill: #FFFFFF;\n",
              "  }\n",
              "</style>\n",
              "\n",
              "  <script>\n",
              "    async function quickchart(key) {\n",
              "      const charts = await google.colab.kernel.invokeFunction(\n",
              "          'suggestCharts', [key], {});\n",
              "    }\n",
              "    (() => {\n",
              "      let quickchartButtonEl =\n",
              "        document.querySelector('#df-4a71e2b0-6dd9-4ee9-a8fe-9794e14354cf button');\n",
              "      quickchartButtonEl.style.display =\n",
              "        google.colab.kernel.accessAllowed ? 'block' : 'none';\n",
              "    })();\n",
              "  </script>\n",
              "</div>\n",
              "    </div>\n",
              "  </div>\n"
            ]
          },
          "metadata": {},
          "execution_count": 20
        }
      ]
    },
    {
      "cell_type": "code",
      "source": [
        "y = df.repay_fail\n",
        "y"
      ],
      "metadata": {
        "colab": {
          "base_uri": "https://localhost:8080/"
        },
        "id": "HSrNYH72E6zT",
        "outputId": "8d568e4a-24f6-4632-8046-095522a98adb"
      },
      "execution_count": 21,
      "outputs": [
        {
          "output_type": "execute_result",
          "data": {
            "text/plain": [
              "2        1\n",
              "3        0\n",
              "4        1\n",
              "5        0\n",
              "6        0\n",
              "        ..\n",
              "38476    0\n",
              "38477    0\n",
              "38478    0\n",
              "38479    0\n",
              "38480    0\n",
              "Name: repay_fail, Length: 38480, dtype: int64"
            ]
          },
          "metadata": {},
          "execution_count": 21
        }
      ]
    },
    {
      "cell_type": "code",
      "source": [
        "X.isna().sum()"
      ],
      "metadata": {
        "colab": {
          "base_uri": "https://localhost:8080/"
        },
        "id": "PsJYM7qtE8zb",
        "outputId": "2d86cc79-3e4b-4eb3-f626-88c365993a49"
      },
      "execution_count": 22,
      "outputs": [
        {
          "output_type": "execute_result",
          "data": {
            "text/plain": [
              "funded_amnt              1\n",
              "term                     0\n",
              "int_rate                 0\n",
              "installment              1\n",
              "emp_length             993\n",
              "home_ownership           0\n",
              "annual_inc               2\n",
              "verification_status      0\n",
              "loan_status              0\n",
              "purpose                  0\n",
              "total_pymnt              1\n",
              "total_rec_prncp          1\n",
              "total_rec_int            1\n",
              "last_pymnt_amnt          1\n",
              "repay_fail               0\n",
              "dtype: int64"
            ]
          },
          "metadata": {},
          "execution_count": 22
        }
      ]
    },
    {
      "cell_type": "code",
      "source": [
        "X.verification_status.unique()"
      ],
      "metadata": {
        "colab": {
          "base_uri": "https://localhost:8080/"
        },
        "id": "FXYf-iTZE_Kz",
        "outputId": "bea785e9-37fe-4c8e-da0c-f73871cd3bc8"
      },
      "execution_count": 23,
      "outputs": [
        {
          "output_type": "execute_result",
          "data": {
            "text/plain": [
              "array(['Not Verified', 'Verified', 'Source Verified'], dtype=object)"
            ]
          },
          "metadata": {},
          "execution_count": 23
        }
      ]
    },
    {
      "cell_type": "code",
      "source": [
        "X['verification_status'] = X['verification_status'].replace(['Source Verified'], 'Verified')"
      ],
      "metadata": {
        "id": "q79x_y6SFC7Q"
      },
      "execution_count": 24,
      "outputs": []
    },
    {
      "cell_type": "code",
      "source": [
        "X.verification_status.unique()"
      ],
      "metadata": {
        "colab": {
          "base_uri": "https://localhost:8080/"
        },
        "id": "7wPn85tcFEDw",
        "outputId": "a186e9c4-5775-4030-d64b-6a5671842a58"
      },
      "execution_count": 25,
      "outputs": [
        {
          "output_type": "execute_result",
          "data": {
            "text/plain": [
              "array(['Not Verified', 'Verified'], dtype=object)"
            ]
          },
          "metadata": {},
          "execution_count": 25
        }
      ]
    },
    {
      "cell_type": "code",
      "source": [
        "X.loan_status.unique()"
      ],
      "metadata": {
        "colab": {
          "base_uri": "https://localhost:8080/"
        },
        "id": "IGIs97JCFFX4",
        "outputId": "d5f6f95a-3fec-42f6-a772-5ed957c27aa5"
      },
      "execution_count": 26,
      "outputs": [
        {
          "output_type": "execute_result",
          "data": {
            "text/plain": [
              "array(['Charged Off',\n",
              "       'Does not meet the credit policy. Status:Fully Paid', 'Fully Paid',\n",
              "       'Current', 'Does not meet the credit policy. Status:Charged Off',\n",
              "       'Late (31-120 days)', 'In Grace Period', 'Late (16-30 days)',\n",
              "       'Default'], dtype=object)"
            ]
          },
          "metadata": {},
          "execution_count": 26
        }
      ]
    },
    {
      "cell_type": "code",
      "source": [
        "X['loan_status'] = X['loan_status'].replace(['Does not meet the credit policy. Status:Fully Paid'], 'Fully Paid')"
      ],
      "metadata": {
        "id": "OTzSoxvEFGaB"
      },
      "execution_count": 27,
      "outputs": []
    },
    {
      "cell_type": "code",
      "source": [
        "X.loan_status.unique()"
      ],
      "metadata": {
        "colab": {
          "base_uri": "https://localhost:8080/"
        },
        "id": "zx8b2cJPFJlA",
        "outputId": "903a9648-893a-4551-ca02-023118bca7dc"
      },
      "execution_count": 28,
      "outputs": [
        {
          "output_type": "execute_result",
          "data": {
            "text/plain": [
              "array(['Charged Off', 'Fully Paid', 'Current',\n",
              "       'Does not meet the credit policy. Status:Charged Off',\n",
              "       'Late (31-120 days)', 'In Grace Period', 'Late (16-30 days)',\n",
              "       'Default'], dtype=object)"
            ]
          },
          "metadata": {},
          "execution_count": 28
        }
      ]
    },
    {
      "cell_type": "code",
      "source": [
        "X['loan_status'] = X['loan_status'].replace(['Does not meet the credit policy. Status:Charged Off'], 'Charged Off')"
      ],
      "metadata": {
        "id": "h37folS8FN-o"
      },
      "execution_count": 29,
      "outputs": []
    },
    {
      "cell_type": "code",
      "source": [
        "X.loan_status.unique()"
      ],
      "metadata": {
        "colab": {
          "base_uri": "https://localhost:8080/"
        },
        "id": "B1s7Qt1zFPdH",
        "outputId": "8ffcaeab-1922-43ce-93f7-405f69db223e"
      },
      "execution_count": 30,
      "outputs": [
        {
          "output_type": "execute_result",
          "data": {
            "text/plain": [
              "array(['Charged Off', 'Fully Paid', 'Current', 'Late (31-120 days)',\n",
              "       'In Grace Period', 'Late (16-30 days)', 'Default'], dtype=object)"
            ]
          },
          "metadata": {},
          "execution_count": 30
        }
      ]
    },
    {
      "cell_type": "code",
      "source": [
        "X['loan_status'] = X['loan_status'].replace(['Late (31-120 days)','Late (16-30 days)'], 'Late ')"
      ],
      "metadata": {
        "id": "gwxat0SeFQhn"
      },
      "execution_count": 31,
      "outputs": []
    },
    {
      "cell_type": "code",
      "source": [
        "X.loan_status.unique()"
      ],
      "metadata": {
        "colab": {
          "base_uri": "https://localhost:8080/"
        },
        "id": "YtaFt83uFRmP",
        "outputId": "9bf5b031-3968-4f00-930f-57b9db0184a7"
      },
      "execution_count": 32,
      "outputs": [
        {
          "output_type": "execute_result",
          "data": {
            "text/plain": [
              "array(['Charged Off', 'Fully Paid', 'Current', 'Late ', 'In Grace Period',\n",
              "       'Default'], dtype=object)"
            ]
          },
          "metadata": {},
          "execution_count": 32
        }
      ]
    },
    {
      "cell_type": "code",
      "source": [
        "emp_length_mapping = {\n",
        "    '< 1 year': 0,\n",
        "    '1 year': 1,\n",
        "    '2 years': 2,\n",
        "    '3 years': 3,\n",
        "    '4 years': 4,\n",
        "    '5 years': 5,\n",
        "    '6 years': 6,\n",
        "    '7 years': 7,\n",
        "    '8 years': 8,\n",
        "    '9 years': 9,\n",
        "    '10+ years': 10\n",
        "}\n",
        "\n"
      ],
      "metadata": {
        "id": "7DL5KhJXFStP"
      },
      "execution_count": 33,
      "outputs": []
    },
    {
      "cell_type": "code",
      "source": [
        "# Use the mapping to replace the strings with integers\n",
        "X['emp_length'] = X['emp_length'].replace(emp_length_mapping)"
      ],
      "metadata": {
        "id": "hAPh50u1Fcwg"
      },
      "execution_count": 34,
      "outputs": []
    },
    {
      "cell_type": "code",
      "source": [
        "X.head()"
      ],
      "metadata": {
        "colab": {
          "base_uri": "https://localhost:8080/",
          "height": 313
        },
        "id": "qjHXnUxKFojA",
        "outputId": "48e70ce1-1556-4b5e-91ce-7de36dad809a"
      },
      "execution_count": 35,
      "outputs": [
        {
          "output_type": "execute_result",
          "data": {
            "text/plain": [
              "   funded_amnt       term  int_rate  installment  emp_length home_ownership  \\\n",
              "2          0.0  36 months      0.00         0.00         0.0           RENT   \n",
              "3       2500.0  36 months     13.98        85.42         4.0           RENT   \n",
              "4       5000.0  36 months     15.95       175.67         4.0           RENT   \n",
              "5       7000.0  36 months      9.91       225.58        10.0       MORTGAGE   \n",
              "6       2000.0  36 months      5.42        60.32        10.0           RENT   \n",
              "\n",
              "   annual_inc verification_status  loan_status             purpose  \\\n",
              "2         0.0        Not Verified  Charged Off      major_purchase   \n",
              "3     20004.0        Not Verified   Fully Paid               other   \n",
              "4     59000.0        Not Verified  Charged Off  debt_consolidation   \n",
              "5     53796.0        Not Verified   Fully Paid               other   \n",
              "6     30000.0        Not Verified   Fully Paid  debt_consolidation   \n",
              "\n",
              "   total_pymnt  total_rec_prncp  total_rec_int  last_pymnt_amnt  repay_fail  \n",
              "2     0.000000             0.00           0.00             0.00           1  \n",
              "3  3075.291779          2500.00         575.29            90.85           0  \n",
              "4  2948.760000          1909.02         873.81           175.67           1  \n",
              "5  8082.391880          7000.00        1082.39          1550.27           0  \n",
              "6  2161.663244          2000.00         161.66            53.12           0  "
            ],
            "text/html": [
              "\n",
              "  <div id=\"df-02aecf5c-ac50-431c-831d-dfd0673e2c9b\" class=\"colab-df-container\">\n",
              "    <div>\n",
              "<style scoped>\n",
              "    .dataframe tbody tr th:only-of-type {\n",
              "        vertical-align: middle;\n",
              "    }\n",
              "\n",
              "    .dataframe tbody tr th {\n",
              "        vertical-align: top;\n",
              "    }\n",
              "\n",
              "    .dataframe thead th {\n",
              "        text-align: right;\n",
              "    }\n",
              "</style>\n",
              "<table border=\"1\" class=\"dataframe\">\n",
              "  <thead>\n",
              "    <tr style=\"text-align: right;\">\n",
              "      <th></th>\n",
              "      <th>funded_amnt</th>\n",
              "      <th>term</th>\n",
              "      <th>int_rate</th>\n",
              "      <th>installment</th>\n",
              "      <th>emp_length</th>\n",
              "      <th>home_ownership</th>\n",
              "      <th>annual_inc</th>\n",
              "      <th>verification_status</th>\n",
              "      <th>loan_status</th>\n",
              "      <th>purpose</th>\n",
              "      <th>total_pymnt</th>\n",
              "      <th>total_rec_prncp</th>\n",
              "      <th>total_rec_int</th>\n",
              "      <th>last_pymnt_amnt</th>\n",
              "      <th>repay_fail</th>\n",
              "    </tr>\n",
              "  </thead>\n",
              "  <tbody>\n",
              "    <tr>\n",
              "      <th>2</th>\n",
              "      <td>0.0</td>\n",
              "      <td>36 months</td>\n",
              "      <td>0.00</td>\n",
              "      <td>0.00</td>\n",
              "      <td>0.0</td>\n",
              "      <td>RENT</td>\n",
              "      <td>0.0</td>\n",
              "      <td>Not Verified</td>\n",
              "      <td>Charged Off</td>\n",
              "      <td>major_purchase</td>\n",
              "      <td>0.000000</td>\n",
              "      <td>0.00</td>\n",
              "      <td>0.00</td>\n",
              "      <td>0.00</td>\n",
              "      <td>1</td>\n",
              "    </tr>\n",
              "    <tr>\n",
              "      <th>3</th>\n",
              "      <td>2500.0</td>\n",
              "      <td>36 months</td>\n",
              "      <td>13.98</td>\n",
              "      <td>85.42</td>\n",
              "      <td>4.0</td>\n",
              "      <td>RENT</td>\n",
              "      <td>20004.0</td>\n",
              "      <td>Not Verified</td>\n",
              "      <td>Fully Paid</td>\n",
              "      <td>other</td>\n",
              "      <td>3075.291779</td>\n",
              "      <td>2500.00</td>\n",
              "      <td>575.29</td>\n",
              "      <td>90.85</td>\n",
              "      <td>0</td>\n",
              "    </tr>\n",
              "    <tr>\n",
              "      <th>4</th>\n",
              "      <td>5000.0</td>\n",
              "      <td>36 months</td>\n",
              "      <td>15.95</td>\n",
              "      <td>175.67</td>\n",
              "      <td>4.0</td>\n",
              "      <td>RENT</td>\n",
              "      <td>59000.0</td>\n",
              "      <td>Not Verified</td>\n",
              "      <td>Charged Off</td>\n",
              "      <td>debt_consolidation</td>\n",
              "      <td>2948.760000</td>\n",
              "      <td>1909.02</td>\n",
              "      <td>873.81</td>\n",
              "      <td>175.67</td>\n",
              "      <td>1</td>\n",
              "    </tr>\n",
              "    <tr>\n",
              "      <th>5</th>\n",
              "      <td>7000.0</td>\n",
              "      <td>36 months</td>\n",
              "      <td>9.91</td>\n",
              "      <td>225.58</td>\n",
              "      <td>10.0</td>\n",
              "      <td>MORTGAGE</td>\n",
              "      <td>53796.0</td>\n",
              "      <td>Not Verified</td>\n",
              "      <td>Fully Paid</td>\n",
              "      <td>other</td>\n",
              "      <td>8082.391880</td>\n",
              "      <td>7000.00</td>\n",
              "      <td>1082.39</td>\n",
              "      <td>1550.27</td>\n",
              "      <td>0</td>\n",
              "    </tr>\n",
              "    <tr>\n",
              "      <th>6</th>\n",
              "      <td>2000.0</td>\n",
              "      <td>36 months</td>\n",
              "      <td>5.42</td>\n",
              "      <td>60.32</td>\n",
              "      <td>10.0</td>\n",
              "      <td>RENT</td>\n",
              "      <td>30000.0</td>\n",
              "      <td>Not Verified</td>\n",
              "      <td>Fully Paid</td>\n",
              "      <td>debt_consolidation</td>\n",
              "      <td>2161.663244</td>\n",
              "      <td>2000.00</td>\n",
              "      <td>161.66</td>\n",
              "      <td>53.12</td>\n",
              "      <td>0</td>\n",
              "    </tr>\n",
              "  </tbody>\n",
              "</table>\n",
              "</div>\n",
              "    <div class=\"colab-df-buttons\">\n",
              "\n",
              "  <div class=\"colab-df-container\">\n",
              "    <button class=\"colab-df-convert\" onclick=\"convertToInteractive('df-02aecf5c-ac50-431c-831d-dfd0673e2c9b')\"\n",
              "            title=\"Convert this dataframe to an interactive table.\"\n",
              "            style=\"display:none;\">\n",
              "\n",
              "  <svg xmlns=\"http://www.w3.org/2000/svg\" height=\"24px\" viewBox=\"0 -960 960 960\">\n",
              "    <path d=\"M120-120v-720h720v720H120Zm60-500h600v-160H180v160Zm220 220h160v-160H400v160Zm0 220h160v-160H400v160ZM180-400h160v-160H180v160Zm440 0h160v-160H620v160ZM180-180h160v-160H180v160Zm440 0h160v-160H620v160Z\"/>\n",
              "  </svg>\n",
              "    </button>\n",
              "\n",
              "  <style>\n",
              "    .colab-df-container {\n",
              "      display:flex;\n",
              "      gap: 12px;\n",
              "    }\n",
              "\n",
              "    .colab-df-convert {\n",
              "      background-color: #E8F0FE;\n",
              "      border: none;\n",
              "      border-radius: 50%;\n",
              "      cursor: pointer;\n",
              "      display: none;\n",
              "      fill: #1967D2;\n",
              "      height: 32px;\n",
              "      padding: 0 0 0 0;\n",
              "      width: 32px;\n",
              "    }\n",
              "\n",
              "    .colab-df-convert:hover {\n",
              "      background-color: #E2EBFA;\n",
              "      box-shadow: 0px 1px 2px rgba(60, 64, 67, 0.3), 0px 1px 3px 1px rgba(60, 64, 67, 0.15);\n",
              "      fill: #174EA6;\n",
              "    }\n",
              "\n",
              "    .colab-df-buttons div {\n",
              "      margin-bottom: 4px;\n",
              "    }\n",
              "\n",
              "    [theme=dark] .colab-df-convert {\n",
              "      background-color: #3B4455;\n",
              "      fill: #D2E3FC;\n",
              "    }\n",
              "\n",
              "    [theme=dark] .colab-df-convert:hover {\n",
              "      background-color: #434B5C;\n",
              "      box-shadow: 0px 1px 3px 1px rgba(0, 0, 0, 0.15);\n",
              "      filter: drop-shadow(0px 1px 2px rgba(0, 0, 0, 0.3));\n",
              "      fill: #FFFFFF;\n",
              "    }\n",
              "  </style>\n",
              "\n",
              "    <script>\n",
              "      const buttonEl =\n",
              "        document.querySelector('#df-02aecf5c-ac50-431c-831d-dfd0673e2c9b button.colab-df-convert');\n",
              "      buttonEl.style.display =\n",
              "        google.colab.kernel.accessAllowed ? 'block' : 'none';\n",
              "\n",
              "      async function convertToInteractive(key) {\n",
              "        const element = document.querySelector('#df-02aecf5c-ac50-431c-831d-dfd0673e2c9b');\n",
              "        const dataTable =\n",
              "          await google.colab.kernel.invokeFunction('convertToInteractive',\n",
              "                                                    [key], {});\n",
              "        if (!dataTable) return;\n",
              "\n",
              "        const docLinkHtml = 'Like what you see? Visit the ' +\n",
              "          '<a target=\"_blank\" href=https://colab.research.google.com/notebooks/data_table.ipynb>data table notebook</a>'\n",
              "          + ' to learn more about interactive tables.';\n",
              "        element.innerHTML = '';\n",
              "        dataTable['output_type'] = 'display_data';\n",
              "        await google.colab.output.renderOutput(dataTable, element);\n",
              "        const docLink = document.createElement('div');\n",
              "        docLink.innerHTML = docLinkHtml;\n",
              "        element.appendChild(docLink);\n",
              "      }\n",
              "    </script>\n",
              "  </div>\n",
              "\n",
              "\n",
              "<div id=\"df-50a1725b-e250-47c5-b0da-0054870b93e0\">\n",
              "  <button class=\"colab-df-quickchart\" onclick=\"quickchart('df-50a1725b-e250-47c5-b0da-0054870b93e0')\"\n",
              "            title=\"Suggest charts.\"\n",
              "            style=\"display:none;\">\n",
              "\n",
              "<svg xmlns=\"http://www.w3.org/2000/svg\" height=\"24px\"viewBox=\"0 0 24 24\"\n",
              "     width=\"24px\">\n",
              "    <g>\n",
              "        <path d=\"M19 3H5c-1.1 0-2 .9-2 2v14c0 1.1.9 2 2 2h14c1.1 0 2-.9 2-2V5c0-1.1-.9-2-2-2zM9 17H7v-7h2v7zm4 0h-2V7h2v10zm4 0h-2v-4h2v4z\"/>\n",
              "    </g>\n",
              "</svg>\n",
              "  </button>\n",
              "\n",
              "<style>\n",
              "  .colab-df-quickchart {\n",
              "    background-color: #E8F0FE;\n",
              "    border: none;\n",
              "    border-radius: 50%;\n",
              "    cursor: pointer;\n",
              "    display: none;\n",
              "    fill: #1967D2;\n",
              "    height: 32px;\n",
              "    padding: 0 0 0 0;\n",
              "    width: 32px;\n",
              "  }\n",
              "\n",
              "  .colab-df-quickchart:hover {\n",
              "    background-color: #E2EBFA;\n",
              "    box-shadow: 0px 1px 2px rgba(60, 64, 67, 0.3), 0px 1px 3px 1px rgba(60, 64, 67, 0.15);\n",
              "    fill: #174EA6;\n",
              "  }\n",
              "\n",
              "  [theme=dark] .colab-df-quickchart {\n",
              "    background-color: #3B4455;\n",
              "    fill: #D2E3FC;\n",
              "  }\n",
              "\n",
              "  [theme=dark] .colab-df-quickchart:hover {\n",
              "    background-color: #434B5C;\n",
              "    box-shadow: 0px 1px 3px 1px rgba(0, 0, 0, 0.15);\n",
              "    filter: drop-shadow(0px 1px 2px rgba(0, 0, 0, 0.3));\n",
              "    fill: #FFFFFF;\n",
              "  }\n",
              "</style>\n",
              "\n",
              "  <script>\n",
              "    async function quickchart(key) {\n",
              "      const charts = await google.colab.kernel.invokeFunction(\n",
              "          'suggestCharts', [key], {});\n",
              "    }\n",
              "    (() => {\n",
              "      let quickchartButtonEl =\n",
              "        document.querySelector('#df-50a1725b-e250-47c5-b0da-0054870b93e0 button');\n",
              "      quickchartButtonEl.style.display =\n",
              "        google.colab.kernel.accessAllowed ? 'block' : 'none';\n",
              "    })();\n",
              "  </script>\n",
              "</div>\n",
              "    </div>\n",
              "  </div>\n"
            ]
          },
          "metadata": {},
          "execution_count": 35
        }
      ]
    },
    {
      "cell_type": "code",
      "source": [
        "X.purpose.unique()"
      ],
      "metadata": {
        "colab": {
          "base_uri": "https://localhost:8080/"
        },
        "id": "Rfw7--QwFtZA",
        "outputId": "0a91a10a-aea5-4e28-b617-673de6d4c95e"
      },
      "execution_count": 36,
      "outputs": [
        {
          "output_type": "execute_result",
          "data": {
            "text/plain": [
              "array(['major_purchase', 'other', 'debt_consolidation', 'credit_card',\n",
              "       'small_business', 'wedding', 'medical', 'car', 'home_improvement',\n",
              "       'vacation', 'educational', 'house', 'moving', 'renewable_energy'],\n",
              "      dtype=object)"
            ]
          },
          "metadata": {},
          "execution_count": 36
        }
      ]
    },
    {
      "cell_type": "code",
      "source": [
        "X.emp_length.unique()\n"
      ],
      "metadata": {
        "colab": {
          "base_uri": "https://localhost:8080/"
        },
        "id": "9D3bVFx6FwbQ",
        "outputId": "ece60291-74ca-40e5-f938-7fa785b6a232"
      },
      "execution_count": 37,
      "outputs": [
        {
          "output_type": "execute_result",
          "data": {
            "text/plain": [
              "array([ 0.,  4., 10., nan,  3.,  5.,  7.,  2.,  1.,  6.,  9.,  8.])"
            ]
          },
          "metadata": {},
          "execution_count": 37
        }
      ]
    },
    {
      "cell_type": "code",
      "source": [
        "X.term.unique()\n"
      ],
      "metadata": {
        "colab": {
          "base_uri": "https://localhost:8080/"
        },
        "id": "GB_veBb4Fx_Q",
        "outputId": "ea32448d-7010-4871-8716-a5c0e567944e"
      },
      "execution_count": 38,
      "outputs": [
        {
          "output_type": "execute_result",
          "data": {
            "text/plain": [
              "array(['36 months', '60 months'], dtype=object)"
            ]
          },
          "metadata": {},
          "execution_count": 38
        }
      ]
    },
    {
      "cell_type": "code",
      "source": [
        "X['term'] = X['term'].replace(['36 months'], 36)"
      ],
      "metadata": {
        "id": "xELZBpDxFzUI"
      },
      "execution_count": 39,
      "outputs": []
    },
    {
      "cell_type": "code",
      "source": [
        "X.term.unique()\n"
      ],
      "metadata": {
        "colab": {
          "base_uri": "https://localhost:8080/"
        },
        "id": "u3qODtXuF0xQ",
        "outputId": "23351514-fe7a-48e3-b066-fc1982be00ed"
      },
      "execution_count": 40,
      "outputs": [
        {
          "output_type": "execute_result",
          "data": {
            "text/plain": [
              "array([36, '60 months'], dtype=object)"
            ]
          },
          "metadata": {},
          "execution_count": 40
        }
      ]
    },
    {
      "cell_type": "code",
      "source": [
        "X['term'] = X['term'].replace(['60 months'], 60)"
      ],
      "metadata": {
        "id": "lNXQWI4vF17Y"
      },
      "execution_count": 41,
      "outputs": []
    },
    {
      "cell_type": "code",
      "source": [
        "X.term.unique()\n"
      ],
      "metadata": {
        "colab": {
          "base_uri": "https://localhost:8080/"
        },
        "id": "eZQpuxfaF3KI",
        "outputId": "8a34e926-2460-4771-c977-058f7091da18"
      },
      "execution_count": 42,
      "outputs": [
        {
          "output_type": "execute_result",
          "data": {
            "text/plain": [
              "array([36, 60])"
            ]
          },
          "metadata": {},
          "execution_count": 42
        }
      ]
    },
    {
      "cell_type": "code",
      "source": [
        "X.head(3)"
      ],
      "metadata": {
        "colab": {
          "base_uri": "https://localhost:8080/",
          "height": 163
        },
        "id": "HMd-qwCuF4Z4",
        "outputId": "f8d72178-eae1-4266-dcf5-4cae83f522b1"
      },
      "execution_count": 43,
      "outputs": [
        {
          "output_type": "execute_result",
          "data": {
            "text/plain": [
              "   funded_amnt  term  int_rate  installment  emp_length home_ownership  \\\n",
              "2          0.0    36      0.00         0.00         0.0           RENT   \n",
              "3       2500.0    36     13.98        85.42         4.0           RENT   \n",
              "4       5000.0    36     15.95       175.67         4.0           RENT   \n",
              "\n",
              "   annual_inc verification_status  loan_status             purpose  \\\n",
              "2         0.0        Not Verified  Charged Off      major_purchase   \n",
              "3     20004.0        Not Verified   Fully Paid               other   \n",
              "4     59000.0        Not Verified  Charged Off  debt_consolidation   \n",
              "\n",
              "   total_pymnt  total_rec_prncp  total_rec_int  last_pymnt_amnt  repay_fail  \n",
              "2     0.000000             0.00           0.00             0.00           1  \n",
              "3  3075.291779          2500.00         575.29            90.85           0  \n",
              "4  2948.760000          1909.02         873.81           175.67           1  "
            ],
            "text/html": [
              "\n",
              "  <div id=\"df-d28cd1c4-07fb-4a5c-b720-e07d4662812d\" class=\"colab-df-container\">\n",
              "    <div>\n",
              "<style scoped>\n",
              "    .dataframe tbody tr th:only-of-type {\n",
              "        vertical-align: middle;\n",
              "    }\n",
              "\n",
              "    .dataframe tbody tr th {\n",
              "        vertical-align: top;\n",
              "    }\n",
              "\n",
              "    .dataframe thead th {\n",
              "        text-align: right;\n",
              "    }\n",
              "</style>\n",
              "<table border=\"1\" class=\"dataframe\">\n",
              "  <thead>\n",
              "    <tr style=\"text-align: right;\">\n",
              "      <th></th>\n",
              "      <th>funded_amnt</th>\n",
              "      <th>term</th>\n",
              "      <th>int_rate</th>\n",
              "      <th>installment</th>\n",
              "      <th>emp_length</th>\n",
              "      <th>home_ownership</th>\n",
              "      <th>annual_inc</th>\n",
              "      <th>verification_status</th>\n",
              "      <th>loan_status</th>\n",
              "      <th>purpose</th>\n",
              "      <th>total_pymnt</th>\n",
              "      <th>total_rec_prncp</th>\n",
              "      <th>total_rec_int</th>\n",
              "      <th>last_pymnt_amnt</th>\n",
              "      <th>repay_fail</th>\n",
              "    </tr>\n",
              "  </thead>\n",
              "  <tbody>\n",
              "    <tr>\n",
              "      <th>2</th>\n",
              "      <td>0.0</td>\n",
              "      <td>36</td>\n",
              "      <td>0.00</td>\n",
              "      <td>0.00</td>\n",
              "      <td>0.0</td>\n",
              "      <td>RENT</td>\n",
              "      <td>0.0</td>\n",
              "      <td>Not Verified</td>\n",
              "      <td>Charged Off</td>\n",
              "      <td>major_purchase</td>\n",
              "      <td>0.000000</td>\n",
              "      <td>0.00</td>\n",
              "      <td>0.00</td>\n",
              "      <td>0.00</td>\n",
              "      <td>1</td>\n",
              "    </tr>\n",
              "    <tr>\n",
              "      <th>3</th>\n",
              "      <td>2500.0</td>\n",
              "      <td>36</td>\n",
              "      <td>13.98</td>\n",
              "      <td>85.42</td>\n",
              "      <td>4.0</td>\n",
              "      <td>RENT</td>\n",
              "      <td>20004.0</td>\n",
              "      <td>Not Verified</td>\n",
              "      <td>Fully Paid</td>\n",
              "      <td>other</td>\n",
              "      <td>3075.291779</td>\n",
              "      <td>2500.00</td>\n",
              "      <td>575.29</td>\n",
              "      <td>90.85</td>\n",
              "      <td>0</td>\n",
              "    </tr>\n",
              "    <tr>\n",
              "      <th>4</th>\n",
              "      <td>5000.0</td>\n",
              "      <td>36</td>\n",
              "      <td>15.95</td>\n",
              "      <td>175.67</td>\n",
              "      <td>4.0</td>\n",
              "      <td>RENT</td>\n",
              "      <td>59000.0</td>\n",
              "      <td>Not Verified</td>\n",
              "      <td>Charged Off</td>\n",
              "      <td>debt_consolidation</td>\n",
              "      <td>2948.760000</td>\n",
              "      <td>1909.02</td>\n",
              "      <td>873.81</td>\n",
              "      <td>175.67</td>\n",
              "      <td>1</td>\n",
              "    </tr>\n",
              "  </tbody>\n",
              "</table>\n",
              "</div>\n",
              "    <div class=\"colab-df-buttons\">\n",
              "\n",
              "  <div class=\"colab-df-container\">\n",
              "    <button class=\"colab-df-convert\" onclick=\"convertToInteractive('df-d28cd1c4-07fb-4a5c-b720-e07d4662812d')\"\n",
              "            title=\"Convert this dataframe to an interactive table.\"\n",
              "            style=\"display:none;\">\n",
              "\n",
              "  <svg xmlns=\"http://www.w3.org/2000/svg\" height=\"24px\" viewBox=\"0 -960 960 960\">\n",
              "    <path d=\"M120-120v-720h720v720H120Zm60-500h600v-160H180v160Zm220 220h160v-160H400v160Zm0 220h160v-160H400v160ZM180-400h160v-160H180v160Zm440 0h160v-160H620v160ZM180-180h160v-160H180v160Zm440 0h160v-160H620v160Z\"/>\n",
              "  </svg>\n",
              "    </button>\n",
              "\n",
              "  <style>\n",
              "    .colab-df-container {\n",
              "      display:flex;\n",
              "      gap: 12px;\n",
              "    }\n",
              "\n",
              "    .colab-df-convert {\n",
              "      background-color: #E8F0FE;\n",
              "      border: none;\n",
              "      border-radius: 50%;\n",
              "      cursor: pointer;\n",
              "      display: none;\n",
              "      fill: #1967D2;\n",
              "      height: 32px;\n",
              "      padding: 0 0 0 0;\n",
              "      width: 32px;\n",
              "    }\n",
              "\n",
              "    .colab-df-convert:hover {\n",
              "      background-color: #E2EBFA;\n",
              "      box-shadow: 0px 1px 2px rgba(60, 64, 67, 0.3), 0px 1px 3px 1px rgba(60, 64, 67, 0.15);\n",
              "      fill: #174EA6;\n",
              "    }\n",
              "\n",
              "    .colab-df-buttons div {\n",
              "      margin-bottom: 4px;\n",
              "    }\n",
              "\n",
              "    [theme=dark] .colab-df-convert {\n",
              "      background-color: #3B4455;\n",
              "      fill: #D2E3FC;\n",
              "    }\n",
              "\n",
              "    [theme=dark] .colab-df-convert:hover {\n",
              "      background-color: #434B5C;\n",
              "      box-shadow: 0px 1px 3px 1px rgba(0, 0, 0, 0.15);\n",
              "      filter: drop-shadow(0px 1px 2px rgba(0, 0, 0, 0.3));\n",
              "      fill: #FFFFFF;\n",
              "    }\n",
              "  </style>\n",
              "\n",
              "    <script>\n",
              "      const buttonEl =\n",
              "        document.querySelector('#df-d28cd1c4-07fb-4a5c-b720-e07d4662812d button.colab-df-convert');\n",
              "      buttonEl.style.display =\n",
              "        google.colab.kernel.accessAllowed ? 'block' : 'none';\n",
              "\n",
              "      async function convertToInteractive(key) {\n",
              "        const element = document.querySelector('#df-d28cd1c4-07fb-4a5c-b720-e07d4662812d');\n",
              "        const dataTable =\n",
              "          await google.colab.kernel.invokeFunction('convertToInteractive',\n",
              "                                                    [key], {});\n",
              "        if (!dataTable) return;\n",
              "\n",
              "        const docLinkHtml = 'Like what you see? Visit the ' +\n",
              "          '<a target=\"_blank\" href=https://colab.research.google.com/notebooks/data_table.ipynb>data table notebook</a>'\n",
              "          + ' to learn more about interactive tables.';\n",
              "        element.innerHTML = '';\n",
              "        dataTable['output_type'] = 'display_data';\n",
              "        await google.colab.output.renderOutput(dataTable, element);\n",
              "        const docLink = document.createElement('div');\n",
              "        docLink.innerHTML = docLinkHtml;\n",
              "        element.appendChild(docLink);\n",
              "      }\n",
              "    </script>\n",
              "  </div>\n",
              "\n",
              "    </div>\n",
              "  </div>\n"
            ]
          },
          "metadata": {},
          "execution_count": 43
        }
      ]
    },
    {
      "cell_type": "code",
      "source": [
        "X.home_ownership.unique()\n"
      ],
      "metadata": {
        "colab": {
          "base_uri": "https://localhost:8080/"
        },
        "id": "6CwFtEmSF5zw",
        "outputId": "792595fc-4f9f-4ca6-ffca-1fafd5280b18"
      },
      "execution_count": 44,
      "outputs": [
        {
          "output_type": "execute_result",
          "data": {
            "text/plain": [
              "array(['RENT', 'MORTGAGE', 'OWN', 'OTHER', 'NONE'], dtype=object)"
            ]
          },
          "metadata": {},
          "execution_count": 44
        }
      ]
    },
    {
      "cell_type": "code",
      "source": [
        "home_ownership_mapping={\n",
        "    'RENT' :  0,\n",
        "    'MORTGAGE': 1,\n",
        "    'OWN' :2,\n",
        "    'OTHER' :3,\n",
        "     'NONE' :4\n",
        "}\n",
        "X['home_ownership'] = X['home_ownership'].replace(home_ownership_mapping)"
      ],
      "metadata": {
        "id": "E-dhNet7Lsgf"
      },
      "execution_count": 59,
      "outputs": []
    },
    {
      "cell_type": "code",
      "source": [
        "X.info()"
      ],
      "metadata": {
        "colab": {
          "base_uri": "https://localhost:8080/"
        },
        "id": "1dSiS4M-F69g",
        "outputId": "f7cb1bd6-2bba-461b-97ac-d26f24c03a16"
      },
      "execution_count": 60,
      "outputs": [
        {
          "output_type": "stream",
          "name": "stdout",
          "text": [
            "<class 'pandas.core.frame.DataFrame'>\n",
            "Int64Index: 38480 entries, 2 to 38480\n",
            "Data columns (total 14 columns):\n",
            " #   Column               Non-Null Count  Dtype  \n",
            "---  ------               --------------  -----  \n",
            " 0   funded_amnt          38479 non-null  float64\n",
            " 1   term                 38480 non-null  int64  \n",
            " 2   int_rate             38480 non-null  float64\n",
            " 3   installment          38479 non-null  float64\n",
            " 4   emp_length           37487 non-null  float64\n",
            " 5   home_ownership       38480 non-null  int64  \n",
            " 6   annual_inc           38478 non-null  float64\n",
            " 7   verification_status  38480 non-null  object \n",
            " 8   loan_status          38480 non-null  object \n",
            " 9   purpose              38480 non-null  object \n",
            " 10  total_pymnt          38479 non-null  float64\n",
            " 11  total_rec_prncp      38479 non-null  float64\n",
            " 12  total_rec_int        38479 non-null  float64\n",
            " 13  last_pymnt_amnt      38479 non-null  float64\n",
            "dtypes: float64(9), int64(2), object(3)\n",
            "memory usage: 4.4+ MB\n"
          ]
        }
      ]
    },
    {
      "cell_type": "code",
      "source": [
        "X = X.iloc[:,:-1]\n"
      ],
      "metadata": {
        "id": "o39MtWPfF8S_"
      },
      "execution_count": 61,
      "outputs": []
    },
    {
      "cell_type": "code",
      "source": [
        "X.shape"
      ],
      "metadata": {
        "colab": {
          "base_uri": "https://localhost:8080/"
        },
        "id": "TqRNGkUJF-T3",
        "outputId": "88e6c7bf-c094-4ef9-e98d-5748f4a5be81"
      },
      "execution_count": 62,
      "outputs": [
        {
          "output_type": "execute_result",
          "data": {
            "text/plain": [
              "(38480, 13)"
            ]
          },
          "metadata": {},
          "execution_count": 62
        }
      ]
    },
    {
      "cell_type": "code",
      "source": [
        "y.shape"
      ],
      "metadata": {
        "colab": {
          "base_uri": "https://localhost:8080/"
        },
        "id": "VVYRq5NkF_Wn",
        "outputId": "647331ed-5f0b-4a03-a4e3-a87f66d5095d"
      },
      "execution_count": 63,
      "outputs": [
        {
          "output_type": "execute_result",
          "data": {
            "text/plain": [
              "(38480,)"
            ]
          },
          "metadata": {},
          "execution_count": 63
        }
      ]
    },
    {
      "cell_type": "code",
      "source": [
        "X.isna().sum()"
      ],
      "metadata": {
        "colab": {
          "base_uri": "https://localhost:8080/"
        },
        "id": "c-adfe9LGBKP",
        "outputId": "623e0b16-3b44-4028-8599-34cadccabde6"
      },
      "execution_count": 64,
      "outputs": [
        {
          "output_type": "execute_result",
          "data": {
            "text/plain": [
              "funded_amnt              1\n",
              "term                     0\n",
              "int_rate                 0\n",
              "installment              1\n",
              "emp_length             993\n",
              "home_ownership           0\n",
              "annual_inc               2\n",
              "verification_status      0\n",
              "loan_status              0\n",
              "purpose                  0\n",
              "total_pymnt              1\n",
              "total_rec_prncp          1\n",
              "total_rec_int            1\n",
              "dtype: int64"
            ]
          },
          "metadata": {},
          "execution_count": 64
        }
      ]
    },
    {
      "cell_type": "code",
      "source": [
        "X.info()"
      ],
      "metadata": {
        "colab": {
          "base_uri": "https://localhost:8080/"
        },
        "id": "BwtNH5pwMvOO",
        "outputId": "ada5adcb-1c1d-45e6-b825-3283f6feea19"
      },
      "execution_count": 74,
      "outputs": [
        {
          "output_type": "stream",
          "name": "stdout",
          "text": [
            "<class 'pandas.core.frame.DataFrame'>\n",
            "Int64Index: 38480 entries, 2 to 38480\n",
            "Data columns (total 13 columns):\n",
            " #   Column               Non-Null Count  Dtype  \n",
            "---  ------               --------------  -----  \n",
            " 0   funded_amnt          38479 non-null  float64\n",
            " 1   term                 38480 non-null  int64  \n",
            " 2   int_rate             38480 non-null  float64\n",
            " 3   installment          38479 non-null  float64\n",
            " 4   emp_length           37487 non-null  float64\n",
            " 5   home_ownership       38480 non-null  int64  \n",
            " 6   annual_inc           38478 non-null  float64\n",
            " 7   verification_status  38480 non-null  object \n",
            " 8   loan_status          38480 non-null  object \n",
            " 9   purpose              38480 non-null  object \n",
            " 10  total_pymnt          38479 non-null  float64\n",
            " 11  total_rec_prncp      38479 non-null  float64\n",
            " 12  total_rec_int        38479 non-null  float64\n",
            "dtypes: float64(8), int64(2), object(3)\n",
            "memory usage: 4.1+ MB\n"
          ]
        }
      ]
    },
    {
      "cell_type": "code",
      "source": [
        "X_train,X_test,y_train,y_test = train_test_split(X,y,test_size=0.2,random_state=42)"
      ],
      "metadata": {
        "id": "rxwub-EwGDCn"
      },
      "execution_count": 65,
      "outputs": []
    },
    {
      "cell_type": "markdown",
      "source": [
        " Making Column Transformer"
      ],
      "metadata": {
        "id": "md4xqngsGOdY"
      }
    },
    {
      "cell_type": "code",
      "source": [
        "num1= [0,3,6,10,11,12]\n",
        "trf1 = ColumnTransformer([\n",
        "    ('impute_age',SimpleImputer(),num1),\n",
        "    ('emp_length',SimpleImputer(strategy='most_frequent'),[4]),\n",
        "\n",
        "],remainder='passthrough')"
      ],
      "metadata": {
        "id": "6J1zmAJEGJzw"
      },
      "execution_count": 75,
      "outputs": []
    },
    {
      "cell_type": "code",
      "source": [
        "# one hot encoding\n",
        "cat =[7,8,9]\n",
        "trf2  = ColumnTransformer([\n",
        "    (\"onehot_categorical\", OneHotEncoder(sparse=False, handle_unknown='ignore'),cat )],\n",
        "    remainder= \"passthrough\")"
      ],
      "metadata": {
        "id": "-u9aWeZBGWZ4"
      },
      "execution_count": 83,
      "outputs": []
    },
    {
      "cell_type": "code",
      "source": [
        "trf3 = ColumnTransformer([\n",
        "    ('scale',MinMaxScaler(),slice(0,10))\n",
        "])"
      ],
      "metadata": {
        "id": "jrgsiak3GXtA"
      },
      "execution_count": 84,
      "outputs": []
    },
    {
      "cell_type": "code",
      "source": [
        "trf4 = SelectKBest(score_func=chi2,k=9)"
      ],
      "metadata": {
        "id": "QSYwhvGYGZA4"
      },
      "execution_count": 85,
      "outputs": []
    },
    {
      "cell_type": "code",
      "source": [
        "trf5 = DecisionTreeClassifier()"
      ],
      "metadata": {
        "id": "phgbb30NGaNw"
      },
      "execution_count": 86,
      "outputs": []
    },
    {
      "cell_type": "code",
      "source": [
        "X_train.head()"
      ],
      "metadata": {
        "colab": {
          "base_uri": "https://localhost:8080/",
          "height": 226
        },
        "id": "Xj6J5ZKvGbYQ",
        "outputId": "43cce33c-2357-45d7-bb54-59b7deb45dbe"
      },
      "execution_count": 87,
      "outputs": [
        {
          "output_type": "execute_result",
          "data": {
            "text/plain": [
              "       funded_amnt  term  int_rate  installment  emp_length  home_ownership  \\\n",
              "23538      25000.0    36     11.71       826.90        10.0               0   \n",
              "30976      24000.0    36     12.61       804.16        10.0               1   \n",
              "5788        2500.0    36     16.82        88.91         2.0               0   \n",
              "22134      18200.0    36      8.88       577.74         4.0               0   \n",
              "24044      20200.0    60     21.28       549.67        10.0               0   \n",
              "\n",
              "       annual_inc verification_status  loan_status             purpose  \\\n",
              "23538     70000.0            Verified   Fully Paid  debt_consolidation   \n",
              "30976    234000.0        Not Verified  Charged Off               other   \n",
              "5788      14400.0        Not Verified  Charged Off  debt_consolidation   \n",
              "22134     36000.0            Verified   Fully Paid  debt_consolidation   \n",
              "24044     59670.0            Verified  Charged Off  debt_consolidation   \n",
              "\n",
              "       total_pymnt  total_rec_prncp  total_rec_int  \n",
              "23538  29768.37000         25000.00        4768.37  \n",
              "30976  18535.70000         14260.69        4223.97  \n",
              "5788     889.44000           510.42         285.90  \n",
              "22134  20800.15926         18200.00        2600.16  \n",
              "24044  13809.19000          4571.71        6997.32  "
            ],
            "text/html": [
              "\n",
              "  <div id=\"df-a819f26c-bd13-4458-b3f5-7ee493837fdd\" class=\"colab-df-container\">\n",
              "    <div>\n",
              "<style scoped>\n",
              "    .dataframe tbody tr th:only-of-type {\n",
              "        vertical-align: middle;\n",
              "    }\n",
              "\n",
              "    .dataframe tbody tr th {\n",
              "        vertical-align: top;\n",
              "    }\n",
              "\n",
              "    .dataframe thead th {\n",
              "        text-align: right;\n",
              "    }\n",
              "</style>\n",
              "<table border=\"1\" class=\"dataframe\">\n",
              "  <thead>\n",
              "    <tr style=\"text-align: right;\">\n",
              "      <th></th>\n",
              "      <th>funded_amnt</th>\n",
              "      <th>term</th>\n",
              "      <th>int_rate</th>\n",
              "      <th>installment</th>\n",
              "      <th>emp_length</th>\n",
              "      <th>home_ownership</th>\n",
              "      <th>annual_inc</th>\n",
              "      <th>verification_status</th>\n",
              "      <th>loan_status</th>\n",
              "      <th>purpose</th>\n",
              "      <th>total_pymnt</th>\n",
              "      <th>total_rec_prncp</th>\n",
              "      <th>total_rec_int</th>\n",
              "    </tr>\n",
              "  </thead>\n",
              "  <tbody>\n",
              "    <tr>\n",
              "      <th>23538</th>\n",
              "      <td>25000.0</td>\n",
              "      <td>36</td>\n",
              "      <td>11.71</td>\n",
              "      <td>826.90</td>\n",
              "      <td>10.0</td>\n",
              "      <td>0</td>\n",
              "      <td>70000.0</td>\n",
              "      <td>Verified</td>\n",
              "      <td>Fully Paid</td>\n",
              "      <td>debt_consolidation</td>\n",
              "      <td>29768.37000</td>\n",
              "      <td>25000.00</td>\n",
              "      <td>4768.37</td>\n",
              "    </tr>\n",
              "    <tr>\n",
              "      <th>30976</th>\n",
              "      <td>24000.0</td>\n",
              "      <td>36</td>\n",
              "      <td>12.61</td>\n",
              "      <td>804.16</td>\n",
              "      <td>10.0</td>\n",
              "      <td>1</td>\n",
              "      <td>234000.0</td>\n",
              "      <td>Not Verified</td>\n",
              "      <td>Charged Off</td>\n",
              "      <td>other</td>\n",
              "      <td>18535.70000</td>\n",
              "      <td>14260.69</td>\n",
              "      <td>4223.97</td>\n",
              "    </tr>\n",
              "    <tr>\n",
              "      <th>5788</th>\n",
              "      <td>2500.0</td>\n",
              "      <td>36</td>\n",
              "      <td>16.82</td>\n",
              "      <td>88.91</td>\n",
              "      <td>2.0</td>\n",
              "      <td>0</td>\n",
              "      <td>14400.0</td>\n",
              "      <td>Not Verified</td>\n",
              "      <td>Charged Off</td>\n",
              "      <td>debt_consolidation</td>\n",
              "      <td>889.44000</td>\n",
              "      <td>510.42</td>\n",
              "      <td>285.90</td>\n",
              "    </tr>\n",
              "    <tr>\n",
              "      <th>22134</th>\n",
              "      <td>18200.0</td>\n",
              "      <td>36</td>\n",
              "      <td>8.88</td>\n",
              "      <td>577.74</td>\n",
              "      <td>4.0</td>\n",
              "      <td>0</td>\n",
              "      <td>36000.0</td>\n",
              "      <td>Verified</td>\n",
              "      <td>Fully Paid</td>\n",
              "      <td>debt_consolidation</td>\n",
              "      <td>20800.15926</td>\n",
              "      <td>18200.00</td>\n",
              "      <td>2600.16</td>\n",
              "    </tr>\n",
              "    <tr>\n",
              "      <th>24044</th>\n",
              "      <td>20200.0</td>\n",
              "      <td>60</td>\n",
              "      <td>21.28</td>\n",
              "      <td>549.67</td>\n",
              "      <td>10.0</td>\n",
              "      <td>0</td>\n",
              "      <td>59670.0</td>\n",
              "      <td>Verified</td>\n",
              "      <td>Charged Off</td>\n",
              "      <td>debt_consolidation</td>\n",
              "      <td>13809.19000</td>\n",
              "      <td>4571.71</td>\n",
              "      <td>6997.32</td>\n",
              "    </tr>\n",
              "  </tbody>\n",
              "</table>\n",
              "</div>\n",
              "    <div class=\"colab-df-buttons\">\n",
              "\n",
              "  <div class=\"colab-df-container\">\n",
              "    <button class=\"colab-df-convert\" onclick=\"convertToInteractive('df-a819f26c-bd13-4458-b3f5-7ee493837fdd')\"\n",
              "            title=\"Convert this dataframe to an interactive table.\"\n",
              "            style=\"display:none;\">\n",
              "\n",
              "  <svg xmlns=\"http://www.w3.org/2000/svg\" height=\"24px\" viewBox=\"0 -960 960 960\">\n",
              "    <path d=\"M120-120v-720h720v720H120Zm60-500h600v-160H180v160Zm220 220h160v-160H400v160Zm0 220h160v-160H400v160ZM180-400h160v-160H180v160Zm440 0h160v-160H620v160ZM180-180h160v-160H180v160Zm440 0h160v-160H620v160Z\"/>\n",
              "  </svg>\n",
              "    </button>\n",
              "\n",
              "  <style>\n",
              "    .colab-df-container {\n",
              "      display:flex;\n",
              "      gap: 12px;\n",
              "    }\n",
              "\n",
              "    .colab-df-convert {\n",
              "      background-color: #E8F0FE;\n",
              "      border: none;\n",
              "      border-radius: 50%;\n",
              "      cursor: pointer;\n",
              "      display: none;\n",
              "      fill: #1967D2;\n",
              "      height: 32px;\n",
              "      padding: 0 0 0 0;\n",
              "      width: 32px;\n",
              "    }\n",
              "\n",
              "    .colab-df-convert:hover {\n",
              "      background-color: #E2EBFA;\n",
              "      box-shadow: 0px 1px 2px rgba(60, 64, 67, 0.3), 0px 1px 3px 1px rgba(60, 64, 67, 0.15);\n",
              "      fill: #174EA6;\n",
              "    }\n",
              "\n",
              "    .colab-df-buttons div {\n",
              "      margin-bottom: 4px;\n",
              "    }\n",
              "\n",
              "    [theme=dark] .colab-df-convert {\n",
              "      background-color: #3B4455;\n",
              "      fill: #D2E3FC;\n",
              "    }\n",
              "\n",
              "    [theme=dark] .colab-df-convert:hover {\n",
              "      background-color: #434B5C;\n",
              "      box-shadow: 0px 1px 3px 1px rgba(0, 0, 0, 0.15);\n",
              "      filter: drop-shadow(0px 1px 2px rgba(0, 0, 0, 0.3));\n",
              "      fill: #FFFFFF;\n",
              "    }\n",
              "  </style>\n",
              "\n",
              "    <script>\n",
              "      const buttonEl =\n",
              "        document.querySelector('#df-a819f26c-bd13-4458-b3f5-7ee493837fdd button.colab-df-convert');\n",
              "      buttonEl.style.display =\n",
              "        google.colab.kernel.accessAllowed ? 'block' : 'none';\n",
              "\n",
              "      async function convertToInteractive(key) {\n",
              "        const element = document.querySelector('#df-a819f26c-bd13-4458-b3f5-7ee493837fdd');\n",
              "        const dataTable =\n",
              "          await google.colab.kernel.invokeFunction('convertToInteractive',\n",
              "                                                    [key], {});\n",
              "        if (!dataTable) return;\n",
              "\n",
              "        const docLinkHtml = 'Like what you see? Visit the ' +\n",
              "          '<a target=\"_blank\" href=https://colab.research.google.com/notebooks/data_table.ipynb>data table notebook</a>'\n",
              "          + ' to learn more about interactive tables.';\n",
              "        element.innerHTML = '';\n",
              "        dataTable['output_type'] = 'display_data';\n",
              "        await google.colab.output.renderOutput(dataTable, element);\n",
              "        const docLink = document.createElement('div');\n",
              "        docLink.innerHTML = docLinkHtml;\n",
              "        element.appendChild(docLink);\n",
              "      }\n",
              "    </script>\n",
              "  </div>\n",
              "\n",
              "\n",
              "<div id=\"df-7f150248-d795-4321-8147-fcc4470548a5\">\n",
              "  <button class=\"colab-df-quickchart\" onclick=\"quickchart('df-7f150248-d795-4321-8147-fcc4470548a5')\"\n",
              "            title=\"Suggest charts.\"\n",
              "            style=\"display:none;\">\n",
              "\n",
              "<svg xmlns=\"http://www.w3.org/2000/svg\" height=\"24px\"viewBox=\"0 0 24 24\"\n",
              "     width=\"24px\">\n",
              "    <g>\n",
              "        <path d=\"M19 3H5c-1.1 0-2 .9-2 2v14c0 1.1.9 2 2 2h14c1.1 0 2-.9 2-2V5c0-1.1-.9-2-2-2zM9 17H7v-7h2v7zm4 0h-2V7h2v10zm4 0h-2v-4h2v4z\"/>\n",
              "    </g>\n",
              "</svg>\n",
              "  </button>\n",
              "\n",
              "<style>\n",
              "  .colab-df-quickchart {\n",
              "    background-color: #E8F0FE;\n",
              "    border: none;\n",
              "    border-radius: 50%;\n",
              "    cursor: pointer;\n",
              "    display: none;\n",
              "    fill: #1967D2;\n",
              "    height: 32px;\n",
              "    padding: 0 0 0 0;\n",
              "    width: 32px;\n",
              "  }\n",
              "\n",
              "  .colab-df-quickchart:hover {\n",
              "    background-color: #E2EBFA;\n",
              "    box-shadow: 0px 1px 2px rgba(60, 64, 67, 0.3), 0px 1px 3px 1px rgba(60, 64, 67, 0.15);\n",
              "    fill: #174EA6;\n",
              "  }\n",
              "\n",
              "  [theme=dark] .colab-df-quickchart {\n",
              "    background-color: #3B4455;\n",
              "    fill: #D2E3FC;\n",
              "  }\n",
              "\n",
              "  [theme=dark] .colab-df-quickchart:hover {\n",
              "    background-color: #434B5C;\n",
              "    box-shadow: 0px 1px 3px 1px rgba(0, 0, 0, 0.15);\n",
              "    filter: drop-shadow(0px 1px 2px rgba(0, 0, 0, 0.3));\n",
              "    fill: #FFFFFF;\n",
              "  }\n",
              "</style>\n",
              "\n",
              "  <script>\n",
              "    async function quickchart(key) {\n",
              "      const charts = await google.colab.kernel.invokeFunction(\n",
              "          'suggestCharts', [key], {});\n",
              "    }\n",
              "    (() => {\n",
              "      let quickchartButtonEl =\n",
              "        document.querySelector('#df-7f150248-d795-4321-8147-fcc4470548a5 button');\n",
              "      quickchartButtonEl.style.display =\n",
              "        google.colab.kernel.accessAllowed ? 'block' : 'none';\n",
              "    })();\n",
              "  </script>\n",
              "</div>\n",
              "    </div>\n",
              "  </div>\n"
            ]
          },
          "metadata": {},
          "execution_count": 87
        }
      ]
    },
    {
      "cell_type": "code",
      "source": [
        "pipe = Pipeline([\n",
        "                ('trf1',trf1),\n",
        "                ('trf2',trf2),\n",
        "                ('trf3',trf3),\n",
        "                ('trf4',trf4),\n",
        "                ('trf5',trf5)\n",
        "            ])"
      ],
      "metadata": {
        "id": "MfDrIIDdGcmw"
      },
      "execution_count": 88,
      "outputs": []
    },
    {
      "cell_type": "code",
      "source": [
        "pipe.fit(X_train,y_train)"
      ],
      "metadata": {
        "colab": {
          "base_uri": "https://localhost:8080/",
          "height": 483
        },
        "id": "nJUDJXRdGd8g",
        "outputId": "da53fc3e-1764-4450-8cc8-ddc369401cd5"
      },
      "execution_count": 89,
      "outputs": [
        {
          "output_type": "stream",
          "name": "stderr",
          "text": [
            "/usr/local/lib/python3.10/dist-packages/sklearn/preprocessing/_encoders.py:868: FutureWarning: `sparse` was renamed to `sparse_output` in version 1.2 and will be removed in 1.4. `sparse_output` is ignored unless you leave `sparse` to its default value.\n",
            "  warnings.warn(\n"
          ]
        },
        {
          "output_type": "execute_result",
          "data": {
            "text/plain": [
              "Pipeline(steps=[('trf1',\n",
              "                 ColumnTransformer(remainder='passthrough',\n",
              "                                   transformers=[('impute_age', SimpleImputer(),\n",
              "                                                  [0, 3, 6, 10, 11, 12]),\n",
              "                                                 ('emp_length',\n",
              "                                                  SimpleImputer(strategy='most_frequent'),\n",
              "                                                  [4])])),\n",
              "                ('trf2',\n",
              "                 ColumnTransformer(remainder='passthrough',\n",
              "                                   transformers=[('onehot_categorical',\n",
              "                                                  OneHotEncoder(handle_unknown='ignore',\n",
              "                                                                sparse=False),\n",
              "                                                  [7, 8, 9])])),\n",
              "                ('trf3',\n",
              "                 ColumnTransformer(transformers=[('scale', MinMaxScaler(),\n",
              "                                                  slice(0, 10, None))])),\n",
              "                ('trf4',\n",
              "                 SelectKBest(k=9,\n",
              "                             score_func=<function chi2 at 0x7e3e67060310>)),\n",
              "                ('trf5', DecisionTreeClassifier())])"
            ],
            "text/html": [
              "<style>#sk-container-id-1 {color: black;background-color: white;}#sk-container-id-1 pre{padding: 0;}#sk-container-id-1 div.sk-toggleable {background-color: white;}#sk-container-id-1 label.sk-toggleable__label {cursor: pointer;display: block;width: 100%;margin-bottom: 0;padding: 0.3em;box-sizing: border-box;text-align: center;}#sk-container-id-1 label.sk-toggleable__label-arrow:before {content: \"▸\";float: left;margin-right: 0.25em;color: #696969;}#sk-container-id-1 label.sk-toggleable__label-arrow:hover:before {color: black;}#sk-container-id-1 div.sk-estimator:hover label.sk-toggleable__label-arrow:before {color: black;}#sk-container-id-1 div.sk-toggleable__content {max-height: 0;max-width: 0;overflow: hidden;text-align: left;background-color: #f0f8ff;}#sk-container-id-1 div.sk-toggleable__content pre {margin: 0.2em;color: black;border-radius: 0.25em;background-color: #f0f8ff;}#sk-container-id-1 input.sk-toggleable__control:checked~div.sk-toggleable__content {max-height: 200px;max-width: 100%;overflow: auto;}#sk-container-id-1 input.sk-toggleable__control:checked~label.sk-toggleable__label-arrow:before {content: \"▾\";}#sk-container-id-1 div.sk-estimator input.sk-toggleable__control:checked~label.sk-toggleable__label {background-color: #d4ebff;}#sk-container-id-1 div.sk-label input.sk-toggleable__control:checked~label.sk-toggleable__label {background-color: #d4ebff;}#sk-container-id-1 input.sk-hidden--visually {border: 0;clip: rect(1px 1px 1px 1px);clip: rect(1px, 1px, 1px, 1px);height: 1px;margin: -1px;overflow: hidden;padding: 0;position: absolute;width: 1px;}#sk-container-id-1 div.sk-estimator {font-family: monospace;background-color: #f0f8ff;border: 1px dotted black;border-radius: 0.25em;box-sizing: border-box;margin-bottom: 0.5em;}#sk-container-id-1 div.sk-estimator:hover {background-color: #d4ebff;}#sk-container-id-1 div.sk-parallel-item::after {content: \"\";width: 100%;border-bottom: 1px solid gray;flex-grow: 1;}#sk-container-id-1 div.sk-label:hover label.sk-toggleable__label {background-color: #d4ebff;}#sk-container-id-1 div.sk-serial::before {content: \"\";position: absolute;border-left: 1px solid gray;box-sizing: border-box;top: 0;bottom: 0;left: 50%;z-index: 0;}#sk-container-id-1 div.sk-serial {display: flex;flex-direction: column;align-items: center;background-color: white;padding-right: 0.2em;padding-left: 0.2em;position: relative;}#sk-container-id-1 div.sk-item {position: relative;z-index: 1;}#sk-container-id-1 div.sk-parallel {display: flex;align-items: stretch;justify-content: center;background-color: white;position: relative;}#sk-container-id-1 div.sk-item::before, #sk-container-id-1 div.sk-parallel-item::before {content: \"\";position: absolute;border-left: 1px solid gray;box-sizing: border-box;top: 0;bottom: 0;left: 50%;z-index: -1;}#sk-container-id-1 div.sk-parallel-item {display: flex;flex-direction: column;z-index: 1;position: relative;background-color: white;}#sk-container-id-1 div.sk-parallel-item:first-child::after {align-self: flex-end;width: 50%;}#sk-container-id-1 div.sk-parallel-item:last-child::after {align-self: flex-start;width: 50%;}#sk-container-id-1 div.sk-parallel-item:only-child::after {width: 0;}#sk-container-id-1 div.sk-dashed-wrapped {border: 1px dashed gray;margin: 0 0.4em 0.5em 0.4em;box-sizing: border-box;padding-bottom: 0.4em;background-color: white;}#sk-container-id-1 div.sk-label label {font-family: monospace;font-weight: bold;display: inline-block;line-height: 1.2em;}#sk-container-id-1 div.sk-label-container {text-align: center;}#sk-container-id-1 div.sk-container {/* jupyter's `normalize.less` sets `[hidden] { display: none; }` but bootstrap.min.css set `[hidden] { display: none !important; }` so we also need the `!important` here to be able to override the default hidden behavior on the sphinx rendered scikit-learn.org. See: https://github.com/scikit-learn/scikit-learn/issues/21755 */display: inline-block !important;position: relative;}#sk-container-id-1 div.sk-text-repr-fallback {display: none;}</style><div id=\"sk-container-id-1\" class=\"sk-top-container\"><div class=\"sk-text-repr-fallback\"><pre>Pipeline(steps=[(&#x27;trf1&#x27;,\n",
              "                 ColumnTransformer(remainder=&#x27;passthrough&#x27;,\n",
              "                                   transformers=[(&#x27;impute_age&#x27;, SimpleImputer(),\n",
              "                                                  [0, 3, 6, 10, 11, 12]),\n",
              "                                                 (&#x27;emp_length&#x27;,\n",
              "                                                  SimpleImputer(strategy=&#x27;most_frequent&#x27;),\n",
              "                                                  [4])])),\n",
              "                (&#x27;trf2&#x27;,\n",
              "                 ColumnTransformer(remainder=&#x27;passthrough&#x27;,\n",
              "                                   transformers=[(&#x27;onehot_categorical&#x27;,\n",
              "                                                  OneHotEncoder(handle_unknown=&#x27;ignore&#x27;,\n",
              "                                                                sparse=False),\n",
              "                                                  [7, 8, 9])])),\n",
              "                (&#x27;trf3&#x27;,\n",
              "                 ColumnTransformer(transformers=[(&#x27;scale&#x27;, MinMaxScaler(),\n",
              "                                                  slice(0, 10, None))])),\n",
              "                (&#x27;trf4&#x27;,\n",
              "                 SelectKBest(k=9,\n",
              "                             score_func=&lt;function chi2 at 0x7e3e67060310&gt;)),\n",
              "                (&#x27;trf5&#x27;, DecisionTreeClassifier())])</pre><b>In a Jupyter environment, please rerun this cell to show the HTML representation or trust the notebook. <br />On GitHub, the HTML representation is unable to render, please try loading this page with nbviewer.org.</b></div><div class=\"sk-container\" hidden><div class=\"sk-item sk-dashed-wrapped\"><div class=\"sk-label-container\"><div class=\"sk-label sk-toggleable\"><input class=\"sk-toggleable__control sk-hidden--visually\" id=\"sk-estimator-id-1\" type=\"checkbox\" ><label for=\"sk-estimator-id-1\" class=\"sk-toggleable__label sk-toggleable__label-arrow\">Pipeline</label><div class=\"sk-toggleable__content\"><pre>Pipeline(steps=[(&#x27;trf1&#x27;,\n",
              "                 ColumnTransformer(remainder=&#x27;passthrough&#x27;,\n",
              "                                   transformers=[(&#x27;impute_age&#x27;, SimpleImputer(),\n",
              "                                                  [0, 3, 6, 10, 11, 12]),\n",
              "                                                 (&#x27;emp_length&#x27;,\n",
              "                                                  SimpleImputer(strategy=&#x27;most_frequent&#x27;),\n",
              "                                                  [4])])),\n",
              "                (&#x27;trf2&#x27;,\n",
              "                 ColumnTransformer(remainder=&#x27;passthrough&#x27;,\n",
              "                                   transformers=[(&#x27;onehot_categorical&#x27;,\n",
              "                                                  OneHotEncoder(handle_unknown=&#x27;ignore&#x27;,\n",
              "                                                                sparse=False),\n",
              "                                                  [7, 8, 9])])),\n",
              "                (&#x27;trf3&#x27;,\n",
              "                 ColumnTransformer(transformers=[(&#x27;scale&#x27;, MinMaxScaler(),\n",
              "                                                  slice(0, 10, None))])),\n",
              "                (&#x27;trf4&#x27;,\n",
              "                 SelectKBest(k=9,\n",
              "                             score_func=&lt;function chi2 at 0x7e3e67060310&gt;)),\n",
              "                (&#x27;trf5&#x27;, DecisionTreeClassifier())])</pre></div></div></div><div class=\"sk-serial\"><div class=\"sk-item sk-dashed-wrapped\"><div class=\"sk-label-container\"><div class=\"sk-label sk-toggleable\"><input class=\"sk-toggleable__control sk-hidden--visually\" id=\"sk-estimator-id-2\" type=\"checkbox\" ><label for=\"sk-estimator-id-2\" class=\"sk-toggleable__label sk-toggleable__label-arrow\">trf1: ColumnTransformer</label><div class=\"sk-toggleable__content\"><pre>ColumnTransformer(remainder=&#x27;passthrough&#x27;,\n",
              "                  transformers=[(&#x27;impute_age&#x27;, SimpleImputer(),\n",
              "                                 [0, 3, 6, 10, 11, 12]),\n",
              "                                (&#x27;emp_length&#x27;,\n",
              "                                 SimpleImputer(strategy=&#x27;most_frequent&#x27;),\n",
              "                                 [4])])</pre></div></div></div><div class=\"sk-parallel\"><div class=\"sk-parallel-item\"><div class=\"sk-item\"><div class=\"sk-label-container\"><div class=\"sk-label sk-toggleable\"><input class=\"sk-toggleable__control sk-hidden--visually\" id=\"sk-estimator-id-3\" type=\"checkbox\" ><label for=\"sk-estimator-id-3\" class=\"sk-toggleable__label sk-toggleable__label-arrow\">impute_age</label><div class=\"sk-toggleable__content\"><pre>[0, 3, 6, 10, 11, 12]</pre></div></div></div><div class=\"sk-serial\"><div class=\"sk-item\"><div class=\"sk-estimator sk-toggleable\"><input class=\"sk-toggleable__control sk-hidden--visually\" id=\"sk-estimator-id-4\" type=\"checkbox\" ><label for=\"sk-estimator-id-4\" class=\"sk-toggleable__label sk-toggleable__label-arrow\">SimpleImputer</label><div class=\"sk-toggleable__content\"><pre>SimpleImputer()</pre></div></div></div></div></div></div><div class=\"sk-parallel-item\"><div class=\"sk-item\"><div class=\"sk-label-container\"><div class=\"sk-label sk-toggleable\"><input class=\"sk-toggleable__control sk-hidden--visually\" id=\"sk-estimator-id-5\" type=\"checkbox\" ><label for=\"sk-estimator-id-5\" class=\"sk-toggleable__label sk-toggleable__label-arrow\">emp_length</label><div class=\"sk-toggleable__content\"><pre>[4]</pre></div></div></div><div class=\"sk-serial\"><div class=\"sk-item\"><div class=\"sk-estimator sk-toggleable\"><input class=\"sk-toggleable__control sk-hidden--visually\" id=\"sk-estimator-id-6\" type=\"checkbox\" ><label for=\"sk-estimator-id-6\" class=\"sk-toggleable__label sk-toggleable__label-arrow\">SimpleImputer</label><div class=\"sk-toggleable__content\"><pre>SimpleImputer(strategy=&#x27;most_frequent&#x27;)</pre></div></div></div></div></div></div><div class=\"sk-parallel-item\"><div class=\"sk-item\"><div class=\"sk-label-container\"><div class=\"sk-label sk-toggleable\"><input class=\"sk-toggleable__control sk-hidden--visually\" id=\"sk-estimator-id-7\" type=\"checkbox\" ><label for=\"sk-estimator-id-7\" class=\"sk-toggleable__label sk-toggleable__label-arrow\">remainder</label><div class=\"sk-toggleable__content\"><pre>[&#x27;term&#x27;, &#x27;int_rate&#x27;, &#x27;home_ownership&#x27;, &#x27;verification_status&#x27;, &#x27;loan_status&#x27;, &#x27;purpose&#x27;]</pre></div></div></div><div class=\"sk-serial\"><div class=\"sk-item\"><div class=\"sk-estimator sk-toggleable\"><input class=\"sk-toggleable__control sk-hidden--visually\" id=\"sk-estimator-id-8\" type=\"checkbox\" ><label for=\"sk-estimator-id-8\" class=\"sk-toggleable__label sk-toggleable__label-arrow\">passthrough</label><div class=\"sk-toggleable__content\"><pre>passthrough</pre></div></div></div></div></div></div></div></div><div class=\"sk-item sk-dashed-wrapped\"><div class=\"sk-label-container\"><div class=\"sk-label sk-toggleable\"><input class=\"sk-toggleable__control sk-hidden--visually\" id=\"sk-estimator-id-9\" type=\"checkbox\" ><label for=\"sk-estimator-id-9\" class=\"sk-toggleable__label sk-toggleable__label-arrow\">trf2: ColumnTransformer</label><div class=\"sk-toggleable__content\"><pre>ColumnTransformer(remainder=&#x27;passthrough&#x27;,\n",
              "                  transformers=[(&#x27;onehot_categorical&#x27;,\n",
              "                                 OneHotEncoder(handle_unknown=&#x27;ignore&#x27;,\n",
              "                                               sparse=False),\n",
              "                                 [7, 8, 9])])</pre></div></div></div><div class=\"sk-parallel\"><div class=\"sk-parallel-item\"><div class=\"sk-item\"><div class=\"sk-label-container\"><div class=\"sk-label sk-toggleable\"><input class=\"sk-toggleable__control sk-hidden--visually\" id=\"sk-estimator-id-10\" type=\"checkbox\" ><label for=\"sk-estimator-id-10\" class=\"sk-toggleable__label sk-toggleable__label-arrow\">onehot_categorical</label><div class=\"sk-toggleable__content\"><pre>[7, 8, 9]</pre></div></div></div><div class=\"sk-serial\"><div class=\"sk-item\"><div class=\"sk-estimator sk-toggleable\"><input class=\"sk-toggleable__control sk-hidden--visually\" id=\"sk-estimator-id-11\" type=\"checkbox\" ><label for=\"sk-estimator-id-11\" class=\"sk-toggleable__label sk-toggleable__label-arrow\">OneHotEncoder</label><div class=\"sk-toggleable__content\"><pre>OneHotEncoder(handle_unknown=&#x27;ignore&#x27;, sparse=False)</pre></div></div></div></div></div></div><div class=\"sk-parallel-item\"><div class=\"sk-item\"><div class=\"sk-label-container\"><div class=\"sk-label sk-toggleable\"><input class=\"sk-toggleable__control sk-hidden--visually\" id=\"sk-estimator-id-12\" type=\"checkbox\" ><label for=\"sk-estimator-id-12\" class=\"sk-toggleable__label sk-toggleable__label-arrow\">remainder</label><div class=\"sk-toggleable__content\"><pre>[0, 1, 2, 3, 4, 5, 6, 10, 11, 12]</pre></div></div></div><div class=\"sk-serial\"><div class=\"sk-item\"><div class=\"sk-estimator sk-toggleable\"><input class=\"sk-toggleable__control sk-hidden--visually\" id=\"sk-estimator-id-13\" type=\"checkbox\" ><label for=\"sk-estimator-id-13\" class=\"sk-toggleable__label sk-toggleable__label-arrow\">passthrough</label><div class=\"sk-toggleable__content\"><pre>passthrough</pre></div></div></div></div></div></div></div></div><div class=\"sk-item sk-dashed-wrapped\"><div class=\"sk-label-container\"><div class=\"sk-label sk-toggleable\"><input class=\"sk-toggleable__control sk-hidden--visually\" id=\"sk-estimator-id-14\" type=\"checkbox\" ><label for=\"sk-estimator-id-14\" class=\"sk-toggleable__label sk-toggleable__label-arrow\">trf3: ColumnTransformer</label><div class=\"sk-toggleable__content\"><pre>ColumnTransformer(transformers=[(&#x27;scale&#x27;, MinMaxScaler(), slice(0, 10, None))])</pre></div></div></div><div class=\"sk-parallel\"><div class=\"sk-parallel-item\"><div class=\"sk-item\"><div class=\"sk-label-container\"><div class=\"sk-label sk-toggleable\"><input class=\"sk-toggleable__control sk-hidden--visually\" id=\"sk-estimator-id-15\" type=\"checkbox\" ><label for=\"sk-estimator-id-15\" class=\"sk-toggleable__label sk-toggleable__label-arrow\">scale</label><div class=\"sk-toggleable__content\"><pre>slice(0, 10, None)</pre></div></div></div><div class=\"sk-serial\"><div class=\"sk-item\"><div class=\"sk-estimator sk-toggleable\"><input class=\"sk-toggleable__control sk-hidden--visually\" id=\"sk-estimator-id-16\" type=\"checkbox\" ><label for=\"sk-estimator-id-16\" class=\"sk-toggleable__label sk-toggleable__label-arrow\">MinMaxScaler</label><div class=\"sk-toggleable__content\"><pre>MinMaxScaler()</pre></div></div></div></div></div></div></div></div><div class=\"sk-item\"><div class=\"sk-estimator sk-toggleable\"><input class=\"sk-toggleable__control sk-hidden--visually\" id=\"sk-estimator-id-17\" type=\"checkbox\" ><label for=\"sk-estimator-id-17\" class=\"sk-toggleable__label sk-toggleable__label-arrow\">SelectKBest</label><div class=\"sk-toggleable__content\"><pre>SelectKBest(k=9, score_func=&lt;function chi2 at 0x7e3e67060310&gt;)</pre></div></div></div><div class=\"sk-item\"><div class=\"sk-estimator sk-toggleable\"><input class=\"sk-toggleable__control sk-hidden--visually\" id=\"sk-estimator-id-18\" type=\"checkbox\" ><label for=\"sk-estimator-id-18\" class=\"sk-toggleable__label sk-toggleable__label-arrow\">DecisionTreeClassifier</label><div class=\"sk-toggleable__content\"><pre>DecisionTreeClassifier()</pre></div></div></div></div></div></div></div>"
            ]
          },
          "metadata": {},
          "execution_count": 89
        }
      ]
    },
    {
      "cell_type": "code",
      "source": [
        "from sklearn import set_config\n",
        "set_config(display=\"diagram\")\n",
        "pipe"
      ],
      "metadata": {
        "colab": {
          "base_uri": "https://localhost:8080/",
          "height": 474
        },
        "id": "Lgho9KpJGfRI",
        "outputId": "bc741d1d-77ee-4ef6-b869-542f87f42f45"
      },
      "execution_count": 90,
      "outputs": [
        {
          "output_type": "execute_result",
          "data": {
            "text/plain": [
              "Pipeline(steps=[('trf1',\n",
              "                 ColumnTransformer(remainder='passthrough',\n",
              "                                   transformers=[('impute_age', SimpleImputer(),\n",
              "                                                  [0, 3, 6, 10, 11, 12]),\n",
              "                                                 ('emp_length',\n",
              "                                                  SimpleImputer(strategy='most_frequent'),\n",
              "                                                  [4])])),\n",
              "                ('trf2',\n",
              "                 ColumnTransformer(remainder='passthrough',\n",
              "                                   transformers=[('onehot_categorical',\n",
              "                                                  OneHotEncoder(handle_unknown='ignore',\n",
              "                                                                sparse=False),\n",
              "                                                  [7, 8, 9])])),\n",
              "                ('trf3',\n",
              "                 ColumnTransformer(transformers=[('scale', MinMaxScaler(),\n",
              "                                                  slice(0, 10, None))])),\n",
              "                ('trf4',\n",
              "                 SelectKBest(k=9,\n",
              "                             score_func=<function chi2 at 0x7e3e67060310>)),\n",
              "                ('trf5', DecisionTreeClassifier())])"
            ],
            "text/html": [
              "<style>#sk-container-id-2 {color: black;background-color: white;}#sk-container-id-2 pre{padding: 0;}#sk-container-id-2 div.sk-toggleable {background-color: white;}#sk-container-id-2 label.sk-toggleable__label {cursor: pointer;display: block;width: 100%;margin-bottom: 0;padding: 0.3em;box-sizing: border-box;text-align: center;}#sk-container-id-2 label.sk-toggleable__label-arrow:before {content: \"▸\";float: left;margin-right: 0.25em;color: #696969;}#sk-container-id-2 label.sk-toggleable__label-arrow:hover:before {color: black;}#sk-container-id-2 div.sk-estimator:hover label.sk-toggleable__label-arrow:before {color: black;}#sk-container-id-2 div.sk-toggleable__content {max-height: 0;max-width: 0;overflow: hidden;text-align: left;background-color: #f0f8ff;}#sk-container-id-2 div.sk-toggleable__content pre {margin: 0.2em;color: black;border-radius: 0.25em;background-color: #f0f8ff;}#sk-container-id-2 input.sk-toggleable__control:checked~div.sk-toggleable__content {max-height: 200px;max-width: 100%;overflow: auto;}#sk-container-id-2 input.sk-toggleable__control:checked~label.sk-toggleable__label-arrow:before {content: \"▾\";}#sk-container-id-2 div.sk-estimator input.sk-toggleable__control:checked~label.sk-toggleable__label {background-color: #d4ebff;}#sk-container-id-2 div.sk-label input.sk-toggleable__control:checked~label.sk-toggleable__label {background-color: #d4ebff;}#sk-container-id-2 input.sk-hidden--visually {border: 0;clip: rect(1px 1px 1px 1px);clip: rect(1px, 1px, 1px, 1px);height: 1px;margin: -1px;overflow: hidden;padding: 0;position: absolute;width: 1px;}#sk-container-id-2 div.sk-estimator {font-family: monospace;background-color: #f0f8ff;border: 1px dotted black;border-radius: 0.25em;box-sizing: border-box;margin-bottom: 0.5em;}#sk-container-id-2 div.sk-estimator:hover {background-color: #d4ebff;}#sk-container-id-2 div.sk-parallel-item::after {content: \"\";width: 100%;border-bottom: 1px solid gray;flex-grow: 1;}#sk-container-id-2 div.sk-label:hover label.sk-toggleable__label {background-color: #d4ebff;}#sk-container-id-2 div.sk-serial::before {content: \"\";position: absolute;border-left: 1px solid gray;box-sizing: border-box;top: 0;bottom: 0;left: 50%;z-index: 0;}#sk-container-id-2 div.sk-serial {display: flex;flex-direction: column;align-items: center;background-color: white;padding-right: 0.2em;padding-left: 0.2em;position: relative;}#sk-container-id-2 div.sk-item {position: relative;z-index: 1;}#sk-container-id-2 div.sk-parallel {display: flex;align-items: stretch;justify-content: center;background-color: white;position: relative;}#sk-container-id-2 div.sk-item::before, #sk-container-id-2 div.sk-parallel-item::before {content: \"\";position: absolute;border-left: 1px solid gray;box-sizing: border-box;top: 0;bottom: 0;left: 50%;z-index: -1;}#sk-container-id-2 div.sk-parallel-item {display: flex;flex-direction: column;z-index: 1;position: relative;background-color: white;}#sk-container-id-2 div.sk-parallel-item:first-child::after {align-self: flex-end;width: 50%;}#sk-container-id-2 div.sk-parallel-item:last-child::after {align-self: flex-start;width: 50%;}#sk-container-id-2 div.sk-parallel-item:only-child::after {width: 0;}#sk-container-id-2 div.sk-dashed-wrapped {border: 1px dashed gray;margin: 0 0.4em 0.5em 0.4em;box-sizing: border-box;padding-bottom: 0.4em;background-color: white;}#sk-container-id-2 div.sk-label label {font-family: monospace;font-weight: bold;display: inline-block;line-height: 1.2em;}#sk-container-id-2 div.sk-label-container {text-align: center;}#sk-container-id-2 div.sk-container {/* jupyter's `normalize.less` sets `[hidden] { display: none; }` but bootstrap.min.css set `[hidden] { display: none !important; }` so we also need the `!important` here to be able to override the default hidden behavior on the sphinx rendered scikit-learn.org. See: https://github.com/scikit-learn/scikit-learn/issues/21755 */display: inline-block !important;position: relative;}#sk-container-id-2 div.sk-text-repr-fallback {display: none;}</style><div id=\"sk-container-id-2\" class=\"sk-top-container\"><div class=\"sk-text-repr-fallback\"><pre>Pipeline(steps=[(&#x27;trf1&#x27;,\n",
              "                 ColumnTransformer(remainder=&#x27;passthrough&#x27;,\n",
              "                                   transformers=[(&#x27;impute_age&#x27;, SimpleImputer(),\n",
              "                                                  [0, 3, 6, 10, 11, 12]),\n",
              "                                                 (&#x27;emp_length&#x27;,\n",
              "                                                  SimpleImputer(strategy=&#x27;most_frequent&#x27;),\n",
              "                                                  [4])])),\n",
              "                (&#x27;trf2&#x27;,\n",
              "                 ColumnTransformer(remainder=&#x27;passthrough&#x27;,\n",
              "                                   transformers=[(&#x27;onehot_categorical&#x27;,\n",
              "                                                  OneHotEncoder(handle_unknown=&#x27;ignore&#x27;,\n",
              "                                                                sparse=False),\n",
              "                                                  [7, 8, 9])])),\n",
              "                (&#x27;trf3&#x27;,\n",
              "                 ColumnTransformer(transformers=[(&#x27;scale&#x27;, MinMaxScaler(),\n",
              "                                                  slice(0, 10, None))])),\n",
              "                (&#x27;trf4&#x27;,\n",
              "                 SelectKBest(k=9,\n",
              "                             score_func=&lt;function chi2 at 0x7e3e67060310&gt;)),\n",
              "                (&#x27;trf5&#x27;, DecisionTreeClassifier())])</pre><b>In a Jupyter environment, please rerun this cell to show the HTML representation or trust the notebook. <br />On GitHub, the HTML representation is unable to render, please try loading this page with nbviewer.org.</b></div><div class=\"sk-container\" hidden><div class=\"sk-item sk-dashed-wrapped\"><div class=\"sk-label-container\"><div class=\"sk-label sk-toggleable\"><input class=\"sk-toggleable__control sk-hidden--visually\" id=\"sk-estimator-id-19\" type=\"checkbox\" ><label for=\"sk-estimator-id-19\" class=\"sk-toggleable__label sk-toggleable__label-arrow\">Pipeline</label><div class=\"sk-toggleable__content\"><pre>Pipeline(steps=[(&#x27;trf1&#x27;,\n",
              "                 ColumnTransformer(remainder=&#x27;passthrough&#x27;,\n",
              "                                   transformers=[(&#x27;impute_age&#x27;, SimpleImputer(),\n",
              "                                                  [0, 3, 6, 10, 11, 12]),\n",
              "                                                 (&#x27;emp_length&#x27;,\n",
              "                                                  SimpleImputer(strategy=&#x27;most_frequent&#x27;),\n",
              "                                                  [4])])),\n",
              "                (&#x27;trf2&#x27;,\n",
              "                 ColumnTransformer(remainder=&#x27;passthrough&#x27;,\n",
              "                                   transformers=[(&#x27;onehot_categorical&#x27;,\n",
              "                                                  OneHotEncoder(handle_unknown=&#x27;ignore&#x27;,\n",
              "                                                                sparse=False),\n",
              "                                                  [7, 8, 9])])),\n",
              "                (&#x27;trf3&#x27;,\n",
              "                 ColumnTransformer(transformers=[(&#x27;scale&#x27;, MinMaxScaler(),\n",
              "                                                  slice(0, 10, None))])),\n",
              "                (&#x27;trf4&#x27;,\n",
              "                 SelectKBest(k=9,\n",
              "                             score_func=&lt;function chi2 at 0x7e3e67060310&gt;)),\n",
              "                (&#x27;trf5&#x27;, DecisionTreeClassifier())])</pre></div></div></div><div class=\"sk-serial\"><div class=\"sk-item sk-dashed-wrapped\"><div class=\"sk-label-container\"><div class=\"sk-label sk-toggleable\"><input class=\"sk-toggleable__control sk-hidden--visually\" id=\"sk-estimator-id-20\" type=\"checkbox\" ><label for=\"sk-estimator-id-20\" class=\"sk-toggleable__label sk-toggleable__label-arrow\">trf1: ColumnTransformer</label><div class=\"sk-toggleable__content\"><pre>ColumnTransformer(remainder=&#x27;passthrough&#x27;,\n",
              "                  transformers=[(&#x27;impute_age&#x27;, SimpleImputer(),\n",
              "                                 [0, 3, 6, 10, 11, 12]),\n",
              "                                (&#x27;emp_length&#x27;,\n",
              "                                 SimpleImputer(strategy=&#x27;most_frequent&#x27;),\n",
              "                                 [4])])</pre></div></div></div><div class=\"sk-parallel\"><div class=\"sk-parallel-item\"><div class=\"sk-item\"><div class=\"sk-label-container\"><div class=\"sk-label sk-toggleable\"><input class=\"sk-toggleable__control sk-hidden--visually\" id=\"sk-estimator-id-21\" type=\"checkbox\" ><label for=\"sk-estimator-id-21\" class=\"sk-toggleable__label sk-toggleable__label-arrow\">impute_age</label><div class=\"sk-toggleable__content\"><pre>[0, 3, 6, 10, 11, 12]</pre></div></div></div><div class=\"sk-serial\"><div class=\"sk-item\"><div class=\"sk-estimator sk-toggleable\"><input class=\"sk-toggleable__control sk-hidden--visually\" id=\"sk-estimator-id-22\" type=\"checkbox\" ><label for=\"sk-estimator-id-22\" class=\"sk-toggleable__label sk-toggleable__label-arrow\">SimpleImputer</label><div class=\"sk-toggleable__content\"><pre>SimpleImputer()</pre></div></div></div></div></div></div><div class=\"sk-parallel-item\"><div class=\"sk-item\"><div class=\"sk-label-container\"><div class=\"sk-label sk-toggleable\"><input class=\"sk-toggleable__control sk-hidden--visually\" id=\"sk-estimator-id-23\" type=\"checkbox\" ><label for=\"sk-estimator-id-23\" class=\"sk-toggleable__label sk-toggleable__label-arrow\">emp_length</label><div class=\"sk-toggleable__content\"><pre>[4]</pre></div></div></div><div class=\"sk-serial\"><div class=\"sk-item\"><div class=\"sk-estimator sk-toggleable\"><input class=\"sk-toggleable__control sk-hidden--visually\" id=\"sk-estimator-id-24\" type=\"checkbox\" ><label for=\"sk-estimator-id-24\" class=\"sk-toggleable__label sk-toggleable__label-arrow\">SimpleImputer</label><div class=\"sk-toggleable__content\"><pre>SimpleImputer(strategy=&#x27;most_frequent&#x27;)</pre></div></div></div></div></div></div><div class=\"sk-parallel-item\"><div class=\"sk-item\"><div class=\"sk-label-container\"><div class=\"sk-label sk-toggleable\"><input class=\"sk-toggleable__control sk-hidden--visually\" id=\"sk-estimator-id-25\" type=\"checkbox\" ><label for=\"sk-estimator-id-25\" class=\"sk-toggleable__label sk-toggleable__label-arrow\">remainder</label><div class=\"sk-toggleable__content\"><pre>[&#x27;term&#x27;, &#x27;int_rate&#x27;, &#x27;home_ownership&#x27;, &#x27;verification_status&#x27;, &#x27;loan_status&#x27;, &#x27;purpose&#x27;]</pre></div></div></div><div class=\"sk-serial\"><div class=\"sk-item\"><div class=\"sk-estimator sk-toggleable\"><input class=\"sk-toggleable__control sk-hidden--visually\" id=\"sk-estimator-id-26\" type=\"checkbox\" ><label for=\"sk-estimator-id-26\" class=\"sk-toggleable__label sk-toggleable__label-arrow\">passthrough</label><div class=\"sk-toggleable__content\"><pre>passthrough</pre></div></div></div></div></div></div></div></div><div class=\"sk-item sk-dashed-wrapped\"><div class=\"sk-label-container\"><div class=\"sk-label sk-toggleable\"><input class=\"sk-toggleable__control sk-hidden--visually\" id=\"sk-estimator-id-27\" type=\"checkbox\" ><label for=\"sk-estimator-id-27\" class=\"sk-toggleable__label sk-toggleable__label-arrow\">trf2: ColumnTransformer</label><div class=\"sk-toggleable__content\"><pre>ColumnTransformer(remainder=&#x27;passthrough&#x27;,\n",
              "                  transformers=[(&#x27;onehot_categorical&#x27;,\n",
              "                                 OneHotEncoder(handle_unknown=&#x27;ignore&#x27;,\n",
              "                                               sparse=False),\n",
              "                                 [7, 8, 9])])</pre></div></div></div><div class=\"sk-parallel\"><div class=\"sk-parallel-item\"><div class=\"sk-item\"><div class=\"sk-label-container\"><div class=\"sk-label sk-toggleable\"><input class=\"sk-toggleable__control sk-hidden--visually\" id=\"sk-estimator-id-28\" type=\"checkbox\" ><label for=\"sk-estimator-id-28\" class=\"sk-toggleable__label sk-toggleable__label-arrow\">onehot_categorical</label><div class=\"sk-toggleable__content\"><pre>[7, 8, 9]</pre></div></div></div><div class=\"sk-serial\"><div class=\"sk-item\"><div class=\"sk-estimator sk-toggleable\"><input class=\"sk-toggleable__control sk-hidden--visually\" id=\"sk-estimator-id-29\" type=\"checkbox\" ><label for=\"sk-estimator-id-29\" class=\"sk-toggleable__label sk-toggleable__label-arrow\">OneHotEncoder</label><div class=\"sk-toggleable__content\"><pre>OneHotEncoder(handle_unknown=&#x27;ignore&#x27;, sparse=False)</pre></div></div></div></div></div></div><div class=\"sk-parallel-item\"><div class=\"sk-item\"><div class=\"sk-label-container\"><div class=\"sk-label sk-toggleable\"><input class=\"sk-toggleable__control sk-hidden--visually\" id=\"sk-estimator-id-30\" type=\"checkbox\" ><label for=\"sk-estimator-id-30\" class=\"sk-toggleable__label sk-toggleable__label-arrow\">remainder</label><div class=\"sk-toggleable__content\"><pre>[0, 1, 2, 3, 4, 5, 6, 10, 11, 12]</pre></div></div></div><div class=\"sk-serial\"><div class=\"sk-item\"><div class=\"sk-estimator sk-toggleable\"><input class=\"sk-toggleable__control sk-hidden--visually\" id=\"sk-estimator-id-31\" type=\"checkbox\" ><label for=\"sk-estimator-id-31\" class=\"sk-toggleable__label sk-toggleable__label-arrow\">passthrough</label><div class=\"sk-toggleable__content\"><pre>passthrough</pre></div></div></div></div></div></div></div></div><div class=\"sk-item sk-dashed-wrapped\"><div class=\"sk-label-container\"><div class=\"sk-label sk-toggleable\"><input class=\"sk-toggleable__control sk-hidden--visually\" id=\"sk-estimator-id-32\" type=\"checkbox\" ><label for=\"sk-estimator-id-32\" class=\"sk-toggleable__label sk-toggleable__label-arrow\">trf3: ColumnTransformer</label><div class=\"sk-toggleable__content\"><pre>ColumnTransformer(transformers=[(&#x27;scale&#x27;, MinMaxScaler(), slice(0, 10, None))])</pre></div></div></div><div class=\"sk-parallel\"><div class=\"sk-parallel-item\"><div class=\"sk-item\"><div class=\"sk-label-container\"><div class=\"sk-label sk-toggleable\"><input class=\"sk-toggleable__control sk-hidden--visually\" id=\"sk-estimator-id-33\" type=\"checkbox\" ><label for=\"sk-estimator-id-33\" class=\"sk-toggleable__label sk-toggleable__label-arrow\">scale</label><div class=\"sk-toggleable__content\"><pre>slice(0, 10, None)</pre></div></div></div><div class=\"sk-serial\"><div class=\"sk-item\"><div class=\"sk-estimator sk-toggleable\"><input class=\"sk-toggleable__control sk-hidden--visually\" id=\"sk-estimator-id-34\" type=\"checkbox\" ><label for=\"sk-estimator-id-34\" class=\"sk-toggleable__label sk-toggleable__label-arrow\">MinMaxScaler</label><div class=\"sk-toggleable__content\"><pre>MinMaxScaler()</pre></div></div></div></div></div></div></div></div><div class=\"sk-item\"><div class=\"sk-estimator sk-toggleable\"><input class=\"sk-toggleable__control sk-hidden--visually\" id=\"sk-estimator-id-35\" type=\"checkbox\" ><label for=\"sk-estimator-id-35\" class=\"sk-toggleable__label sk-toggleable__label-arrow\">SelectKBest</label><div class=\"sk-toggleable__content\"><pre>SelectKBest(k=9, score_func=&lt;function chi2 at 0x7e3e67060310&gt;)</pre></div></div></div><div class=\"sk-item\"><div class=\"sk-estimator sk-toggleable\"><input class=\"sk-toggleable__control sk-hidden--visually\" id=\"sk-estimator-id-36\" type=\"checkbox\" ><label for=\"sk-estimator-id-36\" class=\"sk-toggleable__label sk-toggleable__label-arrow\">DecisionTreeClassifier</label><div class=\"sk-toggleable__content\"><pre>DecisionTreeClassifier()</pre></div></div></div></div></div></div></div>"
            ]
          },
          "metadata": {},
          "execution_count": 90
        }
      ]
    },
    {
      "cell_type": "code",
      "source": [
        "y_pred = pipe.predict(X_train)\n",
        "y_pred"
      ],
      "metadata": {
        "colab": {
          "base_uri": "https://localhost:8080/"
        },
        "id": "kI6YE9cNN6Im",
        "outputId": "bca7d4a3-f9e8-42e5-f54a-5c2f47ede73f"
      },
      "execution_count": 91,
      "outputs": [
        {
          "output_type": "execute_result",
          "data": {
            "text/plain": [
              "array([0, 0, 0, ..., 0, 0, 0])"
            ]
          },
          "metadata": {},
          "execution_count": 91
        }
      ]
    },
    {
      "cell_type": "code",
      "source": [
        "from sklearn.metrics import accuracy_score\n",
        "accuracy_score(y_train,y_pred)"
      ],
      "metadata": {
        "colab": {
          "base_uri": "https://localhost:8080/"
        },
        "id": "nz_-rWIbN8kF",
        "outputId": "344b1b4f-0539-4eb7-d238-ef33af65d0f3"
      },
      "execution_count": 92,
      "outputs": [
        {
          "output_type": "execute_result",
          "data": {
            "text/plain": [
              "0.8502143970893971"
            ]
          },
          "metadata": {},
          "execution_count": 92
        }
      ]
    },
    {
      "cell_type": "code",
      "source": [],
      "metadata": {
        "id": "Roc1lQOdOCLu"
      },
      "execution_count": null,
      "outputs": []
    }
  ]
}